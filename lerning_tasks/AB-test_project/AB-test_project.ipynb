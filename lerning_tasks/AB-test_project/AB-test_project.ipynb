{
 "cells": [
  {
   "cell_type": "markdown",
   "metadata": {},
   "source": [
    "## Оглавление\n",
    "\n",
    "1. [Просмотр данных из файлов](#start)\n",
    "2. [Предобработка данных](#preprocessing)\n",
    "2. [Оценка корректности проведения теста](#correctness_test)\n",
    "    * [Совпадение времени теста с другими событиями](#2.1)\n",
    "    * [Пользователи попавшие в обе тестовые группы](#2.2)\n",
    "    * [Пользователи попавшие в оба теста](#2.3)\n",
    "    * [Распределение тестовых групп](#2.4)\n",
    "3. [Исследовательский анализ данных](#eda)\n",
    "    * [Формирование общей таблицы](#3.1)\n",
    "    * [Количество событий в выборке](#3.2)\n",
    "    * [Воронка конверсий по выборкам](#3.3)\n",
    "4. [Оценка результата А/В-теста](#verification)\n",
    "6. [Общий вывод](#conclusion)"
   ]
  },
  {
   "cell_type": "markdown",
   "metadata": {},
   "source": [
    "## Задание\n",
    "\n",
    "**Контекст**\n",
    "\n",
    "Наша задача — провести оценку результатов A/B-теста. В нашем распоряжении есть датасет с действиями пользователей, техническое задание и несколько вспомогательных датасетов.\n",
    "\n",
    "-\tОценить корректность проведения теста;\n",
    "-\tПроанализировать результаты теста.\n",
    "\n",
    "Чтобы оценить корректность проведения теста, необходимо проверить:\n",
    "\n",
    "-\tпересечение тестовой аудитории с конкурирующим тестом;\n",
    "-\tсовпадение теста и маркетинговых событий, другие проблемы временных границ теста.\n",
    "\n",
    "**Техническое задание**\n",
    "\n",
    " - Название теста: recommender_system_test;\n",
    " - группы: А — контрольная, B — новая платёжная воронка;\n",
    " - дата запуска: 2020-12-07;\n",
    " - дата остановки набора новых пользователей: 2020-12-21;\n",
    " - дата остановки: 2021-01-04;\n",
    " - аудитория: 15% новых пользователей из региона EU;\n",
    " - назначение теста: тестирование изменений, связанных с внедрением улучшенной рекомендательной системы;\n",
    " - ожидаемое количество участников теста: 6000;\n",
    " - ожидаемый эффект: за 14 дней с момента регистрации пользователи покажут улучшение каждой метрики не менее, чем на 10%:\n",
    "  <br>\n",
    "\t<br>а. конверсии в просмотр карточек товаров — событие product_page;\n",
    "\t<br>b. просмотры корзины — product_cart;\n",
    "\t<br>c. покупки — purchase.\n",
    "\n",
    "**Описание данных**\n",
    "\n",
    "ab_project_marketing_events.csv — календарь маркетинговых событий на 2020 год.\n",
    " - name — название маркетингового события;\n",
    " - regions — регионы, в которых будет проводиться рекламная кампания;\n",
    " - start_dt — дата начала кампании;\n",
    " - finish_dt — дата завершения кампании.\n",
    "\n",
    "final_ab_new_users.csv — пользователи, зарегистрировавшиеся с 7 по 21 декабря 2020 года.\n",
    " - user_id — идентификатор пользователя;\n",
    " - first_date — дата регистрации;\n",
    " - region — регион пользователя;\n",
    " - device — устройство, с которого происходила регистрация.\n",
    "\n",
    "final_ab_events.csv — действия новых пользователей в период с 7 декабря 2020 по 4 января 2021 года.\n",
    " - user_id — идентификатор пользователя;\n",
    " - event_dt — дата и время покупки;\n",
    " - event_name — тип события;\n",
    " - details — дополнительные данные о событии. Например, для покупок, purchase, в этом поле хранится стоимость покупки в долларах.\n",
    "\n",
    "final_ab_participants.csv — таблица участников тестов.\n",
    " - user_id — идентификатор пользователя;\n",
    " - ab_test — название теста;\n",
    " - group — группа пользователя.\n"
   ]
  },
  {
   "cell_type": "markdown",
   "metadata": {},
   "source": [
    "## <a id=\"start\">Просмотр данных из файлов</a>"
   ]
  },
  {
   "cell_type": "code",
   "execution_count": 1,
   "metadata": {},
   "outputs": [],
   "source": [
    "import pandas as pd\n",
    "import numpy as np\n",
    "import seaborn as sns\n",
    "import matplotlib.pyplot as plt\n",
    "import plotly.graph_objects as go\n",
    "from scipy import stats as st\n",
    "import math as mth\n",
    "import warnings\n",
    "%matplotlib inline"
   ]
  },
  {
   "cell_type": "code",
   "execution_count": 2,
   "metadata": {},
   "outputs": [],
   "source": [
    "# будем игнорировать небольшие предупреждения\n",
    "warnings.filterwarnings('ignore')\n",
    "# значения типа float приведем к двум знакам после запятой\n",
    "pd.set_option('display.float_format', lambda x: '%.2f' % x)"
   ]
  },
  {
   "cell_type": "code",
   "execution_count": 3,
   "metadata": {},
   "outputs": [],
   "source": [
    "# загрузка файла с данными\n",
    "project_events = pd.read_csv('/datasets/ab_project_marketing_events.csv')\n",
    "new_users = pd.read_csv('/datasets/final_ab_new_users.csv')\n",
    "ab_events = pd.read_csv('/datasets/final_ab_events.csv')\n",
    "practicipants = pd.read_csv('/datasets/final_ab_participants.csv')"
   ]
  },
  {
   "cell_type": "code",
   "execution_count": 4,
   "metadata": {},
   "outputs": [
    {
     "name": "stdout",
     "output_type": "stream",
     "text": [
      "Просмотр строк:\n"
     ]
    },
    {
     "data": {
      "text/html": [
       "<div>\n",
       "<style scoped>\n",
       "    .dataframe tbody tr th:only-of-type {\n",
       "        vertical-align: middle;\n",
       "    }\n",
       "\n",
       "    .dataframe tbody tr th {\n",
       "        vertical-align: top;\n",
       "    }\n",
       "\n",
       "    .dataframe thead th {\n",
       "        text-align: right;\n",
       "    }\n",
       "</style>\n",
       "<table border=\"1\" class=\"dataframe\">\n",
       "  <thead>\n",
       "    <tr style=\"text-align: right;\">\n",
       "      <th></th>\n",
       "      <th>name</th>\n",
       "      <th>regions</th>\n",
       "      <th>start_dt</th>\n",
       "      <th>finish_dt</th>\n",
       "    </tr>\n",
       "  </thead>\n",
       "  <tbody>\n",
       "    <tr>\n",
       "      <th>3</th>\n",
       "      <td>Easter Promo</td>\n",
       "      <td>EU, CIS, APAC, N.America</td>\n",
       "      <td>2020-04-12</td>\n",
       "      <td>2020-04-19</td>\n",
       "    </tr>\n",
       "    <tr>\n",
       "      <th>10</th>\n",
       "      <td>CIS New Year Gift Lottery</td>\n",
       "      <td>CIS</td>\n",
       "      <td>2020-12-30</td>\n",
       "      <td>2021-01-07</td>\n",
       "    </tr>\n",
       "    <tr>\n",
       "      <th>1</th>\n",
       "      <td>St. Valentine's Day Giveaway</td>\n",
       "      <td>EU, CIS, APAC, N.America</td>\n",
       "      <td>2020-02-14</td>\n",
       "      <td>2020-02-16</td>\n",
       "    </tr>\n",
       "    <tr>\n",
       "      <th>2</th>\n",
       "      <td>St. Patric's Day Promo</td>\n",
       "      <td>EU, N.America</td>\n",
       "      <td>2020-03-17</td>\n",
       "      <td>2020-03-19</td>\n",
       "    </tr>\n",
       "    <tr>\n",
       "      <th>6</th>\n",
       "      <td>Chinese New Year Promo</td>\n",
       "      <td>APAC</td>\n",
       "      <td>2020-01-25</td>\n",
       "      <td>2020-02-07</td>\n",
       "    </tr>\n",
       "    <tr>\n",
       "      <th>9</th>\n",
       "      <td>Victory Day CIS (May 9th) Event</td>\n",
       "      <td>CIS</td>\n",
       "      <td>2020-05-09</td>\n",
       "      <td>2020-05-11</td>\n",
       "    </tr>\n",
       "    <tr>\n",
       "      <th>12</th>\n",
       "      <td>Single's Day Gift Promo</td>\n",
       "      <td>APAC</td>\n",
       "      <td>2020-11-11</td>\n",
       "      <td>2020-11-12</td>\n",
       "    </tr>\n",
       "    <tr>\n",
       "      <th>5</th>\n",
       "      <td>Black Friday Ads Campaign</td>\n",
       "      <td>EU, CIS, APAC, N.America</td>\n",
       "      <td>2020-11-26</td>\n",
       "      <td>2020-12-01</td>\n",
       "    </tr>\n",
       "    <tr>\n",
       "      <th>13</th>\n",
       "      <td>Chinese Moon Festival</td>\n",
       "      <td>APAC</td>\n",
       "      <td>2020-10-01</td>\n",
       "      <td>2020-10-07</td>\n",
       "    </tr>\n",
       "    <tr>\n",
       "      <th>0</th>\n",
       "      <td>Christmas&amp;New Year Promo</td>\n",
       "      <td>EU, N.America</td>\n",
       "      <td>2020-12-25</td>\n",
       "      <td>2021-01-03</td>\n",
       "    </tr>\n",
       "  </tbody>\n",
       "</table>\n",
       "</div>"
      ],
      "text/plain": [
       "                               name                   regions    start_dt  \\\n",
       "3                      Easter Promo  EU, CIS, APAC, N.America  2020-04-12   \n",
       "10        CIS New Year Gift Lottery                       CIS  2020-12-30   \n",
       "1      St. Valentine's Day Giveaway  EU, CIS, APAC, N.America  2020-02-14   \n",
       "2            St. Patric's Day Promo             EU, N.America  2020-03-17   \n",
       "6            Chinese New Year Promo                      APAC  2020-01-25   \n",
       "9   Victory Day CIS (May 9th) Event                       CIS  2020-05-09   \n",
       "12          Single's Day Gift Promo                      APAC  2020-11-11   \n",
       "5         Black Friday Ads Campaign  EU, CIS, APAC, N.America  2020-11-26   \n",
       "13            Chinese Moon Festival                      APAC  2020-10-01   \n",
       "0          Christmas&New Year Promo             EU, N.America  2020-12-25   \n",
       "\n",
       "     finish_dt  \n",
       "3   2020-04-19  \n",
       "10  2021-01-07  \n",
       "1   2020-02-16  \n",
       "2   2020-03-19  \n",
       "6   2020-02-07  \n",
       "9   2020-05-11  \n",
       "12  2020-11-12  \n",
       "5   2020-12-01  \n",
       "13  2020-10-07  \n",
       "0   2021-01-03  "
      ]
     },
     "metadata": {},
     "output_type": "display_data"
    },
    {
     "name": "stdout",
     "output_type": "stream",
     "text": [
      "Общая информация:\n",
      "<class 'pandas.core.frame.DataFrame'>\n",
      "RangeIndex: 14 entries, 0 to 13\n",
      "Data columns (total 4 columns):\n",
      " #   Column     Non-Null Count  Dtype \n",
      "---  ------     --------------  ----- \n",
      " 0   name       14 non-null     object\n",
      " 1   regions    14 non-null     object\n",
      " 2   start_dt   14 non-null     object\n",
      " 3   finish_dt  14 non-null     object\n",
      "dtypes: object(4)\n",
      "memory usage: 576.0+ bytes\n"
     ]
    },
    {
     "data": {
      "text/plain": [
       "None"
      ]
     },
     "metadata": {},
     "output_type": "display_data"
    },
    {
     "name": "stdout",
     "output_type": "stream",
     "text": [
      "Имена столбцов:\n"
     ]
    },
    {
     "data": {
      "text/plain": [
       "Index(['name', 'regions', 'start_dt', 'finish_dt'], dtype='object')"
      ]
     },
     "metadata": {},
     "output_type": "display_data"
    },
    {
     "name": "stdout",
     "output_type": "stream",
     "text": [
      "Дубликаты:\n"
     ]
    },
    {
     "data": {
      "text/plain": [
       "0"
      ]
     },
     "metadata": {},
     "output_type": "display_data"
    },
    {
     "name": "stdout",
     "output_type": "stream",
     "text": [
      "Пропуски:\n"
     ]
    },
    {
     "data": {
      "text/plain": [
       "name         0\n",
       "regions      0\n",
       "start_dt     0\n",
       "finish_dt    0\n",
       "dtype: int64"
      ]
     },
     "metadata": {},
     "output_type": "display_data"
    },
    {
     "name": "stdout",
     "output_type": "stream",
     "text": [
      "Стат. данные:\n"
     ]
    },
    {
     "data": {
      "text/html": [
       "<div>\n",
       "<style scoped>\n",
       "    .dataframe tbody tr th:only-of-type {\n",
       "        vertical-align: middle;\n",
       "    }\n",
       "\n",
       "    .dataframe tbody tr th {\n",
       "        vertical-align: top;\n",
       "    }\n",
       "\n",
       "    .dataframe thead th {\n",
       "        text-align: right;\n",
       "    }\n",
       "</style>\n",
       "<table border=\"1\" class=\"dataframe\">\n",
       "  <thead>\n",
       "    <tr style=\"text-align: right;\">\n",
       "      <th></th>\n",
       "      <th>name</th>\n",
       "      <th>regions</th>\n",
       "      <th>start_dt</th>\n",
       "      <th>finish_dt</th>\n",
       "    </tr>\n",
       "  </thead>\n",
       "  <tbody>\n",
       "    <tr>\n",
       "      <th>count</th>\n",
       "      <td>14</td>\n",
       "      <td>14</td>\n",
       "      <td>14</td>\n",
       "      <td>14</td>\n",
       "    </tr>\n",
       "    <tr>\n",
       "      <th>unique</th>\n",
       "      <td>14</td>\n",
       "      <td>6</td>\n",
       "      <td>14</td>\n",
       "      <td>14</td>\n",
       "    </tr>\n",
       "    <tr>\n",
       "      <th>top</th>\n",
       "      <td>Christmas&amp;New Year Promo</td>\n",
       "      <td>APAC</td>\n",
       "      <td>2020-12-25</td>\n",
       "      <td>2021-01-03</td>\n",
       "    </tr>\n",
       "    <tr>\n",
       "      <th>freq</th>\n",
       "      <td>1</td>\n",
       "      <td>4</td>\n",
       "      <td>1</td>\n",
       "      <td>1</td>\n",
       "    </tr>\n",
       "  </tbody>\n",
       "</table>\n",
       "</div>"
      ],
      "text/plain": [
       "                            name regions    start_dt   finish_dt\n",
       "count                         14      14          14          14\n",
       "unique                        14       6          14          14\n",
       "top     Christmas&New Year Promo    APAC  2020-12-25  2021-01-03\n",
       "freq                           1       4           1           1"
      ]
     },
     "metadata": {},
     "output_type": "display_data"
    },
    {
     "name": "stdout",
     "output_type": "stream",
     "text": [
      "--------------------------------------------------------------------------------\n",
      "Просмотр строк:\n"
     ]
    },
    {
     "data": {
      "text/html": [
       "<div>\n",
       "<style scoped>\n",
       "    .dataframe tbody tr th:only-of-type {\n",
       "        vertical-align: middle;\n",
       "    }\n",
       "\n",
       "    .dataframe tbody tr th {\n",
       "        vertical-align: top;\n",
       "    }\n",
       "\n",
       "    .dataframe thead th {\n",
       "        text-align: right;\n",
       "    }\n",
       "</style>\n",
       "<table border=\"1\" class=\"dataframe\">\n",
       "  <thead>\n",
       "    <tr style=\"text-align: right;\">\n",
       "      <th></th>\n",
       "      <th>user_id</th>\n",
       "      <th>first_date</th>\n",
       "      <th>region</th>\n",
       "      <th>device</th>\n",
       "    </tr>\n",
       "  </thead>\n",
       "  <tbody>\n",
       "    <tr>\n",
       "      <th>32323</th>\n",
       "      <td>34C60E96F1B6FBC0</td>\n",
       "      <td>2020-12-23</td>\n",
       "      <td>EU</td>\n",
       "      <td>PC</td>\n",
       "    </tr>\n",
       "    <tr>\n",
       "      <th>19436</th>\n",
       "      <td>87C9CF23CC3F31F7</td>\n",
       "      <td>2020-12-08</td>\n",
       "      <td>EU</td>\n",
       "      <td>Android</td>\n",
       "    </tr>\n",
       "    <tr>\n",
       "      <th>27715</th>\n",
       "      <td>87BBAD560DB275B7</td>\n",
       "      <td>2020-12-09</td>\n",
       "      <td>EU</td>\n",
       "      <td>Android</td>\n",
       "    </tr>\n",
       "    <tr>\n",
       "      <th>61573</th>\n",
       "      <td>F1DF95EC1BF887F9</td>\n",
       "      <td>2020-12-20</td>\n",
       "      <td>EU</td>\n",
       "      <td>Mac</td>\n",
       "    </tr>\n",
       "    <tr>\n",
       "      <th>39450</th>\n",
       "      <td>4F99C3295CC8B809</td>\n",
       "      <td>2020-12-11</td>\n",
       "      <td>EU</td>\n",
       "      <td>Android</td>\n",
       "    </tr>\n",
       "    <tr>\n",
       "      <th>21667</th>\n",
       "      <td>E13F843A9F00566C</td>\n",
       "      <td>2020-12-15</td>\n",
       "      <td>EU</td>\n",
       "      <td>Android</td>\n",
       "    </tr>\n",
       "    <tr>\n",
       "      <th>19773</th>\n",
       "      <td>EC6D8450D7ED6FF6</td>\n",
       "      <td>2020-12-08</td>\n",
       "      <td>N.America</td>\n",
       "      <td>iPhone</td>\n",
       "    </tr>\n",
       "    <tr>\n",
       "      <th>43573</th>\n",
       "      <td>7FBE01511E275F37</td>\n",
       "      <td>2020-12-18</td>\n",
       "      <td>EU</td>\n",
       "      <td>Android</td>\n",
       "    </tr>\n",
       "    <tr>\n",
       "      <th>14259</th>\n",
       "      <td>6BCDA4A4A576D8DF</td>\n",
       "      <td>2020-12-21</td>\n",
       "      <td>EU</td>\n",
       "      <td>Android</td>\n",
       "    </tr>\n",
       "    <tr>\n",
       "      <th>21266</th>\n",
       "      <td>95B5928F853C8BD2</td>\n",
       "      <td>2020-12-15</td>\n",
       "      <td>EU</td>\n",
       "      <td>PC</td>\n",
       "    </tr>\n",
       "  </tbody>\n",
       "</table>\n",
       "</div>"
      ],
      "text/plain": [
       "                user_id  first_date     region   device\n",
       "32323  34C60E96F1B6FBC0  2020-12-23         EU       PC\n",
       "19436  87C9CF23CC3F31F7  2020-12-08         EU  Android\n",
       "27715  87BBAD560DB275B7  2020-12-09         EU  Android\n",
       "61573  F1DF95EC1BF887F9  2020-12-20         EU      Mac\n",
       "39450  4F99C3295CC8B809  2020-12-11         EU  Android\n",
       "21667  E13F843A9F00566C  2020-12-15         EU  Android\n",
       "19773  EC6D8450D7ED6FF6  2020-12-08  N.America   iPhone\n",
       "43573  7FBE01511E275F37  2020-12-18         EU  Android\n",
       "14259  6BCDA4A4A576D8DF  2020-12-21         EU  Android\n",
       "21266  95B5928F853C8BD2  2020-12-15         EU       PC"
      ]
     },
     "metadata": {},
     "output_type": "display_data"
    },
    {
     "name": "stdout",
     "output_type": "stream",
     "text": [
      "Общая информация:\n",
      "<class 'pandas.core.frame.DataFrame'>\n",
      "RangeIndex: 61733 entries, 0 to 61732\n",
      "Data columns (total 4 columns):\n",
      " #   Column      Non-Null Count  Dtype \n",
      "---  ------      --------------  ----- \n",
      " 0   user_id     61733 non-null  object\n",
      " 1   first_date  61733 non-null  object\n",
      " 2   region      61733 non-null  object\n",
      " 3   device      61733 non-null  object\n",
      "dtypes: object(4)\n",
      "memory usage: 1.9+ MB\n"
     ]
    },
    {
     "data": {
      "text/plain": [
       "None"
      ]
     },
     "metadata": {},
     "output_type": "display_data"
    },
    {
     "name": "stdout",
     "output_type": "stream",
     "text": [
      "Имена столбцов:\n"
     ]
    },
    {
     "data": {
      "text/plain": [
       "Index(['user_id', 'first_date', 'region', 'device'], dtype='object')"
      ]
     },
     "metadata": {},
     "output_type": "display_data"
    },
    {
     "name": "stdout",
     "output_type": "stream",
     "text": [
      "Дубликаты:\n"
     ]
    },
    {
     "data": {
      "text/plain": [
       "0"
      ]
     },
     "metadata": {},
     "output_type": "display_data"
    },
    {
     "name": "stdout",
     "output_type": "stream",
     "text": [
      "Пропуски:\n"
     ]
    },
    {
     "data": {
      "text/plain": [
       "user_id       0\n",
       "first_date    0\n",
       "region        0\n",
       "device        0\n",
       "dtype: int64"
      ]
     },
     "metadata": {},
     "output_type": "display_data"
    },
    {
     "name": "stdout",
     "output_type": "stream",
     "text": [
      "Стат. данные:\n"
     ]
    },
    {
     "data": {
      "text/html": [
       "<div>\n",
       "<style scoped>\n",
       "    .dataframe tbody tr th:only-of-type {\n",
       "        vertical-align: middle;\n",
       "    }\n",
       "\n",
       "    .dataframe tbody tr th {\n",
       "        vertical-align: top;\n",
       "    }\n",
       "\n",
       "    .dataframe thead th {\n",
       "        text-align: right;\n",
       "    }\n",
       "</style>\n",
       "<table border=\"1\" class=\"dataframe\">\n",
       "  <thead>\n",
       "    <tr style=\"text-align: right;\">\n",
       "      <th></th>\n",
       "      <th>user_id</th>\n",
       "      <th>first_date</th>\n",
       "      <th>region</th>\n",
       "      <th>device</th>\n",
       "    </tr>\n",
       "  </thead>\n",
       "  <tbody>\n",
       "    <tr>\n",
       "      <th>count</th>\n",
       "      <td>61733</td>\n",
       "      <td>61733</td>\n",
       "      <td>61733</td>\n",
       "      <td>61733</td>\n",
       "    </tr>\n",
       "    <tr>\n",
       "      <th>unique</th>\n",
       "      <td>61733</td>\n",
       "      <td>17</td>\n",
       "      <td>4</td>\n",
       "      <td>4</td>\n",
       "    </tr>\n",
       "    <tr>\n",
       "      <th>top</th>\n",
       "      <td>D72A72121175D8BE</td>\n",
       "      <td>2020-12-21</td>\n",
       "      <td>EU</td>\n",
       "      <td>Android</td>\n",
       "    </tr>\n",
       "    <tr>\n",
       "      <th>freq</th>\n",
       "      <td>1</td>\n",
       "      <td>6290</td>\n",
       "      <td>46270</td>\n",
       "      <td>27520</td>\n",
       "    </tr>\n",
       "  </tbody>\n",
       "</table>\n",
       "</div>"
      ],
      "text/plain": [
       "                 user_id  first_date region   device\n",
       "count              61733       61733  61733    61733\n",
       "unique             61733          17      4        4\n",
       "top     D72A72121175D8BE  2020-12-21     EU  Android\n",
       "freq                   1        6290  46270    27520"
      ]
     },
     "metadata": {},
     "output_type": "display_data"
    },
    {
     "name": "stdout",
     "output_type": "stream",
     "text": [
      "--------------------------------------------------------------------------------\n",
      "Просмотр строк:\n"
     ]
    },
    {
     "data": {
      "text/html": [
       "<div>\n",
       "<style scoped>\n",
       "    .dataframe tbody tr th:only-of-type {\n",
       "        vertical-align: middle;\n",
       "    }\n",
       "\n",
       "    .dataframe tbody tr th {\n",
       "        vertical-align: top;\n",
       "    }\n",
       "\n",
       "    .dataframe thead th {\n",
       "        text-align: right;\n",
       "    }\n",
       "</style>\n",
       "<table border=\"1\" class=\"dataframe\">\n",
       "  <thead>\n",
       "    <tr style=\"text-align: right;\">\n",
       "      <th></th>\n",
       "      <th>user_id</th>\n",
       "      <th>event_dt</th>\n",
       "      <th>event_name</th>\n",
       "      <th>details</th>\n",
       "    </tr>\n",
       "  </thead>\n",
       "  <tbody>\n",
       "    <tr>\n",
       "      <th>97712</th>\n",
       "      <td>D0F2D3E3F0714E29</td>\n",
       "      <td>2020-12-20 22:57:40</td>\n",
       "      <td>product_cart</td>\n",
       "      <td>NaN</td>\n",
       "    </tr>\n",
       "    <tr>\n",
       "      <th>363216</th>\n",
       "      <td>EF2FCB7B3ABACFA9</td>\n",
       "      <td>2020-12-20 06:13:00</td>\n",
       "      <td>login</td>\n",
       "      <td>NaN</td>\n",
       "    </tr>\n",
       "    <tr>\n",
       "      <th>334409</th>\n",
       "      <td>8251744B16BC1321</td>\n",
       "      <td>2020-12-17 19:50:56</td>\n",
       "      <td>login</td>\n",
       "      <td>NaN</td>\n",
       "    </tr>\n",
       "    <tr>\n",
       "      <th>388008</th>\n",
       "      <td>74B19CF82FAC4B21</td>\n",
       "      <td>2020-12-22 19:39:11</td>\n",
       "      <td>login</td>\n",
       "      <td>NaN</td>\n",
       "    </tr>\n",
       "    <tr>\n",
       "      <th>138763</th>\n",
       "      <td>F6FD9BD0F761C399</td>\n",
       "      <td>2020-12-10 00:02:06</td>\n",
       "      <td>product_page</td>\n",
       "      <td>NaN</td>\n",
       "    </tr>\n",
       "    <tr>\n",
       "      <th>390089</th>\n",
       "      <td>0AF314CE657A8D25</td>\n",
       "      <td>2020-12-22 17:47:03</td>\n",
       "      <td>login</td>\n",
       "      <td>NaN</td>\n",
       "    </tr>\n",
       "    <tr>\n",
       "      <th>116212</th>\n",
       "      <td>F1D4F7ACB28627A1</td>\n",
       "      <td>2020-12-25 16:37:26</td>\n",
       "      <td>product_cart</td>\n",
       "      <td>NaN</td>\n",
       "    </tr>\n",
       "    <tr>\n",
       "      <th>293486</th>\n",
       "      <td>3243535989409D3E</td>\n",
       "      <td>2020-12-13 17:30:07</td>\n",
       "      <td>login</td>\n",
       "      <td>NaN</td>\n",
       "    </tr>\n",
       "    <tr>\n",
       "      <th>359510</th>\n",
       "      <td>FC975780220148B8</td>\n",
       "      <td>2020-12-20 01:44:15</td>\n",
       "      <td>login</td>\n",
       "      <td>NaN</td>\n",
       "    </tr>\n",
       "    <tr>\n",
       "      <th>159642</th>\n",
       "      <td>EE0752A48EC29D0F</td>\n",
       "      <td>2020-12-14 15:13:51</td>\n",
       "      <td>product_page</td>\n",
       "      <td>NaN</td>\n",
       "    </tr>\n",
       "  </tbody>\n",
       "</table>\n",
       "</div>"
      ],
      "text/plain": [
       "                 user_id             event_dt    event_name  details\n",
       "97712   D0F2D3E3F0714E29  2020-12-20 22:57:40  product_cart      NaN\n",
       "363216  EF2FCB7B3ABACFA9  2020-12-20 06:13:00         login      NaN\n",
       "334409  8251744B16BC1321  2020-12-17 19:50:56         login      NaN\n",
       "388008  74B19CF82FAC4B21  2020-12-22 19:39:11         login      NaN\n",
       "138763  F6FD9BD0F761C399  2020-12-10 00:02:06  product_page      NaN\n",
       "390089  0AF314CE657A8D25  2020-12-22 17:47:03         login      NaN\n",
       "116212  F1D4F7ACB28627A1  2020-12-25 16:37:26  product_cart      NaN\n",
       "293486  3243535989409D3E  2020-12-13 17:30:07         login      NaN\n",
       "359510  FC975780220148B8  2020-12-20 01:44:15         login      NaN\n",
       "159642  EE0752A48EC29D0F  2020-12-14 15:13:51  product_page      NaN"
      ]
     },
     "metadata": {},
     "output_type": "display_data"
    },
    {
     "name": "stdout",
     "output_type": "stream",
     "text": [
      "Общая информация:\n",
      "<class 'pandas.core.frame.DataFrame'>\n",
      "RangeIndex: 440317 entries, 0 to 440316\n",
      "Data columns (total 4 columns):\n",
      " #   Column      Non-Null Count   Dtype  \n",
      "---  ------      --------------   -----  \n",
      " 0   user_id     440317 non-null  object \n",
      " 1   event_dt    440317 non-null  object \n",
      " 2   event_name  440317 non-null  object \n",
      " 3   details     62740 non-null   float64\n",
      "dtypes: float64(1), object(3)\n",
      "memory usage: 13.4+ MB\n"
     ]
    },
    {
     "data": {
      "text/plain": [
       "None"
      ]
     },
     "metadata": {},
     "output_type": "display_data"
    },
    {
     "name": "stdout",
     "output_type": "stream",
     "text": [
      "Имена столбцов:\n"
     ]
    },
    {
     "data": {
      "text/plain": [
       "Index(['user_id', 'event_dt', 'event_name', 'details'], dtype='object')"
      ]
     },
     "metadata": {},
     "output_type": "display_data"
    },
    {
     "name": "stdout",
     "output_type": "stream",
     "text": [
      "Дубликаты:\n"
     ]
    },
    {
     "data": {
      "text/plain": [
       "0"
      ]
     },
     "metadata": {},
     "output_type": "display_data"
    },
    {
     "name": "stdout",
     "output_type": "stream",
     "text": [
      "Пропуски:\n"
     ]
    },
    {
     "data": {
      "text/plain": [
       "user_id            0\n",
       "event_dt           0\n",
       "event_name         0\n",
       "details       377577\n",
       "dtype: int64"
      ]
     },
     "metadata": {},
     "output_type": "display_data"
    },
    {
     "name": "stdout",
     "output_type": "stream",
     "text": [
      "Стат. данные:\n"
     ]
    },
    {
     "data": {
      "text/html": [
       "<div>\n",
       "<style scoped>\n",
       "    .dataframe tbody tr th:only-of-type {\n",
       "        vertical-align: middle;\n",
       "    }\n",
       "\n",
       "    .dataframe tbody tr th {\n",
       "        vertical-align: top;\n",
       "    }\n",
       "\n",
       "    .dataframe thead th {\n",
       "        text-align: right;\n",
       "    }\n",
       "</style>\n",
       "<table border=\"1\" class=\"dataframe\">\n",
       "  <thead>\n",
       "    <tr style=\"text-align: right;\">\n",
       "      <th></th>\n",
       "      <th>details</th>\n",
       "    </tr>\n",
       "  </thead>\n",
       "  <tbody>\n",
       "    <tr>\n",
       "      <th>count</th>\n",
       "      <td>62740.00</td>\n",
       "    </tr>\n",
       "    <tr>\n",
       "      <th>mean</th>\n",
       "      <td>23.88</td>\n",
       "    </tr>\n",
       "    <tr>\n",
       "      <th>std</th>\n",
       "      <td>72.18</td>\n",
       "    </tr>\n",
       "    <tr>\n",
       "      <th>min</th>\n",
       "      <td>4.99</td>\n",
       "    </tr>\n",
       "    <tr>\n",
       "      <th>25%</th>\n",
       "      <td>4.99</td>\n",
       "    </tr>\n",
       "    <tr>\n",
       "      <th>50%</th>\n",
       "      <td>4.99</td>\n",
       "    </tr>\n",
       "    <tr>\n",
       "      <th>75%</th>\n",
       "      <td>9.99</td>\n",
       "    </tr>\n",
       "    <tr>\n",
       "      <th>max</th>\n",
       "      <td>499.99</td>\n",
       "    </tr>\n",
       "  </tbody>\n",
       "</table>\n",
       "</div>"
      ],
      "text/plain": [
       "       details\n",
       "count 62740.00\n",
       "mean     23.88\n",
       "std      72.18\n",
       "min       4.99\n",
       "25%       4.99\n",
       "50%       4.99\n",
       "75%       9.99\n",
       "max     499.99"
      ]
     },
     "metadata": {},
     "output_type": "display_data"
    },
    {
     "name": "stdout",
     "output_type": "stream",
     "text": [
      "--------------------------------------------------------------------------------\n",
      "Просмотр строк:\n"
     ]
    },
    {
     "data": {
      "text/html": [
       "<div>\n",
       "<style scoped>\n",
       "    .dataframe tbody tr th:only-of-type {\n",
       "        vertical-align: middle;\n",
       "    }\n",
       "\n",
       "    .dataframe tbody tr th {\n",
       "        vertical-align: top;\n",
       "    }\n",
       "\n",
       "    .dataframe thead th {\n",
       "        text-align: right;\n",
       "    }\n",
       "</style>\n",
       "<table border=\"1\" class=\"dataframe\">\n",
       "  <thead>\n",
       "    <tr style=\"text-align: right;\">\n",
       "      <th></th>\n",
       "      <th>user_id</th>\n",
       "      <th>group</th>\n",
       "      <th>ab_test</th>\n",
       "    </tr>\n",
       "  </thead>\n",
       "  <tbody>\n",
       "    <tr>\n",
       "      <th>7424</th>\n",
       "      <td>1E03BA54D3886C75</td>\n",
       "      <td>A</td>\n",
       "      <td>interface_eu_test</td>\n",
       "    </tr>\n",
       "    <tr>\n",
       "      <th>436</th>\n",
       "      <td>98484FF038267A1C</td>\n",
       "      <td>A</td>\n",
       "      <td>recommender_system_test</td>\n",
       "    </tr>\n",
       "    <tr>\n",
       "      <th>9284</th>\n",
       "      <td>59774EAF58D65871</td>\n",
       "      <td>A</td>\n",
       "      <td>interface_eu_test</td>\n",
       "    </tr>\n",
       "    <tr>\n",
       "      <th>13147</th>\n",
       "      <td>2CBF38CABDBB7F4F</td>\n",
       "      <td>B</td>\n",
       "      <td>interface_eu_test</td>\n",
       "    </tr>\n",
       "    <tr>\n",
       "      <th>2722</th>\n",
       "      <td>368501F66CFDEBFE</td>\n",
       "      <td>A</td>\n",
       "      <td>recommender_system_test</td>\n",
       "    </tr>\n",
       "    <tr>\n",
       "      <th>15229</th>\n",
       "      <td>4D6EE7C0E2096C12</td>\n",
       "      <td>A</td>\n",
       "      <td>interface_eu_test</td>\n",
       "    </tr>\n",
       "    <tr>\n",
       "      <th>3462</th>\n",
       "      <td>505555B3CCA490C8</td>\n",
       "      <td>A</td>\n",
       "      <td>recommender_system_test</td>\n",
       "    </tr>\n",
       "    <tr>\n",
       "      <th>6536</th>\n",
       "      <td>236867C049E784F4</td>\n",
       "      <td>A</td>\n",
       "      <td>recommender_system_test</td>\n",
       "    </tr>\n",
       "    <tr>\n",
       "      <th>3968</th>\n",
       "      <td>0F7D49FC184EDCDE</td>\n",
       "      <td>A</td>\n",
       "      <td>recommender_system_test</td>\n",
       "    </tr>\n",
       "    <tr>\n",
       "      <th>1700</th>\n",
       "      <td>668400839D594143</td>\n",
       "      <td>A</td>\n",
       "      <td>recommender_system_test</td>\n",
       "    </tr>\n",
       "  </tbody>\n",
       "</table>\n",
       "</div>"
      ],
      "text/plain": [
       "                user_id group                  ab_test\n",
       "7424   1E03BA54D3886C75     A        interface_eu_test\n",
       "436    98484FF038267A1C     A  recommender_system_test\n",
       "9284   59774EAF58D65871     A        interface_eu_test\n",
       "13147  2CBF38CABDBB7F4F     B        interface_eu_test\n",
       "2722   368501F66CFDEBFE     A  recommender_system_test\n",
       "15229  4D6EE7C0E2096C12     A        interface_eu_test\n",
       "3462   505555B3CCA490C8     A  recommender_system_test\n",
       "6536   236867C049E784F4     A  recommender_system_test\n",
       "3968   0F7D49FC184EDCDE     A  recommender_system_test\n",
       "1700   668400839D594143     A  recommender_system_test"
      ]
     },
     "metadata": {},
     "output_type": "display_data"
    },
    {
     "name": "stdout",
     "output_type": "stream",
     "text": [
      "Общая информация:\n",
      "<class 'pandas.core.frame.DataFrame'>\n",
      "RangeIndex: 18268 entries, 0 to 18267\n",
      "Data columns (total 3 columns):\n",
      " #   Column   Non-Null Count  Dtype \n",
      "---  ------   --------------  ----- \n",
      " 0   user_id  18268 non-null  object\n",
      " 1   group    18268 non-null  object\n",
      " 2   ab_test  18268 non-null  object\n",
      "dtypes: object(3)\n",
      "memory usage: 428.3+ KB\n"
     ]
    },
    {
     "data": {
      "text/plain": [
       "None"
      ]
     },
     "metadata": {},
     "output_type": "display_data"
    },
    {
     "name": "stdout",
     "output_type": "stream",
     "text": [
      "Имена столбцов:\n"
     ]
    },
    {
     "data": {
      "text/plain": [
       "Index(['user_id', 'group', 'ab_test'], dtype='object')"
      ]
     },
     "metadata": {},
     "output_type": "display_data"
    },
    {
     "name": "stdout",
     "output_type": "stream",
     "text": [
      "Дубликаты:\n"
     ]
    },
    {
     "data": {
      "text/plain": [
       "0"
      ]
     },
     "metadata": {},
     "output_type": "display_data"
    },
    {
     "name": "stdout",
     "output_type": "stream",
     "text": [
      "Пропуски:\n"
     ]
    },
    {
     "data": {
      "text/plain": [
       "user_id    0\n",
       "group      0\n",
       "ab_test    0\n",
       "dtype: int64"
      ]
     },
     "metadata": {},
     "output_type": "display_data"
    },
    {
     "name": "stdout",
     "output_type": "stream",
     "text": [
      "Стат. данные:\n"
     ]
    },
    {
     "data": {
      "text/html": [
       "<div>\n",
       "<style scoped>\n",
       "    .dataframe tbody tr th:only-of-type {\n",
       "        vertical-align: middle;\n",
       "    }\n",
       "\n",
       "    .dataframe tbody tr th {\n",
       "        vertical-align: top;\n",
       "    }\n",
       "\n",
       "    .dataframe thead th {\n",
       "        text-align: right;\n",
       "    }\n",
       "</style>\n",
       "<table border=\"1\" class=\"dataframe\">\n",
       "  <thead>\n",
       "    <tr style=\"text-align: right;\">\n",
       "      <th></th>\n",
       "      <th>user_id</th>\n",
       "      <th>group</th>\n",
       "      <th>ab_test</th>\n",
       "    </tr>\n",
       "  </thead>\n",
       "  <tbody>\n",
       "    <tr>\n",
       "      <th>count</th>\n",
       "      <td>18268</td>\n",
       "      <td>18268</td>\n",
       "      <td>18268</td>\n",
       "    </tr>\n",
       "    <tr>\n",
       "      <th>unique</th>\n",
       "      <td>16666</td>\n",
       "      <td>2</td>\n",
       "      <td>2</td>\n",
       "    </tr>\n",
       "    <tr>\n",
       "      <th>top</th>\n",
       "      <td>0FDFDA0B2DEC2D91</td>\n",
       "      <td>A</td>\n",
       "      <td>interface_eu_test</td>\n",
       "    </tr>\n",
       "    <tr>\n",
       "      <th>freq</th>\n",
       "      <td>2</td>\n",
       "      <td>9655</td>\n",
       "      <td>11567</td>\n",
       "    </tr>\n",
       "  </tbody>\n",
       "</table>\n",
       "</div>"
      ],
      "text/plain": [
       "                 user_id  group            ab_test\n",
       "count              18268  18268              18268\n",
       "unique             16666      2                  2\n",
       "top     0FDFDA0B2DEC2D91      A  interface_eu_test\n",
       "freq                   2   9655              11567"
      ]
     },
     "metadata": {},
     "output_type": "display_data"
    },
    {
     "name": "stdout",
     "output_type": "stream",
     "text": [
      "--------------------------------------------------------------------------------\n"
     ]
    }
   ],
   "source": [
    "df_list = [project_events, new_users, ab_events, practicipants]\n",
    "\n",
    "for df in df_list:\n",
    "\tprint('Просмотр строк:')\n",
    "\tdisplay(df.sample(10))\n",
    "\tprint('Общая информация:')\n",
    "\tdisplay(df.info())\n",
    "\tprint('Имена столбцов:')\n",
    "\tdisplay(df.columns)\n",
    "\tprint('Дубликаты:')\n",
    "\tdisplay(df.duplicated().sum())\n",
    "\tprint('Пропуски:')\n",
    "\tdisplay(df.isna().sum())\n",
    "\tprint('Стат. данные:')\n",
    "\tdisplay(df.describe())\n",
    "\tprint('-' * 80)"
   ]
  },
  {
   "cell_type": "markdown",
   "metadata": {},
   "source": [
    "После первого осмотра данных мы увидели:\n",
    " - в таблицах нет дублей;\n",
    " - в таблице ab_events присутствуют пропуски в столбце details, нужно их изучить;\n",
    " - для удобства можно привести значения к нижнему регистру;\n",
    " - привести столбцы с датами к соответствующему типу данных;\n",
    " - имена столбцов в коррекции не нуждаются."
   ]
  },
  {
   "cell_type": "markdown",
   "metadata": {},
   "source": [
    "## <a id=\"preprocessing\">Предобработка данных</a>"
   ]
  },
  {
   "cell_type": "markdown",
   "metadata": {},
   "source": [
    "**Обработка пропусков**"
   ]
  },
  {
   "cell_type": "code",
   "execution_count": 5,
   "metadata": {},
   "outputs": [
    {
     "data": {
      "text/html": [
       "<div>\n",
       "<style scoped>\n",
       "    .dataframe tbody tr th:only-of-type {\n",
       "        vertical-align: middle;\n",
       "    }\n",
       "\n",
       "    .dataframe tbody tr th {\n",
       "        vertical-align: top;\n",
       "    }\n",
       "\n",
       "    .dataframe thead th {\n",
       "        text-align: right;\n",
       "    }\n",
       "</style>\n",
       "<table border=\"1\" class=\"dataframe\">\n",
       "  <thead>\n",
       "    <tr style=\"text-align: right;\">\n",
       "      <th></th>\n",
       "      <th>user_id</th>\n",
       "      <th>event_dt</th>\n",
       "      <th>event_name</th>\n",
       "      <th>details</th>\n",
       "    </tr>\n",
       "  </thead>\n",
       "  <tbody>\n",
       "    <tr>\n",
       "      <th>0</th>\n",
       "      <td>E1BDDCE0DAFA2679</td>\n",
       "      <td>2020-12-07 20:22:03</td>\n",
       "      <td>purchase</td>\n",
       "      <td>99.99</td>\n",
       "    </tr>\n",
       "    <tr>\n",
       "      <th>1</th>\n",
       "      <td>7B6452F081F49504</td>\n",
       "      <td>2020-12-07 09:22:53</td>\n",
       "      <td>purchase</td>\n",
       "      <td>9.99</td>\n",
       "    </tr>\n",
       "    <tr>\n",
       "      <th>2</th>\n",
       "      <td>9CD9F34546DF254C</td>\n",
       "      <td>2020-12-07 12:59:29</td>\n",
       "      <td>purchase</td>\n",
       "      <td>4.99</td>\n",
       "    </tr>\n",
       "    <tr>\n",
       "      <th>3</th>\n",
       "      <td>96F27A054B191457</td>\n",
       "      <td>2020-12-07 04:02:40</td>\n",
       "      <td>purchase</td>\n",
       "      <td>4.99</td>\n",
       "    </tr>\n",
       "    <tr>\n",
       "      <th>4</th>\n",
       "      <td>1FD7660FDF94CA1F</td>\n",
       "      <td>2020-12-07 10:15:09</td>\n",
       "      <td>purchase</td>\n",
       "      <td>4.99</td>\n",
       "    </tr>\n",
       "    <tr>\n",
       "      <th>...</th>\n",
       "      <td>...</td>\n",
       "      <td>...</td>\n",
       "      <td>...</td>\n",
       "      <td>...</td>\n",
       "    </tr>\n",
       "    <tr>\n",
       "      <th>440312</th>\n",
       "      <td>245E85F65C358E08</td>\n",
       "      <td>2020-12-30 19:35:55</td>\n",
       "      <td>login</td>\n",
       "      <td>NaN</td>\n",
       "    </tr>\n",
       "    <tr>\n",
       "      <th>440313</th>\n",
       "      <td>9385A108F5A0A7A7</td>\n",
       "      <td>2020-12-30 10:54:15</td>\n",
       "      <td>login</td>\n",
       "      <td>NaN</td>\n",
       "    </tr>\n",
       "    <tr>\n",
       "      <th>440314</th>\n",
       "      <td>DB650B7559AC6EAC</td>\n",
       "      <td>2020-12-30 10:59:09</td>\n",
       "      <td>login</td>\n",
       "      <td>NaN</td>\n",
       "    </tr>\n",
       "    <tr>\n",
       "      <th>440315</th>\n",
       "      <td>F80C9BDDEA02E53C</td>\n",
       "      <td>2020-12-30 09:53:39</td>\n",
       "      <td>login</td>\n",
       "      <td>NaN</td>\n",
       "    </tr>\n",
       "    <tr>\n",
       "      <th>440316</th>\n",
       "      <td>7AEC61159B672CC5</td>\n",
       "      <td>2020-12-30 11:36:13</td>\n",
       "      <td>login</td>\n",
       "      <td>NaN</td>\n",
       "    </tr>\n",
       "  </tbody>\n",
       "</table>\n",
       "<p>440317 rows × 4 columns</p>\n",
       "</div>"
      ],
      "text/plain": [
       "                 user_id             event_dt event_name  details\n",
       "0       E1BDDCE0DAFA2679  2020-12-07 20:22:03   purchase    99.99\n",
       "1       7B6452F081F49504  2020-12-07 09:22:53   purchase     9.99\n",
       "2       9CD9F34546DF254C  2020-12-07 12:59:29   purchase     4.99\n",
       "3       96F27A054B191457  2020-12-07 04:02:40   purchase     4.99\n",
       "4       1FD7660FDF94CA1F  2020-12-07 10:15:09   purchase     4.99\n",
       "...                  ...                  ...        ...      ...\n",
       "440312  245E85F65C358E08  2020-12-30 19:35:55      login      NaN\n",
       "440313  9385A108F5A0A7A7  2020-12-30 10:54:15      login      NaN\n",
       "440314  DB650B7559AC6EAC  2020-12-30 10:59:09      login      NaN\n",
       "440315  F80C9BDDEA02E53C  2020-12-30 09:53:39      login      NaN\n",
       "440316  7AEC61159B672CC5  2020-12-30 11:36:13      login      NaN\n",
       "\n",
       "[440317 rows x 4 columns]"
      ]
     },
     "execution_count": 5,
     "metadata": {},
     "output_type": "execute_result"
    }
   ],
   "source": [
    "ab_events"
   ]
  },
  {
   "cell_type": "code",
   "execution_count": 6,
   "metadata": {},
   "outputs": [
    {
     "data": {
      "text/plain": [
       "array(['purchase', 'product_cart', 'product_page', 'login'], dtype=object)"
      ]
     },
     "metadata": {},
     "output_type": "display_data"
    },
    {
     "data": {
      "text/plain": [
       "array([ 99.99,   9.99,   4.99, 499.99,    nan])"
      ]
     },
     "metadata": {},
     "output_type": "display_data"
    }
   ],
   "source": [
    "display(ab_events['event_name'].unique())\n",
    "display(ab_events['details'].unique())"
   ]
  },
  {
   "cell_type": "markdown",
   "metadata": {},
   "source": [
    "Обзор пропусков показалa, что пропуски обусловлены тем, что кроме стоимости покупок в этой колонке больше не содержится дополнительных данных о событиях."
   ]
  },
  {
   "cell_type": "markdown",
   "metadata": {},
   "source": [
    "**Приведение к нижнему регистру**"
   ]
  },
  {
   "cell_type": "code",
   "execution_count": 7,
   "metadata": {},
   "outputs": [],
   "source": [
    "list_1 = project_events[['name', 'regions']]\n",
    "list_2 = new_users[['user_id', 'region', 'device']]\n",
    "list_3 = ab_events[['user_id', 'event_name']]\n",
    "list_4 = practicipants[['user_id', 'ab_test', 'group']]\n",
    "\n",
    "def low(df, cols_list):\n",
    "\tfor cols in cols_list:\n",
    "\t\tdf[cols] = df[cols].str.lower()\n",
    "\tdisplay(df.head())\n",
    "\tprint('-' * 80)"
   ]
  },
  {
   "cell_type": "code",
   "execution_count": 8,
   "metadata": {},
   "outputs": [
    {
     "data": {
      "text/html": [
       "<div>\n",
       "<style scoped>\n",
       "    .dataframe tbody tr th:only-of-type {\n",
       "        vertical-align: middle;\n",
       "    }\n",
       "\n",
       "    .dataframe tbody tr th {\n",
       "        vertical-align: top;\n",
       "    }\n",
       "\n",
       "    .dataframe thead th {\n",
       "        text-align: right;\n",
       "    }\n",
       "</style>\n",
       "<table border=\"1\" class=\"dataframe\">\n",
       "  <thead>\n",
       "    <tr style=\"text-align: right;\">\n",
       "      <th></th>\n",
       "      <th>name</th>\n",
       "      <th>regions</th>\n",
       "      <th>start_dt</th>\n",
       "      <th>finish_dt</th>\n",
       "    </tr>\n",
       "  </thead>\n",
       "  <tbody>\n",
       "    <tr>\n",
       "      <th>0</th>\n",
       "      <td>christmas&amp;new year promo</td>\n",
       "      <td>eu, n.america</td>\n",
       "      <td>2020-12-25</td>\n",
       "      <td>2021-01-03</td>\n",
       "    </tr>\n",
       "    <tr>\n",
       "      <th>1</th>\n",
       "      <td>st. valentine's day giveaway</td>\n",
       "      <td>eu, cis, apac, n.america</td>\n",
       "      <td>2020-02-14</td>\n",
       "      <td>2020-02-16</td>\n",
       "    </tr>\n",
       "    <tr>\n",
       "      <th>2</th>\n",
       "      <td>st. patric's day promo</td>\n",
       "      <td>eu, n.america</td>\n",
       "      <td>2020-03-17</td>\n",
       "      <td>2020-03-19</td>\n",
       "    </tr>\n",
       "    <tr>\n",
       "      <th>3</th>\n",
       "      <td>easter promo</td>\n",
       "      <td>eu, cis, apac, n.america</td>\n",
       "      <td>2020-04-12</td>\n",
       "      <td>2020-04-19</td>\n",
       "    </tr>\n",
       "    <tr>\n",
       "      <th>4</th>\n",
       "      <td>4th of july promo</td>\n",
       "      <td>n.america</td>\n",
       "      <td>2020-07-04</td>\n",
       "      <td>2020-07-11</td>\n",
       "    </tr>\n",
       "  </tbody>\n",
       "</table>\n",
       "</div>"
      ],
      "text/plain": [
       "                           name                   regions    start_dt  \\\n",
       "0      christmas&new year promo             eu, n.america  2020-12-25   \n",
       "1  st. valentine's day giveaway  eu, cis, apac, n.america  2020-02-14   \n",
       "2        st. patric's day promo             eu, n.america  2020-03-17   \n",
       "3                  easter promo  eu, cis, apac, n.america  2020-04-12   \n",
       "4             4th of july promo                 n.america  2020-07-04   \n",
       "\n",
       "    finish_dt  \n",
       "0  2021-01-03  \n",
       "1  2020-02-16  \n",
       "2  2020-03-19  \n",
       "3  2020-04-19  \n",
       "4  2020-07-11  "
      ]
     },
     "metadata": {},
     "output_type": "display_data"
    },
    {
     "name": "stdout",
     "output_type": "stream",
     "text": [
      "--------------------------------------------------------------------------------\n"
     ]
    },
    {
     "data": {
      "text/html": [
       "<div>\n",
       "<style scoped>\n",
       "    .dataframe tbody tr th:only-of-type {\n",
       "        vertical-align: middle;\n",
       "    }\n",
       "\n",
       "    .dataframe tbody tr th {\n",
       "        vertical-align: top;\n",
       "    }\n",
       "\n",
       "    .dataframe thead th {\n",
       "        text-align: right;\n",
       "    }\n",
       "</style>\n",
       "<table border=\"1\" class=\"dataframe\">\n",
       "  <thead>\n",
       "    <tr style=\"text-align: right;\">\n",
       "      <th></th>\n",
       "      <th>user_id</th>\n",
       "      <th>first_date</th>\n",
       "      <th>region</th>\n",
       "      <th>device</th>\n",
       "    </tr>\n",
       "  </thead>\n",
       "  <tbody>\n",
       "    <tr>\n",
       "      <th>0</th>\n",
       "      <td>d72a72121175d8be</td>\n",
       "      <td>2020-12-07</td>\n",
       "      <td>eu</td>\n",
       "      <td>pc</td>\n",
       "    </tr>\n",
       "    <tr>\n",
       "      <th>1</th>\n",
       "      <td>f1c668619dfe6e65</td>\n",
       "      <td>2020-12-07</td>\n",
       "      <td>n.america</td>\n",
       "      <td>android</td>\n",
       "    </tr>\n",
       "    <tr>\n",
       "      <th>2</th>\n",
       "      <td>2e1bf1d4c37ea01f</td>\n",
       "      <td>2020-12-07</td>\n",
       "      <td>eu</td>\n",
       "      <td>pc</td>\n",
       "    </tr>\n",
       "    <tr>\n",
       "      <th>3</th>\n",
       "      <td>50734a22c0c63768</td>\n",
       "      <td>2020-12-07</td>\n",
       "      <td>eu</td>\n",
       "      <td>iphone</td>\n",
       "    </tr>\n",
       "    <tr>\n",
       "      <th>4</th>\n",
       "      <td>e1bddce0dafa2679</td>\n",
       "      <td>2020-12-07</td>\n",
       "      <td>n.america</td>\n",
       "      <td>iphone</td>\n",
       "    </tr>\n",
       "  </tbody>\n",
       "</table>\n",
       "</div>"
      ],
      "text/plain": [
       "            user_id  first_date     region   device\n",
       "0  d72a72121175d8be  2020-12-07         eu       pc\n",
       "1  f1c668619dfe6e65  2020-12-07  n.america  android\n",
       "2  2e1bf1d4c37ea01f  2020-12-07         eu       pc\n",
       "3  50734a22c0c63768  2020-12-07         eu   iphone\n",
       "4  e1bddce0dafa2679  2020-12-07  n.america   iphone"
      ]
     },
     "metadata": {},
     "output_type": "display_data"
    },
    {
     "name": "stdout",
     "output_type": "stream",
     "text": [
      "--------------------------------------------------------------------------------\n"
     ]
    },
    {
     "data": {
      "text/html": [
       "<div>\n",
       "<style scoped>\n",
       "    .dataframe tbody tr th:only-of-type {\n",
       "        vertical-align: middle;\n",
       "    }\n",
       "\n",
       "    .dataframe tbody tr th {\n",
       "        vertical-align: top;\n",
       "    }\n",
       "\n",
       "    .dataframe thead th {\n",
       "        text-align: right;\n",
       "    }\n",
       "</style>\n",
       "<table border=\"1\" class=\"dataframe\">\n",
       "  <thead>\n",
       "    <tr style=\"text-align: right;\">\n",
       "      <th></th>\n",
       "      <th>user_id</th>\n",
       "      <th>event_dt</th>\n",
       "      <th>event_name</th>\n",
       "      <th>details</th>\n",
       "    </tr>\n",
       "  </thead>\n",
       "  <tbody>\n",
       "    <tr>\n",
       "      <th>0</th>\n",
       "      <td>e1bddce0dafa2679</td>\n",
       "      <td>2020-12-07 20:22:03</td>\n",
       "      <td>purchase</td>\n",
       "      <td>99.99</td>\n",
       "    </tr>\n",
       "    <tr>\n",
       "      <th>1</th>\n",
       "      <td>7b6452f081f49504</td>\n",
       "      <td>2020-12-07 09:22:53</td>\n",
       "      <td>purchase</td>\n",
       "      <td>9.99</td>\n",
       "    </tr>\n",
       "    <tr>\n",
       "      <th>2</th>\n",
       "      <td>9cd9f34546df254c</td>\n",
       "      <td>2020-12-07 12:59:29</td>\n",
       "      <td>purchase</td>\n",
       "      <td>4.99</td>\n",
       "    </tr>\n",
       "    <tr>\n",
       "      <th>3</th>\n",
       "      <td>96f27a054b191457</td>\n",
       "      <td>2020-12-07 04:02:40</td>\n",
       "      <td>purchase</td>\n",
       "      <td>4.99</td>\n",
       "    </tr>\n",
       "    <tr>\n",
       "      <th>4</th>\n",
       "      <td>1fd7660fdf94ca1f</td>\n",
       "      <td>2020-12-07 10:15:09</td>\n",
       "      <td>purchase</td>\n",
       "      <td>4.99</td>\n",
       "    </tr>\n",
       "  </tbody>\n",
       "</table>\n",
       "</div>"
      ],
      "text/plain": [
       "            user_id             event_dt event_name  details\n",
       "0  e1bddce0dafa2679  2020-12-07 20:22:03   purchase    99.99\n",
       "1  7b6452f081f49504  2020-12-07 09:22:53   purchase     9.99\n",
       "2  9cd9f34546df254c  2020-12-07 12:59:29   purchase     4.99\n",
       "3  96f27a054b191457  2020-12-07 04:02:40   purchase     4.99\n",
       "4  1fd7660fdf94ca1f  2020-12-07 10:15:09   purchase     4.99"
      ]
     },
     "metadata": {},
     "output_type": "display_data"
    },
    {
     "name": "stdout",
     "output_type": "stream",
     "text": [
      "--------------------------------------------------------------------------------\n"
     ]
    },
    {
     "data": {
      "text/html": [
       "<div>\n",
       "<style scoped>\n",
       "    .dataframe tbody tr th:only-of-type {\n",
       "        vertical-align: middle;\n",
       "    }\n",
       "\n",
       "    .dataframe tbody tr th {\n",
       "        vertical-align: top;\n",
       "    }\n",
       "\n",
       "    .dataframe thead th {\n",
       "        text-align: right;\n",
       "    }\n",
       "</style>\n",
       "<table border=\"1\" class=\"dataframe\">\n",
       "  <thead>\n",
       "    <tr style=\"text-align: right;\">\n",
       "      <th></th>\n",
       "      <th>user_id</th>\n",
       "      <th>group</th>\n",
       "      <th>ab_test</th>\n",
       "    </tr>\n",
       "  </thead>\n",
       "  <tbody>\n",
       "    <tr>\n",
       "      <th>0</th>\n",
       "      <td>d1aba3e2887b6a73</td>\n",
       "      <td>a</td>\n",
       "      <td>recommender_system_test</td>\n",
       "    </tr>\n",
       "    <tr>\n",
       "      <th>1</th>\n",
       "      <td>a7a3664bd6242119</td>\n",
       "      <td>a</td>\n",
       "      <td>recommender_system_test</td>\n",
       "    </tr>\n",
       "    <tr>\n",
       "      <th>2</th>\n",
       "      <td>dabc14fddfadd29e</td>\n",
       "      <td>a</td>\n",
       "      <td>recommender_system_test</td>\n",
       "    </tr>\n",
       "    <tr>\n",
       "      <th>3</th>\n",
       "      <td>04988c5df189632e</td>\n",
       "      <td>a</td>\n",
       "      <td>recommender_system_test</td>\n",
       "    </tr>\n",
       "    <tr>\n",
       "      <th>4</th>\n",
       "      <td>482f14783456d21b</td>\n",
       "      <td>b</td>\n",
       "      <td>recommender_system_test</td>\n",
       "    </tr>\n",
       "  </tbody>\n",
       "</table>\n",
       "</div>"
      ],
      "text/plain": [
       "            user_id group                  ab_test\n",
       "0  d1aba3e2887b6a73     a  recommender_system_test\n",
       "1  a7a3664bd6242119     a  recommender_system_test\n",
       "2  dabc14fddfadd29e     a  recommender_system_test\n",
       "3  04988c5df189632e     a  recommender_system_test\n",
       "4  482f14783456d21b     b  recommender_system_test"
      ]
     },
     "metadata": {},
     "output_type": "display_data"
    },
    {
     "name": "stdout",
     "output_type": "stream",
     "text": [
      "--------------------------------------------------------------------------------\n"
     ]
    }
   ],
   "source": [
    "low(project_events, list_1)\n",
    "low(new_users, list_2)\n",
    "low(ab_events, list_3)\n",
    "low(practicipants, list_4)"
   ]
  },
  {
   "cell_type": "markdown",
   "metadata": {},
   "source": [
    "**Изменение типов данных**"
   ]
  },
  {
   "cell_type": "code",
   "execution_count": 9,
   "metadata": {},
   "outputs": [],
   "source": [
    "list_1 = project_events[['start_dt', 'finish_dt']]\n",
    "list_2 = new_users[['first_date']]\n",
    "list_3 = ab_events[['event_dt']]\n",
    "\n",
    "def date_type(df, cols_list):\n",
    "\tfor cols in cols_list:\n",
    "\t\tdf[cols] = pd.to_datetime(df[cols]).dt.date\n",
    "\t\tdf[cols] = df[cols].astype('datetime64[s]')\n",
    "\tdisplay(df.info())\n",
    "\tdisplay(df.head())\n",
    "\tprint('-' * 80)"
   ]
  },
  {
   "cell_type": "code",
   "execution_count": 10,
   "metadata": {},
   "outputs": [
    {
     "name": "stdout",
     "output_type": "stream",
     "text": [
      "<class 'pandas.core.frame.DataFrame'>\n",
      "RangeIndex: 14 entries, 0 to 13\n",
      "Data columns (total 4 columns):\n",
      " #   Column     Non-Null Count  Dtype         \n",
      "---  ------     --------------  -----         \n",
      " 0   name       14 non-null     object        \n",
      " 1   regions    14 non-null     object        \n",
      " 2   start_dt   14 non-null     datetime64[ns]\n",
      " 3   finish_dt  14 non-null     datetime64[ns]\n",
      "dtypes: datetime64[ns](2), object(2)\n",
      "memory usage: 576.0+ bytes\n"
     ]
    },
    {
     "data": {
      "text/plain": [
       "None"
      ]
     },
     "metadata": {},
     "output_type": "display_data"
    },
    {
     "data": {
      "text/html": [
       "<div>\n",
       "<style scoped>\n",
       "    .dataframe tbody tr th:only-of-type {\n",
       "        vertical-align: middle;\n",
       "    }\n",
       "\n",
       "    .dataframe tbody tr th {\n",
       "        vertical-align: top;\n",
       "    }\n",
       "\n",
       "    .dataframe thead th {\n",
       "        text-align: right;\n",
       "    }\n",
       "</style>\n",
       "<table border=\"1\" class=\"dataframe\">\n",
       "  <thead>\n",
       "    <tr style=\"text-align: right;\">\n",
       "      <th></th>\n",
       "      <th>name</th>\n",
       "      <th>regions</th>\n",
       "      <th>start_dt</th>\n",
       "      <th>finish_dt</th>\n",
       "    </tr>\n",
       "  </thead>\n",
       "  <tbody>\n",
       "    <tr>\n",
       "      <th>0</th>\n",
       "      <td>christmas&amp;new year promo</td>\n",
       "      <td>eu, n.america</td>\n",
       "      <td>2020-12-25</td>\n",
       "      <td>2021-01-03</td>\n",
       "    </tr>\n",
       "    <tr>\n",
       "      <th>1</th>\n",
       "      <td>st. valentine's day giveaway</td>\n",
       "      <td>eu, cis, apac, n.america</td>\n",
       "      <td>2020-02-14</td>\n",
       "      <td>2020-02-16</td>\n",
       "    </tr>\n",
       "    <tr>\n",
       "      <th>2</th>\n",
       "      <td>st. patric's day promo</td>\n",
       "      <td>eu, n.america</td>\n",
       "      <td>2020-03-17</td>\n",
       "      <td>2020-03-19</td>\n",
       "    </tr>\n",
       "    <tr>\n",
       "      <th>3</th>\n",
       "      <td>easter promo</td>\n",
       "      <td>eu, cis, apac, n.america</td>\n",
       "      <td>2020-04-12</td>\n",
       "      <td>2020-04-19</td>\n",
       "    </tr>\n",
       "    <tr>\n",
       "      <th>4</th>\n",
       "      <td>4th of july promo</td>\n",
       "      <td>n.america</td>\n",
       "      <td>2020-07-04</td>\n",
       "      <td>2020-07-11</td>\n",
       "    </tr>\n",
       "  </tbody>\n",
       "</table>\n",
       "</div>"
      ],
      "text/plain": [
       "                           name                   regions   start_dt  \\\n",
       "0      christmas&new year promo             eu, n.america 2020-12-25   \n",
       "1  st. valentine's day giveaway  eu, cis, apac, n.america 2020-02-14   \n",
       "2        st. patric's day promo             eu, n.america 2020-03-17   \n",
       "3                  easter promo  eu, cis, apac, n.america 2020-04-12   \n",
       "4             4th of july promo                 n.america 2020-07-04   \n",
       "\n",
       "   finish_dt  \n",
       "0 2021-01-03  \n",
       "1 2020-02-16  \n",
       "2 2020-03-19  \n",
       "3 2020-04-19  \n",
       "4 2020-07-11  "
      ]
     },
     "metadata": {},
     "output_type": "display_data"
    },
    {
     "name": "stdout",
     "output_type": "stream",
     "text": [
      "--------------------------------------------------------------------------------\n",
      "<class 'pandas.core.frame.DataFrame'>\n",
      "RangeIndex: 61733 entries, 0 to 61732\n",
      "Data columns (total 4 columns):\n",
      " #   Column      Non-Null Count  Dtype         \n",
      "---  ------      --------------  -----         \n",
      " 0   user_id     61733 non-null  object        \n",
      " 1   first_date  61733 non-null  datetime64[ns]\n",
      " 2   region      61733 non-null  object        \n",
      " 3   device      61733 non-null  object        \n",
      "dtypes: datetime64[ns](1), object(3)\n",
      "memory usage: 1.9+ MB\n"
     ]
    },
    {
     "data": {
      "text/plain": [
       "None"
      ]
     },
     "metadata": {},
     "output_type": "display_data"
    },
    {
     "data": {
      "text/html": [
       "<div>\n",
       "<style scoped>\n",
       "    .dataframe tbody tr th:only-of-type {\n",
       "        vertical-align: middle;\n",
       "    }\n",
       "\n",
       "    .dataframe tbody tr th {\n",
       "        vertical-align: top;\n",
       "    }\n",
       "\n",
       "    .dataframe thead th {\n",
       "        text-align: right;\n",
       "    }\n",
       "</style>\n",
       "<table border=\"1\" class=\"dataframe\">\n",
       "  <thead>\n",
       "    <tr style=\"text-align: right;\">\n",
       "      <th></th>\n",
       "      <th>user_id</th>\n",
       "      <th>first_date</th>\n",
       "      <th>region</th>\n",
       "      <th>device</th>\n",
       "    </tr>\n",
       "  </thead>\n",
       "  <tbody>\n",
       "    <tr>\n",
       "      <th>0</th>\n",
       "      <td>d72a72121175d8be</td>\n",
       "      <td>2020-12-07</td>\n",
       "      <td>eu</td>\n",
       "      <td>pc</td>\n",
       "    </tr>\n",
       "    <tr>\n",
       "      <th>1</th>\n",
       "      <td>f1c668619dfe6e65</td>\n",
       "      <td>2020-12-07</td>\n",
       "      <td>n.america</td>\n",
       "      <td>android</td>\n",
       "    </tr>\n",
       "    <tr>\n",
       "      <th>2</th>\n",
       "      <td>2e1bf1d4c37ea01f</td>\n",
       "      <td>2020-12-07</td>\n",
       "      <td>eu</td>\n",
       "      <td>pc</td>\n",
       "    </tr>\n",
       "    <tr>\n",
       "      <th>3</th>\n",
       "      <td>50734a22c0c63768</td>\n",
       "      <td>2020-12-07</td>\n",
       "      <td>eu</td>\n",
       "      <td>iphone</td>\n",
       "    </tr>\n",
       "    <tr>\n",
       "      <th>4</th>\n",
       "      <td>e1bddce0dafa2679</td>\n",
       "      <td>2020-12-07</td>\n",
       "      <td>n.america</td>\n",
       "      <td>iphone</td>\n",
       "    </tr>\n",
       "  </tbody>\n",
       "</table>\n",
       "</div>"
      ],
      "text/plain": [
       "            user_id first_date     region   device\n",
       "0  d72a72121175d8be 2020-12-07         eu       pc\n",
       "1  f1c668619dfe6e65 2020-12-07  n.america  android\n",
       "2  2e1bf1d4c37ea01f 2020-12-07         eu       pc\n",
       "3  50734a22c0c63768 2020-12-07         eu   iphone\n",
       "4  e1bddce0dafa2679 2020-12-07  n.america   iphone"
      ]
     },
     "metadata": {},
     "output_type": "display_data"
    },
    {
     "name": "stdout",
     "output_type": "stream",
     "text": [
      "--------------------------------------------------------------------------------\n",
      "<class 'pandas.core.frame.DataFrame'>\n",
      "RangeIndex: 440317 entries, 0 to 440316\n",
      "Data columns (total 4 columns):\n",
      " #   Column      Non-Null Count   Dtype         \n",
      "---  ------      --------------   -----         \n",
      " 0   user_id     440317 non-null  object        \n",
      " 1   event_dt    440317 non-null  datetime64[ns]\n",
      " 2   event_name  440317 non-null  object        \n",
      " 3   details     62740 non-null   float64       \n",
      "dtypes: datetime64[ns](1), float64(1), object(2)\n",
      "memory usage: 13.4+ MB\n"
     ]
    },
    {
     "data": {
      "text/plain": [
       "None"
      ]
     },
     "metadata": {},
     "output_type": "display_data"
    },
    {
     "data": {
      "text/html": [
       "<div>\n",
       "<style scoped>\n",
       "    .dataframe tbody tr th:only-of-type {\n",
       "        vertical-align: middle;\n",
       "    }\n",
       "\n",
       "    .dataframe tbody tr th {\n",
       "        vertical-align: top;\n",
       "    }\n",
       "\n",
       "    .dataframe thead th {\n",
       "        text-align: right;\n",
       "    }\n",
       "</style>\n",
       "<table border=\"1\" class=\"dataframe\">\n",
       "  <thead>\n",
       "    <tr style=\"text-align: right;\">\n",
       "      <th></th>\n",
       "      <th>user_id</th>\n",
       "      <th>event_dt</th>\n",
       "      <th>event_name</th>\n",
       "      <th>details</th>\n",
       "    </tr>\n",
       "  </thead>\n",
       "  <tbody>\n",
       "    <tr>\n",
       "      <th>0</th>\n",
       "      <td>e1bddce0dafa2679</td>\n",
       "      <td>2020-12-07</td>\n",
       "      <td>purchase</td>\n",
       "      <td>99.99</td>\n",
       "    </tr>\n",
       "    <tr>\n",
       "      <th>1</th>\n",
       "      <td>7b6452f081f49504</td>\n",
       "      <td>2020-12-07</td>\n",
       "      <td>purchase</td>\n",
       "      <td>9.99</td>\n",
       "    </tr>\n",
       "    <tr>\n",
       "      <th>2</th>\n",
       "      <td>9cd9f34546df254c</td>\n",
       "      <td>2020-12-07</td>\n",
       "      <td>purchase</td>\n",
       "      <td>4.99</td>\n",
       "    </tr>\n",
       "    <tr>\n",
       "      <th>3</th>\n",
       "      <td>96f27a054b191457</td>\n",
       "      <td>2020-12-07</td>\n",
       "      <td>purchase</td>\n",
       "      <td>4.99</td>\n",
       "    </tr>\n",
       "    <tr>\n",
       "      <th>4</th>\n",
       "      <td>1fd7660fdf94ca1f</td>\n",
       "      <td>2020-12-07</td>\n",
       "      <td>purchase</td>\n",
       "      <td>4.99</td>\n",
       "    </tr>\n",
       "  </tbody>\n",
       "</table>\n",
       "</div>"
      ],
      "text/plain": [
       "            user_id   event_dt event_name  details\n",
       "0  e1bddce0dafa2679 2020-12-07   purchase    99.99\n",
       "1  7b6452f081f49504 2020-12-07   purchase     9.99\n",
       "2  9cd9f34546df254c 2020-12-07   purchase     4.99\n",
       "3  96f27a054b191457 2020-12-07   purchase     4.99\n",
       "4  1fd7660fdf94ca1f 2020-12-07   purchase     4.99"
      ]
     },
     "metadata": {},
     "output_type": "display_data"
    },
    {
     "name": "stdout",
     "output_type": "stream",
     "text": [
      "--------------------------------------------------------------------------------\n"
     ]
    }
   ],
   "source": [
    "date_type(project_events, list_1)\n",
    "date_type(new_users, list_2)\n",
    "date_type(ab_events, list_3)"
   ]
  },
  {
   "cell_type": "markdown",
   "metadata": {},
   "source": [
    "**Итог предобработки:**\n",
    " - после изучения пропусков было решено, что они не нуждаются в обработке;\n",
    " - все строковые значения были приведены к нижнему регистру;\n",
    " - столбцы с датами были приведены к соответствующему типу данных."
   ]
  },
  {
   "cell_type": "markdown",
   "metadata": {},
   "source": [
    "## <a id=\"correctness_test\">Оценка корректности проведения теста</a>"
   ]
  },
  {
   "cell_type": "markdown",
   "metadata": {},
   "source": [
    "### <a id=\"2.1\">Совпадение времени теста с другими событиями</a>"
   ]
  },
  {
   "cell_type": "code",
   "execution_count": 11,
   "metadata": {},
   "outputs": [
    {
     "data": {
      "text/html": [
       "<div>\n",
       "<style scoped>\n",
       "    .dataframe tbody tr th:only-of-type {\n",
       "        vertical-align: middle;\n",
       "    }\n",
       "\n",
       "    .dataframe tbody tr th {\n",
       "        vertical-align: top;\n",
       "    }\n",
       "\n",
       "    .dataframe thead th {\n",
       "        text-align: right;\n",
       "    }\n",
       "</style>\n",
       "<table border=\"1\" class=\"dataframe\">\n",
       "  <thead>\n",
       "    <tr style=\"text-align: right;\">\n",
       "      <th></th>\n",
       "      <th>name</th>\n",
       "      <th>regions</th>\n",
       "      <th>start_dt</th>\n",
       "      <th>finish_dt</th>\n",
       "    </tr>\n",
       "  </thead>\n",
       "  <tbody>\n",
       "    <tr>\n",
       "      <th>0</th>\n",
       "      <td>christmas&amp;new year promo</td>\n",
       "      <td>eu, n.america</td>\n",
       "      <td>2020-12-25</td>\n",
       "      <td>2021-01-03</td>\n",
       "    </tr>\n",
       "  </tbody>\n",
       "</table>\n",
       "</div>"
      ],
      "text/plain": [
       "                       name        regions   start_dt  finish_dt\n",
       "0  christmas&new year promo  eu, n.america 2020-12-25 2021-01-03"
      ]
     },
     "execution_count": 11,
     "metadata": {},
     "output_type": "execute_result"
    }
   ],
   "source": [
    "project_events.query('start_dt >= \"2020-12-07\" & finish_dt <= \"2021-01-04\"')"
   ]
  },
  {
   "cell_type": "markdown",
   "metadata": {},
   "source": [
    "Тест проводится в одно время с новогодней промо акцией."
   ]
  },
  {
   "cell_type": "markdown",
   "metadata": {},
   "source": [
    "### <a id=\"2.2\">Пользователи попавшие в обе тестовые группы</a>"
   ]
  },
  {
   "cell_type": "code",
   "execution_count": 12,
   "metadata": {},
   "outputs": [],
   "source": [
    "double_group_users = practicipants.groupby(\n",
    "\t'user_id')['ab_test'].nunique().reset_index().query('ab_test > 1')\n",
    "target_test_users = practicipants.query(\n",
    "\t'ab_test == \"recommender_system_test\" & user_id in @double_group_users').drop('ab_test', axis = 1)"
   ]
  },
  {
   "cell_type": "code",
   "execution_count": 13,
   "metadata": {},
   "outputs": [
    {
     "name": "stdout",
     "output_type": "stream",
     "text": [
      "0 пользователей попали в обе группы целевого теста.\n"
     ]
    }
   ],
   "source": [
    "group_a = list(target_test_users.query('group == \"a\"')['user_id'])\n",
    "group_b = list(target_test_users.query('group == \"b\"')['user_id'])\n",
    "double_users_count = len([user for user in group_a if user in group_b])\n",
    "print(f'{double_users_count} пользователей попали в обе группы целевого теста.')"
   ]
  },
  {
   "cell_type": "markdown",
   "metadata": {},
   "source": [
    "### <a id=\"2.3\">Пользователи попавшие в оба теста</a>"
   ]
  },
  {
   "cell_type": "code",
   "execution_count": 14,
   "metadata": {},
   "outputs": [
    {
     "name": "stdout",
     "output_type": "stream",
     "text": [
      "1602 пользователей попали в оба теста.\n"
     ]
    }
   ],
   "source": [
    "double_tests_users = practicipants.groupby('user_id')['ab_test'].nunique().reset_index().query(\n",
    "\t'ab_test > 1')\n",
    "print(f'{double_tests_users.count().iloc[0]} пользователей попали в оба теста.')"
   ]
  },
  {
   "cell_type": "markdown",
   "metadata": {},
   "source": [
    "### <a id=\"2.4\">Распределение тестовых групп</a>"
   ]
  },
  {
   "cell_type": "code",
   "execution_count": 15,
   "metadata": {},
   "outputs": [
    {
     "name": "stdout",
     "output_type": "stream",
     "text": [
      "Общее кол-во пользователей в тесте 6701\n",
      "Кол-во пользователей в группе А 3824\n",
      "Кол-во пользователей в группе Б 2877\n"
     ]
    }
   ],
   "source": [
    "group_a = practicipants.query(\n",
    "\t'ab_test == \"recommender_system_test\" & group == \"a\" & user_id not in @double_tests_users')['user_id'].nunique()\n",
    "group_b = practicipants.query(\n",
    "\t'ab_test == \"recommender_system_test\" & group == \"b\" & user_id not in @double_tests_users')['user_id'].nunique()\n",
    "\n",
    "print(f'Общее кол-во пользователей в тесте {group_a + group_b}')\n",
    "print(f'Кол-во пользователей в группе А {group_a}')\n",
    "print(f'Кол-во пользователей в группе Б {group_b}')"
   ]
  },
  {
   "cell_type": "markdown",
   "metadata": {},
   "source": [
    "Рассмотрим распределение пользователей из целевого теста по районам их проживания."
   ]
  },
  {
   "cell_type": "code",
   "execution_count": 16,
   "metadata": {},
   "outputs": [
    {
     "data": {
      "text/html": [
       "<div>\n",
       "<style scoped>\n",
       "    .dataframe tbody tr th:only-of-type {\n",
       "        vertical-align: middle;\n",
       "    }\n",
       "\n",
       "    .dataframe tbody tr th {\n",
       "        vertical-align: top;\n",
       "    }\n",
       "\n",
       "    .dataframe thead th {\n",
       "        text-align: right;\n",
       "    }\n",
       "</style>\n",
       "<table border=\"1\" class=\"dataframe\">\n",
       "  <thead>\n",
       "    <tr style=\"text-align: right;\">\n",
       "      <th></th>\n",
       "      <th>user_id</th>\n",
       "      <th>first_date</th>\n",
       "      <th>region</th>\n",
       "      <th>device</th>\n",
       "    </tr>\n",
       "  </thead>\n",
       "  <tbody>\n",
       "    <tr>\n",
       "      <th>0</th>\n",
       "      <td>d1aba3e2887b6a73</td>\n",
       "      <td>2020-12-07</td>\n",
       "      <td>eu</td>\n",
       "      <td>pc</td>\n",
       "    </tr>\n",
       "    <tr>\n",
       "      <th>1</th>\n",
       "      <td>a7a3664bd6242119</td>\n",
       "      <td>2020-12-20</td>\n",
       "      <td>eu</td>\n",
       "      <td>iphone</td>\n",
       "    </tr>\n",
       "    <tr>\n",
       "      <th>2</th>\n",
       "      <td>dabc14fddfadd29e</td>\n",
       "      <td>2020-12-08</td>\n",
       "      <td>eu</td>\n",
       "      <td>mac</td>\n",
       "    </tr>\n",
       "    <tr>\n",
       "      <th>3</th>\n",
       "      <td>04988c5df189632e</td>\n",
       "      <td>2020-12-14</td>\n",
       "      <td>eu</td>\n",
       "      <td>iphone</td>\n",
       "    </tr>\n",
       "    <tr>\n",
       "      <th>4</th>\n",
       "      <td>482f14783456d21b</td>\n",
       "      <td>2020-12-14</td>\n",
       "      <td>eu</td>\n",
       "      <td>pc</td>\n",
       "    </tr>\n",
       "    <tr>\n",
       "      <th>...</th>\n",
       "      <td>...</td>\n",
       "      <td>...</td>\n",
       "      <td>...</td>\n",
       "      <td>...</td>\n",
       "    </tr>\n",
       "    <tr>\n",
       "      <th>6696</th>\n",
       "      <td>053fb26d6d49eddc</td>\n",
       "      <td>2020-12-10</td>\n",
       "      <td>n.america</td>\n",
       "      <td>android</td>\n",
       "    </tr>\n",
       "    <tr>\n",
       "      <th>6697</th>\n",
       "      <td>9d263b8ef15cf188</td>\n",
       "      <td>2020-12-16</td>\n",
       "      <td>n.america</td>\n",
       "      <td>mac</td>\n",
       "    </tr>\n",
       "    <tr>\n",
       "      <th>6698</th>\n",
       "      <td>f2fbba33f37dec46</td>\n",
       "      <td>2020-12-18</td>\n",
       "      <td>apac</td>\n",
       "      <td>mac</td>\n",
       "    </tr>\n",
       "    <tr>\n",
       "      <th>6699</th>\n",
       "      <td>29c92313a98b1176</td>\n",
       "      <td>2020-12-07</td>\n",
       "      <td>apac</td>\n",
       "      <td>android</td>\n",
       "    </tr>\n",
       "    <tr>\n",
       "      <th>6700</th>\n",
       "      <td>6715343afba285ae</td>\n",
       "      <td>2020-12-07</td>\n",
       "      <td>cis</td>\n",
       "      <td>android</td>\n",
       "    </tr>\n",
       "  </tbody>\n",
       "</table>\n",
       "<p>6701 rows × 4 columns</p>\n",
       "</div>"
      ],
      "text/plain": [
       "               user_id first_date     region   device\n",
       "0     d1aba3e2887b6a73 2020-12-07         eu       pc\n",
       "1     a7a3664bd6242119 2020-12-20         eu   iphone\n",
       "2     dabc14fddfadd29e 2020-12-08         eu      mac\n",
       "3     04988c5df189632e 2020-12-14         eu   iphone\n",
       "4     482f14783456d21b 2020-12-14         eu       pc\n",
       "...                ...        ...        ...      ...\n",
       "6696  053fb26d6d49eddc 2020-12-10  n.america  android\n",
       "6697  9d263b8ef15cf188 2020-12-16  n.america      mac\n",
       "6698  f2fbba33f37dec46 2020-12-18       apac      mac\n",
       "6699  29c92313a98b1176 2020-12-07       apac  android\n",
       "6700  6715343afba285ae 2020-12-07        cis  android\n",
       "\n",
       "[6701 rows x 4 columns]"
      ]
     },
     "execution_count": 16,
     "metadata": {},
     "output_type": "execute_result"
    }
   ],
   "source": [
    "new_table = practicipants.query('ab_test == \"recommender_system_test\"')['user_id']\n",
    "regions_df = pd.merge(new_users, new_table, how='right', on='user_id')\n",
    "regions_df"
   ]
  },
  {
   "cell_type": "code",
   "execution_count": 17,
   "metadata": {},
   "outputs": [
    {
     "data": {
      "image/png": "[encoded data removed]",
      "text/plain": [
       "<Figure size 720x504 with 1 Axes>"
      ]
     },
     "metadata": {
      "needs_background": "light"
     },
     "output_type": "display_data"
    }
   ],
   "source": [
    "plt.figure(figsize = (10, 7))\n",
    "ax = sns.barplot(data=regions_df['region'].value_counts().reset_index(), x='index', y='region')\n",
    "plt.xticks(rotation = 30)\n",
    "for p in ax.patches:\n",
    "    plt.annotate(format(p.get_height(), '.0f'), \n",
    "                (p.get_x() + p.get_width() / 2., p.get_height()), \n",
    "                ha = 'center', va = 'center', \n",
    "\t\t\t\t\t\t\t\tfontsize = 12,\n",
    "                xytext = (0, 4), \n",
    "                textcoords = 'offset points')\n",
    "plt.title('Регионы проживания пользователей целевого теста', size=15)\n",
    "plt.xlabel('Регионы', size=13)\n",
    "plt.ylabel('Кол-во пользователей', size=13)\n",
    "plt.show()"
   ]
  },
  {
   "cell_type": "code",
   "execution_count": 18,
   "metadata": {},
   "outputs": [
    {
     "name": "stdout",
     "output_type": "stream",
     "text": [
      "В выборке целевого теста учавствует 13.73% пользователей из EU сегмента.\n"
     ]
    }
   ],
   "source": [
    "experement_users = regions_df[regions_df['region'] == 'eu']['user_id'].count() / new_users[new_users['region'] == 'eu']['user_id'].count()\n",
    "print('В выборке целевого теста учавствует {:.2%} пользователей из EU сегмента.'.format(experement_users))"
   ]
  },
  {
   "cell_type": "markdown",
   "metadata": {},
   "source": [
    "**По итогам оцеки корректности:**\n",
    " - тест проводился во время действия маркетинговой кампании;\n",
    " - 1602 пользователя попали в оба параллельно идущих теста;\n",
    " - в группе А 3824 человека, в группе Б 2877 человек;\n",
    " - недобрали ползователей до целевой отметки в 15%.\n",
    "\n",
    "По итогам этой части исследования можно сказать, что такое распределение по группам, и параллельно идущая маркетинговая акция могут привести к неудовлетворительным результатам тестирования."
   ]
  },
  {
   "cell_type": "markdown",
   "metadata": {},
   "source": [
    "## <a id=\"eda\">Исследовательский анализ данных</a>"
   ]
  },
  {
   "cell_type": "markdown",
   "metadata": {},
   "source": [
    "### <a id=\"3.1\">Формирвание общей таблицы</a>"
   ]
  },
  {
   "cell_type": "markdown",
   "metadata": {},
   "source": [
    "Создадим таблицу целевого теста, исключим пользователей, которые учавствовали в двух тестах параллельно, выберем пользователей из сегмента EU и зарегистрировавшихся не более 14 дней назад."
   ]
  },
  {
   "cell_type": "code",
   "execution_count": 19,
   "metadata": {},
   "outputs": [
    {
     "data": {
      "text/html": [
       "<div>\n",
       "<style scoped>\n",
       "    .dataframe tbody tr th:only-of-type {\n",
       "        vertical-align: middle;\n",
       "    }\n",
       "\n",
       "    .dataframe tbody tr th {\n",
       "        vertical-align: top;\n",
       "    }\n",
       "\n",
       "    .dataframe thead th {\n",
       "        text-align: right;\n",
       "    }\n",
       "</style>\n",
       "<table border=\"1\" class=\"dataframe\">\n",
       "  <thead>\n",
       "    <tr style=\"text-align: right;\">\n",
       "      <th></th>\n",
       "      <th>user_id</th>\n",
       "      <th>group</th>\n",
       "      <th>ab_test</th>\n",
       "      <th>event_dt</th>\n",
       "      <th>event_name</th>\n",
       "      <th>details</th>\n",
       "      <th>first_date</th>\n",
       "      <th>region</th>\n",
       "      <th>device</th>\n",
       "    </tr>\n",
       "  </thead>\n",
       "  <tbody>\n",
       "    <tr>\n",
       "      <th>0</th>\n",
       "      <td>d1aba3e2887b6a73</td>\n",
       "      <td>a</td>\n",
       "      <td>recommender_system_test</td>\n",
       "      <td>2020-12-07</td>\n",
       "      <td>purchase</td>\n",
       "      <td>99.99</td>\n",
       "      <td>2020-12-07</td>\n",
       "      <td>eu</td>\n",
       "      <td>pc</td>\n",
       "    </tr>\n",
       "    <tr>\n",
       "      <th>2</th>\n",
       "      <td>d1aba3e2887b6a73</td>\n",
       "      <td>a</td>\n",
       "      <td>recommender_system_test</td>\n",
       "      <td>2020-12-07</td>\n",
       "      <td>product_cart</td>\n",
       "      <td>NaN</td>\n",
       "      <td>2020-12-07</td>\n",
       "      <td>eu</td>\n",
       "      <td>pc</td>\n",
       "    </tr>\n",
       "    <tr>\n",
       "      <th>4</th>\n",
       "      <td>d1aba3e2887b6a73</td>\n",
       "      <td>a</td>\n",
       "      <td>recommender_system_test</td>\n",
       "      <td>2020-12-07</td>\n",
       "      <td>product_page</td>\n",
       "      <td>NaN</td>\n",
       "      <td>2020-12-07</td>\n",
       "      <td>eu</td>\n",
       "      <td>pc</td>\n",
       "    </tr>\n",
       "    <tr>\n",
       "      <th>6</th>\n",
       "      <td>d1aba3e2887b6a73</td>\n",
       "      <td>a</td>\n",
       "      <td>recommender_system_test</td>\n",
       "      <td>2020-12-07</td>\n",
       "      <td>login</td>\n",
       "      <td>NaN</td>\n",
       "      <td>2020-12-07</td>\n",
       "      <td>eu</td>\n",
       "      <td>pc</td>\n",
       "    </tr>\n",
       "    <tr>\n",
       "      <th>8</th>\n",
       "      <td>a7a3664bd6242119</td>\n",
       "      <td>a</td>\n",
       "      <td>recommender_system_test</td>\n",
       "      <td>2020-12-20</td>\n",
       "      <td>product_page</td>\n",
       "      <td>NaN</td>\n",
       "      <td>2020-12-20</td>\n",
       "      <td>eu</td>\n",
       "      <td>iphone</td>\n",
       "    </tr>\n",
       "    <tr>\n",
       "      <th>...</th>\n",
       "      <td>...</td>\n",
       "      <td>...</td>\n",
       "      <td>...</td>\n",
       "      <td>...</td>\n",
       "      <td>...</td>\n",
       "      <td>...</td>\n",
       "      <td>...</td>\n",
       "      <td>...</td>\n",
       "      <td>...</td>\n",
       "    </tr>\n",
       "    <tr>\n",
       "      <th>23415</th>\n",
       "      <td>80712ed4ea1b52a5</td>\n",
       "      <td>a</td>\n",
       "      <td>recommender_system_test</td>\n",
       "      <td>2020-12-15</td>\n",
       "      <td>product_page</td>\n",
       "      <td>NaN</td>\n",
       "      <td>2020-12-14</td>\n",
       "      <td>eu</td>\n",
       "      <td>android</td>\n",
       "    </tr>\n",
       "    <tr>\n",
       "      <th>23416</th>\n",
       "      <td>80712ed4ea1b52a5</td>\n",
       "      <td>a</td>\n",
       "      <td>recommender_system_test</td>\n",
       "      <td>2020-12-20</td>\n",
       "      <td>product_page</td>\n",
       "      <td>NaN</td>\n",
       "      <td>2020-12-14</td>\n",
       "      <td>eu</td>\n",
       "      <td>android</td>\n",
       "    </tr>\n",
       "    <tr>\n",
       "      <th>23417</th>\n",
       "      <td>80712ed4ea1b52a5</td>\n",
       "      <td>a</td>\n",
       "      <td>recommender_system_test</td>\n",
       "      <td>2020-12-14</td>\n",
       "      <td>login</td>\n",
       "      <td>NaN</td>\n",
       "      <td>2020-12-14</td>\n",
       "      <td>eu</td>\n",
       "      <td>android</td>\n",
       "    </tr>\n",
       "    <tr>\n",
       "      <th>23418</th>\n",
       "      <td>80712ed4ea1b52a5</td>\n",
       "      <td>a</td>\n",
       "      <td>recommender_system_test</td>\n",
       "      <td>2020-12-15</td>\n",
       "      <td>login</td>\n",
       "      <td>NaN</td>\n",
       "      <td>2020-12-14</td>\n",
       "      <td>eu</td>\n",
       "      <td>android</td>\n",
       "    </tr>\n",
       "    <tr>\n",
       "      <th>23419</th>\n",
       "      <td>80712ed4ea1b52a5</td>\n",
       "      <td>a</td>\n",
       "      <td>recommender_system_test</td>\n",
       "      <td>2020-12-20</td>\n",
       "      <td>login</td>\n",
       "      <td>NaN</td>\n",
       "      <td>2020-12-14</td>\n",
       "      <td>eu</td>\n",
       "      <td>android</td>\n",
       "    </tr>\n",
       "  </tbody>\n",
       "</table>\n",
       "<p>22828 rows × 9 columns</p>\n",
       "</div>"
      ],
      "text/plain": [
       "                user_id group                  ab_test    event_dt  \\\n",
       "0      d1aba3e2887b6a73     a  recommender_system_test  2020-12-07   \n",
       "2      d1aba3e2887b6a73     a  recommender_system_test  2020-12-07   \n",
       "4      d1aba3e2887b6a73     a  recommender_system_test  2020-12-07   \n",
       "6      d1aba3e2887b6a73     a  recommender_system_test  2020-12-07   \n",
       "8      a7a3664bd6242119     a  recommender_system_test  2020-12-20   \n",
       "...                 ...   ...                      ...         ...   \n",
       "23415  80712ed4ea1b52a5     a  recommender_system_test  2020-12-15   \n",
       "23416  80712ed4ea1b52a5     a  recommender_system_test  2020-12-20   \n",
       "23417  80712ed4ea1b52a5     a  recommender_system_test  2020-12-14   \n",
       "23418  80712ed4ea1b52a5     a  recommender_system_test  2020-12-15   \n",
       "23419  80712ed4ea1b52a5     a  recommender_system_test  2020-12-20   \n",
       "\n",
       "         event_name  details  first_date region   device  \n",
       "0          purchase    99.99  2020-12-07     eu       pc  \n",
       "2      product_cart      NaN  2020-12-07     eu       pc  \n",
       "4      product_page      NaN  2020-12-07     eu       pc  \n",
       "6             login      NaN  2020-12-07     eu       pc  \n",
       "8      product_page      NaN  2020-12-20     eu   iphone  \n",
       "...             ...      ...         ...    ...      ...  \n",
       "23415  product_page      NaN  2020-12-14     eu  android  \n",
       "23416  product_page      NaN  2020-12-14     eu  android  \n",
       "23417         login      NaN  2020-12-14     eu  android  \n",
       "23418         login      NaN  2020-12-14     eu  android  \n",
       "23419         login      NaN  2020-12-14     eu  android  \n",
       "\n",
       "[22828 rows x 9 columns]"
      ]
     },
     "execution_count": 19,
     "metadata": {},
     "output_type": "execute_result"
    }
   ],
   "source": [
    "events_per_users = practicipants.query('ab_test == \"recommender_system_test\" & user_id not in @double_tests_users').merge(\n",
    "\tab_events, how='inner', on='user_id')\n",
    "events_per_users = pd.merge(events_per_users, new_users, how='inner', on='user_id')\n",
    "events_per_users['event_dt'] = pd.to_datetime(events_per_users['event_dt']).dt.date\n",
    "events_per_users['first_date'] = pd.to_datetime(events_per_users['first_date']).dt.date\n",
    "events_per_users = events_per_users.query('region == \"eu\"')\n",
    "events_per_users = events_per_users[(events_per_users['event_dt'] - events_per_users['first_date']).dt.days < 15]\n",
    "events_per_users"
   ]
  },
  {
   "cell_type": "markdown",
   "metadata": {},
   "source": [
    "### <a id=\"3.2\">Количество событий в выборке</a>"
   ]
  },
  {
   "cell_type": "markdown",
   "metadata": {},
   "source": [
    "**Количество событий на одного человека**"
   ]
  },
  {
   "cell_type": "code",
   "execution_count": 20,
   "metadata": {},
   "outputs": [
    {
     "name": "stdout",
     "output_type": "stream",
     "text": [
      "В стреднем на одного пользователя приходится 7 событий.\n"
     ]
    }
   ],
   "source": [
    "print('В стреднем на одного пользователя приходится {:.0f} событий.'.format(events_per_users.groupby('user_id')['event_name'].count().mean()))"
   ]
  },
  {
   "cell_type": "markdown",
   "metadata": {},
   "source": [
    "**События в выборке с разбивкой по дням и группам**"
   ]
  },
  {
   "cell_type": "code",
   "execution_count": 21,
   "metadata": {},
   "outputs": [
    {
     "data": {
      "text/html": [
       "<div>\n",
       "<style scoped>\n",
       "    .dataframe tbody tr th:only-of-type {\n",
       "        vertical-align: middle;\n",
       "    }\n",
       "\n",
       "    .dataframe tbody tr th {\n",
       "        vertical-align: top;\n",
       "    }\n",
       "\n",
       "    .dataframe thead th {\n",
       "        text-align: right;\n",
       "    }\n",
       "</style>\n",
       "<table border=\"1\" class=\"dataframe\">\n",
       "  <thead>\n",
       "    <tr style=\"text-align: right;\">\n",
       "      <th></th>\n",
       "      <th>event_dt</th>\n",
       "      <th>group</th>\n",
       "      <th>event_name</th>\n",
       "    </tr>\n",
       "  </thead>\n",
       "  <tbody>\n",
       "    <tr>\n",
       "      <th>0</th>\n",
       "      <td>2020-12-07</td>\n",
       "      <td>a</td>\n",
       "      <td>318</td>\n",
       "    </tr>\n",
       "    <tr>\n",
       "      <th>1</th>\n",
       "      <td>2020-12-07</td>\n",
       "      <td>b</td>\n",
       "      <td>356</td>\n",
       "    </tr>\n",
       "    <tr>\n",
       "      <th>2</th>\n",
       "      <td>2020-12-08</td>\n",
       "      <td>a</td>\n",
       "      <td>313</td>\n",
       "    </tr>\n",
       "    <tr>\n",
       "      <th>3</th>\n",
       "      <td>2020-12-08</td>\n",
       "      <td>b</td>\n",
       "      <td>238</td>\n",
       "    </tr>\n",
       "    <tr>\n",
       "      <th>4</th>\n",
       "      <td>2020-12-09</td>\n",
       "      <td>a</td>\n",
       "      <td>371</td>\n",
       "    </tr>\n",
       "    <tr>\n",
       "      <th>5</th>\n",
       "      <td>2020-12-09</td>\n",
       "      <td>b</td>\n",
       "      <td>338</td>\n",
       "    </tr>\n",
       "    <tr>\n",
       "      <th>6</th>\n",
       "      <td>2020-12-10</td>\n",
       "      <td>a</td>\n",
       "      <td>331</td>\n",
       "    </tr>\n",
       "    <tr>\n",
       "      <th>7</th>\n",
       "      <td>2020-12-10</td>\n",
       "      <td>b</td>\n",
       "      <td>249</td>\n",
       "    </tr>\n",
       "    <tr>\n",
       "      <th>8</th>\n",
       "      <td>2020-12-11</td>\n",
       "      <td>a</td>\n",
       "      <td>356</td>\n",
       "    </tr>\n",
       "    <tr>\n",
       "      <th>9</th>\n",
       "      <td>2020-12-11</td>\n",
       "      <td>b</td>\n",
       "      <td>161</td>\n",
       "    </tr>\n",
       "  </tbody>\n",
       "</table>\n",
       "</div>"
      ],
      "text/plain": [
       "     event_dt group  event_name\n",
       "0  2020-12-07     a         318\n",
       "1  2020-12-07     b         356\n",
       "2  2020-12-08     a         313\n",
       "3  2020-12-08     b         238\n",
       "4  2020-12-09     a         371\n",
       "5  2020-12-09     b         338\n",
       "6  2020-12-10     a         331\n",
       "7  2020-12-10     b         249\n",
       "8  2020-12-11     a         356\n",
       "9  2020-12-11     b         161"
      ]
     },
     "execution_count": 21,
     "metadata": {},
     "output_type": "execute_result"
    }
   ],
   "source": [
    "res_date = events_per_users.groupby(['event_dt', 'group'])['event_name'].count().reset_index()\n",
    "res_date.head(10)"
   ]
  },
  {
   "cell_type": "code",
   "execution_count": 22,
   "metadata": {},
   "outputs": [
    {
     "data": {
      "image/png": "[encoded data removed]",
      "text/plain": [
       "<Figure size 1800x504 with 1 Axes>"
      ]
     },
     "metadata": {
      "needs_background": "light"
     },
     "output_type": "display_data"
    }
   ],
   "source": [
    "plt.figure(figsize = (25, 7))\n",
    "plt.grid(True)\n",
    "sns.barplot(data=res_date, x='event_dt', y='event_name', hue='group')\n",
    "plt.xticks(rotation = 30)\n",
    "plt.title('Кол-во событий с разбивкой по датам и группам', size=15)\n",
    "plt.xlabel('Дата', size=13)\n",
    "plt.ylabel('Кол-во событий', size=13)\n",
    "plt.show()"
   ]
  },
  {
   "cell_type": "markdown",
   "metadata": {},
   "source": [
    "Пик активности группы А наблюдается с 14.12.2020 по 27.12.2020, в это время кол-во событий резко возрастает до ~1800 шт., затем начинает снижаться до отметки ~300 шт.\n",
    "<br>Группа Б ведет сябя равномерно на всем временном отрезке времени, кол-во событий находится в диапазоне от ~100 до ~400 шт."
   ]
  },
  {
   "cell_type": "markdown",
   "metadata": {},
   "source": [
    "**Количество событий в тестовых группах**"
   ]
  },
  {
   "cell_type": "code",
   "execution_count": 23,
   "metadata": {},
   "outputs": [
    {
     "data": {
      "text/html": [
       "<div>\n",
       "<style scoped>\n",
       "    .dataframe tbody tr th:only-of-type {\n",
       "        vertical-align: middle;\n",
       "    }\n",
       "\n",
       "    .dataframe tbody tr th {\n",
       "        vertical-align: top;\n",
       "    }\n",
       "\n",
       "    .dataframe thead th {\n",
       "        text-align: right;\n",
       "    }\n",
       "</style>\n",
       "<table border=\"1\" class=\"dataframe\">\n",
       "  <thead>\n",
       "    <tr style=\"text-align: right;\">\n",
       "      <th></th>\n",
       "      <th>event_name</th>\n",
       "      <th>group</th>\n",
       "      <th>user_id</th>\n",
       "    </tr>\n",
       "  </thead>\n",
       "  <tbody>\n",
       "    <tr>\n",
       "      <th>0</th>\n",
       "      <td>login</td>\n",
       "      <td>a</td>\n",
       "      <td>2604</td>\n",
       "    </tr>\n",
       "    <tr>\n",
       "      <th>1</th>\n",
       "      <td>login</td>\n",
       "      <td>b</td>\n",
       "      <td>876</td>\n",
       "    </tr>\n",
       "    <tr>\n",
       "      <th>2</th>\n",
       "      <td>product_cart</td>\n",
       "      <td>a</td>\n",
       "      <td>782</td>\n",
       "    </tr>\n",
       "    <tr>\n",
       "      <th>3</th>\n",
       "      <td>product_cart</td>\n",
       "      <td>b</td>\n",
       "      <td>244</td>\n",
       "    </tr>\n",
       "    <tr>\n",
       "      <th>4</th>\n",
       "      <td>product_page</td>\n",
       "      <td>a</td>\n",
       "      <td>1685</td>\n",
       "    </tr>\n",
       "    <tr>\n",
       "      <th>5</th>\n",
       "      <td>product_page</td>\n",
       "      <td>b</td>\n",
       "      <td>493</td>\n",
       "    </tr>\n",
       "    <tr>\n",
       "      <th>6</th>\n",
       "      <td>purchase</td>\n",
       "      <td>a</td>\n",
       "      <td>833</td>\n",
       "    </tr>\n",
       "    <tr>\n",
       "      <th>7</th>\n",
       "      <td>purchase</td>\n",
       "      <td>b</td>\n",
       "      <td>249</td>\n",
       "    </tr>\n",
       "  </tbody>\n",
       "</table>\n",
       "</div>"
      ],
      "text/plain": [
       "     event_name group  user_id\n",
       "0         login     a     2604\n",
       "1         login     b      876\n",
       "2  product_cart     a      782\n",
       "3  product_cart     b      244\n",
       "4  product_page     a     1685\n",
       "5  product_page     b      493\n",
       "6      purchase     a      833\n",
       "7      purchase     b      249"
      ]
     },
     "execution_count": 23,
     "metadata": {},
     "output_type": "execute_result"
    }
   ],
   "source": [
    "res_group = events_per_users.groupby(['event_name', 'group'])['user_id'].nunique().reset_index()\n",
    "res_group"
   ]
  },
  {
   "cell_type": "code",
   "execution_count": 24,
   "metadata": {},
   "outputs": [
    {
     "data": {
      "image/png": "[encoded data removed]",
      "text/plain": [
       "<Figure size 720x504 with 1 Axes>"
      ]
     },
     "metadata": {
      "needs_background": "light"
     },
     "output_type": "display_data"
    }
   ],
   "source": [
    "plt.figure(figsize = (10, 7))\n",
    "ax = sns.barplot(data = res_group, x = 'event_name', y='user_id', hue = 'group', order=['login', 'product_page', 'product_cart', 'purchase'])\n",
    "plt.xticks(rotation = 30)\n",
    "for p in ax.patches:\n",
    "    plt.annotate(format(p.get_height(), '.0f'), \n",
    "                (p.get_x() + p.get_width() / 2., p.get_height()), \n",
    "                ha = 'center', va = 'center', \n",
    "\t\t\t\t\t\t\t\tfontsize = 12,\n",
    "                xytext = (0, 4), \n",
    "                textcoords = 'offset points')\n",
    "plt.title('Кол-во событий с разбивкой по группам', size=15)\n",
    "plt.xlabel('Событие', size=13)\n",
    "plt.ylabel('Кол-во событий', size=13)\n",
    "plt.show()"
   ]
  },
  {
   "cell_type": "markdown",
   "metadata": {},
   "source": [
    "### <a id=\"3.3\">Воронка конверсий по выборкам</a>"
   ]
  },
  {
   "cell_type": "code",
   "execution_count": 25,
   "metadata": {},
   "outputs": [
    {
     "data": {
      "text/html": [
       "<div>\n",
       "<style scoped>\n",
       "    .dataframe tbody tr th:only-of-type {\n",
       "        vertical-align: middle;\n",
       "    }\n",
       "\n",
       "    .dataframe tbody tr th {\n",
       "        vertical-align: top;\n",
       "    }\n",
       "\n",
       "    .dataframe thead th {\n",
       "        text-align: right;\n",
       "    }\n",
       "</style>\n",
       "<table border=\"1\" class=\"dataframe\">\n",
       "  <thead>\n",
       "    <tr style=\"text-align: right;\">\n",
       "      <th></th>\n",
       "      <th>event_name</th>\n",
       "      <th>user_id</th>\n",
       "    </tr>\n",
       "  </thead>\n",
       "  <tbody>\n",
       "    <tr>\n",
       "      <th>0</th>\n",
       "      <td>login</td>\n",
       "      <td>2604</td>\n",
       "    </tr>\n",
       "    <tr>\n",
       "      <th>1</th>\n",
       "      <td>product_page</td>\n",
       "      <td>1685</td>\n",
       "    </tr>\n",
       "    <tr>\n",
       "      <th>3</th>\n",
       "      <td>product_cart</td>\n",
       "      <td>782</td>\n",
       "    </tr>\n",
       "    <tr>\n",
       "      <th>2</th>\n",
       "      <td>purchase</td>\n",
       "      <td>833</td>\n",
       "    </tr>\n",
       "  </tbody>\n",
       "</table>\n",
       "</div>"
      ],
      "text/plain": [
       "     event_name  user_id\n",
       "0         login     2604\n",
       "1  product_page     1685\n",
       "3  product_cart      782\n",
       "2      purchase      833"
      ]
     },
     "execution_count": 25,
     "metadata": {},
     "output_type": "execute_result"
    }
   ],
   "source": [
    "group_a_conv = (events_per_users.query('group == \"a\"')\n",
    "                   .groupby('event_name')\n",
    "                   .agg({'user_id':'nunique'})\n",
    "                   .sort_values(by = 'user_id', ascending=False)\n",
    "                   .reset_index())\n",
    "\n",
    "group_a_conv = group_a_conv.reindex([0, 1, 3, 2])\n",
    "\n",
    "group_a_conv"
   ]
  },
  {
   "cell_type": "code",
   "execution_count": 26,
   "metadata": {},
   "outputs": [
    {
     "data": {
      "text/html": [
       "<div>\n",
       "<style scoped>\n",
       "    .dataframe tbody tr th:only-of-type {\n",
       "        vertical-align: middle;\n",
       "    }\n",
       "\n",
       "    .dataframe tbody tr th {\n",
       "        vertical-align: top;\n",
       "    }\n",
       "\n",
       "    .dataframe thead th {\n",
       "        text-align: right;\n",
       "    }\n",
       "</style>\n",
       "<table border=\"1\" class=\"dataframe\">\n",
       "  <thead>\n",
       "    <tr style=\"text-align: right;\">\n",
       "      <th></th>\n",
       "      <th>event_name</th>\n",
       "      <th>user_id</th>\n",
       "    </tr>\n",
       "  </thead>\n",
       "  <tbody>\n",
       "    <tr>\n",
       "      <th>0</th>\n",
       "      <td>login</td>\n",
       "      <td>876</td>\n",
       "    </tr>\n",
       "    <tr>\n",
       "      <th>1</th>\n",
       "      <td>product_page</td>\n",
       "      <td>493</td>\n",
       "    </tr>\n",
       "    <tr>\n",
       "      <th>3</th>\n",
       "      <td>product_cart</td>\n",
       "      <td>244</td>\n",
       "    </tr>\n",
       "    <tr>\n",
       "      <th>2</th>\n",
       "      <td>purchase</td>\n",
       "      <td>249</td>\n",
       "    </tr>\n",
       "  </tbody>\n",
       "</table>\n",
       "</div>"
      ],
      "text/plain": [
       "     event_name  user_id\n",
       "0         login      876\n",
       "1  product_page      493\n",
       "3  product_cart      244\n",
       "2      purchase      249"
      ]
     },
     "execution_count": 26,
     "metadata": {},
     "output_type": "execute_result"
    }
   ],
   "source": [
    "group_b_conv = (events_per_users.query('group == \"b\"')\n",
    "                   .groupby('event_name')\n",
    "                   .agg({'user_id':'nunique'})\n",
    "                   .sort_values(by = 'user_id', ascending=False)\n",
    "                   .reset_index())\n",
    "\n",
    "group_b_conv = group_b_conv.reindex([0, 1, 3, 2])\n",
    "\n",
    "group_b_conv"
   ]
  },
  {
   "cell_type": "code",
   "execution_count": 27,
   "metadata": {},
   "outputs": [
    {
     "data": {
      "application/vnd.plotly.v1+json": {
       "config": {
        "plotlyServerURL": "https://plot.ly"
       },
       "data": [
        {
         "name": "group A",
         "textinfo": "value+percent previous",
         "type": "funnel",
         "x": [
          2604,
          1685,
          782,
          833
         ],
         "y": [
          "login",
          "product_page",
          "product_cart",
          "purchase"
         ]
        },
        {
         "name": "group B",
         "textinfo": "value+percent previous",
         "type": "funnel",
         "x": [
          876,
          493,
          244,
          249
         ],
         "y": [
          "login",
          "product_page",
          "product_cart",
          "purchase"
         ]
        }
       ],
       "layout": {
        "autosize": true,
        "template": {
         "data": {
          "bar": [
           {
            "error_x": {
             "color": "#2a3f5f"
            },
            "error_y": {
             "color": "#2a3f5f"
            },
            "marker": {
             "line": {
              "color": "#E5ECF6",
              "width": 0.5
             },
             "pattern": {
              "fillmode": "overlay",
              "size": 10,
              "solidity": 0.2
             }
            },
            "type": "bar"
           }
          ],
          "barpolar": [
           {
            "marker": {
             "line": {
              "color": "#E5ECF6",
              "width": 0.5
             },
             "pattern": {
              "fillmode": "overlay",
              "size": 10,
              "solidity": 0.2
             }
            },
            "type": "barpolar"
           }
          ],
          "carpet": [
           {
            "aaxis": {
             "endlinecolor": "#2a3f5f",
             "gridcolor": "white",
             "linecolor": "white",
             "minorgridcolor": "white",
             "startlinecolor": "#2a3f5f"
            },
            "baxis": {
             "endlinecolor": "#2a3f5f",
             "gridcolor": "white",
             "linecolor": "white",
             "minorgridcolor": "white",
             "startlinecolor": "#2a3f5f"
            },
            "type": "carpet"
           }
          ],
          "choropleth": [
           {
            "colorbar": {
             "outlinewidth": 0,
             "ticks": ""
            },
            "type": "choropleth"
           }
          ],
          "contour": [
           {
            "colorbar": {
             "outlinewidth": 0,
             "ticks": ""
            },
            "colorscale": [
             [
              0,
              "#0d0887"
             ],
             [
              0.1111111111111111,
              "#46039f"
             ],
             [
              0.2222222222222222,
              "#7201a8"
             ],
             [
              0.3333333333333333,
              "#9c179e"
             ],
             [
              0.4444444444444444,
              "#bd3786"
             ],
             [
              0.5555555555555556,
              "#d8576b"
             ],
             [
              0.6666666666666666,
              "#ed7953"
             ],
             [
              0.7777777777777778,
              "#fb9f3a"
             ],
             [
              0.8888888888888888,
              "#fdca26"
             ],
             [
              1,
              "#f0f921"
             ]
            ],
            "type": "contour"
           }
          ],
          "contourcarpet": [
           {
            "colorbar": {
             "outlinewidth": 0,
             "ticks": ""
            },
            "type": "contourcarpet"
           }
          ],
          "heatmap": [
           {
            "colorbar": {
             "outlinewidth": 0,
             "ticks": ""
            },
            "colorscale": [
             [
              0,
              "#0d0887"
             ],
             [
              0.1111111111111111,
              "#46039f"
             ],
             [
              0.2222222222222222,
              "#7201a8"
             ],
             [
              0.3333333333333333,
              "#9c179e"
             ],
             [
              0.4444444444444444,
              "#bd3786"
             ],
             [
              0.5555555555555556,
              "#d8576b"
             ],
             [
              0.6666666666666666,
              "#ed7953"
             ],
             [
              0.7777777777777778,
              "#fb9f3a"
             ],
             [
              0.8888888888888888,
              "#fdca26"
             ],
             [
              1,
              "#f0f921"
             ]
            ],
            "type": "heatmap"
           }
          ],
          "heatmapgl": [
           {
            "colorbar": {
             "outlinewidth": 0,
             "ticks": ""
            },
            "colorscale": [
             [
              0,
              "#0d0887"
             ],
             [
              0.1111111111111111,
              "#46039f"
             ],
             [
              0.2222222222222222,
              "#7201a8"
             ],
             [
              0.3333333333333333,
              "#9c179e"
             ],
             [
              0.4444444444444444,
              "#bd3786"
             ],
             [
              0.5555555555555556,
              "#d8576b"
             ],
             [
              0.6666666666666666,
              "#ed7953"
             ],
             [
              0.7777777777777778,
              "#fb9f3a"
             ],
             [
              0.8888888888888888,
              "#fdca26"
             ],
             [
              1,
              "#f0f921"
             ]
            ],
            "type": "heatmapgl"
           }
          ],
          "histogram": [
           {
            "marker": {
             "pattern": {
              "fillmode": "overlay",
              "size": 10,
              "solidity": 0.2
             }
            },
            "type": "histogram"
           }
          ],
          "histogram2d": [
           {
            "colorbar": {
             "outlinewidth": 0,
             "ticks": ""
            },
            "colorscale": [
             [
              0,
              "#0d0887"
             ],
             [
              0.1111111111111111,
              "#46039f"
             ],
             [
              0.2222222222222222,
              "#7201a8"
             ],
             [
              0.3333333333333333,
              "#9c179e"
             ],
             [
              0.4444444444444444,
              "#bd3786"
             ],
             [
              0.5555555555555556,
              "#d8576b"
             ],
             [
              0.6666666666666666,
              "#ed7953"
             ],
             [
              0.7777777777777778,
              "#fb9f3a"
             ],
             [
              0.8888888888888888,
              "#fdca26"
             ],
             [
              1,
              "#f0f921"
             ]
            ],
            "type": "histogram2d"
           }
          ],
          "histogram2dcontour": [
           {
            "colorbar": {
             "outlinewidth": 0,
             "ticks": ""
            },
            "colorscale": [
             [
              0,
              "#0d0887"
             ],
             [
              0.1111111111111111,
              "#46039f"
             ],
             [
              0.2222222222222222,
              "#7201a8"
             ],
             [
              0.3333333333333333,
              "#9c179e"
             ],
             [
              0.4444444444444444,
              "#bd3786"
             ],
             [
              0.5555555555555556,
              "#d8576b"
             ],
             [
              0.6666666666666666,
              "#ed7953"
             ],
             [
              0.7777777777777778,
              "#fb9f3a"
             ],
             [
              0.8888888888888888,
              "#fdca26"
             ],
             [
              1,
              "#f0f921"
             ]
            ],
            "type": "histogram2dcontour"
           }
          ],
          "mesh3d": [
           {
            "colorbar": {
             "outlinewidth": 0,
             "ticks": ""
            },
            "type": "mesh3d"
           }
          ],
          "parcoords": [
           {
            "line": {
             "colorbar": {
              "outlinewidth": 0,
              "ticks": ""
             }
            },
            "type": "parcoords"
           }
          ],
          "pie": [
           {
            "automargin": true,
            "type": "pie"
           }
          ],
          "scatter": [
           {
            "fillpattern": {
             "fillmode": "overlay",
             "size": 10,
             "solidity": 0.2
            },
            "type": "scatter"
           }
          ],
          "scatter3d": [
           {
            "line": {
             "colorbar": {
              "outlinewidth": 0,
              "ticks": ""
             }
            },
            "marker": {
             "colorbar": {
              "outlinewidth": 0,
              "ticks": ""
             }
            },
            "type": "scatter3d"
           }
          ],
          "scattercarpet": [
           {
            "marker": {
             "colorbar": {
              "outlinewidth": 0,
              "ticks": ""
             }
            },
            "type": "scattercarpet"
           }
          ],
          "scattergeo": [
           {
            "marker": {
             "colorbar": {
              "outlinewidth": 0,
              "ticks": ""
             }
            },
            "type": "scattergeo"
           }
          ],
          "scattergl": [
           {
            "marker": {
             "colorbar": {
              "outlinewidth": 0,
              "ticks": ""
             }
            },
            "type": "scattergl"
           }
          ],
          "scattermapbox": [
           {
            "marker": {
             "colorbar": {
              "outlinewidth": 0,
              "ticks": ""
             }
            },
            "type": "scattermapbox"
           }
          ],
          "scatterpolar": [
           {
            "marker": {
             "colorbar": {
              "outlinewidth": 0,
              "ticks": ""
             }
            },
            "type": "scatterpolar"
           }
          ],
          "scatterpolargl": [
           {
            "marker": {
             "colorbar": {
              "outlinewidth": 0,
              "ticks": ""
             }
            },
            "type": "scatterpolargl"
           }
          ],
          "scatterternary": [
           {
            "marker": {
             "colorbar": {
              "outlinewidth": 0,
              "ticks": ""
             }
            },
            "type": "scatterternary"
           }
          ],
          "surface": [
           {
            "colorbar": {
             "outlinewidth": 0,
             "ticks": ""
            },
            "colorscale": [
             [
              0,
              "#0d0887"
             ],
             [
              0.1111111111111111,
              "#46039f"
             ],
             [
              0.2222222222222222,
              "#7201a8"
             ],
             [
              0.3333333333333333,
              "#9c179e"
             ],
             [
              0.4444444444444444,
              "#bd3786"
             ],
             [
              0.5555555555555556,
              "#d8576b"
             ],
             [
              0.6666666666666666,
              "#ed7953"
             ],
             [
              0.7777777777777778,
              "#fb9f3a"
             ],
             [
              0.8888888888888888,
              "#fdca26"
             ],
             [
              1,
              "#f0f921"
             ]
            ],
            "type": "surface"
           }
          ],
          "table": [
           {
            "cells": {
             "fill": {
              "color": "#EBF0F8"
             },
             "line": {
              "color": "white"
             }
            },
            "header": {
             "fill": {
              "color": "#C8D4E3"
             },
             "line": {
              "color": "white"
             }
            },
            "type": "table"
           }
          ]
         },
         "layout": {
          "annotationdefaults": {
           "arrowcolor": "#2a3f5f",
           "arrowhead": 0,
           "arrowwidth": 1
          },
          "autotypenumbers": "strict",
          "coloraxis": {
           "colorbar": {
            "outlinewidth": 0,
            "ticks": ""
           }
          },
          "colorscale": {
           "diverging": [
            [
             0,
             "#8e0152"
            ],
            [
             0.1,
             "#c51b7d"
            ],
            [
             0.2,
             "#de77ae"
            ],
            [
             0.3,
             "#f1b6da"
            ],
            [
             0.4,
             "#fde0ef"
            ],
            [
             0.5,
             "#f7f7f7"
            ],
            [
             0.6,
             "#e6f5d0"
            ],
            [
             0.7,
             "#b8e186"
            ],
            [
             0.8,
             "#7fbc41"
            ],
            [
             0.9,
             "#4d9221"
            ],
            [
             1,
             "#276419"
            ]
           ],
           "sequential": [
            [
             0,
             "#0d0887"
            ],
            [
             0.1111111111111111,
             "#46039f"
            ],
            [
             0.2222222222222222,
             "#7201a8"
            ],
            [
             0.3333333333333333,
             "#9c179e"
            ],
            [
             0.4444444444444444,
             "#bd3786"
            ],
            [
             0.5555555555555556,
             "#d8576b"
            ],
            [
             0.6666666666666666,
             "#ed7953"
            ],
            [
             0.7777777777777778,
             "#fb9f3a"
            ],
            [
             0.8888888888888888,
             "#fdca26"
            ],
            [
             1,
             "#f0f921"
            ]
           ],
           "sequentialminus": [
            [
             0,
             "#0d0887"
            ],
            [
             0.1111111111111111,
             "#46039f"
            ],
            [
             0.2222222222222222,
             "#7201a8"
            ],
            [
             0.3333333333333333,
             "#9c179e"
            ],
            [
             0.4444444444444444,
             "#bd3786"
            ],
            [
             0.5555555555555556,
             "#d8576b"
            ],
            [
             0.6666666666666666,
             "#ed7953"
            ],
            [
             0.7777777777777778,
             "#fb9f3a"
            ],
            [
             0.8888888888888888,
             "#fdca26"
            ],
            [
             1,
             "#f0f921"
            ]
           ]
          },
          "colorway": [
           "#636efa",
           "#EF553B",
           "#00cc96",
           "#ab63fa",
           "#FFA15A",
           "#19d3f3",
           "#FF6692",
           "#B6E880",
           "#FF97FF",
           "#FECB52"
          ],
          "font": {
           "color": "#2a3f5f"
          },
          "geo": {
           "bgcolor": "white",
           "lakecolor": "white",
           "landcolor": "#E5ECF6",
           "showlakes": true,
           "showland": true,
           "subunitcolor": "white"
          },
          "hoverlabel": {
           "align": "left"
          },
          "hovermode": "closest",
          "mapbox": {
           "style": "light"
          },
          "paper_bgcolor": "white",
          "plot_bgcolor": "#E5ECF6",
          "polar": {
           "angularaxis": {
            "gridcolor": "white",
            "linecolor": "white",
            "ticks": ""
           },
           "bgcolor": "#E5ECF6",
           "radialaxis": {
            "gridcolor": "white",
            "linecolor": "white",
            "ticks": ""
           }
          },
          "scene": {
           "xaxis": {
            "backgroundcolor": "#E5ECF6",
            "gridcolor": "white",
            "gridwidth": 2,
            "linecolor": "white",
            "showbackground": true,
            "ticks": "",
            "zerolinecolor": "white"
           },
           "yaxis": {
            "backgroundcolor": "#E5ECF6",
            "gridcolor": "white",
            "gridwidth": 2,
            "linecolor": "white",
            "showbackground": true,
            "ticks": "",
            "zerolinecolor": "white"
           },
           "zaxis": {
            "backgroundcolor": "#E5ECF6",
            "gridcolor": "white",
            "gridwidth": 2,
            "linecolor": "white",
            "showbackground": true,
            "ticks": "",
            "zerolinecolor": "white"
           }
          },
          "shapedefaults": {
           "line": {
            "color": "#2a3f5f"
           }
          },
          "ternary": {
           "aaxis": {
            "gridcolor": "white",
            "linecolor": "white",
            "ticks": ""
           },
           "baxis": {
            "gridcolor": "white",
            "linecolor": "white",
            "ticks": ""
           },
           "bgcolor": "#E5ECF6",
           "caxis": {
            "gridcolor": "white",
            "linecolor": "white",
            "ticks": ""
           }
          },
          "title": {
           "x": 0.05
          },
          "xaxis": {
           "automargin": true,
           "gridcolor": "white",
           "linecolor": "white",
           "ticks": "",
           "title": {
            "standoff": 15
           },
           "zerolinecolor": "white",
           "zerolinewidth": 2
          },
          "yaxis": {
           "automargin": true,
           "gridcolor": "white",
           "linecolor": "white",
           "ticks": "",
           "title": {
            "standoff": 15
           },
           "zerolinecolor": "white",
           "zerolinewidth": 2
          }
         }
        },
        "title": {
         "text": "Конверсия событий в группах А и В"
        }
       }
      }
     },
     "metadata": {},
     "output_type": "display_data"
    }
   ],
   "source": [
    "fig = go.Figure()\n",
    "fig.add_trace(go.Funnel(\n",
    "\tname='group A',\n",
    "\tx=group_a_conv['user_id'],\n",
    "  y=group_a_conv['event_name'],\n",
    "\ttextinfo='value+percent previous'))\n",
    "fig.add_trace(go.Funnel(\n",
    "\tname='group B',\n",
    "\tx=group_b_conv['user_id'],\n",
    "  y=group_b_conv['event_name'],\n",
    "\ttextinfo='value+percent previous'))\n",
    "\n",
    "fig.update_layout(\n",
    "\ttitle='Конверсия событий в группах А и В', autosize=True)\n",
    "fig.show()"
   ]
  },
  {
   "cell_type": "markdown",
   "metadata": {},
   "source": [
    "У обоих групп наблюдается резкий спад конверсии при переходе от 'login' на 'product_page', группа А теряет на 9% меньше пользователей.\n",
    "<br>Далее показатели конверсии распределяются таким образом:\n",
    " - при переходе от \"product_page\" к \"product_cart\": группа А теряет 19%, группа Б теряет 7%;\n",
    " - при переходе от \"poduct_cart\" к \"purchase\": группа А получает значение 107%, группа Б 102%\n",
    " \n",
    "Я думаю, что объяснить такой скачек в последнем переходе можно двумя причинами:\n",
    " - произошел технический сбой, который исказил информацию в логах;\n",
    " - есть прямой путь перехода от \"product_page\" к \"purchase\" минуя шаг \"poduct_cart\"."
   ]
  },
  {
   "cell_type": "markdown",
   "metadata": {},
   "source": [
    "## <a id=\"verification\">Оценка результата А/В-теста</a>"
   ]
  },
  {
   "cell_type": "markdown",
   "metadata": {},
   "source": [
    "**Статистически значимые различия в конверсии пользователей по группам**"
   ]
  },
  {
   "cell_type": "markdown",
   "metadata": {},
   "source": [
    "Проведем сравнение конверсий с помощью Z-критерия Фишера. Установим уровень статистической значимость = 5%, т.к. сравнение будет множественным, сразу введем поправку Бонферрони."
   ]
  },
  {
   "cell_type": "markdown",
   "metadata": {},
   "source": [
    "Гипотезы:\n",
    "\n",
    "Н0: Нет статистически значимой разницы между конверсиями групп\n",
    "<br>Н1: Есть статистически значимая разница между конверсиями групп"
   ]
  },
  {
   "cell_type": "code",
   "execution_count": 28,
   "metadata": {},
   "outputs": [
    {
     "data": {
      "text/html": [
       "<div>\n",
       "<style scoped>\n",
       "    .dataframe tbody tr th:only-of-type {\n",
       "        vertical-align: middle;\n",
       "    }\n",
       "\n",
       "    .dataframe tbody tr th {\n",
       "        vertical-align: top;\n",
       "    }\n",
       "\n",
       "    .dataframe thead th {\n",
       "        text-align: right;\n",
       "    }\n",
       "</style>\n",
       "<table border=\"1\" class=\"dataframe\">\n",
       "  <thead>\n",
       "    <tr style=\"text-align: right;\">\n",
       "      <th>group</th>\n",
       "      <th>a</th>\n",
       "      <th>b</th>\n",
       "    </tr>\n",
       "    <tr>\n",
       "      <th>event_name</th>\n",
       "      <th></th>\n",
       "      <th></th>\n",
       "    </tr>\n",
       "  </thead>\n",
       "  <tbody>\n",
       "    <tr>\n",
       "      <th>login</th>\n",
       "      <td>2604</td>\n",
       "      <td>876</td>\n",
       "    </tr>\n",
       "    <tr>\n",
       "      <th>product_page</th>\n",
       "      <td>1685</td>\n",
       "      <td>493</td>\n",
       "    </tr>\n",
       "    <tr>\n",
       "      <th>purchase</th>\n",
       "      <td>833</td>\n",
       "      <td>249</td>\n",
       "    </tr>\n",
       "    <tr>\n",
       "      <th>product_cart</th>\n",
       "      <td>782</td>\n",
       "      <td>244</td>\n",
       "    </tr>\n",
       "  </tbody>\n",
       "</table>\n",
       "</div>"
      ],
      "text/plain": [
       "group            a    b\n",
       "event_name             \n",
       "login         2604  876\n",
       "product_page  1685  493\n",
       "purchase       833  249\n",
       "product_cart   782  244"
      ]
     },
     "execution_count": 28,
     "metadata": {},
     "output_type": "execute_result"
    }
   ],
   "source": [
    "events_per_groups = events_per_users.pivot_table(index = 'event_name', columns = 'group', values = 'user_id', aggfunc = 'nunique')\\\n",
    "                    .sort_values('a', ascending = False)\n",
    "events_per_groups"
   ]
  },
  {
   "cell_type": "code",
   "execution_count": 29,
   "metadata": {},
   "outputs": [],
   "source": [
    "alpha = .05 / 4"
   ]
  },
  {
   "cell_type": "code",
   "execution_count": 30,
   "metadata": {},
   "outputs": [],
   "source": [
    "def z_test(group_1, group_2, events, alpha): \n",
    "    purchases1 = events_per_groups.loc[events, group_1]\n",
    "    purchases2 = events_per_groups.loc[events, group_2]\n",
    "    n1 = events_per_groups.iloc[0, 0]\n",
    "    n2 = events_per_groups.iloc[0, 1]\n",
    "    p1 = purchases1 / n1    \n",
    "    p2 = purchases2 / n2     \n",
    "    difference = p1 - p2    \n",
    "    p_combined = (purchases1 + purchases2) / (n1 + n2)    \n",
    "    z_value = difference / mth.sqrt(p_combined * (1 - p_combined) * (1 / n1 + 1 / n2))                \n",
    "    distr = st.norm(0, 1)    \n",
    "    p_value = (1 - distr.cdf(abs(z_value))) * 2\n",
    "\n",
    "    alpha = alpha\n",
    "    \n",
    "    print('Переход на страницу', events)\n",
    "    print('p-value: ',p_value)\n",
    "   \n",
    "    if (p_value < alpha):\n",
    "        print(\"Отвергаем нулевую гипотезу: есть статистически значимая разница между конверсиями групп\")\n",
    "    else:\n",
    "        print(\"Не получилось отвергнуть нулевую гипотезу: нет статистически значимой разницы между конверсиями групп\") \n",
    "    print('')"
   ]
  },
  {
   "cell_type": "code",
   "execution_count": 31,
   "metadata": {},
   "outputs": [
    {
     "name": "stdout",
     "output_type": "stream",
     "text": [
      "Переход на страницу login\n",
      "p-value:  nan\n",
      "Не получилось отвергнуть нулевую гипотезу: нет статистически значимой разницы между конверсиями групп\n",
      "\n",
      "Переход на страницу product_page\n",
      "p-value:  8.195976000324734e-06\n",
      "Отвергаем нулевую гипотезу: есть статистически значимая разница между конверсиями групп\n",
      "\n",
      "Переход на страницу purchase\n",
      "p-value:  0.04864766695042433\n",
      "Не получилось отвергнуть нулевую гипотезу: нет статистически значимой разницы между конверсиями групп\n",
      "\n",
      "Переход на страницу product_cart\n",
      "p-value:  0.2215941567364419\n",
      "Не получилось отвергнуть нулевую гипотезу: нет статистически значимой разницы между конверсиями групп\n",
      "\n"
     ]
    }
   ],
   "source": [
    "for events in events_per_groups.index:\n",
    "\tz_test('a', 'b', events, alpha)"
   ]
  },
  {
   "cell_type": "markdown",
   "metadata": {},
   "source": [
    "По результатам проверки, статистически значимая разница имеется только при переходе на страницу 'product_page', в остальных случаях конверсия пользователей статистически равна."
   ]
  },
  {
   "cell_type": "markdown",
   "metadata": {},
   "source": [
    "**Подсчитаем разницу прибыли от продаж между группами**"
   ]
  },
  {
   "cell_type": "code",
   "execution_count": 32,
   "metadata": {},
   "outputs": [
    {
     "data": {
      "text/html": [
       "<div>\n",
       "<style scoped>\n",
       "    .dataframe tbody tr th:only-of-type {\n",
       "        vertical-align: middle;\n",
       "    }\n",
       "\n",
       "    .dataframe tbody tr th {\n",
       "        vertical-align: top;\n",
       "    }\n",
       "\n",
       "    .dataframe thead th {\n",
       "        text-align: right;\n",
       "    }\n",
       "</style>\n",
       "<table border=\"1\" class=\"dataframe\">\n",
       "  <thead>\n",
       "    <tr style=\"text-align: right;\">\n",
       "      <th>group</th>\n",
       "      <th>a</th>\n",
       "      <th>b</th>\n",
       "    </tr>\n",
       "    <tr>\n",
       "      <th>event_name</th>\n",
       "      <th></th>\n",
       "      <th></th>\n",
       "    </tr>\n",
       "  </thead>\n",
       "  <tbody>\n",
       "    <tr>\n",
       "      <th>purchase</th>\n",
       "      <td>57705.01</td>\n",
       "      <td>14268.76</td>\n",
       "    </tr>\n",
       "    <tr>\n",
       "      <th>login</th>\n",
       "      <td>0.00</td>\n",
       "      <td>0.00</td>\n",
       "    </tr>\n",
       "    <tr>\n",
       "      <th>product_cart</th>\n",
       "      <td>0.00</td>\n",
       "      <td>0.00</td>\n",
       "    </tr>\n",
       "    <tr>\n",
       "      <th>product_page</th>\n",
       "      <td>0.00</td>\n",
       "      <td>0.00</td>\n",
       "    </tr>\n",
       "  </tbody>\n",
       "</table>\n",
       "</div>"
      ],
      "text/plain": [
       "group               a        b\n",
       "event_name                    \n",
       "purchase     57705.01 14268.76\n",
       "login            0.00     0.00\n",
       "product_cart     0.00     0.00\n",
       "product_page     0.00     0.00"
      ]
     },
     "metadata": {},
     "output_type": "display_data"
    },
    {
     "data": {
      "text/html": [
       "<div>\n",
       "<style scoped>\n",
       "    .dataframe tbody tr th:only-of-type {\n",
       "        vertical-align: middle;\n",
       "    }\n",
       "\n",
       "    .dataframe tbody tr th {\n",
       "        vertical-align: top;\n",
       "    }\n",
       "\n",
       "    .dataframe thead th {\n",
       "        text-align: right;\n",
       "    }\n",
       "</style>\n",
       "<table border=\"1\" class=\"dataframe\">\n",
       "  <thead>\n",
       "    <tr style=\"text-align: right;\">\n",
       "      <th></th>\n",
       "      <th>event_name</th>\n",
       "      <th>profit_difference</th>\n",
       "    </tr>\n",
       "  </thead>\n",
       "  <tbody>\n",
       "    <tr>\n",
       "      <th>0</th>\n",
       "      <td>purchase</td>\n",
       "      <td>-75.27</td>\n",
       "    </tr>\n",
       "  </tbody>\n",
       "</table>\n",
       "</div>"
      ],
      "text/plain": [
       "  event_name  profit_difference\n",
       "0   purchase             -75.27"
      ]
     },
     "metadata": {},
     "output_type": "display_data"
    }
   ],
   "source": [
    "purchase_per_groups = events_per_users.pivot_table(index = 'event_name', columns = 'group', values = 'details', aggfunc = 'sum')\\\n",
    "                    .sort_values('a', ascending = False)\n",
    "purchase_result = (purchase_per_groups['b'] / (purchase_per_groups['a'] / 100) - 100).dropna().reset_index()\n",
    "purchase_result.columns = ['event_name', 'profit_difference']\n",
    "display(purchase_per_groups)\n",
    "display(purchase_result)"
   ]
  },
  {
   "cell_type": "markdown",
   "metadata": {},
   "source": [
    "Выручка от покупок в группе Б меньше на 75.27% по сравнению с группой А.\n",
    "<br>Скорее всего причина такой разницы кроется в весьма неровном распределении между группами."
   ]
  },
  {
   "cell_type": "markdown",
   "metadata": {},
   "source": [
    "## <a id=\"conclusion\">Общий вывод</a>"
   ]
  },
  {
   "cell_type": "markdown",
   "metadata": {},
   "source": [
    "**Проведенный заказчиком тест считаю несостоявшися по следующим причинам:**\n",
    "\n",
    " - тест наканчивается 29.12.2020 вместо зявленного 04.01.2021;\n",
    " - из сегмента EU в тесте учавствет всего 13.73% пользователей;\n",
    " - тест пересекается с маркетинговым событием \"christmas&new year promo\";\n",
    " - 1602 пользователя учавствовали параллельно в двух тестах.\n",
    " - не достигнут желаемый эффект: за 14 дней с момента регистрации пользователи покажут улучшение каждой метрики не менее, чем на 10%:\n",
    "\t<br>1. конверсия в просмотр \"product_page\" уменьшилась на 9%;\n",
    "\t<br>2. просмотры \"product_cart\" увеличилась на 3%;\n",
    "\t<br>3. конверсия в покупок(\"purchase\") увеличилась на 107% для группы А и на 103% для группы Б. Я думаю что эти показатели либо результат технической проблемы, либо пользователи миновали шаг \"product_cart\".\n",
    "\n",
    "Необходимо учесть все ошибки проведенного теста, скорректировать механизм контроля, и провести его повторно.\n",
    "\n",
    "**Рекомендации:**\n",
    "\n",
    " - согласовать время проведения теста и маркетинговых акций;\n",
    " - настроить систему контроля распределения пользователей, как по группам, так и по параллельно идущим тестам;\n",
    " - необходимо доработать систему шагов, от входа до покупки, в настоящем положении невозможно получить адекватный результат;\n",
    " - желательно доработать систему контроля территориальной принадлежности под целевой сегмент теста."
   ]
  }
 ],
 "metadata": {
  "ExecuteTimeLog": [
   {
    "duration": 1271,
    "start_time": "2022-08-21T14:47:53.814Z"
   },
   {
    "duration": 3,
    "start_time": "2022-08-21T14:47:55.087Z"
   },
   {
    "duration": 884,
    "start_time": "2022-08-21T14:47:55.093Z"
   },
   {
    "duration": 584,
    "start_time": "2022-08-21T14:47:55.980Z"
   },
   {
    "duration": 9,
    "start_time": "2022-08-21T14:47:56.565Z"
   },
   {
    "duration": 58,
    "start_time": "2022-08-21T14:47:56.576Z"
   },
   {
    "duration": 26,
    "start_time": "2022-08-21T14:47:56.635Z"
   },
   {
    "duration": 331,
    "start_time": "2022-08-21T14:47:56.662Z"
   },
   {
    "duration": 22,
    "start_time": "2022-08-21T14:47:56.994Z"
   },
   {
    "duration": 447,
    "start_time": "2022-08-21T14:47:57.018Z"
   },
   {
    "duration": 9,
    "start_time": "2022-08-21T14:47:57.466Z"
   },
   {
    "duration": 40,
    "start_time": "2022-08-21T14:47:57.477Z"
   },
   {
    "duration": 6,
    "start_time": "2022-08-21T14:47:57.520Z"
   },
   {
    "duration": 41,
    "start_time": "2022-08-21T14:47:57.527Z"
   },
   {
    "duration": 16,
    "start_time": "2022-08-21T14:47:57.569Z"
   },
   {
    "duration": 40,
    "start_time": "2022-08-21T14:47:57.586Z"
   },
   {
    "duration": 163,
    "start_time": "2022-08-21T14:47:57.628Z"
   },
   {
    "duration": 18,
    "start_time": "2022-08-21T14:47:57.793Z"
   },
   {
    "duration": 242,
    "start_time": "2022-08-21T14:47:57.813Z"
   },
   {
    "duration": 10,
    "start_time": "2022-08-21T14:47:58.057Z"
   },
   {
    "duration": 27,
    "start_time": "2022-08-21T14:47:58.068Z"
   },
   {
    "duration": 406,
    "start_time": "2022-08-21T14:47:58.097Z"
   },
   {
    "duration": 20,
    "start_time": "2022-08-21T14:47:58.504Z"
   },
   {
    "duration": 193,
    "start_time": "2022-08-21T14:47:58.526Z"
   },
   {
    "duration": 18,
    "start_time": "2022-08-21T14:47:58.721Z"
   },
   {
    "duration": 18,
    "start_time": "2022-08-21T14:47:58.741Z"
   },
   {
    "duration": 313,
    "start_time": "2022-08-21T14:47:58.761Z"
   },
   {
    "duration": 37,
    "start_time": "2022-08-21T14:47:59.076Z"
   },
   {
    "duration": 2,
    "start_time": "2022-08-21T14:47:59.114Z"
   },
   {
    "duration": 16,
    "start_time": "2022-08-21T14:47:59.118Z"
   },
   {
    "duration": 36,
    "start_time": "2022-08-21T14:47:59.135Z"
   },
   {
    "duration": 53,
    "start_time": "2022-08-21T14:47:59.172Z"
   },
   {
    "duration": 1403,
    "start_time": "2022-08-21T16:35:33.949Z"
   },
   {
    "duration": 10,
    "start_time": "2022-08-21T16:35:35.355Z"
   },
   {
    "duration": 1156,
    "start_time": "2022-08-21T16:35:35.369Z"
   },
   {
    "duration": 690,
    "start_time": "2022-08-21T16:35:36.527Z"
   },
   {
    "duration": 11,
    "start_time": "2022-08-21T16:35:37.218Z"
   },
   {
    "duration": 55,
    "start_time": "2022-08-21T16:35:37.231Z"
   },
   {
    "duration": 16,
    "start_time": "2022-08-21T16:35:37.289Z"
   },
   {
    "duration": 388,
    "start_time": "2022-08-21T16:35:37.307Z"
   },
   {
    "duration": 19,
    "start_time": "2022-08-21T16:35:37.697Z"
   },
   {
    "duration": 510,
    "start_time": "2022-08-21T16:35:37.719Z"
   },
   {
    "duration": 9,
    "start_time": "2022-08-21T16:35:38.231Z"
   },
   {
    "duration": 51,
    "start_time": "2022-08-21T16:35:38.242Z"
   },
   {
    "duration": 7,
    "start_time": "2022-08-21T16:35:38.294Z"
   },
   {
    "duration": 24,
    "start_time": "2022-08-21T16:35:38.303Z"
   },
   {
    "duration": 43,
    "start_time": "2022-08-21T16:35:38.329Z"
   },
   {
    "duration": 50,
    "start_time": "2022-08-21T16:35:38.373Z"
   },
   {
    "duration": 183,
    "start_time": "2022-08-21T16:35:38.424Z"
   },
   {
    "duration": 16,
    "start_time": "2022-08-21T16:35:38.608Z"
   },
   {
    "duration": 311,
    "start_time": "2022-08-21T16:35:38.625Z"
   },
   {
    "duration": 23,
    "start_time": "2022-08-21T16:35:38.938Z"
   },
   {
    "duration": 29,
    "start_time": "2022-08-21T16:35:38.966Z"
   },
   {
    "duration": 489,
    "start_time": "2022-08-21T16:35:38.997Z"
   },
   {
    "duration": 24,
    "start_time": "2022-08-21T16:35:39.487Z"
   },
   {
    "duration": 232,
    "start_time": "2022-08-21T16:35:39.512Z"
   },
   {
    "duration": 32,
    "start_time": "2022-08-21T16:35:39.745Z"
   },
   {
    "duration": 19,
    "start_time": "2022-08-21T16:35:39.779Z"
   },
   {
    "duration": 274,
    "start_time": "2022-08-21T16:35:39.801Z"
   },
   {
    "duration": 33,
    "start_time": "2022-08-21T16:35:40.078Z"
   },
   {
    "duration": 3,
    "start_time": "2022-08-21T16:35:40.112Z"
   },
   {
    "duration": 51,
    "start_time": "2022-08-21T16:35:40.116Z"
   },
   {
    "duration": 50,
    "start_time": "2022-08-21T16:35:40.169Z"
   },
   {
    "duration": 52,
    "start_time": "2022-08-21T16:35:40.221Z"
   },
   {
    "duration": 25,
    "start_time": "2022-08-21T16:37:16.181Z"
   },
   {
    "duration": 32,
    "start_time": "2022-08-21T16:38:04.471Z"
   },
   {
    "duration": 1176,
    "start_time": "2022-08-21T16:38:11.537Z"
   },
   {
    "duration": 3,
    "start_time": "2022-08-21T16:38:12.715Z"
   },
   {
    "duration": 628,
    "start_time": "2022-08-21T16:38:12.719Z"
   },
   {
    "duration": 680,
    "start_time": "2022-08-21T16:38:13.348Z"
   },
   {
    "duration": 57,
    "start_time": "2022-08-21T16:38:14.031Z"
   },
   {
    "duration": 34,
    "start_time": "2022-08-21T16:38:14.090Z"
   },
   {
    "duration": 15,
    "start_time": "2022-08-21T16:38:14.126Z"
   },
   {
    "duration": 378,
    "start_time": "2022-08-21T16:38:14.143Z"
   },
   {
    "duration": 18,
    "start_time": "2022-08-21T16:38:14.522Z"
   },
   {
    "duration": 497,
    "start_time": "2022-08-21T16:38:14.542Z"
   },
   {
    "duration": 41,
    "start_time": "2022-08-21T16:38:15.040Z"
   },
   {
    "duration": 42,
    "start_time": "2022-08-21T16:38:15.086Z"
   },
   {
    "duration": 7,
    "start_time": "2022-08-21T16:38:15.129Z"
   },
   {
    "duration": 30,
    "start_time": "2022-08-21T16:38:15.139Z"
   },
   {
    "duration": 26,
    "start_time": "2022-08-21T16:38:15.171Z"
   },
   {
    "duration": 52,
    "start_time": "2022-08-21T16:38:15.199Z"
   },
   {
    "duration": 239,
    "start_time": "2022-08-21T16:38:15.253Z"
   },
   {
    "duration": 24,
    "start_time": "2022-08-21T16:38:15.498Z"
   },
   {
    "duration": 351,
    "start_time": "2022-08-21T16:38:15.524Z"
   },
   {
    "duration": 20,
    "start_time": "2022-08-21T16:38:15.877Z"
   },
   {
    "duration": 22,
    "start_time": "2022-08-21T16:38:15.899Z"
   },
   {
    "duration": 515,
    "start_time": "2022-08-21T16:38:15.923Z"
   },
   {
    "duration": 38,
    "start_time": "2022-08-21T16:38:16.440Z"
   },
   {
    "duration": 219,
    "start_time": "2022-08-21T16:38:16.479Z"
   },
   {
    "duration": 22,
    "start_time": "2022-08-21T16:38:16.699Z"
   },
   {
    "duration": 13,
    "start_time": "2022-08-21T16:38:16.722Z"
   },
   {
    "duration": 244,
    "start_time": "2022-08-21T16:38:16.737Z"
   },
   {
    "duration": 26,
    "start_time": "2022-08-21T16:38:16.983Z"
   },
   {
    "duration": 2,
    "start_time": "2022-08-21T16:38:17.011Z"
   },
   {
    "duration": 8,
    "start_time": "2022-08-21T16:38:17.014Z"
   },
   {
    "duration": 16,
    "start_time": "2022-08-21T16:38:17.059Z"
   },
   {
    "duration": 42,
    "start_time": "2022-08-21T16:38:17.084Z"
   },
   {
    "duration": 39,
    "start_time": "2022-08-21T16:38:38.049Z"
   },
   {
    "duration": 15,
    "start_time": "2022-08-21T16:39:04.924Z"
   },
   {
    "duration": 11,
    "start_time": "2022-08-21T16:40:09.583Z"
   },
   {
    "duration": 1154,
    "start_time": "2022-08-21T16:49:09.281Z"
   },
   {
    "duration": 3,
    "start_time": "2022-08-21T16:49:10.437Z"
   },
   {
    "duration": 620,
    "start_time": "2022-08-21T16:49:10.441Z"
   },
   {
    "duration": 747,
    "start_time": "2022-08-21T16:49:11.064Z"
   },
   {
    "duration": 12,
    "start_time": "2022-08-21T16:49:11.814Z"
   },
   {
    "duration": 62,
    "start_time": "2022-08-21T16:49:11.828Z"
   },
   {
    "duration": 21,
    "start_time": "2022-08-21T16:49:11.892Z"
   },
   {
    "duration": 423,
    "start_time": "2022-08-21T16:49:11.915Z"
   },
   {
    "duration": 27,
    "start_time": "2022-08-21T16:49:12.340Z"
   },
   {
    "duration": 520,
    "start_time": "2022-08-21T16:49:12.368Z"
   },
   {
    "duration": 11,
    "start_time": "2022-08-21T16:49:12.890Z"
   },
   {
    "duration": 26,
    "start_time": "2022-08-21T16:49:12.903Z"
   },
   {
    "duration": 6,
    "start_time": "2022-08-21T16:49:12.931Z"
   },
   {
    "duration": 35,
    "start_time": "2022-08-21T16:49:12.956Z"
   },
   {
    "duration": 15,
    "start_time": "2022-08-21T16:49:12.993Z"
   },
   {
    "duration": 66,
    "start_time": "2022-08-21T16:49:13.010Z"
   },
   {
    "duration": 169,
    "start_time": "2022-08-21T16:49:13.078Z"
   },
   {
    "duration": 34,
    "start_time": "2022-08-21T16:49:13.249Z"
   },
   {
    "duration": 289,
    "start_time": "2022-08-21T16:49:13.285Z"
   },
   {
    "duration": 17,
    "start_time": "2022-08-21T16:49:13.576Z"
   },
   {
    "duration": 21,
    "start_time": "2022-08-21T16:49:13.594Z"
   },
   {
    "duration": 514,
    "start_time": "2022-08-21T16:49:13.616Z"
   },
   {
    "duration": 30,
    "start_time": "2022-08-21T16:49:14.131Z"
   },
   {
    "duration": 234,
    "start_time": "2022-08-21T16:49:14.163Z"
   },
   {
    "duration": 22,
    "start_time": "2022-08-21T16:49:14.399Z"
   },
   {
    "duration": 14,
    "start_time": "2022-08-21T16:49:14.423Z"
   },
   {
    "duration": 228,
    "start_time": "2022-08-21T16:49:14.438Z"
   },
   {
    "duration": 32,
    "start_time": "2022-08-21T16:49:14.668Z"
   },
   {
    "duration": 2,
    "start_time": "2022-08-21T16:49:14.703Z"
   },
   {
    "duration": 52,
    "start_time": "2022-08-21T16:49:14.707Z"
   },
   {
    "duration": 40,
    "start_time": "2022-08-21T16:49:14.763Z"
   },
   {
    "duration": 77,
    "start_time": "2022-08-21T16:49:14.806Z"
   }
  ],
  "kernelspec": {
   "display_name": "Python 3 (ipykernel)",
   "language": "python",
   "name": "python3"
  },
  "language_info": {
   "codemirror_mode": {
    "name": "ipython",
    "version": 3
   },
   "file_extension": ".py",
   "mimetype": "text/x-python",
   "name": "python",
   "nbconvert_exporter": "python",
   "pygments_lexer": "ipython3",
   "version": "3.10.4"
  },
  "toc": {
   "base_numbering": 1,
   "nav_menu": {},
   "number_sections": true,
   "sideBar": true,
   "skip_h1_title": true,
   "title_cell": "Table of Contents",
   "title_sidebar": "Contents",
   "toc_cell": false,
   "toc_position": {},
   "toc_section_display": true,
   "toc_window_display": false
  },
  "vscode": {
   "interpreter": {
    "hash": "26de051ba29f2982a8de78e945f0abaf191376122a1563185a90213a26c5da77"
   }
  }
 },
 "nbformat": 4,
 "nbformat_minor": 2
}
