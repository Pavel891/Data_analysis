{
 "cells": [
  {
   "cell_type": "markdown",
   "metadata": {},
   "source": [
    "## Материалы\n",
    "* [Презентация](https://disk.yandex.ru/i/0BJLLawrH6ICXA)\n",
    "* [Дашборд](https://public.tableau.com/views/Starbrothersgameanalisys/sheet2?:language=en-US&:display_count=n&:origin=viz_share_link)"
   ]
  },
  {
   "cell_type": "markdown",
   "metadata": {},
   "source": [
    "# Оглавление\n",
    "\n",
    "1. [Просмотр данных из файлов](#start)\n",
    "2. [Предобработка данных](#preprocessing)\n",
    "3. [Исследовательский анализ данных](#eda)\n",
    "    * [Активность игроков](#3.1)\n",
    "    * [Достижение целевого события](#3.2)\n",
    "    * [Затраты на привлечение игроков](#3.3)\n",
    "    * [Активность игроков из разных источников](#3.4)\n",
    "4. [Проверка гипотез](#verification)\n",
    "    * [Различается ли среднее время прохождения первого уровня игроками победившими врага и выполневшими проект](#4.1)\n",
    "    * [Можно ли сказать, что с определенного источника приходят любители определенной стратегии](#4.2)\n",
    "5. [Модель монетизации](#monetization_model)\n",
    "5. [Маркетинг](#marketing)\n",
    "    * [Расчет LTV](#5.1)\n",
    "6. [Общий вывод](#conclusion)\n",
    "7. [Рекомендации](#recommendations)\n",
    "\n"
   ]
  },
  {
   "cell_type": "markdown",
   "metadata": {},
   "source": [
    "## Задание\n",
    "\n",
    "**Контекст**\n",
    "\n",
    "Анализ проводится для маркетингового отдела заказчика.\n",
    "\n",
    "\n",
    "Многие игры зарабатывают с помощью рекламы, и все они сталкиваются с противоречием:\n",
    " - Пользователь разозлится и уйдёт, если начать показывать ему рекламу раньше, чем игра его затянет.\n",
    " - Но чем позже создатели игры включат рекламу, тем меньше они заработают.\n",
    "\n",
    "Необходимо сформировать модель монетизации игрового приложения: \n",
    " - Помочь заказчику выбрать оптимальное время для запуска рекламы. \n",
    " - Зная расходы на продвижение игры, рассчитать её окупаемость при разных сценариях.\n",
    "\n",
    "Игра «Космические братья». <br>В ней пользователи строят свою космическую программу и пытаются преуспеть в нелёгком деле колонизации галактики.\n",
    "Основная монетизация игры — только планируется. Но предполагается, что в приложении будет происходить показ рекламы на экране с выбором типа объекта для постройки.\n",
    "\n",
    "Представлены данные по игре пользователей на первом уровне. Завершение первого уровня требует от игрока выполнения одного из двух условий:\n",
    " - Победа над первым врагом;\n",
    " - Реализация проекта - разработка орбитальной сборки спутников.\n",
    "\n",
    "Для того что бы понять будет ли эфективна предполагаемая заказчиком система показа рекламы нужно:\n",
    "1.\tПровести исследовательский анализ данных;\n",
    "2.\tПроанализировать влияние событий на совершение целевого события;\n",
    "3.\tПроверить статистические гипотезы.\n",
    "\n",
    "**Гипотезы:**\n",
    "\n",
    "Н0: Среднее время прохождения уровня игроком, победившим врага, <b>меньше</b>, чем время игрока, реализовавшего проект.\n",
    "<br>Н1: Среднее время прохождения уровня игроком, победившим врага, <b>больше</b>, чем время игрока, реализовавшего проект.\n",
    "\n",
    "Н0: Нет связи между рекламным источником и стратегией игрока\n",
    "<br>Н1: Есть связь между рекламным источником и стратегией игрока\n",
    "\n",
    "**Описание датасетов**\n",
    "\n",
    "В датасете содержатся данные первых пользователей приложения — когорты пользователей, которые начали пользоваться приложением в период с 4 по 10 мая включительно.\n",
    "\n",
    "Датасет game_actions.csv:\n",
    " - event_datetime — время события;\n",
    " - event — одно из трёх событий: \n",
    "1.\tbuilding — объект построен\n",
    "2.\tfinished_stage_1 — первый уровень завершён\n",
    "3.\tproject — проект завершён\n",
    " - building_type — один из трёх типов здания: \n",
    "1.\tassembly_shop — сборочный цех\n",
    "2.\tspaceport — космопорт\n",
    "3.\tresearch_center — исследовательский центр\n",
    " - user_id — идентификатор пользователя;\n",
    " - project_type — тип реализованного проекта.\n",
    "\n",
    "Помимо основного датасета, есть два датасета с информацией о рекламных активностях.  \n",
    "\n",
    "Датасет ad_costs.csv:\n",
    " - day - день, в который был совершен клик по объявлению;\n",
    " - source - источник трафика;\n",
    " - cost - стоимость кликов.\n",
    "\n",
    "Датасет user_source.csv:\n",
    " - user_id - идентификатор пользователя;\n",
    " - source - источник, с которого пришёл пользователь, установивший приложение."
   ]
  },
  {
   "cell_type": "markdown",
   "metadata": {},
   "source": [
    "## <a id=\"start\">Просмотр данных из файлов</a>"
   ]
  },
  {
   "cell_type": "code",
   "execution_count": 1,
   "metadata": {},
   "outputs": [],
   "source": [
    "#!pip install matplotlib -U"
   ]
  },
  {
   "cell_type": "code",
   "execution_count": 2,
   "metadata": {},
   "outputs": [],
   "source": [
    "import pandas as pd\n",
    "import numpy as np\n",
    "import seaborn as sns\n",
    "import matplotlib.pyplot as plt\n",
    "from scipy import stats as st\n",
    "import array as arr\n",
    "import warnings\n",
    "%matplotlib inline"
   ]
  },
  {
   "cell_type": "code",
   "execution_count": 3,
   "metadata": {},
   "outputs": [],
   "source": [
    "# будем игнорировать небольшие предупреждения\n",
    "warnings.filterwarnings('ignore')\n",
    "\n",
    "# значения типа float приведем к двум знакам после запятой\n",
    "pd.set_option('display.float_format', lambda x: '%.2f' % x)"
   ]
  },
  {
   "cell_type": "code",
   "execution_count": 4,
   "metadata": {},
   "outputs": [],
   "source": [
    "# загрузка файла с данными\n",
    "ga = pd.read_csv('/datasets/game_actions.csv')\n",
    "ac = pd.read_csv('/datasets/ad_costs.csv')\n",
    "us = pd.read_csv('/datasets/user_source.csv')"
   ]
  },
  {
   "cell_type": "code",
   "execution_count": 5,
   "metadata": {
    "scrolled": false
   },
   "outputs": [
    {
     "name": "stdout",
     "output_type": "stream",
     "text": [
      "Просмотр строк:\n"
     ]
    },
    {
     "data": {
      "text/html": [
       "<div>\n",
       "<style scoped>\n",
       "    .dataframe tbody tr th:only-of-type {\n",
       "        vertical-align: middle;\n",
       "    }\n",
       "\n",
       "    .dataframe tbody tr th {\n",
       "        vertical-align: top;\n",
       "    }\n",
       "\n",
       "    .dataframe thead th {\n",
       "        text-align: right;\n",
       "    }\n",
       "</style>\n",
       "<table border=\"1\" class=\"dataframe\">\n",
       "  <thead>\n",
       "    <tr style=\"text-align: right;\">\n",
       "      <th></th>\n",
       "      <th>event_datetime</th>\n",
       "      <th>event</th>\n",
       "      <th>building_type</th>\n",
       "      <th>user_id</th>\n",
       "      <th>project_type</th>\n",
       "    </tr>\n",
       "  </thead>\n",
       "  <tbody>\n",
       "    <tr>\n",
       "      <th>0</th>\n",
       "      <td>2020-05-04 00:00:01</td>\n",
       "      <td>building</td>\n",
       "      <td>assembly_shop</td>\n",
       "      <td>55e92310-cb8e-4754-b622-597e124b03de</td>\n",
       "      <td>NaN</td>\n",
       "    </tr>\n",
       "    <tr>\n",
       "      <th>1</th>\n",
       "      <td>2020-05-04 00:00:03</td>\n",
       "      <td>building</td>\n",
       "      <td>assembly_shop</td>\n",
       "      <td>c07b1c10-f477-44dc-81dc-ec82254b1347</td>\n",
       "      <td>NaN</td>\n",
       "    </tr>\n",
       "    <tr>\n",
       "      <th>2</th>\n",
       "      <td>2020-05-04 00:00:16</td>\n",
       "      <td>building</td>\n",
       "      <td>assembly_shop</td>\n",
       "      <td>6edd42cc-e753-4ff6-a947-2107cd560710</td>\n",
       "      <td>NaN</td>\n",
       "    </tr>\n",
       "    <tr>\n",
       "      <th>3</th>\n",
       "      <td>2020-05-04 00:00:16</td>\n",
       "      <td>building</td>\n",
       "      <td>assembly_shop</td>\n",
       "      <td>92c69003-d60a-444a-827f-8cc51bf6bf4c</td>\n",
       "      <td>NaN</td>\n",
       "    </tr>\n",
       "    <tr>\n",
       "      <th>4</th>\n",
       "      <td>2020-05-04 00:00:35</td>\n",
       "      <td>building</td>\n",
       "      <td>assembly_shop</td>\n",
       "      <td>cdc6bb92-0ccb-4490-9866-ef142f09139d</td>\n",
       "      <td>NaN</td>\n",
       "    </tr>\n",
       "  </tbody>\n",
       "</table>\n",
       "</div>"
      ],
      "text/plain": [
       "        event_datetime     event  building_type  \\\n",
       "0  2020-05-04 00:00:01  building  assembly_shop   \n",
       "1  2020-05-04 00:00:03  building  assembly_shop   \n",
       "2  2020-05-04 00:00:16  building  assembly_shop   \n",
       "3  2020-05-04 00:00:16  building  assembly_shop   \n",
       "4  2020-05-04 00:00:35  building  assembly_shop   \n",
       "\n",
       "                                user_id project_type  \n",
       "0  55e92310-cb8e-4754-b622-597e124b03de          NaN  \n",
       "1  c07b1c10-f477-44dc-81dc-ec82254b1347          NaN  \n",
       "2  6edd42cc-e753-4ff6-a947-2107cd560710          NaN  \n",
       "3  92c69003-d60a-444a-827f-8cc51bf6bf4c          NaN  \n",
       "4  cdc6bb92-0ccb-4490-9866-ef142f09139d          NaN  "
      ]
     },
     "metadata": {},
     "output_type": "display_data"
    },
    {
     "name": "stdout",
     "output_type": "stream",
     "text": [
      "Общая информация:\n",
      "<class 'pandas.core.frame.DataFrame'>\n",
      "RangeIndex: 135640 entries, 0 to 135639\n",
      "Data columns (total 5 columns):\n",
      " #   Column          Non-Null Count   Dtype \n",
      "---  ------          --------------   ----- \n",
      " 0   event_datetime  135640 non-null  object\n",
      " 1   event           135640 non-null  object\n",
      " 2   building_type   127957 non-null  object\n",
      " 3   user_id         135640 non-null  object\n",
      " 4   project_type    1866 non-null    object\n",
      "dtypes: object(5)\n",
      "memory usage: 5.2+ MB\n"
     ]
    },
    {
     "data": {
      "text/plain": [
       "None"
      ]
     },
     "metadata": {},
     "output_type": "display_data"
    },
    {
     "name": "stdout",
     "output_type": "stream",
     "text": [
      "Имена столбцов:\n"
     ]
    },
    {
     "data": {
      "text/plain": [
       "Index(['event_datetime', 'event', 'building_type', 'user_id', 'project_type'], dtype='object')"
      ]
     },
     "metadata": {},
     "output_type": "display_data"
    },
    {
     "name": "stdout",
     "output_type": "stream",
     "text": [
      "Дубликаты:\n"
     ]
    },
    {
     "data": {
      "text/plain": [
       "1"
      ]
     },
     "metadata": {},
     "output_type": "display_data"
    },
    {
     "name": "stdout",
     "output_type": "stream",
     "text": [
      "Пропуски:\n"
     ]
    },
    {
     "data": {
      "text/plain": [
       "event_datetime         0\n",
       "event                  0\n",
       "building_type       7683\n",
       "user_id                0\n",
       "project_type      133774\n",
       "dtype: int64"
      ]
     },
     "metadata": {},
     "output_type": "display_data"
    },
    {
     "name": "stdout",
     "output_type": "stream",
     "text": [
      "Стат. данные:\n"
     ]
    },
    {
     "data": {
      "text/html": [
       "<div>\n",
       "<style scoped>\n",
       "    .dataframe tbody tr th:only-of-type {\n",
       "        vertical-align: middle;\n",
       "    }\n",
       "\n",
       "    .dataframe tbody tr th {\n",
       "        vertical-align: top;\n",
       "    }\n",
       "\n",
       "    .dataframe thead th {\n",
       "        text-align: right;\n",
       "    }\n",
       "</style>\n",
       "<table border=\"1\" class=\"dataframe\">\n",
       "  <thead>\n",
       "    <tr style=\"text-align: right;\">\n",
       "      <th></th>\n",
       "      <th>event_datetime</th>\n",
       "      <th>event</th>\n",
       "      <th>building_type</th>\n",
       "      <th>user_id</th>\n",
       "      <th>project_type</th>\n",
       "    </tr>\n",
       "  </thead>\n",
       "  <tbody>\n",
       "    <tr>\n",
       "      <th>count</th>\n",
       "      <td>135640</td>\n",
       "      <td>135640</td>\n",
       "      <td>127957</td>\n",
       "      <td>135640</td>\n",
       "      <td>1866</td>\n",
       "    </tr>\n",
       "    <tr>\n",
       "      <th>unique</th>\n",
       "      <td>128790</td>\n",
       "      <td>3</td>\n",
       "      <td>3</td>\n",
       "      <td>13576</td>\n",
       "      <td>1</td>\n",
       "    </tr>\n",
       "    <tr>\n",
       "      <th>top</th>\n",
       "      <td>2020-05-09 12:35:56</td>\n",
       "      <td>building</td>\n",
       "      <td>spaceport</td>\n",
       "      <td>bf542075-e3a2-4e79-82d8-3838e86d2a25</td>\n",
       "      <td>satellite_orbital_assembly</td>\n",
       "    </tr>\n",
       "    <tr>\n",
       "      <th>freq</th>\n",
       "      <td>4</td>\n",
       "      <td>127957</td>\n",
       "      <td>59325</td>\n",
       "      <td>22</td>\n",
       "      <td>1866</td>\n",
       "    </tr>\n",
       "  </tbody>\n",
       "</table>\n",
       "</div>"
      ],
      "text/plain": [
       "             event_datetime     event building_type  \\\n",
       "count                135640    135640        127957   \n",
       "unique               128790         3             3   \n",
       "top     2020-05-09 12:35:56  building     spaceport   \n",
       "freq                      4    127957         59325   \n",
       "\n",
       "                                     user_id                project_type  \n",
       "count                                 135640                        1866  \n",
       "unique                                 13576                           1  \n",
       "top     bf542075-e3a2-4e79-82d8-3838e86d2a25  satellite_orbital_assembly  \n",
       "freq                                      22                        1866  "
      ]
     },
     "metadata": {},
     "output_type": "display_data"
    },
    {
     "name": "stdout",
     "output_type": "stream",
     "text": [
      "------------------------------------------------------------------------------------------------------------------------\n",
      "Просмотр строк:\n"
     ]
    },
    {
     "data": {
      "text/html": [
       "<div>\n",
       "<style scoped>\n",
       "    .dataframe tbody tr th:only-of-type {\n",
       "        vertical-align: middle;\n",
       "    }\n",
       "\n",
       "    .dataframe tbody tr th {\n",
       "        vertical-align: top;\n",
       "    }\n",
       "\n",
       "    .dataframe thead th {\n",
       "        text-align: right;\n",
       "    }\n",
       "</style>\n",
       "<table border=\"1\" class=\"dataframe\">\n",
       "  <thead>\n",
       "    <tr style=\"text-align: right;\">\n",
       "      <th></th>\n",
       "      <th>source</th>\n",
       "      <th>day</th>\n",
       "      <th>cost</th>\n",
       "    </tr>\n",
       "  </thead>\n",
       "  <tbody>\n",
       "    <tr>\n",
       "      <th>0</th>\n",
       "      <td>facebook_ads</td>\n",
       "      <td>2020-05-03</td>\n",
       "      <td>935.88</td>\n",
       "    </tr>\n",
       "    <tr>\n",
       "      <th>1</th>\n",
       "      <td>facebook_ads</td>\n",
       "      <td>2020-05-04</td>\n",
       "      <td>548.35</td>\n",
       "    </tr>\n",
       "    <tr>\n",
       "      <th>2</th>\n",
       "      <td>facebook_ads</td>\n",
       "      <td>2020-05-05</td>\n",
       "      <td>260.19</td>\n",
       "    </tr>\n",
       "    <tr>\n",
       "      <th>3</th>\n",
       "      <td>facebook_ads</td>\n",
       "      <td>2020-05-06</td>\n",
       "      <td>177.98</td>\n",
       "    </tr>\n",
       "    <tr>\n",
       "      <th>4</th>\n",
       "      <td>facebook_ads</td>\n",
       "      <td>2020-05-07</td>\n",
       "      <td>111.77</td>\n",
       "    </tr>\n",
       "  </tbody>\n",
       "</table>\n",
       "</div>"
      ],
      "text/plain": [
       "         source         day   cost\n",
       "0  facebook_ads  2020-05-03 935.88\n",
       "1  facebook_ads  2020-05-04 548.35\n",
       "2  facebook_ads  2020-05-05 260.19\n",
       "3  facebook_ads  2020-05-06 177.98\n",
       "4  facebook_ads  2020-05-07 111.77"
      ]
     },
     "metadata": {},
     "output_type": "display_data"
    },
    {
     "name": "stdout",
     "output_type": "stream",
     "text": [
      "Общая информация:\n",
      "<class 'pandas.core.frame.DataFrame'>\n",
      "RangeIndex: 28 entries, 0 to 27\n",
      "Data columns (total 3 columns):\n",
      " #   Column  Non-Null Count  Dtype  \n",
      "---  ------  --------------  -----  \n",
      " 0   source  28 non-null     object \n",
      " 1   day     28 non-null     object \n",
      " 2   cost    28 non-null     float64\n",
      "dtypes: float64(1), object(2)\n",
      "memory usage: 800.0+ bytes\n"
     ]
    },
    {
     "data": {
      "text/plain": [
       "None"
      ]
     },
     "metadata": {},
     "output_type": "display_data"
    },
    {
     "name": "stdout",
     "output_type": "stream",
     "text": [
      "Имена столбцов:\n"
     ]
    },
    {
     "data": {
      "text/plain": [
       "Index(['source', 'day', 'cost'], dtype='object')"
      ]
     },
     "metadata": {},
     "output_type": "display_data"
    },
    {
     "name": "stdout",
     "output_type": "stream",
     "text": [
      "Дубликаты:\n"
     ]
    },
    {
     "data": {
      "text/plain": [
       "0"
      ]
     },
     "metadata": {},
     "output_type": "display_data"
    },
    {
     "name": "stdout",
     "output_type": "stream",
     "text": [
      "Пропуски:\n"
     ]
    },
    {
     "data": {
      "text/plain": [
       "source    0\n",
       "day       0\n",
       "cost      0\n",
       "dtype: int64"
      ]
     },
     "metadata": {},
     "output_type": "display_data"
    },
    {
     "name": "stdout",
     "output_type": "stream",
     "text": [
      "Стат. данные:\n"
     ]
    },
    {
     "data": {
      "text/html": [
       "<div>\n",
       "<style scoped>\n",
       "    .dataframe tbody tr th:only-of-type {\n",
       "        vertical-align: middle;\n",
       "    }\n",
       "\n",
       "    .dataframe tbody tr th {\n",
       "        vertical-align: top;\n",
       "    }\n",
       "\n",
       "    .dataframe thead th {\n",
       "        text-align: right;\n",
       "    }\n",
       "</style>\n",
       "<table border=\"1\" class=\"dataframe\">\n",
       "  <thead>\n",
       "    <tr style=\"text-align: right;\">\n",
       "      <th></th>\n",
       "      <th>cost</th>\n",
       "    </tr>\n",
       "  </thead>\n",
       "  <tbody>\n",
       "    <tr>\n",
       "      <th>count</th>\n",
       "      <td>28.00</td>\n",
       "    </tr>\n",
       "    <tr>\n",
       "      <th>mean</th>\n",
       "      <td>271.56</td>\n",
       "    </tr>\n",
       "    <tr>\n",
       "      <th>std</th>\n",
       "      <td>286.87</td>\n",
       "    </tr>\n",
       "    <tr>\n",
       "      <th>min</th>\n",
       "      <td>23.31</td>\n",
       "    </tr>\n",
       "    <tr>\n",
       "      <th>25%</th>\n",
       "      <td>66.75</td>\n",
       "    </tr>\n",
       "    <tr>\n",
       "      <th>50%</th>\n",
       "      <td>160.06</td>\n",
       "    </tr>\n",
       "    <tr>\n",
       "      <th>75%</th>\n",
       "      <td>349.03</td>\n",
       "    </tr>\n",
       "    <tr>\n",
       "      <th>max</th>\n",
       "      <td>969.14</td>\n",
       "    </tr>\n",
       "  </tbody>\n",
       "</table>\n",
       "</div>"
      ],
      "text/plain": [
       "        cost\n",
       "count  28.00\n",
       "mean  271.56\n",
       "std   286.87\n",
       "min    23.31\n",
       "25%    66.75\n",
       "50%   160.06\n",
       "75%   349.03\n",
       "max   969.14"
      ]
     },
     "metadata": {},
     "output_type": "display_data"
    },
    {
     "name": "stdout",
     "output_type": "stream",
     "text": [
      "------------------------------------------------------------------------------------------------------------------------\n",
      "Просмотр строк:\n"
     ]
    },
    {
     "data": {
      "text/html": [
       "<div>\n",
       "<style scoped>\n",
       "    .dataframe tbody tr th:only-of-type {\n",
       "        vertical-align: middle;\n",
       "    }\n",
       "\n",
       "    .dataframe tbody tr th {\n",
       "        vertical-align: top;\n",
       "    }\n",
       "\n",
       "    .dataframe thead th {\n",
       "        text-align: right;\n",
       "    }\n",
       "</style>\n",
       "<table border=\"1\" class=\"dataframe\">\n",
       "  <thead>\n",
       "    <tr style=\"text-align: right;\">\n",
       "      <th></th>\n",
       "      <th>user_id</th>\n",
       "      <th>source</th>\n",
       "    </tr>\n",
       "  </thead>\n",
       "  <tbody>\n",
       "    <tr>\n",
       "      <th>0</th>\n",
       "      <td>0001f83c-c6ac-4621-b7f0-8a28b283ac30</td>\n",
       "      <td>facebook_ads</td>\n",
       "    </tr>\n",
       "    <tr>\n",
       "      <th>1</th>\n",
       "      <td>00151b4f-ba38-44a8-a650-d7cf130a0105</td>\n",
       "      <td>yandex_direct</td>\n",
       "    </tr>\n",
       "    <tr>\n",
       "      <th>2</th>\n",
       "      <td>001aaea6-3d14-43f1-8ca8-7f48820f17aa</td>\n",
       "      <td>youtube_channel_reklama</td>\n",
       "    </tr>\n",
       "    <tr>\n",
       "      <th>3</th>\n",
       "      <td>001d39dc-366c-4021-9604-6a3b9ff01e25</td>\n",
       "      <td>instagram_new_adverts</td>\n",
       "    </tr>\n",
       "    <tr>\n",
       "      <th>4</th>\n",
       "      <td>002f508f-67b6-479f-814b-b05f00d4e995</td>\n",
       "      <td>facebook_ads</td>\n",
       "    </tr>\n",
       "  </tbody>\n",
       "</table>\n",
       "</div>"
      ],
      "text/plain": [
       "                                user_id                   source\n",
       "0  0001f83c-c6ac-4621-b7f0-8a28b283ac30             facebook_ads\n",
       "1  00151b4f-ba38-44a8-a650-d7cf130a0105            yandex_direct\n",
       "2  001aaea6-3d14-43f1-8ca8-7f48820f17aa  youtube_channel_reklama\n",
       "3  001d39dc-366c-4021-9604-6a3b9ff01e25    instagram_new_adverts\n",
       "4  002f508f-67b6-479f-814b-b05f00d4e995             facebook_ads"
      ]
     },
     "metadata": {},
     "output_type": "display_data"
    },
    {
     "name": "stdout",
     "output_type": "stream",
     "text": [
      "Общая информация:\n",
      "<class 'pandas.core.frame.DataFrame'>\n",
      "RangeIndex: 13576 entries, 0 to 13575\n",
      "Data columns (total 2 columns):\n",
      " #   Column   Non-Null Count  Dtype \n",
      "---  ------   --------------  ----- \n",
      " 0   user_id  13576 non-null  object\n",
      " 1   source   13576 non-null  object\n",
      "dtypes: object(2)\n",
      "memory usage: 212.2+ KB\n"
     ]
    },
    {
     "data": {
      "text/plain": [
       "None"
      ]
     },
     "metadata": {},
     "output_type": "display_data"
    },
    {
     "name": "stdout",
     "output_type": "stream",
     "text": [
      "Имена столбцов:\n"
     ]
    },
    {
     "data": {
      "text/plain": [
       "Index(['user_id', 'source'], dtype='object')"
      ]
     },
     "metadata": {},
     "output_type": "display_data"
    },
    {
     "name": "stdout",
     "output_type": "stream",
     "text": [
      "Дубликаты:\n"
     ]
    },
    {
     "data": {
      "text/plain": [
       "0"
      ]
     },
     "metadata": {},
     "output_type": "display_data"
    },
    {
     "name": "stdout",
     "output_type": "stream",
     "text": [
      "Пропуски:\n"
     ]
    },
    {
     "data": {
      "text/plain": [
       "user_id    0\n",
       "source     0\n",
       "dtype: int64"
      ]
     },
     "metadata": {},
     "output_type": "display_data"
    },
    {
     "name": "stdout",
     "output_type": "stream",
     "text": [
      "Стат. данные:\n"
     ]
    },
    {
     "data": {
      "text/html": [
       "<div>\n",
       "<style scoped>\n",
       "    .dataframe tbody tr th:only-of-type {\n",
       "        vertical-align: middle;\n",
       "    }\n",
       "\n",
       "    .dataframe tbody tr th {\n",
       "        vertical-align: top;\n",
       "    }\n",
       "\n",
       "    .dataframe thead th {\n",
       "        text-align: right;\n",
       "    }\n",
       "</style>\n",
       "<table border=\"1\" class=\"dataframe\">\n",
       "  <thead>\n",
       "    <tr style=\"text-align: right;\">\n",
       "      <th></th>\n",
       "      <th>user_id</th>\n",
       "      <th>source</th>\n",
       "    </tr>\n",
       "  </thead>\n",
       "  <tbody>\n",
       "    <tr>\n",
       "      <th>count</th>\n",
       "      <td>13576</td>\n",
       "      <td>13576</td>\n",
       "    </tr>\n",
       "    <tr>\n",
       "      <th>unique</th>\n",
       "      <td>13576</td>\n",
       "      <td>4</td>\n",
       "    </tr>\n",
       "    <tr>\n",
       "      <th>top</th>\n",
       "      <td>0001f83c-c6ac-4621-b7f0-8a28b283ac30</td>\n",
       "      <td>yandex_direct</td>\n",
       "    </tr>\n",
       "    <tr>\n",
       "      <th>freq</th>\n",
       "      <td>1</td>\n",
       "      <td>4817</td>\n",
       "    </tr>\n",
       "  </tbody>\n",
       "</table>\n",
       "</div>"
      ],
      "text/plain": [
       "                                     user_id         source\n",
       "count                                  13576          13576\n",
       "unique                                 13576              4\n",
       "top     0001f83c-c6ac-4621-b7f0-8a28b283ac30  yandex_direct\n",
       "freq                                       1           4817"
      ]
     },
     "metadata": {},
     "output_type": "display_data"
    },
    {
     "name": "stdout",
     "output_type": "stream",
     "text": [
      "------------------------------------------------------------------------------------------------------------------------\n"
     ]
    }
   ],
   "source": [
    "df_list = [ga, ac, us]\n",
    "\n",
    "for df in df_list:\n",
    "\tprint('Просмотр строк:')\n",
    "\tdisplay(df.head())\n",
    "\tprint('Общая информация:')\n",
    "\tdisplay(df.info())\n",
    "\tprint('Имена столбцов:')\n",
    "\tdisplay(df.columns)\n",
    "\tprint('Дубликаты:')\n",
    "\tdisplay(df.duplicated().sum())\n",
    "\tprint('Пропуски:')\n",
    "\tdisplay(df.isna().sum())\n",
    "\tprint('Стат. данные:')\n",
    "\tdisplay(df.describe())\n",
    "\tprint('-' * 120)"
   ]
  },
  {
   "cell_type": "markdown",
   "metadata": {},
   "source": [
    "После первого осмотра данных мы увидели:\n",
    " - в таблице ga (game_action) есть один дубликат;\n",
    " - в этой же таблице есть большое колличество пропусков в столбцах building_type и project_type;\n",
    " - в таблицах ga и ac (ad_costs) столбцы с датами необходимо привести к корректному виду данных;\n",
    " - имена столбцов в коррекции не нуждаются."
   ]
  },
  {
   "cell_type": "markdown",
   "metadata": {},
   "source": [
    "## <a id=\"preprocessing\">Предобработка данных</a>"
   ]
  },
  {
   "cell_type": "markdown",
   "metadata": {},
   "source": [
    "**Удаление дубликата**"
   ]
  },
  {
   "cell_type": "code",
   "execution_count": 6,
   "metadata": {},
   "outputs": [],
   "source": [
    "ga.drop_duplicates(inplace=True)"
   ]
  },
  {
   "cell_type": "code",
   "execution_count": 7,
   "metadata": {},
   "outputs": [
    {
     "data": {
      "text/plain": [
       "0"
      ]
     },
     "execution_count": 7,
     "metadata": {},
     "output_type": "execute_result"
    }
   ],
   "source": [
    "ga.duplicated().sum()"
   ]
  },
  {
   "cell_type": "markdown",
   "metadata": {},
   "source": [
    "**Обработка пропусков**"
   ]
  },
  {
   "cell_type": "code",
   "execution_count": 8,
   "metadata": {},
   "outputs": [
    {
     "data": {
      "text/html": [
       "<div>\n",
       "<style scoped>\n",
       "    .dataframe tbody tr th:only-of-type {\n",
       "        vertical-align: middle;\n",
       "    }\n",
       "\n",
       "    .dataframe tbody tr th {\n",
       "        vertical-align: top;\n",
       "    }\n",
       "\n",
       "    .dataframe thead th {\n",
       "        text-align: right;\n",
       "    }\n",
       "</style>\n",
       "<table border=\"1\" class=\"dataframe\">\n",
       "  <thead>\n",
       "    <tr style=\"text-align: right;\">\n",
       "      <th></th>\n",
       "      <th>building_type</th>\n",
       "      <th>project_type</th>\n",
       "    </tr>\n",
       "    <tr>\n",
       "      <th>event</th>\n",
       "      <th></th>\n",
       "      <th></th>\n",
       "    </tr>\n",
       "  </thead>\n",
       "  <tbody>\n",
       "    <tr>\n",
       "      <th>building</th>\n",
       "      <td>127956</td>\n",
       "      <td>0</td>\n",
       "    </tr>\n",
       "    <tr>\n",
       "      <th>finished_stage_1</th>\n",
       "      <td>0</td>\n",
       "      <td>0</td>\n",
       "    </tr>\n",
       "    <tr>\n",
       "      <th>project</th>\n",
       "      <td>0</td>\n",
       "      <td>1866</td>\n",
       "    </tr>\n",
       "  </tbody>\n",
       "</table>\n",
       "</div>"
      ],
      "text/plain": [
       "                  building_type  project_type\n",
       "event                                        \n",
       "building                 127956             0\n",
       "finished_stage_1              0             0\n",
       "project                       0          1866"
      ]
     },
     "execution_count": 8,
     "metadata": {},
     "output_type": "execute_result"
    }
   ],
   "source": [
    "ga.groupby('event')['building_type', 'project_type'].count()"
   ]
  },
  {
   "cell_type": "code",
   "execution_count": 9,
   "metadata": {},
   "outputs": [
    {
     "data": {
      "text/html": [
       "<div>\n",
       "<style scoped>\n",
       "    .dataframe tbody tr th:only-of-type {\n",
       "        vertical-align: middle;\n",
       "    }\n",
       "\n",
       "    .dataframe tbody tr th {\n",
       "        vertical-align: top;\n",
       "    }\n",
       "\n",
       "    .dataframe thead th {\n",
       "        text-align: right;\n",
       "    }\n",
       "</style>\n",
       "<table border=\"1\" class=\"dataframe\">\n",
       "  <thead>\n",
       "    <tr style=\"text-align: right;\">\n",
       "      <th></th>\n",
       "      <th>event_datetime</th>\n",
       "      <th>event</th>\n",
       "      <th>building_type</th>\n",
       "      <th>user_id</th>\n",
       "      <th>project_type</th>\n",
       "    </tr>\n",
       "  </thead>\n",
       "  <tbody>\n",
       "    <tr>\n",
       "      <th>count</th>\n",
       "      <td>7683</td>\n",
       "      <td>7683</td>\n",
       "      <td>0</td>\n",
       "      <td>7683</td>\n",
       "      <td>1866</td>\n",
       "    </tr>\n",
       "    <tr>\n",
       "      <th>unique</th>\n",
       "      <td>7663</td>\n",
       "      <td>2</td>\n",
       "      <td>0</td>\n",
       "      <td>5817</td>\n",
       "      <td>1</td>\n",
       "    </tr>\n",
       "    <tr>\n",
       "      <th>top</th>\n",
       "      <td>2020-05-16 08:42:42</td>\n",
       "      <td>finished_stage_1</td>\n",
       "      <td>NaN</td>\n",
       "      <td>1669ef5e-8908-410f-b4d9-b29c7fb8ef65</td>\n",
       "      <td>satellite_orbital_assembly</td>\n",
       "    </tr>\n",
       "    <tr>\n",
       "      <th>freq</th>\n",
       "      <td>2</td>\n",
       "      <td>5817</td>\n",
       "      <td>NaN</td>\n",
       "      <td>2</td>\n",
       "      <td>1866</td>\n",
       "    </tr>\n",
       "  </tbody>\n",
       "</table>\n",
       "</div>"
      ],
      "text/plain": [
       "             event_datetime             event building_type  \\\n",
       "count                  7683              7683             0   \n",
       "unique                 7663                 2             0   \n",
       "top     2020-05-16 08:42:42  finished_stage_1           NaN   \n",
       "freq                      2              5817           NaN   \n",
       "\n",
       "                                     user_id                project_type  \n",
       "count                                   7683                        1866  \n",
       "unique                                  5817                           1  \n",
       "top     1669ef5e-8908-410f-b4d9-b29c7fb8ef65  satellite_orbital_assembly  \n",
       "freq                                       2                        1866  "
      ]
     },
     "execution_count": 9,
     "metadata": {},
     "output_type": "execute_result"
    }
   ],
   "source": [
    "ga[ga['building_type'].isna()].describe()"
   ]
  },
  {
   "cell_type": "code",
   "execution_count": 10,
   "metadata": {},
   "outputs": [
    {
     "data": {
      "text/html": [
       "<div>\n",
       "<style scoped>\n",
       "    .dataframe tbody tr th:only-of-type {\n",
       "        vertical-align: middle;\n",
       "    }\n",
       "\n",
       "    .dataframe tbody tr th {\n",
       "        vertical-align: top;\n",
       "    }\n",
       "\n",
       "    .dataframe thead th {\n",
       "        text-align: right;\n",
       "    }\n",
       "</style>\n",
       "<table border=\"1\" class=\"dataframe\">\n",
       "  <thead>\n",
       "    <tr style=\"text-align: right;\">\n",
       "      <th></th>\n",
       "      <th>event_datetime</th>\n",
       "      <th>event</th>\n",
       "      <th>building_type</th>\n",
       "      <th>user_id</th>\n",
       "      <th>project_type</th>\n",
       "    </tr>\n",
       "  </thead>\n",
       "  <tbody>\n",
       "    <tr>\n",
       "      <th>count</th>\n",
       "      <td>133773</td>\n",
       "      <td>133773</td>\n",
       "      <td>127956</td>\n",
       "      <td>133773</td>\n",
       "      <td>0</td>\n",
       "    </tr>\n",
       "    <tr>\n",
       "      <th>unique</th>\n",
       "      <td>127004</td>\n",
       "      <td>2</td>\n",
       "      <td>3</td>\n",
       "      <td>13576</td>\n",
       "      <td>0</td>\n",
       "    </tr>\n",
       "    <tr>\n",
       "      <th>top</th>\n",
       "      <td>2020-05-08 22:30:04</td>\n",
       "      <td>building</td>\n",
       "      <td>spaceport</td>\n",
       "      <td>bf542075-e3a2-4e79-82d8-3838e86d2a25</td>\n",
       "      <td>NaN</td>\n",
       "    </tr>\n",
       "    <tr>\n",
       "      <th>freq</th>\n",
       "      <td>4</td>\n",
       "      <td>127956</td>\n",
       "      <td>59325</td>\n",
       "      <td>21</td>\n",
       "      <td>NaN</td>\n",
       "    </tr>\n",
       "  </tbody>\n",
       "</table>\n",
       "</div>"
      ],
      "text/plain": [
       "             event_datetime     event building_type  \\\n",
       "count                133773    133773        127956   \n",
       "unique               127004         2             3   \n",
       "top     2020-05-08 22:30:04  building     spaceport   \n",
       "freq                      4    127956         59325   \n",
       "\n",
       "                                     user_id project_type  \n",
       "count                                 133773            0  \n",
       "unique                                 13576            0  \n",
       "top     bf542075-e3a2-4e79-82d8-3838e86d2a25          NaN  \n",
       "freq                                      21          NaN  "
      ]
     },
     "execution_count": 10,
     "metadata": {},
     "output_type": "execute_result"
    }
   ],
   "source": [
    "ga[ga['project_type'].isna()].describe()"
   ]
  },
  {
   "cell_type": "markdown",
   "metadata": {},
   "source": [
    "Обзор пропусков показал:\n",
    " - в столбце building_type пропуски обусловлены тем, что для завершения проекта и/или перехода на новый уровень не требуется факт постройки здания;\n",
    " - в толбце project_type пропуски обусловлены тем, что в этом столбце заполняются только значения игроков, которые прошли уровень с помощью выполнения проекта satellite_orbital_assembly.\n",
    "\n",
    "Таким образом, удалять или изменять эти пропуски не нужно."
   ]
  },
  {
   "cell_type": "markdown",
   "metadata": {},
   "source": [
    "**Изменение типов данных**"
   ]
  },
  {
   "cell_type": "code",
   "execution_count": 11,
   "metadata": {},
   "outputs": [],
   "source": [
    "ga['event_datetime'] = ga['event_datetime'].astype('datetime64[s]')\n",
    "ac['day'] = ac['day'].astype('datetime64[s]')"
   ]
  },
  {
   "cell_type": "code",
   "execution_count": 12,
   "metadata": {},
   "outputs": [
    {
     "name": "stdout",
     "output_type": "stream",
     "text": [
      "<class 'pandas.core.frame.DataFrame'>\n",
      "Int64Index: 135639 entries, 0 to 135639\n",
      "Data columns (total 5 columns):\n",
      " #   Column          Non-Null Count   Dtype         \n",
      "---  ------          --------------   -----         \n",
      " 0   event_datetime  135639 non-null  datetime64[ns]\n",
      " 1   event           135639 non-null  object        \n",
      " 2   building_type   127956 non-null  object        \n",
      " 3   user_id         135639 non-null  object        \n",
      " 4   project_type    1866 non-null    object        \n",
      "dtypes: datetime64[ns](1), object(4)\n",
      "memory usage: 6.2+ MB\n"
     ]
    },
    {
     "data": {
      "text/plain": [
       "None"
      ]
     },
     "metadata": {},
     "output_type": "display_data"
    },
    {
     "name": "stdout",
     "output_type": "stream",
     "text": [
      "<class 'pandas.core.frame.DataFrame'>\n",
      "RangeIndex: 28 entries, 0 to 27\n",
      "Data columns (total 3 columns):\n",
      " #   Column  Non-Null Count  Dtype         \n",
      "---  ------  --------------  -----         \n",
      " 0   source  28 non-null     object        \n",
      " 1   day     28 non-null     datetime64[ns]\n",
      " 2   cost    28 non-null     float64       \n",
      "dtypes: datetime64[ns](1), float64(1), object(1)\n",
      "memory usage: 800.0+ bytes\n"
     ]
    },
    {
     "data": {
      "text/plain": [
       "None"
      ]
     },
     "metadata": {},
     "output_type": "display_data"
    }
   ],
   "source": [
    "display(ga.info())\n",
    "display(ac.info())"
   ]
  },
  {
   "cell_type": "markdown",
   "metadata": {},
   "source": [
    "**Итог предобработки:**\n",
    "\n",
    " - удален единственный дубликат;\n",
    " - стало понятно, что обрабатывать пропуски не нужно;\n",
    " - столбцы с датами были приведены к нужному типу данных."
   ]
  },
  {
   "cell_type": "markdown",
   "metadata": {},
   "source": [
    "## <a id=\"eda\">Исследовательский анализ данных</a>"
   ]
  },
  {
   "cell_type": "markdown",
   "metadata": {},
   "source": [
    "### <a id=\"3.1\">Активность игроков</a>"
   ]
  },
  {
   "cell_type": "markdown",
   "metadata": {},
   "source": [
    "**Количество игроков в день**"
   ]
  },
  {
   "cell_type": "code",
   "execution_count": 13,
   "metadata": {},
   "outputs": [],
   "source": [
    "ga['session_date'] = ga['event_datetime'].dt.date"
   ]
  },
  {
   "cell_type": "code",
   "execution_count": 14,
   "metadata": {},
   "outputs": [
    {
     "data": {
      "text/html": [
       "<div>\n",
       "<style scoped>\n",
       "    .dataframe tbody tr th:only-of-type {\n",
       "        vertical-align: middle;\n",
       "    }\n",
       "\n",
       "    .dataframe tbody tr th {\n",
       "        vertical-align: top;\n",
       "    }\n",
       "\n",
       "    .dataframe thead th {\n",
       "        text-align: right;\n",
       "    }\n",
       "</style>\n",
       "<table border=\"1\" class=\"dataframe\">\n",
       "  <thead>\n",
       "    <tr style=\"text-align: right;\">\n",
       "      <th></th>\n",
       "      <th>event_datetime</th>\n",
       "      <th>event</th>\n",
       "      <th>building_type</th>\n",
       "      <th>user_id</th>\n",
       "      <th>project_type</th>\n",
       "      <th>session_date</th>\n",
       "    </tr>\n",
       "  </thead>\n",
       "  <tbody>\n",
       "    <tr>\n",
       "      <th>0</th>\n",
       "      <td>2020-05-04 00:00:01</td>\n",
       "      <td>building</td>\n",
       "      <td>assembly_shop</td>\n",
       "      <td>55e92310-cb8e-4754-b622-597e124b03de</td>\n",
       "      <td>NaN</td>\n",
       "      <td>2020-05-04</td>\n",
       "    </tr>\n",
       "    <tr>\n",
       "      <th>1</th>\n",
       "      <td>2020-05-04 00:00:03</td>\n",
       "      <td>building</td>\n",
       "      <td>assembly_shop</td>\n",
       "      <td>c07b1c10-f477-44dc-81dc-ec82254b1347</td>\n",
       "      <td>NaN</td>\n",
       "      <td>2020-05-04</td>\n",
       "    </tr>\n",
       "    <tr>\n",
       "      <th>2</th>\n",
       "      <td>2020-05-04 00:00:16</td>\n",
       "      <td>building</td>\n",
       "      <td>assembly_shop</td>\n",
       "      <td>6edd42cc-e753-4ff6-a947-2107cd560710</td>\n",
       "      <td>NaN</td>\n",
       "      <td>2020-05-04</td>\n",
       "    </tr>\n",
       "    <tr>\n",
       "      <th>3</th>\n",
       "      <td>2020-05-04 00:00:16</td>\n",
       "      <td>building</td>\n",
       "      <td>assembly_shop</td>\n",
       "      <td>92c69003-d60a-444a-827f-8cc51bf6bf4c</td>\n",
       "      <td>NaN</td>\n",
       "      <td>2020-05-04</td>\n",
       "    </tr>\n",
       "    <tr>\n",
       "      <th>4</th>\n",
       "      <td>2020-05-04 00:00:35</td>\n",
       "      <td>building</td>\n",
       "      <td>assembly_shop</td>\n",
       "      <td>cdc6bb92-0ccb-4490-9866-ef142f09139d</td>\n",
       "      <td>NaN</td>\n",
       "      <td>2020-05-04</td>\n",
       "    </tr>\n",
       "  </tbody>\n",
       "</table>\n",
       "</div>"
      ],
      "text/plain": [
       "       event_datetime     event  building_type  \\\n",
       "0 2020-05-04 00:00:01  building  assembly_shop   \n",
       "1 2020-05-04 00:00:03  building  assembly_shop   \n",
       "2 2020-05-04 00:00:16  building  assembly_shop   \n",
       "3 2020-05-04 00:00:16  building  assembly_shop   \n",
       "4 2020-05-04 00:00:35  building  assembly_shop   \n",
       "\n",
       "                                user_id project_type session_date  \n",
       "0  55e92310-cb8e-4754-b622-597e124b03de          NaN   2020-05-04  \n",
       "1  c07b1c10-f477-44dc-81dc-ec82254b1347          NaN   2020-05-04  \n",
       "2  6edd42cc-e753-4ff6-a947-2107cd560710          NaN   2020-05-04  \n",
       "3  92c69003-d60a-444a-827f-8cc51bf6bf4c          NaN   2020-05-04  \n",
       "4  cdc6bb92-0ccb-4490-9866-ef142f09139d          NaN   2020-05-04  "
      ]
     },
     "execution_count": 14,
     "metadata": {},
     "output_type": "execute_result"
    }
   ],
   "source": [
    "ga.head()"
   ]
  },
  {
   "cell_type": "code",
   "execution_count": 15,
   "metadata": {},
   "outputs": [
    {
     "data": {
      "image/png": "[encoded data removed]",
      "text/plain": [
       "<Figure size 1800x504 with 1 Axes>"
      ]
     },
     "metadata": {
      "needs_background": "light"
     },
     "output_type": "display_data"
    }
   ],
   "source": [
    "fig, ax = plt.subplots(figsize=(25,7))\n",
    "\n",
    "ga.groupby('session_date').agg({'user_id': 'nunique'}).plot(ax=ax)\n",
    "ax.get_legend().remove()\n",
    "ax.grid(linewidth=0.25)\n",
    "plt.title('Количество игроков в день')\n",
    "plt.xlabel('Дата')\n",
    "plt.ylabel('Кол-во игроков')\n",
    "plt.show()"
   ]
  },
  {
   "cell_type": "markdown",
   "metadata": {},
   "source": [
    "Пик игровой активности приходится на 10.05., но т.к. большинство игроков не прошли первый уровень, то этот график отображает, в основном, их поведение. Разделим игроков на группы и посмотрим, как изменится график."
   ]
  },
  {
   "cell_type": "markdown",
   "metadata": {},
   "source": [
    "У нас есть три вида игроков:\n",
    " - игроки прошедшие первый уровень;\n",
    " - любители PVE, прошедшие уровень, выполнив проект;\n",
    " - те, кто еще \"не определился\" (этих товарищей много, предлагаю пока не включать их в график)."
   ]
  },
  {
   "cell_type": "code",
   "execution_count": 16,
   "metadata": {},
   "outputs": [
    {
     "data": {
      "text/plain": [
       "array(['building', 'finished_stage_1', 'project'], dtype=object)"
      ]
     },
     "execution_count": 16,
     "metadata": {},
     "output_type": "execute_result"
    }
   ],
   "source": [
    "ga['event'].unique()"
   ]
  },
  {
   "cell_type": "code",
   "execution_count": 18,
   "metadata": {},
   "outputs": [
    {
     "data": {
      "image/png": "[encoded data removed]",
      "text/plain": [
       "<Figure size 1800x504 with 1 Axes>"
      ]
     },
     "metadata": {
      "needs_background": "light"
     },
     "output_type": "display_data"
    }
   ],
   "source": [
    "fig, ax = plt.subplots(figsize=(25,7))\n",
    "\n",
    "ga[ga['event'] != 'building'].groupby(['session_date', 'event']).agg({'user_id': 'nunique'}).unstack().plot(ax=ax)\n",
    "ax.legend(['Finish level', 'PVE'])\n",
    "ax.grid(linewidth=0.25)\n",
    "plt.title('Количество игроков в день')\n",
    "plt.xlabel('Дата')\n",
    "plt.ylabel('Кол-во игроков')\n",
    "plt.show()"
   ]
  },
  {
   "cell_type": "markdown",
   "metadata": {},
   "source": [
    "А картина интересна. Пик актиности прошедших первый уровень (15.05 - 16.05), приходится на время, когда уже закончились и рекламная акция, и праздники. Похоже, что наши \"неопределившиеся\" - это любители бесплатных плюшек или просто очень неспешные игроки, которые очень быстро уходят из игры."
   ]
  },
  {
   "cell_type": "markdown",
   "metadata": {},
   "source": [
    "**Количество событий в день**"
   ]
  },
  {
   "cell_type": "code",
   "execution_count": 19,
   "metadata": {},
   "outputs": [
    {
     "data": {
      "image/png": "[encoded data removed]",
      "text/plain": [
       "<Figure size 1800x504 with 1 Axes>"
      ]
     },
     "metadata": {
      "needs_background": "light"
     },
     "output_type": "display_data"
    }
   ],
   "source": [
    "fig, ax = plt.subplots(figsize=(25,7))\n",
    "\n",
    "ga.groupby('session_date').agg({'event': 'count'}).plot(ax=ax)\n",
    "ax.get_legend().remove()\n",
    "ax.grid(linewidth=0.25)\n",
    "plt.title('Количество игроков в день')\n",
    "plt.xlabel('Дата')\n",
    "plt.ylabel('Кол-во игроков')\n",
    "plt.show()"
   ]
  },
  {
   "cell_type": "markdown",
   "metadata": {},
   "source": [
    "График событий аналогичен графику активности игров (без разделения по стратегиям)."
   ]
  },
  {
   "cell_type": "code",
   "execution_count": 20,
   "metadata": {},
   "outputs": [
    {
     "data": {
      "text/plain": [
       "event   9.99\n",
       "dtype: float64"
      ]
     },
     "execution_count": 20,
     "metadata": {},
     "output_type": "execute_result"
    }
   ],
   "source": [
    "ga.groupby('user_id').agg({'event': 'count'}).mean()"
   ]
  },
  {
   "cell_type": "markdown",
   "metadata": {},
   "source": [
    "На каждого пользователя, в среднем, приходится 9.9 событий."
   ]
  },
  {
   "cell_type": "markdown",
   "metadata": {},
   "source": [
    "Теперь посмотрим на отдельные группы игроков."
   ]
  },
  {
   "cell_type": "code",
   "execution_count": 22,
   "metadata": {},
   "outputs": [
    {
     "data": {
      "text/plain": [
       "event   14.65\n",
       "dtype: float64"
      ]
     },
     "execution_count": 22,
     "metadata": {},
     "output_type": "execute_result"
    }
   ],
   "source": [
    "strategy_pve = ga.query('event==\"project\"')\n",
    "users_pve = strategy_pve['user_id'].unique()\n",
    "ga[ga['user_id'].isin(users_pve)].groupby('user_id').agg({'event': 'count'}).mean()"
   ]
  },
  {
   "cell_type": "code",
   "execution_count": 23,
   "metadata": {},
   "outputs": [
    {
     "data": {
      "text/plain": [
       "event   11.77\n",
       "dtype: float64"
      ]
     },
     "execution_count": 23,
     "metadata": {},
     "output_type": "execute_result"
    }
   ],
   "source": [
    "finished_level = ga.query('event==\"finished_stage_1\"')\n",
    "users_finished = finished_level['user_id'].unique()\n",
    "ga[ga['user_id'].isin(users_finished)].groupby('user_id').agg({'event': 'count'}).mean()"
   ]
  },
  {
   "cell_type": "code",
   "execution_count": 24,
   "metadata": {},
   "outputs": [
    {
     "data": {
      "text/plain": [
       "event   9.99\n",
       "dtype: float64"
      ]
     },
     "execution_count": 24,
     "metadata": {},
     "output_type": "execute_result"
    }
   ],
   "source": [
    "in_process = ga.query('event==\"building\"')\n",
    "users_process = in_process['user_id'].unique()\n",
    "ga[ga['user_id'].isin(users_process)].groupby('user_id').agg({'event': 'count'}).mean()"
   ]
  },
  {
   "cell_type": "markdown",
   "metadata": {},
   "source": [
    "Полученое ранее число событий показывало колличество событий, которое приходится на человека, не прошедшего первый уровень. Игроки, которые справились с первым заданием, в среднем, выполняли 11.77 <s>действия в случае PVP</s> и 14.65 действия в случае PVE."
   ]
  },
  {
   "cell_type": "markdown",
   "metadata": {},
   "source": [
    "### <a id=\"3.2\">Достижение целевого события</a>"
   ]
  },
  {
   "cell_type": "markdown",
   "metadata": {},
   "source": [
    "Цeлевым событием является прохождение первого уровня.\n",
    "<br>Для того что бы достичь этой цели, необходимо или выполнить проект, или победить врага, но, в любом случае, для этого необходимо строить здания. На этот параметр и будем опираться.\n",
    "<br>Раннее мы разделили участников на три типа:\n",
    " - pve-игроки - выполнившие проект;\n",
    " - игроки прошедшие первый уровень;\n",
    " - игроки не прошедшие первый уровень."
   ]
  },
  {
   "cell_type": "markdown",
   "metadata": {},
   "source": [
    "Узнаем сколько всего построено зданий и какого типа."
   ]
  },
  {
   "cell_type": "code",
   "execution_count": 25,
   "metadata": {},
   "outputs": [
    {
     "data": {
      "image/png": "[encoded data removed]",
      "text/plain": [
       "<Figure size 720x576 with 1 Axes>"
      ]
     },
     "metadata": {
      "needs_background": "light"
     },
     "output_type": "display_data"
    }
   ],
   "source": [
    "ax = ga.groupby('building_type')['user_id'].count().plot(x='building_type', y='user_id', kind='bar', figsize=(10, 8), rot=25)\n",
    "\n",
    "for p in ax.patches:\n",
    "\theight = p.get_height()\n",
    "\tax.text(p.get_x() + p.get_width() / 2,\n",
    "\t\t\t\t\theight + 50,\n",
    "\t\t\t\t\t'{:.0f}'.format(height),\n",
    "\t\t\t\t\tfontsize = 12,\n",
    "\t\t\t\t\tha='center')\n",
    "\n",
    "plt.title('Количество построенных зданий', fontsize=15)\n",
    "plt.xlabel('Тип здания', fontsize=12)\n",
    "plt.ylabel('Кол-во зданий', fontsize=12)\n",
    "plt.show()"
   ]
  },
  {
   "cell_type": "markdown",
   "metadata": {},
   "source": [
    "Получаем такие итоги:\n",
    " - больше всего построено космопортов, это не удивительно, ведь военные юниты нужны всем, как для атаки, так и для обороны;\n",
    " - сборочные цехи тоже являются необходимым зданием, ведь нужны рабочие, которые будут добывать ресурсы;\n",
    " - исследовательскими центрами большинство игроков пренебрегает, думаю их активно строят те, кто хочет выполнить основной проект."
   ]
  },
  {
   "cell_type": "code",
   "execution_count": 26,
   "metadata": {},
   "outputs": [
    {
     "data": {
      "text/plain": [
       "building_type   12.65\n",
       "dtype: float64"
      ]
     },
     "execution_count": 26,
     "metadata": {},
     "output_type": "execute_result"
    }
   ],
   "source": [
    "strategy_pve = ga.query('event==\"project\"')\n",
    "users_pve = strategy_pve['user_id'].unique()\n",
    "ga[ga['user_id'].isin(users_pve)].groupby('user_id').agg({'building_type': 'count'}).mean()"
   ]
  },
  {
   "cell_type": "code",
   "execution_count": 27,
   "metadata": {},
   "outputs": [
    {
     "data": {
      "text/plain": [
       "building_type   10.45\n",
       "dtype: float64"
      ]
     },
     "execution_count": 27,
     "metadata": {},
     "output_type": "execute_result"
    }
   ],
   "source": [
    "finished_level = ga.query('event==\"finished_stage_1\"')\n",
    "users_finished = finished_level['user_id'].unique()\n",
    "ga[ga['user_id'].isin(users_finished)].groupby('user_id').agg({'building_type': 'count'}).mean()"
   ]
  },
  {
   "cell_type": "code",
   "execution_count": 28,
   "metadata": {},
   "outputs": [
    {
     "data": {
      "text/plain": [
       "building_type   9.43\n",
       "dtype: float64"
      ]
     },
     "execution_count": 28,
     "metadata": {},
     "output_type": "execute_result"
    }
   ],
   "source": [
    "in_process = ga.query('event==\"building\"')\n",
    "users_process = in_process['user_id'].unique()\n",
    "ga[ga['user_id'].isin(users_process)].groupby('user_id').agg({'building_type': 'count'}).mean()"
   ]
  },
  {
   "cell_type": "markdown",
   "metadata": {},
   "source": [
    "Из полученной информации можно сделать вывод, что для прохождения первого уровня необходимо в стреднем построить 10.45 зданий <s>при использовании PVP стратегии</s> или 12.65 зданий при использовании в PVE стратегии."
   ]
  },
  {
   "cell_type": "markdown",
   "metadata": {},
   "source": [
    "### <a id=\"3.3\">Затраты на привлечение игроков</a>"
   ]
  },
  {
   "cell_type": "markdown",
   "metadata": {},
   "source": [
    "Теперь перейдем к делу:\n",
    " - сначала узнаем сколько пользователей из какого источника пришло;\n",
    " - вторым шагом узнаем сколько было потрачено денег на одного пользователя."
   ]
  },
  {
   "cell_type": "code",
   "execution_count": 29,
   "metadata": {},
   "outputs": [
    {
     "data": {
      "text/html": [
       "<div>\n",
       "<style scoped>\n",
       "    .dataframe tbody tr th:only-of-type {\n",
       "        vertical-align: middle;\n",
       "    }\n",
       "\n",
       "    .dataframe tbody tr th {\n",
       "        vertical-align: top;\n",
       "    }\n",
       "\n",
       "    .dataframe thead th {\n",
       "        text-align: right;\n",
       "    }\n",
       "</style>\n",
       "<table border=\"1\" class=\"dataframe\">\n",
       "  <thead>\n",
       "    <tr style=\"text-align: right;\">\n",
       "      <th></th>\n",
       "      <th>source</th>\n",
       "      <th>day</th>\n",
       "      <th>cost</th>\n",
       "    </tr>\n",
       "  </thead>\n",
       "  <tbody>\n",
       "    <tr>\n",
       "      <th>0</th>\n",
       "      <td>facebook_ads</td>\n",
       "      <td>2020-05-03</td>\n",
       "      <td>935.88</td>\n",
       "    </tr>\n",
       "    <tr>\n",
       "      <th>1</th>\n",
       "      <td>facebook_ads</td>\n",
       "      <td>2020-05-04</td>\n",
       "      <td>548.35</td>\n",
       "    </tr>\n",
       "    <tr>\n",
       "      <th>2</th>\n",
       "      <td>facebook_ads</td>\n",
       "      <td>2020-05-05</td>\n",
       "      <td>260.19</td>\n",
       "    </tr>\n",
       "    <tr>\n",
       "      <th>3</th>\n",
       "      <td>facebook_ads</td>\n",
       "      <td>2020-05-06</td>\n",
       "      <td>177.98</td>\n",
       "    </tr>\n",
       "    <tr>\n",
       "      <th>4</th>\n",
       "      <td>facebook_ads</td>\n",
       "      <td>2020-05-07</td>\n",
       "      <td>111.77</td>\n",
       "    </tr>\n",
       "  </tbody>\n",
       "</table>\n",
       "</div>"
      ],
      "text/plain": [
       "         source        day   cost\n",
       "0  facebook_ads 2020-05-03 935.88\n",
       "1  facebook_ads 2020-05-04 548.35\n",
       "2  facebook_ads 2020-05-05 260.19\n",
       "3  facebook_ads 2020-05-06 177.98\n",
       "4  facebook_ads 2020-05-07 111.77"
      ]
     },
     "metadata": {},
     "output_type": "display_data"
    },
    {
     "data": {
      "text/html": [
       "<div>\n",
       "<style scoped>\n",
       "    .dataframe tbody tr th:only-of-type {\n",
       "        vertical-align: middle;\n",
       "    }\n",
       "\n",
       "    .dataframe tbody tr th {\n",
       "        vertical-align: top;\n",
       "    }\n",
       "\n",
       "    .dataframe thead th {\n",
       "        text-align: right;\n",
       "    }\n",
       "</style>\n",
       "<table border=\"1\" class=\"dataframe\">\n",
       "  <thead>\n",
       "    <tr style=\"text-align: right;\">\n",
       "      <th></th>\n",
       "      <th>user_id</th>\n",
       "      <th>source</th>\n",
       "    </tr>\n",
       "  </thead>\n",
       "  <tbody>\n",
       "    <tr>\n",
       "      <th>0</th>\n",
       "      <td>0001f83c-c6ac-4621-b7f0-8a28b283ac30</td>\n",
       "      <td>facebook_ads</td>\n",
       "    </tr>\n",
       "    <tr>\n",
       "      <th>1</th>\n",
       "      <td>00151b4f-ba38-44a8-a650-d7cf130a0105</td>\n",
       "      <td>yandex_direct</td>\n",
       "    </tr>\n",
       "    <tr>\n",
       "      <th>2</th>\n",
       "      <td>001aaea6-3d14-43f1-8ca8-7f48820f17aa</td>\n",
       "      <td>youtube_channel_reklama</td>\n",
       "    </tr>\n",
       "    <tr>\n",
       "      <th>3</th>\n",
       "      <td>001d39dc-366c-4021-9604-6a3b9ff01e25</td>\n",
       "      <td>instagram_new_adverts</td>\n",
       "    </tr>\n",
       "    <tr>\n",
       "      <th>4</th>\n",
       "      <td>002f508f-67b6-479f-814b-b05f00d4e995</td>\n",
       "      <td>facebook_ads</td>\n",
       "    </tr>\n",
       "  </tbody>\n",
       "</table>\n",
       "</div>"
      ],
      "text/plain": [
       "                                user_id                   source\n",
       "0  0001f83c-c6ac-4621-b7f0-8a28b283ac30             facebook_ads\n",
       "1  00151b4f-ba38-44a8-a650-d7cf130a0105            yandex_direct\n",
       "2  001aaea6-3d14-43f1-8ca8-7f48820f17aa  youtube_channel_reklama\n",
       "3  001d39dc-366c-4021-9604-6a3b9ff01e25    instagram_new_adverts\n",
       "4  002f508f-67b6-479f-814b-b05f00d4e995             facebook_ads"
      ]
     },
     "metadata": {},
     "output_type": "display_data"
    }
   ],
   "source": [
    "# что бы не лазить вверх, откроем таблицы тут\n",
    "display(ac.head())\n",
    "display(us.head())"
   ]
  },
  {
   "cell_type": "markdown",
   "metadata": {},
   "source": [
    "**Кол-во привлеченных пользователей**"
   ]
  },
  {
   "cell_type": "code",
   "execution_count": 30,
   "metadata": {},
   "outputs": [
    {
     "data": {
      "image/png": "[encoded data removed]",
      "text/plain": [
       "<Figure size 720x576 with 1 Axes>"
      ]
     },
     "metadata": {
      "needs_background": "light"
     },
     "output_type": "display_data"
    }
   ],
   "source": [
    "ax = us.groupby('source')['user_id'].count().plot(x='source', y='user_id', kind='bar', figsize=(10, 8), rot=25)\n",
    "\n",
    "for p in ax.patches:\n",
    "\theight = p.get_height()\n",
    "\tax.text(p.get_x() + p.get_width() / 2,\n",
    "\t\t\t\t\theight + 50,\n",
    "\t\t\t\t\t'{:.0f}'.format(height),\n",
    "\t\t\t\t\tfontsize = 12,\n",
    "\t\t\t\t\tha='center')\n",
    "\n",
    "plt.title('Количество привлеченных игроков', fontsize=15)\n",
    "plt.xlabel('Источник', fontsize=12)\n",
    "plt.ylabel('Кол-во игроков', fontsize=12)\n",
    "plt.show()"
   ]
  },
  {
   "cell_type": "markdown",
   "metadata": {},
   "source": [
    "Самым лучшим источником привлечения является \"Yandex direct\", на втором месте - \"Instagram new adverts\". С этих источников пришло 4817 и 3347 пользователей соответственно."
   ]
  },
  {
   "cell_type": "markdown",
   "metadata": {},
   "source": [
    "**Затраты на привлечение пользователей**"
   ]
  },
  {
   "cell_type": "markdown",
   "metadata": {},
   "source": [
    "Посчитаем сколько всего мы потратили на рекламу."
   ]
  },
  {
   "cell_type": "code",
   "execution_count": 31,
   "metadata": {},
   "outputs": [
    {
     "name": "stdout",
     "output_type": "stream",
     "text": [
      "Всего на привлечение пользователей потрачено 7603.58\n"
     ]
    }
   ],
   "source": [
    "print('Всего на привлечение пользователей потрачено', ac['cost'].sum().round(2))"
   ]
  },
  {
   "cell_type": "markdown",
   "metadata": {},
   "source": [
    "Чтобы расчитать стоимость привлечения одного пользователя с разных каналов, нам нужно:\n",
    " - добавить дату первого входа в таблицу us (user_sourse);\n",
    " - объеденить таблицы ac и us;\n",
    " - расчитать стоимость привлечения."
   ]
  },
  {
   "cell_type": "code",
   "execution_count": 32,
   "metadata": {},
   "outputs": [
    {
     "data": {
      "text/html": [
       "<div>\n",
       "<style scoped>\n",
       "    .dataframe tbody tr th:only-of-type {\n",
       "        vertical-align: middle;\n",
       "    }\n",
       "\n",
       "    .dataframe tbody tr th {\n",
       "        vertical-align: top;\n",
       "    }\n",
       "\n",
       "    .dataframe thead th {\n",
       "        text-align: right;\n",
       "    }\n",
       "</style>\n",
       "<table border=\"1\" class=\"dataframe\">\n",
       "  <thead>\n",
       "    <tr style=\"text-align: right;\">\n",
       "      <th></th>\n",
       "      <th>user_id</th>\n",
       "      <th>source</th>\n",
       "      <th>first_date</th>\n",
       "    </tr>\n",
       "  </thead>\n",
       "  <tbody>\n",
       "    <tr>\n",
       "      <th>0</th>\n",
       "      <td>0001f83c-c6ac-4621-b7f0-8a28b283ac30</td>\n",
       "      <td>facebook_ads</td>\n",
       "      <td>2020-05-06</td>\n",
       "    </tr>\n",
       "    <tr>\n",
       "      <th>1</th>\n",
       "      <td>00151b4f-ba38-44a8-a650-d7cf130a0105</td>\n",
       "      <td>yandex_direct</td>\n",
       "      <td>2020-05-06</td>\n",
       "    </tr>\n",
       "    <tr>\n",
       "      <th>2</th>\n",
       "      <td>001aaea6-3d14-43f1-8ca8-7f48820f17aa</td>\n",
       "      <td>youtube_channel_reklama</td>\n",
       "      <td>2020-05-05</td>\n",
       "    </tr>\n",
       "    <tr>\n",
       "      <th>3</th>\n",
       "      <td>001d39dc-366c-4021-9604-6a3b9ff01e25</td>\n",
       "      <td>instagram_new_adverts</td>\n",
       "      <td>2020-05-05</td>\n",
       "    </tr>\n",
       "    <tr>\n",
       "      <th>4</th>\n",
       "      <td>002f508f-67b6-479f-814b-b05f00d4e995</td>\n",
       "      <td>facebook_ads</td>\n",
       "      <td>2020-05-05</td>\n",
       "    </tr>\n",
       "  </tbody>\n",
       "</table>\n",
       "</div>"
      ],
      "text/plain": [
       "                                user_id                   source  first_date\n",
       "0  0001f83c-c6ac-4621-b7f0-8a28b283ac30             facebook_ads  2020-05-06\n",
       "1  00151b4f-ba38-44a8-a650-d7cf130a0105            yandex_direct  2020-05-06\n",
       "2  001aaea6-3d14-43f1-8ca8-7f48820f17aa  youtube_channel_reklama  2020-05-05\n",
       "3  001d39dc-366c-4021-9604-6a3b9ff01e25    instagram_new_adverts  2020-05-05\n",
       "4  002f508f-67b6-479f-814b-b05f00d4e995             facebook_ads  2020-05-05"
      ]
     },
     "metadata": {},
     "output_type": "display_data"
    },
    {
     "name": "stdout",
     "output_type": "stream",
     "text": [
      "<class 'pandas.core.frame.DataFrame'>\n",
      "RangeIndex: 13576 entries, 0 to 13575\n",
      "Data columns (total 3 columns):\n",
      " #   Column      Non-Null Count  Dtype \n",
      "---  ------      --------------  ----- \n",
      " 0   user_id     13576 non-null  object\n",
      " 1   source      13576 non-null  object\n",
      " 2   first_date  13576 non-null  object\n",
      "dtypes: object(3)\n",
      "memory usage: 318.3+ KB\n"
     ]
    },
    {
     "data": {
      "text/plain": [
       "None"
      ]
     },
     "metadata": {},
     "output_type": "display_data"
    }
   ],
   "source": [
    "first_date = ga.groupby('user_id')['session_date'].min()\n",
    "first_date.name = 'first_date'\n",
    "us = us.join(first_date, on='user_id')\n",
    "display(us.head())\n",
    "display(us.info())"
   ]
  },
  {
   "cell_type": "markdown",
   "metadata": {},
   "source": [
    "Далее необходимо привести столбец с датами к соответствующему типу данных, посчитать пользователей по датам, и вспомнить, что день оплаты рекламы предшевствует дню первого входа."
   ]
  },
  {
   "cell_type": "code",
   "execution_count": 33,
   "metadata": {},
   "outputs": [
    {
     "data": {
      "text/html": [
       "<div>\n",
       "<style scoped>\n",
       "    .dataframe tbody tr th:only-of-type {\n",
       "        vertical-align: middle;\n",
       "    }\n",
       "\n",
       "    .dataframe tbody tr th {\n",
       "        vertical-align: top;\n",
       "    }\n",
       "\n",
       "    .dataframe thead th {\n",
       "        text-align: right;\n",
       "    }\n",
       "</style>\n",
       "<table border=\"1\" class=\"dataframe\">\n",
       "  <thead>\n",
       "    <tr style=\"text-align: right;\">\n",
       "      <th></th>\n",
       "      <th>first_date</th>\n",
       "      <th>source</th>\n",
       "      <th>users_count</th>\n",
       "      <th>pay_date</th>\n",
       "    </tr>\n",
       "  </thead>\n",
       "  <tbody>\n",
       "    <tr>\n",
       "      <th>0</th>\n",
       "      <td>2020-05-04</td>\n",
       "      <td>facebook_ads</td>\n",
       "      <td>1184</td>\n",
       "      <td>2020-05-03</td>\n",
       "    </tr>\n",
       "    <tr>\n",
       "      <th>1</th>\n",
       "      <td>2020-05-04</td>\n",
       "      <td>instagram_new_adverts</td>\n",
       "      <td>1452</td>\n",
       "      <td>2020-05-03</td>\n",
       "    </tr>\n",
       "    <tr>\n",
       "      <th>2</th>\n",
       "      <td>2020-05-04</td>\n",
       "      <td>yandex_direct</td>\n",
       "      <td>2078</td>\n",
       "      <td>2020-05-03</td>\n",
       "    </tr>\n",
       "    <tr>\n",
       "      <th>3</th>\n",
       "      <td>2020-05-04</td>\n",
       "      <td>youtube_channel_reklama</td>\n",
       "      <td>1146</td>\n",
       "      <td>2020-05-03</td>\n",
       "    </tr>\n",
       "    <tr>\n",
       "      <th>4</th>\n",
       "      <td>2020-05-05</td>\n",
       "      <td>facebook_ads</td>\n",
       "      <td>694</td>\n",
       "      <td>2020-05-04</td>\n",
       "    </tr>\n",
       "  </tbody>\n",
       "</table>\n",
       "</div>"
      ],
      "text/plain": [
       "  first_date                   source  users_count   pay_date\n",
       "0 2020-05-04             facebook_ads         1184 2020-05-03\n",
       "1 2020-05-04    instagram_new_adverts         1452 2020-05-03\n",
       "2 2020-05-04            yandex_direct         2078 2020-05-03\n",
       "3 2020-05-04  youtube_channel_reklama         1146 2020-05-03\n",
       "4 2020-05-05             facebook_ads          694 2020-05-04"
      ]
     },
     "execution_count": 33,
     "metadata": {},
     "output_type": "execute_result"
    }
   ],
   "source": [
    "us_date = us.groupby(['first_date', 'source']).agg({'user_id': 'nunique'}).reset_index()\n",
    "us_date.columns=['first_date','source', 'users_count']\n",
    "\n",
    "us_date['first_date'] = us_date['first_date'].astype('datetime64[s]')\n",
    "us_date['pay_date'] = us_date['first_date'] - pd.Timedelta(days=1)\n",
    "us_date.head()"
   ]
  },
  {
   "cell_type": "markdown",
   "metadata": {},
   "source": [
    "Далее необходимо объеденить две таблицы с данными о рекламе."
   ]
  },
  {
   "cell_type": "code",
   "execution_count": 34,
   "metadata": {},
   "outputs": [
    {
     "data": {
      "text/html": [
       "<div>\n",
       "<style scoped>\n",
       "    .dataframe tbody tr th:only-of-type {\n",
       "        vertical-align: middle;\n",
       "    }\n",
       "\n",
       "    .dataframe tbody tr th {\n",
       "        vertical-align: top;\n",
       "    }\n",
       "\n",
       "    .dataframe thead th {\n",
       "        text-align: right;\n",
       "    }\n",
       "</style>\n",
       "<table border=\"1\" class=\"dataframe\">\n",
       "  <thead>\n",
       "    <tr style=\"text-align: right;\">\n",
       "      <th></th>\n",
       "      <th>source</th>\n",
       "      <th>day</th>\n",
       "      <th>cost</th>\n",
       "      <th>first_date</th>\n",
       "      <th>users_count</th>\n",
       "      <th>pay_date</th>\n",
       "    </tr>\n",
       "  </thead>\n",
       "  <tbody>\n",
       "    <tr>\n",
       "      <th>0</th>\n",
       "      <td>facebook_ads</td>\n",
       "      <td>2020-05-03</td>\n",
       "      <td>935.88</td>\n",
       "      <td>2020-05-04</td>\n",
       "      <td>1184</td>\n",
       "      <td>2020-05-03</td>\n",
       "    </tr>\n",
       "    <tr>\n",
       "      <th>1</th>\n",
       "      <td>facebook_ads</td>\n",
       "      <td>2020-05-04</td>\n",
       "      <td>548.35</td>\n",
       "      <td>2020-05-05</td>\n",
       "      <td>694</td>\n",
       "      <td>2020-05-04</td>\n",
       "    </tr>\n",
       "    <tr>\n",
       "      <th>2</th>\n",
       "      <td>facebook_ads</td>\n",
       "      <td>2020-05-05</td>\n",
       "      <td>260.19</td>\n",
       "      <td>2020-05-06</td>\n",
       "      <td>345</td>\n",
       "      <td>2020-05-05</td>\n",
       "    </tr>\n",
       "    <tr>\n",
       "      <th>3</th>\n",
       "      <td>facebook_ads</td>\n",
       "      <td>2020-05-06</td>\n",
       "      <td>177.98</td>\n",
       "      <td>2020-05-07</td>\n",
       "      <td>224</td>\n",
       "      <td>2020-05-06</td>\n",
       "    </tr>\n",
       "    <tr>\n",
       "      <th>4</th>\n",
       "      <td>facebook_ads</td>\n",
       "      <td>2020-05-07</td>\n",
       "      <td>111.77</td>\n",
       "      <td>2020-05-08</td>\n",
       "      <td>139</td>\n",
       "      <td>2020-05-07</td>\n",
       "    </tr>\n",
       "  </tbody>\n",
       "</table>\n",
       "</div>"
      ],
      "text/plain": [
       "         source        day   cost first_date  users_count   pay_date\n",
       "0  facebook_ads 2020-05-03 935.88 2020-05-04         1184 2020-05-03\n",
       "1  facebook_ads 2020-05-04 548.35 2020-05-05          694 2020-05-04\n",
       "2  facebook_ads 2020-05-05 260.19 2020-05-06          345 2020-05-05\n",
       "3  facebook_ads 2020-05-06 177.98 2020-05-07          224 2020-05-06\n",
       "4  facebook_ads 2020-05-07 111.77 2020-05-08          139 2020-05-07"
      ]
     },
     "execution_count": 34,
     "metadata": {},
     "output_type": "execute_result"
    }
   ],
   "source": [
    "ad_pay = pd.merge(ac, us_date, how='left', left_on=['day', 'source'], right_on=['pay_date', 'source']).reset_index(drop=True)\n",
    "ad_pay.head()"
   ]
  },
  {
   "cell_type": "markdown",
   "metadata": {},
   "source": [
    "Последний этап:\n",
    " - сгруппировать таблицу по источникам;\n",
    " - посчитать среднюю стоимость привлечения игрока."
   ]
  },
  {
   "cell_type": "code",
   "execution_count": 35,
   "metadata": {},
   "outputs": [
    {
     "data": {
      "text/html": [
       "<div>\n",
       "<style scoped>\n",
       "    .dataframe tbody tr th:only-of-type {\n",
       "        vertical-align: middle;\n",
       "    }\n",
       "\n",
       "    .dataframe tbody tr th {\n",
       "        vertical-align: top;\n",
       "    }\n",
       "\n",
       "    .dataframe thead th {\n",
       "        text-align: right;\n",
       "    }\n",
       "</style>\n",
       "<table border=\"1\" class=\"dataframe\">\n",
       "  <thead>\n",
       "    <tr style=\"text-align: right;\">\n",
       "      <th></th>\n",
       "      <th>source</th>\n",
       "      <th>cost</th>\n",
       "      <th>users_count</th>\n",
       "      <th>mean_pay</th>\n",
       "    </tr>\n",
       "  </thead>\n",
       "  <tbody>\n",
       "    <tr>\n",
       "      <th>0</th>\n",
       "      <td>facebook_ads</td>\n",
       "      <td>2140.90</td>\n",
       "      <td>2726</td>\n",
       "      <td>0.79</td>\n",
       "    </tr>\n",
       "    <tr>\n",
       "      <th>1</th>\n",
       "      <td>instagram_new_adverts</td>\n",
       "      <td>2161.44</td>\n",
       "      <td>3347</td>\n",
       "      <td>0.65</td>\n",
       "    </tr>\n",
       "    <tr>\n",
       "      <th>2</th>\n",
       "      <td>yandex_direct</td>\n",
       "      <td>2233.11</td>\n",
       "      <td>4817</td>\n",
       "      <td>0.46</td>\n",
       "    </tr>\n",
       "    <tr>\n",
       "      <th>3</th>\n",
       "      <td>youtube_channel_reklama</td>\n",
       "      <td>1068.12</td>\n",
       "      <td>2686</td>\n",
       "      <td>0.40</td>\n",
       "    </tr>\n",
       "  </tbody>\n",
       "</table>\n",
       "</div>"
      ],
      "text/plain": [
       "                    source    cost  users_count  mean_pay\n",
       "0             facebook_ads 2140.90         2726      0.79\n",
       "1    instagram_new_adverts 2161.44         3347      0.65\n",
       "2            yandex_direct 2233.11         4817      0.46\n",
       "3  youtube_channel_reklama 1068.12         2686      0.40"
      ]
     },
     "execution_count": 35,
     "metadata": {},
     "output_type": "execute_result"
    }
   ],
   "source": [
    "mean_ad_pay = ad_pay.groupby('source').agg({'cost': 'sum', 'users_count': 'sum'}).reset_index()\n",
    "mean_ad_pay['mean_pay'] = mean_ad_pay['cost'] / mean_ad_pay['users_count']\n",
    "mean_ad_pay"
   ]
  },
  {
   "cell_type": "markdown",
   "metadata": {},
   "source": [
    "Ценовой диапазон стартует с отметки 0.4 и заканчивается на отметке 0.79 ден.ед."
   ]
  },
  {
   "cell_type": "markdown",
   "metadata": {},
   "source": [
    "### <a id=\"3.4\">Активность игроков из разных источников</a>"
   ]
  },
  {
   "cell_type": "markdown",
   "metadata": {},
   "source": [
    "**Попробуем определить, откуда в игру приходят самые заинтересованные игроки. Будем рассматривать только игроков, завершивших первый уровень.**"
   ]
  },
  {
   "cell_type": "code",
   "execution_count": 36,
   "metadata": {},
   "outputs": [
    {
     "data": {
      "text/plain": [
       "array(['building', 'finished_stage_1', 'project'], dtype=object)"
      ]
     },
     "execution_count": 36,
     "metadata": {},
     "output_type": "execute_result"
    }
   ],
   "source": [
    "ga['event'].unique()"
   ]
  },
  {
   "cell_type": "code",
   "execution_count": 37,
   "metadata": {},
   "outputs": [
    {
     "data": {
      "text/html": [
       "<div>\n",
       "<style scoped>\n",
       "    .dataframe tbody tr th:only-of-type {\n",
       "        vertical-align: middle;\n",
       "    }\n",
       "\n",
       "    .dataframe tbody tr th {\n",
       "        vertical-align: top;\n",
       "    }\n",
       "\n",
       "    .dataframe thead th {\n",
       "        text-align: right;\n",
       "    }\n",
       "</style>\n",
       "<table border=\"1\" class=\"dataframe\">\n",
       "  <thead>\n",
       "    <tr style=\"text-align: right;\">\n",
       "      <th></th>\n",
       "      <th>event_datetime</th>\n",
       "      <th>event</th>\n",
       "      <th>building_type</th>\n",
       "      <th>user_id</th>\n",
       "      <th>project_type</th>\n",
       "      <th>session_date</th>\n",
       "    </tr>\n",
       "  </thead>\n",
       "  <tbody>\n",
       "    <tr>\n",
       "      <th>6659</th>\n",
       "      <td>2020-05-04 19:47:29</td>\n",
       "      <td>finished_stage_1</td>\n",
       "      <td>NaN</td>\n",
       "      <td>ced7b368-818f-48f6-9461-2346de0892c5</td>\n",
       "      <td>NaN</td>\n",
       "      <td>2020-05-04</td>\n",
       "    </tr>\n",
       "    <tr>\n",
       "      <th>13134</th>\n",
       "      <td>2020-05-05 13:22:09</td>\n",
       "      <td>finished_stage_1</td>\n",
       "      <td>NaN</td>\n",
       "      <td>7ef7fc89-2779-46ea-b328-9e5035b83af5</td>\n",
       "      <td>NaN</td>\n",
       "      <td>2020-05-05</td>\n",
       "    </tr>\n",
       "    <tr>\n",
       "      <th>15274</th>\n",
       "      <td>2020-05-05 18:54:37</td>\n",
       "      <td>finished_stage_1</td>\n",
       "      <td>NaN</td>\n",
       "      <td>70db22b3-c2f4-43bc-94ea-51c8d2904a29</td>\n",
       "      <td>NaN</td>\n",
       "      <td>2020-05-05</td>\n",
       "    </tr>\n",
       "    <tr>\n",
       "      <th>16284</th>\n",
       "      <td>2020-05-05 21:27:29</td>\n",
       "      <td>finished_stage_1</td>\n",
       "      <td>NaN</td>\n",
       "      <td>903fc9ef-ba97-4b12-9d5c-ac8d602fbd8b</td>\n",
       "      <td>NaN</td>\n",
       "      <td>2020-05-05</td>\n",
       "    </tr>\n",
       "    <tr>\n",
       "      <th>19650</th>\n",
       "      <td>2020-05-06 06:02:22</td>\n",
       "      <td>finished_stage_1</td>\n",
       "      <td>NaN</td>\n",
       "      <td>58e077ba-feb1-4556-a5a0-d96bd04efa39</td>\n",
       "      <td>NaN</td>\n",
       "      <td>2020-05-06</td>\n",
       "    </tr>\n",
       "  </tbody>\n",
       "</table>\n",
       "</div>"
      ],
      "text/plain": [
       "           event_datetime             event building_type  \\\n",
       "6659  2020-05-04 19:47:29  finished_stage_1           NaN   \n",
       "13134 2020-05-05 13:22:09  finished_stage_1           NaN   \n",
       "15274 2020-05-05 18:54:37  finished_stage_1           NaN   \n",
       "16284 2020-05-05 21:27:29  finished_stage_1           NaN   \n",
       "19650 2020-05-06 06:02:22  finished_stage_1           NaN   \n",
       "\n",
       "                                    user_id project_type session_date  \n",
       "6659   ced7b368-818f-48f6-9461-2346de0892c5          NaN   2020-05-04  \n",
       "13134  7ef7fc89-2779-46ea-b328-9e5035b83af5          NaN   2020-05-05  \n",
       "15274  70db22b3-c2f4-43bc-94ea-51c8d2904a29          NaN   2020-05-05  \n",
       "16284  903fc9ef-ba97-4b12-9d5c-ac8d602fbd8b          NaN   2020-05-05  \n",
       "19650  58e077ba-feb1-4556-a5a0-d96bd04efa39          NaN   2020-05-06  "
      ]
     },
     "execution_count": 37,
     "metadata": {},
     "output_type": "execute_result"
    }
   ],
   "source": [
    "ga_result = ga.drop(ga[ga['event'] == 'building'].index)\n",
    "ga_result.head()"
   ]
  },
  {
   "cell_type": "code",
   "execution_count": 38,
   "metadata": {},
   "outputs": [
    {
     "data": {
      "text/html": [
       "<div>\n",
       "<style scoped>\n",
       "    .dataframe tbody tr th:only-of-type {\n",
       "        vertical-align: middle;\n",
       "    }\n",
       "\n",
       "    .dataframe tbody tr th {\n",
       "        vertical-align: top;\n",
       "    }\n",
       "\n",
       "    .dataframe thead th {\n",
       "        text-align: right;\n",
       "    }\n",
       "</style>\n",
       "<table border=\"1\" class=\"dataframe\">\n",
       "  <thead>\n",
       "    <tr style=\"text-align: right;\">\n",
       "      <th></th>\n",
       "      <th>event_datetime</th>\n",
       "      <th>event</th>\n",
       "      <th>building_type</th>\n",
       "      <th>user_id</th>\n",
       "      <th>project_type</th>\n",
       "      <th>session_date</th>\n",
       "      <th>source</th>\n",
       "      <th>first_date</th>\n",
       "    </tr>\n",
       "  </thead>\n",
       "  <tbody>\n",
       "    <tr>\n",
       "      <th>0</th>\n",
       "      <td>2020-05-04 19:47:29</td>\n",
       "      <td>finished_stage_1</td>\n",
       "      <td>NaN</td>\n",
       "      <td>ced7b368-818f-48f6-9461-2346de0892c5</td>\n",
       "      <td>NaN</td>\n",
       "      <td>2020-05-04</td>\n",
       "      <td>instagram_new_adverts</td>\n",
       "      <td>2020-05-04</td>\n",
       "    </tr>\n",
       "    <tr>\n",
       "      <th>1</th>\n",
       "      <td>2020-05-05 13:22:09</td>\n",
       "      <td>finished_stage_1</td>\n",
       "      <td>NaN</td>\n",
       "      <td>7ef7fc89-2779-46ea-b328-9e5035b83af5</td>\n",
       "      <td>NaN</td>\n",
       "      <td>2020-05-05</td>\n",
       "      <td>facebook_ads</td>\n",
       "      <td>2020-05-04</td>\n",
       "    </tr>\n",
       "    <tr>\n",
       "      <th>2</th>\n",
       "      <td>2020-05-05 18:54:37</td>\n",
       "      <td>finished_stage_1</td>\n",
       "      <td>NaN</td>\n",
       "      <td>70db22b3-c2f4-43bc-94ea-51c8d2904a29</td>\n",
       "      <td>NaN</td>\n",
       "      <td>2020-05-05</td>\n",
       "      <td>youtube_channel_reklama</td>\n",
       "      <td>2020-05-04</td>\n",
       "    </tr>\n",
       "    <tr>\n",
       "      <th>3</th>\n",
       "      <td>2020-05-05 21:27:29</td>\n",
       "      <td>finished_stage_1</td>\n",
       "      <td>NaN</td>\n",
       "      <td>903fc9ef-ba97-4b12-9d5c-ac8d602fbd8b</td>\n",
       "      <td>NaN</td>\n",
       "      <td>2020-05-05</td>\n",
       "      <td>youtube_channel_reklama</td>\n",
       "      <td>2020-05-04</td>\n",
       "    </tr>\n",
       "    <tr>\n",
       "      <th>4</th>\n",
       "      <td>2020-05-06 06:02:22</td>\n",
       "      <td>finished_stage_1</td>\n",
       "      <td>NaN</td>\n",
       "      <td>58e077ba-feb1-4556-a5a0-d96bd04efa39</td>\n",
       "      <td>NaN</td>\n",
       "      <td>2020-05-06</td>\n",
       "      <td>facebook_ads</td>\n",
       "      <td>2020-05-04</td>\n",
       "    </tr>\n",
       "  </tbody>\n",
       "</table>\n",
       "</div>"
      ],
      "text/plain": [
       "       event_datetime             event building_type  \\\n",
       "0 2020-05-04 19:47:29  finished_stage_1           NaN   \n",
       "1 2020-05-05 13:22:09  finished_stage_1           NaN   \n",
       "2 2020-05-05 18:54:37  finished_stage_1           NaN   \n",
       "3 2020-05-05 21:27:29  finished_stage_1           NaN   \n",
       "4 2020-05-06 06:02:22  finished_stage_1           NaN   \n",
       "\n",
       "                                user_id project_type session_date  \\\n",
       "0  ced7b368-818f-48f6-9461-2346de0892c5          NaN   2020-05-04   \n",
       "1  7ef7fc89-2779-46ea-b328-9e5035b83af5          NaN   2020-05-05   \n",
       "2  70db22b3-c2f4-43bc-94ea-51c8d2904a29          NaN   2020-05-05   \n",
       "3  903fc9ef-ba97-4b12-9d5c-ac8d602fbd8b          NaN   2020-05-05   \n",
       "4  58e077ba-feb1-4556-a5a0-d96bd04efa39          NaN   2020-05-06   \n",
       "\n",
       "                    source  first_date  \n",
       "0    instagram_new_adverts  2020-05-04  \n",
       "1             facebook_ads  2020-05-04  \n",
       "2  youtube_channel_reklama  2020-05-04  \n",
       "3  youtube_channel_reklama  2020-05-04  \n",
       "4             facebook_ads  2020-05-04  "
      ]
     },
     "execution_count": 38,
     "metadata": {},
     "output_type": "execute_result"
    }
   ],
   "source": [
    "ga_source = ga_result.merge(us, how='left', left_on='user_id', right_on='user_id')\n",
    "ga_source.head()"
   ]
  },
  {
   "cell_type": "code",
   "execution_count": 39,
   "metadata": {},
   "outputs": [
    {
     "data": {
      "image/png": "[encoded data removed]",
      "text/plain": [
       "<Figure size 1800x504 with 1 Axes>"
      ]
     },
     "metadata": {
      "needs_background": "light"
     },
     "output_type": "display_data"
    }
   ],
   "source": [
    "fig, ax = plt.subplots(figsize=(25,7))\n",
    "\n",
    "ga_source.groupby(['session_date', 'source']).agg({'user_id': 'nunique'}).unstack().plot(ax=ax)\n",
    "ax.legend(['Facebook ADS', 'Instagram new adverts', 'Yandex direct', 'YouTube channel reklama'])\n",
    "ax.grid(linewidth=0.25)\n",
    "plt.title('Количество игроков в день, по каналам')\n",
    "plt.xlabel('Дата')\n",
    "plt.ylabel('Кол-во игроков')\n",
    "plt.show()"
   ]
  },
  {
   "cell_type": "markdown",
   "metadata": {},
   "source": [
    "Итак, мы получили следующий результат:\n",
    " - самые заинтересованные игроки приходят из Yandex direct;\n",
    " - на втором месте находится Instagram new adverts;\n",
    " - YouTube и Facebook приносят примерно одинаковое кол-во игроков, но меньше, чем предыдущие каналы.\n",
    "\n",
    "Если принять по внимание стоимость привлечения одного игрока, то самыми выгодными каналами, на данный момен, являются Яндекс и Инстаграм."
   ]
  },
  {
   "cell_type": "markdown",
   "metadata": {},
   "source": [
    "## <a id=\"verification\">Проверка гипотез</a>"
   ]
  },
  {
   "cell_type": "markdown",
   "metadata": {},
   "source": [
    "### <a id=\"4.1\">Различается ли среднее время прохождения первого уровня игроками победившими врага и выполневшими проект</a>"
   ]
  },
  {
   "cell_type": "markdown",
   "metadata": {},
   "source": [
    "Н0: Среднее время прохождения уровня игроком, победившим врага, меньше, чем время игрока, реализовавшего проект\n",
    "<br>Н1: Среднее время прохождения уровня игроком, победившим врага, больше, чем время игрока, реализовавшего проект"
   ]
  },
  {
   "cell_type": "markdown",
   "metadata": {},
   "source": [
    "Данную гипотезу будем проверять с помощью t-теста.\n",
    "\n",
    "<br>Для проверки этой гипотезы нам необходимо узнать время, за которое игроки проходят первый уровень. Для удобства переведем это время в секунды."
   ]
  },
  {
   "cell_type": "code",
   "execution_count": 41,
   "metadata": {},
   "outputs": [
    {
     "data": {
      "text/html": [
       "<div>\n",
       "<style scoped>\n",
       "    .dataframe tbody tr th:only-of-type {\n",
       "        vertical-align: middle;\n",
       "    }\n",
       "\n",
       "    .dataframe tbody tr th {\n",
       "        vertical-align: top;\n",
       "    }\n",
       "\n",
       "    .dataframe thead th {\n",
       "        text-align: right;\n",
       "    }\n",
       "</style>\n",
       "<table border=\"1\" class=\"dataframe\">\n",
       "  <thead>\n",
       "    <tr style=\"text-align: right;\">\n",
       "      <th></th>\n",
       "      <th>user_id</th>\n",
       "      <th>event</th>\n",
       "    </tr>\n",
       "  </thead>\n",
       "  <tbody>\n",
       "    <tr>\n",
       "      <th>6659</th>\n",
       "      <td>ced7b368-818f-48f6-9461-2346de0892c5</td>\n",
       "      <td>finished_stage_1</td>\n",
       "    </tr>\n",
       "    <tr>\n",
       "      <th>13134</th>\n",
       "      <td>7ef7fc89-2779-46ea-b328-9e5035b83af5</td>\n",
       "      <td>finished_stage_1</td>\n",
       "    </tr>\n",
       "    <tr>\n",
       "      <th>15274</th>\n",
       "      <td>70db22b3-c2f4-43bc-94ea-51c8d2904a29</td>\n",
       "      <td>finished_stage_1</td>\n",
       "    </tr>\n",
       "    <tr>\n",
       "      <th>16284</th>\n",
       "      <td>903fc9ef-ba97-4b12-9d5c-ac8d602fbd8b</td>\n",
       "      <td>finished_stage_1</td>\n",
       "    </tr>\n",
       "    <tr>\n",
       "      <th>19650</th>\n",
       "      <td>58e077ba-feb1-4556-a5a0-d96bd04efa39</td>\n",
       "      <td>finished_stage_1</td>\n",
       "    </tr>\n",
       "    <tr>\n",
       "      <th>...</th>\n",
       "      <td>...</td>\n",
       "      <td>...</td>\n",
       "    </tr>\n",
       "    <tr>\n",
       "      <th>135632</th>\n",
       "      <td>22cce310-fe10-41a2-941b-9c3d63327fea</td>\n",
       "      <td>finished_stage_1</td>\n",
       "    </tr>\n",
       "    <tr>\n",
       "      <th>135633</th>\n",
       "      <td>d477dde8-7c22-4f23-9c4f-4ec31a1aa4c8</td>\n",
       "      <td>finished_stage_1</td>\n",
       "    </tr>\n",
       "    <tr>\n",
       "      <th>135636</th>\n",
       "      <td>515c1952-99aa-4bca-a7ea-d0449eb5385a</td>\n",
       "      <td>finished_stage_1</td>\n",
       "    </tr>\n",
       "    <tr>\n",
       "      <th>135638</th>\n",
       "      <td>32572adb-900f-4b5d-a453-1eb1e6d88d8b</td>\n",
       "      <td>finished_stage_1</td>\n",
       "    </tr>\n",
       "    <tr>\n",
       "      <th>135639</th>\n",
       "      <td>f21d179f-1c4b-437e-b9c6-ab1976907195</td>\n",
       "      <td>finished_stage_1</td>\n",
       "    </tr>\n",
       "  </tbody>\n",
       "</table>\n",
       "<p>7683 rows × 2 columns</p>\n",
       "</div>"
      ],
      "text/plain": [
       "                                     user_id             event\n",
       "6659    ced7b368-818f-48f6-9461-2346de0892c5  finished_stage_1\n",
       "13134   7ef7fc89-2779-46ea-b328-9e5035b83af5  finished_stage_1\n",
       "15274   70db22b3-c2f4-43bc-94ea-51c8d2904a29  finished_stage_1\n",
       "16284   903fc9ef-ba97-4b12-9d5c-ac8d602fbd8b  finished_stage_1\n",
       "19650   58e077ba-feb1-4556-a5a0-d96bd04efa39  finished_stage_1\n",
       "...                                      ...               ...\n",
       "135632  22cce310-fe10-41a2-941b-9c3d63327fea  finished_stage_1\n",
       "135633  d477dde8-7c22-4f23-9c4f-4ec31a1aa4c8  finished_stage_1\n",
       "135636  515c1952-99aa-4bca-a7ea-d0449eb5385a  finished_stage_1\n",
       "135638  32572adb-900f-4b5d-a453-1eb1e6d88d8b  finished_stage_1\n",
       "135639  f21d179f-1c4b-437e-b9c6-ab1976907195  finished_stage_1\n",
       "\n",
       "[7683 rows x 2 columns]"
      ]
     },
     "execution_count": 41,
     "metadata": {},
     "output_type": "execute_result"
    }
   ],
   "source": [
    "# список пользователей закончивших уровень\n",
    "ga_fin = ga[ga['event'] != 'building'][['user_id', 'event']]\n",
    "ga_fin"
   ]
  },
  {
   "cell_type": "code",
   "execution_count": 42,
   "metadata": {},
   "outputs": [
    {
     "data": {
      "text/html": [
       "<div>\n",
       "<style scoped>\n",
       "    .dataframe tbody tr th:only-of-type {\n",
       "        vertical-align: middle;\n",
       "    }\n",
       "\n",
       "    .dataframe tbody tr th {\n",
       "        vertical-align: top;\n",
       "    }\n",
       "\n",
       "    .dataframe thead th {\n",
       "        text-align: right;\n",
       "    }\n",
       "</style>\n",
       "<table border=\"1\" class=\"dataframe\">\n",
       "  <thead>\n",
       "    <tr style=\"text-align: right;\">\n",
       "      <th></th>\n",
       "      <th>user_id</th>\n",
       "      <th>event</th>\n",
       "    </tr>\n",
       "  </thead>\n",
       "  <tbody>\n",
       "    <tr>\n",
       "      <th>47121</th>\n",
       "      <td>e3c66498-9d45-4000-9392-f81e6796e7da</td>\n",
       "      <td>project</td>\n",
       "    </tr>\n",
       "    <tr>\n",
       "      <th>57398</th>\n",
       "      <td>936e7af6-8338-4703-a1df-fc6c3f5b8e34</td>\n",
       "      <td>project</td>\n",
       "    </tr>\n",
       "    <tr>\n",
       "      <th>58797</th>\n",
       "      <td>a4491c86-c498-4f74-a56e-65c136d0e9a1</td>\n",
       "      <td>project</td>\n",
       "    </tr>\n",
       "    <tr>\n",
       "      <th>61174</th>\n",
       "      <td>85d9e675-562b-4329-8bbd-14d3b39096be</td>\n",
       "      <td>project</td>\n",
       "    </tr>\n",
       "    <tr>\n",
       "      <th>63770</th>\n",
       "      <td>1889ca71-3c57-4e61-9ea6-a711971bbf0a</td>\n",
       "      <td>project</td>\n",
       "    </tr>\n",
       "    <tr>\n",
       "      <th>...</th>\n",
       "      <td>...</td>\n",
       "      <td>...</td>\n",
       "    </tr>\n",
       "    <tr>\n",
       "      <th>135602</th>\n",
       "      <td>9d98001c-7e14-40d7-896e-46b3047365fd</td>\n",
       "      <td>project</td>\n",
       "    </tr>\n",
       "    <tr>\n",
       "      <th>135603</th>\n",
       "      <td>df4a1e13-eba9-4928-a7cf-ee303d6f80f9</td>\n",
       "      <td>project</td>\n",
       "    </tr>\n",
       "    <tr>\n",
       "      <th>135609</th>\n",
       "      <td>82e46f34-e243-4728-8e20-2e171fc33ea4</td>\n",
       "      <td>project</td>\n",
       "    </tr>\n",
       "    <tr>\n",
       "      <th>135617</th>\n",
       "      <td>fe032991-71e0-48c5-889f-4c3805ba4c9b</td>\n",
       "      <td>project</td>\n",
       "    </tr>\n",
       "    <tr>\n",
       "      <th>135630</th>\n",
       "      <td>d477dde8-7c22-4f23-9c4f-4ec31a1aa4c8</td>\n",
       "      <td>project</td>\n",
       "    </tr>\n",
       "  </tbody>\n",
       "</table>\n",
       "<p>1866 rows × 2 columns</p>\n",
       "</div>"
      ],
      "text/plain": [
       "                                     user_id    event\n",
       "47121   e3c66498-9d45-4000-9392-f81e6796e7da  project\n",
       "57398   936e7af6-8338-4703-a1df-fc6c3f5b8e34  project\n",
       "58797   a4491c86-c498-4f74-a56e-65c136d0e9a1  project\n",
       "61174   85d9e675-562b-4329-8bbd-14d3b39096be  project\n",
       "63770   1889ca71-3c57-4e61-9ea6-a711971bbf0a  project\n",
       "...                                      ...      ...\n",
       "135602  9d98001c-7e14-40d7-896e-46b3047365fd  project\n",
       "135603  df4a1e13-eba9-4928-a7cf-ee303d6f80f9  project\n",
       "135609  82e46f34-e243-4728-8e20-2e171fc33ea4  project\n",
       "135617  fe032991-71e0-48c5-889f-4c3805ba4c9b  project\n",
       "135630  d477dde8-7c22-4f23-9c4f-4ec31a1aa4c8  project\n",
       "\n",
       "[1866 rows x 2 columns]"
      ]
     },
     "execution_count": 42,
     "metadata": {},
     "output_type": "execute_result"
    }
   ],
   "source": [
    "# список пользователей завершивших проект\n",
    "ga_pve = ga_fin[ga_fin['event'] == 'project'][['user_id', 'event']]\n",
    "ga_pve"
   ]
  },
  {
   "cell_type": "code",
   "execution_count": 43,
   "metadata": {},
   "outputs": [
    {
     "data": {
      "text/html": [
       "<div>\n",
       "<style scoped>\n",
       "    .dataframe tbody tr th:only-of-type {\n",
       "        vertical-align: middle;\n",
       "    }\n",
       "\n",
       "    .dataframe tbody tr th {\n",
       "        vertical-align: top;\n",
       "    }\n",
       "\n",
       "    .dataframe thead th {\n",
       "        text-align: right;\n",
       "    }\n",
       "</style>\n",
       "<table border=\"1\" class=\"dataframe\">\n",
       "  <thead>\n",
       "    <tr style=\"text-align: right;\">\n",
       "      <th></th>\n",
       "      <th>user_id</th>\n",
       "      <th>event</th>\n",
       "    </tr>\n",
       "  </thead>\n",
       "  <tbody>\n",
       "    <tr>\n",
       "      <th>6659</th>\n",
       "      <td>ced7b368-818f-48f6-9461-2346de0892c5</td>\n",
       "      <td>finished_stage_1</td>\n",
       "    </tr>\n",
       "    <tr>\n",
       "      <th>13134</th>\n",
       "      <td>7ef7fc89-2779-46ea-b328-9e5035b83af5</td>\n",
       "      <td>finished_stage_1</td>\n",
       "    </tr>\n",
       "    <tr>\n",
       "      <th>15274</th>\n",
       "      <td>70db22b3-c2f4-43bc-94ea-51c8d2904a29</td>\n",
       "      <td>finished_stage_1</td>\n",
       "    </tr>\n",
       "    <tr>\n",
       "      <th>16284</th>\n",
       "      <td>903fc9ef-ba97-4b12-9d5c-ac8d602fbd8b</td>\n",
       "      <td>finished_stage_1</td>\n",
       "    </tr>\n",
       "    <tr>\n",
       "      <th>19650</th>\n",
       "      <td>58e077ba-feb1-4556-a5a0-d96bd04efa39</td>\n",
       "      <td>finished_stage_1</td>\n",
       "    </tr>\n",
       "    <tr>\n",
       "      <th>...</th>\n",
       "      <td>...</td>\n",
       "      <td>...</td>\n",
       "    </tr>\n",
       "    <tr>\n",
       "      <th>135628</th>\n",
       "      <td>18fc6a86-00e7-4f3e-96da-bdb6d550415c</td>\n",
       "      <td>finished_stage_1</td>\n",
       "    </tr>\n",
       "    <tr>\n",
       "      <th>135632</th>\n",
       "      <td>22cce310-fe10-41a2-941b-9c3d63327fea</td>\n",
       "      <td>finished_stage_1</td>\n",
       "    </tr>\n",
       "    <tr>\n",
       "      <th>135636</th>\n",
       "      <td>515c1952-99aa-4bca-a7ea-d0449eb5385a</td>\n",
       "      <td>finished_stage_1</td>\n",
       "    </tr>\n",
       "    <tr>\n",
       "      <th>135638</th>\n",
       "      <td>32572adb-900f-4b5d-a453-1eb1e6d88d8b</td>\n",
       "      <td>finished_stage_1</td>\n",
       "    </tr>\n",
       "    <tr>\n",
       "      <th>135639</th>\n",
       "      <td>f21d179f-1c4b-437e-b9c6-ab1976907195</td>\n",
       "      <td>finished_stage_1</td>\n",
       "    </tr>\n",
       "  </tbody>\n",
       "</table>\n",
       "<p>3951 rows × 2 columns</p>\n",
       "</div>"
      ],
      "text/plain": [
       "                                     user_id             event\n",
       "6659    ced7b368-818f-48f6-9461-2346de0892c5  finished_stage_1\n",
       "13134   7ef7fc89-2779-46ea-b328-9e5035b83af5  finished_stage_1\n",
       "15274   70db22b3-c2f4-43bc-94ea-51c8d2904a29  finished_stage_1\n",
       "16284   903fc9ef-ba97-4b12-9d5c-ac8d602fbd8b  finished_stage_1\n",
       "19650   58e077ba-feb1-4556-a5a0-d96bd04efa39  finished_stage_1\n",
       "...                                      ...               ...\n",
       "135628  18fc6a86-00e7-4f3e-96da-bdb6d550415c  finished_stage_1\n",
       "135632  22cce310-fe10-41a2-941b-9c3d63327fea  finished_stage_1\n",
       "135636  515c1952-99aa-4bca-a7ea-d0449eb5385a  finished_stage_1\n",
       "135638  32572adb-900f-4b5d-a453-1eb1e6d88d8b  finished_stage_1\n",
       "135639  f21d179f-1c4b-437e-b9c6-ab1976907195  finished_stage_1\n",
       "\n",
       "[3951 rows x 2 columns]"
      ]
     },
     "execution_count": 43,
     "metadata": {},
     "output_type": "execute_result"
    }
   ],
   "source": [
    "# список пользователей победивших противника\n",
    "ga_pvp = ga_fin[~ga_fin.isin(ga_pve['user_id'].unique())].dropna()\n",
    "ga_pvp"
   ]
  },
  {
   "cell_type": "code",
   "execution_count": 44,
   "metadata": {},
   "outputs": [
    {
     "data": {
      "text/html": [
       "<div>\n",
       "<style scoped>\n",
       "    .dataframe tbody tr th:only-of-type {\n",
       "        vertical-align: middle;\n",
       "    }\n",
       "\n",
       "    .dataframe tbody tr th {\n",
       "        vertical-align: top;\n",
       "    }\n",
       "\n",
       "    .dataframe thead th {\n",
       "        text-align: right;\n",
       "    }\n",
       "</style>\n",
       "<table border=\"1\" class=\"dataframe\">\n",
       "  <thead>\n",
       "    <tr style=\"text-align: right;\">\n",
       "      <th></th>\n",
       "      <th>user_id</th>\n",
       "      <th>event</th>\n",
       "      <th>event_datetime</th>\n",
       "      <th>building_type</th>\n",
       "      <th>project_type</th>\n",
       "      <th>session_date</th>\n",
       "      <th>win_time</th>\n",
       "    </tr>\n",
       "  </thead>\n",
       "  <tbody>\n",
       "    <tr>\n",
       "      <th>0</th>\n",
       "      <td>e3c66498-9d45-4000-9392-f81e6796e7da</td>\n",
       "      <td>project</td>\n",
       "      <td>2020-05-08 18:10:25</td>\n",
       "      <td>NaN</td>\n",
       "      <td>satellite_orbital_assembly</td>\n",
       "      <td>2020-05-08</td>\n",
       "      <td>65425.00</td>\n",
       "    </tr>\n",
       "    <tr>\n",
       "      <th>1</th>\n",
       "      <td>936e7af6-8338-4703-a1df-fc6c3f5b8e34</td>\n",
       "      <td>project</td>\n",
       "      <td>2020-05-09 13:49:11</td>\n",
       "      <td>NaN</td>\n",
       "      <td>satellite_orbital_assembly</td>\n",
       "      <td>2020-05-09</td>\n",
       "      <td>49751.00</td>\n",
       "    </tr>\n",
       "    <tr>\n",
       "      <th>2</th>\n",
       "      <td>a4491c86-c498-4f74-a56e-65c136d0e9a1</td>\n",
       "      <td>project</td>\n",
       "      <td>2020-05-09 16:19:33</td>\n",
       "      <td>NaN</td>\n",
       "      <td>satellite_orbital_assembly</td>\n",
       "      <td>2020-05-09</td>\n",
       "      <td>58773.00</td>\n",
       "    </tr>\n",
       "    <tr>\n",
       "      <th>3</th>\n",
       "      <td>85d9e675-562b-4329-8bbd-14d3b39096be</td>\n",
       "      <td>project</td>\n",
       "      <td>2020-05-09 20:29:01</td>\n",
       "      <td>NaN</td>\n",
       "      <td>satellite_orbital_assembly</td>\n",
       "      <td>2020-05-09</td>\n",
       "      <td>73741.00</td>\n",
       "    </tr>\n",
       "    <tr>\n",
       "      <th>4</th>\n",
       "      <td>1889ca71-3c57-4e61-9ea6-a711971bbf0a</td>\n",
       "      <td>project</td>\n",
       "      <td>2020-05-10 00:57:47</td>\n",
       "      <td>NaN</td>\n",
       "      <td>satellite_orbital_assembly</td>\n",
       "      <td>2020-05-10</td>\n",
       "      <td>3467.00</td>\n",
       "    </tr>\n",
       "    <tr>\n",
       "      <th>...</th>\n",
       "      <td>...</td>\n",
       "      <td>...</td>\n",
       "      <td>...</td>\n",
       "      <td>...</td>\n",
       "      <td>...</td>\n",
       "      <td>...</td>\n",
       "      <td>...</td>\n",
       "    </tr>\n",
       "    <tr>\n",
       "      <th>1861</th>\n",
       "      <td>9d98001c-7e14-40d7-896e-46b3047365fd</td>\n",
       "      <td>project</td>\n",
       "      <td>2020-06-02 03:04:42</td>\n",
       "      <td>NaN</td>\n",
       "      <td>satellite_orbital_assembly</td>\n",
       "      <td>2020-06-02</td>\n",
       "      <td>11082.00</td>\n",
       "    </tr>\n",
       "    <tr>\n",
       "      <th>1862</th>\n",
       "      <td>df4a1e13-eba9-4928-a7cf-ee303d6f80f9</td>\n",
       "      <td>project</td>\n",
       "      <td>2020-06-02 06:21:03</td>\n",
       "      <td>NaN</td>\n",
       "      <td>satellite_orbital_assembly</td>\n",
       "      <td>2020-06-02</td>\n",
       "      <td>22863.00</td>\n",
       "    </tr>\n",
       "    <tr>\n",
       "      <th>1863</th>\n",
       "      <td>82e46f34-e243-4728-8e20-2e171fc33ea4</td>\n",
       "      <td>project</td>\n",
       "      <td>2020-06-02 17:17:28</td>\n",
       "      <td>NaN</td>\n",
       "      <td>satellite_orbital_assembly</td>\n",
       "      <td>2020-06-02</td>\n",
       "      <td>62248.00</td>\n",
       "    </tr>\n",
       "    <tr>\n",
       "      <th>1864</th>\n",
       "      <td>fe032991-71e0-48c5-889f-4c3805ba4c9b</td>\n",
       "      <td>project</td>\n",
       "      <td>2020-06-03 09:46:04</td>\n",
       "      <td>NaN</td>\n",
       "      <td>satellite_orbital_assembly</td>\n",
       "      <td>2020-06-03</td>\n",
       "      <td>35164.00</td>\n",
       "    </tr>\n",
       "    <tr>\n",
       "      <th>1865</th>\n",
       "      <td>d477dde8-7c22-4f23-9c4f-4ec31a1aa4c8</td>\n",
       "      <td>project</td>\n",
       "      <td>2020-06-04 08:29:42</td>\n",
       "      <td>NaN</td>\n",
       "      <td>satellite_orbital_assembly</td>\n",
       "      <td>2020-06-04</td>\n",
       "      <td>30582.00</td>\n",
       "    </tr>\n",
       "  </tbody>\n",
       "</table>\n",
       "<p>1866 rows × 7 columns</p>\n",
       "</div>"
      ],
      "text/plain": [
       "                                   user_id    event      event_datetime  \\\n",
       "0     e3c66498-9d45-4000-9392-f81e6796e7da  project 2020-05-08 18:10:25   \n",
       "1     936e7af6-8338-4703-a1df-fc6c3f5b8e34  project 2020-05-09 13:49:11   \n",
       "2     a4491c86-c498-4f74-a56e-65c136d0e9a1  project 2020-05-09 16:19:33   \n",
       "3     85d9e675-562b-4329-8bbd-14d3b39096be  project 2020-05-09 20:29:01   \n",
       "4     1889ca71-3c57-4e61-9ea6-a711971bbf0a  project 2020-05-10 00:57:47   \n",
       "...                                    ...      ...                 ...   \n",
       "1861  9d98001c-7e14-40d7-896e-46b3047365fd  project 2020-06-02 03:04:42   \n",
       "1862  df4a1e13-eba9-4928-a7cf-ee303d6f80f9  project 2020-06-02 06:21:03   \n",
       "1863  82e46f34-e243-4728-8e20-2e171fc33ea4  project 2020-06-02 17:17:28   \n",
       "1864  fe032991-71e0-48c5-889f-4c3805ba4c9b  project 2020-06-03 09:46:04   \n",
       "1865  d477dde8-7c22-4f23-9c4f-4ec31a1aa4c8  project 2020-06-04 08:29:42   \n",
       "\n",
       "     building_type                project_type session_date  win_time  \n",
       "0              NaN  satellite_orbital_assembly   2020-05-08  65425.00  \n",
       "1              NaN  satellite_orbital_assembly   2020-05-09  49751.00  \n",
       "2              NaN  satellite_orbital_assembly   2020-05-09  58773.00  \n",
       "3              NaN  satellite_orbital_assembly   2020-05-09  73741.00  \n",
       "4              NaN  satellite_orbital_assembly   2020-05-10   3467.00  \n",
       "...            ...                         ...          ...       ...  \n",
       "1861           NaN  satellite_orbital_assembly   2020-06-02  11082.00  \n",
       "1862           NaN  satellite_orbital_assembly   2020-06-02  22863.00  \n",
       "1863           NaN  satellite_orbital_assembly   2020-06-02  62248.00  \n",
       "1864           NaN  satellite_orbital_assembly   2020-06-03  35164.00  \n",
       "1865           NaN  satellite_orbital_assembly   2020-06-04  30582.00  \n",
       "\n",
       "[1866 rows x 7 columns]"
      ]
     },
     "execution_count": 44,
     "metadata": {},
     "output_type": "execute_result"
    }
   ],
   "source": [
    "# сформируем таблицу с временем прохождения первого уровня для PVE\n",
    "pve_time = pd.merge(ga_pve, ga, how='left', on=['user_id', 'event'])\n",
    "pve_time['session_date'] = pve_time['session_date'].astype('datetime64[s]')\n",
    "pve_time['win_time'] = pve_time['event_datetime'] - pve_time['session_date']\n",
    "pve_time['win_time'] = pve_time['win_time'].dt.total_seconds()\n",
    "pve_time"
   ]
  },
  {
   "cell_type": "code",
   "execution_count": 45,
   "metadata": {},
   "outputs": [
    {
     "data": {
      "text/html": [
       "<div>\n",
       "<style scoped>\n",
       "    .dataframe tbody tr th:only-of-type {\n",
       "        vertical-align: middle;\n",
       "    }\n",
       "\n",
       "    .dataframe tbody tr th {\n",
       "        vertical-align: top;\n",
       "    }\n",
       "\n",
       "    .dataframe thead th {\n",
       "        text-align: right;\n",
       "    }\n",
       "</style>\n",
       "<table border=\"1\" class=\"dataframe\">\n",
       "  <thead>\n",
       "    <tr style=\"text-align: right;\">\n",
       "      <th></th>\n",
       "      <th>user_id</th>\n",
       "      <th>event</th>\n",
       "      <th>event_datetime</th>\n",
       "      <th>building_type</th>\n",
       "      <th>project_type</th>\n",
       "      <th>session_date</th>\n",
       "      <th>win_time</th>\n",
       "    </tr>\n",
       "  </thead>\n",
       "  <tbody>\n",
       "    <tr>\n",
       "      <th>0</th>\n",
       "      <td>ced7b368-818f-48f6-9461-2346de0892c5</td>\n",
       "      <td>finished_stage_1</td>\n",
       "      <td>2020-05-04 19:47:29</td>\n",
       "      <td>NaN</td>\n",
       "      <td>NaN</td>\n",
       "      <td>2020-05-04</td>\n",
       "      <td>71249.00</td>\n",
       "    </tr>\n",
       "    <tr>\n",
       "      <th>1</th>\n",
       "      <td>7ef7fc89-2779-46ea-b328-9e5035b83af5</td>\n",
       "      <td>finished_stage_1</td>\n",
       "      <td>2020-05-05 13:22:09</td>\n",
       "      <td>NaN</td>\n",
       "      <td>NaN</td>\n",
       "      <td>2020-05-05</td>\n",
       "      <td>48129.00</td>\n",
       "    </tr>\n",
       "    <tr>\n",
       "      <th>2</th>\n",
       "      <td>70db22b3-c2f4-43bc-94ea-51c8d2904a29</td>\n",
       "      <td>finished_stage_1</td>\n",
       "      <td>2020-05-05 18:54:37</td>\n",
       "      <td>NaN</td>\n",
       "      <td>NaN</td>\n",
       "      <td>2020-05-05</td>\n",
       "      <td>68077.00</td>\n",
       "    </tr>\n",
       "    <tr>\n",
       "      <th>3</th>\n",
       "      <td>903fc9ef-ba97-4b12-9d5c-ac8d602fbd8b</td>\n",
       "      <td>finished_stage_1</td>\n",
       "      <td>2020-05-05 21:27:29</td>\n",
       "      <td>NaN</td>\n",
       "      <td>NaN</td>\n",
       "      <td>2020-05-05</td>\n",
       "      <td>77249.00</td>\n",
       "    </tr>\n",
       "    <tr>\n",
       "      <th>4</th>\n",
       "      <td>58e077ba-feb1-4556-a5a0-d96bd04efa39</td>\n",
       "      <td>finished_stage_1</td>\n",
       "      <td>2020-05-06 06:02:22</td>\n",
       "      <td>NaN</td>\n",
       "      <td>NaN</td>\n",
       "      <td>2020-05-06</td>\n",
       "      <td>21742.00</td>\n",
       "    </tr>\n",
       "    <tr>\n",
       "      <th>...</th>\n",
       "      <td>...</td>\n",
       "      <td>...</td>\n",
       "      <td>...</td>\n",
       "      <td>...</td>\n",
       "      <td>...</td>\n",
       "      <td>...</td>\n",
       "      <td>...</td>\n",
       "    </tr>\n",
       "    <tr>\n",
       "      <th>3946</th>\n",
       "      <td>18fc6a86-00e7-4f3e-96da-bdb6d550415c</td>\n",
       "      <td>finished_stage_1</td>\n",
       "      <td>2020-06-04 06:44:02</td>\n",
       "      <td>NaN</td>\n",
       "      <td>NaN</td>\n",
       "      <td>2020-06-04</td>\n",
       "      <td>24242.00</td>\n",
       "    </tr>\n",
       "    <tr>\n",
       "      <th>3947</th>\n",
       "      <td>22cce310-fe10-41a2-941b-9c3d63327fea</td>\n",
       "      <td>finished_stage_1</td>\n",
       "      <td>2020-06-04 15:50:38</td>\n",
       "      <td>NaN</td>\n",
       "      <td>NaN</td>\n",
       "      <td>2020-06-04</td>\n",
       "      <td>57038.00</td>\n",
       "    </tr>\n",
       "    <tr>\n",
       "      <th>3948</th>\n",
       "      <td>515c1952-99aa-4bca-a7ea-d0449eb5385a</td>\n",
       "      <td>finished_stage_1</td>\n",
       "      <td>2020-06-05 02:25:12</td>\n",
       "      <td>NaN</td>\n",
       "      <td>NaN</td>\n",
       "      <td>2020-06-05</td>\n",
       "      <td>8712.00</td>\n",
       "    </tr>\n",
       "    <tr>\n",
       "      <th>3949</th>\n",
       "      <td>32572adb-900f-4b5d-a453-1eb1e6d88d8b</td>\n",
       "      <td>finished_stage_1</td>\n",
       "      <td>2020-06-05 12:12:27</td>\n",
       "      <td>NaN</td>\n",
       "      <td>NaN</td>\n",
       "      <td>2020-06-05</td>\n",
       "      <td>43947.00</td>\n",
       "    </tr>\n",
       "    <tr>\n",
       "      <th>3950</th>\n",
       "      <td>f21d179f-1c4b-437e-b9c6-ab1976907195</td>\n",
       "      <td>finished_stage_1</td>\n",
       "      <td>2020-06-05 12:32:49</td>\n",
       "      <td>NaN</td>\n",
       "      <td>NaN</td>\n",
       "      <td>2020-06-05</td>\n",
       "      <td>45169.00</td>\n",
       "    </tr>\n",
       "  </tbody>\n",
       "</table>\n",
       "<p>3951 rows × 7 columns</p>\n",
       "</div>"
      ],
      "text/plain": [
       "                                   user_id             event  \\\n",
       "0     ced7b368-818f-48f6-9461-2346de0892c5  finished_stage_1   \n",
       "1     7ef7fc89-2779-46ea-b328-9e5035b83af5  finished_stage_1   \n",
       "2     70db22b3-c2f4-43bc-94ea-51c8d2904a29  finished_stage_1   \n",
       "3     903fc9ef-ba97-4b12-9d5c-ac8d602fbd8b  finished_stage_1   \n",
       "4     58e077ba-feb1-4556-a5a0-d96bd04efa39  finished_stage_1   \n",
       "...                                    ...               ...   \n",
       "3946  18fc6a86-00e7-4f3e-96da-bdb6d550415c  finished_stage_1   \n",
       "3947  22cce310-fe10-41a2-941b-9c3d63327fea  finished_stage_1   \n",
       "3948  515c1952-99aa-4bca-a7ea-d0449eb5385a  finished_stage_1   \n",
       "3949  32572adb-900f-4b5d-a453-1eb1e6d88d8b  finished_stage_1   \n",
       "3950  f21d179f-1c4b-437e-b9c6-ab1976907195  finished_stage_1   \n",
       "\n",
       "          event_datetime building_type project_type session_date  win_time  \n",
       "0    2020-05-04 19:47:29           NaN          NaN   2020-05-04  71249.00  \n",
       "1    2020-05-05 13:22:09           NaN          NaN   2020-05-05  48129.00  \n",
       "2    2020-05-05 18:54:37           NaN          NaN   2020-05-05  68077.00  \n",
       "3    2020-05-05 21:27:29           NaN          NaN   2020-05-05  77249.00  \n",
       "4    2020-05-06 06:02:22           NaN          NaN   2020-05-06  21742.00  \n",
       "...                  ...           ...          ...          ...       ...  \n",
       "3946 2020-06-04 06:44:02           NaN          NaN   2020-06-04  24242.00  \n",
       "3947 2020-06-04 15:50:38           NaN          NaN   2020-06-04  57038.00  \n",
       "3948 2020-06-05 02:25:12           NaN          NaN   2020-06-05   8712.00  \n",
       "3949 2020-06-05 12:12:27           NaN          NaN   2020-06-05  43947.00  \n",
       "3950 2020-06-05 12:32:49           NaN          NaN   2020-06-05  45169.00  \n",
       "\n",
       "[3951 rows x 7 columns]"
      ]
     },
     "execution_count": 45,
     "metadata": {},
     "output_type": "execute_result"
    }
   ],
   "source": [
    "# сформируем таблицу с временем прохождения первого уровня для PVP\n",
    "pvp_time = pd.merge(ga_pvp, ga, how='left', on=['user_id', 'event'])\n",
    "pvp_time['session_date'] = pvp_time['session_date'].astype('datetime64[s]')\n",
    "pvp_time['win_time'] = pvp_time['event_datetime'] - pvp_time['session_date']\n",
    "pvp_time['win_time'] = pvp_time['win_time'].dt.total_seconds()\n",
    "pvp_time"
   ]
  },
  {
   "cell_type": "code",
   "execution_count": 46,
   "metadata": {},
   "outputs": [],
   "source": [
    "pvp_winner = pvp_time['win_time']\n",
    "pve_winner = pve_time['win_time']"
   ]
  },
  {
   "cell_type": "code",
   "execution_count": 47,
   "metadata": {
    "scrolled": true
   },
   "outputs": [
    {
     "name": "stdout",
     "output_type": "stream",
     "text": [
      "p-значение: 0.7771998540147199\n",
      "Не получилось отвергнуть нулевую гипотезу\n"
     ]
    }
   ],
   "source": [
    "alpha = .05 # критический уровень статистической значимости\n",
    "            # если p-value окажется меньше него - отвергнем гипотезу\n",
    "\n",
    "results = st.ttest_ind(\n",
    "    pvp_winner,\n",
    "    pve_winner)\n",
    "\n",
    "print('p-значение:', results.pvalue)\n",
    "\n",
    "if (results.pvalue < alpha):\n",
    "    print(\"Отвергаем нулевую гипотезу\")\n",
    "else:\n",
    "    print(\"Не получилось отвергнуть нулевую гипотезу\")"
   ]
  },
  {
   "cell_type": "markdown",
   "metadata": {},
   "source": [
    "Есть статистически значимые различия между временем прохождения первого уровня игроками, которые победили врага и игроками, которые выполнили проект.\n",
    "<br>Состоятельно утверждение о том, что игроки побеждающие врагов проходят уровень быстрее."
   ]
  },
  {
   "cell_type": "markdown",
   "metadata": {},
   "source": [
    "### <a id=\"4.2\">Можно ли сказать, что с определенного источника приходят любители определенной стратегии</a>"
   ]
  },
  {
   "cell_type": "markdown",
   "metadata": {},
   "source": [
    "Н0: Нет связи между рекламным источником и стратегией игрока\n",
    "<br>Н1: Есть связь между рекламным источником и стратегией игрока"
   ]
  },
  {
   "cell_type": "markdown",
   "metadata": {},
   "source": [
    "Т.к. в данной гипотезе мы будем проверять не связанные друг с другом выборки, то применим метод Манна-Уитни. Так же из-за того что проверка будет множественной применним поправку Бонферрони."
   ]
  },
  {
   "cell_type": "code",
   "execution_count": 50,
   "metadata": {},
   "outputs": [
    {
     "data": {
      "text/html": [
       "<div>\n",
       "<style scoped>\n",
       "    .dataframe tbody tr th:only-of-type {\n",
       "        vertical-align: middle;\n",
       "    }\n",
       "\n",
       "    .dataframe tbody tr th {\n",
       "        vertical-align: top;\n",
       "    }\n",
       "\n",
       "    .dataframe thead th {\n",
       "        text-align: right;\n",
       "    }\n",
       "</style>\n",
       "<table border=\"1\" class=\"dataframe\">\n",
       "  <thead>\n",
       "    <tr style=\"text-align: right;\">\n",
       "      <th></th>\n",
       "      <th>user_id</th>\n",
       "      <th>event</th>\n",
       "      <th>source</th>\n",
       "    </tr>\n",
       "  </thead>\n",
       "  <tbody>\n",
       "    <tr>\n",
       "      <th>0</th>\n",
       "      <td>ced7b368-818f-48f6-9461-2346de0892c5</td>\n",
       "      <td>finished_stage_1</td>\n",
       "      <td>instagram_new_adverts</td>\n",
       "    </tr>\n",
       "    <tr>\n",
       "      <th>1</th>\n",
       "      <td>7ef7fc89-2779-46ea-b328-9e5035b83af5</td>\n",
       "      <td>finished_stage_1</td>\n",
       "      <td>facebook_ads</td>\n",
       "    </tr>\n",
       "    <tr>\n",
       "      <th>2</th>\n",
       "      <td>70db22b3-c2f4-43bc-94ea-51c8d2904a29</td>\n",
       "      <td>finished_stage_1</td>\n",
       "      <td>youtube_channel_reklama</td>\n",
       "    </tr>\n",
       "    <tr>\n",
       "      <th>3</th>\n",
       "      <td>903fc9ef-ba97-4b12-9d5c-ac8d602fbd8b</td>\n",
       "      <td>finished_stage_1</td>\n",
       "      <td>youtube_channel_reklama</td>\n",
       "    </tr>\n",
       "    <tr>\n",
       "      <th>4</th>\n",
       "      <td>58e077ba-feb1-4556-a5a0-d96bd04efa39</td>\n",
       "      <td>finished_stage_1</td>\n",
       "      <td>facebook_ads</td>\n",
       "    </tr>\n",
       "    <tr>\n",
       "      <th>...</th>\n",
       "      <td>...</td>\n",
       "      <td>...</td>\n",
       "      <td>...</td>\n",
       "    </tr>\n",
       "    <tr>\n",
       "      <th>7678</th>\n",
       "      <td>22cce310-fe10-41a2-941b-9c3d63327fea</td>\n",
       "      <td>finished_stage_1</td>\n",
       "      <td>yandex_direct</td>\n",
       "    </tr>\n",
       "    <tr>\n",
       "      <th>7679</th>\n",
       "      <td>d477dde8-7c22-4f23-9c4f-4ec31a1aa4c8</td>\n",
       "      <td>finished_stage_1</td>\n",
       "      <td>facebook_ads</td>\n",
       "    </tr>\n",
       "    <tr>\n",
       "      <th>7680</th>\n",
       "      <td>515c1952-99aa-4bca-a7ea-d0449eb5385a</td>\n",
       "      <td>finished_stage_1</td>\n",
       "      <td>yandex_direct</td>\n",
       "    </tr>\n",
       "    <tr>\n",
       "      <th>7681</th>\n",
       "      <td>32572adb-900f-4b5d-a453-1eb1e6d88d8b</td>\n",
       "      <td>finished_stage_1</td>\n",
       "      <td>facebook_ads</td>\n",
       "    </tr>\n",
       "    <tr>\n",
       "      <th>7682</th>\n",
       "      <td>f21d179f-1c4b-437e-b9c6-ab1976907195</td>\n",
       "      <td>finished_stage_1</td>\n",
       "      <td>instagram_new_adverts</td>\n",
       "    </tr>\n",
       "  </tbody>\n",
       "</table>\n",
       "<p>7683 rows × 3 columns</p>\n",
       "</div>"
      ],
      "text/plain": [
       "                                   user_id             event  \\\n",
       "0     ced7b368-818f-48f6-9461-2346de0892c5  finished_stage_1   \n",
       "1     7ef7fc89-2779-46ea-b328-9e5035b83af5  finished_stage_1   \n",
       "2     70db22b3-c2f4-43bc-94ea-51c8d2904a29  finished_stage_1   \n",
       "3     903fc9ef-ba97-4b12-9d5c-ac8d602fbd8b  finished_stage_1   \n",
       "4     58e077ba-feb1-4556-a5a0-d96bd04efa39  finished_stage_1   \n",
       "...                                    ...               ...   \n",
       "7678  22cce310-fe10-41a2-941b-9c3d63327fea  finished_stage_1   \n",
       "7679  d477dde8-7c22-4f23-9c4f-4ec31a1aa4c8  finished_stage_1   \n",
       "7680  515c1952-99aa-4bca-a7ea-d0449eb5385a  finished_stage_1   \n",
       "7681  32572adb-900f-4b5d-a453-1eb1e6d88d8b  finished_stage_1   \n",
       "7682  f21d179f-1c4b-437e-b9c6-ab1976907195  finished_stage_1   \n",
       "\n",
       "                       source  \n",
       "0       instagram_new_adverts  \n",
       "1                facebook_ads  \n",
       "2     youtube_channel_reklama  \n",
       "3     youtube_channel_reklama  \n",
       "4                facebook_ads  \n",
       "...                       ...  \n",
       "7678            yandex_direct  \n",
       "7679             facebook_ads  \n",
       "7680            yandex_direct  \n",
       "7681             facebook_ads  \n",
       "7682    instagram_new_adverts  \n",
       "\n",
       "[7683 rows x 3 columns]"
      ]
     },
     "execution_count": 50,
     "metadata": {},
     "output_type": "execute_result"
    }
   ],
   "source": [
    "users_finished = ga_source[(ga_source['event'] != 'building')][['user_id', 'event', 'source']]\n",
    "users_finished"
   ]
  },
  {
   "cell_type": "code",
   "execution_count": 51,
   "metadata": {},
   "outputs": [
    {
     "data": {
      "text/html": [
       "<div>\n",
       "<style scoped>\n",
       "    .dataframe tbody tr th:only-of-type {\n",
       "        vertical-align: middle;\n",
       "    }\n",
       "\n",
       "    .dataframe tbody tr th {\n",
       "        vertical-align: top;\n",
       "    }\n",
       "\n",
       "    .dataframe thead th {\n",
       "        text-align: right;\n",
       "    }\n",
       "</style>\n",
       "<table border=\"1\" class=\"dataframe\">\n",
       "  <thead>\n",
       "    <tr style=\"text-align: right;\">\n",
       "      <th></th>\n",
       "      <th>user_id</th>\n",
       "      <th>event</th>\n",
       "      <th>source</th>\n",
       "    </tr>\n",
       "  </thead>\n",
       "  <tbody>\n",
       "    <tr>\n",
       "      <th>41</th>\n",
       "      <td>e3c66498-9d45-4000-9392-f81e6796e7da</td>\n",
       "      <td>project</td>\n",
       "      <td>youtube_channel_reklama</td>\n",
       "    </tr>\n",
       "    <tr>\n",
       "      <th>83</th>\n",
       "      <td>936e7af6-8338-4703-a1df-fc6c3f5b8e34</td>\n",
       "      <td>project</td>\n",
       "      <td>facebook_ads</td>\n",
       "    </tr>\n",
       "    <tr>\n",
       "      <th>87</th>\n",
       "      <td>a4491c86-c498-4f74-a56e-65c136d0e9a1</td>\n",
       "      <td>project</td>\n",
       "      <td>yandex_direct</td>\n",
       "    </tr>\n",
       "    <tr>\n",
       "      <th>99</th>\n",
       "      <td>85d9e675-562b-4329-8bbd-14d3b39096be</td>\n",
       "      <td>project</td>\n",
       "      <td>youtube_channel_reklama</td>\n",
       "    </tr>\n",
       "    <tr>\n",
       "      <th>118</th>\n",
       "      <td>1889ca71-3c57-4e61-9ea6-a711971bbf0a</td>\n",
       "      <td>project</td>\n",
       "      <td>instagram_new_adverts</td>\n",
       "    </tr>\n",
       "    <tr>\n",
       "      <th>...</th>\n",
       "      <td>...</td>\n",
       "      <td>...</td>\n",
       "      <td>...</td>\n",
       "    </tr>\n",
       "    <tr>\n",
       "      <th>7663</th>\n",
       "      <td>9d98001c-7e14-40d7-896e-46b3047365fd</td>\n",
       "      <td>project</td>\n",
       "      <td>yandex_direct</td>\n",
       "    </tr>\n",
       "    <tr>\n",
       "      <th>7664</th>\n",
       "      <td>df4a1e13-eba9-4928-a7cf-ee303d6f80f9</td>\n",
       "      <td>project</td>\n",
       "      <td>youtube_channel_reklama</td>\n",
       "    </tr>\n",
       "    <tr>\n",
       "      <th>7667</th>\n",
       "      <td>82e46f34-e243-4728-8e20-2e171fc33ea4</td>\n",
       "      <td>project</td>\n",
       "      <td>youtube_channel_reklama</td>\n",
       "    </tr>\n",
       "    <tr>\n",
       "      <th>7670</th>\n",
       "      <td>fe032991-71e0-48c5-889f-4c3805ba4c9b</td>\n",
       "      <td>project</td>\n",
       "      <td>facebook_ads</td>\n",
       "    </tr>\n",
       "    <tr>\n",
       "      <th>7677</th>\n",
       "      <td>d477dde8-7c22-4f23-9c4f-4ec31a1aa4c8</td>\n",
       "      <td>project</td>\n",
       "      <td>facebook_ads</td>\n",
       "    </tr>\n",
       "  </tbody>\n",
       "</table>\n",
       "<p>1866 rows × 3 columns</p>\n",
       "</div>"
      ],
      "text/plain": [
       "                                   user_id    event                   source\n",
       "41    e3c66498-9d45-4000-9392-f81e6796e7da  project  youtube_channel_reklama\n",
       "83    936e7af6-8338-4703-a1df-fc6c3f5b8e34  project             facebook_ads\n",
       "87    a4491c86-c498-4f74-a56e-65c136d0e9a1  project            yandex_direct\n",
       "99    85d9e675-562b-4329-8bbd-14d3b39096be  project  youtube_channel_reklama\n",
       "118   1889ca71-3c57-4e61-9ea6-a711971bbf0a  project    instagram_new_adverts\n",
       "...                                    ...      ...                      ...\n",
       "7663  9d98001c-7e14-40d7-896e-46b3047365fd  project            yandex_direct\n",
       "7664  df4a1e13-eba9-4928-a7cf-ee303d6f80f9  project  youtube_channel_reklama\n",
       "7667  82e46f34-e243-4728-8e20-2e171fc33ea4  project  youtube_channel_reklama\n",
       "7670  fe032991-71e0-48c5-889f-4c3805ba4c9b  project             facebook_ads\n",
       "7677  d477dde8-7c22-4f23-9c4f-4ec31a1aa4c8  project             facebook_ads\n",
       "\n",
       "[1866 rows x 3 columns]"
      ]
     },
     "execution_count": 51,
     "metadata": {},
     "output_type": "execute_result"
    }
   ],
   "source": [
    "users_pve = ga_source[ga_source['event'] == 'project'][['user_id', 'event', 'source']]\n",
    "users_pve"
   ]
  },
  {
   "cell_type": "code",
   "execution_count": 52,
   "metadata": {},
   "outputs": [
    {
     "data": {
      "text/html": [
       "<div>\n",
       "<style scoped>\n",
       "    .dataframe tbody tr th:only-of-type {\n",
       "        vertical-align: middle;\n",
       "    }\n",
       "\n",
       "    .dataframe tbody tr th {\n",
       "        vertical-align: top;\n",
       "    }\n",
       "\n",
       "    .dataframe thead th {\n",
       "        text-align: right;\n",
       "    }\n",
       "</style>\n",
       "<table border=\"1\" class=\"dataframe\">\n",
       "  <thead>\n",
       "    <tr style=\"text-align: right;\">\n",
       "      <th></th>\n",
       "      <th>user_id</th>\n",
       "      <th>event</th>\n",
       "      <th>source</th>\n",
       "    </tr>\n",
       "  </thead>\n",
       "  <tbody>\n",
       "    <tr>\n",
       "      <th>0</th>\n",
       "      <td>ced7b368-818f-48f6-9461-2346de0892c5</td>\n",
       "      <td>finished_stage_1</td>\n",
       "      <td>instagram_new_adverts</td>\n",
       "    </tr>\n",
       "    <tr>\n",
       "      <th>1</th>\n",
       "      <td>7ef7fc89-2779-46ea-b328-9e5035b83af5</td>\n",
       "      <td>finished_stage_1</td>\n",
       "      <td>facebook_ads</td>\n",
       "    </tr>\n",
       "    <tr>\n",
       "      <th>2</th>\n",
       "      <td>70db22b3-c2f4-43bc-94ea-51c8d2904a29</td>\n",
       "      <td>finished_stage_1</td>\n",
       "      <td>youtube_channel_reklama</td>\n",
       "    </tr>\n",
       "    <tr>\n",
       "      <th>3</th>\n",
       "      <td>903fc9ef-ba97-4b12-9d5c-ac8d602fbd8b</td>\n",
       "      <td>finished_stage_1</td>\n",
       "      <td>youtube_channel_reklama</td>\n",
       "    </tr>\n",
       "    <tr>\n",
       "      <th>4</th>\n",
       "      <td>58e077ba-feb1-4556-a5a0-d96bd04efa39</td>\n",
       "      <td>finished_stage_1</td>\n",
       "      <td>facebook_ads</td>\n",
       "    </tr>\n",
       "    <tr>\n",
       "      <th>...</th>\n",
       "      <td>...</td>\n",
       "      <td>...</td>\n",
       "      <td>...</td>\n",
       "    </tr>\n",
       "    <tr>\n",
       "      <th>7675</th>\n",
       "      <td>18fc6a86-00e7-4f3e-96da-bdb6d550415c</td>\n",
       "      <td>finished_stage_1</td>\n",
       "      <td>yandex_direct</td>\n",
       "    </tr>\n",
       "    <tr>\n",
       "      <th>7678</th>\n",
       "      <td>22cce310-fe10-41a2-941b-9c3d63327fea</td>\n",
       "      <td>finished_stage_1</td>\n",
       "      <td>yandex_direct</td>\n",
       "    </tr>\n",
       "    <tr>\n",
       "      <th>7680</th>\n",
       "      <td>515c1952-99aa-4bca-a7ea-d0449eb5385a</td>\n",
       "      <td>finished_stage_1</td>\n",
       "      <td>yandex_direct</td>\n",
       "    </tr>\n",
       "    <tr>\n",
       "      <th>7681</th>\n",
       "      <td>32572adb-900f-4b5d-a453-1eb1e6d88d8b</td>\n",
       "      <td>finished_stage_1</td>\n",
       "      <td>facebook_ads</td>\n",
       "    </tr>\n",
       "    <tr>\n",
       "      <th>7682</th>\n",
       "      <td>f21d179f-1c4b-437e-b9c6-ab1976907195</td>\n",
       "      <td>finished_stage_1</td>\n",
       "      <td>instagram_new_adverts</td>\n",
       "    </tr>\n",
       "  </tbody>\n",
       "</table>\n",
       "<p>3951 rows × 3 columns</p>\n",
       "</div>"
      ],
      "text/plain": [
       "                                   user_id             event  \\\n",
       "0     ced7b368-818f-48f6-9461-2346de0892c5  finished_stage_1   \n",
       "1     7ef7fc89-2779-46ea-b328-9e5035b83af5  finished_stage_1   \n",
       "2     70db22b3-c2f4-43bc-94ea-51c8d2904a29  finished_stage_1   \n",
       "3     903fc9ef-ba97-4b12-9d5c-ac8d602fbd8b  finished_stage_1   \n",
       "4     58e077ba-feb1-4556-a5a0-d96bd04efa39  finished_stage_1   \n",
       "...                                    ...               ...   \n",
       "7675  18fc6a86-00e7-4f3e-96da-bdb6d550415c  finished_stage_1   \n",
       "7678  22cce310-fe10-41a2-941b-9c3d63327fea  finished_stage_1   \n",
       "7680  515c1952-99aa-4bca-a7ea-d0449eb5385a  finished_stage_1   \n",
       "7681  32572adb-900f-4b5d-a453-1eb1e6d88d8b  finished_stage_1   \n",
       "7682  f21d179f-1c4b-437e-b9c6-ab1976907195  finished_stage_1   \n",
       "\n",
       "                       source  \n",
       "0       instagram_new_adverts  \n",
       "1                facebook_ads  \n",
       "2     youtube_channel_reklama  \n",
       "3     youtube_channel_reklama  \n",
       "4                facebook_ads  \n",
       "...                       ...  \n",
       "7675            yandex_direct  \n",
       "7678            yandex_direct  \n",
       "7680            yandex_direct  \n",
       "7681             facebook_ads  \n",
       "7682    instagram_new_adverts  \n",
       "\n",
       "[3951 rows x 3 columns]"
      ]
     },
     "execution_count": 52,
     "metadata": {},
     "output_type": "execute_result"
    }
   ],
   "source": [
    "users_pvp = users_finished[~users_finished.isin(users_pve['user_id'].unique())].dropna()\n",
    "users_pvp"
   ]
  },
  {
   "cell_type": "code",
   "execution_count": 53,
   "metadata": {},
   "outputs": [],
   "source": [
    "users_pve['user_strategy'] = 0\n",
    "users_pvp['user_strategy'] = 1"
   ]
  },
  {
   "cell_type": "code",
   "execution_count": 54,
   "metadata": {},
   "outputs": [
    {
     "data": {
      "text/html": [
       "<div>\n",
       "<style scoped>\n",
       "    .dataframe tbody tr th:only-of-type {\n",
       "        vertical-align: middle;\n",
       "    }\n",
       "\n",
       "    .dataframe tbody tr th {\n",
       "        vertical-align: top;\n",
       "    }\n",
       "\n",
       "    .dataframe thead th {\n",
       "        text-align: right;\n",
       "    }\n",
       "</style>\n",
       "<table border=\"1\" class=\"dataframe\">\n",
       "  <thead>\n",
       "    <tr style=\"text-align: right;\">\n",
       "      <th></th>\n",
       "      <th>user_id</th>\n",
       "      <th>event</th>\n",
       "      <th>source</th>\n",
       "      <th>user_strategy</th>\n",
       "    </tr>\n",
       "  </thead>\n",
       "  <tbody>\n",
       "    <tr>\n",
       "      <th>41</th>\n",
       "      <td>e3c66498-9d45-4000-9392-f81e6796e7da</td>\n",
       "      <td>project</td>\n",
       "      <td>youtube_channel_reklama</td>\n",
       "      <td>0</td>\n",
       "    </tr>\n",
       "    <tr>\n",
       "      <th>83</th>\n",
       "      <td>936e7af6-8338-4703-a1df-fc6c3f5b8e34</td>\n",
       "      <td>project</td>\n",
       "      <td>facebook_ads</td>\n",
       "      <td>0</td>\n",
       "    </tr>\n",
       "    <tr>\n",
       "      <th>87</th>\n",
       "      <td>a4491c86-c498-4f74-a56e-65c136d0e9a1</td>\n",
       "      <td>project</td>\n",
       "      <td>yandex_direct</td>\n",
       "      <td>0</td>\n",
       "    </tr>\n",
       "    <tr>\n",
       "      <th>99</th>\n",
       "      <td>85d9e675-562b-4329-8bbd-14d3b39096be</td>\n",
       "      <td>project</td>\n",
       "      <td>youtube_channel_reklama</td>\n",
       "      <td>0</td>\n",
       "    </tr>\n",
       "    <tr>\n",
       "      <th>118</th>\n",
       "      <td>1889ca71-3c57-4e61-9ea6-a711971bbf0a</td>\n",
       "      <td>project</td>\n",
       "      <td>instagram_new_adverts</td>\n",
       "      <td>0</td>\n",
       "    </tr>\n",
       "    <tr>\n",
       "      <th>...</th>\n",
       "      <td>...</td>\n",
       "      <td>...</td>\n",
       "      <td>...</td>\n",
       "      <td>...</td>\n",
       "    </tr>\n",
       "    <tr>\n",
       "      <th>7675</th>\n",
       "      <td>18fc6a86-00e7-4f3e-96da-bdb6d550415c</td>\n",
       "      <td>finished_stage_1</td>\n",
       "      <td>yandex_direct</td>\n",
       "      <td>1</td>\n",
       "    </tr>\n",
       "    <tr>\n",
       "      <th>7678</th>\n",
       "      <td>22cce310-fe10-41a2-941b-9c3d63327fea</td>\n",
       "      <td>finished_stage_1</td>\n",
       "      <td>yandex_direct</td>\n",
       "      <td>1</td>\n",
       "    </tr>\n",
       "    <tr>\n",
       "      <th>7680</th>\n",
       "      <td>515c1952-99aa-4bca-a7ea-d0449eb5385a</td>\n",
       "      <td>finished_stage_1</td>\n",
       "      <td>yandex_direct</td>\n",
       "      <td>1</td>\n",
       "    </tr>\n",
       "    <tr>\n",
       "      <th>7681</th>\n",
       "      <td>32572adb-900f-4b5d-a453-1eb1e6d88d8b</td>\n",
       "      <td>finished_stage_1</td>\n",
       "      <td>facebook_ads</td>\n",
       "      <td>1</td>\n",
       "    </tr>\n",
       "    <tr>\n",
       "      <th>7682</th>\n",
       "      <td>f21d179f-1c4b-437e-b9c6-ab1976907195</td>\n",
       "      <td>finished_stage_1</td>\n",
       "      <td>instagram_new_adverts</td>\n",
       "      <td>1</td>\n",
       "    </tr>\n",
       "  </tbody>\n",
       "</table>\n",
       "<p>5817 rows × 4 columns</p>\n",
       "</div>"
      ],
      "text/plain": [
       "                                   user_id             event  \\\n",
       "41    e3c66498-9d45-4000-9392-f81e6796e7da           project   \n",
       "83    936e7af6-8338-4703-a1df-fc6c3f5b8e34           project   \n",
       "87    a4491c86-c498-4f74-a56e-65c136d0e9a1           project   \n",
       "99    85d9e675-562b-4329-8bbd-14d3b39096be           project   \n",
       "118   1889ca71-3c57-4e61-9ea6-a711971bbf0a           project   \n",
       "...                                    ...               ...   \n",
       "7675  18fc6a86-00e7-4f3e-96da-bdb6d550415c  finished_stage_1   \n",
       "7678  22cce310-fe10-41a2-941b-9c3d63327fea  finished_stage_1   \n",
       "7680  515c1952-99aa-4bca-a7ea-d0449eb5385a  finished_stage_1   \n",
       "7681  32572adb-900f-4b5d-a453-1eb1e6d88d8b  finished_stage_1   \n",
       "7682  f21d179f-1c4b-437e-b9c6-ab1976907195  finished_stage_1   \n",
       "\n",
       "                       source  user_strategy  \n",
       "41    youtube_channel_reklama              0  \n",
       "83               facebook_ads              0  \n",
       "87              yandex_direct              0  \n",
       "99    youtube_channel_reklama              0  \n",
       "118     instagram_new_adverts              0  \n",
       "...                       ...            ...  \n",
       "7675            yandex_direct              1  \n",
       "7678            yandex_direct              1  \n",
       "7680            yandex_direct              1  \n",
       "7681             facebook_ads              1  \n",
       "7682    instagram_new_adverts              1  \n",
       "\n",
       "[5817 rows x 4 columns]"
      ]
     },
     "execution_count": 54,
     "metadata": {},
     "output_type": "execute_result"
    }
   ],
   "source": [
    "hypothes = pd.concat([users_pve, users_pvp])\n",
    "hypothes"
   ]
  },
  {
   "cell_type": "code",
   "execution_count": 55,
   "metadata": {},
   "outputs": [],
   "source": [
    "# сделаем выборки для каналов\n",
    "instagram_new_adverts = hypothes[hypothes['source'] == 'instagram_new_adverts']['user_strategy']\n",
    "facebook_ads = hypothes[hypothes['source'] == 'facebook_ads']['user_strategy']\n",
    "youtube_channel_reklama = hypothes[hypothes['source'] == 'youtube_channel_reklama']['user_strategy']\n",
    "yandex_direct = hypothes[hypothes['source'] == 'yandex_direct']['user_strategy']"
   ]
  },
  {
   "cell_type": "code",
   "execution_count": 56,
   "metadata": {},
   "outputs": [],
   "source": [
    "def check_hypothes(H0, H1, name):\n",
    "    print(name)\n",
    "\n",
    "    alpha = .05 / 12\n",
    "\n",
    "    results = st.mannwhitneyu(H0, H1)\n",
    "\n",
    "    print('p-значение:', results.pvalue)\n",
    "\n",
    "    if (results.pvalue < alpha):\n",
    "        print(\"Отвергаем нулевую гипотезу\")\n",
    "    else:\n",
    "        print(\"Не получилось отвергнуть нулевую гипотезу\")\n",
    "        \n",
    "    print('-' * 50)"
   ]
  },
  {
   "cell_type": "code",
   "execution_count": 57,
   "metadata": {},
   "outputs": [
    {
     "name": "stdout",
     "output_type": "stream",
     "text": [
      "Instagram & Facebook\n",
      "p-значение: 0.40919319567631285\n",
      "Не получилось отвергнуть нулевую гипотезу\n",
      "--------------------------------------------------\n",
      "Instagram & YouTube\n",
      "p-значение: 0.9001181567908461\n",
      "Не получилось отвергнуть нулевую гипотезу\n",
      "--------------------------------------------------\n",
      "Instagram & Yandex\n",
      "p-значение: 0.18426828022587327\n",
      "Не получилось отвергнуть нулевую гипотезу\n",
      "--------------------------------------------------\n",
      "Facebook & Instagram\n",
      "p-значение: 0.40919319567631285\n",
      "Не получилось отвергнуть нулевую гипотезу\n",
      "--------------------------------------------------\n",
      "Facebook & Youtube\n",
      "p-значение: 0.5079689382321106\n",
      "Не получилось отвергнуть нулевую гипотезу\n",
      "--------------------------------------------------\n",
      "Facebook & Yandex\n",
      "p-значение: 0.033959962425478496\n",
      "Не получилось отвергнуть нулевую гипотезу\n",
      "--------------------------------------------------\n",
      "YouTube & Instagram\n",
      "p-значение: 0.9001181567908461\n",
      "Не получилось отвергнуть нулевую гипотезу\n",
      "--------------------------------------------------\n",
      "YouTube & Facebook\n",
      "p-значение: 0.5079689382321106\n",
      "Не получилось отвергнуть нулевую гипотезу\n",
      "--------------------------------------------------\n",
      "YouTube & Yandex\n",
      "p-значение: 0.17008753269777588\n",
      "Не получилось отвергнуть нулевую гипотезу\n",
      "--------------------------------------------------\n",
      "Yandex & Instagram\n",
      "p-значение: 0.18426828022587327\n",
      "Не получилось отвергнуть нулевую гипотезу\n",
      "--------------------------------------------------\n",
      "Yandex & Facebook\n",
      "p-значение: 0.033959962425478496\n",
      "Не получилось отвергнуть нулевую гипотезу\n",
      "--------------------------------------------------\n",
      "Yandex & YouTube\n",
      "p-значение: 0.17008753269777588\n",
      "Не получилось отвергнуть нулевую гипотезу\n",
      "--------------------------------------------------\n"
     ]
    }
   ],
   "source": [
    "check_hypothes(instagram_new_adverts, facebook_ads, 'Instagram & Facebook')\n",
    "check_hypothes(instagram_new_adverts, youtube_channel_reklama, 'Instagram & YouTube')\n",
    "check_hypothes(instagram_new_adverts, yandex_direct, 'Instagram & Yandex')\n",
    "check_hypothes(facebook_ads, instagram_new_adverts, 'Facebook & Instagram')\n",
    "check_hypothes(facebook_ads, youtube_channel_reklama, 'Facebook & Youtube')\n",
    "check_hypothes(facebook_ads, yandex_direct, 'Facebook & Yandex')\n",
    "check_hypothes(youtube_channel_reklama, instagram_new_adverts, 'YouTube & Instagram')\n",
    "check_hypothes(youtube_channel_reklama, facebook_ads, 'YouTube & Facebook')\n",
    "check_hypothes(youtube_channel_reklama, yandex_direct, 'YouTube & Yandex')\n",
    "check_hypothes(yandex_direct, instagram_new_adverts, 'Yandex & Instagram')\n",
    "check_hypothes(yandex_direct, facebook_ads, 'Yandex & Facebook')\n",
    "check_hypothes(yandex_direct, youtube_channel_reklama, 'Yandex & YouTube')"
   ]
  },
  {
   "cell_type": "markdown",
   "metadata": {},
   "source": [
    "Связи между рекламными каналами, с которых приходят игроки, и их предпочтениями в стратегии игры нет."
   ]
  },
  {
   "cell_type": "markdown",
   "metadata": {},
   "source": [
    "## <a id=\"monetization_model\">Модель монетизации</a>"
   ]
  },
  {
   "cell_type": "markdown",
   "metadata": {},
   "source": [
    "**На этом этапе опишем предложенную модель монетизации.**"
   ]
  },
  {
   "cell_type": "markdown",
   "metadata": {},
   "source": [
    "Рассмотрим модель монетизации с показом рекламы при выборе объектов строительства.\n",
    "\n",
    "Исходя из раннее проведенного исследования мы знаем:\n",
    " - затраты на привлечение игроков 7603.57 ден.ед.;\n",
    " - кол-во привлеченных игроков 13576 человек;\n",
    " - стоимости показа одного рекламного баннера 0,07 ден.ед.;\n",
    " - в среднем, игрок строит от 9 зданий.\n",
    "\n",
    "Расчетная нулевая отметка окупаемости проекта находится на значении (7603,57 / 13576 / 0,07) = 8 показов на человека.\n",
    "\n",
    "Поэтому, можно предположить, что стратегия пропуска показа рекламы при первом строительстве будет выводить проект на окупаемость. При двух и более - будет убыточной.\n",
    "\n",
    "Проверим расчеты на текущих данных:"
   ]
  },
  {
   "cell_type": "code",
   "execution_count": 58,
   "metadata": {
    "scrolled": false
   },
   "outputs": [
    {
     "data": {
      "text/html": [
       "<div>\n",
       "<style scoped>\n",
       "    .dataframe tbody tr th:only-of-type {\n",
       "        vertical-align: middle;\n",
       "    }\n",
       "\n",
       "    .dataframe tbody tr th {\n",
       "        vertical-align: top;\n",
       "    }\n",
       "\n",
       "    .dataframe thead th {\n",
       "        text-align: right;\n",
       "    }\n",
       "</style>\n",
       "<table border=\"1\" class=\"dataframe\">\n",
       "  <thead>\n",
       "    <tr style=\"text-align: right;\">\n",
       "      <th></th>\n",
       "      <th>user_id</th>\n",
       "      <th>showing_count</th>\n",
       "    </tr>\n",
       "  </thead>\n",
       "  <tbody>\n",
       "    <tr>\n",
       "      <th>8799</th>\n",
       "      <td>a5add3ce-1ac4-4b97-aba0-f040efc4c1b0</td>\n",
       "      <td>20</td>\n",
       "    </tr>\n",
       "    <tr>\n",
       "      <th>8644</th>\n",
       "      <td>a2f85d5e-5a53-43ee-9d41-9e1def085562</td>\n",
       "      <td>20</td>\n",
       "    </tr>\n",
       "    <tr>\n",
       "      <th>10120</th>\n",
       "      <td>bf542075-e3a2-4e79-82d8-3838e86d2a25</td>\n",
       "      <td>20</td>\n",
       "    </tr>\n",
       "    <tr>\n",
       "      <th>1592</th>\n",
       "      <td>1cb5b622-be18-488e-b699-6136a57eb470</td>\n",
       "      <td>20</td>\n",
       "    </tr>\n",
       "    <tr>\n",
       "      <th>11329</th>\n",
       "      <td>d6aca06a-cd75-4cd8-b8cd-240a3c163884</td>\n",
       "      <td>20</td>\n",
       "    </tr>\n",
       "    <tr>\n",
       "      <th>...</th>\n",
       "      <td>...</td>\n",
       "      <td>...</td>\n",
       "    </tr>\n",
       "    <tr>\n",
       "      <th>6601</th>\n",
       "      <td>7ac32352-627b-421c-9319-b77a37947625</td>\n",
       "      <td>1</td>\n",
       "    </tr>\n",
       "    <tr>\n",
       "      <th>4494</th>\n",
       "      <td>531a93d9-f57d-4b60-8eec-ee709ff7c67c</td>\n",
       "      <td>1</td>\n",
       "    </tr>\n",
       "    <tr>\n",
       "      <th>11954</th>\n",
       "      <td>e17fd642-a43d-41d4-86a8-c81c6107f9cc</td>\n",
       "      <td>1</td>\n",
       "    </tr>\n",
       "    <tr>\n",
       "      <th>7406</th>\n",
       "      <td>8a6262b0-0521-4691-bfd2-8d74cf7a5e93</td>\n",
       "      <td>1</td>\n",
       "    </tr>\n",
       "    <tr>\n",
       "      <th>6009</th>\n",
       "      <td>70362b15-8a0b-4fb7-8a67-4454fd7098d7</td>\n",
       "      <td>1</td>\n",
       "    </tr>\n",
       "  </tbody>\n",
       "</table>\n",
       "<p>13576 rows × 2 columns</p>\n",
       "</div>"
      ],
      "text/plain": [
       "                                    user_id  showing_count\n",
       "8799   a5add3ce-1ac4-4b97-aba0-f040efc4c1b0             20\n",
       "8644   a2f85d5e-5a53-43ee-9d41-9e1def085562             20\n",
       "10120  bf542075-e3a2-4e79-82d8-3838e86d2a25             20\n",
       "1592   1cb5b622-be18-488e-b699-6136a57eb470             20\n",
       "11329  d6aca06a-cd75-4cd8-b8cd-240a3c163884             20\n",
       "...                                     ...            ...\n",
       "6601   7ac32352-627b-421c-9319-b77a37947625              1\n",
       "4494   531a93d9-f57d-4b60-8eec-ee709ff7c67c              1\n",
       "11954  e17fd642-a43d-41d4-86a8-c81c6107f9cc              1\n",
       "7406   8a6262b0-0521-4691-bfd2-8d74cf7a5e93              1\n",
       "6009   70362b15-8a0b-4fb7-8a67-4454fd7098d7              1\n",
       "\n",
       "[13576 rows x 2 columns]"
      ]
     },
     "execution_count": 58,
     "metadata": {},
     "output_type": "execute_result"
    }
   ],
   "source": [
    "df = ga[ga['event'] == 'building'].groupby(\n",
    "    'user_id').agg({'building_type': 'count'}).reset_index().sort_values('building_type', ascending=False)\n",
    "df.columns=['user_id', 'showing_count']\n",
    "df"
   ]
  },
  {
   "cell_type": "markdown",
   "metadata": {},
   "source": [
    "Удалим пользователей с одним показом рекламы"
   ]
  },
  {
   "cell_type": "code",
   "execution_count": 59,
   "metadata": {},
   "outputs": [],
   "source": [
    "df = df.drop(df[df['showing_count'] == 1].index)"
   ]
  },
  {
   "cell_type": "code",
   "execution_count": 60,
   "metadata": {},
   "outputs": [
    {
     "data": {
      "text/plain": [
       "8006.6"
      ]
     },
     "execution_count": 60,
     "metadata": {},
     "output_type": "execute_result"
    }
   ],
   "source": [
    "df['showing'] = df['showing_count'] - 1\n",
    "df['showing'].sum() * 0.07"
   ]
  },
  {
   "cell_type": "markdown",
   "metadata": {},
   "source": [
    "Сумма полученая с учетом одного пропуска рекламы покрывает расходы на привлечение игроков, и выводит нас на окупаемость при текущих данных."
   ]
  },
  {
   "cell_type": "code",
   "execution_count": 61,
   "metadata": {},
   "outputs": [
    {
     "data": {
      "text/plain": [
       "7060.27"
      ]
     },
     "execution_count": 61,
     "metadata": {},
     "output_type": "execute_result"
    }
   ],
   "source": [
    "df['showing'] = df['showing_count'] - 2\n",
    "df['showing'].sum() * 0.07"
   ]
  },
  {
   "cell_type": "markdown",
   "metadata": {},
   "source": [
    "При пропуске 2 показов рекламы в меню строительства общая выручка не покрывает затраты на рекламу, следовательно, мы можем пропустить только один показ рекламы при первом строительстве."
   ]
  },
  {
   "cell_type": "markdown",
   "metadata": {},
   "source": [
    "Увеличение пропусков показа рекламы в меню строительства потребуют увеличения стоимости показа рекламы:\n",
    "- для пропуска первых 2х зданий - до 0.08 ден.ед.;\n",
    "- для пропуска первых 3х зданий - до 0.09 ден.ед.\n",
    "\n",
    "Так же, для повышения доходности, можно добавить просмотр рекламы при переходе на следующий уровень."
   ]
  },
  {
   "cell_type": "code",
   "execution_count": 62,
   "metadata": {},
   "outputs": [
    {
     "data": {
      "text/html": [
       "<div>\n",
       "<style scoped>\n",
       "    .dataframe tbody tr th:only-of-type {\n",
       "        vertical-align: middle;\n",
       "    }\n",
       "\n",
       "    .dataframe tbody tr th {\n",
       "        vertical-align: top;\n",
       "    }\n",
       "\n",
       "    .dataframe thead th {\n",
       "        text-align: right;\n",
       "    }\n",
       "</style>\n",
       "<table border=\"1\" class=\"dataframe\">\n",
       "  <thead>\n",
       "    <tr style=\"text-align: right;\">\n",
       "      <th></th>\n",
       "      <th>user_id</th>\n",
       "      <th>showing_count</th>\n",
       "      <th>showing</th>\n",
       "    </tr>\n",
       "  </thead>\n",
       "  <tbody>\n",
       "    <tr>\n",
       "      <th>8799</th>\n",
       "      <td>a5add3ce-1ac4-4b97-aba0-f040efc4c1b0</td>\n",
       "      <td>20</td>\n",
       "      <td>18</td>\n",
       "    </tr>\n",
       "    <tr>\n",
       "      <th>13550</th>\n",
       "      <td>ff841992-d93b-462e-bc6e-18c24a514f36</td>\n",
       "      <td>20</td>\n",
       "      <td>18</td>\n",
       "    </tr>\n",
       "    <tr>\n",
       "      <th>9780</th>\n",
       "      <td>b8a01939-eb2d-4021-a1fb-c3f2a52fa176</td>\n",
       "      <td>20</td>\n",
       "      <td>18</td>\n",
       "    </tr>\n",
       "    <tr>\n",
       "      <th>10937</th>\n",
       "      <td>cefc5aac-4011-4e00-becc-2634c4527713</td>\n",
       "      <td>20</td>\n",
       "      <td>18</td>\n",
       "    </tr>\n",
       "    <tr>\n",
       "      <th>8814</th>\n",
       "      <td>a5f59d60-98b8-4455-ae5b-308f44715557</td>\n",
       "      <td>20</td>\n",
       "      <td>18</td>\n",
       "    </tr>\n",
       "    <tr>\n",
       "      <th>...</th>\n",
       "      <td>...</td>\n",
       "      <td>...</td>\n",
       "      <td>...</td>\n",
       "    </tr>\n",
       "    <tr>\n",
       "      <th>7388</th>\n",
       "      <td>8a1cbd21-b898-4aee-be95-c38f7a5a28fd</td>\n",
       "      <td>2</td>\n",
       "      <td>0</td>\n",
       "    </tr>\n",
       "    <tr>\n",
       "      <th>7411</th>\n",
       "      <td>8a782485-46be-432d-8413-9777a586df52</td>\n",
       "      <td>2</td>\n",
       "      <td>0</td>\n",
       "    </tr>\n",
       "    <tr>\n",
       "      <th>2521</th>\n",
       "      <td>2dbf40b8-23ed-4de2-b3eb-4efd5d150faa</td>\n",
       "      <td>2</td>\n",
       "      <td>0</td>\n",
       "    </tr>\n",
       "    <tr>\n",
       "      <th>10100</th>\n",
       "      <td>beee971c-4553-4e79-abd7-1f4fc852b60b</td>\n",
       "      <td>2</td>\n",
       "      <td>0</td>\n",
       "    </tr>\n",
       "    <tr>\n",
       "      <th>895</th>\n",
       "      <td>105119fe-b010-47cb-8cbd-0e5a0a23db08</td>\n",
       "      <td>2</td>\n",
       "      <td>0</td>\n",
       "    </tr>\n",
       "  </tbody>\n",
       "</table>\n",
       "<p>13519 rows × 3 columns</p>\n",
       "</div>"
      ],
      "text/plain": [
       "                                    user_id  showing_count  showing\n",
       "8799   a5add3ce-1ac4-4b97-aba0-f040efc4c1b0             20       18\n",
       "13550  ff841992-d93b-462e-bc6e-18c24a514f36             20       18\n",
       "9780   b8a01939-eb2d-4021-a1fb-c3f2a52fa176             20       18\n",
       "10937  cefc5aac-4011-4e00-becc-2634c4527713             20       18\n",
       "8814   a5f59d60-98b8-4455-ae5b-308f44715557             20       18\n",
       "...                                     ...            ...      ...\n",
       "7388   8a1cbd21-b898-4aee-be95-c38f7a5a28fd              2        0\n",
       "7411   8a782485-46be-432d-8413-9777a586df52              2        0\n",
       "2521   2dbf40b8-23ed-4de2-b3eb-4efd5d150faa              2        0\n",
       "10100  beee971c-4553-4e79-abd7-1f4fc852b60b              2        0\n",
       "895    105119fe-b010-47cb-8cbd-0e5a0a23db08              2        0\n",
       "\n",
       "[13519 rows x 3 columns]"
      ]
     },
     "execution_count": 62,
     "metadata": {},
     "output_type": "execute_result"
    }
   ],
   "source": [
    "df.sort_values('showing_count', ascending=False)"
   ]
  },
  {
   "cell_type": "markdown",
   "metadata": {},
   "source": [
    "## <a id=\"marketing\">Маркетинг</a>"
   ]
  },
  {
   "cell_type": "markdown",
   "metadata": {},
   "source": [
    "Анализ проведем с помощью метрик LTV."
   ]
  },
  {
   "cell_type": "markdown",
   "metadata": {},
   "source": [
    "### <a id=\"5.1\">Расчет LTV</a>"
   ]
  },
  {
   "cell_type": "code",
   "execution_count": 63,
   "metadata": {},
   "outputs": [
    {
     "data": {
      "text/html": [
       "<div>\n",
       "<style scoped>\n",
       "    .dataframe tbody tr th:only-of-type {\n",
       "        vertical-align: middle;\n",
       "    }\n",
       "\n",
       "    .dataframe tbody tr th {\n",
       "        vertical-align: top;\n",
       "    }\n",
       "\n",
       "    .dataframe thead th {\n",
       "        text-align: right;\n",
       "    }\n",
       "</style>\n",
       "<table border=\"1\" class=\"dataframe\">\n",
       "  <thead>\n",
       "    <tr style=\"text-align: right;\">\n",
       "      <th></th>\n",
       "      <th>event_datetime</th>\n",
       "      <th>event</th>\n",
       "      <th>building_type</th>\n",
       "      <th>user_id</th>\n",
       "      <th>project_type</th>\n",
       "      <th>session_date</th>\n",
       "      <th>source</th>\n",
       "      <th>first_date</th>\n",
       "    </tr>\n",
       "  </thead>\n",
       "  <tbody>\n",
       "    <tr>\n",
       "      <th>0</th>\n",
       "      <td>2020-05-04 00:00:01</td>\n",
       "      <td>building</td>\n",
       "      <td>assembly_shop</td>\n",
       "      <td>55e92310-cb8e-4754-b622-597e124b03de</td>\n",
       "      <td>NaN</td>\n",
       "      <td>2020-05-04</td>\n",
       "      <td>youtube_channel_reklama</td>\n",
       "      <td>2020-05-04</td>\n",
       "    </tr>\n",
       "    <tr>\n",
       "      <th>1</th>\n",
       "      <td>2020-05-04 00:00:03</td>\n",
       "      <td>building</td>\n",
       "      <td>assembly_shop</td>\n",
       "      <td>c07b1c10-f477-44dc-81dc-ec82254b1347</td>\n",
       "      <td>NaN</td>\n",
       "      <td>2020-05-04</td>\n",
       "      <td>facebook_ads</td>\n",
       "      <td>2020-05-04</td>\n",
       "    </tr>\n",
       "    <tr>\n",
       "      <th>2</th>\n",
       "      <td>2020-05-04 00:00:16</td>\n",
       "      <td>building</td>\n",
       "      <td>assembly_shop</td>\n",
       "      <td>6edd42cc-e753-4ff6-a947-2107cd560710</td>\n",
       "      <td>NaN</td>\n",
       "      <td>2020-05-04</td>\n",
       "      <td>instagram_new_adverts</td>\n",
       "      <td>2020-05-04</td>\n",
       "    </tr>\n",
       "    <tr>\n",
       "      <th>3</th>\n",
       "      <td>2020-05-04 00:00:16</td>\n",
       "      <td>building</td>\n",
       "      <td>assembly_shop</td>\n",
       "      <td>92c69003-d60a-444a-827f-8cc51bf6bf4c</td>\n",
       "      <td>NaN</td>\n",
       "      <td>2020-05-04</td>\n",
       "      <td>facebook_ads</td>\n",
       "      <td>2020-05-04</td>\n",
       "    </tr>\n",
       "    <tr>\n",
       "      <th>4</th>\n",
       "      <td>2020-05-04 00:00:35</td>\n",
       "      <td>building</td>\n",
       "      <td>assembly_shop</td>\n",
       "      <td>cdc6bb92-0ccb-4490-9866-ef142f09139d</td>\n",
       "      <td>NaN</td>\n",
       "      <td>2020-05-04</td>\n",
       "      <td>yandex_direct</td>\n",
       "      <td>2020-05-04</td>\n",
       "    </tr>\n",
       "  </tbody>\n",
       "</table>\n",
       "</div>"
      ],
      "text/plain": [
       "       event_datetime     event  building_type  \\\n",
       "0 2020-05-04 00:00:01  building  assembly_shop   \n",
       "1 2020-05-04 00:00:03  building  assembly_shop   \n",
       "2 2020-05-04 00:00:16  building  assembly_shop   \n",
       "3 2020-05-04 00:00:16  building  assembly_shop   \n",
       "4 2020-05-04 00:00:35  building  assembly_shop   \n",
       "\n",
       "                                user_id project_type session_date  \\\n",
       "0  55e92310-cb8e-4754-b622-597e124b03de          NaN   2020-05-04   \n",
       "1  c07b1c10-f477-44dc-81dc-ec82254b1347          NaN   2020-05-04   \n",
       "2  6edd42cc-e753-4ff6-a947-2107cd560710          NaN   2020-05-04   \n",
       "3  92c69003-d60a-444a-827f-8cc51bf6bf4c          NaN   2020-05-04   \n",
       "4  cdc6bb92-0ccb-4490-9866-ef142f09139d          NaN   2020-05-04   \n",
       "\n",
       "                    source  first_date  \n",
       "0  youtube_channel_reklama  2020-05-04  \n",
       "1             facebook_ads  2020-05-04  \n",
       "2    instagram_new_adverts  2020-05-04  \n",
       "3             facebook_ads  2020-05-04  \n",
       "4            yandex_direct  2020-05-04  "
      ]
     },
     "execution_count": 63,
     "metadata": {},
     "output_type": "execute_result"
    }
   ],
   "source": [
    "ga_for_cohort = ga.merge(us, how='left', left_on='user_id', right_on='user_id')\n",
    "ga_for_cohort.head()"
   ]
  },
  {
   "cell_type": "code",
   "execution_count": 64,
   "metadata": {},
   "outputs": [
    {
     "data": {
      "text/html": [
       "<div>\n",
       "<style scoped>\n",
       "    .dataframe tbody tr th:only-of-type {\n",
       "        vertical-align: middle;\n",
       "    }\n",
       "\n",
       "    .dataframe tbody tr th {\n",
       "        vertical-align: top;\n",
       "    }\n",
       "\n",
       "    .dataframe thead th {\n",
       "        text-align: right;\n",
       "    }\n",
       "</style>\n",
       "<table border=\"1\" class=\"dataframe\">\n",
       "  <thead>\n",
       "    <tr style=\"text-align: right;\">\n",
       "      <th></th>\n",
       "      <th>event_datetime</th>\n",
       "      <th>event</th>\n",
       "      <th>building_type</th>\n",
       "      <th>user_id</th>\n",
       "      <th>project_type</th>\n",
       "      <th>source</th>\n",
       "    </tr>\n",
       "  </thead>\n",
       "  <tbody>\n",
       "    <tr>\n",
       "      <th>0</th>\n",
       "      <td>2020-05-04 00:00:01</td>\n",
       "      <td>building</td>\n",
       "      <td>assembly_shop</td>\n",
       "      <td>55e92310-cb8e-4754-b622-597e124b03de</td>\n",
       "      <td>NaN</td>\n",
       "      <td>youtube_channel_reklama</td>\n",
       "    </tr>\n",
       "    <tr>\n",
       "      <th>1</th>\n",
       "      <td>2020-05-04 00:00:03</td>\n",
       "      <td>building</td>\n",
       "      <td>assembly_shop</td>\n",
       "      <td>c07b1c10-f477-44dc-81dc-ec82254b1347</td>\n",
       "      <td>NaN</td>\n",
       "      <td>facebook_ads</td>\n",
       "    </tr>\n",
       "    <tr>\n",
       "      <th>2</th>\n",
       "      <td>2020-05-04 00:00:16</td>\n",
       "      <td>building</td>\n",
       "      <td>assembly_shop</td>\n",
       "      <td>6edd42cc-e753-4ff6-a947-2107cd560710</td>\n",
       "      <td>NaN</td>\n",
       "      <td>instagram_new_adverts</td>\n",
       "    </tr>\n",
       "    <tr>\n",
       "      <th>3</th>\n",
       "      <td>2020-05-04 00:00:16</td>\n",
       "      <td>building</td>\n",
       "      <td>assembly_shop</td>\n",
       "      <td>92c69003-d60a-444a-827f-8cc51bf6bf4c</td>\n",
       "      <td>NaN</td>\n",
       "      <td>facebook_ads</td>\n",
       "    </tr>\n",
       "    <tr>\n",
       "      <th>4</th>\n",
       "      <td>2020-05-04 00:00:35</td>\n",
       "      <td>building</td>\n",
       "      <td>assembly_shop</td>\n",
       "      <td>cdc6bb92-0ccb-4490-9866-ef142f09139d</td>\n",
       "      <td>NaN</td>\n",
       "      <td>yandex_direct</td>\n",
       "    </tr>\n",
       "  </tbody>\n",
       "</table>\n",
       "</div>"
      ],
      "text/plain": [
       "       event_datetime     event  building_type  \\\n",
       "0 2020-05-04 00:00:01  building  assembly_shop   \n",
       "1 2020-05-04 00:00:03  building  assembly_shop   \n",
       "2 2020-05-04 00:00:16  building  assembly_shop   \n",
       "3 2020-05-04 00:00:16  building  assembly_shop   \n",
       "4 2020-05-04 00:00:35  building  assembly_shop   \n",
       "\n",
       "                                user_id project_type                   source  \n",
       "0  55e92310-cb8e-4754-b622-597e124b03de          NaN  youtube_channel_reklama  \n",
       "1  c07b1c10-f477-44dc-81dc-ec82254b1347          NaN             facebook_ads  \n",
       "2  6edd42cc-e753-4ff6-a947-2107cd560710          NaN    instagram_new_adverts  \n",
       "3  92c69003-d60a-444a-827f-8cc51bf6bf4c          NaN             facebook_ads  \n",
       "4  cdc6bb92-0ccb-4490-9866-ef142f09139d          NaN            yandex_direct  "
      ]
     },
     "execution_count": 64,
     "metadata": {},
     "output_type": "execute_result"
    }
   ],
   "source": [
    "ga_for_cohort.drop(columns=['session_date', 'first_date'], axis=1, inplace=True)\n",
    "ga_for_cohort.head()"
   ]
  },
  {
   "cell_type": "code",
   "execution_count": 65,
   "metadata": {},
   "outputs": [
    {
     "data": {
      "text/html": [
       "<div>\n",
       "<style scoped>\n",
       "    .dataframe tbody tr th:only-of-type {\n",
       "        vertical-align: middle;\n",
       "    }\n",
       "\n",
       "    .dataframe tbody tr th {\n",
       "        vertical-align: top;\n",
       "    }\n",
       "\n",
       "    .dataframe thead th {\n",
       "        text-align: right;\n",
       "    }\n",
       "</style>\n",
       "<table border=\"1\" class=\"dataframe\">\n",
       "  <thead>\n",
       "    <tr style=\"text-align: right;\">\n",
       "      <th></th>\n",
       "      <th>event_datetime</th>\n",
       "      <th>event</th>\n",
       "      <th>building_type</th>\n",
       "      <th>user_id</th>\n",
       "      <th>project_type</th>\n",
       "      <th>source</th>\n",
       "      <th>event_day</th>\n",
       "    </tr>\n",
       "  </thead>\n",
       "  <tbody>\n",
       "    <tr>\n",
       "      <th>0</th>\n",
       "      <td>2020-05-04 00:00:01</td>\n",
       "      <td>building</td>\n",
       "      <td>assembly_shop</td>\n",
       "      <td>55e92310-cb8e-4754-b622-597e124b03de</td>\n",
       "      <td>NaN</td>\n",
       "      <td>youtube_channel_reklama</td>\n",
       "      <td>2020-05-04</td>\n",
       "    </tr>\n",
       "    <tr>\n",
       "      <th>1</th>\n",
       "      <td>2020-05-04 00:00:03</td>\n",
       "      <td>building</td>\n",
       "      <td>assembly_shop</td>\n",
       "      <td>c07b1c10-f477-44dc-81dc-ec82254b1347</td>\n",
       "      <td>NaN</td>\n",
       "      <td>facebook_ads</td>\n",
       "      <td>2020-05-04</td>\n",
       "    </tr>\n",
       "    <tr>\n",
       "      <th>2</th>\n",
       "      <td>2020-05-04 00:00:16</td>\n",
       "      <td>building</td>\n",
       "      <td>assembly_shop</td>\n",
       "      <td>6edd42cc-e753-4ff6-a947-2107cd560710</td>\n",
       "      <td>NaN</td>\n",
       "      <td>instagram_new_adverts</td>\n",
       "      <td>2020-05-04</td>\n",
       "    </tr>\n",
       "    <tr>\n",
       "      <th>3</th>\n",
       "      <td>2020-05-04 00:00:16</td>\n",
       "      <td>building</td>\n",
       "      <td>assembly_shop</td>\n",
       "      <td>92c69003-d60a-444a-827f-8cc51bf6bf4c</td>\n",
       "      <td>NaN</td>\n",
       "      <td>facebook_ads</td>\n",
       "      <td>2020-05-04</td>\n",
       "    </tr>\n",
       "    <tr>\n",
       "      <th>4</th>\n",
       "      <td>2020-05-04 00:00:35</td>\n",
       "      <td>building</td>\n",
       "      <td>assembly_shop</td>\n",
       "      <td>cdc6bb92-0ccb-4490-9866-ef142f09139d</td>\n",
       "      <td>NaN</td>\n",
       "      <td>yandex_direct</td>\n",
       "      <td>2020-05-04</td>\n",
       "    </tr>\n",
       "  </tbody>\n",
       "</table>\n",
       "</div>"
      ],
      "text/plain": [
       "       event_datetime     event  building_type  \\\n",
       "0 2020-05-04 00:00:01  building  assembly_shop   \n",
       "1 2020-05-04 00:00:03  building  assembly_shop   \n",
       "2 2020-05-04 00:00:16  building  assembly_shop   \n",
       "3 2020-05-04 00:00:16  building  assembly_shop   \n",
       "4 2020-05-04 00:00:35  building  assembly_shop   \n",
       "\n",
       "                                user_id project_type                   source  \\\n",
       "0  55e92310-cb8e-4754-b622-597e124b03de          NaN  youtube_channel_reklama   \n",
       "1  c07b1c10-f477-44dc-81dc-ec82254b1347          NaN             facebook_ads   \n",
       "2  6edd42cc-e753-4ff6-a947-2107cd560710          NaN    instagram_new_adverts   \n",
       "3  92c69003-d60a-444a-827f-8cc51bf6bf4c          NaN             facebook_ads   \n",
       "4  cdc6bb92-0ccb-4490-9866-ef142f09139d          NaN            yandex_direct   \n",
       "\n",
       "   event_day  \n",
       "0 2020-05-04  \n",
       "1 2020-05-04  \n",
       "2 2020-05-04  \n",
       "3 2020-05-04  \n",
       "4 2020-05-04  "
      ]
     },
     "execution_count": 65,
     "metadata": {},
     "output_type": "execute_result"
    }
   ],
   "source": [
    "ga_for_cohort['event_day'] = ga_for_cohort['event_datetime'].astype('datetime64[D]')\n",
    "ga_for_cohort.head()"
   ]
  },
  {
   "cell_type": "code",
   "execution_count": 66,
   "metadata": {},
   "outputs": [
    {
     "data": {
      "text/html": [
       "<div>\n",
       "<style scoped>\n",
       "    .dataframe tbody tr th:only-of-type {\n",
       "        vertical-align: middle;\n",
       "    }\n",
       "\n",
       "    .dataframe tbody tr th {\n",
       "        vertical-align: top;\n",
       "    }\n",
       "\n",
       "    .dataframe thead th {\n",
       "        text-align: right;\n",
       "    }\n",
       "</style>\n",
       "<table border=\"1\" class=\"dataframe\">\n",
       "  <thead>\n",
       "    <tr style=\"text-align: right;\">\n",
       "      <th></th>\n",
       "      <th>source</th>\n",
       "      <th>user_id</th>\n",
       "      <th>first_event_day</th>\n",
       "    </tr>\n",
       "  </thead>\n",
       "  <tbody>\n",
       "    <tr>\n",
       "      <th>0</th>\n",
       "      <td>facebook_ads</td>\n",
       "      <td>0001f83c-c6ac-4621-b7f0-8a28b283ac30</td>\n",
       "      <td>2020-05-06</td>\n",
       "    </tr>\n",
       "    <tr>\n",
       "      <th>1</th>\n",
       "      <td>facebook_ads</td>\n",
       "      <td>002f508f-67b6-479f-814b-b05f00d4e995</td>\n",
       "      <td>2020-05-05</td>\n",
       "    </tr>\n",
       "    <tr>\n",
       "      <th>2</th>\n",
       "      <td>facebook_ads</td>\n",
       "      <td>004074f8-251a-4776-922c-8348dca1a2f6</td>\n",
       "      <td>2020-05-04</td>\n",
       "    </tr>\n",
       "    <tr>\n",
       "      <th>3</th>\n",
       "      <td>facebook_ads</td>\n",
       "      <td>00440efd-aa50-4b4b-aae8-ffcd1782729d</td>\n",
       "      <td>2020-05-04</td>\n",
       "    </tr>\n",
       "    <tr>\n",
       "      <th>4</th>\n",
       "      <td>facebook_ads</td>\n",
       "      <td>00965328-5e54-453f-b11b-52f8ae9ae80b</td>\n",
       "      <td>2020-05-07</td>\n",
       "    </tr>\n",
       "  </tbody>\n",
       "</table>\n",
       "</div>"
      ],
      "text/plain": [
       "         source                               user_id first_event_day\n",
       "0  facebook_ads  0001f83c-c6ac-4621-b7f0-8a28b283ac30      2020-05-06\n",
       "1  facebook_ads  002f508f-67b6-479f-814b-b05f00d4e995      2020-05-05\n",
       "2  facebook_ads  004074f8-251a-4776-922c-8348dca1a2f6      2020-05-04\n",
       "3  facebook_ads  00440efd-aa50-4b4b-aae8-ffcd1782729d      2020-05-04\n",
       "4  facebook_ads  00965328-5e54-453f-b11b-52f8ae9ae80b      2020-05-07"
      ]
     },
     "execution_count": 66,
     "metadata": {},
     "output_type": "execute_result"
    }
   ],
   "source": [
    "first_day = ga_for_cohort.groupby(['source', 'user_id']).agg({'event_day': 'min'}).reset_index()\n",
    "first_day.columns = ['source', 'user_id', 'first_event_day']\n",
    "first_day.head()"
   ]
  },
  {
   "cell_type": "code",
   "execution_count": 67,
   "metadata": {},
   "outputs": [
    {
     "data": {
      "text/html": [
       "<div>\n",
       "<style scoped>\n",
       "    .dataframe tbody tr th:only-of-type {\n",
       "        vertical-align: middle;\n",
       "    }\n",
       "\n",
       "    .dataframe tbody tr th {\n",
       "        vertical-align: top;\n",
       "    }\n",
       "\n",
       "    .dataframe thead th {\n",
       "        text-align: right;\n",
       "    }\n",
       "</style>\n",
       "<table border=\"1\" class=\"dataframe\">\n",
       "  <thead>\n",
       "    <tr style=\"text-align: right;\">\n",
       "      <th></th>\n",
       "      <th>source</th>\n",
       "      <th>first_event_day</th>\n",
       "      <th>users_count</th>\n",
       "    </tr>\n",
       "  </thead>\n",
       "  <tbody>\n",
       "    <tr>\n",
       "      <th>0</th>\n",
       "      <td>facebook_ads</td>\n",
       "      <td>2020-05-04</td>\n",
       "      <td>1184</td>\n",
       "    </tr>\n",
       "    <tr>\n",
       "      <th>1</th>\n",
       "      <td>facebook_ads</td>\n",
       "      <td>2020-05-05</td>\n",
       "      <td>694</td>\n",
       "    </tr>\n",
       "    <tr>\n",
       "      <th>2</th>\n",
       "      <td>facebook_ads</td>\n",
       "      <td>2020-05-06</td>\n",
       "      <td>345</td>\n",
       "    </tr>\n",
       "    <tr>\n",
       "      <th>3</th>\n",
       "      <td>facebook_ads</td>\n",
       "      <td>2020-05-07</td>\n",
       "      <td>224</td>\n",
       "    </tr>\n",
       "    <tr>\n",
       "      <th>4</th>\n",
       "      <td>facebook_ads</td>\n",
       "      <td>2020-05-08</td>\n",
       "      <td>139</td>\n",
       "    </tr>\n",
       "  </tbody>\n",
       "</table>\n",
       "</div>"
      ],
      "text/plain": [
       "         source first_event_day  users_count\n",
       "0  facebook_ads      2020-05-04         1184\n",
       "1  facebook_ads      2020-05-05          694\n",
       "2  facebook_ads      2020-05-06          345\n",
       "3  facebook_ads      2020-05-07          224\n",
       "4  facebook_ads      2020-05-08          139"
      ]
     },
     "execution_count": 67,
     "metadata": {},
     "output_type": "execute_result"
    }
   ],
   "source": [
    "cohort_size = first_day.groupby(['source', 'first_event_day']).agg({'user_id':'nunique'}).reset_index()\n",
    "cohort_size.columns = ['source', 'first_event_day', 'users_count']\n",
    "cohort_size.head()"
   ]
  },
  {
   "cell_type": "code",
   "execution_count": 68,
   "metadata": {},
   "outputs": [
    {
     "data": {
      "text/html": [
       "<div>\n",
       "<style scoped>\n",
       "    .dataframe tbody tr th:only-of-type {\n",
       "        vertical-align: middle;\n",
       "    }\n",
       "\n",
       "    .dataframe tbody tr th {\n",
       "        vertical-align: top;\n",
       "    }\n",
       "\n",
       "    .dataframe thead th {\n",
       "        text-align: right;\n",
       "    }\n",
       "</style>\n",
       "<table border=\"1\" class=\"dataframe\">\n",
       "  <thead>\n",
       "    <tr style=\"text-align: right;\">\n",
       "      <th></th>\n",
       "      <th>event_datetime</th>\n",
       "      <th>event</th>\n",
       "      <th>building_type</th>\n",
       "      <th>user_id</th>\n",
       "      <th>project_type</th>\n",
       "      <th>source</th>\n",
       "      <th>event_day</th>\n",
       "      <th>first_event_day</th>\n",
       "      <th>revenue</th>\n",
       "    </tr>\n",
       "  </thead>\n",
       "  <tbody>\n",
       "    <tr>\n",
       "      <th>0</th>\n",
       "      <td>2020-05-04 00:00:01</td>\n",
       "      <td>building</td>\n",
       "      <td>assembly_shop</td>\n",
       "      <td>55e92310-cb8e-4754-b622-597e124b03de</td>\n",
       "      <td>NaN</td>\n",
       "      <td>youtube_channel_reklama</td>\n",
       "      <td>2020-05-04</td>\n",
       "      <td>2020-05-04</td>\n",
       "      <td>0.07</td>\n",
       "    </tr>\n",
       "    <tr>\n",
       "      <th>1</th>\n",
       "      <td>2020-05-05 05:20:15</td>\n",
       "      <td>building</td>\n",
       "      <td>assembly_shop</td>\n",
       "      <td>55e92310-cb8e-4754-b622-597e124b03de</td>\n",
       "      <td>NaN</td>\n",
       "      <td>youtube_channel_reklama</td>\n",
       "      <td>2020-05-05</td>\n",
       "      <td>2020-05-04</td>\n",
       "      <td>0.07</td>\n",
       "    </tr>\n",
       "    <tr>\n",
       "      <th>2</th>\n",
       "      <td>2020-05-05 19:24:02</td>\n",
       "      <td>building</td>\n",
       "      <td>assembly_shop</td>\n",
       "      <td>55e92310-cb8e-4754-b622-597e124b03de</td>\n",
       "      <td>NaN</td>\n",
       "      <td>youtube_channel_reklama</td>\n",
       "      <td>2020-05-05</td>\n",
       "      <td>2020-05-04</td>\n",
       "      <td>0.07</td>\n",
       "    </tr>\n",
       "    <tr>\n",
       "      <th>3</th>\n",
       "      <td>2020-05-05 20:59:19</td>\n",
       "      <td>building</td>\n",
       "      <td>assembly_shop</td>\n",
       "      <td>55e92310-cb8e-4754-b622-597e124b03de</td>\n",
       "      <td>NaN</td>\n",
       "      <td>youtube_channel_reklama</td>\n",
       "      <td>2020-05-05</td>\n",
       "      <td>2020-05-04</td>\n",
       "      <td>0.07</td>\n",
       "    </tr>\n",
       "    <tr>\n",
       "      <th>4</th>\n",
       "      <td>2020-05-06 00:52:56</td>\n",
       "      <td>building</td>\n",
       "      <td>assembly_shop</td>\n",
       "      <td>55e92310-cb8e-4754-b622-597e124b03de</td>\n",
       "      <td>NaN</td>\n",
       "      <td>youtube_channel_reklama</td>\n",
       "      <td>2020-05-06</td>\n",
       "      <td>2020-05-04</td>\n",
       "      <td>0.07</td>\n",
       "    </tr>\n",
       "  </tbody>\n",
       "</table>\n",
       "</div>"
      ],
      "text/plain": [
       "       event_datetime     event  building_type  \\\n",
       "0 2020-05-04 00:00:01  building  assembly_shop   \n",
       "1 2020-05-05 05:20:15  building  assembly_shop   \n",
       "2 2020-05-05 19:24:02  building  assembly_shop   \n",
       "3 2020-05-05 20:59:19  building  assembly_shop   \n",
       "4 2020-05-06 00:52:56  building  assembly_shop   \n",
       "\n",
       "                                user_id project_type                   source  \\\n",
       "0  55e92310-cb8e-4754-b622-597e124b03de          NaN  youtube_channel_reklama   \n",
       "1  55e92310-cb8e-4754-b622-597e124b03de          NaN  youtube_channel_reklama   \n",
       "2  55e92310-cb8e-4754-b622-597e124b03de          NaN  youtube_channel_reklama   \n",
       "3  55e92310-cb8e-4754-b622-597e124b03de          NaN  youtube_channel_reklama   \n",
       "4  55e92310-cb8e-4754-b622-597e124b03de          NaN  youtube_channel_reklama   \n",
       "\n",
       "   event_day first_event_day  revenue  \n",
       "0 2020-05-04      2020-05-04     0.07  \n",
       "1 2020-05-05      2020-05-04     0.07  \n",
       "2 2020-05-05      2020-05-04     0.07  \n",
       "3 2020-05-05      2020-05-04     0.07  \n",
       "4 2020-05-06      2020-05-04     0.07  "
      ]
     },
     "execution_count": 68,
     "metadata": {},
     "output_type": "execute_result"
    }
   ],
   "source": [
    "cohort_buildings = pd.merge(ga_for_cohort, first_day, on=['user_id', 'source'])\n",
    "cohort_buildings['revenue'] = 0.07\n",
    "cohort_buildings.head()"
   ]
  },
  {
   "cell_type": "code",
   "execution_count": 69,
   "metadata": {},
   "outputs": [
    {
     "data": {
      "text/html": [
       "<div>\n",
       "<style scoped>\n",
       "    .dataframe tbody tr th:only-of-type {\n",
       "        vertical-align: middle;\n",
       "    }\n",
       "\n",
       "    .dataframe tbody tr th {\n",
       "        vertical-align: top;\n",
       "    }\n",
       "\n",
       "    .dataframe thead th {\n",
       "        text-align: right;\n",
       "    }\n",
       "</style>\n",
       "<table border=\"1\" class=\"dataframe\">\n",
       "  <thead>\n",
       "    <tr style=\"text-align: right;\">\n",
       "      <th></th>\n",
       "      <th>source</th>\n",
       "      <th>first_event_day</th>\n",
       "      <th>event_day</th>\n",
       "      <th>revenue</th>\n",
       "    </tr>\n",
       "  </thead>\n",
       "  <tbody>\n",
       "    <tr>\n",
       "      <th>0</th>\n",
       "      <td>facebook_ads</td>\n",
       "      <td>2020-05-04</td>\n",
       "      <td>2020-05-04</td>\n",
       "      <td>115.99</td>\n",
       "    </tr>\n",
       "    <tr>\n",
       "      <th>1</th>\n",
       "      <td>facebook_ads</td>\n",
       "      <td>2020-05-04</td>\n",
       "      <td>2020-05-05</td>\n",
       "      <td>61.18</td>\n",
       "    </tr>\n",
       "    <tr>\n",
       "      <th>2</th>\n",
       "      <td>facebook_ads</td>\n",
       "      <td>2020-05-04</td>\n",
       "      <td>2020-05-06</td>\n",
       "      <td>69.51</td>\n",
       "    </tr>\n",
       "    <tr>\n",
       "      <th>3</th>\n",
       "      <td>facebook_ads</td>\n",
       "      <td>2020-05-04</td>\n",
       "      <td>2020-05-07</td>\n",
       "      <td>72.45</td>\n",
       "    </tr>\n",
       "    <tr>\n",
       "      <th>4</th>\n",
       "      <td>facebook_ads</td>\n",
       "      <td>2020-05-04</td>\n",
       "      <td>2020-05-08</td>\n",
       "      <td>83.37</td>\n",
       "    </tr>\n",
       "  </tbody>\n",
       "</table>\n",
       "</div>"
      ],
      "text/plain": [
       "         source first_event_day  event_day  revenue\n",
       "0  facebook_ads      2020-05-04 2020-05-04   115.99\n",
       "1  facebook_ads      2020-05-04 2020-05-05    61.18\n",
       "2  facebook_ads      2020-05-04 2020-05-06    69.51\n",
       "3  facebook_ads      2020-05-04 2020-05-07    72.45\n",
       "4  facebook_ads      2020-05-04 2020-05-08    83.37"
      ]
     },
     "execution_count": 69,
     "metadata": {},
     "output_type": "execute_result"
    }
   ],
   "source": [
    "cohorts = (\n",
    "    cohort_buildings.groupby(['source', 'first_event_day', 'event_day'])\n",
    "    .agg({'revenue': 'sum'})\n",
    "    .reset_index()\n",
    ")\n",
    "cohorts.head()"
   ]
  },
  {
   "cell_type": "code",
   "execution_count": 70,
   "metadata": {},
   "outputs": [
    {
     "data": {
      "text/html": [
       "<div>\n",
       "<style scoped>\n",
       "    .dataframe tbody tr th:only-of-type {\n",
       "        vertical-align: middle;\n",
       "    }\n",
       "\n",
       "    .dataframe tbody tr th {\n",
       "        vertical-align: top;\n",
       "    }\n",
       "\n",
       "    .dataframe thead th {\n",
       "        text-align: right;\n",
       "    }\n",
       "</style>\n",
       "<table border=\"1\" class=\"dataframe\">\n",
       "  <thead>\n",
       "    <tr style=\"text-align: right;\">\n",
       "      <th></th>\n",
       "      <th>source</th>\n",
       "      <th>first_event_day</th>\n",
       "      <th>users_count</th>\n",
       "      <th>event_day</th>\n",
       "      <th>revenue</th>\n",
       "    </tr>\n",
       "  </thead>\n",
       "  <tbody>\n",
       "    <tr>\n",
       "      <th>0</th>\n",
       "      <td>facebook_ads</td>\n",
       "      <td>2020-05-04</td>\n",
       "      <td>1184</td>\n",
       "      <td>2020-05-04</td>\n",
       "      <td>115.99</td>\n",
       "    </tr>\n",
       "    <tr>\n",
       "      <th>1</th>\n",
       "      <td>facebook_ads</td>\n",
       "      <td>2020-05-04</td>\n",
       "      <td>1184</td>\n",
       "      <td>2020-05-05</td>\n",
       "      <td>61.18</td>\n",
       "    </tr>\n",
       "    <tr>\n",
       "      <th>2</th>\n",
       "      <td>facebook_ads</td>\n",
       "      <td>2020-05-04</td>\n",
       "      <td>1184</td>\n",
       "      <td>2020-05-06</td>\n",
       "      <td>69.51</td>\n",
       "    </tr>\n",
       "    <tr>\n",
       "      <th>3</th>\n",
       "      <td>facebook_ads</td>\n",
       "      <td>2020-05-04</td>\n",
       "      <td>1184</td>\n",
       "      <td>2020-05-07</td>\n",
       "      <td>72.45</td>\n",
       "    </tr>\n",
       "    <tr>\n",
       "      <th>4</th>\n",
       "      <td>facebook_ads</td>\n",
       "      <td>2020-05-04</td>\n",
       "      <td>1184</td>\n",
       "      <td>2020-05-08</td>\n",
       "      <td>83.37</td>\n",
       "    </tr>\n",
       "  </tbody>\n",
       "</table>\n",
       "</div>"
      ],
      "text/plain": [
       "         source first_event_day  users_count  event_day  revenue\n",
       "0  facebook_ads      2020-05-04         1184 2020-05-04   115.99\n",
       "1  facebook_ads      2020-05-04         1184 2020-05-05    61.18\n",
       "2  facebook_ads      2020-05-04         1184 2020-05-06    69.51\n",
       "3  facebook_ads      2020-05-04         1184 2020-05-07    72.45\n",
       "4  facebook_ads      2020-05-04         1184 2020-05-08    83.37"
      ]
     },
     "execution_count": 70,
     "metadata": {},
     "output_type": "execute_result"
    }
   ],
   "source": [
    "cohort_ltv = pd.merge(cohort_size, cohorts, on=['source', 'first_event_day'])\n",
    "cohort_ltv.head()"
   ]
  },
  {
   "cell_type": "code",
   "execution_count": 71,
   "metadata": {},
   "outputs": [
    {
     "data": {
      "text/html": [
       "<div>\n",
       "<style scoped>\n",
       "    .dataframe tbody tr th:only-of-type {\n",
       "        vertical-align: middle;\n",
       "    }\n",
       "\n",
       "    .dataframe tbody tr th {\n",
       "        vertical-align: top;\n",
       "    }\n",
       "\n",
       "    .dataframe thead th {\n",
       "        text-align: right;\n",
       "    }\n",
       "</style>\n",
       "<table border=\"1\" class=\"dataframe\">\n",
       "  <thead>\n",
       "    <tr style=\"text-align: right;\">\n",
       "      <th></th>\n",
       "      <th>source</th>\n",
       "      <th>first_event_day</th>\n",
       "      <th>users_count</th>\n",
       "      <th>event_day</th>\n",
       "      <th>revenue</th>\n",
       "      <th>age</th>\n",
       "      <th>ltv</th>\n",
       "    </tr>\n",
       "  </thead>\n",
       "  <tbody>\n",
       "    <tr>\n",
       "      <th>0</th>\n",
       "      <td>facebook_ads</td>\n",
       "      <td>2020-05-04</td>\n",
       "      <td>1184</td>\n",
       "      <td>2020-05-04</td>\n",
       "      <td>115.99</td>\n",
       "      <td>0</td>\n",
       "      <td>0.10</td>\n",
       "    </tr>\n",
       "    <tr>\n",
       "      <th>1</th>\n",
       "      <td>facebook_ads</td>\n",
       "      <td>2020-05-04</td>\n",
       "      <td>1184</td>\n",
       "      <td>2020-05-05</td>\n",
       "      <td>61.18</td>\n",
       "      <td>1</td>\n",
       "      <td>0.05</td>\n",
       "    </tr>\n",
       "    <tr>\n",
       "      <th>2</th>\n",
       "      <td>facebook_ads</td>\n",
       "      <td>2020-05-04</td>\n",
       "      <td>1184</td>\n",
       "      <td>2020-05-06</td>\n",
       "      <td>69.51</td>\n",
       "      <td>2</td>\n",
       "      <td>0.06</td>\n",
       "    </tr>\n",
       "    <tr>\n",
       "      <th>3</th>\n",
       "      <td>facebook_ads</td>\n",
       "      <td>2020-05-04</td>\n",
       "      <td>1184</td>\n",
       "      <td>2020-05-07</td>\n",
       "      <td>72.45</td>\n",
       "      <td>3</td>\n",
       "      <td>0.06</td>\n",
       "    </tr>\n",
       "    <tr>\n",
       "      <th>4</th>\n",
       "      <td>facebook_ads</td>\n",
       "      <td>2020-05-04</td>\n",
       "      <td>1184</td>\n",
       "      <td>2020-05-08</td>\n",
       "      <td>83.37</td>\n",
       "      <td>4</td>\n",
       "      <td>0.07</td>\n",
       "    </tr>\n",
       "  </tbody>\n",
       "</table>\n",
       "</div>"
      ],
      "text/plain": [
       "         source first_event_day  users_count  event_day  revenue  age  ltv\n",
       "0  facebook_ads      2020-05-04         1184 2020-05-04   115.99    0 0.10\n",
       "1  facebook_ads      2020-05-04         1184 2020-05-05    61.18    1 0.05\n",
       "2  facebook_ads      2020-05-04         1184 2020-05-06    69.51    2 0.06\n",
       "3  facebook_ads      2020-05-04         1184 2020-05-07    72.45    3 0.06\n",
       "4  facebook_ads      2020-05-04         1184 2020-05-08    83.37    4 0.07"
      ]
     },
     "execution_count": 71,
     "metadata": {},
     "output_type": "execute_result"
    }
   ],
   "source": [
    "cohort_ltv['age'] = (cohort_ltv['event_day'] - cohort_ltv['first_event_day']) / np.timedelta64(1, 'D')\n",
    "cohort_ltv['age'] = cohort_ltv['age'].round().astype('int')\n",
    "cohort_ltv['ltv'] = cohort_ltv['revenue'] / cohort_ltv['users_count']\n",
    "cohort_ltv['first_event_day'] = cohort_ltv['first_event_day'].dt.strftime('%Y-%m-%d')\n",
    "cohort_ltv.head()"
   ]
  },
  {
   "cell_type": "code",
   "execution_count": 72,
   "metadata": {},
   "outputs": [],
   "source": [
    "fin_table = cohort_ltv.pivot_table(\n",
    "            index='first_event_day', \n",
    "            columns='age', \n",
    "            values='ltv', \n",
    "            aggfunc='mean').round(2)\n",
    "\n",
    "fin_table = fin_table.cumsum(axis=1).round(2)"
   ]
  },
  {
   "cell_type": "code",
   "execution_count": 73,
   "metadata": {},
   "outputs": [
    {
     "data": {
      "image/png": "[encoded data removed]",
      "text/plain": [
       "<Figure size 1440x360 with 2 Axes>"
      ]
     },
     "metadata": {},
     "output_type": "display_data"
    }
   ],
   "source": [
    "sns.set(style='white')\n",
    "plt.figure(figsize=(20, 5))\n",
    "plt.title('LTV', fontsize=15)\n",
    "ax=sns.heatmap(fin_table, annot=True, fmt='.1f', linewidths=.01, linecolor='gray', cmap=\"icefire\")\n",
    "ax.set_ylabel('День старта когорты', fontsize=13)\n",
    "ax.set_xlabel('Дни жизни когорты', fontsize=13)\n",
    "plt.show()"
   ]
  },
  {
   "cell_type": "markdown",
   "metadata": {},
   "source": [
    "Показатели LTV стабильны, и увеличиваются на протяжении жизни каждой когорты."
   ]
  },
  {
   "cell_type": "markdown",
   "metadata": {},
   "source": [
    "## <a id=\"conclusion\">Общий вывод</a>"
   ]
  },
  {
   "cell_type": "markdown",
   "metadata": {},
   "source": [
    "**В ходе работы мы:**\n",
    " - провели предобработку данных;\n",
    " - провели исследовательский анализ;\n",
    " - проверили гипотезу о разнице во времени прохождения первого уровня между PVP и PVE игроками;\n",
    " - проверили окупаемость вложений в рекламные кампании."
   ]
  },
  {
   "cell_type": "markdown",
   "metadata": {},
   "source": [
    "**В процессе исследовательского анализа данных данных мы установили:**\n",
    "\n",
    " - пик активности всех игроков приходится на 10.05, к 11.05 происходит резкое снижение активности, далее активность плавно снижается;\n",
    " - при делении игроков закончивших уровень, и реализовавших проект:\n",
    "        <br>- пик активности приходится на 15.05 и 16.05;\n",
    "\t\t<br>- кол-во игроков избравших своей стратегией уничтожение противников преобладает над игроками выбравшими путь ученых.\n",
    "\t\t\n",
    " - среднее кол-во событий в день:\n",
    "\t\t<br>- среди игроков реализовавших проект - 14.65;\n",
    "\t\t<br>- среди игроков завершивших уровень - 11.77;\n",
    "\t\t<br>- среди игроков не прошедших первый уровень - 9.99.\n",
    "\n",
    " - для достижения целевого события (прохождения первого уровня) в день игроками было построено:\n",
    "\t\t<br>- в среднем игроками реализовавшими проект - 12.65;\n",
    "\t\t<br>- в среднем игроками завершившими уровень - 10.45;\n",
    "\t\t<br>- в среднем игроками не прошедшими первый уровень - 9.43;\n",
    "\t\t<br>- всего построено - 127 956 зданий, из них:\n",
    "\t\t\t\t\t\t<br>a. assembly_shop - 54 494;\n",
    "\t\t\t\t\t\t<br>b. spaceport - 59 325;\n",
    "\t\t\t\t\t\t<br>c. research_center - 14 137.\n",
    "\n",
    " - Было привлечено:\n",
    "\t\t<br>- из facebook_ads - 2726 чел.: \n",
    "\t\t\t\t\t\t<br>a. общая стоимость 2140.90 ден.ед.; \n",
    "\t\t\t\t\t\t<br>b. средняя стоимость привлечения 1 чел = 0.79 ден.ед.\n",
    "\t\t<br>- из instagram_new_adverts - 3347 чел.: \n",
    "\t\t\t\t\t\t<br>a. общая стоимость 2161.44 ден.ед.; \n",
    "\t\t\t\t\t\t<br>b. средняя стоимость привлечения 1 чел = 0.65 ден.ед.\n",
    "\t\t<br>- из yandex_direct - 4817 чел.: \n",
    "\t\t\t\t\t\t<br>a. общая стоимость 2233.11 ден.ед.; \n",
    "\t\t\t\t\t\t<br>b. средняя стоимость привлечения 1 чел = 0.46 ден.ед.\n",
    "\t\t<br>- из youtube_channel_reklama - 2686 чел.: \n",
    "\t\t\t\t\t\t<br>a. общая стоимость 1068.12 ден.ед.; \n",
    "\t\t\t\t\t\t<br>b. средняя стоимость привлечения 1 чел = 0.40 ден.ед.\n",
    "\t\t<br>- всего было привлечено - 13576 чел. за 7603.58 ден.ед.\n",
    "\n",
    " - Были проверены гипотезы:\n",
    "\t\t<br>1. Различается ли среднее время прохождения первого уровня игроками победившими врага и выполневшими проект\n",
    "\t\t<br>Было установлено, что есть статистически значимые различия между временем прохождения первого уровня PVP и PVE игроками. Можно сказать, что утверждение о том что PVP-игроки проходят первый уровень быстрее - состоятельно.\n",
    "        <br>2. Можно ли сказать, что с определенного источника приходят любители определенной стратегии\n",
    "        <br>Было установлено, что источник, с которого приходит игрок, не связан с его пристрастием к PVP или PVE стратегии"
   ]
  },
  {
   "cell_type": "markdown",
   "metadata": {},
   "source": [
    "## <a id=\"recommendations\">Рекомендации</a>"
   ]
  },
  {
   "cell_type": "markdown",
   "metadata": {},
   "source": [
    " 1. Для более лучшего вовлечения игроков возможно сдвинуть первый показ рекламы на 1 строительство, для большего кол-ва пропусков рекламы необходимо повышать стоимость показа рекламы;\n",
    " 2. Для удержания игроков предлагаю организовывать внутриигровые эвенты, как PVP так и PVE направленности;\n",
    " 3. Думаю, что есть смысл провести отдельный анализ для PVE направления, на данный момент оно слабо развито по сравнению с PVP;\n",
    " 4. Стратегию показа рекламного баннера в меню выбора построек считаю состоятельной."
   ]
  }
 ],
 "metadata": {
  "ExecuteTimeLog": [
   {
    "duration": 4,
    "start_time": "2022-08-15T17:55:21.303Z"
   },
   {
    "duration": 1001,
    "start_time": "2022-08-15T17:55:21.311Z"
   },
   {
    "duration": 3,
    "start_time": "2022-08-15T17:55:22.313Z"
   },
   {
    "duration": 281,
    "start_time": "2022-08-15T17:55:22.317Z"
   },
   {
    "duration": 311,
    "start_time": "2022-08-15T17:55:22.599Z"
   },
   {
    "duration": 104,
    "start_time": "2022-08-15T17:55:22.911Z"
   },
   {
    "duration": 66,
    "start_time": "2022-08-15T17:55:23.017Z"
   },
   {
    "duration": 21,
    "start_time": "2022-08-15T17:55:23.084Z"
   },
   {
    "duration": 27,
    "start_time": "2022-08-15T17:55:23.106Z"
   },
   {
    "duration": 148,
    "start_time": "2022-08-15T17:55:23.134Z"
   },
   {
    "duration": 37,
    "start_time": "2022-08-15T17:55:23.283Z"
   },
   {
    "duration": 41,
    "start_time": "2022-08-15T17:55:23.321Z"
   },
   {
    "duration": 34,
    "start_time": "2022-08-15T17:55:23.363Z"
   },
   {
    "duration": 10,
    "start_time": "2022-08-15T17:55:23.399Z"
   },
   {
    "duration": 320,
    "start_time": "2022-08-15T17:55:23.412Z"
   },
   {
    "duration": 9,
    "start_time": "2022-08-15T17:55:23.733Z"
   },
   {
    "duration": 20,
    "start_time": "2022-08-15T17:55:23.743Z"
   },
   {
    "duration": 258,
    "start_time": "2022-08-15T17:55:23.764Z"
   },
   {
    "duration": 214,
    "start_time": "2022-08-15T17:55:24.024Z"
   },
   {
    "duration": 35,
    "start_time": "2022-08-15T17:55:24.240Z"
   },
   {
    "duration": 20,
    "start_time": "2022-08-15T17:55:24.276Z"
   },
   {
    "duration": 62,
    "start_time": "2022-08-15T17:55:24.297Z"
   },
   {
    "duration": 36,
    "start_time": "2022-08-15T17:55:24.361Z"
   },
   {
    "duration": 89,
    "start_time": "2022-08-15T17:55:24.399Z"
   },
   {
    "duration": 137,
    "start_time": "2022-08-15T17:55:24.489Z"
   },
   {
    "duration": 32,
    "start_time": "2022-08-15T17:55:24.628Z"
   },
   {
    "duration": 37,
    "start_time": "2022-08-15T17:55:24.662Z"
   },
   {
    "duration": 83,
    "start_time": "2022-08-15T17:55:24.700Z"
   },
   {
    "duration": 10,
    "start_time": "2022-08-15T17:55:24.784Z"
   },
   {
    "duration": 141,
    "start_time": "2022-08-15T17:55:24.795Z"
   },
   {
    "duration": 4,
    "start_time": "2022-08-15T17:55:24.937Z"
   },
   {
    "duration": 916,
    "start_time": "2022-08-15T17:55:24.943Z"
   },
   {
    "duration": 17,
    "start_time": "2022-08-15T17:55:25.861Z"
   },
   {
    "duration": 11,
    "start_time": "2022-08-15T17:55:25.879Z"
   },
   {
    "duration": 10,
    "start_time": "2022-08-15T17:55:25.892Z"
   },
   {
    "duration": 13,
    "start_time": "2022-08-15T17:55:25.903Z"
   },
   {
    "duration": 59,
    "start_time": "2022-08-15T17:55:25.918Z"
   },
   {
    "duration": 17,
    "start_time": "2022-08-15T17:55:25.978Z"
   },
   {
    "duration": 254,
    "start_time": "2022-08-15T17:55:25.997Z"
   },
   {
    "duration": 48,
    "start_time": "2022-08-15T17:55:26.258Z"
   },
   {
    "duration": 8,
    "start_time": "2022-08-15T17:55:26.308Z"
   },
   {
    "duration": 90,
    "start_time": "2022-08-15T17:55:26.319Z"
   },
   {
    "duration": 18,
    "start_time": "2022-08-15T17:55:26.410Z"
   },
   {
    "duration": 29,
    "start_time": "2022-08-15T17:55:26.430Z"
   },
   {
    "duration": 8,
    "start_time": "2022-08-15T17:55:26.460Z"
   },
   {
    "duration": 137,
    "start_time": "2022-08-15T17:55:26.469Z"
   },
   {
    "duration": 7,
    "start_time": "2022-08-15T18:54:58.455Z"
   },
   {
    "duration": 7,
    "start_time": "2022-08-15T18:55:11.198Z"
   },
   {
    "duration": 8,
    "start_time": "2022-08-15T18:55:29.031Z"
   },
   {
    "duration": 9,
    "start_time": "2022-08-15T18:55:40.598Z"
   },
   {
    "duration": 8,
    "start_time": "2022-08-15T18:55:55.398Z"
   },
   {
    "duration": 124,
    "start_time": "2022-08-15T18:57:01.341Z"
   },
   {
    "duration": 8,
    "start_time": "2022-08-15T18:57:15.446Z"
   },
   {
    "duration": 13,
    "start_time": "2022-08-15T19:04:39.728Z"
   },
   {
    "duration": 19,
    "start_time": "2022-08-15T19:04:45.314Z"
   },
   {
    "duration": 3,
    "start_time": "2022-08-16T07:12:14.763Z"
   },
   {
    "duration": 1364,
    "start_time": "2022-08-16T07:12:14.768Z"
   },
   {
    "duration": 5,
    "start_time": "2022-08-16T07:12:16.134Z"
   },
   {
    "duration": 862,
    "start_time": "2022-08-16T07:12:16.141Z"
   },
   {
    "duration": 368,
    "start_time": "2022-08-16T07:12:17.006Z"
   },
   {
    "duration": 99,
    "start_time": "2022-08-16T07:12:17.375Z"
   },
   {
    "duration": 70,
    "start_time": "2022-08-16T07:12:17.476Z"
   },
   {
    "duration": 24,
    "start_time": "2022-08-16T07:12:17.548Z"
   },
   {
    "duration": 29,
    "start_time": "2022-08-16T07:12:17.573Z"
   },
   {
    "duration": 177,
    "start_time": "2022-08-16T07:12:17.603Z"
   },
   {
    "duration": 37,
    "start_time": "2022-08-16T07:12:17.782Z"
   },
   {
    "duration": 44,
    "start_time": "2022-08-16T07:12:17.821Z"
   },
   {
    "duration": 35,
    "start_time": "2022-08-16T07:12:17.867Z"
   },
   {
    "duration": 9,
    "start_time": "2022-08-16T07:12:17.905Z"
   },
   {
    "duration": 336,
    "start_time": "2022-08-16T07:12:17.915Z"
   },
   {
    "duration": 9,
    "start_time": "2022-08-16T07:12:18.253Z"
   },
   {
    "duration": 17,
    "start_time": "2022-08-16T07:12:18.263Z"
   },
   {
    "duration": 291,
    "start_time": "2022-08-16T07:12:18.282Z"
   },
   {
    "duration": 230,
    "start_time": "2022-08-16T07:12:18.574Z"
   },
   {
    "duration": 50,
    "start_time": "2022-08-16T07:12:18.805Z"
   },
   {
    "duration": 27,
    "start_time": "2022-08-16T07:12:18.857Z"
   },
   {
    "duration": 68,
    "start_time": "2022-08-16T07:12:18.886Z"
   },
   {
    "duration": 48,
    "start_time": "2022-08-16T07:12:18.956Z"
   },
   {
    "duration": 104,
    "start_time": "2022-08-16T07:12:19.006Z"
   },
   {
    "duration": 150,
    "start_time": "2022-08-16T07:12:19.112Z"
   },
   {
    "duration": 26,
    "start_time": "2022-08-16T07:12:19.264Z"
   },
   {
    "duration": 51,
    "start_time": "2022-08-16T07:12:19.291Z"
   },
   {
    "duration": 82,
    "start_time": "2022-08-16T07:12:19.343Z"
   },
   {
    "duration": 11,
    "start_time": "2022-08-16T07:12:19.437Z"
   },
   {
    "duration": 150,
    "start_time": "2022-08-16T07:12:19.450Z"
   },
   {
    "duration": 4,
    "start_time": "2022-08-16T07:12:19.602Z"
   },
   {
    "duration": 986,
    "start_time": "2022-08-16T07:12:19.607Z"
   },
   {
    "duration": 19,
    "start_time": "2022-08-16T07:12:20.594Z"
   },
   {
    "duration": 26,
    "start_time": "2022-08-16T07:12:20.615Z"
   },
   {
    "duration": 22,
    "start_time": "2022-08-16T07:12:20.642Z"
   },
   {
    "duration": 15,
    "start_time": "2022-08-16T07:12:20.666Z"
   },
   {
    "duration": 46,
    "start_time": "2022-08-16T07:12:20.683Z"
   },
   {
    "duration": 26,
    "start_time": "2022-08-16T07:12:20.731Z"
   },
   {
    "duration": 283,
    "start_time": "2022-08-16T07:12:20.758Z"
   },
   {
    "duration": 52,
    "start_time": "2022-08-16T07:12:21.042Z"
   },
   {
    "duration": 10,
    "start_time": "2022-08-16T07:12:21.097Z"
   },
   {
    "duration": 12,
    "start_time": "2022-08-16T07:12:21.108Z"
   },
   {
    "duration": 88,
    "start_time": "2022-08-16T07:12:21.122Z"
   },
   {
    "duration": 27,
    "start_time": "2022-08-16T07:12:21.212Z"
   },
   {
    "duration": 31,
    "start_time": "2022-08-16T07:12:21.241Z"
   },
   {
    "duration": 8,
    "start_time": "2022-08-16T07:12:21.273Z"
   },
   {
    "duration": 144,
    "start_time": "2022-08-16T07:12:21.282Z"
   },
   {
    "duration": 4,
    "start_time": "2022-08-17T09:08:54.750Z"
   },
   {
    "duration": 1330,
    "start_time": "2022-08-17T09:08:54.756Z"
   },
   {
    "duration": 3,
    "start_time": "2022-08-17T09:08:56.090Z"
   },
   {
    "duration": 728,
    "start_time": "2022-08-17T09:08:56.095Z"
   },
   {
    "duration": 399,
    "start_time": "2022-08-17T09:08:56.825Z"
   },
   {
    "duration": 107,
    "start_time": "2022-08-17T09:08:57.225Z"
   },
   {
    "duration": 78,
    "start_time": "2022-08-17T09:08:57.334Z"
   },
   {
    "duration": 25,
    "start_time": "2022-08-17T09:08:57.413Z"
   },
   {
    "duration": 47,
    "start_time": "2022-08-17T09:08:57.439Z"
   },
   {
    "duration": 207,
    "start_time": "2022-08-17T09:08:57.488Z"
   },
   {
    "duration": 43,
    "start_time": "2022-08-17T09:08:57.696Z"
   },
   {
    "duration": 59,
    "start_time": "2022-08-17T09:08:57.741Z"
   },
   {
    "duration": 38,
    "start_time": "2022-08-17T09:08:57.801Z"
   },
   {
    "duration": 11,
    "start_time": "2022-08-17T09:08:57.843Z"
   },
   {
    "duration": 360,
    "start_time": "2022-08-17T09:08:57.855Z"
   },
   {
    "duration": 9,
    "start_time": "2022-08-17T09:08:58.217Z"
   },
   {
    "duration": 15,
    "start_time": "2022-08-17T09:08:58.228Z"
   },
   {
    "duration": 313,
    "start_time": "2022-08-17T09:08:58.245Z"
   },
   {
    "duration": 252,
    "start_time": "2022-08-17T09:08:58.560Z"
   },
   {
    "duration": 39,
    "start_time": "2022-08-17T09:08:58.814Z"
   },
   {
    "duration": 39,
    "start_time": "2022-08-17T09:08:58.855Z"
   },
   {
    "duration": 54,
    "start_time": "2022-08-17T09:08:58.895Z"
   },
   {
    "duration": 52,
    "start_time": "2022-08-17T09:08:58.951Z"
   },
   {
    "duration": 104,
    "start_time": "2022-08-17T09:08:59.005Z"
   },
   {
    "duration": 159,
    "start_time": "2022-08-17T09:08:59.111Z"
   },
   {
    "duration": 36,
    "start_time": "2022-08-17T09:08:59.272Z"
   },
   {
    "duration": 45,
    "start_time": "2022-08-17T09:08:59.310Z"
   },
   {
    "duration": 101,
    "start_time": "2022-08-17T09:08:59.356Z"
   },
   {
    "duration": 11,
    "start_time": "2022-08-17T09:08:59.459Z"
   },
   {
    "duration": 167,
    "start_time": "2022-08-17T09:08:59.471Z"
   },
   {
    "duration": 4,
    "start_time": "2022-08-17T09:08:59.639Z"
   },
   {
    "duration": 1094,
    "start_time": "2022-08-17T09:08:59.645Z"
   },
   {
    "duration": 23,
    "start_time": "2022-08-17T09:09:00.740Z"
   },
   {
    "duration": 15,
    "start_time": "2022-08-17T09:09:00.786Z"
   },
   {
    "duration": 24,
    "start_time": "2022-08-17T09:09:00.803Z"
   },
   {
    "duration": 27,
    "start_time": "2022-08-17T09:09:00.830Z"
   },
   {
    "duration": 53,
    "start_time": "2022-08-17T09:09:00.859Z"
   },
   {
    "duration": 21,
    "start_time": "2022-08-17T09:09:00.914Z"
   },
   {
    "duration": 317,
    "start_time": "2022-08-17T09:09:00.937Z"
   },
   {
    "duration": 3,
    "start_time": "2022-08-17T09:09:01.256Z"
   },
   {
    "duration": 79,
    "start_time": "2022-08-17T09:09:01.262Z"
   },
   {
    "duration": 17,
    "start_time": "2022-08-17T09:09:01.343Z"
   },
   {
    "duration": 28,
    "start_time": "2022-08-17T09:09:01.362Z"
   },
   {
    "duration": 87,
    "start_time": "2022-08-17T09:09:01.391Z"
   },
   {
    "duration": 60,
    "start_time": "2022-08-17T09:09:01.480Z"
   },
   {
    "duration": 3,
    "start_time": "2022-08-17T09:09:01.543Z"
   },
   {
    "duration": 24,
    "start_time": "2022-08-17T09:09:01.548Z"
   },
   {
    "duration": 21,
    "start_time": "2022-08-17T09:09:01.574Z"
   },
   {
    "duration": 41,
    "start_time": "2022-08-17T09:09:01.598Z"
   },
   {
    "duration": 111,
    "start_time": "2022-08-17T09:09:01.641Z"
   },
   {
    "duration": 34,
    "start_time": "2022-08-17T09:09:01.754Z"
   },
   {
    "duration": 32,
    "start_time": "2022-08-17T09:09:01.790Z"
   },
   {
    "duration": 9,
    "start_time": "2022-08-17T09:09:01.824Z"
   },
   {
    "duration": 186,
    "start_time": "2022-08-17T09:09:01.835Z"
   },
   {
    "duration": 19,
    "start_time": "2022-08-17T09:11:30.781Z"
   },
   {
    "duration": 11,
    "start_time": "2022-08-17T09:11:32.231Z"
   },
   {
    "duration": 14,
    "start_time": "2022-08-17T09:11:33.847Z"
   },
   {
    "duration": 56,
    "start_time": "2022-08-17T09:11:35.483Z"
   },
   {
    "duration": 393,
    "start_time": "2022-08-17T09:16:35.861Z"
   },
   {
    "duration": 4,
    "start_time": "2022-08-17T09:16:50.260Z"
   },
   {
    "duration": 1141,
    "start_time": "2022-08-17T09:16:50.266Z"
   },
   {
    "duration": 3,
    "start_time": "2022-08-17T09:16:51.409Z"
   },
   {
    "duration": 313,
    "start_time": "2022-08-17T09:16:51.414Z"
   },
   {
    "duration": 416,
    "start_time": "2022-08-17T09:16:51.729Z"
   },
   {
    "duration": 119,
    "start_time": "2022-08-17T09:16:52.148Z"
   },
   {
    "duration": 89,
    "start_time": "2022-08-17T09:16:52.269Z"
   },
   {
    "duration": 35,
    "start_time": "2022-08-17T09:16:52.360Z"
   },
   {
    "duration": 39,
    "start_time": "2022-08-17T09:16:52.397Z"
   },
   {
    "duration": 203,
    "start_time": "2022-08-17T09:16:52.438Z"
   },
   {
    "duration": 45,
    "start_time": "2022-08-17T09:16:52.642Z"
   },
   {
    "duration": 39,
    "start_time": "2022-08-17T09:16:52.688Z"
   },
   {
    "duration": 37,
    "start_time": "2022-08-17T09:16:52.730Z"
   },
   {
    "duration": 22,
    "start_time": "2022-08-17T09:16:52.786Z"
   },
   {
    "duration": 363,
    "start_time": "2022-08-17T09:16:52.809Z"
   },
   {
    "duration": 15,
    "start_time": "2022-08-17T09:16:53.173Z"
   },
   {
    "duration": 2,
    "start_time": "2022-08-17T09:16:53.189Z"
   },
   {
    "duration": 253,
    "start_time": "2022-08-17T09:16:53.192Z"
   },
   {
    "duration": 0,
    "start_time": "2022-08-17T09:16:53.448Z"
   },
   {
    "duration": 0,
    "start_time": "2022-08-17T09:16:53.449Z"
   },
   {
    "duration": 0,
    "start_time": "2022-08-17T09:16:53.451Z"
   },
   {
    "duration": 0,
    "start_time": "2022-08-17T09:16:53.452Z"
   },
   {
    "duration": 0,
    "start_time": "2022-08-17T09:16:53.453Z"
   },
   {
    "duration": 0,
    "start_time": "2022-08-17T09:16:53.455Z"
   },
   {
    "duration": 0,
    "start_time": "2022-08-17T09:16:53.456Z"
   },
   {
    "duration": 0,
    "start_time": "2022-08-17T09:16:53.458Z"
   },
   {
    "duration": 0,
    "start_time": "2022-08-17T09:16:53.459Z"
   },
   {
    "duration": 0,
    "start_time": "2022-08-17T09:16:53.461Z"
   },
   {
    "duration": 0,
    "start_time": "2022-08-17T09:16:53.487Z"
   },
   {
    "duration": 0,
    "start_time": "2022-08-17T09:16:53.488Z"
   },
   {
    "duration": 0,
    "start_time": "2022-08-17T09:16:53.490Z"
   },
   {
    "duration": 0,
    "start_time": "2022-08-17T09:16:53.491Z"
   },
   {
    "duration": 0,
    "start_time": "2022-08-17T09:16:53.492Z"
   },
   {
    "duration": 0,
    "start_time": "2022-08-17T09:16:53.494Z"
   },
   {
    "duration": 0,
    "start_time": "2022-08-17T09:16:53.496Z"
   },
   {
    "duration": 0,
    "start_time": "2022-08-17T09:16:53.497Z"
   },
   {
    "duration": 0,
    "start_time": "2022-08-17T09:16:53.499Z"
   },
   {
    "duration": 0,
    "start_time": "2022-08-17T09:16:53.500Z"
   },
   {
    "duration": 0,
    "start_time": "2022-08-17T09:16:53.502Z"
   },
   {
    "duration": 0,
    "start_time": "2022-08-17T09:16:53.503Z"
   },
   {
    "duration": 0,
    "start_time": "2022-08-17T09:16:53.505Z"
   },
   {
    "duration": 0,
    "start_time": "2022-08-17T09:16:53.506Z"
   },
   {
    "duration": 0,
    "start_time": "2022-08-17T09:16:53.508Z"
   },
   {
    "duration": 0,
    "start_time": "2022-08-17T09:16:53.509Z"
   },
   {
    "duration": 0,
    "start_time": "2022-08-17T09:16:53.511Z"
   },
   {
    "duration": 0,
    "start_time": "2022-08-17T09:16:53.512Z"
   },
   {
    "duration": 0,
    "start_time": "2022-08-17T09:16:53.514Z"
   },
   {
    "duration": 0,
    "start_time": "2022-08-17T09:16:53.516Z"
   },
   {
    "duration": 0,
    "start_time": "2022-08-17T09:16:53.517Z"
   },
   {
    "duration": 0,
    "start_time": "2022-08-17T09:16:53.519Z"
   },
   {
    "duration": 0,
    "start_time": "2022-08-17T09:16:53.520Z"
   },
   {
    "duration": 0,
    "start_time": "2022-08-17T09:16:53.522Z"
   },
   {
    "duration": 0,
    "start_time": "2022-08-17T09:16:53.523Z"
   },
   {
    "duration": 0,
    "start_time": "2022-08-17T09:16:53.524Z"
   },
   {
    "duration": 288,
    "start_time": "2022-08-17T09:17:38.506Z"
   },
   {
    "duration": 239,
    "start_time": "2022-08-17T09:18:03.009Z"
   },
   {
    "duration": 3,
    "start_time": "2022-08-17T09:19:21.399Z"
   },
   {
    "duration": 28,
    "start_time": "2022-08-17T09:19:22.440Z"
   },
   {
    "duration": 40,
    "start_time": "2022-08-17T09:19:26.971Z"
   },
   {
    "duration": 81,
    "start_time": "2022-08-17T09:19:28.079Z"
   },
   {
    "duration": 151,
    "start_time": "2022-08-17T09:21:59.111Z"
   },
   {
    "duration": 29,
    "start_time": "2022-08-17T09:22:58.577Z"
   },
   {
    "duration": 45,
    "start_time": "2022-08-17T09:22:59.622Z"
   },
   {
    "duration": 83,
    "start_time": "2022-08-17T09:23:00.694Z"
   },
   {
    "duration": 12,
    "start_time": "2022-08-17T09:23:43.143Z"
   },
   {
    "duration": 157,
    "start_time": "2022-08-17T09:23:45.039Z"
   },
   {
    "duration": 4,
    "start_time": "2022-08-17T09:23:49.255Z"
   },
   {
    "duration": 1042,
    "start_time": "2022-08-17T09:23:53.086Z"
   },
   {
    "duration": 5,
    "start_time": "2022-08-17T09:24:15.759Z"
   },
   {
    "duration": 1477,
    "start_time": "2022-08-17T09:24:15.776Z"
   },
   {
    "duration": 3,
    "start_time": "2022-08-17T09:24:17.255Z"
   },
   {
    "duration": 473,
    "start_time": "2022-08-17T09:24:17.259Z"
   },
   {
    "duration": 485,
    "start_time": "2022-08-17T09:24:17.734Z"
   },
   {
    "duration": 133,
    "start_time": "2022-08-17T09:24:18.221Z"
   },
   {
    "duration": 107,
    "start_time": "2022-08-17T09:24:18.356Z"
   },
   {
    "duration": 38,
    "start_time": "2022-08-17T09:24:18.465Z"
   },
   {
    "duration": 33,
    "start_time": "2022-08-17T09:24:18.505Z"
   },
   {
    "duration": 209,
    "start_time": "2022-08-17T09:24:18.540Z"
   },
   {
    "duration": 48,
    "start_time": "2022-08-17T09:24:18.751Z"
   },
   {
    "duration": 42,
    "start_time": "2022-08-17T09:24:18.801Z"
   },
   {
    "duration": 82,
    "start_time": "2022-08-17T09:24:18.845Z"
   },
   {
    "duration": 23,
    "start_time": "2022-08-17T09:24:18.929Z"
   },
   {
    "duration": 405,
    "start_time": "2022-08-17T09:24:18.955Z"
   },
   {
    "duration": 12,
    "start_time": "2022-08-17T09:24:19.362Z"
   },
   {
    "duration": 14,
    "start_time": "2022-08-17T09:24:19.375Z"
   },
   {
    "duration": 308,
    "start_time": "2022-08-17T09:24:19.391Z"
   },
   {
    "duration": 293,
    "start_time": "2022-08-17T09:24:19.701Z"
   },
   {
    "duration": 51,
    "start_time": "2022-08-17T09:24:19.996Z"
   },
   {
    "duration": 7,
    "start_time": "2022-08-17T09:24:20.049Z"
   },
   {
    "duration": 51,
    "start_time": "2022-08-17T09:24:20.058Z"
   },
   {
    "duration": 46,
    "start_time": "2022-08-17T09:24:20.111Z"
   },
   {
    "duration": 100,
    "start_time": "2022-08-17T09:24:20.159Z"
   },
   {
    "duration": 188,
    "start_time": "2022-08-17T09:24:20.261Z"
   },
   {
    "duration": 50,
    "start_time": "2022-08-17T09:24:20.452Z"
   },
   {
    "duration": 59,
    "start_time": "2022-08-17T09:24:20.504Z"
   },
   {
    "duration": 125,
    "start_time": "2022-08-17T09:24:20.565Z"
   },
   {
    "duration": 14,
    "start_time": "2022-08-17T09:24:20.691Z"
   },
   {
    "duration": 188,
    "start_time": "2022-08-17T09:24:20.707Z"
   },
   {
    "duration": 4,
    "start_time": "2022-08-17T09:24:20.897Z"
   },
   {
    "duration": 1154,
    "start_time": "2022-08-17T09:24:20.903Z"
   },
   {
    "duration": 33,
    "start_time": "2022-08-17T09:24:22.058Z"
   },
   {
    "duration": 19,
    "start_time": "2022-08-17T09:24:22.093Z"
   },
   {
    "duration": 20,
    "start_time": "2022-08-17T09:24:22.114Z"
   },
   {
    "duration": 1622,
    "start_time": "2022-08-17T09:24:22.136Z"
   },
   {
    "duration": 0,
    "start_time": "2022-08-17T09:24:23.760Z"
   },
   {
    "duration": 0,
    "start_time": "2022-08-17T09:24:23.762Z"
   },
   {
    "duration": 0,
    "start_time": "2022-08-17T09:24:23.763Z"
   },
   {
    "duration": 0,
    "start_time": "2022-08-17T09:24:23.765Z"
   },
   {
    "duration": 0,
    "start_time": "2022-08-17T09:24:23.767Z"
   },
   {
    "duration": 0,
    "start_time": "2022-08-17T09:24:23.768Z"
   },
   {
    "duration": 0,
    "start_time": "2022-08-17T09:24:23.770Z"
   },
   {
    "duration": 0,
    "start_time": "2022-08-17T09:24:23.771Z"
   },
   {
    "duration": 0,
    "start_time": "2022-08-17T09:24:23.772Z"
   },
   {
    "duration": 0,
    "start_time": "2022-08-17T09:24:23.774Z"
   },
   {
    "duration": 0,
    "start_time": "2022-08-17T09:24:23.776Z"
   },
   {
    "duration": 0,
    "start_time": "2022-08-17T09:24:23.777Z"
   },
   {
    "duration": 0,
    "start_time": "2022-08-17T09:24:23.779Z"
   },
   {
    "duration": 0,
    "start_time": "2022-08-17T09:24:23.780Z"
   },
   {
    "duration": 0,
    "start_time": "2022-08-17T09:24:23.782Z"
   },
   {
    "duration": 0,
    "start_time": "2022-08-17T09:24:23.783Z"
   },
   {
    "duration": 0,
    "start_time": "2022-08-17T09:24:23.784Z"
   },
   {
    "duration": 0,
    "start_time": "2022-08-17T09:24:23.786Z"
   },
   {
    "duration": 10,
    "start_time": "2022-08-17T09:25:24.014Z"
   },
   {
    "duration": 55,
    "start_time": "2022-08-17T09:25:25.285Z"
   },
   {
    "duration": 23,
    "start_time": "2022-08-17T09:25:26.798Z"
   },
   {
    "duration": 332,
    "start_time": "2022-08-17T09:25:28.550Z"
   },
   {
    "duration": 3,
    "start_time": "2022-08-17T10:18:14.399Z"
   },
   {
    "duration": 1118,
    "start_time": "2022-08-17T10:18:14.405Z"
   },
   {
    "duration": 3,
    "start_time": "2022-08-17T10:18:15.524Z"
   },
   {
    "duration": 318,
    "start_time": "2022-08-17T10:18:15.529Z"
   },
   {
    "duration": 581,
    "start_time": "2022-08-17T10:18:15.849Z"
   },
   {
    "duration": 139,
    "start_time": "2022-08-17T10:18:16.432Z"
   },
   {
    "duration": 91,
    "start_time": "2022-08-17T10:18:16.573Z"
   },
   {
    "duration": 38,
    "start_time": "2022-08-17T10:18:16.665Z"
   },
   {
    "duration": 35,
    "start_time": "2022-08-17T10:18:16.704Z"
   },
   {
    "duration": 217,
    "start_time": "2022-08-17T10:18:16.740Z"
   },
   {
    "duration": 61,
    "start_time": "2022-08-17T10:18:16.958Z"
   },
   {
    "duration": 40,
    "start_time": "2022-08-17T10:18:17.021Z"
   },
   {
    "duration": 58,
    "start_time": "2022-08-17T10:18:17.062Z"
   },
   {
    "duration": 14,
    "start_time": "2022-08-17T10:18:17.125Z"
   },
   {
    "duration": 436,
    "start_time": "2022-08-17T10:18:17.141Z"
   },
   {
    "duration": 12,
    "start_time": "2022-08-17T10:18:17.578Z"
   },
   {
    "duration": 2,
    "start_time": "2022-08-17T10:18:17.592Z"
   },
   {
    "duration": 313,
    "start_time": "2022-08-17T10:18:17.595Z"
   },
   {
    "duration": 260,
    "start_time": "2022-08-17T10:18:17.910Z"
   },
   {
    "duration": 48,
    "start_time": "2022-08-17T10:18:18.172Z"
   },
   {
    "duration": 3,
    "start_time": "2022-08-17T10:18:18.222Z"
   },
   {
    "duration": 30,
    "start_time": "2022-08-17T10:18:18.227Z"
   },
   {
    "duration": 61,
    "start_time": "2022-08-17T10:18:18.259Z"
   },
   {
    "duration": 93,
    "start_time": "2022-08-17T10:18:18.322Z"
   },
   {
    "duration": 168,
    "start_time": "2022-08-17T10:18:18.417Z"
   },
   {
    "duration": 26,
    "start_time": "2022-08-17T10:18:18.587Z"
   },
   {
    "duration": 44,
    "start_time": "2022-08-17T10:18:18.615Z"
   },
   {
    "duration": 104,
    "start_time": "2022-08-17T10:18:18.660Z"
   },
   {
    "duration": 10,
    "start_time": "2022-08-17T10:18:18.766Z"
   },
   {
    "duration": 171,
    "start_time": "2022-08-17T10:18:18.786Z"
   },
   {
    "duration": 4,
    "start_time": "2022-08-17T10:18:18.959Z"
   },
   {
    "duration": 1128,
    "start_time": "2022-08-17T10:18:18.965Z"
   },
   {
    "duration": 23,
    "start_time": "2022-08-17T10:18:20.095Z"
   },
   {
    "duration": 14,
    "start_time": "2022-08-17T10:18:20.120Z"
   },
   {
    "duration": 15,
    "start_time": "2022-08-17T10:18:20.136Z"
   },
   {
    "duration": 40,
    "start_time": "2022-08-17T10:18:20.153Z"
   },
   {
    "duration": 56,
    "start_time": "2022-08-17T10:18:20.195Z"
   },
   {
    "duration": 38,
    "start_time": "2022-08-17T10:18:20.253Z"
   },
   {
    "duration": 321,
    "start_time": "2022-08-17T10:18:20.293Z"
   },
   {
    "duration": 3,
    "start_time": "2022-08-17T10:18:20.616Z"
   },
   {
    "duration": 20,
    "start_time": "2022-08-17T10:18:20.622Z"
   },
   {
    "duration": 10,
    "start_time": "2022-08-17T10:18:20.644Z"
   },
   {
    "duration": 15,
    "start_time": "2022-08-17T10:18:20.655Z"
   },
   {
    "duration": 60,
    "start_time": "2022-08-17T10:18:20.671Z"
   },
   {
    "duration": 60,
    "start_time": "2022-08-17T10:18:20.732Z"
   },
   {
    "duration": 4,
    "start_time": "2022-08-17T10:18:20.794Z"
   },
   {
    "duration": 8,
    "start_time": "2022-08-17T10:18:20.800Z"
   },
   {
    "duration": 4,
    "start_time": "2022-08-17T10:18:20.810Z"
   },
   {
    "duration": 6,
    "start_time": "2022-08-17T10:18:20.815Z"
   },
   {
    "duration": 108,
    "start_time": "2022-08-17T10:18:20.822Z"
   },
   {
    "duration": 1566,
    "start_time": "2022-08-17T10:18:20.932Z"
   },
   {
    "duration": 0,
    "start_time": "2022-08-17T10:18:22.500Z"
   },
   {
    "duration": 0,
    "start_time": "2022-08-17T10:18:22.501Z"
   },
   {
    "duration": 0,
    "start_time": "2022-08-17T10:18:22.502Z"
   },
   {
    "duration": 3,
    "start_time": "2022-08-17T10:34:45.089Z"
   },
   {
    "duration": 18,
    "start_time": "2022-08-17T10:34:46.406Z"
   },
   {
    "duration": 16,
    "start_time": "2022-08-17T11:01:07.069Z"
   },
   {
    "duration": 32,
    "start_time": "2022-08-17T11:01:20.237Z"
   },
   {
    "duration": 9,
    "start_time": "2022-08-17T11:01:27.469Z"
   },
   {
    "duration": 164,
    "start_time": "2022-08-17T11:01:32.215Z"
   },
   {
    "duration": 133,
    "start_time": "2022-08-17T11:24:58.869Z"
   },
   {
    "duration": 7,
    "start_time": "2022-08-17T11:25:57.696Z"
   },
   {
    "duration": 6,
    "start_time": "2022-08-17T11:27:15.775Z"
   },
   {
    "duration": 22,
    "start_time": "2022-08-17T11:27:26.645Z"
   },
   {
    "duration": 29,
    "start_time": "2022-08-17T11:28:38.368Z"
   },
   {
    "duration": 21,
    "start_time": "2022-08-17T11:28:43.221Z"
   },
   {
    "duration": 36,
    "start_time": "2022-08-17T11:28:48.439Z"
   },
   {
    "duration": 22,
    "start_time": "2022-08-17T11:29:17.666Z"
   },
   {
    "duration": 20,
    "start_time": "2022-08-17T11:29:19.589Z"
   },
   {
    "duration": 34,
    "start_time": "2022-08-17T11:29:21.220Z"
   },
   {
    "duration": 38,
    "start_time": "2022-08-17T11:30:33.989Z"
   },
   {
    "duration": 4,
    "start_time": "2022-08-17T11:30:45.549Z"
   },
   {
    "duration": 16,
    "start_time": "2022-08-17T11:30:46.967Z"
   },
   {
    "duration": 35,
    "start_time": "2022-08-17T11:31:23.062Z"
   },
   {
    "duration": 14,
    "start_time": "2022-08-17T11:34:09.411Z"
   },
   {
    "duration": 16,
    "start_time": "2022-08-17T11:34:12.375Z"
   },
   {
    "duration": 14,
    "start_time": "2022-08-17T11:34:15.861Z"
   },
   {
    "duration": 3,
    "start_time": "2022-08-17T11:34:24.861Z"
   },
   {
    "duration": 11,
    "start_time": "2022-08-17T11:34:27.318Z"
   },
   {
    "duration": 8,
    "start_time": "2022-08-17T11:42:14.225Z"
   },
   {
    "duration": 7,
    "start_time": "2022-08-17T11:42:30.713Z"
   },
   {
    "duration": 11,
    "start_time": "2022-08-17T11:42:46.321Z"
   },
   {
    "duration": 9,
    "start_time": "2022-08-17T11:49:14.558Z"
   },
   {
    "duration": 59,
    "start_time": "2022-08-17T11:49:15.834Z"
   },
   {
    "duration": 3,
    "start_time": "2022-08-17T11:49:29.549Z"
   },
   {
    "duration": 12,
    "start_time": "2022-08-17T11:49:31.581Z"
   },
   {
    "duration": 4,
    "start_time": "2022-08-17T11:49:53.192Z"
   },
   {
    "duration": 18,
    "start_time": "2022-08-17T11:49:54.581Z"
   },
   {
    "duration": 3,
    "start_time": "2022-08-17T11:50:17.727Z"
   },
   {
    "duration": 18,
    "start_time": "2022-08-17T11:50:18.938Z"
   },
   {
    "duration": 3,
    "start_time": "2022-08-17T11:51:17.966Z"
   },
   {
    "duration": 12,
    "start_time": "2022-08-17T11:51:19.132Z"
   },
   {
    "duration": 8,
    "start_time": "2022-08-17T11:51:22.373Z"
   },
   {
    "duration": 4,
    "start_time": "2022-08-17T11:51:23.926Z"
   },
   {
    "duration": 35,
    "start_time": "2022-08-17T11:51:25.119Z"
   },
   {
    "duration": 1119,
    "start_time": "2022-08-17T12:34:57.744Z"
   },
   {
    "duration": 83,
    "start_time": "2022-08-17T12:35:10.182Z"
   },
   {
    "duration": 1842,
    "start_time": "2022-08-17T12:35:12.816Z"
   },
   {
    "duration": 12,
    "start_time": "2022-08-17T12:35:14.865Z"
   },
   {
    "duration": 21,
    "start_time": "2022-08-17T12:36:45.566Z"
   },
   {
    "duration": 23,
    "start_time": "2022-08-17T12:36:51.531Z"
   },
   {
    "duration": 11,
    "start_time": "2022-08-17T12:37:00.045Z"
   },
   {
    "duration": 144,
    "start_time": "2022-08-17T12:37:13.103Z"
   },
   {
    "duration": 4,
    "start_time": "2022-08-17T12:37:40.184Z"
   },
   {
    "duration": 1122,
    "start_time": "2022-08-17T12:37:40.190Z"
   },
   {
    "duration": 2,
    "start_time": "2022-08-17T12:37:41.314Z"
   },
   {
    "duration": 309,
    "start_time": "2022-08-17T12:37:41.318Z"
   },
   {
    "duration": 402,
    "start_time": "2022-08-17T12:37:41.629Z"
   },
   {
    "duration": 109,
    "start_time": "2022-08-17T12:37:42.033Z"
   },
   {
    "duration": 76,
    "start_time": "2022-08-17T12:37:42.144Z"
   },
   {
    "duration": 29,
    "start_time": "2022-08-17T12:37:42.222Z"
   },
   {
    "duration": 48,
    "start_time": "2022-08-17T12:37:42.253Z"
   },
   {
    "duration": 170,
    "start_time": "2022-08-17T12:37:42.303Z"
   },
   {
    "duration": 46,
    "start_time": "2022-08-17T12:37:42.475Z"
   },
   {
    "duration": 38,
    "start_time": "2022-08-17T12:37:42.522Z"
   },
   {
    "duration": 57,
    "start_time": "2022-08-17T12:37:42.562Z"
   },
   {
    "duration": 11,
    "start_time": "2022-08-17T12:37:42.620Z"
   },
   {
    "duration": 354,
    "start_time": "2022-08-17T12:37:42.633Z"
   },
   {
    "duration": 9,
    "start_time": "2022-08-17T12:37:42.989Z"
   },
   {
    "duration": 6,
    "start_time": "2022-08-17T12:37:42.999Z"
   },
   {
    "duration": 301,
    "start_time": "2022-08-17T12:37:43.006Z"
   },
   {
    "duration": 248,
    "start_time": "2022-08-17T12:37:43.308Z"
   },
   {
    "duration": 46,
    "start_time": "2022-08-17T12:37:43.558Z"
   },
   {
    "duration": 2,
    "start_time": "2022-08-17T12:37:43.606Z"
   },
   {
    "duration": 29,
    "start_time": "2022-08-17T12:37:43.609Z"
   },
   {
    "duration": 53,
    "start_time": "2022-08-17T12:37:43.640Z"
   },
   {
    "duration": 93,
    "start_time": "2022-08-17T12:37:43.695Z"
   },
   {
    "duration": 196,
    "start_time": "2022-08-17T12:37:43.790Z"
   },
   {
    "duration": 32,
    "start_time": "2022-08-17T12:37:43.988Z"
   },
   {
    "duration": 65,
    "start_time": "2022-08-17T12:37:44.022Z"
   },
   {
    "duration": 79,
    "start_time": "2022-08-17T12:37:44.091Z"
   },
   {
    "duration": 24,
    "start_time": "2022-08-17T12:37:44.171Z"
   },
   {
    "duration": 166,
    "start_time": "2022-08-17T12:37:44.197Z"
   },
   {
    "duration": 4,
    "start_time": "2022-08-17T12:37:44.365Z"
   },
   {
    "duration": 984,
    "start_time": "2022-08-17T12:37:44.371Z"
   },
   {
    "duration": 31,
    "start_time": "2022-08-17T12:37:45.356Z"
   },
   {
    "duration": 13,
    "start_time": "2022-08-17T12:37:45.389Z"
   },
   {
    "duration": 16,
    "start_time": "2022-08-17T12:37:45.404Z"
   },
   {
    "duration": 17,
    "start_time": "2022-08-17T12:37:45.421Z"
   },
   {
    "duration": 62,
    "start_time": "2022-08-17T12:37:45.440Z"
   },
   {
    "duration": 20,
    "start_time": "2022-08-17T12:37:45.503Z"
   },
   {
    "duration": 302,
    "start_time": "2022-08-17T12:37:45.524Z"
   },
   {
    "duration": 2,
    "start_time": "2022-08-17T12:37:45.828Z"
   },
   {
    "duration": 21,
    "start_time": "2022-08-17T12:37:45.832Z"
   },
   {
    "duration": 11,
    "start_time": "2022-08-17T12:37:45.855Z"
   },
   {
    "duration": 24,
    "start_time": "2022-08-17T12:37:45.867Z"
   },
   {
    "duration": 54,
    "start_time": "2022-08-17T12:37:45.893Z"
   },
   {
    "duration": 70,
    "start_time": "2022-08-17T12:37:45.949Z"
   },
   {
    "duration": 3,
    "start_time": "2022-08-17T12:37:46.021Z"
   },
   {
    "duration": 8,
    "start_time": "2022-08-17T12:37:46.026Z"
   },
   {
    "duration": 9,
    "start_time": "2022-08-17T12:37:46.035Z"
   },
   {
    "duration": 11,
    "start_time": "2022-08-17T12:37:46.046Z"
   },
   {
    "duration": 29,
    "start_time": "2022-08-17T12:37:46.059Z"
   },
   {
    "duration": 13,
    "start_time": "2022-08-17T12:37:46.090Z"
   },
   {
    "duration": 14,
    "start_time": "2022-08-17T12:37:46.104Z"
   },
   {
    "duration": 3,
    "start_time": "2022-08-17T12:37:46.120Z"
   },
   {
    "duration": 13,
    "start_time": "2022-08-17T12:37:46.125Z"
   },
   {
    "duration": 8,
    "start_time": "2022-08-17T12:37:46.139Z"
   },
   {
    "duration": 8,
    "start_time": "2022-08-17T12:37:46.148Z"
   },
   {
    "duration": 33,
    "start_time": "2022-08-17T12:37:46.187Z"
   },
   {
    "duration": 100,
    "start_time": "2022-08-17T12:37:46.221Z"
   },
   {
    "duration": 21,
    "start_time": "2022-08-17T12:37:46.322Z"
   },
   {
    "duration": 28,
    "start_time": "2022-08-17T12:37:46.345Z"
   },
   {
    "duration": 19,
    "start_time": "2022-08-17T12:37:46.375Z"
   },
   {
    "duration": 192,
    "start_time": "2022-08-17T12:37:46.397Z"
   },
   {
    "duration": 21,
    "start_time": "2022-08-17T12:38:43.841Z"
   },
   {
    "duration": 23,
    "start_time": "2022-08-17T12:38:48.430Z"
   },
   {
    "duration": 4,
    "start_time": "2022-08-17T12:39:00.094Z"
   },
   {
    "duration": 1203,
    "start_time": "2022-08-17T12:39:00.100Z"
   },
   {
    "duration": 3,
    "start_time": "2022-08-17T12:39:01.305Z"
   },
   {
    "duration": 317,
    "start_time": "2022-08-17T12:39:01.310Z"
   },
   {
    "duration": 419,
    "start_time": "2022-08-17T12:39:01.629Z"
   },
   {
    "duration": 101,
    "start_time": "2022-08-17T12:39:02.089Z"
   },
   {
    "duration": 72,
    "start_time": "2022-08-17T12:39:02.192Z"
   },
   {
    "duration": 41,
    "start_time": "2022-08-17T12:39:02.265Z"
   },
   {
    "duration": 31,
    "start_time": "2022-08-17T12:39:02.307Z"
   },
   {
    "duration": 196,
    "start_time": "2022-08-17T12:39:02.340Z"
   },
   {
    "duration": 49,
    "start_time": "2022-08-17T12:39:02.538Z"
   },
   {
    "duration": 38,
    "start_time": "2022-08-17T12:39:02.590Z"
   },
   {
    "duration": 42,
    "start_time": "2022-08-17T12:39:02.630Z"
   },
   {
    "duration": 10,
    "start_time": "2022-08-17T12:39:02.687Z"
   },
   {
    "duration": 358,
    "start_time": "2022-08-17T12:39:02.698Z"
   },
   {
    "duration": 10,
    "start_time": "2022-08-17T12:39:03.057Z"
   },
   {
    "duration": 21,
    "start_time": "2022-08-17T12:39:03.068Z"
   },
   {
    "duration": 276,
    "start_time": "2022-08-17T12:39:03.090Z"
   },
   {
    "duration": 260,
    "start_time": "2022-08-17T12:39:03.367Z"
   },
   {
    "duration": 44,
    "start_time": "2022-08-17T12:39:03.629Z"
   },
   {
    "duration": 2,
    "start_time": "2022-08-17T12:39:03.686Z"
   },
   {
    "duration": 34,
    "start_time": "2022-08-17T12:39:03.691Z"
   },
   {
    "duration": 42,
    "start_time": "2022-08-17T12:39:03.726Z"
   },
   {
    "duration": 85,
    "start_time": "2022-08-17T12:39:03.786Z"
   },
   {
    "duration": 176,
    "start_time": "2022-08-17T12:39:03.873Z"
   },
   {
    "duration": 39,
    "start_time": "2022-08-17T12:39:04.051Z"
   },
   {
    "duration": 43,
    "start_time": "2022-08-17T12:39:04.092Z"
   },
   {
    "duration": 95,
    "start_time": "2022-08-17T12:39:04.137Z"
   },
   {
    "duration": 11,
    "start_time": "2022-08-17T12:39:04.234Z"
   },
   {
    "duration": 165,
    "start_time": "2022-08-17T12:39:04.247Z"
   },
   {
    "duration": 3,
    "start_time": "2022-08-17T12:39:04.414Z"
   },
   {
    "duration": 1027,
    "start_time": "2022-08-17T12:39:04.419Z"
   },
   {
    "duration": 24,
    "start_time": "2022-08-17T12:39:05.448Z"
   },
   {
    "duration": 20,
    "start_time": "2022-08-17T12:39:05.486Z"
   },
   {
    "duration": 25,
    "start_time": "2022-08-17T12:39:05.508Z"
   },
   {
    "duration": 14,
    "start_time": "2022-08-17T12:39:05.538Z"
   },
   {
    "duration": 61,
    "start_time": "2022-08-17T12:39:05.554Z"
   },
   {
    "duration": 22,
    "start_time": "2022-08-17T12:39:05.616Z"
   },
   {
    "duration": 335,
    "start_time": "2022-08-17T12:39:05.639Z"
   },
   {
    "duration": 3,
    "start_time": "2022-08-17T12:39:05.976Z"
   },
   {
    "duration": 23,
    "start_time": "2022-08-17T12:39:05.980Z"
   },
   {
    "duration": 14,
    "start_time": "2022-08-17T12:39:06.009Z"
   },
   {
    "duration": 25,
    "start_time": "2022-08-17T12:39:06.025Z"
   },
   {
    "duration": 73,
    "start_time": "2022-08-17T12:39:06.052Z"
   },
   {
    "duration": 68,
    "start_time": "2022-08-17T12:39:06.127Z"
   },
   {
    "duration": 4,
    "start_time": "2022-08-17T12:39:06.198Z"
   },
   {
    "duration": 11,
    "start_time": "2022-08-17T12:39:06.204Z"
   },
   {
    "duration": 7,
    "start_time": "2022-08-17T12:39:06.218Z"
   },
   {
    "duration": 9,
    "start_time": "2022-08-17T12:39:06.226Z"
   },
   {
    "duration": 24,
    "start_time": "2022-08-17T12:39:06.237Z"
   },
   {
    "duration": 33,
    "start_time": "2022-08-17T12:39:06.263Z"
   },
   {
    "duration": 25,
    "start_time": "2022-08-17T12:39:06.298Z"
   },
   {
    "duration": 5,
    "start_time": "2022-08-17T12:39:06.324Z"
   },
   {
    "duration": 25,
    "start_time": "2022-08-17T12:39:06.331Z"
   },
   {
    "duration": 15,
    "start_time": "2022-08-17T12:39:06.358Z"
   },
   {
    "duration": 41,
    "start_time": "2022-08-17T12:39:06.375Z"
   },
   {
    "duration": 50,
    "start_time": "2022-08-17T12:39:06.418Z"
   },
   {
    "duration": 95,
    "start_time": "2022-08-17T12:39:06.470Z"
   },
   {
    "duration": 35,
    "start_time": "2022-08-17T12:39:06.566Z"
   },
   {
    "duration": 26,
    "start_time": "2022-08-17T12:39:06.602Z"
   },
   {
    "duration": 12,
    "start_time": "2022-08-17T12:39:06.630Z"
   },
   {
    "duration": 200,
    "start_time": "2022-08-17T12:39:06.644Z"
   },
   {
    "duration": 27,
    "start_time": "2022-08-17T12:39:37.713Z"
   },
   {
    "duration": 84,
    "start_time": "2022-08-17T12:40:01.025Z"
   },
   {
    "duration": 10,
    "start_time": "2022-08-17T12:40:42.552Z"
   },
   {
    "duration": 25,
    "start_time": "2022-08-17T12:41:27.037Z"
   },
   {
    "duration": 1125,
    "start_time": "2022-08-17T12:42:09.312Z"
   },
   {
    "duration": 32,
    "start_time": "2022-08-17T12:42:28.880Z"
   },
   {
    "duration": 144,
    "start_time": "2022-08-17T12:44:15.964Z"
   },
   {
    "duration": 26,
    "start_time": "2022-08-17T12:44:39.139Z"
   },
   {
    "duration": 26,
    "start_time": "2022-08-17T12:44:49.034Z"
   },
   {
    "duration": 34,
    "start_time": "2022-08-17T12:45:02.821Z"
   },
   {
    "duration": 10,
    "start_time": "2022-08-17T12:45:10.944Z"
   },
   {
    "duration": 228,
    "start_time": "2022-08-17T12:45:12.552Z"
   },
   {
    "duration": 75,
    "start_time": "2022-08-17T12:45:47.814Z"
   },
   {
    "duration": 24,
    "start_time": "2022-08-17T12:45:59.672Z"
   },
   {
    "duration": 25,
    "start_time": "2022-08-17T12:46:27.697Z"
   },
   {
    "duration": 13,
    "start_time": "2022-08-17T12:46:56.048Z"
   },
   {
    "duration": 4,
    "start_time": "2022-08-17T12:53:54.254Z"
   },
   {
    "duration": 1152,
    "start_time": "2022-08-17T12:53:54.260Z"
   },
   {
    "duration": 3,
    "start_time": "2022-08-17T12:53:55.414Z"
   },
   {
    "duration": 288,
    "start_time": "2022-08-17T12:53:55.419Z"
   },
   {
    "duration": 424,
    "start_time": "2022-08-17T12:53:55.709Z"
   },
   {
    "duration": 133,
    "start_time": "2022-08-17T12:53:56.135Z"
   },
   {
    "duration": 95,
    "start_time": "2022-08-17T12:53:56.270Z"
   },
   {
    "duration": 40,
    "start_time": "2022-08-17T12:53:56.367Z"
   },
   {
    "duration": 51,
    "start_time": "2022-08-17T12:53:56.410Z"
   },
   {
    "duration": 242,
    "start_time": "2022-08-17T12:53:56.464Z"
   },
   {
    "duration": 46,
    "start_time": "2022-08-17T12:53:56.708Z"
   },
   {
    "duration": 56,
    "start_time": "2022-08-17T12:53:56.756Z"
   },
   {
    "duration": 40,
    "start_time": "2022-08-17T12:53:56.814Z"
   },
   {
    "duration": 32,
    "start_time": "2022-08-17T12:53:56.858Z"
   },
   {
    "duration": 360,
    "start_time": "2022-08-17T12:53:56.892Z"
   },
   {
    "duration": 9,
    "start_time": "2022-08-17T12:53:57.254Z"
   },
   {
    "duration": 4,
    "start_time": "2022-08-17T12:53:57.265Z"
   },
   {
    "duration": 309,
    "start_time": "2022-08-17T12:53:57.270Z"
   },
   {
    "duration": 270,
    "start_time": "2022-08-17T12:53:57.580Z"
   },
   {
    "duration": 48,
    "start_time": "2022-08-17T12:53:57.851Z"
   },
   {
    "duration": 2,
    "start_time": "2022-08-17T12:53:57.901Z"
   },
   {
    "duration": 32,
    "start_time": "2022-08-17T12:53:57.904Z"
   },
   {
    "duration": 54,
    "start_time": "2022-08-17T12:53:57.938Z"
   },
   {
    "duration": 95,
    "start_time": "2022-08-17T12:53:57.994Z"
   },
   {
    "duration": 165,
    "start_time": "2022-08-17T12:53:58.090Z"
   },
   {
    "duration": 37,
    "start_time": "2022-08-17T12:53:58.257Z"
   },
   {
    "duration": 45,
    "start_time": "2022-08-17T12:53:58.296Z"
   },
   {
    "duration": 100,
    "start_time": "2022-08-17T12:53:58.342Z"
   },
   {
    "duration": 12,
    "start_time": "2022-08-17T12:53:58.444Z"
   },
   {
    "duration": 189,
    "start_time": "2022-08-17T12:53:58.458Z"
   },
   {
    "duration": 5,
    "start_time": "2022-08-17T12:53:58.648Z"
   },
   {
    "duration": 971,
    "start_time": "2022-08-17T12:53:58.655Z"
   },
   {
    "duration": 23,
    "start_time": "2022-08-17T12:53:59.627Z"
   },
   {
    "duration": 13,
    "start_time": "2022-08-17T12:53:59.651Z"
   },
   {
    "duration": 13,
    "start_time": "2022-08-17T12:53:59.687Z"
   },
   {
    "duration": 14,
    "start_time": "2022-08-17T12:53:59.702Z"
   },
   {
    "duration": 71,
    "start_time": "2022-08-17T12:53:59.718Z"
   },
   {
    "duration": 21,
    "start_time": "2022-08-17T12:53:59.791Z"
   },
   {
    "duration": 324,
    "start_time": "2022-08-17T12:53:59.814Z"
   },
   {
    "duration": 3,
    "start_time": "2022-08-17T12:54:00.140Z"
   },
   {
    "duration": 28,
    "start_time": "2022-08-17T12:54:00.147Z"
   },
   {
    "duration": 10,
    "start_time": "2022-08-17T12:54:00.177Z"
   },
   {
    "duration": 34,
    "start_time": "2022-08-17T12:54:00.189Z"
   },
   {
    "duration": 58,
    "start_time": "2022-08-17T12:54:00.225Z"
   },
   {
    "duration": 51,
    "start_time": "2022-08-17T12:54:00.284Z"
   },
   {
    "duration": 3,
    "start_time": "2022-08-17T12:54:00.336Z"
   },
   {
    "duration": 20,
    "start_time": "2022-08-17T12:54:00.341Z"
   },
   {
    "duration": 17,
    "start_time": "2022-08-17T12:54:00.362Z"
   },
   {
    "duration": 21,
    "start_time": "2022-08-17T12:54:00.380Z"
   },
   {
    "duration": 22,
    "start_time": "2022-08-17T12:54:00.403Z"
   },
   {
    "duration": 13,
    "start_time": "2022-08-17T12:54:00.426Z"
   },
   {
    "duration": 29,
    "start_time": "2022-08-17T12:54:00.440Z"
   },
   {
    "duration": 4,
    "start_time": "2022-08-17T12:54:00.471Z"
   },
   {
    "duration": 20,
    "start_time": "2022-08-17T12:54:00.477Z"
   },
   {
    "duration": 22,
    "start_time": "2022-08-17T12:54:00.499Z"
   },
   {
    "duration": 13,
    "start_time": "2022-08-17T12:54:00.523Z"
   },
   {
    "duration": 48,
    "start_time": "2022-08-17T12:54:00.538Z"
   },
   {
    "duration": 3,
    "start_time": "2022-08-17T12:54:00.588Z"
   },
   {
    "duration": 18,
    "start_time": "2022-08-17T12:54:00.592Z"
   },
   {
    "duration": 19,
    "start_time": "2022-08-17T12:54:00.612Z"
   },
   {
    "duration": 14,
    "start_time": "2022-08-17T12:54:00.633Z"
   },
   {
    "duration": 10,
    "start_time": "2022-08-17T12:54:00.649Z"
   },
   {
    "duration": 92,
    "start_time": "2022-08-17T13:01:50.758Z"
   },
   {
    "duration": 1019,
    "start_time": "2022-08-17T13:01:54.908Z"
   },
   {
    "duration": 23,
    "start_time": "2022-08-17T13:02:43.879Z"
   },
   {
    "duration": 17,
    "start_time": "2022-08-17T13:03:10.160Z"
   },
   {
    "duration": 4,
    "start_time": "2022-08-17T13:03:17.834Z"
   },
   {
    "duration": 1217,
    "start_time": "2022-08-17T13:03:17.840Z"
   },
   {
    "duration": 2,
    "start_time": "2022-08-17T13:03:19.059Z"
   },
   {
    "duration": 349,
    "start_time": "2022-08-17T13:03:19.063Z"
   },
   {
    "duration": 497,
    "start_time": "2022-08-17T13:03:19.415Z"
   },
   {
    "duration": 118,
    "start_time": "2022-08-17T13:03:19.914Z"
   },
   {
    "duration": 91,
    "start_time": "2022-08-17T13:03:20.034Z"
   },
   {
    "duration": 25,
    "start_time": "2022-08-17T13:03:20.126Z"
   },
   {
    "duration": 55,
    "start_time": "2022-08-17T13:03:20.153Z"
   },
   {
    "duration": 197,
    "start_time": "2022-08-17T13:03:20.210Z"
   },
   {
    "duration": 40,
    "start_time": "2022-08-17T13:03:20.409Z"
   },
   {
    "duration": 56,
    "start_time": "2022-08-17T13:03:20.452Z"
   },
   {
    "duration": 40,
    "start_time": "2022-08-17T13:03:20.509Z"
   },
   {
    "duration": 21,
    "start_time": "2022-08-17T13:03:20.553Z"
   },
   {
    "duration": 396,
    "start_time": "2022-08-17T13:03:20.588Z"
   },
   {
    "duration": 18,
    "start_time": "2022-08-17T13:03:20.987Z"
   },
   {
    "duration": 19,
    "start_time": "2022-08-17T13:03:21.007Z"
   },
   {
    "duration": 322,
    "start_time": "2022-08-17T13:03:21.027Z"
   },
   {
    "duration": 279,
    "start_time": "2022-08-17T13:03:21.351Z"
   },
   {
    "duration": 41,
    "start_time": "2022-08-17T13:03:21.633Z"
   },
   {
    "duration": 2,
    "start_time": "2022-08-17T13:03:21.686Z"
   },
   {
    "duration": 46,
    "start_time": "2022-08-17T13:03:21.690Z"
   },
   {
    "duration": 53,
    "start_time": "2022-08-17T13:03:21.738Z"
   },
   {
    "duration": 103,
    "start_time": "2022-08-17T13:03:21.793Z"
   },
   {
    "duration": 198,
    "start_time": "2022-08-17T13:03:21.898Z"
   },
   {
    "duration": 33,
    "start_time": "2022-08-17T13:03:22.098Z"
   },
   {
    "duration": 70,
    "start_time": "2022-08-17T13:03:22.134Z"
   },
   {
    "duration": 100,
    "start_time": "2022-08-17T13:03:22.206Z"
   },
   {
    "duration": 11,
    "start_time": "2022-08-17T13:03:22.308Z"
   },
   {
    "duration": 189,
    "start_time": "2022-08-17T13:03:22.320Z"
   },
   {
    "duration": 4,
    "start_time": "2022-08-17T13:03:22.511Z"
   },
   {
    "duration": 1072,
    "start_time": "2022-08-17T13:03:22.516Z"
   },
   {
    "duration": 30,
    "start_time": "2022-08-17T13:03:23.594Z"
   },
   {
    "duration": 14,
    "start_time": "2022-08-17T13:03:23.626Z"
   },
   {
    "duration": 15,
    "start_time": "2022-08-17T13:03:23.642Z"
   },
   {
    "duration": 44,
    "start_time": "2022-08-17T13:03:23.659Z"
   },
   {
    "duration": 50,
    "start_time": "2022-08-17T13:03:23.706Z"
   },
   {
    "duration": 41,
    "start_time": "2022-08-17T13:03:23.758Z"
   },
   {
    "duration": 345,
    "start_time": "2022-08-17T13:03:23.801Z"
   },
   {
    "duration": 2,
    "start_time": "2022-08-17T13:03:24.148Z"
   },
   {
    "duration": 29,
    "start_time": "2022-08-17T13:03:24.154Z"
   },
   {
    "duration": 17,
    "start_time": "2022-08-17T13:03:24.185Z"
   },
   {
    "duration": 26,
    "start_time": "2022-08-17T13:03:24.203Z"
   },
   {
    "duration": 61,
    "start_time": "2022-08-17T13:03:24.231Z"
   },
   {
    "duration": 59,
    "start_time": "2022-08-17T13:03:24.295Z"
   },
   {
    "duration": 3,
    "start_time": "2022-08-17T13:03:24.356Z"
   },
   {
    "duration": 17,
    "start_time": "2022-08-17T13:03:24.360Z"
   },
   {
    "duration": 5,
    "start_time": "2022-08-17T13:03:24.386Z"
   },
   {
    "duration": 24,
    "start_time": "2022-08-17T13:03:24.392Z"
   },
   {
    "duration": 21,
    "start_time": "2022-08-17T13:03:24.418Z"
   },
   {
    "duration": 11,
    "start_time": "2022-08-17T13:03:24.441Z"
   },
   {
    "duration": 13,
    "start_time": "2022-08-17T13:03:24.455Z"
   },
   {
    "duration": 3,
    "start_time": "2022-08-17T13:03:24.470Z"
   },
   {
    "duration": 25,
    "start_time": "2022-08-17T13:03:24.475Z"
   },
   {
    "duration": 11,
    "start_time": "2022-08-17T13:03:24.501Z"
   },
   {
    "duration": 13,
    "start_time": "2022-08-17T13:03:24.514Z"
   },
   {
    "duration": 43,
    "start_time": "2022-08-17T13:03:24.528Z"
   },
   {
    "duration": 101,
    "start_time": "2022-08-17T13:03:24.572Z"
   },
   {
    "duration": 31,
    "start_time": "2022-08-17T13:03:24.675Z"
   },
   {
    "duration": 32,
    "start_time": "2022-08-17T13:03:24.708Z"
   },
   {
    "duration": 10,
    "start_time": "2022-08-17T13:03:24.742Z"
   },
   {
    "duration": 184,
    "start_time": "2022-08-17T13:03:24.754Z"
   },
   {
    "duration": 3,
    "start_time": "2022-08-17T13:06:01.729Z"
   },
   {
    "duration": 3,
    "start_time": "2022-08-17T13:06:05.609Z"
   },
   {
    "duration": 3,
    "start_time": "2022-08-17T13:06:06.784Z"
   },
   {
    "duration": 3,
    "start_time": "2022-08-17T13:06:09.795Z"
   },
   {
    "duration": 3,
    "start_time": "2022-08-17T13:06:11.777Z"
   },
   {
    "duration": 96,
    "start_time": "2022-08-17T13:07:36.549Z"
   },
   {
    "duration": 63,
    "start_time": "2022-08-17T13:08:19.482Z"
   },
   {
    "duration": 101,
    "start_time": "2022-08-17T13:08:28.856Z"
   },
   {
    "duration": 39,
    "start_time": "2022-08-17T13:08:36.609Z"
   },
   {
    "duration": 13,
    "start_time": "2022-08-17T13:08:53.480Z"
   },
   {
    "duration": 17,
    "start_time": "2022-08-17T13:08:59.800Z"
   },
   {
    "duration": 26,
    "start_time": "2022-08-17T13:14:51.119Z"
   },
   {
    "duration": 27,
    "start_time": "2022-08-17T13:15:05.327Z"
   },
   {
    "duration": 3,
    "start_time": "2022-08-17T13:15:11.177Z"
   },
   {
    "duration": 11,
    "start_time": "2022-08-17T13:15:16.492Z"
   },
   {
    "duration": 231,
    "start_time": "2022-08-17T13:15:31.015Z"
   },
   {
    "duration": 3,
    "start_time": "2022-08-17T13:20:56.400Z"
   },
   {
    "duration": 3,
    "start_time": "2022-08-17T13:21:17.606Z"
   },
   {
    "duration": 3,
    "start_time": "2022-08-17T13:22:09.775Z"
   },
   {
    "duration": 11,
    "start_time": "2022-08-17T13:24:15.341Z"
   },
   {
    "duration": 61,
    "start_time": "2022-08-17T13:26:56.222Z"
   },
   {
    "duration": 46,
    "start_time": "2022-08-17T13:27:07.918Z"
   },
   {
    "duration": 59,
    "start_time": "2022-08-17T13:28:38.757Z"
   },
   {
    "duration": 179,
    "start_time": "2022-08-17T13:28:44.204Z"
   },
   {
    "duration": 17,
    "start_time": "2022-08-17T13:28:55.453Z"
   },
   {
    "duration": 53,
    "start_time": "2022-08-17T13:29:10.007Z"
   },
   {
    "duration": 17,
    "start_time": "2022-08-17T13:29:22.461Z"
   },
   {
    "duration": 46,
    "start_time": "2022-08-17T13:29:25.838Z"
   },
   {
    "duration": 17,
    "start_time": "2022-08-17T13:29:27.120Z"
   },
   {
    "duration": 17,
    "start_time": "2022-08-17T13:30:07.953Z"
   },
   {
    "duration": 17,
    "start_time": "2022-08-17T13:30:25.608Z"
   },
   {
    "duration": 17,
    "start_time": "2022-08-17T13:31:20.191Z"
   },
   {
    "duration": 107,
    "start_time": "2022-08-17T13:31:44.644Z"
   },
   {
    "duration": 83,
    "start_time": "2022-08-17T13:31:57.868Z"
   },
   {
    "duration": 81,
    "start_time": "2022-08-17T13:33:12.893Z"
   },
   {
    "duration": 87,
    "start_time": "2022-08-17T13:33:21.955Z"
   },
   {
    "duration": 13,
    "start_time": "2022-08-17T13:34:07.726Z"
   },
   {
    "duration": 5,
    "start_time": "2022-08-17T13:35:23.916Z"
   },
   {
    "duration": 16,
    "start_time": "2022-08-17T13:35:28.675Z"
   },
   {
    "duration": 15,
    "start_time": "2022-08-17T13:35:38.676Z"
   },
   {
    "duration": 16,
    "start_time": "2022-08-17T13:35:48.644Z"
   },
   {
    "duration": 16,
    "start_time": "2022-08-17T13:36:05.897Z"
   },
   {
    "duration": 4,
    "start_time": "2022-08-17T13:37:25.211Z"
   },
   {
    "duration": 11,
    "start_time": "2022-08-17T13:38:20.108Z"
   },
   {
    "duration": 25,
    "start_time": "2022-08-17T13:38:29.723Z"
   },
   {
    "duration": 1340,
    "start_time": "2022-08-17T13:38:34.633Z"
   },
   {
    "duration": 1403,
    "start_time": "2022-08-17T13:39:16.369Z"
   },
   {
    "duration": 1472,
    "start_time": "2022-08-17T13:40:19.315Z"
   },
   {
    "duration": 1468,
    "start_time": "2022-08-17T13:40:40.156Z"
   },
   {
    "duration": 1273,
    "start_time": "2022-08-17T13:40:49.205Z"
   },
   {
    "duration": 1456,
    "start_time": "2022-08-17T13:41:03.339Z"
   },
   {
    "duration": 1545,
    "start_time": "2022-08-17T13:41:13.379Z"
   },
   {
    "duration": 1432,
    "start_time": "2022-08-17T13:41:38.955Z"
   },
   {
    "duration": 1338,
    "start_time": "2022-08-17T13:42:47.259Z"
   },
   {
    "duration": 1391,
    "start_time": "2022-08-17T13:43:07.399Z"
   },
   {
    "duration": 3,
    "start_time": "2022-08-17T13:44:57.201Z"
   },
   {
    "duration": 71,
    "start_time": "2022-08-17T13:50:13.794Z"
   },
   {
    "duration": 65,
    "start_time": "2022-08-17T13:50:31.403Z"
   },
   {
    "duration": 6,
    "start_time": "2022-08-17T13:51:03.258Z"
   },
   {
    "duration": 7,
    "start_time": "2022-08-17T13:51:35.276Z"
   },
   {
    "duration": 9,
    "start_time": "2022-08-17T13:52:14.882Z"
   },
   {
    "duration": 271,
    "start_time": "2022-08-17T13:53:20.324Z"
   },
   {
    "duration": 353,
    "start_time": "2022-08-17T13:53:38.411Z"
   },
   {
    "duration": 91,
    "start_time": "2022-08-17T14:07:57.927Z"
   },
   {
    "duration": 85,
    "start_time": "2022-08-17T14:08:09.464Z"
   },
   {
    "duration": 7,
    "start_time": "2022-08-17T14:09:32.714Z"
   },
   {
    "duration": 16,
    "start_time": "2022-08-17T14:10:11.655Z"
   },
   {
    "duration": 13,
    "start_time": "2022-08-17T14:11:30.984Z"
   },
   {
    "duration": 7,
    "start_time": "2022-08-17T14:11:41.680Z"
   },
   {
    "duration": 23,
    "start_time": "2022-08-17T14:12:19.815Z"
   },
   {
    "duration": 1262,
    "start_time": "2022-08-17T14:13:33.823Z"
   },
   {
    "duration": 1326,
    "start_time": "2022-08-17T14:13:49.759Z"
   },
   {
    "duration": 4,
    "start_time": "2022-08-17T14:17:56.594Z"
   },
   {
    "duration": 1125,
    "start_time": "2022-08-17T14:17:56.600Z"
   },
   {
    "duration": 3,
    "start_time": "2022-08-17T14:17:57.727Z"
   },
   {
    "duration": 399,
    "start_time": "2022-08-17T14:17:57.731Z"
   },
   {
    "duration": 454,
    "start_time": "2022-08-17T14:17:58.132Z"
   },
   {
    "duration": 86,
    "start_time": "2022-08-17T14:17:58.588Z"
   },
   {
    "duration": 78,
    "start_time": "2022-08-17T14:17:58.676Z"
   },
   {
    "duration": 43,
    "start_time": "2022-08-17T14:17:58.756Z"
   },
   {
    "duration": 31,
    "start_time": "2022-08-17T14:17:58.801Z"
   },
   {
    "duration": 184,
    "start_time": "2022-08-17T14:17:58.834Z"
   },
   {
    "duration": 41,
    "start_time": "2022-08-17T14:17:59.020Z"
   },
   {
    "duration": 51,
    "start_time": "2022-08-17T14:17:59.063Z"
   },
   {
    "duration": 37,
    "start_time": "2022-08-17T14:17:59.115Z"
   },
   {
    "duration": 9,
    "start_time": "2022-08-17T14:17:59.155Z"
   },
   {
    "duration": 332,
    "start_time": "2022-08-17T14:17:59.187Z"
   },
   {
    "duration": 10,
    "start_time": "2022-08-17T14:17:59.520Z"
   },
   {
    "duration": 3,
    "start_time": "2022-08-17T14:17:59.531Z"
   },
   {
    "duration": 291,
    "start_time": "2022-08-17T14:17:59.535Z"
   },
   {
    "duration": 255,
    "start_time": "2022-08-17T14:17:59.828Z"
   },
   {
    "duration": 37,
    "start_time": "2022-08-17T14:18:00.086Z"
   },
   {
    "duration": 2,
    "start_time": "2022-08-17T14:18:00.125Z"
   },
   {
    "duration": 31,
    "start_time": "2022-08-17T14:18:00.129Z"
   },
   {
    "duration": 63,
    "start_time": "2022-08-17T14:18:00.161Z"
   },
   {
    "duration": 90,
    "start_time": "2022-08-17T14:18:00.225Z"
   },
   {
    "duration": 157,
    "start_time": "2022-08-17T14:18:00.317Z"
   },
   {
    "duration": 26,
    "start_time": "2022-08-17T14:18:00.476Z"
   },
   {
    "duration": 50,
    "start_time": "2022-08-17T14:18:00.504Z"
   },
   {
    "duration": 82,
    "start_time": "2022-08-17T14:18:00.555Z"
   },
   {
    "duration": 11,
    "start_time": "2022-08-17T14:18:00.639Z"
   },
   {
    "duration": 171,
    "start_time": "2022-08-17T14:18:00.651Z"
   },
   {
    "duration": 3,
    "start_time": "2022-08-17T14:18:00.824Z"
   },
   {
    "duration": 1011,
    "start_time": "2022-08-17T14:18:00.829Z"
   },
   {
    "duration": 22,
    "start_time": "2022-08-17T14:18:01.842Z"
   },
   {
    "duration": 31,
    "start_time": "2022-08-17T14:18:01.865Z"
   },
   {
    "duration": 19,
    "start_time": "2022-08-17T14:18:01.898Z"
   },
   {
    "duration": 22,
    "start_time": "2022-08-17T14:18:01.919Z"
   },
   {
    "duration": 65,
    "start_time": "2022-08-17T14:18:01.943Z"
   },
   {
    "duration": 24,
    "start_time": "2022-08-17T14:18:02.010Z"
   },
   {
    "duration": 334,
    "start_time": "2022-08-17T14:18:02.036Z"
   },
   {
    "duration": 2,
    "start_time": "2022-08-17T14:18:02.372Z"
   },
   {
    "duration": 20,
    "start_time": "2022-08-17T14:18:02.379Z"
   },
   {
    "duration": 17,
    "start_time": "2022-08-17T14:18:02.401Z"
   },
   {
    "duration": 24,
    "start_time": "2022-08-17T14:18:02.419Z"
   },
   {
    "duration": 58,
    "start_time": "2022-08-17T14:18:02.446Z"
   },
   {
    "duration": 50,
    "start_time": "2022-08-17T14:18:02.506Z"
   },
   {
    "duration": 3,
    "start_time": "2022-08-17T14:18:02.558Z"
   },
   {
    "duration": 25,
    "start_time": "2022-08-17T14:18:02.563Z"
   },
   {
    "duration": 2,
    "start_time": "2022-08-17T14:18:02.590Z"
   },
   {
    "duration": 17,
    "start_time": "2022-08-17T14:18:02.593Z"
   },
   {
    "duration": 17,
    "start_time": "2022-08-17T14:18:02.612Z"
   },
   {
    "duration": 11,
    "start_time": "2022-08-17T14:18:02.631Z"
   },
   {
    "duration": 28,
    "start_time": "2022-08-17T14:18:02.643Z"
   },
   {
    "duration": 4,
    "start_time": "2022-08-17T14:18:02.673Z"
   },
   {
    "duration": 15,
    "start_time": "2022-08-17T14:18:02.678Z"
   },
   {
    "duration": 12,
    "start_time": "2022-08-17T14:18:02.694Z"
   },
   {
    "duration": 10,
    "start_time": "2022-08-17T14:18:02.707Z"
   },
   {
    "duration": 47,
    "start_time": "2022-08-17T14:18:02.719Z"
   },
   {
    "duration": 50,
    "start_time": "2022-08-17T14:18:02.768Z"
   },
   {
    "duration": 135,
    "start_time": "2022-08-17T14:18:02.820Z"
   },
   {
    "duration": 16,
    "start_time": "2022-08-17T14:18:02.957Z"
   },
   {
    "duration": 17,
    "start_time": "2022-08-17T14:18:02.987Z"
   },
   {
    "duration": 9,
    "start_time": "2022-08-17T14:18:03.005Z"
   },
   {
    "duration": 26,
    "start_time": "2022-08-17T14:18:03.016Z"
   },
   {
    "duration": 269,
    "start_time": "2022-08-17T14:18:03.044Z"
   },
   {
    "duration": 0,
    "start_time": "2022-08-17T14:18:03.315Z"
   },
   {
    "duration": 0,
    "start_time": "2022-08-17T14:18:03.316Z"
   },
   {
    "duration": 0,
    "start_time": "2022-08-17T14:18:03.317Z"
   },
   {
    "duration": 0,
    "start_time": "2022-08-17T14:18:03.318Z"
   },
   {
    "duration": 0,
    "start_time": "2022-08-17T14:18:03.320Z"
   },
   {
    "duration": 0,
    "start_time": "2022-08-17T14:18:03.321Z"
   },
   {
    "duration": 0,
    "start_time": "2022-08-17T14:18:03.322Z"
   },
   {
    "duration": 0,
    "start_time": "2022-08-17T14:18:03.323Z"
   },
   {
    "duration": 0,
    "start_time": "2022-08-17T14:18:03.324Z"
   },
   {
    "duration": 0,
    "start_time": "2022-08-17T14:18:03.325Z"
   },
   {
    "duration": 1,
    "start_time": "2022-08-17T14:18:03.326Z"
   },
   {
    "duration": 0,
    "start_time": "2022-08-17T14:18:03.328Z"
   },
   {
    "duration": 0,
    "start_time": "2022-08-17T14:18:03.329Z"
   },
   {
    "duration": 0,
    "start_time": "2022-08-17T14:18:03.330Z"
   },
   {
    "duration": 0,
    "start_time": "2022-08-17T14:18:03.331Z"
   },
   {
    "duration": 3,
    "start_time": "2022-08-17T14:19:03.556Z"
   },
   {
    "duration": 1144,
    "start_time": "2022-08-17T14:19:03.560Z"
   },
   {
    "duration": 3,
    "start_time": "2022-08-17T14:19:04.706Z"
   },
   {
    "duration": 305,
    "start_time": "2022-08-17T14:19:04.710Z"
   },
   {
    "duration": 420,
    "start_time": "2022-08-17T14:19:05.017Z"
   },
   {
    "duration": 121,
    "start_time": "2022-08-17T14:19:05.438Z"
   },
   {
    "duration": 76,
    "start_time": "2022-08-17T14:19:05.561Z"
   },
   {
    "duration": 26,
    "start_time": "2022-08-17T14:19:05.639Z"
   },
   {
    "duration": 45,
    "start_time": "2022-08-17T14:19:05.667Z"
   },
   {
    "duration": 193,
    "start_time": "2022-08-17T14:19:05.714Z"
   },
   {
    "duration": 41,
    "start_time": "2022-08-17T14:19:05.909Z"
   },
   {
    "duration": 53,
    "start_time": "2022-08-17T14:19:05.952Z"
   },
   {
    "duration": 46,
    "start_time": "2022-08-17T14:19:06.007Z"
   },
   {
    "duration": 32,
    "start_time": "2022-08-17T14:19:06.058Z"
   },
   {
    "duration": 448,
    "start_time": "2022-08-17T14:19:06.091Z"
   },
   {
    "duration": 9,
    "start_time": "2022-08-17T14:19:06.541Z"
   },
   {
    "duration": 5,
    "start_time": "2022-08-17T14:19:06.552Z"
   },
   {
    "duration": 308,
    "start_time": "2022-08-17T14:19:06.558Z"
   },
   {
    "duration": 255,
    "start_time": "2022-08-17T14:19:06.868Z"
   },
   {
    "duration": 40,
    "start_time": "2022-08-17T14:19:07.124Z"
   },
   {
    "duration": 2,
    "start_time": "2022-08-17T14:19:07.166Z"
   },
   {
    "duration": 41,
    "start_time": "2022-08-17T14:19:07.169Z"
   },
   {
    "duration": 40,
    "start_time": "2022-08-17T14:19:07.212Z"
   },
   {
    "duration": 96,
    "start_time": "2022-08-17T14:19:07.253Z"
   },
   {
    "duration": 162,
    "start_time": "2022-08-17T14:19:07.350Z"
   },
   {
    "duration": 29,
    "start_time": "2022-08-17T14:19:07.513Z"
   },
   {
    "duration": 67,
    "start_time": "2022-08-17T14:19:07.543Z"
   },
   {
    "duration": 88,
    "start_time": "2022-08-17T14:19:07.612Z"
   },
   {
    "duration": 12,
    "start_time": "2022-08-17T14:19:07.702Z"
   },
   {
    "duration": 172,
    "start_time": "2022-08-17T14:19:07.715Z"
   },
   {
    "duration": 4,
    "start_time": "2022-08-17T14:19:07.888Z"
   },
   {
    "duration": 986,
    "start_time": "2022-08-17T14:19:07.893Z"
   },
   {
    "duration": 23,
    "start_time": "2022-08-17T14:19:08.880Z"
   },
   {
    "duration": 15,
    "start_time": "2022-08-17T14:19:08.904Z"
   },
   {
    "duration": 29,
    "start_time": "2022-08-17T14:19:08.920Z"
   },
   {
    "duration": 39,
    "start_time": "2022-08-17T14:19:08.950Z"
   },
   {
    "duration": 72,
    "start_time": "2022-08-17T14:19:08.990Z"
   },
   {
    "duration": 20,
    "start_time": "2022-08-17T14:19:09.064Z"
   },
   {
    "duration": 297,
    "start_time": "2022-08-17T14:19:09.085Z"
   },
   {
    "duration": 3,
    "start_time": "2022-08-17T14:19:09.383Z"
   },
   {
    "duration": 31,
    "start_time": "2022-08-17T14:19:09.390Z"
   },
   {
    "duration": 30,
    "start_time": "2022-08-17T14:19:09.423Z"
   },
   {
    "duration": 30,
    "start_time": "2022-08-17T14:19:09.455Z"
   },
   {
    "duration": 67,
    "start_time": "2022-08-17T14:19:09.486Z"
   },
   {
    "duration": 51,
    "start_time": "2022-08-17T14:19:09.555Z"
   },
   {
    "duration": 3,
    "start_time": "2022-08-17T14:19:09.608Z"
   },
   {
    "duration": 22,
    "start_time": "2022-08-17T14:19:09.613Z"
   },
   {
    "duration": 21,
    "start_time": "2022-08-17T14:19:09.637Z"
   },
   {
    "duration": 32,
    "start_time": "2022-08-17T14:19:09.659Z"
   },
   {
    "duration": 40,
    "start_time": "2022-08-17T14:19:09.693Z"
   },
   {
    "duration": 13,
    "start_time": "2022-08-17T14:19:09.735Z"
   },
   {
    "duration": 30,
    "start_time": "2022-08-17T14:19:09.750Z"
   },
   {
    "duration": 28,
    "start_time": "2022-08-17T14:19:09.782Z"
   },
   {
    "duration": 40,
    "start_time": "2022-08-17T14:19:09.812Z"
   },
   {
    "duration": 28,
    "start_time": "2022-08-17T14:19:09.854Z"
   },
   {
    "duration": 42,
    "start_time": "2022-08-17T14:19:09.884Z"
   },
   {
    "duration": 50,
    "start_time": "2022-08-17T14:19:09.928Z"
   },
   {
    "duration": 54,
    "start_time": "2022-08-17T14:19:09.980Z"
   },
   {
    "duration": 125,
    "start_time": "2022-08-17T14:19:10.036Z"
   },
   {
    "duration": 24,
    "start_time": "2022-08-17T14:19:10.163Z"
   },
   {
    "duration": 34,
    "start_time": "2022-08-17T14:19:10.189Z"
   },
   {
    "duration": 26,
    "start_time": "2022-08-17T14:19:10.225Z"
   },
   {
    "duration": 58,
    "start_time": "2022-08-17T14:19:10.253Z"
   },
   {
    "duration": 1401,
    "start_time": "2022-08-17T14:19:10.313Z"
   },
   {
    "duration": 88,
    "start_time": "2022-08-17T14:19:11.716Z"
   },
   {
    "duration": 6,
    "start_time": "2022-08-17T14:19:11.806Z"
   },
   {
    "duration": 10,
    "start_time": "2022-08-17T14:19:11.813Z"
   },
   {
    "duration": 22,
    "start_time": "2022-08-17T14:19:11.824Z"
   },
   {
    "duration": 1437,
    "start_time": "2022-08-17T14:19:11.848Z"
   },
   {
    "duration": 68,
    "start_time": "2022-08-17T14:19:13.287Z"
   },
   {
    "duration": 6,
    "start_time": "2022-08-17T14:19:13.357Z"
   },
   {
    "duration": 28,
    "start_time": "2022-08-17T14:19:13.365Z"
   },
   {
    "duration": 17,
    "start_time": "2022-08-17T14:19:13.395Z"
   },
   {
    "duration": 273,
    "start_time": "2022-08-17T14:19:13.414Z"
   },
   {
    "duration": 2,
    "start_time": "2022-08-17T14:19:13.688Z"
   },
   {
    "duration": 8,
    "start_time": "2022-08-17T14:19:13.692Z"
   },
   {
    "duration": 11,
    "start_time": "2022-08-17T14:19:13.702Z"
   },
   {
    "duration": 9,
    "start_time": "2022-08-17T14:19:13.715Z"
   },
   {
    "duration": 5,
    "start_time": "2022-08-17T14:19:13.725Z"
   },
   {
    "duration": 275,
    "start_time": "2022-08-17T14:19:27.971Z"
   },
   {
    "duration": 263,
    "start_time": "2022-08-17T14:19:47.243Z"
   },
   {
    "duration": 72,
    "start_time": "2022-08-17T14:20:47.036Z"
   },
   {
    "duration": 4,
    "start_time": "2022-08-17T14:20:48.213Z"
   },
   {
    "duration": 5,
    "start_time": "2022-08-17T14:20:49.146Z"
   },
   {
    "duration": 11,
    "start_time": "2022-08-17T14:20:49.994Z"
   },
   {
    "duration": 252,
    "start_time": "2022-08-17T14:20:51.499Z"
   },
   {
    "duration": 63,
    "start_time": "2022-08-17T14:20:58.947Z"
   },
   {
    "duration": 6,
    "start_time": "2022-08-17T14:20:59.938Z"
   },
   {
    "duration": 7,
    "start_time": "2022-08-17T14:21:00.826Z"
   },
   {
    "duration": 10,
    "start_time": "2022-08-17T14:21:01.619Z"
   },
   {
    "duration": 320,
    "start_time": "2022-08-17T14:21:02.573Z"
   },
   {
    "duration": 4,
    "start_time": "2022-08-17T15:09:46.920Z"
   },
   {
    "duration": 1131,
    "start_time": "2022-08-17T15:09:46.926Z"
   },
   {
    "duration": 2,
    "start_time": "2022-08-17T15:09:48.059Z"
   },
   {
    "duration": 339,
    "start_time": "2022-08-17T15:09:48.063Z"
   },
   {
    "duration": 422,
    "start_time": "2022-08-17T15:09:48.403Z"
   },
   {
    "duration": 125,
    "start_time": "2022-08-17T15:09:48.826Z"
   },
   {
    "duration": 83,
    "start_time": "2022-08-17T15:09:48.953Z"
   },
   {
    "duration": 30,
    "start_time": "2022-08-17T15:09:49.038Z"
   },
   {
    "duration": 60,
    "start_time": "2022-08-17T15:09:49.070Z"
   },
   {
    "duration": 199,
    "start_time": "2022-08-17T15:09:49.133Z"
   },
   {
    "duration": 56,
    "start_time": "2022-08-17T15:09:49.334Z"
   },
   {
    "duration": 42,
    "start_time": "2022-08-17T15:09:49.391Z"
   },
   {
    "duration": 55,
    "start_time": "2022-08-17T15:09:49.434Z"
   },
   {
    "duration": 17,
    "start_time": "2022-08-17T15:09:49.490Z"
   },
   {
    "duration": 356,
    "start_time": "2022-08-17T15:09:49.508Z"
   },
   {
    "duration": 10,
    "start_time": "2022-08-17T15:09:49.866Z"
   },
   {
    "duration": 21,
    "start_time": "2022-08-17T15:09:49.877Z"
   },
   {
    "duration": 297,
    "start_time": "2022-08-17T15:09:49.900Z"
   },
   {
    "duration": 241,
    "start_time": "2022-08-17T15:09:50.199Z"
   },
   {
    "duration": 48,
    "start_time": "2022-08-17T15:09:50.441Z"
   },
   {
    "duration": 6,
    "start_time": "2022-08-17T15:09:50.491Z"
   },
   {
    "duration": 27,
    "start_time": "2022-08-17T15:09:50.498Z"
   },
   {
    "duration": 40,
    "start_time": "2022-08-17T15:09:50.527Z"
   },
   {
    "duration": 106,
    "start_time": "2022-08-17T15:09:50.569Z"
   },
   {
    "duration": 177,
    "start_time": "2022-08-17T15:09:50.677Z"
   },
   {
    "duration": 26,
    "start_time": "2022-08-17T15:09:50.856Z"
   },
   {
    "duration": 46,
    "start_time": "2022-08-17T15:09:50.887Z"
   },
   {
    "duration": 102,
    "start_time": "2022-08-17T15:09:50.938Z"
   },
   {
    "duration": 11,
    "start_time": "2022-08-17T15:09:51.042Z"
   },
   {
    "duration": 172,
    "start_time": "2022-08-17T15:09:51.054Z"
   },
   {
    "duration": 4,
    "start_time": "2022-08-17T15:09:51.228Z"
   },
   {
    "duration": 993,
    "start_time": "2022-08-17T15:09:51.233Z"
   },
   {
    "duration": 19,
    "start_time": "2022-08-17T15:09:52.228Z"
   },
   {
    "duration": 15,
    "start_time": "2022-08-17T15:09:52.248Z"
   },
   {
    "duration": 37,
    "start_time": "2022-08-17T15:09:52.264Z"
   },
   {
    "duration": 16,
    "start_time": "2022-08-17T15:09:52.303Z"
   },
   {
    "duration": 47,
    "start_time": "2022-08-17T15:09:52.320Z"
   },
   {
    "duration": 30,
    "start_time": "2022-08-17T15:09:52.369Z"
   },
   {
    "duration": 301,
    "start_time": "2022-08-17T15:09:52.401Z"
   },
   {
    "duration": 2,
    "start_time": "2022-08-17T15:09:52.704Z"
   },
   {
    "duration": 32,
    "start_time": "2022-08-17T15:09:52.708Z"
   },
   {
    "duration": 10,
    "start_time": "2022-08-17T15:09:52.742Z"
   },
   {
    "duration": 20,
    "start_time": "2022-08-17T15:09:52.753Z"
   },
   {
    "duration": 62,
    "start_time": "2022-08-17T15:09:52.775Z"
   },
   {
    "duration": 63,
    "start_time": "2022-08-17T15:09:52.838Z"
   },
   {
    "duration": 3,
    "start_time": "2022-08-17T15:09:52.902Z"
   },
   {
    "duration": 6,
    "start_time": "2022-08-17T15:09:52.907Z"
   },
   {
    "duration": 9,
    "start_time": "2022-08-17T15:09:52.915Z"
   },
   {
    "duration": 14,
    "start_time": "2022-08-17T15:09:52.925Z"
   },
   {
    "duration": 21,
    "start_time": "2022-08-17T15:09:52.940Z"
   },
   {
    "duration": 20,
    "start_time": "2022-08-17T15:09:52.962Z"
   },
   {
    "duration": 37,
    "start_time": "2022-08-17T15:09:52.983Z"
   },
   {
    "duration": 9,
    "start_time": "2022-08-17T15:09:53.021Z"
   },
   {
    "duration": 12,
    "start_time": "2022-08-17T15:09:53.031Z"
   },
   {
    "duration": 9,
    "start_time": "2022-08-17T15:09:53.045Z"
   },
   {
    "duration": 13,
    "start_time": "2022-08-17T15:09:53.055Z"
   },
   {
    "duration": 43,
    "start_time": "2022-08-17T15:09:53.070Z"
   },
   {
    "duration": 41,
    "start_time": "2022-08-17T15:09:53.115Z"
   },
   {
    "duration": 146,
    "start_time": "2022-08-17T15:09:53.157Z"
   },
   {
    "duration": 12,
    "start_time": "2022-08-17T15:09:53.304Z"
   },
   {
    "duration": 22,
    "start_time": "2022-08-17T15:09:53.317Z"
   },
   {
    "duration": 14,
    "start_time": "2022-08-17T15:09:53.340Z"
   },
   {
    "duration": 46,
    "start_time": "2022-08-17T15:09:53.356Z"
   },
   {
    "duration": 1426,
    "start_time": "2022-08-17T15:09:53.404Z"
   },
   {
    "duration": 93,
    "start_time": "2022-08-17T15:09:54.832Z"
   },
   {
    "duration": 7,
    "start_time": "2022-08-17T15:09:54.927Z"
   },
   {
    "duration": 26,
    "start_time": "2022-08-17T15:09:54.935Z"
   },
   {
    "duration": 43,
    "start_time": "2022-08-17T15:09:54.962Z"
   },
   {
    "duration": 1423,
    "start_time": "2022-08-17T15:09:55.007Z"
   },
   {
    "duration": 83,
    "start_time": "2022-08-17T15:09:56.432Z"
   },
   {
    "duration": 6,
    "start_time": "2022-08-17T15:09:56.517Z"
   },
   {
    "duration": 16,
    "start_time": "2022-08-17T15:09:56.525Z"
   },
   {
    "duration": 17,
    "start_time": "2022-08-17T15:09:56.542Z"
   },
   {
    "duration": 312,
    "start_time": "2022-08-17T15:09:56.561Z"
   },
   {
    "duration": 2,
    "start_time": "2022-08-17T15:09:56.875Z"
   },
   {
    "duration": 14,
    "start_time": "2022-08-17T15:09:56.886Z"
   },
   {
    "duration": 11,
    "start_time": "2022-08-17T15:09:56.902Z"
   },
   {
    "duration": 5,
    "start_time": "2022-08-17T15:09:56.915Z"
   },
   {
    "duration": 6,
    "start_time": "2022-08-17T15:09:56.921Z"
   },
   {
    "duration": 16,
    "start_time": "2022-08-17T15:39:03.542Z"
   },
   {
    "duration": 15,
    "start_time": "2022-08-17T15:39:11.399Z"
   },
   {
    "duration": 4,
    "start_time": "2022-08-17T15:39:19.508Z"
   },
   {
    "duration": 1100,
    "start_time": "2022-08-17T15:39:19.514Z"
   },
   {
    "duration": 3,
    "start_time": "2022-08-17T15:39:20.615Z"
   },
   {
    "duration": 293,
    "start_time": "2022-08-17T15:39:20.620Z"
   },
   {
    "duration": 417,
    "start_time": "2022-08-17T15:39:20.915Z"
   },
   {
    "duration": 105,
    "start_time": "2022-08-17T15:39:21.334Z"
   },
   {
    "duration": 79,
    "start_time": "2022-08-17T15:39:21.441Z"
   },
   {
    "duration": 23,
    "start_time": "2022-08-17T15:39:21.522Z"
   },
   {
    "duration": 53,
    "start_time": "2022-08-17T15:39:21.547Z"
   },
   {
    "duration": 167,
    "start_time": "2022-08-17T15:39:21.603Z"
   },
   {
    "duration": 55,
    "start_time": "2022-08-17T15:39:21.771Z"
   },
   {
    "duration": 38,
    "start_time": "2022-08-17T15:39:21.828Z"
   },
   {
    "duration": 60,
    "start_time": "2022-08-17T15:39:21.868Z"
   },
   {
    "duration": 16,
    "start_time": "2022-08-17T15:39:21.929Z"
   },
   {
    "duration": 397,
    "start_time": "2022-08-17T15:39:21.947Z"
   },
   {
    "duration": 10,
    "start_time": "2022-08-17T15:39:22.346Z"
   },
   {
    "duration": 4,
    "start_time": "2022-08-17T15:39:22.357Z"
   },
   {
    "duration": 299,
    "start_time": "2022-08-17T15:39:22.362Z"
   },
   {
    "duration": 259,
    "start_time": "2022-08-17T15:39:22.663Z"
   },
   {
    "duration": 39,
    "start_time": "2022-08-17T15:39:22.924Z"
   },
   {
    "duration": 2,
    "start_time": "2022-08-17T15:39:22.965Z"
   },
   {
    "duration": 45,
    "start_time": "2022-08-17T15:39:22.969Z"
   },
   {
    "duration": 40,
    "start_time": "2022-08-17T15:39:23.016Z"
   },
   {
    "duration": 103,
    "start_time": "2022-08-17T15:39:23.057Z"
   },
   {
    "duration": 161,
    "start_time": "2022-08-17T15:39:23.162Z"
   },
   {
    "duration": 25,
    "start_time": "2022-08-17T15:39:23.325Z"
   },
   {
    "duration": 57,
    "start_time": "2022-08-17T15:39:23.352Z"
   },
   {
    "duration": 93,
    "start_time": "2022-08-17T15:39:23.414Z"
   },
   {
    "duration": 13,
    "start_time": "2022-08-17T15:39:23.509Z"
   },
   {
    "duration": 181,
    "start_time": "2022-08-17T15:39:23.524Z"
   },
   {
    "duration": 5,
    "start_time": "2022-08-17T15:39:23.707Z"
   },
   {
    "duration": 1036,
    "start_time": "2022-08-17T15:39:23.714Z"
   },
   {
    "duration": 20,
    "start_time": "2022-08-17T15:39:24.752Z"
   },
   {
    "duration": 33,
    "start_time": "2022-08-17T15:39:24.773Z"
   },
   {
    "duration": 12,
    "start_time": "2022-08-17T15:39:24.808Z"
   },
   {
    "duration": 13,
    "start_time": "2022-08-17T15:39:24.821Z"
   },
   {
    "duration": 67,
    "start_time": "2022-08-17T15:39:24.835Z"
   },
   {
    "duration": 19,
    "start_time": "2022-08-17T15:39:24.904Z"
   },
   {
    "duration": 350,
    "start_time": "2022-08-17T15:39:24.924Z"
   },
   {
    "duration": 2,
    "start_time": "2022-08-17T15:39:25.276Z"
   },
   {
    "duration": 32,
    "start_time": "2022-08-17T15:39:25.279Z"
   },
   {
    "duration": 9,
    "start_time": "2022-08-17T15:39:25.312Z"
   },
   {
    "duration": 14,
    "start_time": "2022-08-17T15:39:25.323Z"
   },
   {
    "duration": 66,
    "start_time": "2022-08-17T15:39:25.339Z"
   },
   {
    "duration": 48,
    "start_time": "2022-08-17T15:39:25.407Z"
   },
   {
    "duration": 3,
    "start_time": "2022-08-17T15:39:25.456Z"
   },
   {
    "duration": 7,
    "start_time": "2022-08-17T15:39:25.460Z"
   },
   {
    "duration": 4,
    "start_time": "2022-08-17T15:39:25.468Z"
   },
   {
    "duration": 4,
    "start_time": "2022-08-17T15:39:25.495Z"
   },
   {
    "duration": 15,
    "start_time": "2022-08-17T15:39:25.501Z"
   },
   {
    "duration": 11,
    "start_time": "2022-08-17T15:39:25.518Z"
   },
   {
    "duration": 18,
    "start_time": "2022-08-17T15:39:25.530Z"
   },
   {
    "duration": 3,
    "start_time": "2022-08-17T15:39:25.550Z"
   },
   {
    "duration": 12,
    "start_time": "2022-08-17T15:39:25.554Z"
   },
   {
    "duration": 28,
    "start_time": "2022-08-17T15:39:25.567Z"
   },
   {
    "duration": 10,
    "start_time": "2022-08-17T15:39:25.597Z"
   },
   {
    "duration": 36,
    "start_time": "2022-08-17T15:39:25.609Z"
   },
   {
    "duration": 56,
    "start_time": "2022-08-17T15:39:25.647Z"
   },
   {
    "duration": 131,
    "start_time": "2022-08-17T15:39:25.705Z"
   },
   {
    "duration": 11,
    "start_time": "2022-08-17T15:39:25.838Z"
   },
   {
    "duration": 19,
    "start_time": "2022-08-17T15:39:25.851Z"
   },
   {
    "duration": 23,
    "start_time": "2022-08-17T15:39:25.871Z"
   },
   {
    "duration": 29,
    "start_time": "2022-08-17T15:39:25.896Z"
   },
   {
    "duration": 1476,
    "start_time": "2022-08-17T15:39:25.927Z"
   },
   {
    "duration": 92,
    "start_time": "2022-08-17T15:39:27.405Z"
   },
   {
    "duration": 7,
    "start_time": "2022-08-17T15:39:27.499Z"
   },
   {
    "duration": 8,
    "start_time": "2022-08-17T15:39:27.507Z"
   },
   {
    "duration": 22,
    "start_time": "2022-08-17T15:39:27.517Z"
   },
   {
    "duration": 1367,
    "start_time": "2022-08-17T15:39:27.541Z"
   },
   {
    "duration": 66,
    "start_time": "2022-08-17T15:39:28.910Z"
   },
   {
    "duration": 6,
    "start_time": "2022-08-17T15:39:28.993Z"
   },
   {
    "duration": 7,
    "start_time": "2022-08-17T15:39:29.001Z"
   },
   {
    "duration": 12,
    "start_time": "2022-08-17T15:39:29.010Z"
   },
   {
    "duration": 255,
    "start_time": "2022-08-17T15:39:29.023Z"
   },
   {
    "duration": 2,
    "start_time": "2022-08-17T15:39:29.286Z"
   },
   {
    "duration": 17,
    "start_time": "2022-08-17T15:39:29.302Z"
   },
   {
    "duration": 23,
    "start_time": "2022-08-17T15:39:29.321Z"
   },
   {
    "duration": 23,
    "start_time": "2022-08-17T15:39:29.346Z"
   },
   {
    "duration": 9,
    "start_time": "2022-08-17T15:39:29.371Z"
   },
   {
    "duration": 8,
    "start_time": "2022-08-17T15:39:50.202Z"
   },
   {
    "duration": 7,
    "start_time": "2022-08-17T15:40:03.695Z"
   },
   {
    "duration": 1127,
    "start_time": "2022-08-17T15:40:03.705Z"
   },
   {
    "duration": 4,
    "start_time": "2022-08-17T15:40:04.834Z"
   },
   {
    "duration": 399,
    "start_time": "2022-08-17T15:40:04.839Z"
   },
   {
    "duration": 462,
    "start_time": "2022-08-17T15:40:05.241Z"
   },
   {
    "duration": 105,
    "start_time": "2022-08-17T15:40:05.705Z"
   },
   {
    "duration": 87,
    "start_time": "2022-08-17T15:40:05.812Z"
   },
   {
    "duration": 27,
    "start_time": "2022-08-17T15:40:05.900Z"
   },
   {
    "duration": 31,
    "start_time": "2022-08-17T15:40:05.929Z"
   },
   {
    "duration": 246,
    "start_time": "2022-08-17T15:40:05.961Z"
   },
   {
    "duration": 49,
    "start_time": "2022-08-17T15:40:06.208Z"
   },
   {
    "duration": 54,
    "start_time": "2022-08-17T15:40:06.259Z"
   },
   {
    "duration": 48,
    "start_time": "2022-08-17T15:40:06.315Z"
   },
   {
    "duration": 49,
    "start_time": "2022-08-17T15:40:06.368Z"
   },
   {
    "duration": 406,
    "start_time": "2022-08-17T15:40:06.419Z"
   },
   {
    "duration": 10,
    "start_time": "2022-08-17T15:40:06.826Z"
   },
   {
    "duration": 32,
    "start_time": "2022-08-17T15:40:06.837Z"
   },
   {
    "duration": 308,
    "start_time": "2022-08-17T15:40:06.870Z"
   },
   {
    "duration": 258,
    "start_time": "2022-08-17T15:40:07.180Z"
   },
   {
    "duration": 61,
    "start_time": "2022-08-17T15:40:07.440Z"
   },
   {
    "duration": 3,
    "start_time": "2022-08-17T15:40:07.503Z"
   },
   {
    "duration": 56,
    "start_time": "2022-08-17T15:40:07.508Z"
   },
   {
    "duration": 48,
    "start_time": "2022-08-17T15:40:07.567Z"
   },
   {
    "duration": 100,
    "start_time": "2022-08-17T15:40:07.617Z"
   },
   {
    "duration": 170,
    "start_time": "2022-08-17T15:40:07.719Z"
   },
   {
    "duration": 32,
    "start_time": "2022-08-17T15:40:07.890Z"
   },
   {
    "duration": 44,
    "start_time": "2022-08-17T15:40:07.924Z"
   },
   {
    "duration": 101,
    "start_time": "2022-08-17T15:40:07.969Z"
   },
   {
    "duration": 15,
    "start_time": "2022-08-17T15:40:08.072Z"
   },
   {
    "duration": 161,
    "start_time": "2022-08-17T15:40:08.099Z"
   },
   {
    "duration": 4,
    "start_time": "2022-08-17T15:40:08.261Z"
   },
   {
    "duration": 1049,
    "start_time": "2022-08-17T15:40:08.266Z"
   },
   {
    "duration": 21,
    "start_time": "2022-08-17T15:40:09.317Z"
   },
   {
    "duration": 13,
    "start_time": "2022-08-17T15:40:09.339Z"
   },
   {
    "duration": 36,
    "start_time": "2022-08-17T15:40:09.354Z"
   },
   {
    "duration": 10,
    "start_time": "2022-08-17T15:40:09.398Z"
   },
   {
    "duration": 48,
    "start_time": "2022-08-17T15:40:09.409Z"
   },
   {
    "duration": 35,
    "start_time": "2022-08-17T15:40:09.458Z"
   },
   {
    "duration": 328,
    "start_time": "2022-08-17T15:40:09.494Z"
   },
   {
    "duration": 2,
    "start_time": "2022-08-17T15:40:09.824Z"
   },
   {
    "duration": 21,
    "start_time": "2022-08-17T15:40:09.830Z"
   },
   {
    "duration": 10,
    "start_time": "2022-08-17T15:40:09.853Z"
   },
   {
    "duration": 13,
    "start_time": "2022-08-17T15:40:09.865Z"
   },
   {
    "duration": 56,
    "start_time": "2022-08-17T15:40:09.880Z"
   },
   {
    "duration": 61,
    "start_time": "2022-08-17T15:40:09.938Z"
   },
   {
    "duration": 3,
    "start_time": "2022-08-17T15:40:10.002Z"
   },
   {
    "duration": 12,
    "start_time": "2022-08-17T15:40:10.007Z"
   },
   {
    "duration": 13,
    "start_time": "2022-08-17T15:40:10.021Z"
   },
   {
    "duration": 8,
    "start_time": "2022-08-17T15:40:10.036Z"
   },
   {
    "duration": 16,
    "start_time": "2022-08-17T15:40:10.046Z"
   },
   {
    "duration": 11,
    "start_time": "2022-08-17T15:40:10.064Z"
   },
   {
    "duration": 23,
    "start_time": "2022-08-17T15:40:10.087Z"
   },
   {
    "duration": 3,
    "start_time": "2022-08-17T15:40:10.112Z"
   },
   {
    "duration": 21,
    "start_time": "2022-08-17T15:40:10.117Z"
   },
   {
    "duration": 16,
    "start_time": "2022-08-17T15:40:10.139Z"
   },
   {
    "duration": 9,
    "start_time": "2022-08-17T15:40:10.156Z"
   },
   {
    "duration": 51,
    "start_time": "2022-08-17T15:40:10.167Z"
   },
   {
    "duration": 46,
    "start_time": "2022-08-17T15:40:10.219Z"
   },
   {
    "duration": 151,
    "start_time": "2022-08-17T15:40:10.267Z"
   },
   {
    "duration": 11,
    "start_time": "2022-08-17T15:40:10.420Z"
   },
   {
    "duration": 15,
    "start_time": "2022-08-17T15:40:10.432Z"
   },
   {
    "duration": 5,
    "start_time": "2022-08-17T15:40:10.450Z"
   },
   {
    "duration": 56,
    "start_time": "2022-08-17T15:40:10.456Z"
   },
   {
    "duration": 1485,
    "start_time": "2022-08-17T15:40:10.513Z"
   },
   {
    "duration": 94,
    "start_time": "2022-08-17T15:40:12.000Z"
   },
   {
    "duration": 8,
    "start_time": "2022-08-17T15:40:12.096Z"
   },
   {
    "duration": 9,
    "start_time": "2022-08-17T15:40:12.106Z"
   },
   {
    "duration": 22,
    "start_time": "2022-08-17T15:40:12.117Z"
   },
   {
    "duration": 1437,
    "start_time": "2022-08-17T15:40:12.140Z"
   },
   {
    "duration": 74,
    "start_time": "2022-08-17T15:40:13.578Z"
   },
   {
    "duration": 4,
    "start_time": "2022-08-17T15:40:13.654Z"
   },
   {
    "duration": 21,
    "start_time": "2022-08-17T15:40:13.660Z"
   },
   {
    "duration": 36,
    "start_time": "2022-08-17T15:40:13.682Z"
   },
   {
    "duration": 319,
    "start_time": "2022-08-17T15:40:13.720Z"
   },
   {
    "duration": 2,
    "start_time": "2022-08-17T15:40:14.041Z"
   },
   {
    "duration": 26,
    "start_time": "2022-08-17T15:40:14.045Z"
   },
   {
    "duration": 34,
    "start_time": "2022-08-17T15:40:14.073Z"
   },
   {
    "duration": 11,
    "start_time": "2022-08-17T15:40:14.108Z"
   },
   {
    "duration": 19,
    "start_time": "2022-08-17T15:40:14.120Z"
   },
   {
    "duration": 53,
    "start_time": "2022-08-18T10:57:21.509Z"
   },
   {
    "duration": 4,
    "start_time": "2022-08-18T10:57:29.512Z"
   },
   {
    "duration": 1430,
    "start_time": "2022-08-18T10:57:29.518Z"
   },
   {
    "duration": 3,
    "start_time": "2022-08-18T10:57:30.950Z"
   },
   {
    "duration": 1084,
    "start_time": "2022-08-18T10:57:30.955Z"
   },
   {
    "duration": 480,
    "start_time": "2022-08-18T10:57:32.042Z"
   },
   {
    "duration": 115,
    "start_time": "2022-08-18T10:57:32.524Z"
   },
   {
    "duration": 86,
    "start_time": "2022-08-18T10:57:32.640Z"
   },
   {
    "duration": 29,
    "start_time": "2022-08-18T10:57:32.728Z"
   },
   {
    "duration": 52,
    "start_time": "2022-08-18T10:57:32.759Z"
   },
   {
    "duration": 215,
    "start_time": "2022-08-18T10:57:32.812Z"
   },
   {
    "duration": 49,
    "start_time": "2022-08-18T10:57:33.029Z"
   },
   {
    "duration": 56,
    "start_time": "2022-08-18T10:57:33.080Z"
   },
   {
    "duration": 61,
    "start_time": "2022-08-18T10:57:33.139Z"
   },
   {
    "duration": 13,
    "start_time": "2022-08-18T10:57:33.202Z"
   },
   {
    "duration": 394,
    "start_time": "2022-08-18T10:57:33.217Z"
   },
   {
    "duration": 11,
    "start_time": "2022-08-18T10:57:33.613Z"
   },
   {
    "duration": 3,
    "start_time": "2022-08-18T10:57:33.626Z"
   },
   {
    "duration": 330,
    "start_time": "2022-08-18T10:57:33.630Z"
   },
   {
    "duration": 290,
    "start_time": "2022-08-18T10:57:33.962Z"
   },
   {
    "duration": 49,
    "start_time": "2022-08-18T10:57:34.254Z"
   },
   {
    "duration": 2,
    "start_time": "2022-08-18T10:57:34.305Z"
   },
   {
    "duration": 32,
    "start_time": "2022-08-18T10:57:34.309Z"
   },
   {
    "duration": 87,
    "start_time": "2022-08-18T10:57:34.344Z"
   },
   {
    "duration": 111,
    "start_time": "2022-08-18T10:57:34.433Z"
   },
   {
    "duration": 199,
    "start_time": "2022-08-18T10:57:34.546Z"
   },
   {
    "duration": 31,
    "start_time": "2022-08-18T10:57:34.746Z"
   },
   {
    "duration": 48,
    "start_time": "2022-08-18T10:57:34.791Z"
   },
   {
    "duration": 102,
    "start_time": "2022-08-18T10:57:34.840Z"
   },
   {
    "duration": 12,
    "start_time": "2022-08-18T10:57:34.944Z"
   },
   {
    "duration": 187,
    "start_time": "2022-08-18T10:57:34.958Z"
   },
   {
    "duration": 5,
    "start_time": "2022-08-18T10:57:35.147Z"
   },
   {
    "duration": 1116,
    "start_time": "2022-08-18T10:57:35.154Z"
   },
   {
    "duration": 34,
    "start_time": "2022-08-18T10:57:36.272Z"
   },
   {
    "duration": 16,
    "start_time": "2022-08-18T10:57:36.308Z"
   },
   {
    "duration": 15,
    "start_time": "2022-08-18T10:57:36.326Z"
   },
   {
    "duration": 12,
    "start_time": "2022-08-18T10:57:36.343Z"
   },
   {
    "duration": 78,
    "start_time": "2022-08-18T10:57:36.361Z"
   },
   {
    "duration": 24,
    "start_time": "2022-08-18T10:57:36.440Z"
   },
   {
    "duration": 413,
    "start_time": "2022-08-18T10:57:36.466Z"
   },
   {
    "duration": 3,
    "start_time": "2022-08-18T10:57:36.882Z"
   },
   {
    "duration": 32,
    "start_time": "2022-08-18T10:57:36.887Z"
   },
   {
    "duration": 12,
    "start_time": "2022-08-18T10:57:36.921Z"
   },
   {
    "duration": 25,
    "start_time": "2022-08-18T10:57:36.934Z"
   },
   {
    "duration": 74,
    "start_time": "2022-08-18T10:57:36.961Z"
   },
   {
    "duration": 65,
    "start_time": "2022-08-18T10:57:37.037Z"
   },
   {
    "duration": 3,
    "start_time": "2022-08-18T10:57:37.103Z"
   },
   {
    "duration": 9,
    "start_time": "2022-08-18T10:57:37.107Z"
   },
   {
    "duration": 18,
    "start_time": "2022-08-18T10:57:37.118Z"
   },
   {
    "duration": 16,
    "start_time": "2022-08-18T10:57:37.138Z"
   },
   {
    "duration": 25,
    "start_time": "2022-08-18T10:57:37.155Z"
   },
   {
    "duration": 21,
    "start_time": "2022-08-18T10:57:37.182Z"
   },
   {
    "duration": 20,
    "start_time": "2022-08-18T10:57:37.204Z"
   },
   {
    "duration": 7,
    "start_time": "2022-08-18T10:57:37.227Z"
   },
   {
    "duration": 19,
    "start_time": "2022-08-18T10:57:37.237Z"
   },
   {
    "duration": 34,
    "start_time": "2022-08-18T10:57:37.259Z"
   },
   {
    "duration": 4,
    "start_time": "2022-08-18T10:57:37.296Z"
   },
   {
    "duration": 52,
    "start_time": "2022-08-18T10:57:37.302Z"
   },
   {
    "duration": 71,
    "start_time": "2022-08-18T10:57:37.356Z"
   },
   {
    "duration": 141,
    "start_time": "2022-08-18T10:57:37.429Z"
   },
   {
    "duration": 21,
    "start_time": "2022-08-18T10:57:37.572Z"
   },
   {
    "duration": 20,
    "start_time": "2022-08-18T10:57:37.594Z"
   },
   {
    "duration": 11,
    "start_time": "2022-08-18T10:57:37.616Z"
   },
   {
    "duration": 30,
    "start_time": "2022-08-18T10:57:37.629Z"
   },
   {
    "duration": 1630,
    "start_time": "2022-08-18T10:57:37.661Z"
   },
   {
    "duration": 117,
    "start_time": "2022-08-18T10:57:39.294Z"
   },
   {
    "duration": 8,
    "start_time": "2022-08-18T10:57:39.413Z"
   },
   {
    "duration": 17,
    "start_time": "2022-08-18T10:57:39.422Z"
   },
   {
    "duration": 36,
    "start_time": "2022-08-18T10:57:39.441Z"
   },
   {
    "duration": 1521,
    "start_time": "2022-08-18T10:57:39.479Z"
   },
   {
    "duration": 78,
    "start_time": "2022-08-18T10:57:41.001Z"
   },
   {
    "duration": 6,
    "start_time": "2022-08-18T10:57:41.092Z"
   },
   {
    "duration": 21,
    "start_time": "2022-08-18T10:57:41.099Z"
   },
   {
    "duration": 25,
    "start_time": "2022-08-18T10:57:41.122Z"
   },
   {
    "duration": 312,
    "start_time": "2022-08-18T10:57:41.149Z"
   },
   {
    "duration": 3,
    "start_time": "2022-08-18T10:57:41.463Z"
   },
   {
    "duration": 17,
    "start_time": "2022-08-18T10:57:41.467Z"
   },
   {
    "duration": 22,
    "start_time": "2022-08-18T10:57:41.486Z"
   },
   {
    "duration": 26,
    "start_time": "2022-08-18T10:57:41.511Z"
   },
   {
    "duration": 32,
    "start_time": "2022-08-18T10:57:41.539Z"
   },
   {
    "duration": 22,
    "start_time": "2022-08-18T11:16:28.564Z"
   },
   {
    "duration": 326,
    "start_time": "2022-08-18T11:16:30.258Z"
   },
   {
    "duration": 5,
    "start_time": "2022-08-18T11:17:01.677Z"
   },
   {
    "duration": 1356,
    "start_time": "2022-08-18T11:17:01.684Z"
   },
   {
    "duration": 3,
    "start_time": "2022-08-18T11:17:03.042Z"
   },
   {
    "duration": 349,
    "start_time": "2022-08-18T11:17:03.047Z"
   },
   {
    "duration": 547,
    "start_time": "2022-08-18T11:17:03.400Z"
   },
   {
    "duration": 151,
    "start_time": "2022-08-18T11:17:03.949Z"
   },
   {
    "duration": 93,
    "start_time": "2022-08-18T11:17:04.103Z"
   },
   {
    "duration": 30,
    "start_time": "2022-08-18T11:17:04.198Z"
   },
   {
    "duration": 38,
    "start_time": "2022-08-18T11:17:04.230Z"
   },
   {
    "duration": 286,
    "start_time": "2022-08-18T11:17:04.270Z"
   },
   {
    "duration": 51,
    "start_time": "2022-08-18T11:17:04.558Z"
   },
   {
    "duration": 47,
    "start_time": "2022-08-18T11:17:04.611Z"
   },
   {
    "duration": 85,
    "start_time": "2022-08-18T11:17:04.661Z"
   },
   {
    "duration": 22,
    "start_time": "2022-08-18T11:17:04.752Z"
   },
   {
    "duration": 449,
    "start_time": "2022-08-18T11:17:04.776Z"
   },
   {
    "duration": 13,
    "start_time": "2022-08-18T11:17:05.227Z"
   },
   {
    "duration": 10,
    "start_time": "2022-08-18T11:17:05.242Z"
   },
   {
    "duration": 341,
    "start_time": "2022-08-18T11:17:05.253Z"
   },
   {
    "duration": 294,
    "start_time": "2022-08-18T11:17:05.596Z"
   },
   {
    "duration": 47,
    "start_time": "2022-08-18T11:17:05.893Z"
   },
   {
    "duration": 2,
    "start_time": "2022-08-18T11:17:05.942Z"
   },
   {
    "duration": 55,
    "start_time": "2022-08-18T11:17:05.946Z"
   },
   {
    "duration": 52,
    "start_time": "2022-08-18T11:17:06.003Z"
   },
   {
    "duration": 118,
    "start_time": "2022-08-18T11:17:06.058Z"
   },
   {
    "duration": 195,
    "start_time": "2022-08-18T11:17:06.178Z"
   },
   {
    "duration": 56,
    "start_time": "2022-08-18T11:17:06.376Z"
   },
   {
    "duration": 59,
    "start_time": "2022-08-18T11:17:06.434Z"
   },
   {
    "duration": 99,
    "start_time": "2022-08-18T11:17:06.495Z"
   },
   {
    "duration": 13,
    "start_time": "2022-08-18T11:17:06.596Z"
   },
   {
    "duration": 193,
    "start_time": "2022-08-18T11:17:06.611Z"
   },
   {
    "duration": 5,
    "start_time": "2022-08-18T11:17:06.806Z"
   },
   {
    "duration": 1196,
    "start_time": "2022-08-18T11:17:06.813Z"
   },
   {
    "duration": 40,
    "start_time": "2022-08-18T11:17:08.012Z"
   },
   {
    "duration": 47,
    "start_time": "2022-08-18T11:17:08.054Z"
   },
   {
    "duration": 20,
    "start_time": "2022-08-18T11:17:08.103Z"
   },
   {
    "duration": 12,
    "start_time": "2022-08-18T11:17:08.126Z"
   },
   {
    "duration": 81,
    "start_time": "2022-08-18T11:17:08.140Z"
   },
   {
    "duration": 28,
    "start_time": "2022-08-18T11:17:08.223Z"
   },
   {
    "duration": 370,
    "start_time": "2022-08-18T11:17:08.253Z"
   },
   {
    "duration": 3,
    "start_time": "2022-08-18T11:17:08.625Z"
   },
   {
    "duration": 55,
    "start_time": "2022-08-18T11:17:08.633Z"
   },
   {
    "duration": 15,
    "start_time": "2022-08-18T11:17:08.690Z"
   },
   {
    "duration": 41,
    "start_time": "2022-08-18T11:17:08.706Z"
   },
   {
    "duration": 62,
    "start_time": "2022-08-18T11:17:08.749Z"
   },
   {
    "duration": 60,
    "start_time": "2022-08-18T11:17:08.812Z"
   },
   {
    "duration": 17,
    "start_time": "2022-08-18T11:17:08.875Z"
   },
   {
    "duration": 16,
    "start_time": "2022-08-18T11:17:08.895Z"
   },
   {
    "duration": 18,
    "start_time": "2022-08-18T11:17:08.913Z"
   },
   {
    "duration": 29,
    "start_time": "2022-08-18T11:17:08.933Z"
   },
   {
    "duration": 23,
    "start_time": "2022-08-18T11:17:08.963Z"
   },
   {
    "duration": 21,
    "start_time": "2022-08-18T11:17:08.989Z"
   },
   {
    "duration": 21,
    "start_time": "2022-08-18T11:17:09.012Z"
   },
   {
    "duration": 4,
    "start_time": "2022-08-18T11:17:09.035Z"
   },
   {
    "duration": 28,
    "start_time": "2022-08-18T11:17:09.041Z"
   },
   {
    "duration": 21,
    "start_time": "2022-08-18T11:17:09.071Z"
   },
   {
    "duration": 24,
    "start_time": "2022-08-18T11:17:09.094Z"
   },
   {
    "duration": 61,
    "start_time": "2022-08-18T11:17:09.120Z"
   },
   {
    "duration": 49,
    "start_time": "2022-08-18T11:17:09.182Z"
   },
   {
    "duration": 135,
    "start_time": "2022-08-18T11:17:09.232Z"
   },
   {
    "duration": 30,
    "start_time": "2022-08-18T11:17:09.369Z"
   },
   {
    "duration": 21,
    "start_time": "2022-08-18T11:17:09.402Z"
   },
   {
    "duration": 33,
    "start_time": "2022-08-18T11:17:09.425Z"
   },
   {
    "duration": 39,
    "start_time": "2022-08-18T11:17:09.460Z"
   },
   {
    "duration": 285,
    "start_time": "2022-08-18T11:17:09.501Z"
   },
   {
    "duration": 0,
    "start_time": "2022-08-18T11:17:09.788Z"
   },
   {
    "duration": 0,
    "start_time": "2022-08-18T11:17:09.792Z"
   },
   {
    "duration": 0,
    "start_time": "2022-08-18T11:17:09.794Z"
   },
   {
    "duration": 0,
    "start_time": "2022-08-18T11:17:09.795Z"
   },
   {
    "duration": 0,
    "start_time": "2022-08-18T11:17:09.797Z"
   },
   {
    "duration": 0,
    "start_time": "2022-08-18T11:17:09.798Z"
   },
   {
    "duration": 0,
    "start_time": "2022-08-18T11:17:09.799Z"
   },
   {
    "duration": 0,
    "start_time": "2022-08-18T11:17:09.800Z"
   },
   {
    "duration": 0,
    "start_time": "2022-08-18T11:17:09.801Z"
   },
   {
    "duration": 0,
    "start_time": "2022-08-18T11:17:09.802Z"
   },
   {
    "duration": 0,
    "start_time": "2022-08-18T11:17:09.804Z"
   },
   {
    "duration": 0,
    "start_time": "2022-08-18T11:17:09.805Z"
   },
   {
    "duration": 0,
    "start_time": "2022-08-18T11:17:09.806Z"
   },
   {
    "duration": 0,
    "start_time": "2022-08-18T11:17:09.807Z"
   },
   {
    "duration": 0,
    "start_time": "2022-08-18T11:17:09.808Z"
   },
   {
    "duration": 121,
    "start_time": "2022-08-18T11:17:16.738Z"
   },
   {
    "duration": 1639,
    "start_time": "2022-08-18T11:17:18.131Z"
   },
   {
    "duration": 16,
    "start_time": "2022-08-18T11:18:53.096Z"
   },
   {
    "duration": 4,
    "start_time": "2022-08-18T11:20:33.003Z"
   },
   {
    "duration": 1276,
    "start_time": "2022-08-18T11:20:33.010Z"
   },
   {
    "duration": 4,
    "start_time": "2022-08-18T11:20:34.288Z"
   },
   {
    "duration": 407,
    "start_time": "2022-08-18T11:20:34.294Z"
   },
   {
    "duration": 519,
    "start_time": "2022-08-18T11:20:34.703Z"
   },
   {
    "duration": 118,
    "start_time": "2022-08-18T11:20:35.224Z"
   },
   {
    "duration": 88,
    "start_time": "2022-08-18T11:20:35.344Z"
   },
   {
    "duration": 30,
    "start_time": "2022-08-18T11:20:35.433Z"
   },
   {
    "duration": 55,
    "start_time": "2022-08-18T11:20:35.464Z"
   },
   {
    "duration": 230,
    "start_time": "2022-08-18T11:20:35.521Z"
   },
   {
    "duration": 58,
    "start_time": "2022-08-18T11:20:35.753Z"
   },
   {
    "duration": 45,
    "start_time": "2022-08-18T11:20:35.813Z"
   },
   {
    "duration": 60,
    "start_time": "2022-08-18T11:20:35.860Z"
   },
   {
    "duration": 14,
    "start_time": "2022-08-18T11:20:35.924Z"
   },
   {
    "duration": 440,
    "start_time": "2022-08-18T11:20:35.940Z"
   },
   {
    "duration": 16,
    "start_time": "2022-08-18T11:20:36.382Z"
   },
   {
    "duration": 3,
    "start_time": "2022-08-18T11:20:36.400Z"
   },
   {
    "duration": 338,
    "start_time": "2022-08-18T11:20:36.405Z"
   },
   {
    "duration": 313,
    "start_time": "2022-08-18T11:20:36.745Z"
   },
   {
    "duration": 52,
    "start_time": "2022-08-18T11:20:37.060Z"
   },
   {
    "duration": 3,
    "start_time": "2022-08-18T11:20:37.114Z"
   },
   {
    "duration": 38,
    "start_time": "2022-08-18T11:20:37.118Z"
   },
   {
    "duration": 67,
    "start_time": "2022-08-18T11:20:37.158Z"
   },
   {
    "duration": 112,
    "start_time": "2022-08-18T11:20:37.227Z"
   },
   {
    "duration": 190,
    "start_time": "2022-08-18T11:20:37.341Z"
   },
   {
    "duration": 31,
    "start_time": "2022-08-18T11:20:37.533Z"
   },
   {
    "duration": 68,
    "start_time": "2022-08-18T11:20:37.566Z"
   },
   {
    "duration": 100,
    "start_time": "2022-08-18T11:20:37.636Z"
   },
   {
    "duration": 13,
    "start_time": "2022-08-18T11:20:37.738Z"
   },
   {
    "duration": 195,
    "start_time": "2022-08-18T11:20:37.752Z"
   },
   {
    "duration": 4,
    "start_time": "2022-08-18T11:20:37.949Z"
   },
   {
    "duration": 1185,
    "start_time": "2022-08-18T11:20:37.955Z"
   },
   {
    "duration": 28,
    "start_time": "2022-08-18T11:20:39.142Z"
   },
   {
    "duration": 39,
    "start_time": "2022-08-18T11:20:39.171Z"
   },
   {
    "duration": 35,
    "start_time": "2022-08-18T11:20:39.212Z"
   },
   {
    "duration": 19,
    "start_time": "2022-08-18T11:20:39.249Z"
   },
   {
    "duration": 69,
    "start_time": "2022-08-18T11:20:39.270Z"
   },
   {
    "duration": 27,
    "start_time": "2022-08-18T11:20:39.340Z"
   },
   {
    "duration": 379,
    "start_time": "2022-08-18T11:20:39.369Z"
   },
   {
    "duration": 2,
    "start_time": "2022-08-18T11:20:39.750Z"
   },
   {
    "duration": 22,
    "start_time": "2022-08-18T11:20:39.757Z"
   },
   {
    "duration": 15,
    "start_time": "2022-08-18T11:20:39.780Z"
   },
   {
    "duration": 15,
    "start_time": "2022-08-18T11:20:39.797Z"
   },
   {
    "duration": 85,
    "start_time": "2022-08-18T11:20:39.814Z"
   },
   {
    "duration": 58,
    "start_time": "2022-08-18T11:20:39.901Z"
   },
   {
    "duration": 3,
    "start_time": "2022-08-18T11:20:39.961Z"
   },
   {
    "duration": 30,
    "start_time": "2022-08-18T11:20:39.966Z"
   },
   {
    "duration": 12,
    "start_time": "2022-08-18T11:20:39.998Z"
   },
   {
    "duration": 7,
    "start_time": "2022-08-18T11:20:40.012Z"
   },
   {
    "duration": 18,
    "start_time": "2022-08-18T11:20:40.021Z"
   },
   {
    "duration": 15,
    "start_time": "2022-08-18T11:20:40.041Z"
   },
   {
    "duration": 47,
    "start_time": "2022-08-18T11:20:40.058Z"
   },
   {
    "duration": 5,
    "start_time": "2022-08-18T11:20:40.107Z"
   },
   {
    "duration": 13,
    "start_time": "2022-08-18T11:20:40.114Z"
   },
   {
    "duration": 9,
    "start_time": "2022-08-18T11:20:40.129Z"
   },
   {
    "duration": 4,
    "start_time": "2022-08-18T11:20:40.140Z"
   },
   {
    "duration": 83,
    "start_time": "2022-08-18T11:20:40.145Z"
   },
   {
    "duration": 74,
    "start_time": "2022-08-18T11:20:40.230Z"
   },
   {
    "duration": 155,
    "start_time": "2022-08-18T11:20:40.306Z"
   },
   {
    "duration": 15,
    "start_time": "2022-08-18T11:20:40.463Z"
   },
   {
    "duration": 21,
    "start_time": "2022-08-18T11:20:40.492Z"
   },
   {
    "duration": 5,
    "start_time": "2022-08-18T11:20:40.515Z"
   },
   {
    "duration": 31,
    "start_time": "2022-08-18T11:20:40.522Z"
   },
   {
    "duration": 1746,
    "start_time": "2022-08-18T11:20:40.556Z"
   },
   {
    "duration": 109,
    "start_time": "2022-08-18T11:20:42.304Z"
   },
   {
    "duration": 7,
    "start_time": "2022-08-18T11:20:42.415Z"
   },
   {
    "duration": 19,
    "start_time": "2022-08-18T11:20:42.424Z"
   },
   {
    "duration": 49,
    "start_time": "2022-08-18T11:20:42.446Z"
   },
   {
    "duration": 1515,
    "start_time": "2022-08-18T11:20:42.497Z"
   },
   {
    "duration": 80,
    "start_time": "2022-08-18T11:20:44.014Z"
   },
   {
    "duration": 6,
    "start_time": "2022-08-18T11:20:44.096Z"
   },
   {
    "duration": 24,
    "start_time": "2022-08-18T11:20:44.103Z"
   },
   {
    "duration": 31,
    "start_time": "2022-08-18T11:20:44.129Z"
   },
   {
    "duration": 323,
    "start_time": "2022-08-18T11:20:44.162Z"
   },
   {
    "duration": 2,
    "start_time": "2022-08-18T11:20:44.493Z"
   },
   {
    "duration": 10,
    "start_time": "2022-08-18T11:20:44.497Z"
   },
   {
    "duration": 6,
    "start_time": "2022-08-18T11:20:44.509Z"
   },
   {
    "duration": 12,
    "start_time": "2022-08-18T11:20:44.517Z"
   },
   {
    "duration": 10,
    "start_time": "2022-08-18T11:20:44.530Z"
   },
   {
    "duration": 290,
    "start_time": "2022-08-18T11:24:45.435Z"
   },
   {
    "duration": 30,
    "start_time": "2022-08-18T11:24:47.432Z"
   },
   {
    "duration": 1628,
    "start_time": "2022-08-18T11:24:48.890Z"
   },
   {
    "duration": 1635,
    "start_time": "2022-08-18T11:25:04.569Z"
   },
   {
    "duration": 28,
    "start_time": "2022-08-18T11:31:16.624Z"
   },
   {
    "duration": 1566,
    "start_time": "2022-08-18T11:31:17.932Z"
   },
   {
    "duration": 32,
    "start_time": "2022-08-18T11:31:29.456Z"
   },
   {
    "duration": 1934,
    "start_time": "2022-08-18T11:31:30.936Z"
   },
   {
    "duration": 26,
    "start_time": "2022-08-18T11:33:49.569Z"
   },
   {
    "duration": 13,
    "start_time": "2022-08-18T12:07:52.458Z"
   },
   {
    "duration": 341,
    "start_time": "2022-08-18T12:07:54.459Z"
   },
   {
    "duration": 345,
    "start_time": "2022-08-18T12:08:10.956Z"
   },
   {
    "duration": 10,
    "start_time": "2022-08-18T12:08:32.828Z"
   },
   {
    "duration": 454,
    "start_time": "2022-08-18T12:08:34.139Z"
   },
   {
    "duration": 76,
    "start_time": "2022-08-18T12:17:22.570Z"
   },
   {
    "duration": 7,
    "start_time": "2022-08-18T12:17:23.753Z"
   },
   {
    "duration": 7,
    "start_time": "2022-08-18T12:17:24.993Z"
   },
   {
    "duration": 15,
    "start_time": "2022-08-18T12:17:26.331Z"
   },
   {
    "duration": 279,
    "start_time": "2022-08-18T12:17:28.721Z"
   },
   {
    "duration": 80,
    "start_time": "2022-08-18T12:17:35.283Z"
   },
   {
    "duration": 5,
    "start_time": "2022-08-18T12:17:36.538Z"
   },
   {
    "duration": 7,
    "start_time": "2022-08-18T12:17:37.765Z"
   },
   {
    "duration": 10,
    "start_time": "2022-08-18T12:17:39.090Z"
   },
   {
    "duration": 297,
    "start_time": "2022-08-18T12:17:42.323Z"
   },
   {
    "duration": 102,
    "start_time": "2022-08-18T12:17:58.290Z"
   },
   {
    "duration": 7,
    "start_time": "2022-08-18T12:17:59.670Z"
   },
   {
    "duration": 9,
    "start_time": "2022-08-18T12:18:00.702Z"
   },
   {
    "duration": 11,
    "start_time": "2022-08-18T12:18:01.729Z"
   },
   {
    "duration": 309,
    "start_time": "2022-08-18T12:18:03.036Z"
   },
   {
    "duration": 9,
    "start_time": "2022-08-18T12:36:14.520Z"
   },
   {
    "duration": 4,
    "start_time": "2022-08-18T12:36:24.483Z"
   },
   {
    "duration": 1310,
    "start_time": "2022-08-18T12:36:24.489Z"
   },
   {
    "duration": 3,
    "start_time": "2022-08-18T12:36:25.801Z"
   },
   {
    "duration": 399,
    "start_time": "2022-08-18T12:36:25.807Z"
   },
   {
    "duration": 536,
    "start_time": "2022-08-18T12:36:26.208Z"
   },
   {
    "duration": 163,
    "start_time": "2022-08-18T12:36:26.746Z"
   },
   {
    "duration": 96,
    "start_time": "2022-08-18T12:36:26.911Z"
   },
   {
    "duration": 30,
    "start_time": "2022-08-18T12:36:27.009Z"
   },
   {
    "duration": 66,
    "start_time": "2022-08-18T12:36:27.041Z"
   },
   {
    "duration": 231,
    "start_time": "2022-08-18T12:36:27.111Z"
   },
   {
    "duration": 58,
    "start_time": "2022-08-18T12:36:27.343Z"
   },
   {
    "duration": 44,
    "start_time": "2022-08-18T12:36:27.404Z"
   },
   {
    "duration": 66,
    "start_time": "2022-08-18T12:36:27.451Z"
   },
   {
    "duration": 13,
    "start_time": "2022-08-18T12:36:27.519Z"
   },
   {
    "duration": 428,
    "start_time": "2022-08-18T12:36:27.534Z"
   },
   {
    "duration": 22,
    "start_time": "2022-08-18T12:36:27.964Z"
   },
   {
    "duration": 3,
    "start_time": "2022-08-18T12:36:28.003Z"
   },
   {
    "duration": 348,
    "start_time": "2022-08-18T12:36:28.009Z"
   },
   {
    "duration": 298,
    "start_time": "2022-08-18T12:36:28.358Z"
   },
   {
    "duration": 55,
    "start_time": "2022-08-18T12:36:28.658Z"
   },
   {
    "duration": 3,
    "start_time": "2022-08-18T12:36:28.715Z"
   },
   {
    "duration": 34,
    "start_time": "2022-08-18T12:36:28.719Z"
   },
   {
    "duration": 71,
    "start_time": "2022-08-18T12:36:28.755Z"
   },
   {
    "duration": 112,
    "start_time": "2022-08-18T12:36:28.828Z"
   },
   {
    "duration": 195,
    "start_time": "2022-08-18T12:36:28.942Z"
   },
   {
    "duration": 38,
    "start_time": "2022-08-18T12:36:29.140Z"
   },
   {
    "duration": 58,
    "start_time": "2022-08-18T12:36:29.180Z"
   },
   {
    "duration": 132,
    "start_time": "2022-08-18T12:36:29.243Z"
   },
   {
    "duration": 22,
    "start_time": "2022-08-18T12:36:29.378Z"
   },
   {
    "duration": 228,
    "start_time": "2022-08-18T12:36:29.402Z"
   },
   {
    "duration": 5,
    "start_time": "2022-08-18T12:36:29.632Z"
   },
   {
    "duration": 1183,
    "start_time": "2022-08-18T12:36:29.639Z"
   },
   {
    "duration": 25,
    "start_time": "2022-08-18T12:36:30.824Z"
   },
   {
    "duration": 29,
    "start_time": "2022-08-18T12:36:30.851Z"
   },
   {
    "duration": 29,
    "start_time": "2022-08-18T12:36:30.882Z"
   },
   {
    "duration": 39,
    "start_time": "2022-08-18T12:36:30.912Z"
   },
   {
    "duration": 85,
    "start_time": "2022-08-18T12:36:30.952Z"
   },
   {
    "duration": 71,
    "start_time": "2022-08-18T12:36:31.038Z"
   },
   {
    "duration": 408,
    "start_time": "2022-08-18T12:36:31.111Z"
   },
   {
    "duration": 3,
    "start_time": "2022-08-18T12:36:31.521Z"
   },
   {
    "duration": 30,
    "start_time": "2022-08-18T12:36:31.526Z"
   },
   {
    "duration": 18,
    "start_time": "2022-08-18T12:36:31.558Z"
   },
   {
    "duration": 24,
    "start_time": "2022-08-18T12:36:31.578Z"
   },
   {
    "duration": 59,
    "start_time": "2022-08-18T12:36:31.604Z"
   },
   {
    "duration": 70,
    "start_time": "2022-08-18T12:36:31.665Z"
   },
   {
    "duration": 3,
    "start_time": "2022-08-18T12:36:31.737Z"
   },
   {
    "duration": 13,
    "start_time": "2022-08-18T12:36:31.743Z"
   },
   {
    "duration": 12,
    "start_time": "2022-08-18T12:36:31.758Z"
   },
   {
    "duration": 22,
    "start_time": "2022-08-18T12:36:31.773Z"
   },
   {
    "duration": 25,
    "start_time": "2022-08-18T12:36:31.796Z"
   },
   {
    "duration": 25,
    "start_time": "2022-08-18T12:36:31.823Z"
   },
   {
    "duration": 29,
    "start_time": "2022-08-18T12:36:31.850Z"
   },
   {
    "duration": 14,
    "start_time": "2022-08-18T12:36:31.881Z"
   },
   {
    "duration": 66,
    "start_time": "2022-08-18T12:36:31.898Z"
   },
   {
    "duration": 54,
    "start_time": "2022-08-18T12:36:31.967Z"
   },
   {
    "duration": 50,
    "start_time": "2022-08-18T12:36:32.023Z"
   },
   {
    "duration": 83,
    "start_time": "2022-08-18T12:36:32.075Z"
   },
   {
    "duration": 98,
    "start_time": "2022-08-18T12:36:32.160Z"
   },
   {
    "duration": 150,
    "start_time": "2022-08-18T12:36:32.261Z"
   },
   {
    "duration": 19,
    "start_time": "2022-08-18T12:36:32.413Z"
   },
   {
    "duration": 26,
    "start_time": "2022-08-18T12:36:32.434Z"
   },
   {
    "duration": 30,
    "start_time": "2022-08-18T12:36:32.462Z"
   },
   {
    "duration": 58,
    "start_time": "2022-08-18T12:36:32.494Z"
   },
   {
    "duration": 25,
    "start_time": "2022-08-18T12:36:32.555Z"
   },
   {
    "duration": 1643,
    "start_time": "2022-08-18T12:36:32.582Z"
   },
   {
    "duration": 122,
    "start_time": "2022-08-18T12:36:34.228Z"
   },
   {
    "duration": 8,
    "start_time": "2022-08-18T12:36:34.352Z"
   },
   {
    "duration": 15,
    "start_time": "2022-08-18T12:36:34.362Z"
   },
   {
    "duration": 45,
    "start_time": "2022-08-18T12:36:34.379Z"
   },
   {
    "duration": 21,
    "start_time": "2022-08-18T12:36:34.426Z"
   },
   {
    "duration": 1651,
    "start_time": "2022-08-18T12:36:34.450Z"
   },
   {
    "duration": 74,
    "start_time": "2022-08-18T12:36:36.103Z"
   },
   {
    "duration": 16,
    "start_time": "2022-08-18T12:36:36.179Z"
   },
   {
    "duration": 9,
    "start_time": "2022-08-18T12:36:36.197Z"
   },
   {
    "duration": 13,
    "start_time": "2022-08-18T12:36:36.208Z"
   },
   {
    "duration": 369,
    "start_time": "2022-08-18T12:36:36.223Z"
   },
   {
    "duration": 3,
    "start_time": "2022-08-18T12:36:36.594Z"
   },
   {
    "duration": 9,
    "start_time": "2022-08-18T12:36:36.598Z"
   },
   {
    "duration": 18,
    "start_time": "2022-08-18T12:36:36.609Z"
   },
   {
    "duration": 5,
    "start_time": "2022-08-18T12:36:36.629Z"
   },
   {
    "duration": 7,
    "start_time": "2022-08-18T12:36:36.636Z"
   },
   {
    "duration": 17,
    "start_time": "2022-08-18T12:36:58.441Z"
   },
   {
    "duration": 40,
    "start_time": "2022-08-18T12:38:24.320Z"
   },
   {
    "duration": 20,
    "start_time": "2022-08-18T12:38:25.840Z"
   },
   {
    "duration": 1753,
    "start_time": "2022-08-18T12:38:28.152Z"
   },
   {
    "duration": 1840,
    "start_time": "2022-08-18T12:38:41.598Z"
   },
   {
    "duration": 29,
    "start_time": "2022-08-18T12:39:33.756Z"
   },
   {
    "duration": 21,
    "start_time": "2022-08-18T12:39:35.127Z"
   },
   {
    "duration": 1590,
    "start_time": "2022-08-18T12:39:36.496Z"
   },
   {
    "duration": 119,
    "start_time": "2022-08-18T12:50:46.062Z"
   },
   {
    "duration": 64,
    "start_time": "2022-08-18T12:50:55.108Z"
   },
   {
    "duration": 29,
    "start_time": "2022-08-18T14:36:35.607Z"
   },
   {
    "duration": 100,
    "start_time": "2022-08-18T14:39:19.149Z"
   },
   {
    "duration": 63,
    "start_time": "2022-08-18T14:39:33.732Z"
   },
   {
    "duration": 65,
    "start_time": "2022-08-18T14:39:53.460Z"
   },
   {
    "duration": 78,
    "start_time": "2022-08-18T14:40:28.852Z"
   },
   {
    "duration": 332,
    "start_time": "2022-08-18T14:40:39.957Z"
   },
   {
    "duration": 276,
    "start_time": "2022-08-18T14:40:45.388Z"
   },
   {
    "duration": 95,
    "start_time": "2022-08-18T14:41:22.446Z"
   },
   {
    "duration": 65,
    "start_time": "2022-08-18T14:42:18.739Z"
   },
   {
    "duration": 76,
    "start_time": "2022-08-18T14:45:01.190Z"
   },
   {
    "duration": 1236,
    "start_time": "2022-08-18T14:45:22.388Z"
   },
   {
    "duration": 65,
    "start_time": "2022-08-18T14:45:33.539Z"
   },
   {
    "duration": 64,
    "start_time": "2022-08-18T14:47:15.688Z"
   },
   {
    "duration": 5,
    "start_time": "2022-08-18T15:01:31.525Z"
   },
   {
    "duration": 6,
    "start_time": "2022-08-18T15:02:39.290Z"
   },
   {
    "duration": 65,
    "start_time": "2022-08-18T15:15:57.419Z"
   },
   {
    "duration": 102,
    "start_time": "2022-08-18T15:16:03.081Z"
   },
   {
    "duration": 107,
    "start_time": "2022-08-18T15:16:23.857Z"
   },
   {
    "duration": 4,
    "start_time": "2022-08-18T15:16:36.217Z"
   },
   {
    "duration": 13,
    "start_time": "2022-08-18T15:16:40.104Z"
   },
   {
    "duration": 4,
    "start_time": "2022-08-18T15:17:31.442Z"
   },
   {
    "duration": 15,
    "start_time": "2022-08-18T15:17:32.824Z"
   },
   {
    "duration": 108,
    "start_time": "2022-08-18T15:22:06.404Z"
   },
   {
    "duration": 5,
    "start_time": "2022-08-18T15:25:03.335Z"
   },
   {
    "duration": 25,
    "start_time": "2022-08-18T15:25:06.801Z"
   },
   {
    "duration": 5,
    "start_time": "2022-08-18T15:30:38.127Z"
   },
   {
    "duration": 13,
    "start_time": "2022-08-18T15:30:39.608Z"
   },
   {
    "duration": 5,
    "start_time": "2022-08-18T15:31:32.749Z"
   },
   {
    "duration": 1217,
    "start_time": "2022-08-18T15:31:32.755Z"
   },
   {
    "duration": 3,
    "start_time": "2022-08-18T15:31:33.975Z"
   },
   {
    "duration": 344,
    "start_time": "2022-08-18T15:31:33.981Z"
   },
   {
    "duration": 498,
    "start_time": "2022-08-18T15:31:34.327Z"
   },
   {
    "duration": 147,
    "start_time": "2022-08-18T15:31:34.827Z"
   },
   {
    "duration": 85,
    "start_time": "2022-08-18T15:31:34.977Z"
   },
   {
    "duration": 45,
    "start_time": "2022-08-18T15:31:35.064Z"
   },
   {
    "duration": 37,
    "start_time": "2022-08-18T15:31:35.111Z"
   },
   {
    "duration": 230,
    "start_time": "2022-08-18T15:31:35.151Z"
   },
   {
    "duration": 67,
    "start_time": "2022-08-18T15:31:35.393Z"
   },
   {
    "duration": 52,
    "start_time": "2022-08-18T15:31:35.462Z"
   },
   {
    "duration": 43,
    "start_time": "2022-08-18T15:31:35.515Z"
   },
   {
    "duration": 34,
    "start_time": "2022-08-18T15:31:35.559Z"
   },
   {
    "duration": 447,
    "start_time": "2022-08-18T15:31:35.594Z"
   },
   {
    "duration": 17,
    "start_time": "2022-08-18T15:31:36.043Z"
   },
   {
    "duration": 3,
    "start_time": "2022-08-18T15:31:36.062Z"
   },
   {
    "duration": 412,
    "start_time": "2022-08-18T15:31:36.067Z"
   },
   {
    "duration": 311,
    "start_time": "2022-08-18T15:31:36.481Z"
   },
   {
    "duration": 63,
    "start_time": "2022-08-18T15:31:36.794Z"
   },
   {
    "duration": 3,
    "start_time": "2022-08-18T15:31:36.859Z"
   },
   {
    "duration": 79,
    "start_time": "2022-08-18T15:31:36.864Z"
   },
   {
    "duration": 63,
    "start_time": "2022-08-18T15:31:36.945Z"
   },
   {
    "duration": 115,
    "start_time": "2022-08-18T15:31:37.010Z"
   },
   {
    "duration": 217,
    "start_time": "2022-08-18T15:31:37.127Z"
   },
   {
    "duration": 51,
    "start_time": "2022-08-18T15:31:37.346Z"
   },
   {
    "duration": 76,
    "start_time": "2022-08-18T15:31:37.400Z"
   },
   {
    "duration": 105,
    "start_time": "2022-08-18T15:31:37.491Z"
   },
   {
    "duration": 13,
    "start_time": "2022-08-18T15:31:37.598Z"
   },
   {
    "duration": 190,
    "start_time": "2022-08-18T15:31:37.613Z"
   },
   {
    "duration": 5,
    "start_time": "2022-08-18T15:31:37.804Z"
   },
   {
    "duration": 1131,
    "start_time": "2022-08-18T15:31:37.811Z"
   },
   {
    "duration": 23,
    "start_time": "2022-08-18T15:31:38.944Z"
   },
   {
    "duration": 35,
    "start_time": "2022-08-18T15:31:38.969Z"
   },
   {
    "duration": 15,
    "start_time": "2022-08-18T15:31:39.006Z"
   },
   {
    "duration": 13,
    "start_time": "2022-08-18T15:31:39.023Z"
   },
   {
    "duration": 82,
    "start_time": "2022-08-18T15:31:39.037Z"
   },
   {
    "duration": 23,
    "start_time": "2022-08-18T15:31:39.120Z"
   },
   {
    "duration": 382,
    "start_time": "2022-08-18T15:31:39.145Z"
   },
   {
    "duration": 3,
    "start_time": "2022-08-18T15:31:39.529Z"
   },
   {
    "duration": 25,
    "start_time": "2022-08-18T15:31:39.533Z"
   },
   {
    "duration": 13,
    "start_time": "2022-08-18T15:31:39.560Z"
   },
   {
    "duration": 25,
    "start_time": "2022-08-18T15:31:39.575Z"
   },
   {
    "duration": 58,
    "start_time": "2022-08-18T15:31:39.602Z"
   },
   {
    "duration": 75,
    "start_time": "2022-08-18T15:31:39.662Z"
   },
   {
    "duration": 4,
    "start_time": "2022-08-18T15:31:39.739Z"
   },
   {
    "duration": 9,
    "start_time": "2022-08-18T15:31:39.744Z"
   },
   {
    "duration": 4,
    "start_time": "2022-08-18T15:31:39.754Z"
   },
   {
    "duration": 9,
    "start_time": "2022-08-18T15:31:39.760Z"
   },
   {
    "duration": 15,
    "start_time": "2022-08-18T15:31:39.792Z"
   },
   {
    "duration": 14,
    "start_time": "2022-08-18T15:31:39.809Z"
   },
   {
    "duration": 19,
    "start_time": "2022-08-18T15:31:39.824Z"
   },
   {
    "duration": 4,
    "start_time": "2022-08-18T15:31:39.845Z"
   },
   {
    "duration": 47,
    "start_time": "2022-08-18T15:31:39.851Z"
   },
   {
    "duration": 10,
    "start_time": "2022-08-18T15:31:39.900Z"
   },
   {
    "duration": 4,
    "start_time": "2022-08-18T15:31:39.912Z"
   },
   {
    "duration": 47,
    "start_time": "2022-08-18T15:31:39.918Z"
   },
   {
    "duration": 70,
    "start_time": "2022-08-18T15:31:39.996Z"
   },
   {
    "duration": 3,
    "start_time": "2022-08-18T15:31:40.069Z"
   },
   {
    "duration": 133,
    "start_time": "2022-08-18T15:31:40.074Z"
   },
   {
    "duration": 0,
    "start_time": "2022-08-18T15:31:40.210Z"
   },
   {
    "duration": 0,
    "start_time": "2022-08-18T15:31:40.211Z"
   },
   {
    "duration": 0,
    "start_time": "2022-08-18T15:31:40.213Z"
   },
   {
    "duration": 0,
    "start_time": "2022-08-18T15:31:40.214Z"
   },
   {
    "duration": 0,
    "start_time": "2022-08-18T15:31:40.216Z"
   },
   {
    "duration": 0,
    "start_time": "2022-08-18T15:31:40.217Z"
   },
   {
    "duration": 0,
    "start_time": "2022-08-18T15:31:40.218Z"
   },
   {
    "duration": 0,
    "start_time": "2022-08-18T15:31:40.220Z"
   },
   {
    "duration": 0,
    "start_time": "2022-08-18T15:31:40.222Z"
   },
   {
    "duration": 0,
    "start_time": "2022-08-18T15:31:40.224Z"
   },
   {
    "duration": 0,
    "start_time": "2022-08-18T15:31:40.225Z"
   },
   {
    "duration": 0,
    "start_time": "2022-08-18T15:31:40.227Z"
   },
   {
    "duration": 0,
    "start_time": "2022-08-18T15:31:40.228Z"
   },
   {
    "duration": 0,
    "start_time": "2022-08-18T15:31:40.229Z"
   },
   {
    "duration": 0,
    "start_time": "2022-08-18T15:31:40.231Z"
   },
   {
    "duration": 0,
    "start_time": "2022-08-18T15:31:40.231Z"
   },
   {
    "duration": 0,
    "start_time": "2022-08-18T15:31:40.233Z"
   },
   {
    "duration": 0,
    "start_time": "2022-08-18T15:31:40.234Z"
   },
   {
    "duration": 0,
    "start_time": "2022-08-18T15:31:40.235Z"
   },
   {
    "duration": 0,
    "start_time": "2022-08-18T15:31:40.236Z"
   },
   {
    "duration": 0,
    "start_time": "2022-08-18T15:31:40.238Z"
   },
   {
    "duration": 0,
    "start_time": "2022-08-18T15:31:40.239Z"
   },
   {
    "duration": 0,
    "start_time": "2022-08-18T15:31:40.292Z"
   },
   {
    "duration": 0,
    "start_time": "2022-08-18T15:31:40.293Z"
   },
   {
    "duration": 4,
    "start_time": "2022-08-18T15:31:53.985Z"
   },
   {
    "duration": 13,
    "start_time": "2022-08-18T15:31:56.466Z"
   },
   {
    "duration": 12,
    "start_time": "2022-08-18T15:33:44.314Z"
   },
   {
    "duration": 4,
    "start_time": "2022-08-18T15:33:46.136Z"
   },
   {
    "duration": 6,
    "start_time": "2022-08-18T15:33:47.108Z"
   },
   {
    "duration": 11,
    "start_time": "2022-08-18T15:33:55.179Z"
   },
   {
    "duration": 4,
    "start_time": "2022-08-18T15:34:48.850Z"
   },
   {
    "duration": 14,
    "start_time": "2022-08-18T15:34:54.681Z"
   },
   {
    "duration": 6,
    "start_time": "2022-08-18T15:35:32.411Z"
   },
   {
    "duration": 6,
    "start_time": "2022-08-18T15:35:38.978Z"
   },
   {
    "duration": 13,
    "start_time": "2022-08-18T15:35:48.465Z"
   },
   {
    "duration": 8,
    "start_time": "2022-08-18T15:37:41.020Z"
   },
   {
    "duration": 11,
    "start_time": "2022-08-18T15:37:46.214Z"
   },
   {
    "duration": 10,
    "start_time": "2022-08-18T15:37:54.395Z"
   },
   {
    "duration": 9,
    "start_time": "2022-08-18T15:38:26.505Z"
   },
   {
    "duration": 9,
    "start_time": "2022-08-18T15:38:32.995Z"
   },
   {
    "duration": 9,
    "start_time": "2022-08-18T15:39:09.977Z"
   },
   {
    "duration": 6,
    "start_time": "2022-08-18T15:41:50.981Z"
   },
   {
    "duration": 4,
    "start_time": "2022-08-18T15:42:54.156Z"
   },
   {
    "duration": 1312,
    "start_time": "2022-08-18T15:42:54.162Z"
   },
   {
    "duration": 3,
    "start_time": "2022-08-18T15:42:55.476Z"
   },
   {
    "duration": 348,
    "start_time": "2022-08-18T15:42:55.481Z"
   },
   {
    "duration": 480,
    "start_time": "2022-08-18T15:42:55.831Z"
   },
   {
    "duration": 108,
    "start_time": "2022-08-18T15:42:56.312Z"
   },
   {
    "duration": 95,
    "start_time": "2022-08-18T15:42:56.422Z"
   },
   {
    "duration": 28,
    "start_time": "2022-08-18T15:42:56.519Z"
   },
   {
    "duration": 47,
    "start_time": "2022-08-18T15:42:56.549Z"
   },
   {
    "duration": 221,
    "start_time": "2022-08-18T15:42:56.598Z"
   },
   {
    "duration": 52,
    "start_time": "2022-08-18T15:42:56.821Z"
   },
   {
    "duration": 59,
    "start_time": "2022-08-18T15:42:56.875Z"
   },
   {
    "duration": 56,
    "start_time": "2022-08-18T15:42:56.936Z"
   },
   {
    "duration": 11,
    "start_time": "2022-08-18T15:42:56.995Z"
   },
   {
    "duration": 408,
    "start_time": "2022-08-18T15:42:57.007Z"
   },
   {
    "duration": 11,
    "start_time": "2022-08-18T15:42:57.416Z"
   },
   {
    "duration": 7,
    "start_time": "2022-08-18T15:42:57.429Z"
   },
   {
    "duration": 332,
    "start_time": "2022-08-18T15:42:57.438Z"
   },
   {
    "duration": 283,
    "start_time": "2022-08-18T15:42:57.771Z"
   },
   {
    "duration": 54,
    "start_time": "2022-08-18T15:42:58.055Z"
   },
   {
    "duration": 2,
    "start_time": "2022-08-18T15:42:58.110Z"
   },
   {
    "duration": 32,
    "start_time": "2022-08-18T15:42:58.114Z"
   },
   {
    "duration": 69,
    "start_time": "2022-08-18T15:42:58.147Z"
   },
   {
    "duration": 100,
    "start_time": "2022-08-18T15:42:58.218Z"
   },
   {
    "duration": 188,
    "start_time": "2022-08-18T15:42:58.320Z"
   },
   {
    "duration": 31,
    "start_time": "2022-08-18T15:42:58.510Z"
   },
   {
    "duration": 74,
    "start_time": "2022-08-18T15:42:58.543Z"
   },
   {
    "duration": 94,
    "start_time": "2022-08-18T15:42:58.619Z"
   },
   {
    "duration": 14,
    "start_time": "2022-08-18T15:42:58.715Z"
   },
   {
    "duration": 188,
    "start_time": "2022-08-18T15:42:58.730Z"
   },
   {
    "duration": 3,
    "start_time": "2022-08-18T15:42:58.920Z"
   },
   {
    "duration": 1228,
    "start_time": "2022-08-18T15:42:58.925Z"
   },
   {
    "duration": 39,
    "start_time": "2022-08-18T15:43:00.154Z"
   },
   {
    "duration": 16,
    "start_time": "2022-08-18T15:43:00.194Z"
   },
   {
    "duration": 39,
    "start_time": "2022-08-18T15:43:00.212Z"
   },
   {
    "duration": 21,
    "start_time": "2022-08-18T15:43:00.253Z"
   },
   {
    "duration": 57,
    "start_time": "2022-08-18T15:43:00.276Z"
   },
   {
    "duration": 23,
    "start_time": "2022-08-18T15:43:00.334Z"
   },
   {
    "duration": 368,
    "start_time": "2022-08-18T15:43:00.359Z"
   },
   {
    "duration": 3,
    "start_time": "2022-08-18T15:43:00.729Z"
   },
   {
    "duration": 33,
    "start_time": "2022-08-18T15:43:00.736Z"
   },
   {
    "duration": 15,
    "start_time": "2022-08-18T15:43:00.770Z"
   },
   {
    "duration": 33,
    "start_time": "2022-08-18T15:43:00.787Z"
   },
   {
    "duration": 60,
    "start_time": "2022-08-18T15:43:00.822Z"
   },
   {
    "duration": 56,
    "start_time": "2022-08-18T15:43:00.883Z"
   },
   {
    "duration": 3,
    "start_time": "2022-08-18T15:43:00.941Z"
   },
   {
    "duration": 10,
    "start_time": "2022-08-18T15:43:00.946Z"
   },
   {
    "duration": 9,
    "start_time": "2022-08-18T15:43:00.957Z"
   },
   {
    "duration": 14,
    "start_time": "2022-08-18T15:43:00.968Z"
   },
   {
    "duration": 20,
    "start_time": "2022-08-18T15:43:00.984Z"
   },
   {
    "duration": 13,
    "start_time": "2022-08-18T15:43:01.005Z"
   },
   {
    "duration": 15,
    "start_time": "2022-08-18T15:43:01.020Z"
   },
   {
    "duration": 10,
    "start_time": "2022-08-18T15:43:01.037Z"
   },
   {
    "duration": 18,
    "start_time": "2022-08-18T15:43:01.049Z"
   },
   {
    "duration": 29,
    "start_time": "2022-08-18T15:43:01.069Z"
   },
   {
    "duration": 13,
    "start_time": "2022-08-18T15:43:01.100Z"
   },
   {
    "duration": 55,
    "start_time": "2022-08-18T15:43:01.115Z"
   },
   {
    "duration": 63,
    "start_time": "2022-08-18T15:43:01.171Z"
   },
   {
    "duration": 8,
    "start_time": "2022-08-18T15:43:01.236Z"
   },
   {
    "duration": 13,
    "start_time": "2022-08-18T15:43:01.246Z"
   },
   {
    "duration": 82,
    "start_time": "2022-08-18T15:43:01.261Z"
   },
   {
    "duration": 125,
    "start_time": "2022-08-18T15:43:01.345Z"
   },
   {
    "duration": 23,
    "start_time": "2022-08-18T15:43:01.472Z"
   },
   {
    "duration": 17,
    "start_time": "2022-08-18T15:43:01.496Z"
   },
   {
    "duration": 12,
    "start_time": "2022-08-18T15:43:01.514Z"
   },
   {
    "duration": 28,
    "start_time": "2022-08-18T15:43:01.528Z"
   },
   {
    "duration": 33,
    "start_time": "2022-08-18T15:43:01.558Z"
   },
   {
    "duration": 1618,
    "start_time": "2022-08-18T15:43:01.594Z"
   },
   {
    "duration": 105,
    "start_time": "2022-08-18T15:43:03.214Z"
   },
   {
    "duration": 7,
    "start_time": "2022-08-18T15:43:03.321Z"
   },
   {
    "duration": 53,
    "start_time": "2022-08-18T15:43:03.330Z"
   },
   {
    "duration": 60,
    "start_time": "2022-08-18T15:43:03.385Z"
   },
   {
    "duration": 16,
    "start_time": "2022-08-18T15:43:03.447Z"
   },
   {
    "duration": 1478,
    "start_time": "2022-08-18T15:43:03.465Z"
   },
   {
    "duration": 82,
    "start_time": "2022-08-18T15:43:04.944Z"
   },
   {
    "duration": 5,
    "start_time": "2022-08-18T15:43:05.028Z"
   },
   {
    "duration": 10,
    "start_time": "2022-08-18T15:43:05.034Z"
   },
   {
    "duration": 15,
    "start_time": "2022-08-18T15:43:05.046Z"
   },
   {
    "duration": 320,
    "start_time": "2022-08-18T15:43:05.062Z"
   },
   {
    "duration": 2,
    "start_time": "2022-08-18T15:43:05.384Z"
   },
   {
    "duration": 7,
    "start_time": "2022-08-18T15:43:05.391Z"
   },
   {
    "duration": 5,
    "start_time": "2022-08-18T15:43:05.399Z"
   },
   {
    "duration": 6,
    "start_time": "2022-08-18T15:43:05.406Z"
   },
   {
    "duration": 11,
    "start_time": "2022-08-18T15:43:05.413Z"
   },
   {
    "duration": 8,
    "start_time": "2022-08-18T16:15:04.550Z"
   },
   {
    "duration": 6,
    "start_time": "2022-08-18T16:15:06.407Z"
   },
   {
    "duration": 12,
    "start_time": "2022-08-18T16:15:07.390Z"
   },
   {
    "duration": 8,
    "start_time": "2022-08-18T16:27:13.501Z"
   },
   {
    "duration": 6,
    "start_time": "2022-08-18T16:27:14.556Z"
   },
   {
    "duration": 5,
    "start_time": "2022-08-18T16:46:18.532Z"
   },
   {
    "duration": 5,
    "start_time": "2022-08-18T16:47:15.955Z"
   },
   {
    "duration": 5,
    "start_time": "2022-08-18T16:48:51.542Z"
   },
   {
    "duration": 1330,
    "start_time": "2022-08-18T16:48:51.550Z"
   },
   {
    "duration": 3,
    "start_time": "2022-08-18T16:48:52.882Z"
   },
   {
    "duration": 333,
    "start_time": "2022-08-18T16:48:52.891Z"
   },
   {
    "duration": 529,
    "start_time": "2022-08-18T16:48:53.227Z"
   },
   {
    "duration": 148,
    "start_time": "2022-08-18T16:48:53.758Z"
   },
   {
    "duration": 97,
    "start_time": "2022-08-18T16:48:53.907Z"
   },
   {
    "duration": 29,
    "start_time": "2022-08-18T16:48:54.007Z"
   },
   {
    "duration": 54,
    "start_time": "2022-08-18T16:48:54.039Z"
   },
   {
    "duration": 220,
    "start_time": "2022-08-18T16:48:54.095Z"
   },
   {
    "duration": 47,
    "start_time": "2022-08-18T16:48:54.317Z"
   },
   {
    "duration": 53,
    "start_time": "2022-08-18T16:48:54.366Z"
   },
   {
    "duration": 85,
    "start_time": "2022-08-18T16:48:54.421Z"
   },
   {
    "duration": 17,
    "start_time": "2022-08-18T16:48:54.511Z"
   },
   {
    "duration": 406,
    "start_time": "2022-08-18T16:48:54.530Z"
   },
   {
    "duration": 12,
    "start_time": "2022-08-18T16:48:54.938Z"
   },
   {
    "duration": 4,
    "start_time": "2022-08-18T16:48:54.952Z"
   },
   {
    "duration": 353,
    "start_time": "2022-08-18T16:48:54.958Z"
   },
   {
    "duration": 296,
    "start_time": "2022-08-18T16:48:55.313Z"
   },
   {
    "duration": 44,
    "start_time": "2022-08-18T16:48:55.611Z"
   },
   {
    "duration": 2,
    "start_time": "2022-08-18T16:48:55.657Z"
   },
   {
    "duration": 54,
    "start_time": "2022-08-18T16:48:55.661Z"
   },
   {
    "duration": 49,
    "start_time": "2022-08-18T16:48:55.717Z"
   },
   {
    "duration": 111,
    "start_time": "2022-08-18T16:48:55.768Z"
   },
   {
    "duration": 193,
    "start_time": "2022-08-18T16:48:55.881Z"
   },
   {
    "duration": 36,
    "start_time": "2022-08-18T16:48:56.076Z"
   },
   {
    "duration": 64,
    "start_time": "2022-08-18T16:48:56.114Z"
   },
   {
    "duration": 105,
    "start_time": "2022-08-18T16:48:56.192Z"
   },
   {
    "duration": 15,
    "start_time": "2022-08-18T16:48:56.299Z"
   },
   {
    "duration": 222,
    "start_time": "2022-08-18T16:48:56.316Z"
   },
   {
    "duration": 5,
    "start_time": "2022-08-18T16:48:56.540Z"
   },
   {
    "duration": 1184,
    "start_time": "2022-08-18T16:48:56.547Z"
   },
   {
    "duration": 25,
    "start_time": "2022-08-18T16:48:57.732Z"
   },
   {
    "duration": 34,
    "start_time": "2022-08-18T16:48:57.759Z"
   },
   {
    "duration": 14,
    "start_time": "2022-08-18T16:48:57.795Z"
   },
   {
    "duration": 14,
    "start_time": "2022-08-18T16:48:57.810Z"
   },
   {
    "duration": 76,
    "start_time": "2022-08-18T16:48:57.826Z"
   },
   {
    "duration": 24,
    "start_time": "2022-08-18T16:48:57.904Z"
   },
   {
    "duration": 381,
    "start_time": "2022-08-18T16:48:57.930Z"
   },
   {
    "duration": 2,
    "start_time": "2022-08-18T16:48:58.314Z"
   },
   {
    "duration": 24,
    "start_time": "2022-08-18T16:48:58.321Z"
   },
   {
    "duration": 12,
    "start_time": "2022-08-18T16:48:58.348Z"
   },
   {
    "duration": 31,
    "start_time": "2022-08-18T16:48:58.362Z"
   },
   {
    "duration": 66,
    "start_time": "2022-08-18T16:48:58.395Z"
   },
   {
    "duration": 78,
    "start_time": "2022-08-18T16:48:58.466Z"
   },
   {
    "duration": 4,
    "start_time": "2022-08-18T16:48:58.546Z"
   },
   {
    "duration": 21,
    "start_time": "2022-08-18T16:48:58.552Z"
   },
   {
    "duration": 9,
    "start_time": "2022-08-18T16:48:58.575Z"
   },
   {
    "duration": 11,
    "start_time": "2022-08-18T16:48:58.586Z"
   },
   {
    "duration": 24,
    "start_time": "2022-08-18T16:48:58.599Z"
   },
   {
    "duration": 13,
    "start_time": "2022-08-18T16:48:58.626Z"
   },
   {
    "duration": 34,
    "start_time": "2022-08-18T16:48:58.641Z"
   },
   {
    "duration": 16,
    "start_time": "2022-08-18T16:48:58.677Z"
   },
   {
    "duration": 25,
    "start_time": "2022-08-18T16:48:58.695Z"
   },
   {
    "duration": 16,
    "start_time": "2022-08-18T16:48:58.722Z"
   },
   {
    "duration": 19,
    "start_time": "2022-08-18T16:48:58.739Z"
   },
   {
    "duration": 47,
    "start_time": "2022-08-18T16:48:58.760Z"
   },
   {
    "duration": 66,
    "start_time": "2022-08-18T16:48:58.809Z"
   },
   {
    "duration": 16,
    "start_time": "2022-08-18T16:48:58.876Z"
   },
   {
    "duration": 7,
    "start_time": "2022-08-18T16:48:58.894Z"
   },
   {
    "duration": 25,
    "start_time": "2022-08-18T16:48:58.903Z"
   },
   {
    "duration": 12,
    "start_time": "2022-08-18T16:48:58.930Z"
   },
   {
    "duration": 58,
    "start_time": "2022-08-18T16:48:58.944Z"
   },
   {
    "duration": 151,
    "start_time": "2022-08-18T16:48:59.005Z"
   },
   {
    "duration": 16,
    "start_time": "2022-08-18T16:48:59.158Z"
   },
   {
    "duration": 32,
    "start_time": "2022-08-18T16:48:59.176Z"
   },
   {
    "duration": 8,
    "start_time": "2022-08-18T16:48:59.210Z"
   },
   {
    "duration": 30,
    "start_time": "2022-08-18T16:48:59.220Z"
   },
   {
    "duration": 15,
    "start_time": "2022-08-18T16:48:59.252Z"
   },
   {
    "duration": 1586,
    "start_time": "2022-08-18T16:48:59.292Z"
   },
   {
    "duration": 112,
    "start_time": "2022-08-18T16:49:00.880Z"
   },
   {
    "duration": 7,
    "start_time": "2022-08-18T16:49:00.994Z"
   },
   {
    "duration": 26,
    "start_time": "2022-08-18T16:49:01.003Z"
   },
   {
    "duration": 30,
    "start_time": "2022-08-18T16:49:01.031Z"
   },
   {
    "duration": 50,
    "start_time": "2022-08-18T16:49:01.063Z"
   },
   {
    "duration": 1609,
    "start_time": "2022-08-18T16:49:01.114Z"
   },
   {
    "duration": 94,
    "start_time": "2022-08-18T16:49:02.725Z"
   },
   {
    "duration": 6,
    "start_time": "2022-08-18T16:49:02.821Z"
   },
   {
    "duration": 11,
    "start_time": "2022-08-18T16:49:02.829Z"
   },
   {
    "duration": 13,
    "start_time": "2022-08-18T16:49:02.842Z"
   },
   {
    "duration": 355,
    "start_time": "2022-08-18T16:49:02.857Z"
   },
   {
    "duration": 3,
    "start_time": "2022-08-18T16:49:03.215Z"
   },
   {
    "duration": 12,
    "start_time": "2022-08-18T16:49:03.219Z"
   },
   {
    "duration": 9,
    "start_time": "2022-08-18T16:49:03.233Z"
   },
   {
    "duration": 6,
    "start_time": "2022-08-18T16:49:03.244Z"
   },
   {
    "duration": 11,
    "start_time": "2022-08-18T16:49:03.252Z"
   },
   {
    "duration": 12,
    "start_time": "2022-08-18T16:52:55.232Z"
   },
   {
    "duration": 12,
    "start_time": "2022-08-18T16:53:12.383Z"
   },
   {
    "duration": 4,
    "start_time": "2022-08-18T16:53:22.192Z"
   },
   {
    "duration": 1289,
    "start_time": "2022-08-18T16:53:22.199Z"
   },
   {
    "duration": 4,
    "start_time": "2022-08-18T16:53:23.490Z"
   },
   {
    "duration": 345,
    "start_time": "2022-08-18T16:53:23.497Z"
   },
   {
    "duration": 574,
    "start_time": "2022-08-18T16:53:23.845Z"
   },
   {
    "duration": 136,
    "start_time": "2022-08-18T16:53:24.421Z"
   },
   {
    "duration": 100,
    "start_time": "2022-08-18T16:53:24.559Z"
   },
   {
    "duration": 44,
    "start_time": "2022-08-18T16:53:24.661Z"
   },
   {
    "duration": 37,
    "start_time": "2022-08-18T16:53:24.706Z"
   },
   {
    "duration": 252,
    "start_time": "2022-08-18T16:53:24.745Z"
   },
   {
    "duration": 48,
    "start_time": "2022-08-18T16:53:25.000Z"
   },
   {
    "duration": 62,
    "start_time": "2022-08-18T16:53:25.050Z"
   },
   {
    "duration": 44,
    "start_time": "2022-08-18T16:53:25.114Z"
   },
   {
    "duration": 38,
    "start_time": "2022-08-18T16:53:25.161Z"
   },
   {
    "duration": 428,
    "start_time": "2022-08-18T16:53:25.201Z"
   },
   {
    "duration": 15,
    "start_time": "2022-08-18T16:53:25.631Z"
   },
   {
    "duration": 3,
    "start_time": "2022-08-18T16:53:25.648Z"
   },
   {
    "duration": 407,
    "start_time": "2022-08-18T16:53:25.653Z"
   },
   {
    "duration": 300,
    "start_time": "2022-08-18T16:53:26.062Z"
   },
   {
    "duration": 59,
    "start_time": "2022-08-18T16:53:26.364Z"
   },
   {
    "duration": 3,
    "start_time": "2022-08-18T16:53:26.425Z"
   },
   {
    "duration": 39,
    "start_time": "2022-08-18T16:53:26.430Z"
   },
   {
    "duration": 59,
    "start_time": "2022-08-18T16:53:26.493Z"
   },
   {
    "duration": 129,
    "start_time": "2022-08-18T16:53:26.554Z"
   },
   {
    "duration": 227,
    "start_time": "2022-08-18T16:53:26.691Z"
   },
   {
    "duration": 32,
    "start_time": "2022-08-18T16:53:26.921Z"
   },
   {
    "duration": 76,
    "start_time": "2022-08-18T16:53:26.955Z"
   },
   {
    "duration": 116,
    "start_time": "2022-08-18T16:53:27.036Z"
   },
   {
    "duration": 18,
    "start_time": "2022-08-18T16:53:27.154Z"
   },
   {
    "duration": 203,
    "start_time": "2022-08-18T16:53:27.175Z"
   },
   {
    "duration": 12,
    "start_time": "2022-08-18T16:53:27.380Z"
   },
   {
    "duration": 1277,
    "start_time": "2022-08-18T16:53:27.394Z"
   },
   {
    "duration": 37,
    "start_time": "2022-08-18T16:53:28.673Z"
   },
   {
    "duration": 20,
    "start_time": "2022-08-18T16:53:28.711Z"
   },
   {
    "duration": 27,
    "start_time": "2022-08-18T16:53:28.733Z"
   },
   {
    "duration": 40,
    "start_time": "2022-08-18T16:53:28.763Z"
   },
   {
    "duration": 62,
    "start_time": "2022-08-18T16:53:28.806Z"
   },
   {
    "duration": 45,
    "start_time": "2022-08-18T16:53:28.870Z"
   },
   {
    "duration": 374,
    "start_time": "2022-08-18T16:53:28.917Z"
   },
   {
    "duration": 3,
    "start_time": "2022-08-18T16:53:29.294Z"
   },
   {
    "duration": 23,
    "start_time": "2022-08-18T16:53:29.300Z"
   },
   {
    "duration": 17,
    "start_time": "2022-08-18T16:53:29.325Z"
   },
   {
    "duration": 53,
    "start_time": "2022-08-18T16:53:29.347Z"
   },
   {
    "duration": 70,
    "start_time": "2022-08-18T16:53:29.402Z"
   },
   {
    "duration": 73,
    "start_time": "2022-08-18T16:53:29.474Z"
   },
   {
    "duration": 4,
    "start_time": "2022-08-18T16:53:29.550Z"
   },
   {
    "duration": 8,
    "start_time": "2022-08-18T16:53:29.555Z"
   },
   {
    "duration": 26,
    "start_time": "2022-08-18T16:53:29.565Z"
   },
   {
    "duration": 6,
    "start_time": "2022-08-18T16:53:29.594Z"
   },
   {
    "duration": 24,
    "start_time": "2022-08-18T16:53:29.602Z"
   },
   {
    "duration": 19,
    "start_time": "2022-08-18T16:53:29.628Z"
   },
   {
    "duration": 56,
    "start_time": "2022-08-18T16:53:29.649Z"
   },
   {
    "duration": 6,
    "start_time": "2022-08-18T16:53:29.707Z"
   },
   {
    "duration": 14,
    "start_time": "2022-08-18T16:53:29.716Z"
   },
   {
    "duration": 12,
    "start_time": "2022-08-18T16:53:29.732Z"
   },
   {
    "duration": 6,
    "start_time": "2022-08-18T16:53:29.746Z"
   },
   {
    "duration": 88,
    "start_time": "2022-08-18T16:53:29.754Z"
   },
   {
    "duration": 92,
    "start_time": "2022-08-18T16:53:29.844Z"
   },
   {
    "duration": 7,
    "start_time": "2022-08-18T16:53:29.939Z"
   },
   {
    "duration": 8,
    "start_time": "2022-08-18T16:53:29.948Z"
   },
   {
    "duration": 34,
    "start_time": "2022-08-18T16:53:29.958Z"
   },
   {
    "duration": 6,
    "start_time": "2022-08-18T16:53:29.994Z"
   },
   {
    "duration": 20,
    "start_time": "2022-08-18T16:53:30.002Z"
   },
   {
    "duration": 104,
    "start_time": "2022-08-18T16:53:30.024Z"
   },
   {
    "duration": 158,
    "start_time": "2022-08-18T16:53:30.130Z"
   },
   {
    "duration": 16,
    "start_time": "2022-08-18T16:53:30.289Z"
   },
   {
    "duration": 52,
    "start_time": "2022-08-18T16:53:30.308Z"
   },
   {
    "duration": 18,
    "start_time": "2022-08-18T16:53:30.363Z"
   },
   {
    "duration": 77,
    "start_time": "2022-08-18T16:53:30.384Z"
   },
   {
    "duration": 26,
    "start_time": "2022-08-18T16:53:30.463Z"
   },
   {
    "duration": 1712,
    "start_time": "2022-08-18T16:53:30.492Z"
   },
   {
    "duration": 166,
    "start_time": "2022-08-18T16:53:32.206Z"
   },
   {
    "duration": 8,
    "start_time": "2022-08-18T16:53:32.374Z"
   },
   {
    "duration": 28,
    "start_time": "2022-08-18T16:53:32.393Z"
   },
   {
    "duration": 35,
    "start_time": "2022-08-18T16:53:32.423Z"
   },
   {
    "duration": 34,
    "start_time": "2022-08-18T16:53:32.460Z"
   },
   {
    "duration": 1540,
    "start_time": "2022-08-18T16:53:32.497Z"
   },
   {
    "duration": 122,
    "start_time": "2022-08-18T16:53:34.040Z"
   },
   {
    "duration": 6,
    "start_time": "2022-08-18T16:53:34.164Z"
   },
   {
    "duration": 19,
    "start_time": "2022-08-18T16:53:34.173Z"
   },
   {
    "duration": 23,
    "start_time": "2022-08-18T16:53:34.194Z"
   },
   {
    "duration": 309,
    "start_time": "2022-08-18T16:53:34.223Z"
   },
   {
    "duration": 9,
    "start_time": "2022-08-18T16:53:34.534Z"
   },
   {
    "duration": 14,
    "start_time": "2022-08-18T16:53:34.545Z"
   },
   {
    "duration": 9,
    "start_time": "2022-08-18T16:53:34.562Z"
   },
   {
    "duration": 12,
    "start_time": "2022-08-18T16:53:34.573Z"
   },
   {
    "duration": 13,
    "start_time": "2022-08-18T16:53:34.587Z"
   },
   {
    "duration": 4,
    "start_time": "2022-08-18T17:28:14.733Z"
   },
   {
    "duration": 5,
    "start_time": "2022-08-18T17:28:24.855Z"
   },
   {
    "duration": 6,
    "start_time": "2022-08-18T17:31:01.632Z"
   },
   {
    "duration": 6,
    "start_time": "2022-08-18T17:31:07.406Z"
   },
   {
    "duration": 6,
    "start_time": "2022-08-18T17:31:11.618Z"
   },
   {
    "duration": 6,
    "start_time": "2022-08-18T17:31:19.558Z"
   },
   {
    "duration": 6,
    "start_time": "2022-08-18T17:31:24.326Z"
   },
   {
    "duration": 127,
    "start_time": "2022-08-18T17:35:40.870Z"
   },
   {
    "duration": 24,
    "start_time": "2022-08-18T17:35:47.742Z"
   },
   {
    "duration": 4,
    "start_time": "2022-08-18T17:35:55.528Z"
   },
   {
    "duration": 1235,
    "start_time": "2022-08-18T17:35:55.534Z"
   },
   {
    "duration": 3,
    "start_time": "2022-08-18T17:35:56.771Z"
   },
   {
    "duration": 501,
    "start_time": "2022-08-18T17:35:56.775Z"
   },
   {
    "duration": 473,
    "start_time": "2022-08-18T17:35:57.279Z"
   },
   {
    "duration": 142,
    "start_time": "2022-08-18T17:35:57.754Z"
   },
   {
    "duration": 80,
    "start_time": "2022-08-18T17:35:57.898Z"
   },
   {
    "duration": 29,
    "start_time": "2022-08-18T17:35:57.992Z"
   },
   {
    "duration": 36,
    "start_time": "2022-08-18T17:35:58.023Z"
   },
   {
    "duration": 208,
    "start_time": "2022-08-18T17:35:58.061Z"
   },
   {
    "duration": 51,
    "start_time": "2022-08-18T17:35:58.271Z"
   },
   {
    "duration": 42,
    "start_time": "2022-08-18T17:35:58.323Z"
   },
   {
    "duration": 65,
    "start_time": "2022-08-18T17:35:58.366Z"
   },
   {
    "duration": 28,
    "start_time": "2022-08-18T17:35:58.434Z"
   },
   {
    "duration": 396,
    "start_time": "2022-08-18T17:35:58.463Z"
   },
   {
    "duration": 11,
    "start_time": "2022-08-18T17:35:58.861Z"
   },
   {
    "duration": 2,
    "start_time": "2022-08-18T17:35:58.874Z"
   },
   {
    "duration": 321,
    "start_time": "2022-08-18T17:35:58.891Z"
   },
   {
    "duration": 289,
    "start_time": "2022-08-18T17:35:59.214Z"
   },
   {
    "duration": 42,
    "start_time": "2022-08-18T17:35:59.505Z"
   },
   {
    "duration": 3,
    "start_time": "2022-08-18T17:35:59.548Z"
   },
   {
    "duration": 55,
    "start_time": "2022-08-18T17:35:59.552Z"
   },
   {
    "duration": 46,
    "start_time": "2022-08-18T17:35:59.608Z"
   },
   {
    "duration": 105,
    "start_time": "2022-08-18T17:35:59.656Z"
   },
   {
    "duration": 189,
    "start_time": "2022-08-18T17:35:59.763Z"
   },
   {
    "duration": 43,
    "start_time": "2022-08-18T17:35:59.954Z"
   },
   {
    "duration": 52,
    "start_time": "2022-08-18T17:35:59.998Z"
   },
   {
    "duration": 105,
    "start_time": "2022-08-18T17:36:00.052Z"
   },
   {
    "duration": 12,
    "start_time": "2022-08-18T17:36:00.160Z"
   },
   {
    "duration": 190,
    "start_time": "2022-08-18T17:36:00.174Z"
   },
   {
    "duration": 5,
    "start_time": "2022-08-18T17:36:00.366Z"
   },
   {
    "duration": 1188,
    "start_time": "2022-08-18T17:36:00.373Z"
   },
   {
    "duration": 35,
    "start_time": "2022-08-18T17:36:01.563Z"
   },
   {
    "duration": 14,
    "start_time": "2022-08-18T17:36:01.599Z"
   },
   {
    "duration": 32,
    "start_time": "2022-08-18T17:36:01.615Z"
   },
   {
    "duration": 40,
    "start_time": "2022-08-18T17:36:01.649Z"
   },
   {
    "duration": 65,
    "start_time": "2022-08-18T17:36:01.691Z"
   },
   {
    "duration": 23,
    "start_time": "2022-08-18T17:36:01.758Z"
   },
   {
    "duration": 447,
    "start_time": "2022-08-18T17:36:01.784Z"
   },
   {
    "duration": 3,
    "start_time": "2022-08-18T17:36:02.233Z"
   },
   {
    "duration": 29,
    "start_time": "2022-08-18T17:36:02.241Z"
   },
   {
    "duration": 25,
    "start_time": "2022-08-18T17:36:02.272Z"
   },
   {
    "duration": 36,
    "start_time": "2022-08-18T17:36:02.299Z"
   },
   {
    "duration": 72,
    "start_time": "2022-08-18T17:36:02.337Z"
   },
   {
    "duration": 58,
    "start_time": "2022-08-18T17:36:02.411Z"
   },
   {
    "duration": 3,
    "start_time": "2022-08-18T17:36:02.470Z"
   },
   {
    "duration": 30,
    "start_time": "2022-08-18T17:36:02.475Z"
   },
   {
    "duration": 23,
    "start_time": "2022-08-18T17:36:02.506Z"
   },
   {
    "duration": 15,
    "start_time": "2022-08-18T17:36:02.531Z"
   },
   {
    "duration": 46,
    "start_time": "2022-08-18T17:36:02.547Z"
   },
   {
    "duration": 26,
    "start_time": "2022-08-18T17:36:02.595Z"
   },
   {
    "duration": 21,
    "start_time": "2022-08-18T17:36:02.624Z"
   },
   {
    "duration": 22,
    "start_time": "2022-08-18T17:36:02.648Z"
   },
   {
    "duration": 51,
    "start_time": "2022-08-18T17:36:02.672Z"
   },
   {
    "duration": 11,
    "start_time": "2022-08-18T17:36:02.724Z"
   },
   {
    "duration": 26,
    "start_time": "2022-08-18T17:36:02.737Z"
   },
   {
    "duration": 45,
    "start_time": "2022-08-18T17:36:02.764Z"
   },
   {
    "duration": 64,
    "start_time": "2022-08-18T17:36:02.811Z"
   },
   {
    "duration": 22,
    "start_time": "2022-08-18T17:36:02.877Z"
   },
   {
    "duration": 41,
    "start_time": "2022-08-18T17:36:02.901Z"
   },
   {
    "duration": 38,
    "start_time": "2022-08-18T17:36:02.944Z"
   },
   {
    "duration": 27,
    "start_time": "2022-08-18T17:36:02.984Z"
   },
   {
    "duration": 136,
    "start_time": "2022-08-18T17:36:03.014Z"
   },
   {
    "duration": 0,
    "start_time": "2022-08-18T17:36:03.152Z"
   },
   {
    "duration": 0,
    "start_time": "2022-08-18T17:36:03.153Z"
   },
   {
    "duration": 0,
    "start_time": "2022-08-18T17:36:03.155Z"
   },
   {
    "duration": 0,
    "start_time": "2022-08-18T17:36:03.156Z"
   },
   {
    "duration": 0,
    "start_time": "2022-08-18T17:36:03.157Z"
   },
   {
    "duration": 0,
    "start_time": "2022-08-18T17:36:03.158Z"
   },
   {
    "duration": 0,
    "start_time": "2022-08-18T17:36:03.159Z"
   },
   {
    "duration": 0,
    "start_time": "2022-08-18T17:36:03.160Z"
   },
   {
    "duration": 0,
    "start_time": "2022-08-18T17:36:03.161Z"
   },
   {
    "duration": 0,
    "start_time": "2022-08-18T17:36:03.162Z"
   },
   {
    "duration": 0,
    "start_time": "2022-08-18T17:36:03.163Z"
   },
   {
    "duration": 0,
    "start_time": "2022-08-18T17:36:03.164Z"
   },
   {
    "duration": 0,
    "start_time": "2022-08-18T17:36:03.165Z"
   },
   {
    "duration": 0,
    "start_time": "2022-08-18T17:36:03.166Z"
   },
   {
    "duration": 0,
    "start_time": "2022-08-18T17:36:03.167Z"
   },
   {
    "duration": 0,
    "start_time": "2022-08-18T17:36:03.192Z"
   },
   {
    "duration": 0,
    "start_time": "2022-08-18T17:36:03.193Z"
   },
   {
    "duration": 0,
    "start_time": "2022-08-18T17:36:03.194Z"
   },
   {
    "duration": 0,
    "start_time": "2022-08-18T17:36:03.196Z"
   },
   {
    "duration": 0,
    "start_time": "2022-08-18T17:36:03.197Z"
   },
   {
    "duration": 0,
    "start_time": "2022-08-18T17:36:03.198Z"
   },
   {
    "duration": 0,
    "start_time": "2022-08-18T17:36:03.199Z"
   },
   {
    "duration": 0,
    "start_time": "2022-08-18T17:36:03.200Z"
   },
   {
    "duration": 0,
    "start_time": "2022-08-18T17:36:03.201Z"
   },
   {
    "duration": 6,
    "start_time": "2022-08-18T17:38:15.132Z"
   },
   {
    "duration": 12,
    "start_time": "2022-08-18T17:39:36.098Z"
   },
   {
    "duration": 36,
    "start_time": "2022-08-18T17:50:21.970Z"
   },
   {
    "duration": 28,
    "start_time": "2022-08-18T17:51:04.104Z"
   },
   {
    "duration": 31,
    "start_time": "2022-08-18T17:51:28.343Z"
   },
   {
    "duration": 17,
    "start_time": "2022-08-18T17:51:46.746Z"
   },
   {
    "duration": 18,
    "start_time": "2022-08-18T17:51:56.135Z"
   },
   {
    "duration": 30,
    "start_time": "2022-08-18T17:52:30.143Z"
   },
   {
    "duration": 24,
    "start_time": "2022-08-18T17:53:41.784Z"
   },
   {
    "duration": 20,
    "start_time": "2022-08-18T17:53:47.953Z"
   },
   {
    "duration": 20,
    "start_time": "2022-08-18T17:54:29.496Z"
   },
   {
    "duration": 19,
    "start_time": "2022-08-18T17:58:15.047Z"
   },
   {
    "duration": 5,
    "start_time": "2022-08-18T18:11:13.246Z"
   },
   {
    "duration": 1419,
    "start_time": "2022-08-18T18:11:13.253Z"
   },
   {
    "duration": 7,
    "start_time": "2022-08-18T18:11:14.678Z"
   },
   {
    "duration": 431,
    "start_time": "2022-08-18T18:11:14.688Z"
   },
   {
    "duration": 708,
    "start_time": "2022-08-18T18:11:15.123Z"
   },
   {
    "duration": 137,
    "start_time": "2022-08-18T18:11:15.834Z"
   },
   {
    "duration": 107,
    "start_time": "2022-08-18T18:11:15.974Z"
   },
   {
    "duration": 51,
    "start_time": "2022-08-18T18:11:16.093Z"
   },
   {
    "duration": 73,
    "start_time": "2022-08-18T18:11:16.148Z"
   },
   {
    "duration": 287,
    "start_time": "2022-08-18T18:11:16.224Z"
   },
   {
    "duration": 84,
    "start_time": "2022-08-18T18:11:16.514Z"
   },
   {
    "duration": 51,
    "start_time": "2022-08-18T18:11:16.601Z"
   },
   {
    "duration": 69,
    "start_time": "2022-08-18T18:11:16.654Z"
   },
   {
    "duration": 16,
    "start_time": "2022-08-18T18:11:16.728Z"
   },
   {
    "duration": 522,
    "start_time": "2022-08-18T18:11:16.747Z"
   },
   {
    "duration": 22,
    "start_time": "2022-08-18T18:11:17.272Z"
   },
   {
    "duration": 2,
    "start_time": "2022-08-18T18:11:17.298Z"
   },
   {
    "duration": 382,
    "start_time": "2022-08-18T18:11:17.302Z"
   },
   {
    "duration": 319,
    "start_time": "2022-08-18T18:11:17.692Z"
   },
   {
    "duration": 50,
    "start_time": "2022-08-18T18:11:18.013Z"
   },
   {
    "duration": 3,
    "start_time": "2022-08-18T18:11:18.065Z"
   },
   {
    "duration": 58,
    "start_time": "2022-08-18T18:11:18.070Z"
   },
   {
    "duration": 68,
    "start_time": "2022-08-18T18:11:18.131Z"
   },
   {
    "duration": 112,
    "start_time": "2022-08-18T18:11:18.202Z"
   },
   {
    "duration": 239,
    "start_time": "2022-08-18T18:11:18.316Z"
   },
   {
    "duration": 47,
    "start_time": "2022-08-18T18:11:18.557Z"
   },
   {
    "duration": 62,
    "start_time": "2022-08-18T18:11:18.606Z"
   },
   {
    "duration": 178,
    "start_time": "2022-08-18T18:11:18.671Z"
   },
   {
    "duration": 18,
    "start_time": "2022-08-18T18:11:18.851Z"
   },
   {
    "duration": 258,
    "start_time": "2022-08-18T18:11:18.872Z"
   },
   {
    "duration": 4,
    "start_time": "2022-08-18T18:11:19.132Z"
   },
   {
    "duration": 1386,
    "start_time": "2022-08-18T18:11:19.138Z"
   },
   {
    "duration": 65,
    "start_time": "2022-08-18T18:11:20.527Z"
   },
   {
    "duration": 25,
    "start_time": "2022-08-18T18:11:20.595Z"
   },
   {
    "duration": 20,
    "start_time": "2022-08-18T18:11:20.623Z"
   },
   {
    "duration": 26,
    "start_time": "2022-08-18T18:11:20.645Z"
   },
   {
    "duration": 104,
    "start_time": "2022-08-18T18:11:20.691Z"
   },
   {
    "duration": 30,
    "start_time": "2022-08-18T18:11:20.797Z"
   },
   {
    "duration": 475,
    "start_time": "2022-08-18T18:11:20.829Z"
   },
   {
    "duration": 3,
    "start_time": "2022-08-18T18:11:21.306Z"
   },
   {
    "duration": 47,
    "start_time": "2022-08-18T18:11:21.317Z"
   },
   {
    "duration": 19,
    "start_time": "2022-08-18T18:11:21.368Z"
   },
   {
    "duration": 24,
    "start_time": "2022-08-18T18:11:21.390Z"
   },
   {
    "duration": 104,
    "start_time": "2022-08-18T18:11:21.416Z"
   },
   {
    "duration": 84,
    "start_time": "2022-08-18T18:11:21.522Z"
   },
   {
    "duration": 8,
    "start_time": "2022-08-18T18:11:21.608Z"
   },
   {
    "duration": 30,
    "start_time": "2022-08-18T18:11:21.618Z"
   },
   {
    "duration": 6,
    "start_time": "2022-08-18T18:11:21.650Z"
   },
   {
    "duration": 10,
    "start_time": "2022-08-18T18:11:21.658Z"
   },
   {
    "duration": 25,
    "start_time": "2022-08-18T18:11:21.670Z"
   },
   {
    "duration": 14,
    "start_time": "2022-08-18T18:11:21.697Z"
   },
   {
    "duration": 21,
    "start_time": "2022-08-18T18:11:21.713Z"
   },
   {
    "duration": 5,
    "start_time": "2022-08-18T18:11:21.737Z"
   },
   {
    "duration": 48,
    "start_time": "2022-08-18T18:11:21.744Z"
   },
   {
    "duration": 17,
    "start_time": "2022-08-18T18:11:21.795Z"
   },
   {
    "duration": 33,
    "start_time": "2022-08-18T18:11:21.815Z"
   },
   {
    "duration": 81,
    "start_time": "2022-08-18T18:11:21.850Z"
   },
   {
    "duration": 132,
    "start_time": "2022-08-18T18:11:21.935Z"
   },
   {
    "duration": 9,
    "start_time": "2022-08-18T18:11:22.070Z"
   },
   {
    "duration": 28,
    "start_time": "2022-08-18T18:11:22.081Z"
   },
   {
    "duration": 57,
    "start_time": "2022-08-18T18:11:22.112Z"
   },
   {
    "duration": 119,
    "start_time": "2022-08-18T18:11:22.172Z"
   },
   {
    "duration": 165,
    "start_time": "2022-08-18T18:11:22.294Z"
   },
   {
    "duration": 16,
    "start_time": "2022-08-18T18:11:22.461Z"
   },
   {
    "duration": 27,
    "start_time": "2022-08-18T18:11:22.492Z"
   },
   {
    "duration": 25,
    "start_time": "2022-08-18T18:11:22.522Z"
   },
   {
    "duration": 66,
    "start_time": "2022-08-18T18:11:22.550Z"
   },
   {
    "duration": 25,
    "start_time": "2022-08-18T18:11:22.618Z"
   },
   {
    "duration": 1777,
    "start_time": "2022-08-18T18:11:22.645Z"
   },
   {
    "duration": 122,
    "start_time": "2022-08-18T18:11:24.424Z"
   },
   {
    "duration": 9,
    "start_time": "2022-08-18T18:11:24.548Z"
   },
   {
    "duration": 28,
    "start_time": "2022-08-18T18:11:24.560Z"
   },
   {
    "duration": 36,
    "start_time": "2022-08-18T18:11:24.590Z"
   },
   {
    "duration": 26,
    "start_time": "2022-08-18T18:11:24.628Z"
   },
   {
    "duration": 1745,
    "start_time": "2022-08-18T18:11:24.656Z"
   },
   {
    "duration": 127,
    "start_time": "2022-08-18T18:11:26.403Z"
   },
   {
    "duration": 8,
    "start_time": "2022-08-18T18:11:26.533Z"
   },
   {
    "duration": 15,
    "start_time": "2022-08-18T18:11:26.543Z"
   },
   {
    "duration": 35,
    "start_time": "2022-08-18T18:11:26.560Z"
   },
   {
    "duration": 377,
    "start_time": "2022-08-18T18:11:26.597Z"
   },
   {
    "duration": 3,
    "start_time": "2022-08-18T18:11:26.976Z"
   },
   {
    "duration": 25,
    "start_time": "2022-08-18T18:11:26.982Z"
   },
   {
    "duration": 25,
    "start_time": "2022-08-18T18:11:27.010Z"
   },
   {
    "duration": 17,
    "start_time": "2022-08-18T18:11:27.037Z"
   },
   {
    "duration": 7,
    "start_time": "2022-08-18T18:11:27.057Z"
   },
   {
    "duration": 4,
    "start_time": "2022-08-19T05:48:10.973Z"
   },
   {
    "duration": 1242,
    "start_time": "2022-08-19T05:48:10.979Z"
   },
   {
    "duration": 2,
    "start_time": "2022-08-19T05:48:12.224Z"
   },
   {
    "duration": 619,
    "start_time": "2022-08-19T05:48:12.228Z"
   },
   {
    "duration": 431,
    "start_time": "2022-08-19T05:48:12.849Z"
   },
   {
    "duration": 107,
    "start_time": "2022-08-19T05:48:13.284Z"
   },
   {
    "duration": 76,
    "start_time": "2022-08-19T05:48:13.393Z"
   },
   {
    "duration": 23,
    "start_time": "2022-08-19T05:48:13.471Z"
   },
   {
    "duration": 29,
    "start_time": "2022-08-19T05:48:13.496Z"
   },
   {
    "duration": 183,
    "start_time": "2022-08-19T05:48:13.527Z"
   },
   {
    "duration": 56,
    "start_time": "2022-08-19T05:48:13.712Z"
   },
   {
    "duration": 36,
    "start_time": "2022-08-19T05:48:13.772Z"
   },
   {
    "duration": 55,
    "start_time": "2022-08-19T05:48:13.810Z"
   },
   {
    "duration": 10,
    "start_time": "2022-08-19T05:48:13.867Z"
   },
   {
    "duration": 370,
    "start_time": "2022-08-19T05:48:13.879Z"
   },
   {
    "duration": 11,
    "start_time": "2022-08-19T05:48:14.251Z"
   },
   {
    "duration": 4,
    "start_time": "2022-08-19T05:48:14.264Z"
   },
   {
    "duration": 298,
    "start_time": "2022-08-19T05:48:14.270Z"
   },
   {
    "duration": 269,
    "start_time": "2022-08-19T05:48:14.570Z"
   },
   {
    "duration": 42,
    "start_time": "2022-08-19T05:48:14.841Z"
   },
   {
    "duration": 2,
    "start_time": "2022-08-19T05:48:14.884Z"
   },
   {
    "duration": 30,
    "start_time": "2022-08-19T05:48:14.888Z"
   },
   {
    "duration": 59,
    "start_time": "2022-08-19T05:48:14.920Z"
   },
   {
    "duration": 95,
    "start_time": "2022-08-19T05:48:14.980Z"
   },
   {
    "duration": 162,
    "start_time": "2022-08-19T05:48:15.077Z"
   },
   {
    "duration": 39,
    "start_time": "2022-08-19T05:48:15.241Z"
   },
   {
    "duration": 59,
    "start_time": "2022-08-19T05:48:15.282Z"
   },
   {
    "duration": 101,
    "start_time": "2022-08-19T05:48:15.357Z"
   },
   {
    "duration": 11,
    "start_time": "2022-08-19T05:48:15.460Z"
   },
   {
    "duration": 175,
    "start_time": "2022-08-19T05:48:15.473Z"
   },
   {
    "duration": 10,
    "start_time": "2022-08-19T05:48:15.649Z"
   },
   {
    "duration": 1048,
    "start_time": "2022-08-19T05:48:15.660Z"
   },
   {
    "duration": 20,
    "start_time": "2022-08-19T05:48:16.710Z"
   },
   {
    "duration": 27,
    "start_time": "2022-08-19T05:48:16.731Z"
   },
   {
    "duration": 12,
    "start_time": "2022-08-19T05:48:16.760Z"
   },
   {
    "duration": 9,
    "start_time": "2022-08-19T05:48:16.776Z"
   },
   {
    "duration": 52,
    "start_time": "2022-08-19T05:48:16.786Z"
   },
   {
    "duration": 35,
    "start_time": "2022-08-19T05:48:16.840Z"
   },
   {
    "duration": 304,
    "start_time": "2022-08-19T05:48:16.877Z"
   },
   {
    "duration": 2,
    "start_time": "2022-08-19T05:48:17.183Z"
   },
   {
    "duration": 20,
    "start_time": "2022-08-19T05:48:17.186Z"
   },
   {
    "duration": 10,
    "start_time": "2022-08-19T05:48:17.207Z"
   },
   {
    "duration": 14,
    "start_time": "2022-08-19T05:48:17.218Z"
   },
   {
    "duration": 66,
    "start_time": "2022-08-19T05:48:17.234Z"
   },
   {
    "duration": 61,
    "start_time": "2022-08-19T05:48:17.302Z"
   },
   {
    "duration": 2,
    "start_time": "2022-08-19T05:48:17.365Z"
   },
   {
    "duration": 9,
    "start_time": "2022-08-19T05:48:17.369Z"
   },
   {
    "duration": 4,
    "start_time": "2022-08-19T05:48:17.379Z"
   },
   {
    "duration": 10,
    "start_time": "2022-08-19T05:48:17.384Z"
   },
   {
    "duration": 41,
    "start_time": "2022-08-19T05:48:17.395Z"
   },
   {
    "duration": 10,
    "start_time": "2022-08-19T05:48:17.438Z"
   },
   {
    "duration": 19,
    "start_time": "2022-08-19T05:48:17.450Z"
   },
   {
    "duration": 3,
    "start_time": "2022-08-19T05:48:17.470Z"
   },
   {
    "duration": 13,
    "start_time": "2022-08-19T05:48:17.474Z"
   },
   {
    "duration": 10,
    "start_time": "2022-08-19T05:48:17.488Z"
   },
   {
    "duration": 6,
    "start_time": "2022-08-19T05:48:17.499Z"
   },
   {
    "duration": 50,
    "start_time": "2022-08-19T05:48:17.507Z"
   },
   {
    "duration": 54,
    "start_time": "2022-08-19T05:48:17.559Z"
   },
   {
    "duration": 4,
    "start_time": "2022-08-19T05:48:17.615Z"
   },
   {
    "duration": 38,
    "start_time": "2022-08-19T05:48:17.620Z"
   },
   {
    "duration": 8,
    "start_time": "2022-08-19T05:48:17.659Z"
   },
   {
    "duration": 9,
    "start_time": "2022-08-19T05:48:17.669Z"
   },
   {
    "duration": 45,
    "start_time": "2022-08-19T05:48:17.679Z"
   },
   {
    "duration": 118,
    "start_time": "2022-08-19T05:48:17.725Z"
   },
   {
    "duration": 19,
    "start_time": "2022-08-19T05:48:17.844Z"
   },
   {
    "duration": 15,
    "start_time": "2022-08-19T05:48:17.864Z"
   },
   {
    "duration": 7,
    "start_time": "2022-08-19T05:48:17.880Z"
   },
   {
    "duration": 76,
    "start_time": "2022-08-19T05:48:17.889Z"
   },
   {
    "duration": 14,
    "start_time": "2022-08-19T05:48:17.967Z"
   },
   {
    "duration": 1657,
    "start_time": "2022-08-19T05:48:17.982Z"
   },
   {
    "duration": 92,
    "start_time": "2022-08-19T05:48:19.642Z"
   },
   {
    "duration": 6,
    "start_time": "2022-08-19T05:48:19.736Z"
   },
   {
    "duration": 38,
    "start_time": "2022-08-19T05:48:19.743Z"
   },
   {
    "duration": 43,
    "start_time": "2022-08-19T05:48:19.782Z"
   },
   {
    "duration": 31,
    "start_time": "2022-08-19T05:48:19.827Z"
   },
   {
    "duration": 1318,
    "start_time": "2022-08-19T05:48:19.859Z"
   },
   {
    "duration": 68,
    "start_time": "2022-08-19T05:48:21.179Z"
   },
   {
    "duration": 4,
    "start_time": "2022-08-19T05:48:21.257Z"
   },
   {
    "duration": 28,
    "start_time": "2022-08-19T05:48:21.263Z"
   },
   {
    "duration": 25,
    "start_time": "2022-08-19T05:48:21.293Z"
   },
   {
    "duration": 291,
    "start_time": "2022-08-19T05:48:21.319Z"
   },
   {
    "duration": 2,
    "start_time": "2022-08-19T05:48:21.611Z"
   },
   {
    "duration": 6,
    "start_time": "2022-08-19T05:48:21.615Z"
   },
   {
    "duration": 4,
    "start_time": "2022-08-19T05:48:21.623Z"
   },
   {
    "duration": 5,
    "start_time": "2022-08-19T05:48:21.628Z"
   },
   {
    "duration": 5,
    "start_time": "2022-08-19T05:48:21.634Z"
   },
   {
    "duration": 97,
    "start_time": "2022-08-19T05:50:40.961Z"
   },
   {
    "duration": 11,
    "start_time": "2022-08-19T05:50:58.566Z"
   },
   {
    "duration": 3,
    "start_time": "2022-08-19T05:51:05.120Z"
   },
   {
    "duration": 1138,
    "start_time": "2022-08-19T05:51:05.125Z"
   },
   {
    "duration": 3,
    "start_time": "2022-08-19T05:51:06.265Z"
   },
   {
    "duration": 277,
    "start_time": "2022-08-19T05:51:06.269Z"
   },
   {
    "duration": 434,
    "start_time": "2022-08-19T05:51:06.549Z"
   },
   {
    "duration": 111,
    "start_time": "2022-08-19T05:51:06.985Z"
   },
   {
    "duration": 75,
    "start_time": "2022-08-19T05:51:07.098Z"
   },
   {
    "duration": 25,
    "start_time": "2022-08-19T05:51:07.175Z"
   },
   {
    "duration": 37,
    "start_time": "2022-08-19T05:51:07.202Z"
   },
   {
    "duration": 167,
    "start_time": "2022-08-19T05:51:07.257Z"
   },
   {
    "duration": 49,
    "start_time": "2022-08-19T05:51:07.425Z"
   },
   {
    "duration": 34,
    "start_time": "2022-08-19T05:51:07.476Z"
   },
   {
    "duration": 49,
    "start_time": "2022-08-19T05:51:07.512Z"
   },
   {
    "duration": 9,
    "start_time": "2022-08-19T05:51:07.564Z"
   },
   {
    "duration": 349,
    "start_time": "2022-08-19T05:51:07.575Z"
   },
   {
    "duration": 9,
    "start_time": "2022-08-19T05:51:07.926Z"
   },
   {
    "duration": 4,
    "start_time": "2022-08-19T05:51:07.937Z"
   },
   {
    "duration": 298,
    "start_time": "2022-08-19T05:51:07.942Z"
   },
   {
    "duration": 250,
    "start_time": "2022-08-19T05:51:08.242Z"
   },
   {
    "duration": 38,
    "start_time": "2022-08-19T05:51:08.493Z"
   },
   {
    "duration": 2,
    "start_time": "2022-08-19T05:51:08.533Z"
   },
   {
    "duration": 46,
    "start_time": "2022-08-19T05:51:08.536Z"
   },
   {
    "duration": 41,
    "start_time": "2022-08-19T05:51:08.583Z"
   },
   {
    "duration": 97,
    "start_time": "2022-08-19T05:51:08.625Z"
   },
   {
    "duration": 159,
    "start_time": "2022-08-19T05:51:08.723Z"
   },
   {
    "duration": 26,
    "start_time": "2022-08-19T05:51:08.884Z"
   },
   {
    "duration": 62,
    "start_time": "2022-08-19T05:51:08.911Z"
   },
   {
    "duration": 84,
    "start_time": "2022-08-19T05:51:08.975Z"
   },
   {
    "duration": 13,
    "start_time": "2022-08-19T05:51:09.060Z"
   },
   {
    "duration": 160,
    "start_time": "2022-08-19T05:51:09.075Z"
   },
   {
    "duration": 4,
    "start_time": "2022-08-19T05:51:09.237Z"
   },
   {
    "duration": 1044,
    "start_time": "2022-08-19T05:51:09.243Z"
   },
   {
    "duration": 23,
    "start_time": "2022-08-19T05:51:10.289Z"
   },
   {
    "duration": 14,
    "start_time": "2022-08-19T05:51:10.313Z"
   },
   {
    "duration": 36,
    "start_time": "2022-08-19T05:51:10.328Z"
   },
   {
    "duration": 12,
    "start_time": "2022-08-19T05:51:10.366Z"
   },
   {
    "duration": 48,
    "start_time": "2022-08-19T05:51:10.380Z"
   },
   {
    "duration": 43,
    "start_time": "2022-08-19T05:51:10.430Z"
   },
   {
    "duration": 322,
    "start_time": "2022-08-19T05:51:10.475Z"
   },
   {
    "duration": 3,
    "start_time": "2022-08-19T05:51:10.799Z"
   },
   {
    "duration": 36,
    "start_time": "2022-08-19T05:51:10.807Z"
   },
   {
    "duration": 10,
    "start_time": "2022-08-19T05:51:10.845Z"
   },
   {
    "duration": 13,
    "start_time": "2022-08-19T05:51:10.857Z"
   },
   {
    "duration": 56,
    "start_time": "2022-08-19T05:51:10.872Z"
   },
   {
    "duration": 70,
    "start_time": "2022-08-19T05:51:10.929Z"
   },
   {
    "duration": 3,
    "start_time": "2022-08-19T05:51:11.000Z"
   },
   {
    "duration": 7,
    "start_time": "2022-08-19T05:51:11.005Z"
   },
   {
    "duration": 4,
    "start_time": "2022-08-19T05:51:11.013Z"
   },
   {
    "duration": 6,
    "start_time": "2022-08-19T05:51:11.018Z"
   },
   {
    "duration": 36,
    "start_time": "2022-08-19T05:51:11.026Z"
   },
   {
    "duration": 11,
    "start_time": "2022-08-19T05:51:11.063Z"
   },
   {
    "duration": 15,
    "start_time": "2022-08-19T05:51:11.075Z"
   },
   {
    "duration": 4,
    "start_time": "2022-08-19T05:51:11.091Z"
   },
   {
    "duration": 14,
    "start_time": "2022-08-19T05:51:11.096Z"
   },
   {
    "duration": 14,
    "start_time": "2022-08-19T05:51:11.111Z"
   },
   {
    "duration": 8,
    "start_time": "2022-08-19T05:51:11.126Z"
   },
   {
    "duration": 31,
    "start_time": "2022-08-19T05:51:11.156Z"
   },
   {
    "duration": 71,
    "start_time": "2022-08-19T05:51:11.189Z"
   },
   {
    "duration": 5,
    "start_time": "2022-08-19T05:51:11.262Z"
   },
   {
    "duration": 7,
    "start_time": "2022-08-19T05:51:11.268Z"
   },
   {
    "duration": 7,
    "start_time": "2022-08-19T05:51:11.276Z"
   },
   {
    "duration": 14,
    "start_time": "2022-08-19T05:51:11.284Z"
   },
   {
    "duration": 62,
    "start_time": "2022-08-19T05:51:11.299Z"
   },
   {
    "duration": 114,
    "start_time": "2022-08-19T05:51:11.363Z"
   },
   {
    "duration": 11,
    "start_time": "2022-08-19T05:51:11.479Z"
   },
   {
    "duration": 18,
    "start_time": "2022-08-19T05:51:11.491Z"
   },
   {
    "duration": 6,
    "start_time": "2022-08-19T05:51:11.510Z"
   },
   {
    "duration": 46,
    "start_time": "2022-08-19T05:51:11.518Z"
   },
   {
    "duration": 12,
    "start_time": "2022-08-19T05:51:11.565Z"
   },
   {
    "duration": 1335,
    "start_time": "2022-08-19T05:51:11.579Z"
   },
   {
    "duration": 89,
    "start_time": "2022-08-19T05:51:12.915Z"
   },
   {
    "duration": 6,
    "start_time": "2022-08-19T05:51:13.005Z"
   },
   {
    "duration": 10,
    "start_time": "2022-08-19T05:51:13.013Z"
   },
   {
    "duration": 33,
    "start_time": "2022-08-19T05:51:13.024Z"
   },
   {
    "duration": 15,
    "start_time": "2022-08-19T05:51:13.059Z"
   },
   {
    "duration": 1283,
    "start_time": "2022-08-19T05:51:13.075Z"
   },
   {
    "duration": 62,
    "start_time": "2022-08-19T05:51:14.359Z"
   },
   {
    "duration": 4,
    "start_time": "2022-08-19T05:51:14.423Z"
   },
   {
    "duration": 8,
    "start_time": "2022-08-19T05:51:14.429Z"
   },
   {
    "duration": 24,
    "start_time": "2022-08-19T05:51:14.438Z"
   },
   {
    "duration": 278,
    "start_time": "2022-08-19T05:51:14.464Z"
   },
   {
    "duration": 2,
    "start_time": "2022-08-19T05:51:14.743Z"
   },
   {
    "duration": 12,
    "start_time": "2022-08-19T05:51:14.746Z"
   },
   {
    "duration": 5,
    "start_time": "2022-08-19T05:51:14.759Z"
   },
   {
    "duration": 8,
    "start_time": "2022-08-19T05:51:14.765Z"
   },
   {
    "duration": 6,
    "start_time": "2022-08-19T05:51:14.774Z"
   },
   {
    "duration": 3,
    "start_time": "2022-08-19T06:10:11.416Z"
   },
   {
    "duration": 25,
    "start_time": "2022-08-19T06:10:12.807Z"
   },
   {
    "duration": 14,
    "start_time": "2022-08-19T06:10:14.497Z"
   },
   {
    "duration": 1461,
    "start_time": "2022-08-19T06:10:16.808Z"
   },
   {
    "duration": 4,
    "start_time": "2022-08-19T06:10:41.224Z"
   },
   {
    "duration": 24,
    "start_time": "2022-08-19T06:10:42.488Z"
   },
   {
    "duration": 17,
    "start_time": "2022-08-19T06:10:43.670Z"
   },
   {
    "duration": 1457,
    "start_time": "2022-08-19T06:10:45.175Z"
   },
   {
    "duration": 29,
    "start_time": "2022-08-19T06:13:15.735Z"
   },
   {
    "duration": 14,
    "start_time": "2022-08-19T06:13:17.862Z"
   },
   {
    "duration": 4,
    "start_time": "2022-08-19T06:13:29.787Z"
   },
   {
    "duration": 1309,
    "start_time": "2022-08-19T06:13:29.793Z"
   },
   {
    "duration": 3,
    "start_time": "2022-08-19T06:13:31.104Z"
   },
   {
    "duration": 347,
    "start_time": "2022-08-19T06:13:31.109Z"
   },
   {
    "duration": 547,
    "start_time": "2022-08-19T06:13:31.459Z"
   },
   {
    "duration": 123,
    "start_time": "2022-08-19T06:13:32.007Z"
   },
   {
    "duration": 83,
    "start_time": "2022-08-19T06:13:32.132Z"
   },
   {
    "duration": 27,
    "start_time": "2022-08-19T06:13:32.216Z"
   },
   {
    "duration": 34,
    "start_time": "2022-08-19T06:13:32.258Z"
   },
   {
    "duration": 198,
    "start_time": "2022-08-19T06:13:32.294Z"
   },
   {
    "duration": 45,
    "start_time": "2022-08-19T06:13:32.493Z"
   },
   {
    "duration": 52,
    "start_time": "2022-08-19T06:13:32.540Z"
   },
   {
    "duration": 41,
    "start_time": "2022-08-19T06:13:32.594Z"
   },
   {
    "duration": 12,
    "start_time": "2022-08-19T06:13:32.660Z"
   },
   {
    "duration": 401,
    "start_time": "2022-08-19T06:13:32.674Z"
   },
   {
    "duration": 10,
    "start_time": "2022-08-19T06:13:33.077Z"
   },
   {
    "duration": 7,
    "start_time": "2022-08-19T06:13:33.089Z"
   },
   {
    "duration": 317,
    "start_time": "2022-08-19T06:13:33.098Z"
   },
   {
    "duration": 269,
    "start_time": "2022-08-19T06:13:33.417Z"
   },
   {
    "duration": 42,
    "start_time": "2022-08-19T06:13:33.687Z"
   },
   {
    "duration": 2,
    "start_time": "2022-08-19T06:13:33.731Z"
   },
   {
    "duration": 45,
    "start_time": "2022-08-19T06:13:33.734Z"
   },
   {
    "duration": 41,
    "start_time": "2022-08-19T06:13:33.781Z"
   },
   {
    "duration": 91,
    "start_time": "2022-08-19T06:13:33.823Z"
   },
   {
    "duration": 182,
    "start_time": "2022-08-19T06:13:33.915Z"
   },
   {
    "duration": 26,
    "start_time": "2022-08-19T06:13:34.098Z"
   },
   {
    "duration": 51,
    "start_time": "2022-08-19T06:13:34.126Z"
   },
   {
    "duration": 88,
    "start_time": "2022-08-19T06:13:34.179Z"
   },
   {
    "duration": 14,
    "start_time": "2022-08-19T06:13:34.268Z"
   },
   {
    "duration": 176,
    "start_time": "2022-08-19T06:13:34.283Z"
   },
   {
    "duration": 3,
    "start_time": "2022-08-19T06:13:34.461Z"
   },
   {
    "duration": 1271,
    "start_time": "2022-08-19T06:13:34.466Z"
   },
   {
    "duration": 36,
    "start_time": "2022-08-19T06:13:35.739Z"
   },
   {
    "duration": 20,
    "start_time": "2022-08-19T06:13:35.777Z"
   },
   {
    "duration": 17,
    "start_time": "2022-08-19T06:13:35.799Z"
   },
   {
    "duration": 26,
    "start_time": "2022-08-19T06:13:35.818Z"
   },
   {
    "duration": 62,
    "start_time": "2022-08-19T06:13:35.845Z"
   },
   {
    "duration": 21,
    "start_time": "2022-08-19T06:13:35.909Z"
   },
   {
    "duration": 365,
    "start_time": "2022-08-19T06:13:35.932Z"
   },
   {
    "duration": 2,
    "start_time": "2022-08-19T06:13:36.299Z"
   },
   {
    "duration": 27,
    "start_time": "2022-08-19T06:13:36.306Z"
   },
   {
    "duration": 11,
    "start_time": "2022-08-19T06:13:36.335Z"
   },
   {
    "duration": 18,
    "start_time": "2022-08-19T06:13:36.348Z"
   },
   {
    "duration": 54,
    "start_time": "2022-08-19T06:13:36.368Z"
   },
   {
    "duration": 58,
    "start_time": "2022-08-19T06:13:36.423Z"
   },
   {
    "duration": 3,
    "start_time": "2022-08-19T06:13:36.482Z"
   },
   {
    "duration": 7,
    "start_time": "2022-08-19T06:13:36.486Z"
   },
   {
    "duration": 3,
    "start_time": "2022-08-19T06:13:36.495Z"
   },
   {
    "duration": 6,
    "start_time": "2022-08-19T06:13:36.500Z"
   },
   {
    "duration": 15,
    "start_time": "2022-08-19T06:13:36.507Z"
   },
   {
    "duration": 34,
    "start_time": "2022-08-19T06:13:36.524Z"
   },
   {
    "duration": 15,
    "start_time": "2022-08-19T06:13:36.560Z"
   },
   {
    "duration": 6,
    "start_time": "2022-08-19T06:13:36.576Z"
   },
   {
    "duration": 13,
    "start_time": "2022-08-19T06:13:36.583Z"
   },
   {
    "duration": 8,
    "start_time": "2022-08-19T06:13:36.597Z"
   },
   {
    "duration": 5,
    "start_time": "2022-08-19T06:13:36.606Z"
   },
   {
    "duration": 61,
    "start_time": "2022-08-19T06:13:36.613Z"
   },
   {
    "duration": 62,
    "start_time": "2022-08-19T06:13:36.676Z"
   },
   {
    "duration": 23,
    "start_time": "2022-08-19T06:13:36.740Z"
   },
   {
    "duration": 12,
    "start_time": "2022-08-19T06:13:36.765Z"
   },
   {
    "duration": 18,
    "start_time": "2022-08-19T06:13:36.779Z"
   },
   {
    "duration": 13,
    "start_time": "2022-08-19T06:13:36.799Z"
   },
   {
    "duration": 56,
    "start_time": "2022-08-19T06:13:36.814Z"
   },
   {
    "duration": 117,
    "start_time": "2022-08-19T06:13:36.872Z"
   },
   {
    "duration": 12,
    "start_time": "2022-08-19T06:13:36.990Z"
   },
   {
    "duration": 19,
    "start_time": "2022-08-19T06:13:37.003Z"
   },
   {
    "duration": 4,
    "start_time": "2022-08-19T06:13:37.024Z"
   },
   {
    "duration": 42,
    "start_time": "2022-08-19T06:13:37.030Z"
   },
   {
    "duration": 14,
    "start_time": "2022-08-19T06:13:37.073Z"
   },
   {
    "duration": 1424,
    "start_time": "2022-08-19T06:13:37.089Z"
   },
   {
    "duration": 95,
    "start_time": "2022-08-19T06:13:38.514Z"
   },
   {
    "duration": 7,
    "start_time": "2022-08-19T06:13:38.611Z"
   },
   {
    "duration": 12,
    "start_time": "2022-08-19T06:13:38.619Z"
   },
   {
    "duration": 48,
    "start_time": "2022-08-19T06:13:38.633Z"
   },
   {
    "duration": 16,
    "start_time": "2022-08-19T06:13:38.684Z"
   },
   {
    "duration": 1372,
    "start_time": "2022-08-19T06:13:38.702Z"
   },
   {
    "duration": 63,
    "start_time": "2022-08-19T06:13:40.075Z"
   },
   {
    "duration": 5,
    "start_time": "2022-08-19T06:13:40.140Z"
   },
   {
    "duration": 20,
    "start_time": "2022-08-19T06:13:40.157Z"
   },
   {
    "duration": 25,
    "start_time": "2022-08-19T06:13:40.179Z"
   },
   {
    "duration": 330,
    "start_time": "2022-08-19T06:13:40.206Z"
   },
   {
    "duration": 3,
    "start_time": "2022-08-19T06:13:40.538Z"
   },
   {
    "duration": 18,
    "start_time": "2022-08-19T06:13:40.542Z"
   },
   {
    "duration": 17,
    "start_time": "2022-08-19T06:13:40.562Z"
   },
   {
    "duration": 21,
    "start_time": "2022-08-19T06:13:40.580Z"
   },
   {
    "duration": 19,
    "start_time": "2022-08-19T06:13:40.602Z"
   },
   {
    "duration": 264,
    "start_time": "2022-08-19T06:17:49.181Z"
   },
   {
    "duration": 3,
    "start_time": "2022-08-19T06:17:57.750Z"
   },
   {
    "duration": 1127,
    "start_time": "2022-08-19T06:17:57.755Z"
   },
   {
    "duration": 3,
    "start_time": "2022-08-19T06:17:58.884Z"
   },
   {
    "duration": 285,
    "start_time": "2022-08-19T06:17:58.890Z"
   },
   {
    "duration": 413,
    "start_time": "2022-08-19T06:17:59.177Z"
   },
   {
    "duration": 105,
    "start_time": "2022-08-19T06:17:59.592Z"
   },
   {
    "duration": 76,
    "start_time": "2022-08-19T06:17:59.699Z"
   },
   {
    "duration": 24,
    "start_time": "2022-08-19T06:17:59.777Z"
   },
   {
    "duration": 29,
    "start_time": "2022-08-19T06:17:59.803Z"
   },
   {
    "duration": 172,
    "start_time": "2022-08-19T06:17:59.834Z"
   },
   {
    "duration": 50,
    "start_time": "2022-08-19T06:18:00.008Z"
   },
   {
    "duration": 35,
    "start_time": "2022-08-19T06:18:00.059Z"
   },
   {
    "duration": 36,
    "start_time": "2022-08-19T06:18:00.095Z"
   },
   {
    "duration": 31,
    "start_time": "2022-08-19T06:18:00.133Z"
   },
   {
    "duration": 369,
    "start_time": "2022-08-19T06:18:00.165Z"
   },
   {
    "duration": 10,
    "start_time": "2022-08-19T06:18:00.536Z"
   },
   {
    "duration": 24,
    "start_time": "2022-08-19T06:18:00.547Z"
   },
   {
    "duration": 301,
    "start_time": "2022-08-19T06:18:00.573Z"
   },
   {
    "duration": 250,
    "start_time": "2022-08-19T06:18:00.876Z"
   },
   {
    "duration": 47,
    "start_time": "2022-08-19T06:18:01.128Z"
   },
   {
    "duration": 2,
    "start_time": "2022-08-19T06:18:01.177Z"
   },
   {
    "duration": 48,
    "start_time": "2022-08-19T06:18:01.180Z"
   },
   {
    "duration": 50,
    "start_time": "2022-08-19T06:18:01.229Z"
   },
   {
    "duration": 99,
    "start_time": "2022-08-19T06:18:01.281Z"
   },
   {
    "duration": 173,
    "start_time": "2022-08-19T06:18:01.382Z"
   },
   {
    "duration": 29,
    "start_time": "2022-08-19T06:18:01.557Z"
   },
   {
    "duration": 70,
    "start_time": "2022-08-19T06:18:01.588Z"
   },
   {
    "duration": 99,
    "start_time": "2022-08-19T06:18:01.664Z"
   },
   {
    "duration": 14,
    "start_time": "2022-08-19T06:18:01.765Z"
   },
   {
    "duration": 191,
    "start_time": "2022-08-19T06:18:01.781Z"
   },
   {
    "duration": 4,
    "start_time": "2022-08-19T06:18:01.974Z"
   },
   {
    "duration": 1077,
    "start_time": "2022-08-19T06:18:01.980Z"
   },
   {
    "duration": 19,
    "start_time": "2022-08-19T06:18:03.059Z"
   },
   {
    "duration": 14,
    "start_time": "2022-08-19T06:18:03.080Z"
   },
   {
    "duration": 21,
    "start_time": "2022-08-19T06:18:03.095Z"
   },
   {
    "duration": 17,
    "start_time": "2022-08-19T06:18:03.118Z"
   },
   {
    "duration": 64,
    "start_time": "2022-08-19T06:18:03.137Z"
   },
   {
    "duration": 18,
    "start_time": "2022-08-19T06:18:03.203Z"
   },
   {
    "duration": 318,
    "start_time": "2022-08-19T06:18:03.223Z"
   },
   {
    "duration": 3,
    "start_time": "2022-08-19T06:18:03.543Z"
   },
   {
    "duration": 21,
    "start_time": "2022-08-19T06:18:03.548Z"
   },
   {
    "duration": 12,
    "start_time": "2022-08-19T06:18:03.571Z"
   },
   {
    "duration": 14,
    "start_time": "2022-08-19T06:18:03.585Z"
   },
   {
    "duration": 82,
    "start_time": "2022-08-19T06:18:03.601Z"
   },
   {
    "duration": 52,
    "start_time": "2022-08-19T06:18:03.685Z"
   },
   {
    "duration": 18,
    "start_time": "2022-08-19T06:18:03.739Z"
   },
   {
    "duration": 11,
    "start_time": "2022-08-19T06:18:03.759Z"
   },
   {
    "duration": 10,
    "start_time": "2022-08-19T06:18:03.771Z"
   },
   {
    "duration": 12,
    "start_time": "2022-08-19T06:18:03.782Z"
   },
   {
    "duration": 15,
    "start_time": "2022-08-19T06:18:03.796Z"
   },
   {
    "duration": 11,
    "start_time": "2022-08-19T06:18:03.812Z"
   },
   {
    "duration": 33,
    "start_time": "2022-08-19T06:18:03.824Z"
   },
   {
    "duration": 5,
    "start_time": "2022-08-19T06:18:03.859Z"
   },
   {
    "duration": 15,
    "start_time": "2022-08-19T06:18:03.865Z"
   },
   {
    "duration": 8,
    "start_time": "2022-08-19T06:18:03.881Z"
   },
   {
    "duration": 4,
    "start_time": "2022-08-19T06:18:03.891Z"
   },
   {
    "duration": 34,
    "start_time": "2022-08-19T06:18:03.897Z"
   },
   {
    "duration": 56,
    "start_time": "2022-08-19T06:18:03.958Z"
   },
   {
    "duration": 5,
    "start_time": "2022-08-19T06:18:04.016Z"
   },
   {
    "duration": 6,
    "start_time": "2022-08-19T06:18:04.023Z"
   },
   {
    "duration": 6,
    "start_time": "2022-08-19T06:18:04.031Z"
   },
   {
    "duration": 13,
    "start_time": "2022-08-19T06:18:04.058Z"
   },
   {
    "duration": 42,
    "start_time": "2022-08-19T06:18:04.073Z"
   },
   {
    "duration": 137,
    "start_time": "2022-08-19T06:18:04.117Z"
   },
   {
    "duration": 13,
    "start_time": "2022-08-19T06:18:04.258Z"
   },
   {
    "duration": 16,
    "start_time": "2022-08-19T06:18:04.273Z"
   },
   {
    "duration": 6,
    "start_time": "2022-08-19T06:18:04.290Z"
   },
   {
    "duration": 25,
    "start_time": "2022-08-19T06:18:04.297Z"
   },
   {
    "duration": 44,
    "start_time": "2022-08-19T06:18:04.324Z"
   },
   {
    "duration": 1593,
    "start_time": "2022-08-19T06:18:04.370Z"
   },
   {
    "duration": 94,
    "start_time": "2022-08-19T06:18:05.965Z"
   },
   {
    "duration": 6,
    "start_time": "2022-08-19T06:18:06.061Z"
   },
   {
    "duration": 14,
    "start_time": "2022-08-19T06:18:06.069Z"
   },
   {
    "duration": 21,
    "start_time": "2022-08-19T06:18:06.085Z"
   },
   {
    "duration": 15,
    "start_time": "2022-08-19T06:18:06.108Z"
   },
   {
    "duration": 1391,
    "start_time": "2022-08-19T06:18:06.124Z"
   },
   {
    "duration": 81,
    "start_time": "2022-08-19T06:18:07.516Z"
   },
   {
    "duration": 4,
    "start_time": "2022-08-19T06:18:07.599Z"
   },
   {
    "duration": 16,
    "start_time": "2022-08-19T06:18:07.605Z"
   },
   {
    "duration": 34,
    "start_time": "2022-08-19T06:18:07.623Z"
   },
   {
    "duration": 280,
    "start_time": "2022-08-19T06:18:07.659Z"
   },
   {
    "duration": 2,
    "start_time": "2022-08-19T06:18:07.944Z"
   },
   {
    "duration": 19,
    "start_time": "2022-08-19T06:18:07.958Z"
   },
   {
    "duration": 17,
    "start_time": "2022-08-19T06:18:07.978Z"
   },
   {
    "duration": 31,
    "start_time": "2022-08-19T06:18:07.996Z"
   },
   {
    "duration": 33,
    "start_time": "2022-08-19T06:18:08.028Z"
   },
   {
    "duration": 4,
    "start_time": "2022-08-19T06:39:03.603Z"
   },
   {
    "duration": 1115,
    "start_time": "2022-08-19T06:39:03.609Z"
   },
   {
    "duration": 3,
    "start_time": "2022-08-19T06:39:04.726Z"
   },
   {
    "duration": 309,
    "start_time": "2022-08-19T06:39:04.730Z"
   },
   {
    "duration": 527,
    "start_time": "2022-08-19T06:39:05.041Z"
   },
   {
    "duration": 102,
    "start_time": "2022-08-19T06:39:05.570Z"
   },
   {
    "duration": 89,
    "start_time": "2022-08-19T06:39:05.674Z"
   },
   {
    "duration": 30,
    "start_time": "2022-08-19T06:39:05.765Z"
   },
   {
    "duration": 29,
    "start_time": "2022-08-19T06:39:05.797Z"
   },
   {
    "duration": 179,
    "start_time": "2022-08-19T06:39:05.829Z"
   },
   {
    "duration": 50,
    "start_time": "2022-08-19T06:39:06.010Z"
   },
   {
    "duration": 37,
    "start_time": "2022-08-19T06:39:06.062Z"
   },
   {
    "duration": 59,
    "start_time": "2022-08-19T06:39:06.101Z"
   },
   {
    "duration": 10,
    "start_time": "2022-08-19T06:39:06.163Z"
   },
   {
    "duration": 388,
    "start_time": "2022-08-19T06:39:06.175Z"
   },
   {
    "duration": 12,
    "start_time": "2022-08-19T06:39:06.565Z"
   },
   {
    "duration": 11,
    "start_time": "2022-08-19T06:39:06.579Z"
   },
   {
    "duration": 329,
    "start_time": "2022-08-19T06:39:06.592Z"
   },
   {
    "duration": 264,
    "start_time": "2022-08-19T06:39:06.922Z"
   },
   {
    "duration": 37,
    "start_time": "2022-08-19T06:39:07.188Z"
   },
   {
    "duration": 18,
    "start_time": "2022-08-19T06:39:07.227Z"
   },
   {
    "duration": 39,
    "start_time": "2022-08-19T06:39:07.246Z"
   },
   {
    "duration": 42,
    "start_time": "2022-08-19T06:39:07.287Z"
   },
   {
    "duration": 95,
    "start_time": "2022-08-19T06:39:07.331Z"
   },
   {
    "duration": 171,
    "start_time": "2022-08-19T06:39:07.428Z"
   },
   {
    "duration": 28,
    "start_time": "2022-08-19T06:39:07.601Z"
   },
   {
    "duration": 62,
    "start_time": "2022-08-19T06:39:07.631Z"
   },
   {
    "duration": 91,
    "start_time": "2022-08-19T06:39:07.696Z"
   },
   {
    "duration": 14,
    "start_time": "2022-08-19T06:39:07.788Z"
   },
   {
    "duration": 187,
    "start_time": "2022-08-19T06:39:07.805Z"
   },
   {
    "duration": 5,
    "start_time": "2022-08-19T06:39:07.993Z"
   },
   {
    "duration": 1136,
    "start_time": "2022-08-19T06:39:07.999Z"
   },
   {
    "duration": 30,
    "start_time": "2022-08-19T06:39:09.137Z"
   },
   {
    "duration": 13,
    "start_time": "2022-08-19T06:39:09.169Z"
   },
   {
    "duration": 23,
    "start_time": "2022-08-19T06:39:09.183Z"
   },
   {
    "duration": 28,
    "start_time": "2022-08-19T06:39:09.208Z"
   },
   {
    "duration": 70,
    "start_time": "2022-08-19T06:39:09.237Z"
   },
   {
    "duration": 19,
    "start_time": "2022-08-19T06:39:09.309Z"
   },
   {
    "duration": 299,
    "start_time": "2022-08-19T06:39:09.330Z"
   },
   {
    "duration": 3,
    "start_time": "2022-08-19T06:39:09.630Z"
   },
   {
    "duration": 44,
    "start_time": "2022-08-19T06:39:09.634Z"
   },
   {
    "duration": 23,
    "start_time": "2022-08-19T06:39:09.680Z"
   },
   {
    "duration": 28,
    "start_time": "2022-08-19T06:39:09.705Z"
   },
   {
    "duration": 63,
    "start_time": "2022-08-19T06:39:09.735Z"
   },
   {
    "duration": 57,
    "start_time": "2022-08-19T06:39:09.800Z"
   },
   {
    "duration": 3,
    "start_time": "2022-08-19T06:39:09.859Z"
   },
   {
    "duration": 33,
    "start_time": "2022-08-19T06:39:09.864Z"
   },
   {
    "duration": 32,
    "start_time": "2022-08-19T06:39:09.899Z"
   },
   {
    "duration": 39,
    "start_time": "2022-08-19T06:39:09.933Z"
   },
   {
    "duration": 31,
    "start_time": "2022-08-19T06:39:09.974Z"
   },
   {
    "duration": 34,
    "start_time": "2022-08-19T06:39:10.007Z"
   },
   {
    "duration": 50,
    "start_time": "2022-08-19T06:39:10.044Z"
   },
   {
    "duration": 19,
    "start_time": "2022-08-19T06:39:10.095Z"
   },
   {
    "duration": 51,
    "start_time": "2022-08-19T06:39:10.115Z"
   },
   {
    "duration": 34,
    "start_time": "2022-08-19T06:39:10.168Z"
   },
   {
    "duration": 62,
    "start_time": "2022-08-19T06:39:10.203Z"
   },
   {
    "duration": 55,
    "start_time": "2022-08-19T06:39:10.267Z"
   },
   {
    "duration": 61,
    "start_time": "2022-08-19T06:39:10.324Z"
   },
   {
    "duration": 7,
    "start_time": "2022-08-19T06:39:10.387Z"
   },
   {
    "duration": 36,
    "start_time": "2022-08-19T06:39:10.395Z"
   },
   {
    "duration": 48,
    "start_time": "2022-08-19T06:39:10.433Z"
   },
   {
    "duration": 33,
    "start_time": "2022-08-19T06:39:10.483Z"
   },
   {
    "duration": 59,
    "start_time": "2022-08-19T06:39:10.518Z"
   },
   {
    "duration": 126,
    "start_time": "2022-08-19T06:39:10.578Z"
   },
   {
    "duration": 16,
    "start_time": "2022-08-19T06:39:10.705Z"
   },
   {
    "duration": 46,
    "start_time": "2022-08-19T06:39:10.723Z"
   },
   {
    "duration": 26,
    "start_time": "2022-08-19T06:39:10.771Z"
   },
   {
    "duration": 50,
    "start_time": "2022-08-19T06:39:10.799Z"
   },
   {
    "duration": 34,
    "start_time": "2022-08-19T06:39:10.851Z"
   },
   {
    "duration": 1515,
    "start_time": "2022-08-19T06:39:10.888Z"
   },
   {
    "duration": 93,
    "start_time": "2022-08-19T06:39:12.404Z"
   },
   {
    "duration": 7,
    "start_time": "2022-08-19T06:39:12.498Z"
   },
   {
    "duration": 15,
    "start_time": "2022-08-19T06:39:12.506Z"
   },
   {
    "duration": 28,
    "start_time": "2022-08-19T06:39:12.523Z"
   },
   {
    "duration": 16,
    "start_time": "2022-08-19T06:39:12.552Z"
   },
   {
    "duration": 1429,
    "start_time": "2022-08-19T06:39:12.570Z"
   },
   {
    "duration": 80,
    "start_time": "2022-08-19T06:39:14.001Z"
   },
   {
    "duration": 5,
    "start_time": "2022-08-19T06:39:14.083Z"
   },
   {
    "duration": 11,
    "start_time": "2022-08-19T06:39:14.089Z"
   },
   {
    "duration": 16,
    "start_time": "2022-08-19T06:39:14.101Z"
   },
   {
    "duration": 332,
    "start_time": "2022-08-19T06:39:14.119Z"
   },
   {
    "duration": 2,
    "start_time": "2022-08-19T06:39:14.461Z"
   },
   {
    "duration": 8,
    "start_time": "2022-08-19T06:39:14.465Z"
   },
   {
    "duration": 7,
    "start_time": "2022-08-19T06:39:14.474Z"
   },
   {
    "duration": 12,
    "start_time": "2022-08-19T06:39:14.482Z"
   },
   {
    "duration": 10,
    "start_time": "2022-08-19T06:39:14.496Z"
   },
   {
    "duration": 252,
    "start_time": "2022-08-19T06:39:34.756Z"
   },
   {
    "duration": 4,
    "start_time": "2022-08-19T06:39:40.745Z"
   },
   {
    "duration": 1123,
    "start_time": "2022-08-19T06:39:40.751Z"
   },
   {
    "duration": 2,
    "start_time": "2022-08-19T06:39:41.876Z"
   },
   {
    "duration": 278,
    "start_time": "2022-08-19T06:39:41.880Z"
   },
   {
    "duration": 427,
    "start_time": "2022-08-19T06:39:42.160Z"
   },
   {
    "duration": 101,
    "start_time": "2022-08-19T06:39:42.588Z"
   },
   {
    "duration": 75,
    "start_time": "2022-08-19T06:39:42.690Z"
   },
   {
    "duration": 24,
    "start_time": "2022-08-19T06:39:42.766Z"
   },
   {
    "duration": 29,
    "start_time": "2022-08-19T06:39:42.791Z"
   },
   {
    "duration": 185,
    "start_time": "2022-08-19T06:39:42.822Z"
   },
   {
    "duration": 49,
    "start_time": "2022-08-19T06:39:43.008Z"
   },
   {
    "duration": 36,
    "start_time": "2022-08-19T06:39:43.059Z"
   },
   {
    "duration": 37,
    "start_time": "2022-08-19T06:39:43.096Z"
   },
   {
    "duration": 29,
    "start_time": "2022-08-19T06:39:43.136Z"
   },
   {
    "duration": 366,
    "start_time": "2022-08-19T06:39:43.167Z"
   },
   {
    "duration": 10,
    "start_time": "2022-08-19T06:39:43.535Z"
   },
   {
    "duration": 12,
    "start_time": "2022-08-19T06:39:43.546Z"
   },
   {
    "duration": 284,
    "start_time": "2022-08-19T06:39:43.560Z"
   },
   {
    "duration": 257,
    "start_time": "2022-08-19T06:39:43.846Z"
   },
   {
    "duration": 35,
    "start_time": "2022-08-19T06:39:44.105Z"
   },
   {
    "duration": 15,
    "start_time": "2022-08-19T06:39:44.142Z"
   },
   {
    "duration": 30,
    "start_time": "2022-08-19T06:39:44.158Z"
   },
   {
    "duration": 41,
    "start_time": "2022-08-19T06:39:44.189Z"
   },
   {
    "duration": 92,
    "start_time": "2022-08-19T06:39:44.232Z"
   },
   {
    "duration": 159,
    "start_time": "2022-08-19T06:39:44.326Z"
   },
   {
    "duration": 27,
    "start_time": "2022-08-19T06:39:44.487Z"
   },
   {
    "duration": 76,
    "start_time": "2022-08-19T06:39:44.516Z"
   },
   {
    "duration": 96,
    "start_time": "2022-08-19T06:39:44.593Z"
   },
   {
    "duration": 12,
    "start_time": "2022-08-19T06:39:44.690Z"
   },
   {
    "duration": 160,
    "start_time": "2022-08-19T06:39:44.703Z"
   },
   {
    "duration": 4,
    "start_time": "2022-08-19T06:39:44.866Z"
   },
   {
    "duration": 1187,
    "start_time": "2022-08-19T06:39:44.871Z"
   },
   {
    "duration": 21,
    "start_time": "2022-08-19T06:39:46.060Z"
   },
   {
    "duration": 14,
    "start_time": "2022-08-19T06:39:46.083Z"
   },
   {
    "duration": 28,
    "start_time": "2022-08-19T06:39:46.098Z"
   },
   {
    "duration": 36,
    "start_time": "2022-08-19T06:39:46.127Z"
   },
   {
    "duration": 67,
    "start_time": "2022-08-19T06:39:46.165Z"
   },
   {
    "duration": 20,
    "start_time": "2022-08-19T06:39:46.234Z"
   },
   {
    "duration": 317,
    "start_time": "2022-08-19T06:39:46.256Z"
   },
   {
    "duration": 2,
    "start_time": "2022-08-19T06:39:46.575Z"
   },
   {
    "duration": 35,
    "start_time": "2022-08-19T06:39:46.582Z"
   },
   {
    "duration": 38,
    "start_time": "2022-08-19T06:39:46.619Z"
   },
   {
    "duration": 24,
    "start_time": "2022-08-19T06:39:46.658Z"
   },
   {
    "duration": 74,
    "start_time": "2022-08-19T06:39:46.684Z"
   },
   {
    "duration": 49,
    "start_time": "2022-08-19T06:39:46.760Z"
   },
   {
    "duration": 3,
    "start_time": "2022-08-19T06:39:46.811Z"
   },
   {
    "duration": 20,
    "start_time": "2022-08-19T06:39:46.816Z"
   },
   {
    "duration": 9,
    "start_time": "2022-08-19T06:39:46.838Z"
   },
   {
    "duration": 21,
    "start_time": "2022-08-19T06:39:46.849Z"
   },
   {
    "duration": 25,
    "start_time": "2022-08-19T06:39:46.872Z"
   },
   {
    "duration": 15,
    "start_time": "2022-08-19T06:39:46.898Z"
   },
   {
    "duration": 18,
    "start_time": "2022-08-19T06:39:46.915Z"
   },
   {
    "duration": 3,
    "start_time": "2022-08-19T06:39:46.935Z"
   },
   {
    "duration": 39,
    "start_time": "2022-08-19T06:39:46.940Z"
   },
   {
    "duration": 15,
    "start_time": "2022-08-19T06:39:46.981Z"
   },
   {
    "duration": 34,
    "start_time": "2022-08-19T06:39:46.998Z"
   },
   {
    "duration": 50,
    "start_time": "2022-08-19T06:39:47.034Z"
   },
   {
    "duration": 54,
    "start_time": "2022-08-19T06:39:47.086Z"
   },
   {
    "duration": 19,
    "start_time": "2022-08-19T06:39:47.141Z"
   },
   {
    "duration": 15,
    "start_time": "2022-08-19T06:39:47.162Z"
   },
   {
    "duration": 29,
    "start_time": "2022-08-19T06:39:47.179Z"
   },
   {
    "duration": 30,
    "start_time": "2022-08-19T06:39:47.210Z"
   },
   {
    "duration": 57,
    "start_time": "2022-08-19T06:39:47.242Z"
   },
   {
    "duration": 118,
    "start_time": "2022-08-19T06:39:47.300Z"
   },
   {
    "duration": 13,
    "start_time": "2022-08-19T06:39:47.420Z"
   },
   {
    "duration": 44,
    "start_time": "2022-08-19T06:39:47.435Z"
   },
   {
    "duration": 25,
    "start_time": "2022-08-19T06:39:47.482Z"
   },
   {
    "duration": 44,
    "start_time": "2022-08-19T06:39:47.509Z"
   },
   {
    "duration": 22,
    "start_time": "2022-08-19T06:39:47.554Z"
   },
   {
    "duration": 1480,
    "start_time": "2022-08-19T06:39:47.579Z"
   },
   {
    "duration": 97,
    "start_time": "2022-08-19T06:39:49.061Z"
   },
   {
    "duration": 6,
    "start_time": "2022-08-19T06:39:49.160Z"
   },
   {
    "duration": 12,
    "start_time": "2022-08-19T06:39:49.168Z"
   },
   {
    "duration": 23,
    "start_time": "2022-08-19T06:39:49.182Z"
   },
   {
    "duration": 22,
    "start_time": "2022-08-19T06:39:49.207Z"
   },
   {
    "duration": 1403,
    "start_time": "2022-08-19T06:39:49.231Z"
   },
   {
    "duration": 72,
    "start_time": "2022-08-19T06:39:50.635Z"
   },
   {
    "duration": 6,
    "start_time": "2022-08-19T06:39:50.709Z"
   },
   {
    "duration": 9,
    "start_time": "2022-08-19T06:39:50.716Z"
   },
   {
    "duration": 14,
    "start_time": "2022-08-19T06:39:50.727Z"
   },
   {
    "duration": 299,
    "start_time": "2022-08-19T06:39:50.743Z"
   },
   {
    "duration": 13,
    "start_time": "2022-08-19T06:39:51.044Z"
   },
   {
    "duration": 10,
    "start_time": "2022-08-19T06:39:51.059Z"
   },
   {
    "duration": 6,
    "start_time": "2022-08-19T06:39:51.071Z"
   },
   {
    "duration": 4,
    "start_time": "2022-08-19T06:39:51.080Z"
   },
   {
    "duration": 6,
    "start_time": "2022-08-19T06:39:51.085Z"
   },
   {
    "duration": 261,
    "start_time": "2022-08-19T06:49:36.166Z"
   },
   {
    "duration": 3,
    "start_time": "2022-08-19T06:49:42.826Z"
   },
   {
    "duration": 1158,
    "start_time": "2022-08-19T06:49:42.831Z"
   },
   {
    "duration": 2,
    "start_time": "2022-08-19T06:49:43.991Z"
   },
   {
    "duration": 297,
    "start_time": "2022-08-19T06:49:43.995Z"
   },
   {
    "duration": 411,
    "start_time": "2022-08-19T06:49:44.295Z"
   },
   {
    "duration": 120,
    "start_time": "2022-08-19T06:49:44.707Z"
   },
   {
    "duration": 80,
    "start_time": "2022-08-19T06:49:44.829Z"
   },
   {
    "duration": 26,
    "start_time": "2022-08-19T06:49:44.912Z"
   },
   {
    "duration": 45,
    "start_time": "2022-08-19T06:49:44.940Z"
   },
   {
    "duration": 216,
    "start_time": "2022-08-19T06:49:44.986Z"
   },
   {
    "duration": 59,
    "start_time": "2022-08-19T06:49:45.204Z"
   },
   {
    "duration": 51,
    "start_time": "2022-08-19T06:49:45.265Z"
   },
   {
    "duration": 71,
    "start_time": "2022-08-19T06:49:45.318Z"
   },
   {
    "duration": 22,
    "start_time": "2022-08-19T06:49:45.394Z"
   },
   {
    "duration": 427,
    "start_time": "2022-08-19T06:49:45.418Z"
   },
   {
    "duration": 19,
    "start_time": "2022-08-19T06:49:45.847Z"
   },
   {
    "duration": 3,
    "start_time": "2022-08-19T06:49:45.868Z"
   },
   {
    "duration": 310,
    "start_time": "2022-08-19T06:49:45.872Z"
   },
   {
    "duration": 260,
    "start_time": "2022-08-19T06:49:46.184Z"
   },
   {
    "duration": 48,
    "start_time": "2022-08-19T06:49:46.446Z"
   },
   {
    "duration": 2,
    "start_time": "2022-08-19T06:49:46.495Z"
   },
   {
    "duration": 39,
    "start_time": "2022-08-19T06:49:46.499Z"
   },
   {
    "duration": 54,
    "start_time": "2022-08-19T06:49:46.539Z"
   },
   {
    "duration": 90,
    "start_time": "2022-08-19T06:49:46.595Z"
   },
   {
    "duration": 170,
    "start_time": "2022-08-19T06:49:46.687Z"
   },
   {
    "duration": 27,
    "start_time": "2022-08-19T06:49:46.859Z"
   },
   {
    "duration": 43,
    "start_time": "2022-08-19T06:49:46.888Z"
   },
   {
    "duration": 96,
    "start_time": "2022-08-19T06:49:46.933Z"
   },
   {
    "duration": 11,
    "start_time": "2022-08-19T06:49:47.031Z"
   },
   {
    "duration": 159,
    "start_time": "2022-08-19T06:49:47.058Z"
   },
   {
    "duration": 4,
    "start_time": "2022-08-19T06:49:47.218Z"
   },
   {
    "duration": 1064,
    "start_time": "2022-08-19T06:49:47.223Z"
   },
   {
    "duration": 22,
    "start_time": "2022-08-19T06:49:48.288Z"
   },
   {
    "duration": 13,
    "start_time": "2022-08-19T06:49:48.312Z"
   },
   {
    "duration": 38,
    "start_time": "2022-08-19T06:49:48.326Z"
   },
   {
    "duration": 10,
    "start_time": "2022-08-19T06:49:48.366Z"
   },
   {
    "duration": 51,
    "start_time": "2022-08-19T06:49:48.378Z"
   },
   {
    "duration": 42,
    "start_time": "2022-08-19T06:49:48.430Z"
   },
   {
    "duration": 355,
    "start_time": "2022-08-19T06:49:48.474Z"
   },
   {
    "duration": 3,
    "start_time": "2022-08-19T06:49:48.832Z"
   },
   {
    "duration": 19,
    "start_time": "2022-08-19T06:49:48.840Z"
   },
   {
    "duration": 10,
    "start_time": "2022-08-19T06:49:48.861Z"
   },
   {
    "duration": 17,
    "start_time": "2022-08-19T06:49:48.873Z"
   },
   {
    "duration": 79,
    "start_time": "2022-08-19T06:49:48.892Z"
   },
   {
    "duration": 52,
    "start_time": "2022-08-19T06:49:48.973Z"
   },
   {
    "duration": 3,
    "start_time": "2022-08-19T06:49:49.027Z"
   },
   {
    "duration": 27,
    "start_time": "2022-08-19T06:49:49.031Z"
   },
   {
    "duration": 9,
    "start_time": "2022-08-19T06:49:49.061Z"
   },
   {
    "duration": 9,
    "start_time": "2022-08-19T06:49:49.072Z"
   },
   {
    "duration": 20,
    "start_time": "2022-08-19T06:49:49.082Z"
   },
   {
    "duration": 12,
    "start_time": "2022-08-19T06:49:49.104Z"
   },
   {
    "duration": 16,
    "start_time": "2022-08-19T06:49:49.119Z"
   },
   {
    "duration": 5,
    "start_time": "2022-08-19T06:49:49.157Z"
   },
   {
    "duration": 23,
    "start_time": "2022-08-19T06:49:49.163Z"
   },
   {
    "duration": 10,
    "start_time": "2022-08-19T06:49:49.187Z"
   },
   {
    "duration": 14,
    "start_time": "2022-08-19T06:49:49.199Z"
   },
   {
    "duration": 51,
    "start_time": "2022-08-19T06:49:49.215Z"
   },
   {
    "duration": 57,
    "start_time": "2022-08-19T06:49:49.268Z"
   },
   {
    "duration": 6,
    "start_time": "2022-08-19T06:49:49.326Z"
   },
   {
    "duration": 28,
    "start_time": "2022-08-19T06:49:49.333Z"
   },
   {
    "duration": 8,
    "start_time": "2022-08-19T06:49:49.364Z"
   },
   {
    "duration": 16,
    "start_time": "2022-08-19T06:49:49.374Z"
   },
   {
    "duration": 88,
    "start_time": "2022-08-19T06:49:49.392Z"
   },
   {
    "duration": 134,
    "start_time": "2022-08-19T06:49:49.482Z"
   },
   {
    "duration": 14,
    "start_time": "2022-08-19T06:49:49.617Z"
   },
   {
    "duration": 34,
    "start_time": "2022-08-19T06:49:49.632Z"
   },
   {
    "duration": 5,
    "start_time": "2022-08-19T06:49:49.667Z"
   },
   {
    "duration": 28,
    "start_time": "2022-08-19T06:49:49.674Z"
   },
   {
    "duration": 15,
    "start_time": "2022-08-19T06:49:49.704Z"
   },
   {
    "duration": 1521,
    "start_time": "2022-08-19T06:49:49.721Z"
   },
   {
    "duration": 102,
    "start_time": "2022-08-19T06:49:51.244Z"
   },
   {
    "duration": 10,
    "start_time": "2022-08-19T06:49:51.348Z"
   },
   {
    "duration": 23,
    "start_time": "2022-08-19T06:49:51.359Z"
   },
   {
    "duration": 28,
    "start_time": "2022-08-19T06:49:51.384Z"
   },
   {
    "duration": 16,
    "start_time": "2022-08-19T06:49:51.413Z"
   },
   {
    "duration": 1446,
    "start_time": "2022-08-19T06:49:51.431Z"
   },
   {
    "duration": 66,
    "start_time": "2022-08-19T06:49:52.879Z"
   },
   {
    "duration": 13,
    "start_time": "2022-08-19T06:49:52.947Z"
   },
   {
    "duration": 18,
    "start_time": "2022-08-19T06:49:52.962Z"
   },
   {
    "duration": 17,
    "start_time": "2022-08-19T06:49:52.982Z"
   },
   {
    "duration": 306,
    "start_time": "2022-08-19T06:49:53.000Z"
   },
   {
    "duration": 3,
    "start_time": "2022-08-19T06:49:53.307Z"
   },
   {
    "duration": 39,
    "start_time": "2022-08-19T06:49:53.311Z"
   },
   {
    "duration": 22,
    "start_time": "2022-08-19T06:49:53.352Z"
   },
   {
    "duration": 18,
    "start_time": "2022-08-19T06:49:53.376Z"
   },
   {
    "duration": 38,
    "start_time": "2022-08-19T06:49:53.395Z"
   },
   {
    "duration": 5,
    "start_time": "2022-08-19T07:00:40.418Z"
   },
   {
    "duration": 1176,
    "start_time": "2022-08-19T07:00:40.425Z"
   },
   {
    "duration": 3,
    "start_time": "2022-08-19T07:00:41.603Z"
   },
   {
    "duration": 330,
    "start_time": "2022-08-19T07:00:41.608Z"
   },
   {
    "duration": 446,
    "start_time": "2022-08-19T07:00:41.941Z"
   },
   {
    "duration": 109,
    "start_time": "2022-08-19T07:00:42.388Z"
   },
   {
    "duration": 81,
    "start_time": "2022-08-19T07:00:42.499Z"
   },
   {
    "duration": 26,
    "start_time": "2022-08-19T07:00:42.582Z"
   },
   {
    "duration": 56,
    "start_time": "2022-08-19T07:00:42.610Z"
   },
   {
    "duration": 182,
    "start_time": "2022-08-19T07:00:42.667Z"
   },
   {
    "duration": 48,
    "start_time": "2022-08-19T07:00:42.850Z"
   },
   {
    "duration": 36,
    "start_time": "2022-08-19T07:00:42.900Z"
   },
   {
    "duration": 57,
    "start_time": "2022-08-19T07:00:42.938Z"
   },
   {
    "duration": 13,
    "start_time": "2022-08-19T07:00:42.999Z"
   },
   {
    "duration": 384,
    "start_time": "2022-08-19T07:00:43.014Z"
   },
   {
    "duration": 10,
    "start_time": "2022-08-19T07:00:43.399Z"
   },
   {
    "duration": 23,
    "start_time": "2022-08-19T07:00:43.411Z"
   },
   {
    "duration": 296,
    "start_time": "2022-08-19T07:00:43.436Z"
   },
   {
    "duration": 263,
    "start_time": "2022-08-19T07:00:43.735Z"
   },
   {
    "duration": 59,
    "start_time": "2022-08-19T07:00:43.999Z"
   },
   {
    "duration": 3,
    "start_time": "2022-08-19T07:00:44.060Z"
   },
   {
    "duration": 43,
    "start_time": "2022-08-19T07:00:44.065Z"
   },
   {
    "duration": 48,
    "start_time": "2022-08-19T07:00:44.110Z"
   },
   {
    "duration": 82,
    "start_time": "2022-08-19T07:00:44.160Z"
   },
   {
    "duration": 175,
    "start_time": "2022-08-19T07:00:44.244Z"
   },
   {
    "duration": 38,
    "start_time": "2022-08-19T07:00:44.420Z"
   },
   {
    "duration": 46,
    "start_time": "2022-08-19T07:00:44.460Z"
   },
   {
    "duration": 95,
    "start_time": "2022-08-19T07:00:44.507Z"
   },
   {
    "duration": 12,
    "start_time": "2022-08-19T07:00:44.603Z"
   },
   {
    "duration": 171,
    "start_time": "2022-08-19T07:00:44.617Z"
   },
   {
    "duration": 5,
    "start_time": "2022-08-19T07:00:44.789Z"
   },
   {
    "duration": 1237,
    "start_time": "2022-08-19T07:00:44.796Z"
   },
   {
    "duration": 33,
    "start_time": "2022-08-19T07:00:46.034Z"
   },
   {
    "duration": 15,
    "start_time": "2022-08-19T07:00:46.069Z"
   },
   {
    "duration": 22,
    "start_time": "2022-08-19T07:00:46.086Z"
   },
   {
    "duration": 50,
    "start_time": "2022-08-19T07:00:46.110Z"
   },
   {
    "duration": 84,
    "start_time": "2022-08-19T07:00:46.162Z"
   },
   {
    "duration": 19,
    "start_time": "2022-08-19T07:00:46.247Z"
   },
   {
    "duration": 325,
    "start_time": "2022-08-19T07:00:46.268Z"
   },
   {
    "duration": 3,
    "start_time": "2022-08-19T07:00:46.594Z"
   },
   {
    "duration": 57,
    "start_time": "2022-08-19T07:00:46.601Z"
   },
   {
    "duration": 10,
    "start_time": "2022-08-19T07:00:46.660Z"
   },
   {
    "duration": 30,
    "start_time": "2022-08-19T07:00:46.672Z"
   },
   {
    "duration": 61,
    "start_time": "2022-08-19T07:00:46.703Z"
   },
   {
    "duration": 57,
    "start_time": "2022-08-19T07:00:46.766Z"
   },
   {
    "duration": 3,
    "start_time": "2022-08-19T07:00:46.824Z"
   },
   {
    "duration": 39,
    "start_time": "2022-08-19T07:00:46.829Z"
   },
   {
    "duration": 27,
    "start_time": "2022-08-19T07:00:46.870Z"
   },
   {
    "duration": 19,
    "start_time": "2022-08-19T07:00:46.899Z"
   },
   {
    "duration": 63,
    "start_time": "2022-08-19T07:00:46.920Z"
   },
   {
    "duration": 30,
    "start_time": "2022-08-19T07:00:46.985Z"
   },
   {
    "duration": 29,
    "start_time": "2022-08-19T07:00:47.017Z"
   },
   {
    "duration": 5,
    "start_time": "2022-08-19T07:00:47.048Z"
   },
   {
    "duration": 60,
    "start_time": "2022-08-19T07:00:47.055Z"
   },
   {
    "duration": 37,
    "start_time": "2022-08-19T07:00:47.117Z"
   },
   {
    "duration": 38,
    "start_time": "2022-08-19T07:00:47.156Z"
   },
   {
    "duration": 64,
    "start_time": "2022-08-19T07:00:47.196Z"
   },
   {
    "duration": 64,
    "start_time": "2022-08-19T07:00:47.262Z"
   },
   {
    "duration": 5,
    "start_time": "2022-08-19T07:00:47.328Z"
   },
   {
    "duration": 38,
    "start_time": "2022-08-19T07:00:47.335Z"
   },
   {
    "duration": 45,
    "start_time": "2022-08-19T07:00:47.375Z"
   },
   {
    "duration": 43,
    "start_time": "2022-08-19T07:00:47.422Z"
   },
   {
    "duration": 83,
    "start_time": "2022-08-19T07:00:47.467Z"
   },
   {
    "duration": 122,
    "start_time": "2022-08-19T07:00:47.552Z"
   },
   {
    "duration": 14,
    "start_time": "2022-08-19T07:00:47.677Z"
   },
   {
    "duration": 46,
    "start_time": "2022-08-19T07:00:47.693Z"
   },
   {
    "duration": 23,
    "start_time": "2022-08-19T07:00:47.741Z"
   },
   {
    "duration": 49,
    "start_time": "2022-08-19T07:00:47.765Z"
   },
   {
    "duration": 26,
    "start_time": "2022-08-19T07:00:47.816Z"
   },
   {
    "duration": 1492,
    "start_time": "2022-08-19T07:00:47.844Z"
   },
   {
    "duration": 118,
    "start_time": "2022-08-19T07:00:49.338Z"
   },
   {
    "duration": 8,
    "start_time": "2022-08-19T07:00:49.457Z"
   },
   {
    "duration": 51,
    "start_time": "2022-08-19T07:00:49.466Z"
   },
   {
    "duration": 46,
    "start_time": "2022-08-19T07:00:49.519Z"
   },
   {
    "duration": 37,
    "start_time": "2022-08-19T07:00:49.567Z"
   },
   {
    "duration": 1627,
    "start_time": "2022-08-19T07:00:49.606Z"
   },
   {
    "duration": 91,
    "start_time": "2022-08-19T07:00:51.236Z"
   },
   {
    "duration": 5,
    "start_time": "2022-08-19T07:00:51.329Z"
   },
   {
    "duration": 41,
    "start_time": "2022-08-19T07:00:51.337Z"
   },
   {
    "duration": 64,
    "start_time": "2022-08-19T07:00:51.381Z"
   },
   {
    "duration": 319,
    "start_time": "2022-08-19T07:00:51.447Z"
   },
   {
    "duration": 3,
    "start_time": "2022-08-19T07:00:51.768Z"
   },
   {
    "duration": 58,
    "start_time": "2022-08-19T07:00:51.773Z"
   },
   {
    "duration": 36,
    "start_time": "2022-08-19T07:00:51.833Z"
   },
   {
    "duration": 38,
    "start_time": "2022-08-19T07:00:51.871Z"
   },
   {
    "duration": 45,
    "start_time": "2022-08-19T07:00:51.910Z"
   },
   {
    "duration": 4,
    "start_time": "2022-08-19T07:03:14.144Z"
   },
   {
    "duration": 1246,
    "start_time": "2022-08-19T07:03:14.151Z"
   },
   {
    "duration": 3,
    "start_time": "2022-08-19T07:03:15.399Z"
   },
   {
    "duration": 353,
    "start_time": "2022-08-19T07:03:15.403Z"
   },
   {
    "duration": 517,
    "start_time": "2022-08-19T07:03:15.759Z"
   },
   {
    "duration": 102,
    "start_time": "2022-08-19T07:03:16.278Z"
   },
   {
    "duration": 77,
    "start_time": "2022-08-19T07:03:16.381Z"
   },
   {
    "duration": 25,
    "start_time": "2022-08-19T07:03:16.459Z"
   },
   {
    "duration": 30,
    "start_time": "2022-08-19T07:03:16.486Z"
   },
   {
    "duration": 214,
    "start_time": "2022-08-19T07:03:16.518Z"
   },
   {
    "duration": 47,
    "start_time": "2022-08-19T07:03:16.734Z"
   },
   {
    "duration": 55,
    "start_time": "2022-08-19T07:03:16.783Z"
   },
   {
    "duration": 44,
    "start_time": "2022-08-19T07:03:16.839Z"
   },
   {
    "duration": 15,
    "start_time": "2022-08-19T07:03:16.886Z"
   },
   {
    "duration": 415,
    "start_time": "2022-08-19T07:03:16.904Z"
   },
   {
    "duration": 12,
    "start_time": "2022-08-19T07:03:17.321Z"
   },
   {
    "duration": 4,
    "start_time": "2022-08-19T07:03:17.335Z"
   },
   {
    "duration": 326,
    "start_time": "2022-08-19T07:03:17.341Z"
   },
   {
    "duration": 274,
    "start_time": "2022-08-19T07:03:17.669Z"
   },
   {
    "duration": 66,
    "start_time": "2022-08-19T07:03:17.944Z"
   },
   {
    "duration": 2,
    "start_time": "2022-08-19T07:03:18.012Z"
   },
   {
    "duration": 56,
    "start_time": "2022-08-19T07:03:18.015Z"
   },
   {
    "duration": 65,
    "start_time": "2022-08-19T07:03:18.074Z"
   },
   {
    "duration": 121,
    "start_time": "2022-08-19T07:03:18.141Z"
   },
   {
    "duration": 176,
    "start_time": "2022-08-19T07:03:18.264Z"
   },
   {
    "duration": 46,
    "start_time": "2022-08-19T07:03:18.442Z"
   },
   {
    "duration": 69,
    "start_time": "2022-08-19T07:03:18.490Z"
   },
   {
    "duration": 88,
    "start_time": "2022-08-19T07:03:18.560Z"
   },
   {
    "duration": 12,
    "start_time": "2022-08-19T07:03:18.658Z"
   },
   {
    "duration": 189,
    "start_time": "2022-08-19T07:03:18.672Z"
   },
   {
    "duration": 4,
    "start_time": "2022-08-19T07:03:18.863Z"
   },
   {
    "duration": 1056,
    "start_time": "2022-08-19T07:03:18.868Z"
   },
   {
    "duration": 20,
    "start_time": "2022-08-19T07:03:19.926Z"
   },
   {
    "duration": 14,
    "start_time": "2022-08-19T07:03:19.957Z"
   },
   {
    "duration": 18,
    "start_time": "2022-08-19T07:03:19.972Z"
   },
   {
    "duration": 12,
    "start_time": "2022-08-19T07:03:19.991Z"
   },
   {
    "duration": 67,
    "start_time": "2022-08-19T07:03:20.005Z"
   },
   {
    "duration": 28,
    "start_time": "2022-08-19T07:03:20.074Z"
   },
   {
    "duration": 321,
    "start_time": "2022-08-19T07:03:20.104Z"
   },
   {
    "duration": 2,
    "start_time": "2022-08-19T07:03:20.427Z"
   },
   {
    "duration": 30,
    "start_time": "2022-08-19T07:03:20.433Z"
   },
   {
    "duration": 10,
    "start_time": "2022-08-19T07:03:20.465Z"
   },
   {
    "duration": 21,
    "start_time": "2022-08-19T07:03:20.477Z"
   },
   {
    "duration": 61,
    "start_time": "2022-08-19T07:03:20.500Z"
   },
   {
    "duration": 61,
    "start_time": "2022-08-19T07:03:20.563Z"
   },
   {
    "duration": 3,
    "start_time": "2022-08-19T07:03:20.626Z"
   },
   {
    "duration": 13,
    "start_time": "2022-08-19T07:03:20.630Z"
   },
   {
    "duration": 8,
    "start_time": "2022-08-19T07:03:20.658Z"
   },
   {
    "duration": 7,
    "start_time": "2022-08-19T07:03:20.668Z"
   },
   {
    "duration": 23,
    "start_time": "2022-08-19T07:03:20.677Z"
   },
   {
    "duration": 12,
    "start_time": "2022-08-19T07:03:20.701Z"
   },
   {
    "duration": 17,
    "start_time": "2022-08-19T07:03:20.715Z"
   },
   {
    "duration": 4,
    "start_time": "2022-08-19T07:03:20.734Z"
   },
   {
    "duration": 12,
    "start_time": "2022-08-19T07:03:20.758Z"
   },
   {
    "duration": 25,
    "start_time": "2022-08-19T07:03:20.772Z"
   },
   {
    "duration": 8,
    "start_time": "2022-08-19T07:03:20.799Z"
   },
   {
    "duration": 48,
    "start_time": "2022-08-19T07:03:20.809Z"
   },
   {
    "duration": 55,
    "start_time": "2022-08-19T07:03:20.859Z"
   },
   {
    "duration": 5,
    "start_time": "2022-08-19T07:03:20.916Z"
   },
   {
    "duration": 14,
    "start_time": "2022-08-19T07:03:20.923Z"
   },
   {
    "duration": 22,
    "start_time": "2022-08-19T07:03:20.938Z"
   },
   {
    "duration": 12,
    "start_time": "2022-08-19T07:03:20.961Z"
   },
   {
    "duration": 46,
    "start_time": "2022-08-19T07:03:20.975Z"
   },
   {
    "duration": 137,
    "start_time": "2022-08-19T07:03:21.023Z"
   },
   {
    "duration": 14,
    "start_time": "2022-08-19T07:03:21.162Z"
   },
   {
    "duration": 17,
    "start_time": "2022-08-19T07:03:21.178Z"
   },
   {
    "duration": 5,
    "start_time": "2022-08-19T07:03:21.197Z"
   },
   {
    "duration": 55,
    "start_time": "2022-08-19T07:03:21.204Z"
   },
   {
    "duration": 18,
    "start_time": "2022-08-19T07:03:21.261Z"
   },
   {
    "duration": 1509,
    "start_time": "2022-08-19T07:03:21.281Z"
   },
   {
    "duration": 96,
    "start_time": "2022-08-19T07:03:22.792Z"
   },
   {
    "duration": 7,
    "start_time": "2022-08-19T07:03:22.890Z"
   },
   {
    "duration": 14,
    "start_time": "2022-08-19T07:03:22.899Z"
   },
   {
    "duration": 25,
    "start_time": "2022-08-19T07:03:22.915Z"
   },
   {
    "duration": 23,
    "start_time": "2022-08-19T07:03:22.942Z"
   },
   {
    "duration": 1446,
    "start_time": "2022-08-19T07:03:22.967Z"
   },
   {
    "duration": 75,
    "start_time": "2022-08-19T07:03:24.415Z"
   },
   {
    "duration": 5,
    "start_time": "2022-08-19T07:03:24.492Z"
   },
   {
    "duration": 21,
    "start_time": "2022-08-19T07:03:24.499Z"
   },
   {
    "duration": 22,
    "start_time": "2022-08-19T07:03:24.521Z"
   },
   {
    "duration": 312,
    "start_time": "2022-08-19T07:03:24.545Z"
   },
   {
    "duration": 3,
    "start_time": "2022-08-19T07:03:24.859Z"
   },
   {
    "duration": 9,
    "start_time": "2022-08-19T07:03:24.864Z"
   },
   {
    "duration": 27,
    "start_time": "2022-08-19T07:03:24.875Z"
   },
   {
    "duration": 10,
    "start_time": "2022-08-19T07:03:24.904Z"
   },
   {
    "duration": 10,
    "start_time": "2022-08-19T07:03:24.915Z"
   },
   {
    "duration": 19,
    "start_time": "2022-08-19T07:12:00.772Z"
   },
   {
    "duration": 18,
    "start_time": "2022-08-19T07:12:28.627Z"
   },
   {
    "duration": 16,
    "start_time": "2022-08-19T07:12:38.223Z"
   },
   {
    "duration": 17,
    "start_time": "2022-08-19T07:12:53.683Z"
   },
   {
    "duration": 26,
    "start_time": "2022-08-19T07:13:15.226Z"
   },
   {
    "duration": 101,
    "start_time": "2022-08-19T07:14:17.179Z"
   },
   {
    "duration": 4,
    "start_time": "2022-08-19T07:14:24.847Z"
   },
   {
    "duration": 10,
    "start_time": "2022-08-19T07:14:50.031Z"
   },
   {
    "duration": 16,
    "start_time": "2022-08-19T07:16:27.331Z"
   },
   {
    "duration": 13,
    "start_time": "2022-08-19T07:18:19.889Z"
   },
   {
    "duration": 12,
    "start_time": "2022-08-19T07:18:28.347Z"
   },
   {
    "duration": 16,
    "start_time": "2022-08-19T07:19:33.889Z"
   },
   {
    "duration": 17,
    "start_time": "2022-08-19T07:22:57.851Z"
   },
   {
    "duration": 22,
    "start_time": "2022-08-19T07:24:33.585Z"
   },
   {
    "duration": 14,
    "start_time": "2022-08-19T07:24:35.056Z"
   },
   {
    "duration": 1427,
    "start_time": "2022-08-19T07:24:37.430Z"
   },
   {
    "duration": 15,
    "start_time": "2022-08-19T07:25:00.528Z"
   },
   {
    "duration": 13,
    "start_time": "2022-08-19T07:25:01.880Z"
   },
   {
    "duration": 1509,
    "start_time": "2022-08-19T07:25:06.232Z"
   },
   {
    "duration": 30,
    "start_time": "2022-08-19T07:25:17.674Z"
   },
   {
    "duration": 28,
    "start_time": "2022-08-19T07:25:19.224Z"
   },
   {
    "duration": 1341,
    "start_time": "2022-08-19T07:25:20.584Z"
   },
   {
    "duration": 24,
    "start_time": "2022-08-19T07:28:27.236Z"
   },
   {
    "duration": 23,
    "start_time": "2022-08-19T07:32:16.150Z"
   },
   {
    "duration": 15,
    "start_time": "2022-08-19T07:32:17.416Z"
   },
   {
    "duration": 21,
    "start_time": "2022-08-19T07:32:28.220Z"
   },
   {
    "duration": 16,
    "start_time": "2022-08-19T07:32:29.147Z"
   },
   {
    "duration": 891,
    "start_time": "2022-08-19T07:41:13.417Z"
   },
   {
    "duration": 3,
    "start_time": "2022-08-19T07:41:33.917Z"
   },
   {
    "duration": 1089,
    "start_time": "2022-08-19T07:41:33.922Z"
   },
   {
    "duration": 4,
    "start_time": "2022-08-19T07:41:35.012Z"
   },
   {
    "duration": 383,
    "start_time": "2022-08-19T07:41:35.017Z"
   },
   {
    "duration": 417,
    "start_time": "2022-08-19T07:41:35.403Z"
   },
   {
    "duration": 116,
    "start_time": "2022-08-19T07:41:35.822Z"
   },
   {
    "duration": 81,
    "start_time": "2022-08-19T07:41:35.940Z"
   },
   {
    "duration": 35,
    "start_time": "2022-08-19T07:41:36.023Z"
   },
   {
    "duration": 32,
    "start_time": "2022-08-19T07:41:36.059Z"
   },
   {
    "duration": 176,
    "start_time": "2022-08-19T07:41:36.092Z"
   },
   {
    "duration": 42,
    "start_time": "2022-08-19T07:41:36.270Z"
   },
   {
    "duration": 55,
    "start_time": "2022-08-19T07:41:36.313Z"
   },
   {
    "duration": 37,
    "start_time": "2022-08-19T07:41:36.370Z"
   },
   {
    "duration": 10,
    "start_time": "2022-08-19T07:41:36.410Z"
   },
   {
    "duration": 367,
    "start_time": "2022-08-19T07:41:36.422Z"
   },
   {
    "duration": 11,
    "start_time": "2022-08-19T07:41:36.791Z"
   },
   {
    "duration": 3,
    "start_time": "2022-08-19T07:41:36.804Z"
   },
   {
    "duration": 301,
    "start_time": "2022-08-19T07:41:36.809Z"
   },
   {
    "duration": 251,
    "start_time": "2022-08-19T07:41:37.112Z"
   },
   {
    "duration": 37,
    "start_time": "2022-08-19T07:41:37.364Z"
   },
   {
    "duration": 2,
    "start_time": "2022-08-19T07:41:37.403Z"
   },
   {
    "duration": 33,
    "start_time": "2022-08-19T07:41:37.407Z"
   },
   {
    "duration": 54,
    "start_time": "2022-08-19T07:41:37.442Z"
   },
   {
    "duration": 94,
    "start_time": "2022-08-19T07:41:37.497Z"
   },
   {
    "duration": 162,
    "start_time": "2022-08-19T07:41:37.593Z"
   },
   {
    "duration": 26,
    "start_time": "2022-08-19T07:41:37.757Z"
   },
   {
    "duration": 44,
    "start_time": "2022-08-19T07:41:37.785Z"
   },
   {
    "duration": 96,
    "start_time": "2022-08-19T07:41:37.831Z"
   },
   {
    "duration": 11,
    "start_time": "2022-08-19T07:41:37.929Z"
   },
   {
    "duration": 169,
    "start_time": "2022-08-19T07:41:37.942Z"
   },
   {
    "duration": 3,
    "start_time": "2022-08-19T07:41:38.113Z"
   },
   {
    "duration": 1146,
    "start_time": "2022-08-19T07:41:38.118Z"
   },
   {
    "duration": 23,
    "start_time": "2022-08-19T07:41:39.266Z"
   },
   {
    "duration": 23,
    "start_time": "2022-08-19T07:41:39.291Z"
   },
   {
    "duration": 20,
    "start_time": "2022-08-19T07:41:39.316Z"
   },
   {
    "duration": 31,
    "start_time": "2022-08-19T07:41:39.338Z"
   },
   {
    "duration": 49,
    "start_time": "2022-08-19T07:41:39.370Z"
   },
   {
    "duration": 19,
    "start_time": "2022-08-19T07:41:39.421Z"
   },
   {
    "duration": 319,
    "start_time": "2022-08-19T07:41:39.442Z"
   },
   {
    "duration": 3,
    "start_time": "2022-08-19T07:41:39.763Z"
   },
   {
    "duration": 25,
    "start_time": "2022-08-19T07:41:39.772Z"
   },
   {
    "duration": 11,
    "start_time": "2022-08-19T07:41:39.798Z"
   },
   {
    "duration": 21,
    "start_time": "2022-08-19T07:41:39.811Z"
   },
   {
    "duration": 72,
    "start_time": "2022-08-19T07:41:39.833Z"
   },
   {
    "duration": 69,
    "start_time": "2022-08-19T07:41:39.908Z"
   },
   {
    "duration": 3,
    "start_time": "2022-08-19T07:41:39.979Z"
   },
   {
    "duration": 9,
    "start_time": "2022-08-19T07:41:39.984Z"
   },
   {
    "duration": 8,
    "start_time": "2022-08-19T07:41:39.994Z"
   },
   {
    "duration": 18,
    "start_time": "2022-08-19T07:41:40.004Z"
   },
   {
    "duration": 38,
    "start_time": "2022-08-19T07:41:40.026Z"
   },
   {
    "duration": 15,
    "start_time": "2022-08-19T07:41:40.066Z"
   },
   {
    "duration": 17,
    "start_time": "2022-08-19T07:41:40.083Z"
   },
   {
    "duration": 4,
    "start_time": "2022-08-19T07:41:40.102Z"
   },
   {
    "duration": 16,
    "start_time": "2022-08-19T07:41:40.108Z"
   },
   {
    "duration": 16,
    "start_time": "2022-08-19T07:41:40.126Z"
   },
   {
    "duration": 13,
    "start_time": "2022-08-19T07:41:40.145Z"
   },
   {
    "duration": 51,
    "start_time": "2022-08-19T07:41:40.160Z"
   },
   {
    "duration": 78,
    "start_time": "2022-08-19T07:41:40.213Z"
   },
   {
    "duration": 5,
    "start_time": "2022-08-19T07:41:40.293Z"
   },
   {
    "duration": 12,
    "start_time": "2022-08-19T07:41:40.300Z"
   },
   {
    "duration": 14,
    "start_time": "2022-08-19T07:41:40.314Z"
   },
   {
    "duration": 16,
    "start_time": "2022-08-19T07:41:40.330Z"
   },
   {
    "duration": 49,
    "start_time": "2022-08-19T07:41:40.358Z"
   },
   {
    "duration": 131,
    "start_time": "2022-08-19T07:41:40.408Z"
   },
   {
    "duration": 23,
    "start_time": "2022-08-19T07:41:40.541Z"
   },
   {
    "duration": 27,
    "start_time": "2022-08-19T07:41:40.566Z"
   },
   {
    "duration": 14,
    "start_time": "2022-08-19T07:41:40.595Z"
   },
   {
    "duration": 39,
    "start_time": "2022-08-19T07:41:40.611Z"
   },
   {
    "duration": 19,
    "start_time": "2022-08-19T07:41:40.652Z"
   },
   {
    "duration": 1478,
    "start_time": "2022-08-19T07:41:40.673Z"
   },
   {
    "duration": 83,
    "start_time": "2022-08-19T07:41:42.157Z"
   },
   {
    "duration": 7,
    "start_time": "2022-08-19T07:41:42.241Z"
   },
   {
    "duration": 6,
    "start_time": "2022-08-19T07:41:42.257Z"
   },
   {
    "duration": 892,
    "start_time": "2022-08-19T07:41:42.265Z"
   },
   {
    "duration": 0,
    "start_time": "2022-08-19T07:41:43.159Z"
   },
   {
    "duration": 0,
    "start_time": "2022-08-19T07:41:43.161Z"
   },
   {
    "duration": 0,
    "start_time": "2022-08-19T07:41:43.162Z"
   },
   {
    "duration": 0,
    "start_time": "2022-08-19T07:41:43.164Z"
   },
   {
    "duration": 0,
    "start_time": "2022-08-19T07:41:43.165Z"
   },
   {
    "duration": 0,
    "start_time": "2022-08-19T07:41:43.167Z"
   },
   {
    "duration": 0,
    "start_time": "2022-08-19T07:41:43.168Z"
   },
   {
    "duration": 0,
    "start_time": "2022-08-19T07:41:43.170Z"
   },
   {
    "duration": 0,
    "start_time": "2022-08-19T07:41:43.172Z"
   },
   {
    "duration": 0,
    "start_time": "2022-08-19T07:41:43.173Z"
   },
   {
    "duration": 0,
    "start_time": "2022-08-19T07:41:43.175Z"
   },
   {
    "duration": 0,
    "start_time": "2022-08-19T07:41:43.177Z"
   },
   {
    "duration": 0,
    "start_time": "2022-08-19T07:41:43.178Z"
   },
   {
    "duration": 24,
    "start_time": "2022-08-19T07:42:19.262Z"
   },
   {
    "duration": 16,
    "start_time": "2022-08-19T07:42:20.817Z"
   },
   {
    "duration": 13,
    "start_time": "2022-08-19T07:42:24.243Z"
   },
   {
    "duration": 1540,
    "start_time": "2022-08-19T07:42:30.913Z"
   },
   {
    "duration": 21,
    "start_time": "2022-08-19T07:42:45.558Z"
   },
   {
    "duration": 16,
    "start_time": "2022-08-19T07:42:46.822Z"
   },
   {
    "duration": 13,
    "start_time": "2022-08-19T07:42:52.654Z"
   },
   {
    "duration": 1475,
    "start_time": "2022-08-19T07:42:54.278Z"
   },
   {
    "duration": 22,
    "start_time": "2022-08-19T07:45:40.647Z"
   },
   {
    "duration": 16,
    "start_time": "2022-08-19T07:45:41.931Z"
   },
   {
    "duration": 4,
    "start_time": "2022-08-19T07:45:49.229Z"
   },
   {
    "duration": 1207,
    "start_time": "2022-08-19T07:45:49.236Z"
   },
   {
    "duration": 4,
    "start_time": "2022-08-19T07:45:50.444Z"
   },
   {
    "duration": 303,
    "start_time": "2022-08-19T07:45:50.450Z"
   },
   {
    "duration": 445,
    "start_time": "2022-08-19T07:45:50.755Z"
   },
   {
    "duration": 119,
    "start_time": "2022-08-19T07:45:51.202Z"
   },
   {
    "duration": 81,
    "start_time": "2022-08-19T07:45:51.323Z"
   },
   {
    "duration": 25,
    "start_time": "2022-08-19T07:45:51.406Z"
   },
   {
    "duration": 48,
    "start_time": "2022-08-19T07:45:51.432Z"
   },
   {
    "duration": 172,
    "start_time": "2022-08-19T07:45:51.482Z"
   },
   {
    "duration": 44,
    "start_time": "2022-08-19T07:45:51.655Z"
   },
   {
    "duration": 36,
    "start_time": "2022-08-19T07:45:51.701Z"
   },
   {
    "duration": 38,
    "start_time": "2022-08-19T07:45:51.757Z"
   },
   {
    "duration": 13,
    "start_time": "2022-08-19T07:45:51.798Z"
   },
   {
    "duration": 373,
    "start_time": "2022-08-19T07:45:51.813Z"
   },
   {
    "duration": 10,
    "start_time": "2022-08-19T07:45:52.188Z"
   },
   {
    "duration": 6,
    "start_time": "2022-08-19T07:45:52.199Z"
   },
   {
    "duration": 296,
    "start_time": "2022-08-19T07:45:52.206Z"
   },
   {
    "duration": 253,
    "start_time": "2022-08-19T07:45:52.504Z"
   },
   {
    "duration": 37,
    "start_time": "2022-08-19T07:45:52.759Z"
   },
   {
    "duration": 2,
    "start_time": "2022-08-19T07:45:52.798Z"
   },
   {
    "duration": 32,
    "start_time": "2022-08-19T07:45:52.802Z"
   },
   {
    "duration": 54,
    "start_time": "2022-08-19T07:45:52.835Z"
   },
   {
    "duration": 99,
    "start_time": "2022-08-19T07:45:52.890Z"
   },
   {
    "duration": 160,
    "start_time": "2022-08-19T07:45:52.991Z"
   },
   {
    "duration": 30,
    "start_time": "2022-08-19T07:45:53.152Z"
   },
   {
    "duration": 42,
    "start_time": "2022-08-19T07:45:53.184Z"
   },
   {
    "duration": 97,
    "start_time": "2022-08-19T07:45:53.228Z"
   },
   {
    "duration": 11,
    "start_time": "2022-08-19T07:45:53.326Z"
   },
   {
    "duration": 172,
    "start_time": "2022-08-19T07:45:53.339Z"
   },
   {
    "duration": 3,
    "start_time": "2022-08-19T07:45:53.513Z"
   },
   {
    "duration": 1039,
    "start_time": "2022-08-19T07:45:53.518Z"
   },
   {
    "duration": 22,
    "start_time": "2022-08-19T07:45:54.558Z"
   },
   {
    "duration": 14,
    "start_time": "2022-08-19T07:45:54.581Z"
   },
   {
    "duration": 13,
    "start_time": "2022-08-19T07:45:54.597Z"
   },
   {
    "duration": 19,
    "start_time": "2022-08-19T07:45:54.612Z"
   },
   {
    "duration": 70,
    "start_time": "2022-08-19T07:45:54.633Z"
   },
   {
    "duration": 21,
    "start_time": "2022-08-19T07:45:54.705Z"
   },
   {
    "duration": 329,
    "start_time": "2022-08-19T07:45:54.728Z"
   },
   {
    "duration": 3,
    "start_time": "2022-08-19T07:45:55.059Z"
   },
   {
    "duration": 20,
    "start_time": "2022-08-19T07:45:55.066Z"
   },
   {
    "duration": 10,
    "start_time": "2022-08-19T07:45:55.087Z"
   },
   {
    "duration": 25,
    "start_time": "2022-08-19T07:45:55.098Z"
   },
   {
    "duration": 87,
    "start_time": "2022-08-19T07:45:55.125Z"
   },
   {
    "duration": 74,
    "start_time": "2022-08-19T07:45:55.214Z"
   },
   {
    "duration": 3,
    "start_time": "2022-08-19T07:45:55.290Z"
   },
   {
    "duration": 23,
    "start_time": "2022-08-19T07:45:55.296Z"
   },
   {
    "duration": 9,
    "start_time": "2022-08-19T07:45:55.321Z"
   },
   {
    "duration": 18,
    "start_time": "2022-08-19T07:45:55.332Z"
   },
   {
    "duration": 22,
    "start_time": "2022-08-19T07:45:55.352Z"
   },
   {
    "duration": 14,
    "start_time": "2022-08-19T07:45:55.376Z"
   },
   {
    "duration": 21,
    "start_time": "2022-08-19T07:45:55.391Z"
   },
   {
    "duration": 4,
    "start_time": "2022-08-19T07:45:55.414Z"
   },
   {
    "duration": 18,
    "start_time": "2022-08-19T07:45:55.420Z"
   },
   {
    "duration": 16,
    "start_time": "2022-08-19T07:45:55.457Z"
   },
   {
    "duration": 15,
    "start_time": "2022-08-19T07:45:55.475Z"
   },
   {
    "duration": 36,
    "start_time": "2022-08-19T07:45:55.491Z"
   },
   {
    "duration": 57,
    "start_time": "2022-08-19T07:45:55.529Z"
   },
   {
    "duration": 4,
    "start_time": "2022-08-19T07:45:55.587Z"
   },
   {
    "duration": 11,
    "start_time": "2022-08-19T07:45:55.593Z"
   },
   {
    "duration": 17,
    "start_time": "2022-08-19T07:45:55.605Z"
   },
   {
    "duration": 17,
    "start_time": "2022-08-19T07:45:55.624Z"
   },
   {
    "duration": 51,
    "start_time": "2022-08-19T07:45:55.643Z"
   },
   {
    "duration": 125,
    "start_time": "2022-08-19T07:45:55.696Z"
   },
   {
    "duration": 12,
    "start_time": "2022-08-19T07:45:55.822Z"
   },
   {
    "duration": 26,
    "start_time": "2022-08-19T07:45:55.836Z"
   },
   {
    "duration": 25,
    "start_time": "2022-08-19T07:45:55.863Z"
   },
   {
    "duration": 34,
    "start_time": "2022-08-19T07:45:55.889Z"
   },
   {
    "duration": 22,
    "start_time": "2022-08-19T07:45:55.925Z"
   },
   {
    "duration": 1428,
    "start_time": "2022-08-19T07:45:55.948Z"
   },
   {
    "duration": 91,
    "start_time": "2022-08-19T07:45:57.377Z"
   },
   {
    "duration": 6,
    "start_time": "2022-08-19T07:45:57.470Z"
   },
   {
    "duration": 14,
    "start_time": "2022-08-19T07:45:57.477Z"
   },
   {
    "duration": 107,
    "start_time": "2022-08-19T07:45:57.492Z"
   },
   {
    "duration": 0,
    "start_time": "2022-08-19T07:45:57.600Z"
   },
   {
    "duration": 0,
    "start_time": "2022-08-19T07:45:57.601Z"
   },
   {
    "duration": 1,
    "start_time": "2022-08-19T07:45:57.602Z"
   },
   {
    "duration": 0,
    "start_time": "2022-08-19T07:45:57.603Z"
   },
   {
    "duration": 0,
    "start_time": "2022-08-19T07:45:57.604Z"
   },
   {
    "duration": 0,
    "start_time": "2022-08-19T07:45:57.605Z"
   },
   {
    "duration": 0,
    "start_time": "2022-08-19T07:45:57.606Z"
   },
   {
    "duration": 0,
    "start_time": "2022-08-19T07:45:57.608Z"
   },
   {
    "duration": 0,
    "start_time": "2022-08-19T07:45:57.608Z"
   },
   {
    "duration": 0,
    "start_time": "2022-08-19T07:45:57.609Z"
   },
   {
    "duration": 0,
    "start_time": "2022-08-19T07:45:57.610Z"
   },
   {
    "duration": 0,
    "start_time": "2022-08-19T07:45:57.611Z"
   },
   {
    "duration": 0,
    "start_time": "2022-08-19T07:45:57.612Z"
   },
   {
    "duration": 22,
    "start_time": "2022-08-19T07:47:41.024Z"
   },
   {
    "duration": 14,
    "start_time": "2022-08-19T07:47:42.626Z"
   },
   {
    "duration": 13,
    "start_time": "2022-08-19T07:47:47.745Z"
   },
   {
    "duration": 1448,
    "start_time": "2022-08-19T07:47:50.622Z"
   },
   {
    "duration": 21,
    "start_time": "2022-08-19T07:50:02.920Z"
   },
   {
    "duration": 15,
    "start_time": "2022-08-19T07:50:04.602Z"
   },
   {
    "duration": 13,
    "start_time": "2022-08-19T07:50:07.070Z"
   },
   {
    "duration": 1387,
    "start_time": "2022-08-19T07:50:09.066Z"
   },
   {
    "duration": 33,
    "start_time": "2022-08-19T07:53:02.048Z"
   },
   {
    "duration": 18,
    "start_time": "2022-08-19T07:53:03.662Z"
   },
   {
    "duration": 21,
    "start_time": "2022-08-19T07:53:07.055Z"
   },
   {
    "duration": 1588,
    "start_time": "2022-08-19T07:53:13.119Z"
   },
   {
    "duration": 21,
    "start_time": "2022-08-19T07:54:14.734Z"
   },
   {
    "duration": 25,
    "start_time": "2022-08-19T07:54:15.909Z"
   },
   {
    "duration": 3,
    "start_time": "2022-08-19T07:54:23.339Z"
   },
   {
    "duration": 1155,
    "start_time": "2022-08-19T07:54:23.345Z"
   },
   {
    "duration": 3,
    "start_time": "2022-08-19T07:54:24.501Z"
   },
   {
    "duration": 301,
    "start_time": "2022-08-19T07:54:24.506Z"
   },
   {
    "duration": 449,
    "start_time": "2022-08-19T07:54:24.810Z"
   },
   {
    "duration": 142,
    "start_time": "2022-08-19T07:54:25.262Z"
   },
   {
    "duration": 82,
    "start_time": "2022-08-19T07:54:25.409Z"
   },
   {
    "duration": 25,
    "start_time": "2022-08-19T07:54:25.493Z"
   },
   {
    "duration": 47,
    "start_time": "2022-08-19T07:54:25.519Z"
   },
   {
    "duration": 200,
    "start_time": "2022-08-19T07:54:25.568Z"
   },
   {
    "duration": 42,
    "start_time": "2022-08-19T07:54:25.770Z"
   },
   {
    "duration": 53,
    "start_time": "2022-08-19T07:54:25.814Z"
   },
   {
    "duration": 54,
    "start_time": "2022-08-19T07:54:25.869Z"
   },
   {
    "duration": 23,
    "start_time": "2022-08-19T07:54:25.926Z"
   },
   {
    "duration": 395,
    "start_time": "2022-08-19T07:54:25.958Z"
   },
   {
    "duration": 10,
    "start_time": "2022-08-19T07:54:26.355Z"
   },
   {
    "duration": 20,
    "start_time": "2022-08-19T07:54:26.367Z"
   },
   {
    "duration": 314,
    "start_time": "2022-08-19T07:54:26.389Z"
   },
   {
    "duration": 250,
    "start_time": "2022-08-19T07:54:26.704Z"
   },
   {
    "duration": 39,
    "start_time": "2022-08-19T07:54:26.955Z"
   },
   {
    "duration": 3,
    "start_time": "2022-08-19T07:54:26.995Z"
   },
   {
    "duration": 44,
    "start_time": "2022-08-19T07:54:27.000Z"
   },
   {
    "duration": 52,
    "start_time": "2022-08-19T07:54:27.046Z"
   },
   {
    "duration": 117,
    "start_time": "2022-08-19T07:54:27.100Z"
   },
   {
    "duration": 182,
    "start_time": "2022-08-19T07:54:27.219Z"
   },
   {
    "duration": 30,
    "start_time": "2022-08-19T07:54:27.403Z"
   },
   {
    "duration": 60,
    "start_time": "2022-08-19T07:54:27.435Z"
   },
   {
    "duration": 103,
    "start_time": "2022-08-19T07:54:27.497Z"
   },
   {
    "duration": 13,
    "start_time": "2022-08-19T07:54:27.602Z"
   },
   {
    "duration": 170,
    "start_time": "2022-08-19T07:54:27.617Z"
   },
   {
    "duration": 4,
    "start_time": "2022-08-19T07:54:27.789Z"
   },
   {
    "duration": 1064,
    "start_time": "2022-08-19T07:54:27.794Z"
   },
   {
    "duration": 22,
    "start_time": "2022-08-19T07:54:28.860Z"
   },
   {
    "duration": 15,
    "start_time": "2022-08-19T07:54:28.884Z"
   },
   {
    "duration": 15,
    "start_time": "2022-08-19T07:54:28.901Z"
   },
   {
    "duration": 25,
    "start_time": "2022-08-19T07:54:28.918Z"
   },
   {
    "duration": 78,
    "start_time": "2022-08-19T07:54:28.944Z"
   },
   {
    "duration": 34,
    "start_time": "2022-08-19T07:54:29.024Z"
   },
   {
    "duration": 373,
    "start_time": "2022-08-19T07:54:29.060Z"
   },
   {
    "duration": 3,
    "start_time": "2022-08-19T07:54:29.435Z"
   },
   {
    "duration": 49,
    "start_time": "2022-08-19T07:54:29.442Z"
   },
   {
    "duration": 24,
    "start_time": "2022-08-19T07:54:29.493Z"
   },
   {
    "duration": 32,
    "start_time": "2022-08-19T07:54:29.519Z"
   },
   {
    "duration": 75,
    "start_time": "2022-08-19T07:54:29.553Z"
   },
   {
    "duration": 54,
    "start_time": "2022-08-19T07:54:29.630Z"
   },
   {
    "duration": 3,
    "start_time": "2022-08-19T07:54:29.687Z"
   },
   {
    "duration": 32,
    "start_time": "2022-08-19T07:54:29.692Z"
   },
   {
    "duration": 10,
    "start_time": "2022-08-19T07:54:29.726Z"
   },
   {
    "duration": 30,
    "start_time": "2022-08-19T07:54:29.738Z"
   },
   {
    "duration": 29,
    "start_time": "2022-08-19T07:54:29.770Z"
   },
   {
    "duration": 17,
    "start_time": "2022-08-19T07:54:29.801Z"
   },
   {
    "duration": 32,
    "start_time": "2022-08-19T07:54:29.820Z"
   },
   {
    "duration": 21,
    "start_time": "2022-08-19T07:54:29.853Z"
   },
   {
    "duration": 35,
    "start_time": "2022-08-19T07:54:29.875Z"
   },
   {
    "duration": 37,
    "start_time": "2022-08-19T07:54:29.911Z"
   },
   {
    "duration": 26,
    "start_time": "2022-08-19T07:54:29.950Z"
   },
   {
    "duration": 63,
    "start_time": "2022-08-19T07:54:29.977Z"
   },
   {
    "duration": 88,
    "start_time": "2022-08-19T07:54:30.041Z"
   },
   {
    "duration": 5,
    "start_time": "2022-08-19T07:54:30.130Z"
   },
   {
    "duration": 26,
    "start_time": "2022-08-19T07:54:30.137Z"
   },
   {
    "duration": 43,
    "start_time": "2022-08-19T07:54:30.165Z"
   },
   {
    "duration": 37,
    "start_time": "2022-08-19T07:54:30.210Z"
   },
   {
    "duration": 82,
    "start_time": "2022-08-19T07:54:30.248Z"
   },
   {
    "duration": 126,
    "start_time": "2022-08-19T07:54:30.332Z"
   },
   {
    "duration": 13,
    "start_time": "2022-08-19T07:54:30.460Z"
   },
   {
    "duration": 41,
    "start_time": "2022-08-19T07:54:30.475Z"
   },
   {
    "duration": 36,
    "start_time": "2022-08-19T07:54:30.518Z"
   },
   {
    "duration": 63,
    "start_time": "2022-08-19T07:54:30.556Z"
   },
   {
    "duration": 27,
    "start_time": "2022-08-19T07:54:30.621Z"
   },
   {
    "duration": 1535,
    "start_time": "2022-08-19T07:54:30.650Z"
   },
   {
    "duration": 98,
    "start_time": "2022-08-19T07:54:32.186Z"
   },
   {
    "duration": 7,
    "start_time": "2022-08-19T07:54:32.286Z"
   },
   {
    "duration": 35,
    "start_time": "2022-08-19T07:54:32.294Z"
   },
   {
    "duration": 47,
    "start_time": "2022-08-19T07:54:32.331Z"
   },
   {
    "duration": 21,
    "start_time": "2022-08-19T07:54:32.380Z"
   },
   {
    "duration": 20,
    "start_time": "2022-08-19T07:54:32.403Z"
   },
   {
    "duration": 1502,
    "start_time": "2022-08-19T07:54:32.425Z"
   },
   {
    "duration": 71,
    "start_time": "2022-08-19T07:54:33.928Z"
   },
   {
    "duration": 5,
    "start_time": "2022-08-19T07:54:34.001Z"
   },
   {
    "duration": 8,
    "start_time": "2022-08-19T07:54:34.007Z"
   },
   {
    "duration": 12,
    "start_time": "2022-08-19T07:54:34.017Z"
   },
   {
    "duration": 304,
    "start_time": "2022-08-19T07:54:34.031Z"
   },
   {
    "duration": 2,
    "start_time": "2022-08-19T07:54:34.337Z"
   },
   {
    "duration": 18,
    "start_time": "2022-08-19T07:54:34.341Z"
   },
   {
    "duration": 5,
    "start_time": "2022-08-19T07:54:34.361Z"
   },
   {
    "duration": 5,
    "start_time": "2022-08-19T07:54:34.367Z"
   },
   {
    "duration": 5,
    "start_time": "2022-08-19T07:54:34.374Z"
   },
   {
    "duration": 100,
    "start_time": "2022-08-19T08:09:42.168Z"
   },
   {
    "duration": 12,
    "start_time": "2022-08-19T08:09:51.323Z"
   },
   {
    "duration": 14,
    "start_time": "2022-08-19T08:10:02.253Z"
   },
   {
    "duration": 19,
    "start_time": "2022-08-19T08:10:13.522Z"
   },
   {
    "duration": 19,
    "start_time": "2022-08-19T08:10:39.034Z"
   },
   {
    "duration": 25,
    "start_time": "2022-08-19T08:10:51.219Z"
   },
   {
    "duration": 20,
    "start_time": "2022-08-19T08:11:40.058Z"
   },
   {
    "duration": 18,
    "start_time": "2022-08-19T08:12:30.519Z"
   },
   {
    "duration": 19,
    "start_time": "2022-08-19T08:12:39.050Z"
   },
   {
    "duration": 21,
    "start_time": "2022-08-19T08:12:45.690Z"
   },
   {
    "duration": 26,
    "start_time": "2022-08-19T08:12:50.938Z"
   },
   {
    "duration": 22,
    "start_time": "2022-08-19T08:16:43.466Z"
   },
   {
    "duration": 24,
    "start_time": "2022-08-19T08:16:53.801Z"
   },
   {
    "duration": 20,
    "start_time": "2022-08-19T08:18:37.385Z"
   },
   {
    "duration": 42,
    "start_time": "2022-08-19T08:19:28.497Z"
   },
   {
    "duration": 38,
    "start_time": "2022-08-19T08:19:42.946Z"
   },
   {
    "duration": 32,
    "start_time": "2022-08-19T08:19:52.075Z"
   },
   {
    "duration": 30,
    "start_time": "2022-08-19T08:20:10.261Z"
   },
   {
    "duration": 12,
    "start_time": "2022-08-19T08:21:08.110Z"
   },
   {
    "duration": 14,
    "start_time": "2022-08-19T08:21:27.865Z"
   },
   {
    "duration": 22,
    "start_time": "2022-08-19T08:21:43.217Z"
   },
   {
    "duration": 34,
    "start_time": "2022-08-19T08:22:18.313Z"
   },
   {
    "duration": 10,
    "start_time": "2022-08-19T08:22:29.309Z"
   },
   {
    "duration": 9,
    "start_time": "2022-08-19T08:22:40.633Z"
   },
   {
    "duration": 16,
    "start_time": "2022-08-19T08:22:45.864Z"
   },
   {
    "duration": 21,
    "start_time": "2022-08-19T08:22:56.954Z"
   },
   {
    "duration": 4,
    "start_time": "2022-08-19T08:23:14.010Z"
   },
   {
    "duration": 1184,
    "start_time": "2022-08-19T08:23:14.016Z"
   },
   {
    "duration": 3,
    "start_time": "2022-08-19T08:23:15.202Z"
   },
   {
    "duration": 351,
    "start_time": "2022-08-19T08:23:15.207Z"
   },
   {
    "duration": 509,
    "start_time": "2022-08-19T08:23:15.561Z"
   },
   {
    "duration": 113,
    "start_time": "2022-08-19T08:23:16.071Z"
   },
   {
    "duration": 81,
    "start_time": "2022-08-19T08:23:16.186Z"
   },
   {
    "duration": 26,
    "start_time": "2022-08-19T08:23:16.268Z"
   },
   {
    "duration": 61,
    "start_time": "2022-08-19T08:23:16.296Z"
   },
   {
    "duration": 254,
    "start_time": "2022-08-19T08:23:16.360Z"
   },
   {
    "duration": 55,
    "start_time": "2022-08-19T08:23:16.616Z"
   },
   {
    "duration": 42,
    "start_time": "2022-08-19T08:23:16.672Z"
   },
   {
    "duration": 81,
    "start_time": "2022-08-19T08:23:16.715Z"
   },
   {
    "duration": 15,
    "start_time": "2022-08-19T08:23:16.801Z"
   },
   {
    "duration": 400,
    "start_time": "2022-08-19T08:23:16.818Z"
   },
   {
    "duration": 11,
    "start_time": "2022-08-19T08:23:17.221Z"
   },
   {
    "duration": 8,
    "start_time": "2022-08-19T08:23:17.234Z"
   },
   {
    "duration": 315,
    "start_time": "2022-08-19T08:23:17.244Z"
   },
   {
    "duration": 275,
    "start_time": "2022-08-19T08:23:17.560Z"
   },
   {
    "duration": 57,
    "start_time": "2022-08-19T08:23:17.837Z"
   },
   {
    "duration": 2,
    "start_time": "2022-08-19T08:23:17.895Z"
   },
   {
    "duration": 29,
    "start_time": "2022-08-19T08:23:17.899Z"
   },
   {
    "duration": 57,
    "start_time": "2022-08-19T08:23:17.930Z"
   },
   {
    "duration": 95,
    "start_time": "2022-08-19T08:23:17.988Z"
   },
   {
    "duration": 172,
    "start_time": "2022-08-19T08:23:18.085Z"
   },
   {
    "duration": 27,
    "start_time": "2022-08-19T08:23:18.259Z"
   },
   {
    "duration": 44,
    "start_time": "2022-08-19T08:23:18.288Z"
   },
   {
    "duration": 112,
    "start_time": "2022-08-19T08:23:18.334Z"
   },
   {
    "duration": 14,
    "start_time": "2022-08-19T08:23:18.458Z"
   },
   {
    "duration": 191,
    "start_time": "2022-08-19T08:23:18.475Z"
   },
   {
    "duration": 5,
    "start_time": "2022-08-19T08:23:18.668Z"
   },
   {
    "duration": 1063,
    "start_time": "2022-08-19T08:23:18.674Z"
   },
   {
    "duration": 31,
    "start_time": "2022-08-19T08:23:19.738Z"
   },
   {
    "duration": 14,
    "start_time": "2022-08-19T08:23:19.771Z"
   },
   {
    "duration": 20,
    "start_time": "2022-08-19T08:23:19.790Z"
   },
   {
    "duration": 19,
    "start_time": "2022-08-19T08:23:19.812Z"
   },
   {
    "duration": 76,
    "start_time": "2022-08-19T08:23:19.833Z"
   },
   {
    "duration": 23,
    "start_time": "2022-08-19T08:23:19.911Z"
   },
   {
    "duration": 366,
    "start_time": "2022-08-19T08:23:19.935Z"
   },
   {
    "duration": 3,
    "start_time": "2022-08-19T08:23:20.303Z"
   },
   {
    "duration": 21,
    "start_time": "2022-08-19T08:23:20.310Z"
   },
   {
    "duration": 9,
    "start_time": "2022-08-19T08:23:20.333Z"
   },
   {
    "duration": 13,
    "start_time": "2022-08-19T08:23:20.345Z"
   },
   {
    "duration": 54,
    "start_time": "2022-08-19T08:23:20.360Z"
   },
   {
    "duration": 62,
    "start_time": "2022-08-19T08:23:20.415Z"
   },
   {
    "duration": 3,
    "start_time": "2022-08-19T08:23:20.478Z"
   },
   {
    "duration": 23,
    "start_time": "2022-08-19T08:23:20.482Z"
   },
   {
    "duration": 3,
    "start_time": "2022-08-19T08:23:20.507Z"
   },
   {
    "duration": 8,
    "start_time": "2022-08-19T08:23:20.512Z"
   },
   {
    "duration": 13,
    "start_time": "2022-08-19T08:23:20.522Z"
   },
   {
    "duration": 21,
    "start_time": "2022-08-19T08:23:20.537Z"
   },
   {
    "duration": 17,
    "start_time": "2022-08-19T08:23:20.560Z"
   },
   {
    "duration": 5,
    "start_time": "2022-08-19T08:23:20.581Z"
   },
   {
    "duration": 19,
    "start_time": "2022-08-19T08:23:20.588Z"
   },
   {
    "duration": 10,
    "start_time": "2022-08-19T08:23:20.609Z"
   },
   {
    "duration": 7,
    "start_time": "2022-08-19T08:23:20.620Z"
   },
   {
    "duration": 52,
    "start_time": "2022-08-19T08:23:20.629Z"
   },
   {
    "duration": 55,
    "start_time": "2022-08-19T08:23:20.682Z"
   },
   {
    "duration": 22,
    "start_time": "2022-08-19T08:23:20.739Z"
   },
   {
    "duration": 6,
    "start_time": "2022-08-19T08:23:20.763Z"
   },
   {
    "duration": 9,
    "start_time": "2022-08-19T08:23:20.771Z"
   },
   {
    "duration": 15,
    "start_time": "2022-08-19T08:23:20.782Z"
   },
   {
    "duration": 66,
    "start_time": "2022-08-19T08:23:20.799Z"
   },
   {
    "duration": 124,
    "start_time": "2022-08-19T08:23:20.866Z"
   },
   {
    "duration": 13,
    "start_time": "2022-08-19T08:23:20.992Z"
   },
   {
    "duration": 20,
    "start_time": "2022-08-19T08:23:21.007Z"
   },
   {
    "duration": 16,
    "start_time": "2022-08-19T08:23:21.030Z"
   },
   {
    "duration": 25,
    "start_time": "2022-08-19T08:23:21.058Z"
   },
   {
    "duration": 19,
    "start_time": "2022-08-19T08:23:21.085Z"
   },
   {
    "duration": 1491,
    "start_time": "2022-08-19T08:23:21.105Z"
   },
   {
    "duration": 95,
    "start_time": "2022-08-19T08:23:22.599Z"
   },
   {
    "duration": 7,
    "start_time": "2022-08-19T08:23:22.695Z"
   },
   {
    "duration": 13,
    "start_time": "2022-08-19T08:23:22.704Z"
   },
   {
    "duration": 23,
    "start_time": "2022-08-19T08:23:22.719Z"
   },
   {
    "duration": 26,
    "start_time": "2022-08-19T08:23:22.744Z"
   },
   {
    "duration": 14,
    "start_time": "2022-08-19T08:23:22.772Z"
   },
   {
    "duration": 23,
    "start_time": "2022-08-19T08:23:22.788Z"
   },
   {
    "duration": 1396,
    "start_time": "2022-08-19T08:23:22.812Z"
   },
   {
    "duration": 81,
    "start_time": "2022-08-19T08:23:24.210Z"
   },
   {
    "duration": 5,
    "start_time": "2022-08-19T08:23:24.294Z"
   },
   {
    "duration": 10,
    "start_time": "2022-08-19T08:23:24.301Z"
   },
   {
    "duration": 11,
    "start_time": "2022-08-19T08:23:24.313Z"
   },
   {
    "duration": 323,
    "start_time": "2022-08-19T08:23:24.325Z"
   },
   {
    "duration": 3,
    "start_time": "2022-08-19T08:23:24.657Z"
   },
   {
    "duration": 10,
    "start_time": "2022-08-19T08:23:24.662Z"
   },
   {
    "duration": 15,
    "start_time": "2022-08-19T08:23:24.674Z"
   },
   {
    "duration": 16,
    "start_time": "2022-08-19T08:23:24.691Z"
   },
   {
    "duration": 21,
    "start_time": "2022-08-19T08:23:24.709Z"
   },
   {
    "duration": 16,
    "start_time": "2022-08-19T08:24:10.753Z"
   },
   {
    "duration": 16,
    "start_time": "2022-08-19T08:24:28.689Z"
   },
   {
    "duration": 11,
    "start_time": "2022-08-19T08:25:06.599Z"
   },
   {
    "duration": 3,
    "start_time": "2022-08-19T08:25:34.092Z"
   },
   {
    "duration": 1064,
    "start_time": "2022-08-19T08:25:34.098Z"
   },
   {
    "duration": 7,
    "start_time": "2022-08-19T08:25:35.163Z"
   },
   {
    "duration": 342,
    "start_time": "2022-08-19T08:25:35.172Z"
   },
   {
    "duration": 485,
    "start_time": "2022-08-19T08:25:35.515Z"
   },
   {
    "duration": 120,
    "start_time": "2022-08-19T08:25:36.002Z"
   },
   {
    "duration": 104,
    "start_time": "2022-08-19T08:25:36.123Z"
   },
   {
    "duration": 33,
    "start_time": "2022-08-19T08:25:36.229Z"
   },
   {
    "duration": 32,
    "start_time": "2022-08-19T08:25:36.264Z"
   },
   {
    "duration": 188,
    "start_time": "2022-08-19T08:25:36.299Z"
   },
   {
    "duration": 42,
    "start_time": "2022-08-19T08:25:36.489Z"
   },
   {
    "duration": 54,
    "start_time": "2022-08-19T08:25:36.533Z"
   },
   {
    "duration": 52,
    "start_time": "2022-08-19T08:25:36.589Z"
   },
   {
    "duration": 10,
    "start_time": "2022-08-19T08:25:36.658Z"
   },
   {
    "duration": 373,
    "start_time": "2022-08-19T08:25:36.669Z"
   },
   {
    "duration": 15,
    "start_time": "2022-08-19T08:25:37.044Z"
   },
   {
    "duration": 6,
    "start_time": "2022-08-19T08:25:37.061Z"
   },
   {
    "duration": 307,
    "start_time": "2022-08-19T08:25:37.068Z"
   },
   {
    "duration": 259,
    "start_time": "2022-08-19T08:25:37.377Z"
   },
   {
    "duration": 64,
    "start_time": "2022-08-19T08:25:37.638Z"
   },
   {
    "duration": 2,
    "start_time": "2022-08-19T08:25:37.704Z"
   },
   {
    "duration": 32,
    "start_time": "2022-08-19T08:25:37.708Z"
   },
   {
    "duration": 42,
    "start_time": "2022-08-19T08:25:37.756Z"
   },
   {
    "duration": 96,
    "start_time": "2022-08-19T08:25:37.800Z"
   },
   {
    "duration": 197,
    "start_time": "2022-08-19T08:25:37.898Z"
   },
   {
    "duration": 29,
    "start_time": "2022-08-19T08:25:38.097Z"
   },
   {
    "duration": 63,
    "start_time": "2022-08-19T08:25:38.127Z"
   },
   {
    "duration": 91,
    "start_time": "2022-08-19T08:25:38.194Z"
   },
   {
    "duration": 12,
    "start_time": "2022-08-19T08:25:38.286Z"
   },
   {
    "duration": 175,
    "start_time": "2022-08-19T08:25:38.299Z"
   },
   {
    "duration": 4,
    "start_time": "2022-08-19T08:25:38.476Z"
   },
   {
    "duration": 1085,
    "start_time": "2022-08-19T08:25:38.482Z"
   },
   {
    "duration": 21,
    "start_time": "2022-08-19T08:25:39.568Z"
   },
   {
    "duration": 14,
    "start_time": "2022-08-19T08:25:39.591Z"
   },
   {
    "duration": 22,
    "start_time": "2022-08-19T08:25:39.608Z"
   },
   {
    "duration": 33,
    "start_time": "2022-08-19T08:25:39.631Z"
   },
   {
    "duration": 49,
    "start_time": "2022-08-19T08:25:39.665Z"
   },
   {
    "duration": 47,
    "start_time": "2022-08-19T08:25:39.716Z"
   },
   {
    "duration": 340,
    "start_time": "2022-08-19T08:25:39.765Z"
   },
   {
    "duration": 2,
    "start_time": "2022-08-19T08:25:40.108Z"
   },
   {
    "duration": 21,
    "start_time": "2022-08-19T08:25:40.112Z"
   },
   {
    "duration": 11,
    "start_time": "2022-08-19T08:25:40.135Z"
   },
   {
    "duration": 29,
    "start_time": "2022-08-19T08:25:40.148Z"
   },
   {
    "duration": 54,
    "start_time": "2022-08-19T08:25:40.178Z"
   },
   {
    "duration": 69,
    "start_time": "2022-08-19T08:25:40.234Z"
   },
   {
    "duration": 2,
    "start_time": "2022-08-19T08:25:40.306Z"
   },
   {
    "duration": 13,
    "start_time": "2022-08-19T08:25:40.310Z"
   },
   {
    "duration": 9,
    "start_time": "2022-08-19T08:25:40.325Z"
   },
   {
    "duration": 23,
    "start_time": "2022-08-19T08:25:40.336Z"
   },
   {
    "duration": 23,
    "start_time": "2022-08-19T08:25:40.361Z"
   },
   {
    "duration": 17,
    "start_time": "2022-08-19T08:25:40.386Z"
   },
   {
    "duration": 27,
    "start_time": "2022-08-19T08:25:40.406Z"
   },
   {
    "duration": 25,
    "start_time": "2022-08-19T08:25:40.435Z"
   },
   {
    "duration": 22,
    "start_time": "2022-08-19T08:25:40.462Z"
   },
   {
    "duration": 13,
    "start_time": "2022-08-19T08:25:40.486Z"
   },
   {
    "duration": 9,
    "start_time": "2022-08-19T08:25:40.502Z"
   },
   {
    "duration": 56,
    "start_time": "2022-08-19T08:25:40.513Z"
   },
   {
    "duration": 64,
    "start_time": "2022-08-19T08:25:40.571Z"
   },
   {
    "duration": 5,
    "start_time": "2022-08-19T08:25:40.637Z"
   },
   {
    "duration": 6,
    "start_time": "2022-08-19T08:25:40.658Z"
   },
   {
    "duration": 6,
    "start_time": "2022-08-19T08:25:40.665Z"
   },
   {
    "duration": 18,
    "start_time": "2022-08-19T08:25:40.673Z"
   },
   {
    "duration": 67,
    "start_time": "2022-08-19T08:25:40.693Z"
   },
   {
    "duration": 159,
    "start_time": "2022-08-19T08:25:40.762Z"
   },
   {
    "duration": 13,
    "start_time": "2022-08-19T08:25:40.923Z"
   },
   {
    "duration": 32,
    "start_time": "2022-08-19T08:25:40.937Z"
   },
   {
    "duration": 5,
    "start_time": "2022-08-19T08:25:40.971Z"
   },
   {
    "duration": 26,
    "start_time": "2022-08-19T08:25:40.978Z"
   },
   {
    "duration": 14,
    "start_time": "2022-08-19T08:25:41.006Z"
   },
   {
    "duration": 1524,
    "start_time": "2022-08-19T08:25:41.022Z"
   },
   {
    "duration": 119,
    "start_time": "2022-08-19T08:25:42.548Z"
   },
   {
    "duration": 10,
    "start_time": "2022-08-19T08:25:42.669Z"
   },
   {
    "duration": 13,
    "start_time": "2022-08-19T08:25:42.681Z"
   },
   {
    "duration": 25,
    "start_time": "2022-08-19T08:25:42.696Z"
   },
   {
    "duration": 43,
    "start_time": "2022-08-19T08:25:42.723Z"
   },
   {
    "duration": 17,
    "start_time": "2022-08-19T08:25:42.768Z"
   },
   {
    "duration": 1447,
    "start_time": "2022-08-19T08:25:42.786Z"
   },
   {
    "duration": 78,
    "start_time": "2022-08-19T08:25:44.236Z"
   },
   {
    "duration": 5,
    "start_time": "2022-08-19T08:25:44.316Z"
   },
   {
    "duration": 20,
    "start_time": "2022-08-19T08:25:44.323Z"
   },
   {
    "duration": 18,
    "start_time": "2022-08-19T08:25:44.344Z"
   },
   {
    "duration": 290,
    "start_time": "2022-08-19T08:25:44.368Z"
   },
   {
    "duration": 3,
    "start_time": "2022-08-19T08:25:44.660Z"
   },
   {
    "duration": 7,
    "start_time": "2022-08-19T08:25:44.664Z"
   },
   {
    "duration": 8,
    "start_time": "2022-08-19T08:25:44.672Z"
   },
   {
    "duration": 10,
    "start_time": "2022-08-19T08:25:44.681Z"
   },
   {
    "duration": 6,
    "start_time": "2022-08-19T08:25:44.693Z"
   },
   {
    "duration": 15,
    "start_time": "2022-08-19T08:26:59.624Z"
   },
   {
    "duration": 16,
    "start_time": "2022-08-19T08:27:00.911Z"
   },
   {
    "duration": 1410,
    "start_time": "2022-08-19T08:27:02.281Z"
   },
   {
    "duration": 22,
    "start_time": "2022-08-19T08:27:08.616Z"
   },
   {
    "duration": 26,
    "start_time": "2022-08-19T08:27:12.978Z"
   },
   {
    "duration": 18,
    "start_time": "2022-08-19T08:27:14.052Z"
   },
   {
    "duration": 1695,
    "start_time": "2022-08-19T08:27:15.527Z"
   },
   {
    "duration": 21,
    "start_time": "2022-08-19T08:33:44.168Z"
   },
   {
    "duration": 25,
    "start_time": "2022-08-19T08:43:15.769Z"
   },
   {
    "duration": 1475,
    "start_time": "2022-08-19T08:43:17.350Z"
   },
   {
    "duration": 24,
    "start_time": "2022-08-19T08:43:52.574Z"
   },
   {
    "duration": 1777,
    "start_time": "2022-08-19T08:43:54.173Z"
   },
   {
    "duration": 25,
    "start_time": "2022-08-19T08:44:24.561Z"
   },
   {
    "duration": 1523,
    "start_time": "2022-08-19T08:44:25.557Z"
   },
   {
    "duration": 126,
    "start_time": "2022-08-19T08:44:34.654Z"
   },
   {
    "duration": 1476,
    "start_time": "2022-08-19T08:44:35.590Z"
   },
   {
    "duration": 23,
    "start_time": "2022-08-19T08:45:03.398Z"
   },
   {
    "duration": 1603,
    "start_time": "2022-08-19T08:45:04.368Z"
   },
   {
    "duration": 14,
    "start_time": "2022-08-19T09:11:09.812Z"
   },
   {
    "duration": 4,
    "start_time": "2022-08-19T09:11:18.348Z"
   },
   {
    "duration": 1144,
    "start_time": "2022-08-19T09:11:18.353Z"
   },
   {
    "duration": 3,
    "start_time": "2022-08-19T09:11:19.499Z"
   },
   {
    "duration": 309,
    "start_time": "2022-08-19T09:11:19.504Z"
   },
   {
    "duration": 453,
    "start_time": "2022-08-19T09:11:19.814Z"
   },
   {
    "duration": 98,
    "start_time": "2022-08-19T09:11:20.268Z"
   },
   {
    "duration": 71,
    "start_time": "2022-08-19T09:11:20.368Z"
   },
   {
    "duration": 38,
    "start_time": "2022-08-19T09:11:20.441Z"
   },
   {
    "duration": 30,
    "start_time": "2022-08-19T09:11:20.481Z"
   },
   {
    "duration": 213,
    "start_time": "2022-08-19T09:11:20.514Z"
   },
   {
    "duration": 46,
    "start_time": "2022-08-19T09:11:20.728Z"
   },
   {
    "duration": 36,
    "start_time": "2022-08-19T09:11:20.776Z"
   },
   {
    "duration": 64,
    "start_time": "2022-08-19T09:11:20.813Z"
   },
   {
    "duration": 10,
    "start_time": "2022-08-19T09:11:20.879Z"
   },
   {
    "duration": 368,
    "start_time": "2022-08-19T09:11:20.891Z"
   },
   {
    "duration": 10,
    "start_time": "2022-08-19T09:11:21.260Z"
   },
   {
    "duration": 13,
    "start_time": "2022-08-19T09:11:21.271Z"
   },
   {
    "duration": 291,
    "start_time": "2022-08-19T09:11:21.285Z"
   },
   {
    "duration": 262,
    "start_time": "2022-08-19T09:11:21.577Z"
   },
   {
    "duration": 44,
    "start_time": "2022-08-19T09:11:21.841Z"
   },
   {
    "duration": 2,
    "start_time": "2022-08-19T09:11:21.887Z"
   },
   {
    "duration": 30,
    "start_time": "2022-08-19T09:11:21.890Z"
   },
   {
    "duration": 59,
    "start_time": "2022-08-19T09:11:21.922Z"
   },
   {
    "duration": 86,
    "start_time": "2022-08-19T09:11:21.983Z"
   },
   {
    "duration": 165,
    "start_time": "2022-08-19T09:11:22.070Z"
   },
   {
    "duration": 37,
    "start_time": "2022-08-19T09:11:22.237Z"
   },
   {
    "duration": 44,
    "start_time": "2022-08-19T09:11:22.275Z"
   },
   {
    "duration": 105,
    "start_time": "2022-08-19T09:11:22.323Z"
   },
   {
    "duration": 11,
    "start_time": "2022-08-19T09:11:22.430Z"
   },
   {
    "duration": 173,
    "start_time": "2022-08-19T09:11:22.443Z"
   },
   {
    "duration": 4,
    "start_time": "2022-08-19T09:11:22.618Z"
   },
   {
    "duration": 1029,
    "start_time": "2022-08-19T09:11:22.623Z"
   },
   {
    "duration": 21,
    "start_time": "2022-08-19T09:11:23.658Z"
   },
   {
    "duration": 14,
    "start_time": "2022-08-19T09:11:23.680Z"
   },
   {
    "duration": 22,
    "start_time": "2022-08-19T09:11:23.695Z"
   },
   {
    "duration": 12,
    "start_time": "2022-08-19T09:11:23.719Z"
   },
   {
    "duration": 64,
    "start_time": "2022-08-19T09:11:23.733Z"
   },
   {
    "duration": 20,
    "start_time": "2022-08-19T09:11:23.799Z"
   },
   {
    "duration": 317,
    "start_time": "2022-08-19T09:11:23.820Z"
   },
   {
    "duration": 2,
    "start_time": "2022-08-19T09:11:24.139Z"
   },
   {
    "duration": 49,
    "start_time": "2022-08-19T09:11:24.143Z"
   },
   {
    "duration": 10,
    "start_time": "2022-08-19T09:11:24.194Z"
   },
   {
    "duration": 19,
    "start_time": "2022-08-19T09:11:24.205Z"
   },
   {
    "duration": 63,
    "start_time": "2022-08-19T09:11:24.226Z"
   },
   {
    "duration": 52,
    "start_time": "2022-08-19T09:11:24.290Z"
   },
   {
    "duration": 13,
    "start_time": "2022-08-19T09:11:24.344Z"
   },
   {
    "duration": 8,
    "start_time": "2022-08-19T09:11:24.359Z"
   },
   {
    "duration": 14,
    "start_time": "2022-08-19T09:11:24.368Z"
   },
   {
    "duration": 13,
    "start_time": "2022-08-19T09:11:24.384Z"
   },
   {
    "duration": 19,
    "start_time": "2022-08-19T09:11:24.398Z"
   },
   {
    "duration": 13,
    "start_time": "2022-08-19T09:11:24.419Z"
   },
   {
    "duration": 30,
    "start_time": "2022-08-19T09:11:24.433Z"
   },
   {
    "duration": 4,
    "start_time": "2022-08-19T09:11:24.465Z"
   },
   {
    "duration": 22,
    "start_time": "2022-08-19T09:11:24.471Z"
   },
   {
    "duration": 8,
    "start_time": "2022-08-19T09:11:24.495Z"
   },
   {
    "duration": 10,
    "start_time": "2022-08-19T09:11:24.505Z"
   },
   {
    "duration": 58,
    "start_time": "2022-08-19T09:11:24.516Z"
   },
   {
    "duration": 61,
    "start_time": "2022-08-19T09:11:24.576Z"
   },
   {
    "duration": 21,
    "start_time": "2022-08-19T09:11:24.639Z"
   },
   {
    "duration": 8,
    "start_time": "2022-08-19T09:11:24.662Z"
   },
   {
    "duration": 7,
    "start_time": "2022-08-19T09:11:24.671Z"
   },
   {
    "duration": 17,
    "start_time": "2022-08-19T09:11:24.680Z"
   },
   {
    "duration": 49,
    "start_time": "2022-08-19T09:11:24.698Z"
   },
   {
    "duration": 123,
    "start_time": "2022-08-19T09:11:24.758Z"
   },
   {
    "duration": 12,
    "start_time": "2022-08-19T09:11:24.883Z"
   },
   {
    "duration": 29,
    "start_time": "2022-08-19T09:11:24.897Z"
   },
   {
    "duration": 45,
    "start_time": "2022-08-19T09:11:24.927Z"
   },
   {
    "duration": 24,
    "start_time": "2022-08-19T09:11:24.973Z"
   },
   {
    "duration": 30,
    "start_time": "2022-08-19T09:11:24.998Z"
   },
   {
    "duration": 19,
    "start_time": "2022-08-19T09:11:25.030Z"
   },
   {
    "duration": 1544,
    "start_time": "2022-08-19T09:11:25.050Z"
   },
   {
    "duration": 92,
    "start_time": "2022-08-19T09:11:26.595Z"
   },
   {
    "duration": 6,
    "start_time": "2022-08-19T09:11:26.689Z"
   },
   {
    "duration": 10,
    "start_time": "2022-08-19T09:11:26.697Z"
   },
   {
    "duration": 20,
    "start_time": "2022-08-19T09:11:26.708Z"
   },
   {
    "duration": 36,
    "start_time": "2022-08-19T09:11:26.730Z"
   },
   {
    "duration": 1397,
    "start_time": "2022-08-19T09:11:26.768Z"
   },
   {
    "duration": 67,
    "start_time": "2022-08-19T09:11:28.167Z"
   },
   {
    "duration": 5,
    "start_time": "2022-08-19T09:11:28.236Z"
   },
   {
    "duration": 20,
    "start_time": "2022-08-19T09:11:28.242Z"
   },
   {
    "duration": 19,
    "start_time": "2022-08-19T09:11:28.264Z"
   },
   {
    "duration": 297,
    "start_time": "2022-08-19T09:11:28.288Z"
   },
   {
    "duration": 2,
    "start_time": "2022-08-19T09:11:28.587Z"
   },
   {
    "duration": 10,
    "start_time": "2022-08-19T09:11:28.591Z"
   },
   {
    "duration": 5,
    "start_time": "2022-08-19T09:11:28.602Z"
   },
   {
    "duration": 11,
    "start_time": "2022-08-19T09:11:28.609Z"
   },
   {
    "duration": 10,
    "start_time": "2022-08-19T09:11:28.622Z"
   },
   {
    "duration": 4,
    "start_time": "2022-08-19T09:12:20.395Z"
   },
   {
    "duration": 4,
    "start_time": "2022-08-19T09:12:32.526Z"
   },
   {
    "duration": 17,
    "start_time": "2022-08-19T09:12:33.507Z"
   },
   {
    "duration": 5,
    "start_time": "2022-08-19T09:12:45.509Z"
   },
   {
    "duration": 1148,
    "start_time": "2022-08-19T09:12:45.522Z"
   },
   {
    "duration": 2,
    "start_time": "2022-08-19T09:12:46.672Z"
   },
   {
    "duration": 278,
    "start_time": "2022-08-19T09:12:46.676Z"
   },
   {
    "duration": 414,
    "start_time": "2022-08-19T09:12:46.956Z"
   },
   {
    "duration": 105,
    "start_time": "2022-08-19T09:12:47.372Z"
   },
   {
    "duration": 70,
    "start_time": "2022-08-19T09:12:47.478Z"
   },
   {
    "duration": 24,
    "start_time": "2022-08-19T09:12:47.558Z"
   },
   {
    "duration": 30,
    "start_time": "2022-08-19T09:12:47.584Z"
   },
   {
    "duration": 188,
    "start_time": "2022-08-19T09:12:47.616Z"
   },
   {
    "duration": 50,
    "start_time": "2022-08-19T09:12:47.807Z"
   },
   {
    "duration": 37,
    "start_time": "2022-08-19T09:12:47.859Z"
   },
   {
    "duration": 41,
    "start_time": "2022-08-19T09:12:47.897Z"
   },
   {
    "duration": 24,
    "start_time": "2022-08-19T09:12:47.940Z"
   },
   {
    "duration": 395,
    "start_time": "2022-08-19T09:12:47.968Z"
   },
   {
    "duration": 10,
    "start_time": "2022-08-19T09:12:48.365Z"
   },
   {
    "duration": 49,
    "start_time": "2022-08-19T09:12:48.376Z"
   },
   {
    "duration": 296,
    "start_time": "2022-08-19T09:12:48.426Z"
   },
   {
    "duration": 248,
    "start_time": "2022-08-19T09:12:48.724Z"
   },
   {
    "duration": 50,
    "start_time": "2022-08-19T09:12:48.974Z"
   },
   {
    "duration": 2,
    "start_time": "2022-08-19T09:12:49.026Z"
   },
   {
    "duration": 43,
    "start_time": "2022-08-19T09:12:49.030Z"
   },
   {
    "duration": 43,
    "start_time": "2022-08-19T09:12:49.074Z"
   },
   {
    "duration": 93,
    "start_time": "2022-08-19T09:12:49.119Z"
   },
   {
    "duration": 177,
    "start_time": "2022-08-19T09:12:49.214Z"
   },
   {
    "duration": 28,
    "start_time": "2022-08-19T09:12:49.393Z"
   },
   {
    "duration": 63,
    "start_time": "2022-08-19T09:12:49.423Z"
   },
   {
    "duration": 84,
    "start_time": "2022-08-19T09:12:49.488Z"
   },
   {
    "duration": 11,
    "start_time": "2022-08-19T09:12:49.574Z"
   },
   {
    "duration": 171,
    "start_time": "2022-08-19T09:12:49.586Z"
   },
   {
    "duration": 5,
    "start_time": "2022-08-19T09:12:49.759Z"
   },
   {
    "duration": 1094,
    "start_time": "2022-08-19T09:12:49.765Z"
   },
   {
    "duration": 21,
    "start_time": "2022-08-19T09:12:50.861Z"
   },
   {
    "duration": 18,
    "start_time": "2022-08-19T09:12:50.884Z"
   },
   {
    "duration": 25,
    "start_time": "2022-08-19T09:12:50.903Z"
   },
   {
    "duration": 38,
    "start_time": "2022-08-19T09:12:50.929Z"
   },
   {
    "duration": 56,
    "start_time": "2022-08-19T09:12:50.969Z"
   },
   {
    "duration": 23,
    "start_time": "2022-08-19T09:12:51.026Z"
   },
   {
    "duration": 319,
    "start_time": "2022-08-19T09:12:51.058Z"
   },
   {
    "duration": 3,
    "start_time": "2022-08-19T09:12:51.380Z"
   },
   {
    "duration": 31,
    "start_time": "2022-08-19T09:12:51.385Z"
   },
   {
    "duration": 13,
    "start_time": "2022-08-19T09:12:51.421Z"
   },
   {
    "duration": 19,
    "start_time": "2022-08-19T09:12:51.436Z"
   },
   {
    "duration": 67,
    "start_time": "2022-08-19T09:12:51.456Z"
   },
   {
    "duration": 53,
    "start_time": "2022-08-19T09:12:51.525Z"
   },
   {
    "duration": 4,
    "start_time": "2022-08-19T09:12:51.579Z"
   },
   {
    "duration": 16,
    "start_time": "2022-08-19T09:12:51.585Z"
   },
   {
    "duration": 8,
    "start_time": "2022-08-19T09:12:51.603Z"
   },
   {
    "duration": 9,
    "start_time": "2022-08-19T09:12:51.613Z"
   },
   {
    "duration": 16,
    "start_time": "2022-08-19T09:12:51.624Z"
   },
   {
    "duration": 25,
    "start_time": "2022-08-19T09:12:51.642Z"
   },
   {
    "duration": 16,
    "start_time": "2022-08-19T09:12:51.668Z"
   },
   {
    "duration": 5,
    "start_time": "2022-08-19T09:12:51.685Z"
   },
   {
    "duration": 18,
    "start_time": "2022-08-19T09:12:51.692Z"
   },
   {
    "duration": 8,
    "start_time": "2022-08-19T09:12:51.712Z"
   },
   {
    "duration": 38,
    "start_time": "2022-08-19T09:12:51.722Z"
   },
   {
    "duration": 34,
    "start_time": "2022-08-19T09:12:51.762Z"
   },
   {
    "duration": 75,
    "start_time": "2022-08-19T09:12:51.798Z"
   },
   {
    "duration": 6,
    "start_time": "2022-08-19T09:12:51.875Z"
   },
   {
    "duration": 7,
    "start_time": "2022-08-19T09:12:51.882Z"
   },
   {
    "duration": 8,
    "start_time": "2022-08-19T09:12:51.890Z"
   },
   {
    "duration": 12,
    "start_time": "2022-08-19T09:12:51.900Z"
   },
   {
    "duration": 75,
    "start_time": "2022-08-19T09:12:51.914Z"
   },
   {
    "duration": 128,
    "start_time": "2022-08-19T09:12:51.991Z"
   },
   {
    "duration": 14,
    "start_time": "2022-08-19T09:12:52.121Z"
   },
   {
    "duration": 32,
    "start_time": "2022-08-19T09:12:52.137Z"
   },
   {
    "duration": 12,
    "start_time": "2022-08-19T09:12:52.171Z"
   },
   {
    "duration": 9,
    "start_time": "2022-08-19T09:12:52.184Z"
   },
   {
    "duration": 16,
    "start_time": "2022-08-19T09:12:52.195Z"
   },
   {
    "duration": 30,
    "start_time": "2022-08-19T09:12:52.212Z"
   },
   {
    "duration": 20,
    "start_time": "2022-08-19T09:12:52.243Z"
   },
   {
    "duration": 1414,
    "start_time": "2022-08-19T09:12:52.265Z"
   },
   {
    "duration": 93,
    "start_time": "2022-08-19T09:12:53.681Z"
   },
   {
    "duration": 6,
    "start_time": "2022-08-19T09:12:53.776Z"
   },
   {
    "duration": 21,
    "start_time": "2022-08-19T09:12:53.784Z"
   },
   {
    "duration": 21,
    "start_time": "2022-08-19T09:12:53.807Z"
   },
   {
    "duration": 34,
    "start_time": "2022-08-19T09:12:53.829Z"
   },
   {
    "duration": 1327,
    "start_time": "2022-08-19T09:12:53.865Z"
   },
   {
    "duration": 88,
    "start_time": "2022-08-19T09:12:55.193Z"
   },
   {
    "duration": 6,
    "start_time": "2022-08-19T09:12:55.283Z"
   },
   {
    "duration": 20,
    "start_time": "2022-08-19T09:12:55.291Z"
   },
   {
    "duration": 18,
    "start_time": "2022-08-19T09:12:55.313Z"
   },
   {
    "duration": 336,
    "start_time": "2022-08-19T09:12:55.333Z"
   },
   {
    "duration": 3,
    "start_time": "2022-08-19T09:12:55.672Z"
   },
   {
    "duration": 6,
    "start_time": "2022-08-19T09:12:55.677Z"
   },
   {
    "duration": 6,
    "start_time": "2022-08-19T09:12:55.685Z"
   },
   {
    "duration": 6,
    "start_time": "2022-08-19T09:12:55.692Z"
   },
   {
    "duration": 8,
    "start_time": "2022-08-19T09:12:55.700Z"
   },
   {
    "duration": 12,
    "start_time": "2022-08-19T09:16:10.971Z"
   },
   {
    "duration": 9,
    "start_time": "2022-08-19T09:16:39.516Z"
   },
   {
    "duration": 11,
    "start_time": "2022-08-19T09:17:27.484Z"
   },
   {
    "duration": 10,
    "start_time": "2022-08-19T09:17:40.091Z"
   },
   {
    "duration": 26,
    "start_time": "2022-08-19T09:18:16.751Z"
   },
   {
    "duration": 15,
    "start_time": "2022-08-19T09:18:20.629Z"
   },
   {
    "duration": 3,
    "start_time": "2022-08-19T09:18:29.930Z"
   },
   {
    "duration": 1203,
    "start_time": "2022-08-19T09:18:29.935Z"
   },
   {
    "duration": 3,
    "start_time": "2022-08-19T09:18:31.140Z"
   },
   {
    "duration": 340,
    "start_time": "2022-08-19T09:18:31.145Z"
   },
   {
    "duration": 423,
    "start_time": "2022-08-19T09:18:31.487Z"
   },
   {
    "duration": 123,
    "start_time": "2022-08-19T09:18:31.912Z"
   },
   {
    "duration": 88,
    "start_time": "2022-08-19T09:18:32.037Z"
   },
   {
    "duration": 34,
    "start_time": "2022-08-19T09:18:32.127Z"
   },
   {
    "duration": 31,
    "start_time": "2022-08-19T09:18:32.163Z"
   },
   {
    "duration": 209,
    "start_time": "2022-08-19T09:18:32.196Z"
   },
   {
    "duration": 50,
    "start_time": "2022-08-19T09:18:32.407Z"
   },
   {
    "duration": 38,
    "start_time": "2022-08-19T09:18:32.459Z"
   },
   {
    "duration": 61,
    "start_time": "2022-08-19T09:18:32.499Z"
   },
   {
    "duration": 15,
    "start_time": "2022-08-19T09:18:32.564Z"
   },
   {
    "duration": 388,
    "start_time": "2022-08-19T09:18:32.581Z"
   },
   {
    "duration": 12,
    "start_time": "2022-08-19T09:18:32.972Z"
   },
   {
    "duration": 123,
    "start_time": "2022-08-19T09:18:32.986Z"
   },
   {
    "duration": 370,
    "start_time": "2022-08-19T09:18:33.111Z"
   },
   {
    "duration": 271,
    "start_time": "2022-08-19T09:18:33.483Z"
   },
   {
    "duration": 39,
    "start_time": "2022-08-19T09:18:33.757Z"
   },
   {
    "duration": 2,
    "start_time": "2022-08-19T09:18:33.797Z"
   },
   {
    "duration": 35,
    "start_time": "2022-08-19T09:18:33.801Z"
   },
   {
    "duration": 59,
    "start_time": "2022-08-19T09:18:33.838Z"
   },
   {
    "duration": 97,
    "start_time": "2022-08-19T09:18:33.898Z"
   },
   {
    "duration": 171,
    "start_time": "2022-08-19T09:18:33.997Z"
   },
   {
    "duration": 28,
    "start_time": "2022-08-19T09:18:34.169Z"
   },
   {
    "duration": 60,
    "start_time": "2022-08-19T09:18:34.198Z"
   },
   {
    "duration": 85,
    "start_time": "2022-08-19T09:18:34.260Z"
   },
   {
    "duration": 12,
    "start_time": "2022-08-19T09:18:34.357Z"
   },
   {
    "duration": 172,
    "start_time": "2022-08-19T09:18:34.370Z"
   },
   {
    "duration": 3,
    "start_time": "2022-08-19T09:18:34.544Z"
   },
   {
    "duration": 1144,
    "start_time": "2022-08-19T09:18:34.558Z"
   },
   {
    "duration": 23,
    "start_time": "2022-08-19T09:18:35.704Z"
   },
   {
    "duration": 37,
    "start_time": "2022-08-19T09:18:35.729Z"
   },
   {
    "duration": 19,
    "start_time": "2022-08-19T09:18:35.768Z"
   },
   {
    "duration": 15,
    "start_time": "2022-08-19T09:18:35.789Z"
   },
   {
    "duration": 66,
    "start_time": "2022-08-19T09:18:35.805Z"
   },
   {
    "duration": 21,
    "start_time": "2022-08-19T09:18:35.873Z"
   },
   {
    "duration": 329,
    "start_time": "2022-08-19T09:18:35.896Z"
   },
   {
    "duration": 2,
    "start_time": "2022-08-19T09:18:36.227Z"
   },
   {
    "duration": 20,
    "start_time": "2022-08-19T09:18:36.234Z"
   },
   {
    "duration": 11,
    "start_time": "2022-08-19T09:18:36.255Z"
   },
   {
    "duration": 20,
    "start_time": "2022-08-19T09:18:36.267Z"
   },
   {
    "duration": 56,
    "start_time": "2022-08-19T09:18:36.289Z"
   },
   {
    "duration": 50,
    "start_time": "2022-08-19T09:18:36.357Z"
   },
   {
    "duration": 2,
    "start_time": "2022-08-19T09:18:36.409Z"
   },
   {
    "duration": 25,
    "start_time": "2022-08-19T09:18:36.413Z"
   },
   {
    "duration": 32,
    "start_time": "2022-08-19T09:18:36.439Z"
   },
   {
    "duration": 24,
    "start_time": "2022-08-19T09:18:36.472Z"
   },
   {
    "duration": 55,
    "start_time": "2022-08-19T09:18:36.498Z"
   },
   {
    "duration": 59,
    "start_time": "2022-08-19T09:18:36.555Z"
   },
   {
    "duration": 49,
    "start_time": "2022-08-19T09:18:36.615Z"
   },
   {
    "duration": 64,
    "start_time": "2022-08-19T09:18:36.666Z"
   },
   {
    "duration": 62,
    "start_time": "2022-08-19T09:18:36.732Z"
   },
   {
    "duration": 22,
    "start_time": "2022-08-19T09:18:36.796Z"
   },
   {
    "duration": 67,
    "start_time": "2022-08-19T09:18:36.819Z"
   },
   {
    "duration": 64,
    "start_time": "2022-08-19T09:18:36.888Z"
   },
   {
    "duration": 55,
    "start_time": "2022-08-19T09:18:36.954Z"
   },
   {
    "duration": 5,
    "start_time": "2022-08-19T09:18:37.010Z"
   },
   {
    "duration": 7,
    "start_time": "2022-08-19T09:18:37.016Z"
   },
   {
    "duration": 9,
    "start_time": "2022-08-19T09:18:37.024Z"
   },
   {
    "duration": 30,
    "start_time": "2022-08-19T09:18:37.034Z"
   },
   {
    "duration": 44,
    "start_time": "2022-08-19T09:18:37.067Z"
   },
   {
    "duration": 136,
    "start_time": "2022-08-19T09:18:37.113Z"
   },
   {
    "duration": 17,
    "start_time": "2022-08-19T09:18:37.251Z"
   },
   {
    "duration": 25,
    "start_time": "2022-08-19T09:18:37.270Z"
   },
   {
    "duration": 12,
    "start_time": "2022-08-19T09:18:37.297Z"
   },
   {
    "duration": 9,
    "start_time": "2022-08-19T09:18:37.311Z"
   },
   {
    "duration": 18,
    "start_time": "2022-08-19T09:18:37.321Z"
   },
   {
    "duration": 30,
    "start_time": "2022-08-19T09:18:37.341Z"
   },
   {
    "duration": 15,
    "start_time": "2022-08-19T09:18:37.373Z"
   },
   {
    "duration": 1597,
    "start_time": "2022-08-19T09:18:37.390Z"
   },
   {
    "duration": 99,
    "start_time": "2022-08-19T09:18:38.988Z"
   },
   {
    "duration": 7,
    "start_time": "2022-08-19T09:18:39.088Z"
   },
   {
    "duration": 11,
    "start_time": "2022-08-19T09:18:39.096Z"
   },
   {
    "duration": 20,
    "start_time": "2022-08-19T09:18:39.108Z"
   },
   {
    "duration": 34,
    "start_time": "2022-08-19T09:18:39.130Z"
   },
   {
    "duration": 1403,
    "start_time": "2022-08-19T09:18:39.165Z"
   },
   {
    "duration": 63,
    "start_time": "2022-08-19T09:18:40.570Z"
   },
   {
    "duration": 5,
    "start_time": "2022-08-19T09:18:40.635Z"
   },
   {
    "duration": 45,
    "start_time": "2022-08-19T09:18:40.641Z"
   },
   {
    "duration": 18,
    "start_time": "2022-08-19T09:18:40.688Z"
   },
   {
    "duration": 266,
    "start_time": "2022-08-19T09:18:40.707Z"
   },
   {
    "duration": 2,
    "start_time": "2022-08-19T09:18:40.974Z"
   },
   {
    "duration": 6,
    "start_time": "2022-08-19T09:18:40.978Z"
   },
   {
    "duration": 4,
    "start_time": "2022-08-19T09:18:40.986Z"
   },
   {
    "duration": 8,
    "start_time": "2022-08-19T09:18:40.991Z"
   },
   {
    "duration": 10,
    "start_time": "2022-08-19T09:18:41.001Z"
   },
   {
    "duration": 7,
    "start_time": "2022-08-19T09:25:03.772Z"
   },
   {
    "duration": 15,
    "start_time": "2022-08-19T09:25:08.786Z"
   },
   {
    "duration": 16,
    "start_time": "2022-08-19T09:28:57.786Z"
   },
   {
    "duration": 52,
    "start_time": "2022-08-19T09:29:02.049Z"
   },
   {
    "duration": 114,
    "start_time": "2022-08-19T09:29:03.489Z"
   },
   {
    "duration": 16,
    "start_time": "2022-08-19T09:29:05.329Z"
   },
   {
    "duration": 4,
    "start_time": "2022-08-19T09:29:07.321Z"
   },
   {
    "duration": 4,
    "start_time": "2022-08-19T09:29:09.020Z"
   },
   {
    "duration": 14,
    "start_time": "2022-08-19T09:29:10.641Z"
   },
   {
    "duration": 17,
    "start_time": "2022-08-19T09:29:24.234Z"
   },
   {
    "duration": 2,
    "start_time": "2022-08-19T09:30:44.424Z"
   },
   {
    "duration": 3,
    "start_time": "2022-08-19T09:31:22.930Z"
   },
   {
    "duration": 3,
    "start_time": "2022-08-19T09:31:24.098Z"
   },
   {
    "duration": 4,
    "start_time": "2022-08-19T09:31:26.137Z"
   },
   {
    "duration": 2,
    "start_time": "2022-08-19T09:31:27.223Z"
   },
   {
    "duration": 258,
    "start_time": "2022-08-19T09:31:31.277Z"
   },
   {
    "duration": 48,
    "start_time": "2022-08-19T09:32:44.955Z"
   },
   {
    "duration": 29,
    "start_time": "2022-08-19T09:35:18.016Z"
   },
   {
    "duration": 16,
    "start_time": "2022-08-19T09:35:27.106Z"
   },
   {
    "duration": 44,
    "start_time": "2022-08-19T09:35:30.082Z"
   },
   {
    "duration": 45,
    "start_time": "2022-08-19T09:35:31.162Z"
   },
   {
    "duration": 9,
    "start_time": "2022-08-19T09:37:04.114Z"
   },
   {
    "duration": 90,
    "start_time": "2022-08-19T09:37:15.490Z"
   },
   {
    "duration": 24,
    "start_time": "2022-08-19T09:37:23.154Z"
   },
   {
    "duration": 13,
    "start_time": "2022-08-19T09:40:36.484Z"
   },
   {
    "duration": 12,
    "start_time": "2022-08-19T09:40:38.114Z"
   },
   {
    "duration": 23,
    "start_time": "2022-08-19T09:40:38.925Z"
   },
   {
    "duration": 15,
    "start_time": "2022-08-19T09:40:39.868Z"
   },
   {
    "duration": 67,
    "start_time": "2022-08-19T09:40:48.834Z"
   },
   {
    "duration": 59,
    "start_time": "2022-08-19T09:41:27.411Z"
   },
   {
    "duration": 56,
    "start_time": "2022-08-19T09:41:47.858Z"
   },
   {
    "duration": 51,
    "start_time": "2022-08-19T09:42:04.914Z"
   },
   {
    "duration": 21,
    "start_time": "2022-08-19T09:44:08.051Z"
   },
   {
    "duration": 19,
    "start_time": "2022-08-19T09:44:56.234Z"
   },
   {
    "duration": 54,
    "start_time": "2022-08-19T09:47:27.353Z"
   },
   {
    "duration": 52,
    "start_time": "2022-08-19T09:49:06.593Z"
   },
   {
    "duration": 33,
    "start_time": "2022-08-19T09:49:11.449Z"
   },
   {
    "duration": 26,
    "start_time": "2022-08-19T09:49:19.890Z"
   },
   {
    "duration": 8,
    "start_time": "2022-08-19T09:51:26.881Z"
   },
   {
    "duration": 10,
    "start_time": "2022-08-19T09:51:45.481Z"
   },
   {
    "duration": 13,
    "start_time": "2022-08-19T09:51:49.793Z"
   },
   {
    "duration": 19,
    "start_time": "2022-08-19T09:53:00.820Z"
   },
   {
    "duration": 55,
    "start_time": "2022-08-19T09:53:02.776Z"
   },
   {
    "duration": 38,
    "start_time": "2022-08-19T09:53:03.839Z"
   },
   {
    "duration": 15,
    "start_time": "2022-08-19T09:53:05.169Z"
   },
   {
    "duration": 1192,
    "start_time": "2022-08-19T09:55:49.123Z"
   },
   {
    "duration": 13,
    "start_time": "2022-08-19T09:56:05.024Z"
   },
   {
    "duration": 14,
    "start_time": "2022-08-19T09:57:53.977Z"
   },
   {
    "duration": 26,
    "start_time": "2022-08-19T10:00:14.784Z"
   },
   {
    "duration": 1699,
    "start_time": "2022-08-19T10:00:16.248Z"
   },
   {
    "duration": 20,
    "start_time": "2022-08-19T10:01:30.018Z"
   },
   {
    "duration": 119,
    "start_time": "2022-08-19T10:01:31.503Z"
   },
   {
    "duration": 1475,
    "start_time": "2022-08-19T10:01:32.688Z"
   },
   {
    "duration": 36,
    "start_time": "2022-08-19T10:02:12.754Z"
   },
   {
    "duration": 1631,
    "start_time": "2022-08-19T10:02:14.024Z"
   },
   {
    "duration": 17,
    "start_time": "2022-08-19T10:02:47.289Z"
   },
   {
    "duration": 1470,
    "start_time": "2022-08-19T10:02:48.456Z"
   },
   {
    "duration": 23,
    "start_time": "2022-08-19T10:03:07.273Z"
   },
   {
    "duration": 1712,
    "start_time": "2022-08-19T10:03:08.719Z"
   },
   {
    "duration": 24,
    "start_time": "2022-08-19T10:03:15.248Z"
   },
   {
    "duration": 25,
    "start_time": "2022-08-19T10:03:50.237Z"
   },
   {
    "duration": 1550,
    "start_time": "2022-08-19T10:03:52.170Z"
   },
   {
    "duration": 6,
    "start_time": "2022-08-19T10:11:42.777Z"
   },
   {
    "duration": 3,
    "start_time": "2022-08-19T10:11:43.550Z"
   },
   {
    "duration": 2,
    "start_time": "2022-08-19T10:11:44.235Z"
   },
   {
    "duration": 3,
    "start_time": "2022-08-19T10:11:44.917Z"
   },
   {
    "duration": 2,
    "start_time": "2022-08-19T10:11:46.121Z"
   },
   {
    "duration": 6,
    "start_time": "2022-08-19T10:14:15.696Z"
   },
   {
    "duration": 1314,
    "start_time": "2022-08-19T10:14:15.705Z"
   },
   {
    "duration": 2,
    "start_time": "2022-08-19T10:14:17.022Z"
   },
   {
    "duration": 326,
    "start_time": "2022-08-19T10:14:17.026Z"
   },
   {
    "duration": 474,
    "start_time": "2022-08-19T10:14:17.354Z"
   },
   {
    "duration": 92,
    "start_time": "2022-08-19T10:14:17.830Z"
   },
   {
    "duration": 146,
    "start_time": "2022-08-19T10:14:17.924Z"
   },
   {
    "duration": 32,
    "start_time": "2022-08-19T10:14:18.072Z"
   },
   {
    "duration": 45,
    "start_time": "2022-08-19T10:14:18.158Z"
   },
   {
    "duration": 215,
    "start_time": "2022-08-19T10:14:18.204Z"
   },
   {
    "duration": 74,
    "start_time": "2022-08-19T10:14:18.421Z"
   },
   {
    "duration": 79,
    "start_time": "2022-08-19T10:14:18.497Z"
   },
   {
    "duration": 47,
    "start_time": "2022-08-19T10:14:18.578Z"
   },
   {
    "duration": 11,
    "start_time": "2022-08-19T10:14:18.626Z"
   },
   {
    "duration": 398,
    "start_time": "2022-08-19T10:14:18.639Z"
   },
   {
    "duration": 9,
    "start_time": "2022-08-19T10:14:19.039Z"
   },
   {
    "duration": 39,
    "start_time": "2022-08-19T10:14:19.050Z"
   },
   {
    "duration": 346,
    "start_time": "2022-08-19T10:14:19.090Z"
   },
   {
    "duration": 271,
    "start_time": "2022-08-19T10:14:19.437Z"
   },
   {
    "duration": 36,
    "start_time": "2022-08-19T10:14:19.710Z"
   },
   {
    "duration": 22,
    "start_time": "2022-08-19T10:14:19.747Z"
   },
   {
    "duration": 32,
    "start_time": "2022-08-19T10:14:19.778Z"
   },
   {
    "duration": 40,
    "start_time": "2022-08-19T10:14:19.812Z"
   },
   {
    "duration": 92,
    "start_time": "2022-08-19T10:14:19.854Z"
   },
   {
    "duration": 171,
    "start_time": "2022-08-19T10:14:19.947Z"
   },
   {
    "duration": 25,
    "start_time": "2022-08-19T10:14:20.120Z"
   },
   {
    "duration": 64,
    "start_time": "2022-08-19T10:14:20.146Z"
   },
   {
    "duration": 118,
    "start_time": "2022-08-19T10:14:20.212Z"
   },
   {
    "duration": 12,
    "start_time": "2022-08-19T10:14:20.334Z"
   },
   {
    "duration": 183,
    "start_time": "2022-08-19T10:14:20.356Z"
   },
   {
    "duration": 3,
    "start_time": "2022-08-19T10:14:20.540Z"
   },
   {
    "duration": 1146,
    "start_time": "2022-08-19T10:14:20.545Z"
   },
   {
    "duration": 21,
    "start_time": "2022-08-19T10:14:21.693Z"
   },
   {
    "duration": 14,
    "start_time": "2022-08-19T10:14:21.715Z"
   },
   {
    "duration": 41,
    "start_time": "2022-08-19T10:14:21.730Z"
   },
   {
    "duration": 48,
    "start_time": "2022-08-19T10:14:21.773Z"
   },
   {
    "duration": 66,
    "start_time": "2022-08-19T10:14:21.824Z"
   },
   {
    "duration": 22,
    "start_time": "2022-08-19T10:14:21.894Z"
   },
   {
    "duration": 355,
    "start_time": "2022-08-19T10:14:21.918Z"
   },
   {
    "duration": 2,
    "start_time": "2022-08-19T10:14:22.276Z"
   },
   {
    "duration": 50,
    "start_time": "2022-08-19T10:14:22.280Z"
   },
   {
    "duration": 21,
    "start_time": "2022-08-19T10:14:22.332Z"
   },
   {
    "duration": 20,
    "start_time": "2022-08-19T10:14:22.354Z"
   },
   {
    "duration": 71,
    "start_time": "2022-08-19T10:14:22.376Z"
   },
   {
    "duration": 60,
    "start_time": "2022-08-19T10:14:22.449Z"
   },
   {
    "duration": 2,
    "start_time": "2022-08-19T10:14:22.511Z"
   },
   {
    "duration": 21,
    "start_time": "2022-08-19T10:14:22.515Z"
   },
   {
    "duration": 11,
    "start_time": "2022-08-19T10:14:22.537Z"
   },
   {
    "duration": 10,
    "start_time": "2022-08-19T10:14:22.549Z"
   },
   {
    "duration": 39,
    "start_time": "2022-08-19T10:14:22.569Z"
   },
   {
    "duration": 11,
    "start_time": "2022-08-19T10:14:22.609Z"
   },
   {
    "duration": 15,
    "start_time": "2022-08-19T10:14:22.621Z"
   },
   {
    "duration": 12,
    "start_time": "2022-08-19T10:14:22.637Z"
   },
   {
    "duration": 36,
    "start_time": "2022-08-19T10:14:22.651Z"
   },
   {
    "duration": 17,
    "start_time": "2022-08-19T10:14:22.689Z"
   },
   {
    "duration": 6,
    "start_time": "2022-08-19T10:14:22.708Z"
   },
   {
    "duration": 37,
    "start_time": "2022-08-19T10:14:22.715Z"
   },
   {
    "duration": 69,
    "start_time": "2022-08-19T10:14:22.754Z"
   },
   {
    "duration": 5,
    "start_time": "2022-08-19T10:14:22.825Z"
   },
   {
    "duration": 13,
    "start_time": "2022-08-19T10:14:22.831Z"
   },
   {
    "duration": 13,
    "start_time": "2022-08-19T10:14:22.845Z"
   },
   {
    "duration": 38,
    "start_time": "2022-08-19T10:14:22.860Z"
   },
   {
    "duration": 43,
    "start_time": "2022-08-19T10:14:22.900Z"
   },
   {
    "duration": 53,
    "start_time": "2022-08-19T10:14:22.944Z"
   },
   {
    "duration": 16,
    "start_time": "2022-08-19T10:14:22.998Z"
   },
   {
    "duration": 78,
    "start_time": "2022-08-19T10:14:23.016Z"
   },
   {
    "duration": 23,
    "start_time": "2022-08-19T10:14:23.096Z"
   },
   {
    "duration": 77,
    "start_time": "2022-08-19T10:14:23.121Z"
   },
   {
    "duration": 30,
    "start_time": "2022-08-19T10:14:23.199Z"
   },
   {
    "duration": 33,
    "start_time": "2022-08-19T10:14:23.230Z"
   },
   {
    "duration": 51,
    "start_time": "2022-08-19T10:14:23.265Z"
   },
   {
    "duration": 34,
    "start_time": "2022-08-19T10:14:23.318Z"
   },
   {
    "duration": 1625,
    "start_time": "2022-08-19T10:14:23.354Z"
   },
   {
    "duration": 3,
    "start_time": "2022-08-19T10:14:24.982Z"
   },
   {
    "duration": 7,
    "start_time": "2022-08-19T10:14:24.988Z"
   },
   {
    "duration": 17,
    "start_time": "2022-08-19T10:14:24.997Z"
   },
   {
    "duration": 15,
    "start_time": "2022-08-19T10:14:25.016Z"
   },
   {
    "duration": 69,
    "start_time": "2022-08-19T10:14:25.033Z"
   },
   {
    "duration": 15,
    "start_time": "2022-08-19T10:14:25.104Z"
   },
   {
    "duration": 10,
    "start_time": "2022-08-19T10:14:25.121Z"
   },
   {
    "duration": 10,
    "start_time": "2022-08-19T10:14:25.132Z"
   },
   {
    "duration": 189,
    "start_time": "2022-08-19T10:14:25.144Z"
   },
   {
    "duration": 0,
    "start_time": "2022-08-19T10:14:25.336Z"
   },
   {
    "duration": 0,
    "start_time": "2022-08-19T10:14:25.339Z"
   },
   {
    "duration": 0,
    "start_time": "2022-08-19T10:14:25.340Z"
   },
   {
    "duration": 0,
    "start_time": "2022-08-19T10:14:25.342Z"
   },
   {
    "duration": 0,
    "start_time": "2022-08-19T10:14:25.344Z"
   },
   {
    "duration": 0,
    "start_time": "2022-08-19T10:14:25.345Z"
   },
   {
    "duration": 0,
    "start_time": "2022-08-19T10:14:25.346Z"
   },
   {
    "duration": 0,
    "start_time": "2022-08-19T10:14:25.348Z"
   },
   {
    "duration": 0,
    "start_time": "2022-08-19T10:14:25.349Z"
   },
   {
    "duration": 0,
    "start_time": "2022-08-19T10:14:25.360Z"
   },
   {
    "duration": 0,
    "start_time": "2022-08-19T10:14:25.361Z"
   },
   {
    "duration": 0,
    "start_time": "2022-08-19T10:14:25.362Z"
   },
   {
    "duration": 0,
    "start_time": "2022-08-19T10:14:25.368Z"
   },
   {
    "duration": 0,
    "start_time": "2022-08-19T10:14:25.369Z"
   },
   {
    "duration": 0,
    "start_time": "2022-08-19T10:14:25.370Z"
   },
   {
    "duration": 26,
    "start_time": "2022-08-19T10:15:21.576Z"
   },
   {
    "duration": 30,
    "start_time": "2022-08-19T10:16:36.751Z"
   },
   {
    "duration": 11,
    "start_time": "2022-08-19T10:16:59.327Z"
   },
   {
    "duration": 10,
    "start_time": "2022-08-19T10:18:39.516Z"
   },
   {
    "duration": 2,
    "start_time": "2022-08-19T10:20:51.360Z"
   },
   {
    "duration": 15,
    "start_time": "2022-08-19T10:25:39.774Z"
   },
   {
    "duration": 8,
    "start_time": "2022-08-19T10:25:47.717Z"
   },
   {
    "duration": 20,
    "start_time": "2022-08-19T10:25:49.413Z"
   },
   {
    "duration": 1265,
    "start_time": "2022-08-19T10:26:09.527Z"
   },
   {
    "duration": 24,
    "start_time": "2022-08-19T10:26:31.792Z"
   },
   {
    "duration": 62,
    "start_time": "2022-08-19T10:28:14.814Z"
   },
   {
    "duration": 19,
    "start_time": "2022-08-19T10:28:21.616Z"
   },
   {
    "duration": 1430,
    "start_time": "2022-08-19T10:28:24.566Z"
   },
   {
    "duration": 68,
    "start_time": "2022-08-19T10:29:40.422Z"
   },
   {
    "duration": 6,
    "start_time": "2022-08-19T10:29:41.677Z"
   },
   {
    "duration": 6,
    "start_time": "2022-08-19T10:29:42.511Z"
   },
   {
    "duration": 10,
    "start_time": "2022-08-19T10:29:43.311Z"
   },
   {
    "duration": 262,
    "start_time": "2022-08-19T10:29:44.490Z"
   },
   {
    "duration": 167,
    "start_time": "2022-08-19T10:44:33.514Z"
   },
   {
    "duration": 160,
    "start_time": "2022-08-19T10:44:42.359Z"
   },
   {
    "duration": 3,
    "start_time": "2022-08-19T10:44:49.462Z"
   },
   {
    "duration": 1124,
    "start_time": "2022-08-19T10:44:49.467Z"
   },
   {
    "duration": 3,
    "start_time": "2022-08-19T10:44:50.593Z"
   },
   {
    "duration": 322,
    "start_time": "2022-08-19T10:44:50.597Z"
   },
   {
    "duration": 451,
    "start_time": "2022-08-19T10:44:50.921Z"
   },
   {
    "duration": 100,
    "start_time": "2022-08-19T10:44:51.373Z"
   },
   {
    "duration": 83,
    "start_time": "2022-08-19T10:44:51.475Z"
   },
   {
    "duration": 25,
    "start_time": "2022-08-19T10:44:51.560Z"
   },
   {
    "duration": 31,
    "start_time": "2022-08-19T10:44:51.587Z"
   },
   {
    "duration": 205,
    "start_time": "2022-08-19T10:44:51.620Z"
   },
   {
    "duration": 51,
    "start_time": "2022-08-19T10:44:51.827Z"
   },
   {
    "duration": 36,
    "start_time": "2022-08-19T10:44:51.880Z"
   },
   {
    "duration": 54,
    "start_time": "2022-08-19T10:44:51.917Z"
   },
   {
    "duration": 23,
    "start_time": "2022-08-19T10:44:51.975Z"
   },
   {
    "duration": 383,
    "start_time": "2022-08-19T10:44:52.000Z"
   },
   {
    "duration": 10,
    "start_time": "2022-08-19T10:44:52.384Z"
   },
   {
    "duration": 33,
    "start_time": "2022-08-19T10:44:52.395Z"
   },
   {
    "duration": 294,
    "start_time": "2022-08-19T10:44:52.430Z"
   },
   {
    "duration": 252,
    "start_time": "2022-08-19T10:44:52.725Z"
   },
   {
    "duration": 37,
    "start_time": "2022-08-19T10:44:52.979Z"
   },
   {
    "duration": 2,
    "start_time": "2022-08-19T10:44:53.017Z"
   },
   {
    "duration": 46,
    "start_time": "2022-08-19T10:44:53.021Z"
   },
   {
    "duration": 43,
    "start_time": "2022-08-19T10:44:53.068Z"
   },
   {
    "duration": 100,
    "start_time": "2022-08-19T10:44:53.112Z"
   },
   {
    "duration": 189,
    "start_time": "2022-08-19T10:44:53.213Z"
   },
   {
    "duration": 26,
    "start_time": "2022-08-19T10:44:53.404Z"
   },
   {
    "duration": 58,
    "start_time": "2022-08-19T10:44:53.431Z"
   },
   {
    "duration": 86,
    "start_time": "2022-08-19T10:44:53.491Z"
   },
   {
    "duration": 11,
    "start_time": "2022-08-19T10:44:53.579Z"
   },
   {
    "duration": 170,
    "start_time": "2022-08-19T10:44:53.592Z"
   },
   {
    "duration": 4,
    "start_time": "2022-08-19T10:44:53.764Z"
   },
   {
    "duration": 1013,
    "start_time": "2022-08-19T10:44:53.769Z"
   },
   {
    "duration": 20,
    "start_time": "2022-08-19T10:44:54.784Z"
   },
   {
    "duration": 12,
    "start_time": "2022-08-19T10:44:54.806Z"
   },
   {
    "duration": 21,
    "start_time": "2022-08-19T10:44:54.819Z"
   },
   {
    "duration": 14,
    "start_time": "2022-08-19T10:44:54.856Z"
   },
   {
    "duration": 50,
    "start_time": "2022-08-19T10:44:54.871Z"
   },
   {
    "duration": 20,
    "start_time": "2022-08-19T10:44:54.923Z"
   },
   {
    "duration": 331,
    "start_time": "2022-08-19T10:44:54.958Z"
   },
   {
    "duration": 3,
    "start_time": "2022-08-19T10:44:55.291Z"
   },
   {
    "duration": 30,
    "start_time": "2022-08-19T10:44:55.299Z"
   },
   {
    "duration": 29,
    "start_time": "2022-08-19T10:44:55.331Z"
   },
   {
    "duration": 30,
    "start_time": "2022-08-19T10:44:55.362Z"
   },
   {
    "duration": 66,
    "start_time": "2022-08-19T10:44:55.394Z"
   },
   {
    "duration": 50,
    "start_time": "2022-08-19T10:44:55.461Z"
   },
   {
    "duration": 3,
    "start_time": "2022-08-19T10:44:55.512Z"
   },
   {
    "duration": 17,
    "start_time": "2022-08-19T10:44:55.517Z"
   },
   {
    "duration": 5,
    "start_time": "2022-08-19T10:44:55.536Z"
   },
   {
    "duration": 15,
    "start_time": "2022-08-19T10:44:55.543Z"
   },
   {
    "duration": 14,
    "start_time": "2022-08-19T10:44:55.560Z"
   },
   {
    "duration": 16,
    "start_time": "2022-08-19T10:44:55.576Z"
   },
   {
    "duration": 18,
    "start_time": "2022-08-19T10:44:55.594Z"
   },
   {
    "duration": 13,
    "start_time": "2022-08-19T10:44:55.614Z"
   },
   {
    "duration": 17,
    "start_time": "2022-08-19T10:44:55.629Z"
   },
   {
    "duration": 12,
    "start_time": "2022-08-19T10:44:55.658Z"
   },
   {
    "duration": 6,
    "start_time": "2022-08-19T10:44:55.671Z"
   },
   {
    "duration": 48,
    "start_time": "2022-08-19T10:44:55.679Z"
   },
   {
    "duration": 69,
    "start_time": "2022-08-19T10:44:55.729Z"
   },
   {
    "duration": 5,
    "start_time": "2022-08-19T10:44:55.799Z"
   },
   {
    "duration": 13,
    "start_time": "2022-08-19T10:44:55.805Z"
   },
   {
    "duration": 13,
    "start_time": "2022-08-19T10:44:55.820Z"
   },
   {
    "duration": 11,
    "start_time": "2022-08-19T10:44:55.834Z"
   },
   {
    "duration": 44,
    "start_time": "2022-08-19T10:44:55.857Z"
   },
   {
    "duration": 61,
    "start_time": "2022-08-19T10:44:55.903Z"
   },
   {
    "duration": 17,
    "start_time": "2022-08-19T10:44:55.966Z"
   },
   {
    "duration": 74,
    "start_time": "2022-08-19T10:44:55.985Z"
   },
   {
    "duration": 17,
    "start_time": "2022-08-19T10:44:56.061Z"
   },
   {
    "duration": 53,
    "start_time": "2022-08-19T10:44:56.080Z"
   },
   {
    "duration": 44,
    "start_time": "2022-08-19T10:44:56.134Z"
   },
   {
    "duration": 12,
    "start_time": "2022-08-19T10:44:56.180Z"
   },
   {
    "duration": 15,
    "start_time": "2022-08-19T10:44:56.194Z"
   },
   {
    "duration": 48,
    "start_time": "2022-08-19T10:44:56.211Z"
   },
   {
    "duration": 1494,
    "start_time": "2022-08-19T10:44:56.261Z"
   },
   {
    "duration": 3,
    "start_time": "2022-08-19T10:44:57.756Z"
   },
   {
    "duration": 6,
    "start_time": "2022-08-19T10:44:57.760Z"
   },
   {
    "duration": 5,
    "start_time": "2022-08-19T10:44:57.768Z"
   },
   {
    "duration": 9,
    "start_time": "2022-08-19T10:44:57.774Z"
   },
   {
    "duration": 9,
    "start_time": "2022-08-19T10:44:57.785Z"
   },
   {
    "duration": 5,
    "start_time": "2022-08-19T10:44:57.795Z"
   },
   {
    "duration": 6,
    "start_time": "2022-08-19T10:44:57.801Z"
   },
   {
    "duration": 5,
    "start_time": "2022-08-19T10:44:57.809Z"
   },
   {
    "duration": 12,
    "start_time": "2022-08-19T10:44:57.815Z"
   },
   {
    "duration": 10,
    "start_time": "2022-08-19T10:44:57.829Z"
   },
   {
    "duration": 29,
    "start_time": "2022-08-19T10:44:57.840Z"
   },
   {
    "duration": 19,
    "start_time": "2022-08-19T10:44:57.870Z"
   },
   {
    "duration": 1272,
    "start_time": "2022-08-19T10:44:57.890Z"
   },
   {
    "duration": 3,
    "start_time": "2022-08-19T10:44:59.163Z"
   },
   {
    "duration": 8,
    "start_time": "2022-08-19T10:44:59.167Z"
   },
   {
    "duration": 9,
    "start_time": "2022-08-19T10:44:59.177Z"
   },
   {
    "duration": 8,
    "start_time": "2022-08-19T10:44:59.188Z"
   },
   {
    "duration": 6,
    "start_time": "2022-08-19T10:44:59.197Z"
   },
   {
    "duration": 82,
    "start_time": "2022-08-19T10:44:59.204Z"
   },
   {
    "duration": 6,
    "start_time": "2022-08-19T10:44:59.288Z"
   },
   {
    "duration": 12,
    "start_time": "2022-08-19T10:44:59.295Z"
   },
   {
    "duration": 13,
    "start_time": "2022-08-19T10:44:59.309Z"
   },
   {
    "duration": 314,
    "start_time": "2022-08-19T10:44:59.324Z"
   },
   {
    "duration": 2,
    "start_time": "2022-08-19T10:44:59.640Z"
   },
   {
    "duration": 13,
    "start_time": "2022-08-19T10:44:59.644Z"
   },
   {
    "duration": 4,
    "start_time": "2022-08-19T10:44:59.659Z"
   },
   {
    "duration": 5,
    "start_time": "2022-08-19T10:44:59.665Z"
   },
   {
    "duration": 6,
    "start_time": "2022-08-19T10:44:59.671Z"
   },
   {
    "duration": 19,
    "start_time": "2022-08-19T10:58:08.745Z"
   },
   {
    "duration": 16,
    "start_time": "2022-08-19T10:58:20.860Z"
   },
   {
    "duration": 4,
    "start_time": "2022-08-19T10:58:59.864Z"
   },
   {
    "duration": 10,
    "start_time": "2022-08-19T10:59:46.317Z"
   },
   {
    "duration": 107,
    "start_time": "2022-08-19T11:01:15.368Z"
   },
   {
    "duration": 9,
    "start_time": "2022-08-19T11:01:23.927Z"
   },
   {
    "duration": 19,
    "start_time": "2022-08-19T11:01:25.582Z"
   },
   {
    "duration": 21,
    "start_time": "2022-08-19T11:01:29.646Z"
   },
   {
    "duration": 1293,
    "start_time": "2022-08-19T11:01:31.167Z"
   },
   {
    "duration": 3,
    "start_time": "2022-08-19T11:01:41.134Z"
   },
   {
    "duration": 1134,
    "start_time": "2022-08-19T11:01:41.139Z"
   },
   {
    "duration": 3,
    "start_time": "2022-08-19T11:01:42.274Z"
   },
   {
    "duration": 277,
    "start_time": "2022-08-19T11:01:42.278Z"
   },
   {
    "duration": 432,
    "start_time": "2022-08-19T11:01:42.557Z"
   },
   {
    "duration": 117,
    "start_time": "2022-08-19T11:01:42.990Z"
   },
   {
    "duration": 79,
    "start_time": "2022-08-19T11:01:43.109Z"
   },
   {
    "duration": 25,
    "start_time": "2022-08-19T11:01:43.190Z"
   },
   {
    "duration": 51,
    "start_time": "2022-08-19T11:01:43.217Z"
   },
   {
    "duration": 184,
    "start_time": "2022-08-19T11:01:43.269Z"
   },
   {
    "duration": 43,
    "start_time": "2022-08-19T11:01:43.455Z"
   },
   {
    "duration": 38,
    "start_time": "2022-08-19T11:01:43.500Z"
   },
   {
    "duration": 52,
    "start_time": "2022-08-19T11:01:43.540Z"
   },
   {
    "duration": 10,
    "start_time": "2022-08-19T11:01:43.596Z"
   },
   {
    "duration": 393,
    "start_time": "2022-08-19T11:01:43.608Z"
   },
   {
    "duration": 12,
    "start_time": "2022-08-19T11:01:44.002Z"
   },
   {
    "duration": 7,
    "start_time": "2022-08-19T11:01:44.016Z"
   },
   {
    "duration": 303,
    "start_time": "2022-08-19T11:01:44.025Z"
   },
   {
    "duration": 244,
    "start_time": "2022-08-19T11:01:44.330Z"
   },
   {
    "duration": 36,
    "start_time": "2022-08-19T11:01:44.576Z"
   },
   {
    "duration": 2,
    "start_time": "2022-08-19T11:01:44.613Z"
   },
   {
    "duration": 43,
    "start_time": "2022-08-19T11:01:44.617Z"
   },
   {
    "duration": 40,
    "start_time": "2022-08-19T11:01:44.661Z"
   },
   {
    "duration": 102,
    "start_time": "2022-08-19T11:01:44.702Z"
   },
   {
    "duration": 165,
    "start_time": "2022-08-19T11:01:44.805Z"
   },
   {
    "duration": 30,
    "start_time": "2022-08-19T11:01:44.972Z"
   },
   {
    "duration": 67,
    "start_time": "2022-08-19T11:01:45.004Z"
   },
   {
    "duration": 102,
    "start_time": "2022-08-19T11:01:45.073Z"
   },
   {
    "duration": 15,
    "start_time": "2022-08-19T11:01:45.177Z"
   },
   {
    "duration": 237,
    "start_time": "2022-08-19T11:01:45.194Z"
   },
   {
    "duration": 5,
    "start_time": "2022-08-19T11:01:45.433Z"
   },
   {
    "duration": 1144,
    "start_time": "2022-08-19T11:01:45.440Z"
   },
   {
    "duration": 20,
    "start_time": "2022-08-19T11:01:46.585Z"
   },
   {
    "duration": 13,
    "start_time": "2022-08-19T11:01:46.607Z"
   },
   {
    "duration": 36,
    "start_time": "2022-08-19T11:01:46.622Z"
   },
   {
    "duration": 9,
    "start_time": "2022-08-19T11:01:46.659Z"
   },
   {
    "duration": 50,
    "start_time": "2022-08-19T11:01:46.670Z"
   },
   {
    "duration": 38,
    "start_time": "2022-08-19T11:01:46.722Z"
   },
   {
    "duration": 323,
    "start_time": "2022-08-19T11:01:46.762Z"
   },
   {
    "duration": 2,
    "start_time": "2022-08-19T11:01:47.087Z"
   },
   {
    "duration": 28,
    "start_time": "2022-08-19T11:01:47.094Z"
   },
   {
    "duration": 24,
    "start_time": "2022-08-19T11:01:47.124Z"
   },
   {
    "duration": 21,
    "start_time": "2022-08-19T11:01:47.149Z"
   },
   {
    "duration": 54,
    "start_time": "2022-08-19T11:01:47.172Z"
   },
   {
    "duration": 66,
    "start_time": "2022-08-19T11:01:47.227Z"
   },
   {
    "duration": 2,
    "start_time": "2022-08-19T11:01:47.295Z"
   },
   {
    "duration": 8,
    "start_time": "2022-08-19T11:01:47.299Z"
   },
   {
    "duration": 8,
    "start_time": "2022-08-19T11:01:47.308Z"
   },
   {
    "duration": 12,
    "start_time": "2022-08-19T11:01:47.318Z"
   },
   {
    "duration": 17,
    "start_time": "2022-08-19T11:01:47.332Z"
   },
   {
    "duration": 15,
    "start_time": "2022-08-19T11:01:47.351Z"
   },
   {
    "duration": 18,
    "start_time": "2022-08-19T11:01:47.367Z"
   },
   {
    "duration": 3,
    "start_time": "2022-08-19T11:01:47.387Z"
   },
   {
    "duration": 19,
    "start_time": "2022-08-19T11:01:47.392Z"
   },
   {
    "duration": 7,
    "start_time": "2022-08-19T11:01:47.413Z"
   },
   {
    "duration": 4,
    "start_time": "2022-08-19T11:01:47.422Z"
   },
   {
    "duration": 50,
    "start_time": "2022-08-19T11:01:47.428Z"
   },
   {
    "duration": 55,
    "start_time": "2022-08-19T11:01:47.480Z"
   },
   {
    "duration": 24,
    "start_time": "2022-08-19T11:01:47.536Z"
   },
   {
    "duration": 24,
    "start_time": "2022-08-19T11:01:47.562Z"
   },
   {
    "duration": 7,
    "start_time": "2022-08-19T11:01:47.588Z"
   },
   {
    "duration": 11,
    "start_time": "2022-08-19T11:01:47.597Z"
   },
   {
    "duration": 48,
    "start_time": "2022-08-19T11:01:47.610Z"
   },
   {
    "duration": 47,
    "start_time": "2022-08-19T11:01:47.660Z"
   },
   {
    "duration": 15,
    "start_time": "2022-08-19T11:01:47.709Z"
   },
   {
    "duration": 78,
    "start_time": "2022-08-19T11:01:47.726Z"
   },
   {
    "duration": 17,
    "start_time": "2022-08-19T11:01:47.806Z"
   },
   {
    "duration": 69,
    "start_time": "2022-08-19T11:01:47.824Z"
   },
   {
    "duration": 30,
    "start_time": "2022-08-19T11:01:47.894Z"
   },
   {
    "duration": 32,
    "start_time": "2022-08-19T11:01:47.925Z"
   },
   {
    "duration": 23,
    "start_time": "2022-08-19T11:01:47.959Z"
   },
   {
    "duration": 24,
    "start_time": "2022-08-19T11:01:47.984Z"
   },
   {
    "duration": 1516,
    "start_time": "2022-08-19T11:01:48.009Z"
   },
   {
    "duration": 3,
    "start_time": "2022-08-19T11:01:49.527Z"
   },
   {
    "duration": 16,
    "start_time": "2022-08-19T11:01:49.531Z"
   },
   {
    "duration": 7,
    "start_time": "2022-08-19T11:01:49.549Z"
   },
   {
    "duration": 9,
    "start_time": "2022-08-19T11:01:49.558Z"
   },
   {
    "duration": 9,
    "start_time": "2022-08-19T11:01:49.568Z"
   },
   {
    "duration": 7,
    "start_time": "2022-08-19T11:01:49.579Z"
   },
   {
    "duration": 8,
    "start_time": "2022-08-19T11:01:49.587Z"
   },
   {
    "duration": 6,
    "start_time": "2022-08-19T11:01:49.596Z"
   },
   {
    "duration": 13,
    "start_time": "2022-08-19T11:01:49.604Z"
   },
   {
    "duration": 12,
    "start_time": "2022-08-19T11:01:49.618Z"
   },
   {
    "duration": 12,
    "start_time": "2022-08-19T11:01:49.631Z"
   },
   {
    "duration": 24,
    "start_time": "2022-08-19T11:01:49.645Z"
   },
   {
    "duration": 19,
    "start_time": "2022-08-19T11:01:49.671Z"
   },
   {
    "duration": 1296,
    "start_time": "2022-08-19T11:01:49.691Z"
   },
   {
    "duration": 3,
    "start_time": "2022-08-19T11:01:50.989Z"
   },
   {
    "duration": 6,
    "start_time": "2022-08-19T11:01:50.993Z"
   },
   {
    "duration": 8,
    "start_time": "2022-08-19T11:01:51.000Z"
   },
   {
    "duration": 6,
    "start_time": "2022-08-19T11:01:51.009Z"
   },
   {
    "duration": 5,
    "start_time": "2022-08-19T11:01:51.016Z"
   },
   {
    "duration": 81,
    "start_time": "2022-08-19T11:01:51.023Z"
   },
   {
    "duration": 4,
    "start_time": "2022-08-19T11:01:51.106Z"
   },
   {
    "duration": 19,
    "start_time": "2022-08-19T11:01:51.112Z"
   },
   {
    "duration": 13,
    "start_time": "2022-08-19T11:01:51.133Z"
   },
   {
    "duration": 303,
    "start_time": "2022-08-19T11:01:51.147Z"
   },
   {
    "duration": 8,
    "start_time": "2022-08-19T11:01:51.451Z"
   },
   {
    "duration": 8,
    "start_time": "2022-08-19T11:01:51.460Z"
   },
   {
    "duration": 6,
    "start_time": "2022-08-19T11:01:51.469Z"
   },
   {
    "duration": 7,
    "start_time": "2022-08-19T11:01:51.476Z"
   },
   {
    "duration": 8,
    "start_time": "2022-08-19T11:01:51.485Z"
   },
   {
    "duration": 7,
    "start_time": "2022-08-19T11:03:39.892Z"
   },
   {
    "duration": 107,
    "start_time": "2022-08-19T11:03:41.211Z"
   },
   {
    "duration": 16,
    "start_time": "2022-08-19T11:03:59.174Z"
   },
   {
    "duration": 20,
    "start_time": "2022-08-19T11:04:02.554Z"
   },
   {
    "duration": 1333,
    "start_time": "2022-08-19T11:04:03.916Z"
   },
   {
    "duration": 14,
    "start_time": "2022-08-19T11:12:14.436Z"
   },
   {
    "duration": 14,
    "start_time": "2022-08-19T11:12:23.116Z"
   },
   {
    "duration": 567,
    "start_time": "2022-08-19T11:13:46.240Z"
   },
   {
    "duration": 8,
    "start_time": "2022-08-19T11:14:04.213Z"
   },
   {
    "duration": 20,
    "start_time": "2022-08-19T11:14:43.484Z"
   },
   {
    "duration": 9,
    "start_time": "2022-08-19T11:14:44.962Z"
   },
   {
    "duration": 13,
    "start_time": "2022-08-19T11:14:46.034Z"
   },
   {
    "duration": 9,
    "start_time": "2022-08-19T11:15:00.719Z"
   },
   {
    "duration": 17,
    "start_time": "2022-08-19T11:15:01.837Z"
   },
   {
    "duration": 28,
    "start_time": "2022-08-19T11:15:05.757Z"
   },
   {
    "duration": 371,
    "start_time": "2022-08-19T11:15:06.914Z"
   },
   {
    "duration": 23,
    "start_time": "2022-08-19T11:15:58.764Z"
   },
   {
    "duration": 534,
    "start_time": "2022-08-19T11:16:00.218Z"
   },
   {
    "duration": 16,
    "start_time": "2022-08-19T11:16:07.669Z"
   },
   {
    "duration": 385,
    "start_time": "2022-08-19T11:16:08.834Z"
   },
   {
    "duration": 14,
    "start_time": "2022-08-19T11:16:38.623Z"
   },
   {
    "duration": 8,
    "start_time": "2022-08-19T11:16:41.722Z"
   },
   {
    "duration": 13,
    "start_time": "2022-08-19T11:16:42.683Z"
   },
   {
    "duration": 14,
    "start_time": "2022-08-19T11:16:44.082Z"
   },
   {
    "duration": 272,
    "start_time": "2022-08-19T11:16:45.009Z"
   },
   {
    "duration": 17,
    "start_time": "2022-08-19T11:17:01.492Z"
   },
   {
    "duration": 19,
    "start_time": "2022-08-19T11:17:08.843Z"
   },
   {
    "duration": 27,
    "start_time": "2022-08-19T11:17:45.171Z"
   },
   {
    "duration": 32,
    "start_time": "2022-08-19T11:17:58.542Z"
   },
   {
    "duration": 11,
    "start_time": "2022-08-19T11:18:47.330Z"
   },
   {
    "duration": 27,
    "start_time": "2022-08-19T11:18:48.731Z"
   },
   {
    "duration": 23,
    "start_time": "2022-08-19T11:18:52.038Z"
   },
   {
    "duration": 370,
    "start_time": "2022-08-19T11:18:52.970Z"
   },
   {
    "duration": 14,
    "start_time": "2022-08-19T11:19:17.458Z"
   },
   {
    "duration": 12,
    "start_time": "2022-08-19T11:19:18.587Z"
   },
   {
    "duration": 9,
    "start_time": "2022-08-19T11:19:33.490Z"
   },
   {
    "duration": 31,
    "start_time": "2022-08-19T11:19:34.637Z"
   },
   {
    "duration": 17,
    "start_time": "2022-08-19T11:19:41.034Z"
   },
   {
    "duration": 389,
    "start_time": "2022-08-19T11:19:42.049Z"
   },
   {
    "duration": 14,
    "start_time": "2022-08-19T11:20:09.651Z"
   },
   {
    "duration": 8,
    "start_time": "2022-08-19T11:20:11.770Z"
   },
   {
    "duration": 27,
    "start_time": "2022-08-19T11:20:12.746Z"
   },
   {
    "duration": 25,
    "start_time": "2022-08-19T11:20:18.756Z"
   },
   {
    "duration": 1378,
    "start_time": "2022-08-19T11:20:19.823Z"
   },
   {
    "duration": 30,
    "start_time": "2022-08-19T11:21:09.035Z"
   },
   {
    "duration": 26,
    "start_time": "2022-08-19T11:21:37.554Z"
   },
   {
    "duration": 1651,
    "start_time": "2022-08-19T11:21:38.975Z"
   },
   {
    "duration": 117,
    "start_time": "2022-08-19T11:21:47.370Z"
   },
   {
    "duration": 1326,
    "start_time": "2022-08-19T11:21:49.186Z"
   },
   {
    "duration": 16,
    "start_time": "2022-08-19T11:22:20.130Z"
   },
   {
    "duration": 9,
    "start_time": "2022-08-19T11:24:42.362Z"
   },
   {
    "duration": 16,
    "start_time": "2022-08-19T11:24:43.271Z"
   },
   {
    "duration": 20,
    "start_time": "2022-08-19T11:24:44.273Z"
   },
   {
    "duration": 1377,
    "start_time": "2022-08-19T11:24:45.185Z"
   },
   {
    "duration": 19,
    "start_time": "2022-08-19T11:24:59.733Z"
   },
   {
    "duration": 1334,
    "start_time": "2022-08-19T11:25:01.586Z"
   }
  ],
  "kernelspec": {
   "display_name": "Python 3 (ipykernel)",
   "language": "python",
   "name": "python3"
  },
  "language_info": {
   "codemirror_mode": {
    "name": "ipython",
    "version": 3
   },
   "file_extension": ".py",
   "mimetype": "text/x-python",
   "name": "python",
   "nbconvert_exporter": "python",
   "pygments_lexer": "ipython3",
   "version": "3.10.4"
  },
  "toc": {
   "base_numbering": 1,
   "nav_menu": {},
   "number_sections": true,
   "sideBar": true,
   "skip_h1_title": true,
   "title_cell": "Table of Contents",
   "title_sidebar": "Contents",
   "toc_cell": false,
   "toc_position": {},
   "toc_section_display": true,
   "toc_window_display": false
  },
  "vscode": {
   "interpreter": {
    "hash": "26de051ba29f2982a8de78e945f0abaf191376122a1563185a90213a26c5da77"
   }
  }
 },
 "nbformat": 4,
 "nbformat_minor": 2
}
