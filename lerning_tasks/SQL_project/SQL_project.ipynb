{
 "cells": [
  {
   "cell_type": "markdown",
   "metadata": {},
   "source": [
    "## Оглавление\n",
    "\n",
    "1. [Описание работы](#start)\n",
    "3. [Обзор данных](#preprocessing)\n",
    "    * [Загрузка библиотек, подключение к базам данных](#3.1)\n",
    "    * [Просмотр таблицы books](#3.2)\n",
    "    * [Просмотр таблицы authors](#3.3)\n",
    "    * [Просмотр таблицы publishers](#3.4)\n",
    "    * [Просмотр таблицы ratings](#3.5)\n",
    "    * [Просмотр таблицы reviews](#3.6)\n",
    "3. [Исследование](#eda)\n",
    "    * [Кол-во книг вышедших после 1 января 2000 года](#4.1)\n",
    "    * [Кол-во обзоров и средняя оценка для каждой книги](#4.2)\n",
    "    * [Издательства, выпустившие наибольшее кол-во книг более 50 страниц](#4.3)\n",
    "    * [Автор, с самой высокой средней оценкой (книги с 50 и более оценками)](#4.4)\n",
    "    * [Среднее кол-во обзоров от пользователей, которые поставили больше 50 оценок](#4.5)\n",
    "6. [Вывод](#conclusion)"
   ]
  },
  {
   "cell_type": "markdown",
   "metadata": {},
   "source": [
    "## <a id=\"start\">Описание работы</a>"
   ]
  },
  {
   "cell_type": "markdown",
   "metadata": {},
   "source": [
    "**Контекст**\n",
    "\n",
    "Коронавирус застал мир врасплох, изменив привычный порядок вещей. В свободное время жители городов больше не выходят на улицу, не посещают кафе и торговые центры. Зато стало больше времени для книг. Это заметили стартаперы — и бросились создавать приложения для тех, кто любит читать.\n",
    "\n",
    "Ваша компания решила быть на волне и купила крупный сервис для чтения книг по подписке. Ваша первая задача как аналитика — проанализировать базу данных. В ней — информация о книгах, издательствах, авторах, а также пользовательские обзоры книг. Эти данные помогут сформулировать ценностное предложение для нового продукта.\n",
    "\n",
    "**Задание**\n",
    "\n",
    " - Посчитайте, сколько книг вышло после 1 января 2000 года;\n",
    " - Для каждой книги посчитайте количество обзоров и среднюю оценку;\n",
    " - Определите издательство, которое выпустило наибольшее число книг толще 50 страниц — так вы исключите из анализа брошюры;\n",
    " - Определите автора с самой высокой средней оценкой книг — учитывайте только книги с 50 и более оценками;\n",
    " - Посчитайте среднее количество обзоров от пользователей, которые поставили больше 50 оценок.\n",
    "\n",
    "**Описание данных**\n",
    "\n",
    "Таблица books\n",
    "<br>Содержит данные о книгах:\n",
    " - book_id — идентификатор книги;\n",
    " - author_id — идентификатор автора;\n",
    " - title — название книги;\n",
    " - num_pages — количество страниц;\n",
    " - publication_date — дата публикации книги;\n",
    " - publisher_id — идентификатор издателя.\n",
    "\n",
    "Таблица authors\n",
    "<br>Содержит данные об авторах:\n",
    " - author_id — идентификатор автора;\n",
    " - author — имя автора.\n",
    "\n",
    "Таблица publishers\n",
    "<br>Содержит данные об издательствах:\n",
    " - publisher_id — идентификатор издательства;\n",
    " - publisher — название издательства.\n",
    "\n",
    "Таблица ratings\n",
    "<br>Содержит данные о пользовательских оценках книг:\n",
    " - rating_id — идентификатор оценки;\n",
    " - book_id — идентификатор книги;\n",
    " - username — имя пользователя, оставившего оценку;\n",
    " - rating — оценка книги.\n",
    "\n",
    "Таблица reviews\n",
    "<br>Содержит данные о пользовательских обзорах на книги:\n",
    " - review_id — идентификатор обзора;\n",
    " - book_id — идентификатор книги;\n",
    " - username — имя пользователя, написавшего обзор;\n",
    " - text — текст обзора."
   ]
  },
  {
   "cell_type": "markdown",
   "metadata": {},
   "source": [
    "## <a id=\"preprocessing\">Обзор данных</a>"
   ]
  },
  {
   "cell_type": "markdown",
   "metadata": {},
   "source": [
    "### <a id=\"3.1\">Загрузка библиотек, подключение к базам данных</a>"
   ]
  },
  {
   "cell_type": "code",
   "execution_count": 1,
   "metadata": {},
   "outputs": [],
   "source": [
    "import pandas as pd\n",
    "from sqlalchemy import create_engine"
   ]
  },
  {
   "cell_type": "code",
   "execution_count": 2,
   "metadata": {},
   "outputs": [],
   "source": [
    "# устанавливаем параметры\n",
    "db_config = {'user': '*******', # имя пользователя\n",
    "\t\t\t\t\t\t'pwd': '*************', # пароль\n",
    "\t\t\t\t\t\t'host': '***************',\n",
    "\t\t\t\t\t\t'port': **************, # порт подключения\n",
    "\t\t\t\t\t\t'db': '******************'} # название базы данных\n",
    "\n",
    "connection_string = 'postgresql://{}:{}@{}:{}/{}'.format(db_config['user'],\n",
    "\t\t\t\t\t\t\t\t\t\t\tdb_config['pwd'],\n",
    "\t\t\t\t\t\t\t\t\t\t\tdb_config['host'],\n",
    "\t\t\t\t\t\t\t\t\t\t\tdb_config['port'],\n",
    "\t\t\t\t\t\t\t\t\t\t\tdb_config['db'])\n",
    "\n",
    "# сохраняем коннектор\n",
    "engine = create_engine(connection_string, connect_args={'sslmode':'require'})"
   ]
  },
  {
   "cell_type": "code",
   "execution_count": 3,
   "metadata": {},
   "outputs": [],
   "source": [
    "def call_result(call):\n",
    "\treturn pd.io.sql.read_sql(call, con = engine)"
   ]
  },
  {
   "cell_type": "markdown",
   "metadata": {},
   "source": [
    "### <a id=\"3.2\">Просмотр таблицы books</a>"
   ]
  },
  {
   "cell_type": "code",
   "execution_count": 4,
   "metadata": {},
   "outputs": [
    {
     "data": {
      "text/html": [
       "<div>\n",
       "<style scoped>\n",
       "    .dataframe tbody tr th:only-of-type {\n",
       "        vertical-align: middle;\n",
       "    }\n",
       "\n",
       "    .dataframe tbody tr th {\n",
       "        vertical-align: top;\n",
       "    }\n",
       "\n",
       "    .dataframe thead th {\n",
       "        text-align: right;\n",
       "    }\n",
       "</style>\n",
       "<table border=\"1\" class=\"dataframe\">\n",
       "  <thead>\n",
       "    <tr style=\"text-align: right;\">\n",
       "      <th></th>\n",
       "      <th>book_id</th>\n",
       "      <th>author_id</th>\n",
       "      <th>title</th>\n",
       "      <th>num_pages</th>\n",
       "      <th>publication_date</th>\n",
       "      <th>publisher_id</th>\n",
       "    </tr>\n",
       "  </thead>\n",
       "  <tbody>\n",
       "    <tr>\n",
       "      <th>0</th>\n",
       "      <td>1</td>\n",
       "      <td>546</td>\n",
       "      <td>'Salem's Lot</td>\n",
       "      <td>594</td>\n",
       "      <td>2005-11-01</td>\n",
       "      <td>93</td>\n",
       "    </tr>\n",
       "    <tr>\n",
       "      <th>1</th>\n",
       "      <td>2</td>\n",
       "      <td>465</td>\n",
       "      <td>1 000 Places to See Before You Die</td>\n",
       "      <td>992</td>\n",
       "      <td>2003-05-22</td>\n",
       "      <td>336</td>\n",
       "    </tr>\n",
       "    <tr>\n",
       "      <th>2</th>\n",
       "      <td>3</td>\n",
       "      <td>407</td>\n",
       "      <td>13 Little Blue Envelopes (Little Blue Envelope...</td>\n",
       "      <td>322</td>\n",
       "      <td>2010-12-21</td>\n",
       "      <td>135</td>\n",
       "    </tr>\n",
       "    <tr>\n",
       "      <th>3</th>\n",
       "      <td>4</td>\n",
       "      <td>82</td>\n",
       "      <td>1491: New Revelations of the Americas Before C...</td>\n",
       "      <td>541</td>\n",
       "      <td>2006-10-10</td>\n",
       "      <td>309</td>\n",
       "    </tr>\n",
       "    <tr>\n",
       "      <th>4</th>\n",
       "      <td>5</td>\n",
       "      <td>125</td>\n",
       "      <td>1776</td>\n",
       "      <td>386</td>\n",
       "      <td>2006-07-04</td>\n",
       "      <td>268</td>\n",
       "    </tr>\n",
       "  </tbody>\n",
       "</table>\n",
       "</div>"
      ],
      "text/plain": [
       "   book_id  author_id                                              title  \\\n",
       "0        1        546                                       'Salem's Lot   \n",
       "1        2        465                 1 000 Places to See Before You Die   \n",
       "2        3        407  13 Little Blue Envelopes (Little Blue Envelope...   \n",
       "3        4         82  1491: New Revelations of the Americas Before C...   \n",
       "4        5        125                                               1776   \n",
       "\n",
       "   num_pages publication_date  publisher_id  \n",
       "0        594       2005-11-01            93  \n",
       "1        992       2003-05-22           336  \n",
       "2        322       2010-12-21           135  \n",
       "3        541       2006-10-10           309  \n",
       "4        386       2006-07-04           268  "
      ]
     },
     "execution_count": 4,
     "metadata": {},
     "output_type": "execute_result"
    }
   ],
   "source": [
    "call = \\\n",
    "'''SELECT * \n",
    "FROM books\n",
    "LIMIT 5'''\n",
    "call_result(call)"
   ]
  },
  {
   "cell_type": "markdown",
   "metadata": {},
   "source": [
    "### <a id=\"3.3\">Просмотр таблицы authors</a>"
   ]
  },
  {
   "cell_type": "code",
   "execution_count": 5,
   "metadata": {},
   "outputs": [
    {
     "data": {
      "text/html": [
       "<div>\n",
       "<style scoped>\n",
       "    .dataframe tbody tr th:only-of-type {\n",
       "        vertical-align: middle;\n",
       "    }\n",
       "\n",
       "    .dataframe tbody tr th {\n",
       "        vertical-align: top;\n",
       "    }\n",
       "\n",
       "    .dataframe thead th {\n",
       "        text-align: right;\n",
       "    }\n",
       "</style>\n",
       "<table border=\"1\" class=\"dataframe\">\n",
       "  <thead>\n",
       "    <tr style=\"text-align: right;\">\n",
       "      <th></th>\n",
       "      <th>author_id</th>\n",
       "      <th>author</th>\n",
       "    </tr>\n",
       "  </thead>\n",
       "  <tbody>\n",
       "    <tr>\n",
       "      <th>0</th>\n",
       "      <td>1</td>\n",
       "      <td>A.S. Byatt</td>\n",
       "    </tr>\n",
       "    <tr>\n",
       "      <th>1</th>\n",
       "      <td>2</td>\n",
       "      <td>Aesop/Laura Harris/Laura Gibbs</td>\n",
       "    </tr>\n",
       "    <tr>\n",
       "      <th>2</th>\n",
       "      <td>3</td>\n",
       "      <td>Agatha Christie</td>\n",
       "    </tr>\n",
       "    <tr>\n",
       "      <th>3</th>\n",
       "      <td>4</td>\n",
       "      <td>Alan Brennert</td>\n",
       "    </tr>\n",
       "    <tr>\n",
       "      <th>4</th>\n",
       "      <td>5</td>\n",
       "      <td>Alan Moore/David   Lloyd</td>\n",
       "    </tr>\n",
       "  </tbody>\n",
       "</table>\n",
       "</div>"
      ],
      "text/plain": [
       "   author_id                          author\n",
       "0          1                      A.S. Byatt\n",
       "1          2  Aesop/Laura Harris/Laura Gibbs\n",
       "2          3                 Agatha Christie\n",
       "3          4                   Alan Brennert\n",
       "4          5        Alan Moore/David   Lloyd"
      ]
     },
     "execution_count": 5,
     "metadata": {},
     "output_type": "execute_result"
    }
   ],
   "source": [
    "call = \\\n",
    "'''SELECT * \n",
    "FROM authors\n",
    "LIMIT 5'''\n",
    "call_result(call)"
   ]
  },
  {
   "cell_type": "markdown",
   "metadata": {},
   "source": [
    "### <a id=\"3.4\">Просмотр таблицы publishers</a>"
   ]
  },
  {
   "cell_type": "code",
   "execution_count": 6,
   "metadata": {},
   "outputs": [
    {
     "data": {
      "text/html": [
       "<div>\n",
       "<style scoped>\n",
       "    .dataframe tbody tr th:only-of-type {\n",
       "        vertical-align: middle;\n",
       "    }\n",
       "\n",
       "    .dataframe tbody tr th {\n",
       "        vertical-align: top;\n",
       "    }\n",
       "\n",
       "    .dataframe thead th {\n",
       "        text-align: right;\n",
       "    }\n",
       "</style>\n",
       "<table border=\"1\" class=\"dataframe\">\n",
       "  <thead>\n",
       "    <tr style=\"text-align: right;\">\n",
       "      <th></th>\n",
       "      <th>publisher_id</th>\n",
       "      <th>publisher</th>\n",
       "    </tr>\n",
       "  </thead>\n",
       "  <tbody>\n",
       "    <tr>\n",
       "      <th>0</th>\n",
       "      <td>1</td>\n",
       "      <td>Ace</td>\n",
       "    </tr>\n",
       "    <tr>\n",
       "      <th>1</th>\n",
       "      <td>2</td>\n",
       "      <td>Ace Book</td>\n",
       "    </tr>\n",
       "    <tr>\n",
       "      <th>2</th>\n",
       "      <td>3</td>\n",
       "      <td>Ace Books</td>\n",
       "    </tr>\n",
       "    <tr>\n",
       "      <th>3</th>\n",
       "      <td>4</td>\n",
       "      <td>Ace Hardcover</td>\n",
       "    </tr>\n",
       "    <tr>\n",
       "      <th>4</th>\n",
       "      <td>5</td>\n",
       "      <td>Addison Wesley Publishing Company</td>\n",
       "    </tr>\n",
       "  </tbody>\n",
       "</table>\n",
       "</div>"
      ],
      "text/plain": [
       "   publisher_id                          publisher\n",
       "0             1                                Ace\n",
       "1             2                           Ace Book\n",
       "2             3                          Ace Books\n",
       "3             4                      Ace Hardcover\n",
       "4             5  Addison Wesley Publishing Company"
      ]
     },
     "execution_count": 6,
     "metadata": {},
     "output_type": "execute_result"
    }
   ],
   "source": [
    "call = \\\n",
    "'''SELECT * \n",
    "FROM publishers\n",
    "LIMIT 5'''\n",
    "call_result(call)"
   ]
  },
  {
   "cell_type": "markdown",
   "metadata": {},
   "source": [
    "### <a id=\"3.5\">Просмотр таблицы ratings</a>"
   ]
  },
  {
   "cell_type": "code",
   "execution_count": 7,
   "metadata": {},
   "outputs": [
    {
     "data": {
      "text/html": [
       "<div>\n",
       "<style scoped>\n",
       "    .dataframe tbody tr th:only-of-type {\n",
       "        vertical-align: middle;\n",
       "    }\n",
       "\n",
       "    .dataframe tbody tr th {\n",
       "        vertical-align: top;\n",
       "    }\n",
       "\n",
       "    .dataframe thead th {\n",
       "        text-align: right;\n",
       "    }\n",
       "</style>\n",
       "<table border=\"1\" class=\"dataframe\">\n",
       "  <thead>\n",
       "    <tr style=\"text-align: right;\">\n",
       "      <th></th>\n",
       "      <th>rating_id</th>\n",
       "      <th>book_id</th>\n",
       "      <th>username</th>\n",
       "      <th>rating</th>\n",
       "    </tr>\n",
       "  </thead>\n",
       "  <tbody>\n",
       "    <tr>\n",
       "      <th>0</th>\n",
       "      <td>1</td>\n",
       "      <td>1</td>\n",
       "      <td>ryanfranco</td>\n",
       "      <td>4</td>\n",
       "    </tr>\n",
       "    <tr>\n",
       "      <th>1</th>\n",
       "      <td>2</td>\n",
       "      <td>1</td>\n",
       "      <td>grantpatricia</td>\n",
       "      <td>2</td>\n",
       "    </tr>\n",
       "    <tr>\n",
       "      <th>2</th>\n",
       "      <td>3</td>\n",
       "      <td>1</td>\n",
       "      <td>brandtandrea</td>\n",
       "      <td>5</td>\n",
       "    </tr>\n",
       "    <tr>\n",
       "      <th>3</th>\n",
       "      <td>4</td>\n",
       "      <td>2</td>\n",
       "      <td>lorichen</td>\n",
       "      <td>3</td>\n",
       "    </tr>\n",
       "    <tr>\n",
       "      <th>4</th>\n",
       "      <td>5</td>\n",
       "      <td>2</td>\n",
       "      <td>mariokeller</td>\n",
       "      <td>2</td>\n",
       "    </tr>\n",
       "  </tbody>\n",
       "</table>\n",
       "</div>"
      ],
      "text/plain": [
       "   rating_id  book_id       username  rating\n",
       "0          1        1     ryanfranco       4\n",
       "1          2        1  grantpatricia       2\n",
       "2          3        1   brandtandrea       5\n",
       "3          4        2       lorichen       3\n",
       "4          5        2    mariokeller       2"
      ]
     },
     "execution_count": 7,
     "metadata": {},
     "output_type": "execute_result"
    }
   ],
   "source": [
    "call = \\\n",
    "'''SELECT * \n",
    "FROM ratings\n",
    "LIMIT 5'''\n",
    "call_result(call)"
   ]
  },
  {
   "cell_type": "markdown",
   "metadata": {},
   "source": [
    "### <a id=\"3.6\">Просмотр таблицы reviews</a>"
   ]
  },
  {
   "cell_type": "code",
   "execution_count": 8,
   "metadata": {},
   "outputs": [
    {
     "data": {
      "text/html": [
       "<div>\n",
       "<style scoped>\n",
       "    .dataframe tbody tr th:only-of-type {\n",
       "        vertical-align: middle;\n",
       "    }\n",
       "\n",
       "    .dataframe tbody tr th {\n",
       "        vertical-align: top;\n",
       "    }\n",
       "\n",
       "    .dataframe thead th {\n",
       "        text-align: right;\n",
       "    }\n",
       "</style>\n",
       "<table border=\"1\" class=\"dataframe\">\n",
       "  <thead>\n",
       "    <tr style=\"text-align: right;\">\n",
       "      <th></th>\n",
       "      <th>review_id</th>\n",
       "      <th>book_id</th>\n",
       "      <th>username</th>\n",
       "      <th>text</th>\n",
       "    </tr>\n",
       "  </thead>\n",
       "  <tbody>\n",
       "    <tr>\n",
       "      <th>0</th>\n",
       "      <td>1</td>\n",
       "      <td>1</td>\n",
       "      <td>brandtandrea</td>\n",
       "      <td>Mention society tell send professor analysis. ...</td>\n",
       "    </tr>\n",
       "    <tr>\n",
       "      <th>1</th>\n",
       "      <td>2</td>\n",
       "      <td>1</td>\n",
       "      <td>ryanfranco</td>\n",
       "      <td>Foot glass pretty audience hit themselves. Amo...</td>\n",
       "    </tr>\n",
       "    <tr>\n",
       "      <th>2</th>\n",
       "      <td>3</td>\n",
       "      <td>2</td>\n",
       "      <td>lorichen</td>\n",
       "      <td>Listen treat keep worry. Miss husband tax but ...</td>\n",
       "    </tr>\n",
       "    <tr>\n",
       "      <th>3</th>\n",
       "      <td>4</td>\n",
       "      <td>3</td>\n",
       "      <td>johnsonamanda</td>\n",
       "      <td>Finally month interesting blue could nature cu...</td>\n",
       "    </tr>\n",
       "    <tr>\n",
       "      <th>4</th>\n",
       "      <td>5</td>\n",
       "      <td>3</td>\n",
       "      <td>scotttamara</td>\n",
       "      <td>Nation purpose heavy give wait song will. List...</td>\n",
       "    </tr>\n",
       "  </tbody>\n",
       "</table>\n",
       "</div>"
      ],
      "text/plain": [
       "   review_id  book_id       username  \\\n",
       "0          1        1   brandtandrea   \n",
       "1          2        1     ryanfranco   \n",
       "2          3        2       lorichen   \n",
       "3          4        3  johnsonamanda   \n",
       "4          5        3    scotttamara   \n",
       "\n",
       "                                                text  \n",
       "0  Mention society tell send professor analysis. ...  \n",
       "1  Foot glass pretty audience hit themselves. Amo...  \n",
       "2  Listen treat keep worry. Miss husband tax but ...  \n",
       "3  Finally month interesting blue could nature cu...  \n",
       "4  Nation purpose heavy give wait song will. List...  "
      ]
     },
     "execution_count": 8,
     "metadata": {},
     "output_type": "execute_result"
    }
   ],
   "source": [
    "call = \\\n",
    "'''SELECT * \n",
    "FROM reviews\n",
    "LIMIT 5'''\n",
    "call_result(call)"
   ]
  },
  {
   "cell_type": "markdown",
   "metadata": {},
   "source": [
    "## <a id=\"eda\">Исследование</a>"
   ]
  },
  {
   "cell_type": "markdown",
   "metadata": {},
   "source": [
    "### <a id=\"4.1\">Кол-во книг вышедших после 1 января 2000 года</a>"
   ]
  },
  {
   "cell_type": "code",
   "execution_count": 9,
   "metadata": {},
   "outputs": [
    {
     "data": {
      "text/html": [
       "<div>\n",
       "<style scoped>\n",
       "    .dataframe tbody tr th:only-of-type {\n",
       "        vertical-align: middle;\n",
       "    }\n",
       "\n",
       "    .dataframe tbody tr th {\n",
       "        vertical-align: top;\n",
       "    }\n",
       "\n",
       "    .dataframe thead th {\n",
       "        text-align: right;\n",
       "    }\n",
       "</style>\n",
       "<table border=\"1\" class=\"dataframe\">\n",
       "  <thead>\n",
       "    <tr style=\"text-align: right;\">\n",
       "      <th></th>\n",
       "      <th>books_count</th>\n",
       "    </tr>\n",
       "  </thead>\n",
       "  <tbody>\n",
       "    <tr>\n",
       "      <th>0</th>\n",
       "      <td>821</td>\n",
       "    </tr>\n",
       "  </tbody>\n",
       "</table>\n",
       "</div>"
      ],
      "text/plain": [
       "   books_count\n",
       "0          821"
      ]
     },
     "execution_count": 9,
     "metadata": {},
     "output_type": "execute_result"
    }
   ],
   "source": [
    "call = \\\n",
    "'''SELECT COUNT (book_id) as books_count\n",
    "FROM books\n",
    "WHERE publication_date >= '2000-01-01'\n",
    "'''\n",
    "call_result(call)"
   ]
  },
  {
   "cell_type": "markdown",
   "metadata": {},
   "source": [
    "### <a id=\"4.2\">Кол-во обзоров и средняя оценка для каждой книги</a>"
   ]
  },
  {
   "cell_type": "code",
   "execution_count": 10,
   "metadata": {},
   "outputs": [
    {
     "data": {
      "text/html": [
       "<div>\n",
       "<style scoped>\n",
       "    .dataframe tbody tr th:only-of-type {\n",
       "        vertical-align: middle;\n",
       "    }\n",
       "\n",
       "    .dataframe tbody tr th {\n",
       "        vertical-align: top;\n",
       "    }\n",
       "\n",
       "    .dataframe thead th {\n",
       "        text-align: right;\n",
       "    }\n",
       "</style>\n",
       "<table border=\"1\" class=\"dataframe\">\n",
       "  <thead>\n",
       "    <tr style=\"text-align: right;\">\n",
       "      <th></th>\n",
       "      <th>title</th>\n",
       "      <th>review_count</th>\n",
       "      <th>avg_rating</th>\n",
       "    </tr>\n",
       "  </thead>\n",
       "  <tbody>\n",
       "    <tr>\n",
       "      <th>0</th>\n",
       "      <td>Twilight (Twilight  #1)</td>\n",
       "      <td>7</td>\n",
       "      <td>3.66</td>\n",
       "    </tr>\n",
       "    <tr>\n",
       "      <th>1</th>\n",
       "      <td>The Hobbit  or There and Back Again</td>\n",
       "      <td>6</td>\n",
       "      <td>4.13</td>\n",
       "    </tr>\n",
       "    <tr>\n",
       "      <th>2</th>\n",
       "      <td>The Catcher in the Rye</td>\n",
       "      <td>6</td>\n",
       "      <td>3.83</td>\n",
       "    </tr>\n",
       "    <tr>\n",
       "      <th>3</th>\n",
       "      <td>Harry Potter and the Prisoner of Azkaban (Harr...</td>\n",
       "      <td>6</td>\n",
       "      <td>4.41</td>\n",
       "    </tr>\n",
       "    <tr>\n",
       "      <th>4</th>\n",
       "      <td>Harry Potter and the Chamber of Secrets (Harry...</td>\n",
       "      <td>6</td>\n",
       "      <td>4.29</td>\n",
       "    </tr>\n",
       "    <tr>\n",
       "      <th>...</th>\n",
       "      <td>...</td>\n",
       "      <td>...</td>\n",
       "      <td>...</td>\n",
       "    </tr>\n",
       "    <tr>\n",
       "      <th>994</th>\n",
       "      <td>Disney's Beauty and the Beast (A Little Golden...</td>\n",
       "      <td>0</td>\n",
       "      <td>4.00</td>\n",
       "    </tr>\n",
       "    <tr>\n",
       "      <th>995</th>\n",
       "      <td>Essential Tales and Poems</td>\n",
       "      <td>0</td>\n",
       "      <td>4.00</td>\n",
       "    </tr>\n",
       "    <tr>\n",
       "      <th>996</th>\n",
       "      <td>Leonardo's Notebooks</td>\n",
       "      <td>0</td>\n",
       "      <td>4.00</td>\n",
       "    </tr>\n",
       "    <tr>\n",
       "      <th>997</th>\n",
       "      <td>The Natural Way to Draw</td>\n",
       "      <td>0</td>\n",
       "      <td>3.00</td>\n",
       "    </tr>\n",
       "    <tr>\n",
       "      <th>998</th>\n",
       "      <td>The Cat in the Hat and Other Dr. Seuss Favorites</td>\n",
       "      <td>0</td>\n",
       "      <td>5.00</td>\n",
       "    </tr>\n",
       "  </tbody>\n",
       "</table>\n",
       "<p>999 rows × 3 columns</p>\n",
       "</div>"
      ],
      "text/plain": [
       "                                                 title  review_count  \\\n",
       "0                              Twilight (Twilight  #1)             7   \n",
       "1                  The Hobbit  or There and Back Again             6   \n",
       "2                               The Catcher in the Rye             6   \n",
       "3    Harry Potter and the Prisoner of Azkaban (Harr...             6   \n",
       "4    Harry Potter and the Chamber of Secrets (Harry...             6   \n",
       "..                                                 ...           ...   \n",
       "994  Disney's Beauty and the Beast (A Little Golden...             0   \n",
       "995                          Essential Tales and Poems             0   \n",
       "996                               Leonardo's Notebooks             0   \n",
       "997                            The Natural Way to Draw             0   \n",
       "998   The Cat in the Hat and Other Dr. Seuss Favorites             0   \n",
       "\n",
       "     avg_rating  \n",
       "0          3.66  \n",
       "1          4.13  \n",
       "2          3.83  \n",
       "3          4.41  \n",
       "4          4.29  \n",
       "..          ...  \n",
       "994        4.00  \n",
       "995        4.00  \n",
       "996        4.00  \n",
       "997        3.00  \n",
       "998        5.00  \n",
       "\n",
       "[999 rows x 3 columns]"
      ]
     },
     "execution_count": 10,
     "metadata": {},
     "output_type": "execute_result"
    }
   ],
   "source": [
    "call = \\\n",
    "'''SELECT\n",
    "  books.title,\n",
    "  COUNT (distinct review_id) as review_count,\n",
    "  ROUND(AVG(rating)::numeric, 2) AS avg_rating\n",
    "FROM\n",
    "  books\n",
    "LEFT JOIN\n",
    "  reviews ON reviews.book_id = books.book_id\n",
    "LEFT JOIN\n",
    "  ratings ON ratings.book_id = books.book_id\n",
    "GROUP BY\n",
    "  books.title\n",
    "ORDER BY \n",
    "    COUNT(reviews.review_id) DESC'''\n",
    "call_result(call)"
   ]
  },
  {
   "cell_type": "markdown",
   "metadata": {},
   "source": [
    "### <a id=\"4.3\">Издательства, выпустившие наибольшее кол-во книг более 50 страниц</a>"
   ]
  },
  {
   "cell_type": "code",
   "execution_count": 11,
   "metadata": {},
   "outputs": [
    {
     "data": {
      "text/html": [
       "<div>\n",
       "<style scoped>\n",
       "    .dataframe tbody tr th:only-of-type {\n",
       "        vertical-align: middle;\n",
       "    }\n",
       "\n",
       "    .dataframe tbody tr th {\n",
       "        vertical-align: top;\n",
       "    }\n",
       "\n",
       "    .dataframe thead th {\n",
       "        text-align: right;\n",
       "    }\n",
       "</style>\n",
       "<table border=\"1\" class=\"dataframe\">\n",
       "  <thead>\n",
       "    <tr style=\"text-align: right;\">\n",
       "      <th></th>\n",
       "      <th>publisher</th>\n",
       "      <th>books_count</th>\n",
       "    </tr>\n",
       "  </thead>\n",
       "  <tbody>\n",
       "    <tr>\n",
       "      <th>0</th>\n",
       "      <td>Penguin Books</td>\n",
       "      <td>42</td>\n",
       "    </tr>\n",
       "  </tbody>\n",
       "</table>\n",
       "</div>"
      ],
      "text/plain": [
       "       publisher  books_count\n",
       "0  Penguin Books           42"
      ]
     },
     "execution_count": 11,
     "metadata": {},
     "output_type": "execute_result"
    }
   ],
   "source": [
    "call = \\\n",
    "'''SELECT\n",
    "  publisher,\n",
    "  COUNT (book_id) as books_count\n",
    "FROM\n",
    "  books\n",
    "LEFT JOIN\n",
    "  publishers ON publishers.publisher_id=books.publisher_id\n",
    "WHERE\n",
    "  num_pages>50\n",
    "GROUP BY\n",
    "  publisher\n",
    "ORDER BY\n",
    "  books_count DESC\n",
    "LIMIT 1'''\n",
    "call_result(call)"
   ]
  },
  {
   "cell_type": "markdown",
   "metadata": {},
   "source": [
    "### <a id=\"4.4\">Автор, с самой высокой средней оценкой (книги с 50 и более оценками)</a>"
   ]
  },
  {
   "cell_type": "code",
   "execution_count": 12,
   "metadata": {},
   "outputs": [
    {
     "data": {
      "text/html": [
       "<div>\n",
       "<style scoped>\n",
       "    .dataframe tbody tr th:only-of-type {\n",
       "        vertical-align: middle;\n",
       "    }\n",
       "\n",
       "    .dataframe tbody tr th {\n",
       "        vertical-align: top;\n",
       "    }\n",
       "\n",
       "    .dataframe thead th {\n",
       "        text-align: right;\n",
       "    }\n",
       "</style>\n",
       "<table border=\"1\" class=\"dataframe\">\n",
       "  <thead>\n",
       "    <tr style=\"text-align: right;\">\n",
       "      <th></th>\n",
       "      <th>author</th>\n",
       "      <th>high_avg_rating</th>\n",
       "    </tr>\n",
       "  </thead>\n",
       "  <tbody>\n",
       "    <tr>\n",
       "      <th>0</th>\n",
       "      <td>J.K. Rowling/Mary GrandPré</td>\n",
       "      <td>4.28</td>\n",
       "    </tr>\n",
       "  </tbody>\n",
       "</table>\n",
       "</div>"
      ],
      "text/plain": [
       "                       author  high_avg_rating\n",
       "0  J.K. Rowling/Mary GrandPré             4.28"
      ]
     },
     "execution_count": 12,
     "metadata": {},
     "output_type": "execute_result"
    }
   ],
   "source": [
    "call = \\\n",
    "'''SELECT\n",
    "  author,\n",
    "  ROUND(AVG(sub.avg_rating)::numeric, 2) AS high_avg_rating\n",
    "FROM\n",
    "(SELECT\n",
    "  author,\n",
    "  books.book_id,\n",
    "  AVG(rating) AS avg_rating\n",
    "FROM \n",
    "  authors\n",
    "LEFT JOIN books ON books.author_id = authors.author_id\n",
    "LEFT JOIN ratings ON ratings.book_id = books.book_id\n",
    "GROUP BY\n",
    "  author,\n",
    "  books.book_id\n",
    "HAVING\n",
    "  COUNT(rating) > 50) AS sub\n",
    "GROUP BY\n",
    "  author\n",
    "ORDER BY\n",
    "  high_avg_rating DESC\n",
    "LIMIT 1'''\n",
    "call_result(call)"
   ]
  },
  {
   "cell_type": "markdown",
   "metadata": {},
   "source": [
    "### <a id=\"4.5\">Среднее кол-во обзоров от пользователей, которые поставили больше 50 оценок</a>"
   ]
  },
  {
   "cell_type": "code",
   "execution_count": 13,
   "metadata": {},
   "outputs": [
    {
     "data": {
      "text/html": [
       "<div>\n",
       "<style scoped>\n",
       "    .dataframe tbody tr th:only-of-type {\n",
       "        vertical-align: middle;\n",
       "    }\n",
       "\n",
       "    .dataframe tbody tr th {\n",
       "        vertical-align: top;\n",
       "    }\n",
       "\n",
       "    .dataframe thead th {\n",
       "        text-align: right;\n",
       "    }\n",
       "</style>\n",
       "<table border=\"1\" class=\"dataframe\">\n",
       "  <thead>\n",
       "    <tr style=\"text-align: right;\">\n",
       "      <th></th>\n",
       "      <th>avg_review_cnt</th>\n",
       "    </tr>\n",
       "  </thead>\n",
       "  <tbody>\n",
       "    <tr>\n",
       "      <th>0</th>\n",
       "      <td>24.0</td>\n",
       "    </tr>\n",
       "  </tbody>\n",
       "</table>\n",
       "</div>"
      ],
      "text/plain": [
       "   avg_review_cnt\n",
       "0            24.0"
      ]
     },
     "execution_count": 13,
     "metadata": {},
     "output_type": "execute_result"
    }
   ],
   "source": [
    "call = \\\n",
    "'''SELECT\n",
    "  ROUND(AVG(review_cnt)::numeric) as avg_review_cnt\n",
    "FROM\n",
    "(SELECT\n",
    "  COUNT(review_id) as review_cnt\n",
    "FROM\n",
    "  reviews\n",
    "WHERE username IN\n",
    "(SELECT\n",
    "  username\n",
    "FROM\n",
    "  ratings\n",
    "GROUP BY\n",
    "  username\n",
    "HAVING\n",
    "  COUNT(ratings) > 50)\n",
    "GROUP BY\n",
    "  username) as sub_review_cnt'''\n",
    "call_result(call)"
   ]
  },
  {
   "cell_type": "markdown",
   "metadata": {},
   "source": [
    "## <a id=\"conclusion\">Вывод</a>"
   ]
  },
  {
   "cell_type": "markdown",
   "metadata": {},
   "source": [
    " - После 1 января 2000 года вышла 821 книга;\n",
    " - Средняя оценка для каждой книги находится в диапазоне от 3 до 5 баллов;\n",
    " - Издательством выпустившим самое большое кол-во книг является Penguin Books, Vintage;\n",
    " - Автором с самой высокой средней оценкой 4.28 балла является J.K. Rowling / Mary GrandPré;\n",
    " - Пользователи, которые ставят более 50 оценок, в среднем пишут 24 обзора."
   ]
  }
 ],
 "metadata": {
  "ExecuteTimeLog": [
   {
    "duration": 573,
    "start_time": "2022-08-22T14:06:56.693Z"
   },
   {
    "duration": 8999,
    "start_time": "2022-08-22T14:06:57.268Z"
   },
   {
    "duration": 3,
    "start_time": "2022-08-22T14:07:06.269Z"
   },
   {
    "duration": 98,
    "start_time": "2022-08-22T14:07:06.273Z"
   },
   {
    "duration": 11,
    "start_time": "2022-08-22T14:07:06.373Z"
   },
   {
    "duration": 11,
    "start_time": "2022-08-22T14:07:06.385Z"
   },
   {
    "duration": 12,
    "start_time": "2022-08-22T14:07:06.397Z"
   },
   {
    "duration": 11,
    "start_time": "2022-08-22T14:07:06.411Z"
   },
   {
    "duration": 13,
    "start_time": "2022-08-22T14:07:06.424Z"
   },
   {
    "duration": 34,
    "start_time": "2022-08-22T14:07:06.439Z"
   },
   {
    "duration": 18,
    "start_time": "2022-08-22T14:07:06.475Z"
   },
   {
    "duration": 18,
    "start_time": "2022-08-22T14:07:06.494Z"
   },
   {
    "duration": 13,
    "start_time": "2022-08-22T14:07:06.513Z"
   },
   {
    "duration": 263,
    "start_time": "2022-08-22T14:08:48.599Z"
   },
   {
    "duration": 13,
    "start_time": "2022-08-22T14:08:55.295Z"
   },
   {
    "duration": 41,
    "start_time": "2022-08-22T14:16:32.852Z"
   },
   {
    "duration": 123,
    "start_time": "2022-08-22T14:19:23.720Z"
   },
   {
    "duration": 42,
    "start_time": "2022-08-22T14:20:00.073Z"
   },
   {
    "duration": 111,
    "start_time": "2022-08-22T14:22:17.021Z"
   },
   {
    "duration": 133,
    "start_time": "2022-08-22T14:22:23.927Z"
   },
   {
    "duration": 160,
    "start_time": "2022-08-22T14:22:51.829Z"
   },
   {
    "duration": 39,
    "start_time": "2022-08-22T14:23:24.606Z"
   },
   {
    "duration": 169,
    "start_time": "2022-08-22T14:25:08.309Z"
   },
   {
    "duration": 33,
    "start_time": "2022-08-22T14:25:41.070Z"
   },
   {
    "duration": 19,
    "start_time": "2022-08-22T14:27:09.109Z"
   },
   {
    "duration": 17,
    "start_time": "2022-08-22T14:27:27.018Z"
   },
   {
    "duration": 15,
    "start_time": "2022-08-22T14:29:36.141Z"
   },
   {
    "duration": 549,
    "start_time": "2022-08-22T14:32:18.446Z"
   },
   {
    "duration": 10151,
    "start_time": "2022-08-22T14:32:18.998Z"
   },
   {
    "duration": 4,
    "start_time": "2022-08-22T14:32:29.151Z"
   },
   {
    "duration": 73,
    "start_time": "2022-08-22T14:32:29.156Z"
   },
   {
    "duration": 12,
    "start_time": "2022-08-22T14:32:29.231Z"
   },
   {
    "duration": 11,
    "start_time": "2022-08-22T14:32:29.245Z"
   },
   {
    "duration": 13,
    "start_time": "2022-08-22T14:32:29.258Z"
   },
   {
    "duration": 12,
    "start_time": "2022-08-22T14:32:29.273Z"
   },
   {
    "duration": 12,
    "start_time": "2022-08-22T14:32:29.292Z"
   },
   {
    "duration": 40,
    "start_time": "2022-08-22T14:32:29.306Z"
   },
   {
    "duration": 17,
    "start_time": "2022-08-22T14:32:29.347Z"
   },
   {
    "duration": 20,
    "start_time": "2022-08-22T14:32:29.366Z"
   },
   {
    "duration": 17,
    "start_time": "2022-08-22T14:32:29.387Z"
   },
   {
    "duration": 524,
    "start_time": "2022-08-22T14:36:00.846Z"
   },
   {
    "duration": 19699,
    "start_time": "2022-08-22T14:36:01.373Z"
   },
   {
    "duration": 2,
    "start_time": "2022-08-22T14:36:21.074Z"
   },
   {
    "duration": 89,
    "start_time": "2022-08-22T14:36:21.078Z"
   },
   {
    "duration": 12,
    "start_time": "2022-08-22T14:36:21.169Z"
   },
   {
    "duration": 11,
    "start_time": "2022-08-22T14:36:21.182Z"
   },
   {
    "duration": 12,
    "start_time": "2022-08-22T14:36:21.195Z"
   },
   {
    "duration": 12,
    "start_time": "2022-08-22T14:36:21.208Z"
   },
   {
    "duration": 11,
    "start_time": "2022-08-22T14:36:21.222Z"
   },
   {
    "duration": 35,
    "start_time": "2022-08-22T14:36:21.234Z"
   },
   {
    "duration": 12,
    "start_time": "2022-08-22T14:36:21.271Z"
   },
   {
    "duration": 23,
    "start_time": "2022-08-22T14:36:21.285Z"
   },
   {
    "duration": 14,
    "start_time": "2022-08-22T14:36:21.310Z"
   }
  ],
  "kernelspec": {
   "display_name": "Python 3 (ipykernel)",
   "language": "python",
   "name": "python3"
  },
  "language_info": {
   "codemirror_mode": {
    "name": "ipython",
    "version": 3
   },
   "file_extension": ".py",
   "mimetype": "text/x-python",
   "name": "python",
   "nbconvert_exporter": "python",
   "pygments_lexer": "ipython3",
   "version": "3.10.4"
  },
  "toc": {
   "base_numbering": 1,
   "nav_menu": {},
   "number_sections": true,
   "sideBar": true,
   "skip_h1_title": true,
   "title_cell": "Table of Contents",
   "title_sidebar": "Contents",
   "toc_cell": false,
   "toc_position": {},
   "toc_section_display": true,
   "toc_window_display": false
  },
  "vscode": {
   "interpreter": {
    "hash": "26de051ba29f2982a8de78e945f0abaf191376122a1563185a90213a26c5da77"
   }
  }
 },
 "nbformat": 4,
 "nbformat_minor": 2
}
