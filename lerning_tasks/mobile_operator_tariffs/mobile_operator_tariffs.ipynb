{
 "cells": [
  {
   "cell_type": "markdown",
   "metadata": {},
   "source": [
    "# Оглавление\n",
    "\n",
    "1. [Изучение данных из файлов](#start)\n",
    "2. [Предобработка данных](#preprocessing)\n",
    "    * [Работа с дубликатами](#2.1)\n",
    "    * [Работа со строковыми значениями](#2.2)\n",
    "    * [Работа с пропусками](#2.3)\n",
    "    * [Вывод](#2.4)\n",
    "3. [Подготовка данных к анализу](#preparation)\n",
    "    * [Приведение даты к удобному для работы вид](#3.1)\n",
    "    * [Приводим float к int, считаем средние показатели](#3.2)\n",
    "    * [Объеденим все необходимые данные в одну таблицу](#3.3)\n",
    "    * [Посчитаем суммы дохода от каждого пользователя (c превышения тарифа и общий по месяцам)](#3.4)\n",
    "\t* [Вывод](#3.5)\n",
    "4. [Aнализ данных](#analysis)\n",
    "    * [Расчитываем средние показатели затраченных минут, сообщений, интернет-траффика по месяцам](#4.1)\n",
    "    * [Расчитываем дисперсию и стандартное отклонение](#4.2)\n",
    "    * [Обработаем выбросы](#4.3)\n",
    "    * [Гистограмма продолжительности разговора](#4.4)\n",
    "\t* [Гистограмма интернет траффика](#4.5)\n",
    "\t* [Гистограмма сообщений](#4.6)\n",
    "5. [Проверка гипотез](#verification)\n",
    "    * [Средняя выручка пользователей тарифов «Ультра» и «Смарт»](#5.1)\n",
    "    * [Средняя выручка пользователей из Москвы и других регионов](#5.2)\n",
    "5. [Общий Вывод](#conclusion)"
   ]
  },
  {
   "cell_type": "markdown",
   "metadata": {},
   "source": [
    "# Исследование доходов от тарифных планов\n",
    "\n",
    "Вы аналитик компании «Мегалайн» — федерального оператора сотовой связи. Клиентам предлагают два тарифных плана: «Смарт» и «Ультра». Чтобы скорректировать рекламный бюджет, коммерческий департамент хочет понять, какой тариф приносит больше денег. Вам предстоит сделать предварительный анализ тарифов на небольшой выборке клиентов. В вашем распоряжении данные 500 пользователей «Мегалайна»: кто они, откуда, каким тарифом пользуются, сколько звонков и сообщений каждый отправил за 2018 год. Нужно проанализировать поведение клиентов и сделать вывод — какой тариф лучше.\n",
    "\n",
    "**Описание тарифных планов**\n",
    "\n",
    "<table>\n",
    "    <tr><th>Услуги</th><th>Тариф \"Смарт\"</th><th>Тариф \"Ультра\"</th></tr>\n",
    "    <tr><th>Ежемесячная плата, руб.</th><th>550</th><th>1950</th></tr>\n",
    "    <tr><th>Включено: минуты/сообщения/интернет</th><th>500 / 50 / 15</th><th>3000 / 1000 / 30</th></tr>\n",
    "    <tr><th>Стоимость услуг сверх тарифного пакета, руб.: минуты/сообщения/интернет</th><th>3 / 3 / 200</th><th>1 / 1 / 150</th></tr>\n",
    "</table>\n",
    "\n",
    "**Внимание:**\n",
    "<br>«Мегалайн» всегда округляет секунды до минут, а мегабайты — до гигабайт. Каждый звонок округляется отдельно: даже если он длился всего 1 секунду, будет засчитан как 1 минута.\n",
    "<br>Для веб-трафика отдельные сессии не считаются. Вместо этого общая сумма за месяц округляется в бо́льшую сторону. Если абонент использует 1025 мегабайт в этом месяце, с него возьмут плату за 2 гигабайта.\n",
    "\n",
    "**Необходимо провести:**\n",
    " - предобработку данных;\n",
    " - привести все данные к виду удобному для работы;\n",
    " - провести анализ объема услуг используемых клиентами за каждый месяц;\n",
    " - расчитать прыбыль полученную с клиентов использующих разные тарифы.\n",
    "\n",
    "**Гипотезы для проверки:**\n",
    " - различается ли средняя выручка пользователей тарифов «Ультра» и «Смарт»?\n",
    " - различается ли средняя выручка пользователей из Москвы и других регионов?"
   ]
  },
  {
   "cell_type": "markdown",
   "metadata": {},
   "source": [
    "**Описание данных**\n",
    "\n",
    "Таблица users (информация о пользователях):\n",
    " - user_id — уникальный идентификатор пользователя\n",
    " - first_name — имя пользователя\n",
    " - last_name — фамилия пользователя\n",
    " - age — возраст пользователя (годы)\n",
    " - reg_date — дата подключения тарифа (день, месяц, год)\n",
    " - churn_date — дата прекращения пользования тарифом (если значение пропущено, то тариф ещё действовал на момент выгрузки данных)\n",
    " - city — город проживания пользователя\n",
    " - tariff — название тарифного плана\n",
    "\n",
    "Таблица calls (информация о звонках):\n",
    " - id — уникальный номер звонка\n",
    " - call_date — дата звонка\n",
    " - duration — длительность звонка в минутах\n",
    " - user_id — идентификатор пользователя, сделавшего звонок\n",
    "\n",
    "Таблица messages (информация о сообщениях):\n",
    " - id — уникальный номер сообщения\n",
    " - message_date — дата сообщения\n",
    " - user_id — идентификатор пользователя, отправившего сообщение\n",
    "\n",
    "Таблица internet (информация об интернет-сессиях):\n",
    " - id — уникальный номер сессии\n",
    " - mb_used — объём потраченного за сессию интернет-трафика (в мегабайтах)\n",
    " - session_date — дата интернет-сессии\n",
    " - user_id — идентификатор пользователя\n",
    " \n",
    "Таблица tariffs (информация о тарифах):\n",
    " - tariff_name — название тарифа\n",
    " - rub_monthly_fee — ежемесячная абонентская плата в рублях\n",
    " - minutes_included — количество минут разговора в месяц, включённых в абонентскую плату\n",
    " - messages_included — количество сообщений в месяц, включённых в абонентскую плату\n",
    " - mb_per_month_included — объём интернет-трафика, включённого в абонентскую плату (в мегабайтах)\n",
    " - rub_per_minute — стоимость минуты разговора сверх тарифного пакета (например, если в тарифе 100 минут разговора в месяц, то со 101 минуты будет взиматься плата)\n",
    " - rub_per_message — стоимость отправки сообщения сверх тарифного пакета\n",
    " - rub_per_gb — стоимость дополнительного гигабайта интернет-трафика сверх тарифного пакета (1 гигабайт = 1024 мегабайта)"
   ]
  },
  {
   "cell_type": "markdown",
   "metadata": {},
   "source": [
    "## <a id=\"start\">Изучение данных из файлов</a>"
   ]
  },
  {
   "cell_type": "code",
   "execution_count": 38,
   "metadata": {
    "scrolled": false
   },
   "outputs": [
    {
     "data": {
      "text/html": [
       "<div>\n",
       "<style scoped>\n",
       "    .dataframe tbody tr th:only-of-type {\n",
       "        vertical-align: middle;\n",
       "    }\n",
       "\n",
       "    .dataframe tbody tr th {\n",
       "        vertical-align: top;\n",
       "    }\n",
       "\n",
       "    .dataframe thead th {\n",
       "        text-align: right;\n",
       "    }\n",
       "</style>\n",
       "<table border=\"1\" class=\"dataframe\">\n",
       "  <thead>\n",
       "    <tr style=\"text-align: right;\">\n",
       "      <th></th>\n",
       "      <th>user_id</th>\n",
       "      <th>age</th>\n",
       "      <th>churn_date</th>\n",
       "      <th>city</th>\n",
       "      <th>first_name</th>\n",
       "      <th>last_name</th>\n",
       "      <th>reg_date</th>\n",
       "      <th>tariff</th>\n",
       "    </tr>\n",
       "  </thead>\n",
       "  <tbody>\n",
       "    <tr>\n",
       "      <th>0</th>\n",
       "      <td>1000</td>\n",
       "      <td>52</td>\n",
       "      <td>NaN</td>\n",
       "      <td>Краснодар</td>\n",
       "      <td>Рафаил</td>\n",
       "      <td>Верещагин</td>\n",
       "      <td>2018-05-25</td>\n",
       "      <td>ultra</td>\n",
       "    </tr>\n",
       "    <tr>\n",
       "      <th>1</th>\n",
       "      <td>1001</td>\n",
       "      <td>41</td>\n",
       "      <td>NaN</td>\n",
       "      <td>Москва</td>\n",
       "      <td>Иван</td>\n",
       "      <td>Ежов</td>\n",
       "      <td>2018-11-01</td>\n",
       "      <td>smart</td>\n",
       "    </tr>\n",
       "    <tr>\n",
       "      <th>2</th>\n",
       "      <td>1002</td>\n",
       "      <td>59</td>\n",
       "      <td>NaN</td>\n",
       "      <td>Стерлитамак</td>\n",
       "      <td>Евгений</td>\n",
       "      <td>Абрамович</td>\n",
       "      <td>2018-06-17</td>\n",
       "      <td>smart</td>\n",
       "    </tr>\n",
       "    <tr>\n",
       "      <th>3</th>\n",
       "      <td>1003</td>\n",
       "      <td>23</td>\n",
       "      <td>NaN</td>\n",
       "      <td>Москва</td>\n",
       "      <td>Белла</td>\n",
       "      <td>Белякова</td>\n",
       "      <td>2018-08-17</td>\n",
       "      <td>ultra</td>\n",
       "    </tr>\n",
       "    <tr>\n",
       "      <th>4</th>\n",
       "      <td>1004</td>\n",
       "      <td>68</td>\n",
       "      <td>NaN</td>\n",
       "      <td>Новокузнецк</td>\n",
       "      <td>Татьяна</td>\n",
       "      <td>Авдеенко</td>\n",
       "      <td>2018-05-14</td>\n",
       "      <td>ultra</td>\n",
       "    </tr>\n",
       "  </tbody>\n",
       "</table>\n",
       "</div>"
      ],
      "text/plain": [
       "   user_id  age churn_date         city first_name  last_name    reg_date  \\\n",
       "0     1000   52        NaN    Краснодар     Рафаил  Верещагин  2018-05-25   \n",
       "1     1001   41        NaN       Москва       Иван       Ежов  2018-11-01   \n",
       "2     1002   59        NaN  Стерлитамак    Евгений  Абрамович  2018-06-17   \n",
       "3     1003   23        NaN       Москва      Белла   Белякова  2018-08-17   \n",
       "4     1004   68        NaN  Новокузнецк    Татьяна   Авдеенко  2018-05-14   \n",
       "\n",
       "  tariff  \n",
       "0  ultra  \n",
       "1  smart  \n",
       "2  smart  \n",
       "3  ultra  \n",
       "4  ultra  "
      ]
     },
     "metadata": {},
     "output_type": "display_data"
    },
    {
     "name": "stdout",
     "output_type": "stream",
     "text": [
      "<class 'pandas.core.frame.DataFrame'>\n",
      "RangeIndex: 500 entries, 0 to 499\n",
      "Data columns (total 8 columns):\n",
      " #   Column      Non-Null Count  Dtype \n",
      "---  ------      --------------  ----- \n",
      " 0   user_id     500 non-null    int64 \n",
      " 1   age         500 non-null    int64 \n",
      " 2   churn_date  38 non-null     object\n",
      " 3   city        500 non-null    object\n",
      " 4   first_name  500 non-null    object\n",
      " 5   last_name   500 non-null    object\n",
      " 6   reg_date    500 non-null    object\n",
      " 7   tariff      500 non-null    object\n",
      "dtypes: int64(2), object(6)\n",
      "memory usage: 31.4+ KB\n"
     ]
    },
    {
     "data": {
      "text/html": [
       "<div>\n",
       "<style scoped>\n",
       "    .dataframe tbody tr th:only-of-type {\n",
       "        vertical-align: middle;\n",
       "    }\n",
       "\n",
       "    .dataframe tbody tr th {\n",
       "        vertical-align: top;\n",
       "    }\n",
       "\n",
       "    .dataframe thead th {\n",
       "        text-align: right;\n",
       "    }\n",
       "</style>\n",
       "<table border=\"1\" class=\"dataframe\">\n",
       "  <thead>\n",
       "    <tr style=\"text-align: right;\">\n",
       "      <th></th>\n",
       "      <th>user_id</th>\n",
       "      <th>age</th>\n",
       "    </tr>\n",
       "  </thead>\n",
       "  <tbody>\n",
       "    <tr>\n",
       "      <th>count</th>\n",
       "      <td>500.000000</td>\n",
       "      <td>500.00000</td>\n",
       "    </tr>\n",
       "    <tr>\n",
       "      <th>mean</th>\n",
       "      <td>1249.500000</td>\n",
       "      <td>46.58800</td>\n",
       "    </tr>\n",
       "    <tr>\n",
       "      <th>std</th>\n",
       "      <td>144.481833</td>\n",
       "      <td>16.66763</td>\n",
       "    </tr>\n",
       "    <tr>\n",
       "      <th>min</th>\n",
       "      <td>1000.000000</td>\n",
       "      <td>18.00000</td>\n",
       "    </tr>\n",
       "    <tr>\n",
       "      <th>25%</th>\n",
       "      <td>1124.750000</td>\n",
       "      <td>32.00000</td>\n",
       "    </tr>\n",
       "    <tr>\n",
       "      <th>50%</th>\n",
       "      <td>1249.500000</td>\n",
       "      <td>46.00000</td>\n",
       "    </tr>\n",
       "    <tr>\n",
       "      <th>75%</th>\n",
       "      <td>1374.250000</td>\n",
       "      <td>62.00000</td>\n",
       "    </tr>\n",
       "    <tr>\n",
       "      <th>max</th>\n",
       "      <td>1499.000000</td>\n",
       "      <td>75.00000</td>\n",
       "    </tr>\n",
       "  </tbody>\n",
       "</table>\n",
       "</div>"
      ],
      "text/plain": [
       "           user_id        age\n",
       "count   500.000000  500.00000\n",
       "mean   1249.500000   46.58800\n",
       "std     144.481833   16.66763\n",
       "min    1000.000000   18.00000\n",
       "25%    1124.750000   32.00000\n",
       "50%    1249.500000   46.00000\n",
       "75%    1374.250000   62.00000\n",
       "max    1499.000000   75.00000"
      ]
     },
     "metadata": {},
     "output_type": "display_data"
    },
    {
     "data": {
      "text/html": [
       "<div>\n",
       "<style scoped>\n",
       "    .dataframe tbody tr th:only-of-type {\n",
       "        vertical-align: middle;\n",
       "    }\n",
       "\n",
       "    .dataframe tbody tr th {\n",
       "        vertical-align: top;\n",
       "    }\n",
       "\n",
       "    .dataframe thead th {\n",
       "        text-align: right;\n",
       "    }\n",
       "</style>\n",
       "<table border=\"1\" class=\"dataframe\">\n",
       "  <thead>\n",
       "    <tr style=\"text-align: right;\">\n",
       "      <th></th>\n",
       "      <th>id</th>\n",
       "      <th>call_date</th>\n",
       "      <th>duration</th>\n",
       "      <th>user_id</th>\n",
       "    </tr>\n",
       "  </thead>\n",
       "  <tbody>\n",
       "    <tr>\n",
       "      <th>0</th>\n",
       "      <td>1000_0</td>\n",
       "      <td>2018-07-25</td>\n",
       "      <td>0.00</td>\n",
       "      <td>1000</td>\n",
       "    </tr>\n",
       "    <tr>\n",
       "      <th>1</th>\n",
       "      <td>1000_1</td>\n",
       "      <td>2018-08-17</td>\n",
       "      <td>0.00</td>\n",
       "      <td>1000</td>\n",
       "    </tr>\n",
       "    <tr>\n",
       "      <th>2</th>\n",
       "      <td>1000_2</td>\n",
       "      <td>2018-06-11</td>\n",
       "      <td>2.85</td>\n",
       "      <td>1000</td>\n",
       "    </tr>\n",
       "    <tr>\n",
       "      <th>3</th>\n",
       "      <td>1000_3</td>\n",
       "      <td>2018-09-21</td>\n",
       "      <td>13.80</td>\n",
       "      <td>1000</td>\n",
       "    </tr>\n",
       "    <tr>\n",
       "      <th>4</th>\n",
       "      <td>1000_4</td>\n",
       "      <td>2018-12-15</td>\n",
       "      <td>5.18</td>\n",
       "      <td>1000</td>\n",
       "    </tr>\n",
       "  </tbody>\n",
       "</table>\n",
       "</div>"
      ],
      "text/plain": [
       "       id   call_date  duration  user_id\n",
       "0  1000_0  2018-07-25      0.00     1000\n",
       "1  1000_1  2018-08-17      0.00     1000\n",
       "2  1000_2  2018-06-11      2.85     1000\n",
       "3  1000_3  2018-09-21     13.80     1000\n",
       "4  1000_4  2018-12-15      5.18     1000"
      ]
     },
     "metadata": {},
     "output_type": "display_data"
    },
    {
     "name": "stdout",
     "output_type": "stream",
     "text": [
      "<class 'pandas.core.frame.DataFrame'>\n",
      "RangeIndex: 202607 entries, 0 to 202606\n",
      "Data columns (total 4 columns):\n",
      " #   Column     Non-Null Count   Dtype  \n",
      "---  ------     --------------   -----  \n",
      " 0   id         202607 non-null  object \n",
      " 1   call_date  202607 non-null  object \n",
      " 2   duration   202607 non-null  float64\n",
      " 3   user_id    202607 non-null  int64  \n",
      "dtypes: float64(1), int64(1), object(2)\n",
      "memory usage: 6.2+ MB\n"
     ]
    },
    {
     "data": {
      "text/html": [
       "<div>\n",
       "<style scoped>\n",
       "    .dataframe tbody tr th:only-of-type {\n",
       "        vertical-align: middle;\n",
       "    }\n",
       "\n",
       "    .dataframe tbody tr th {\n",
       "        vertical-align: top;\n",
       "    }\n",
       "\n",
       "    .dataframe thead th {\n",
       "        text-align: right;\n",
       "    }\n",
       "</style>\n",
       "<table border=\"1\" class=\"dataframe\">\n",
       "  <thead>\n",
       "    <tr style=\"text-align: right;\">\n",
       "      <th></th>\n",
       "      <th>duration</th>\n",
       "      <th>user_id</th>\n",
       "    </tr>\n",
       "  </thead>\n",
       "  <tbody>\n",
       "    <tr>\n",
       "      <th>count</th>\n",
       "      <td>202607.000000</td>\n",
       "      <td>202607.000000</td>\n",
       "    </tr>\n",
       "    <tr>\n",
       "      <th>mean</th>\n",
       "      <td>6.755887</td>\n",
       "      <td>1253.940619</td>\n",
       "    </tr>\n",
       "    <tr>\n",
       "      <th>std</th>\n",
       "      <td>5.843365</td>\n",
       "      <td>144.722751</td>\n",
       "    </tr>\n",
       "    <tr>\n",
       "      <th>min</th>\n",
       "      <td>0.000000</td>\n",
       "      <td>1000.000000</td>\n",
       "    </tr>\n",
       "    <tr>\n",
       "      <th>25%</th>\n",
       "      <td>1.300000</td>\n",
       "      <td>1126.000000</td>\n",
       "    </tr>\n",
       "    <tr>\n",
       "      <th>50%</th>\n",
       "      <td>6.000000</td>\n",
       "      <td>1260.000000</td>\n",
       "    </tr>\n",
       "    <tr>\n",
       "      <th>75%</th>\n",
       "      <td>10.700000</td>\n",
       "      <td>1379.000000</td>\n",
       "    </tr>\n",
       "    <tr>\n",
       "      <th>max</th>\n",
       "      <td>38.000000</td>\n",
       "      <td>1499.000000</td>\n",
       "    </tr>\n",
       "  </tbody>\n",
       "</table>\n",
       "</div>"
      ],
      "text/plain": [
       "            duration        user_id\n",
       "count  202607.000000  202607.000000\n",
       "mean        6.755887    1253.940619\n",
       "std         5.843365     144.722751\n",
       "min         0.000000    1000.000000\n",
       "25%         1.300000    1126.000000\n",
       "50%         6.000000    1260.000000\n",
       "75%        10.700000    1379.000000\n",
       "max        38.000000    1499.000000"
      ]
     },
     "metadata": {},
     "output_type": "display_data"
    },
    {
     "data": {
      "text/html": [
       "<div>\n",
       "<style scoped>\n",
       "    .dataframe tbody tr th:only-of-type {\n",
       "        vertical-align: middle;\n",
       "    }\n",
       "\n",
       "    .dataframe tbody tr th {\n",
       "        vertical-align: top;\n",
       "    }\n",
       "\n",
       "    .dataframe thead th {\n",
       "        text-align: right;\n",
       "    }\n",
       "</style>\n",
       "<table border=\"1\" class=\"dataframe\">\n",
       "  <thead>\n",
       "    <tr style=\"text-align: right;\">\n",
       "      <th></th>\n",
       "      <th>Unnamed: 0</th>\n",
       "      <th>id</th>\n",
       "      <th>mb_used</th>\n",
       "      <th>session_date</th>\n",
       "      <th>user_id</th>\n",
       "    </tr>\n",
       "  </thead>\n",
       "  <tbody>\n",
       "    <tr>\n",
       "      <th>0</th>\n",
       "      <td>0</td>\n",
       "      <td>1000_0</td>\n",
       "      <td>112.95</td>\n",
       "      <td>2018-11-25</td>\n",
       "      <td>1000</td>\n",
       "    </tr>\n",
       "    <tr>\n",
       "      <th>1</th>\n",
       "      <td>1</td>\n",
       "      <td>1000_1</td>\n",
       "      <td>1052.81</td>\n",
       "      <td>2018-09-07</td>\n",
       "      <td>1000</td>\n",
       "    </tr>\n",
       "    <tr>\n",
       "      <th>2</th>\n",
       "      <td>2</td>\n",
       "      <td>1000_2</td>\n",
       "      <td>1197.26</td>\n",
       "      <td>2018-06-25</td>\n",
       "      <td>1000</td>\n",
       "    </tr>\n",
       "    <tr>\n",
       "      <th>3</th>\n",
       "      <td>3</td>\n",
       "      <td>1000_3</td>\n",
       "      <td>550.27</td>\n",
       "      <td>2018-08-22</td>\n",
       "      <td>1000</td>\n",
       "    </tr>\n",
       "    <tr>\n",
       "      <th>4</th>\n",
       "      <td>4</td>\n",
       "      <td>1000_4</td>\n",
       "      <td>302.56</td>\n",
       "      <td>2018-09-24</td>\n",
       "      <td>1000</td>\n",
       "    </tr>\n",
       "  </tbody>\n",
       "</table>\n",
       "</div>"
      ],
      "text/plain": [
       "   Unnamed: 0      id  mb_used session_date  user_id\n",
       "0           0  1000_0   112.95   2018-11-25     1000\n",
       "1           1  1000_1  1052.81   2018-09-07     1000\n",
       "2           2  1000_2  1197.26   2018-06-25     1000\n",
       "3           3  1000_3   550.27   2018-08-22     1000\n",
       "4           4  1000_4   302.56   2018-09-24     1000"
      ]
     },
     "metadata": {},
     "output_type": "display_data"
    },
    {
     "name": "stdout",
     "output_type": "stream",
     "text": [
      "<class 'pandas.core.frame.DataFrame'>\n",
      "RangeIndex: 149396 entries, 0 to 149395\n",
      "Data columns (total 5 columns):\n",
      " #   Column        Non-Null Count   Dtype  \n",
      "---  ------        --------------   -----  \n",
      " 0   Unnamed: 0    149396 non-null  int64  \n",
      " 1   id            149396 non-null  object \n",
      " 2   mb_used       149396 non-null  float64\n",
      " 3   session_date  149396 non-null  object \n",
      " 4   user_id       149396 non-null  int64  \n",
      "dtypes: float64(1), int64(2), object(2)\n",
      "memory usage: 5.7+ MB\n"
     ]
    },
    {
     "data": {
      "text/html": [
       "<div>\n",
       "<style scoped>\n",
       "    .dataframe tbody tr th:only-of-type {\n",
       "        vertical-align: middle;\n",
       "    }\n",
       "\n",
       "    .dataframe tbody tr th {\n",
       "        vertical-align: top;\n",
       "    }\n",
       "\n",
       "    .dataframe thead th {\n",
       "        text-align: right;\n",
       "    }\n",
       "</style>\n",
       "<table border=\"1\" class=\"dataframe\">\n",
       "  <thead>\n",
       "    <tr style=\"text-align: right;\">\n",
       "      <th></th>\n",
       "      <th>Unnamed: 0</th>\n",
       "      <th>mb_used</th>\n",
       "      <th>user_id</th>\n",
       "    </tr>\n",
       "  </thead>\n",
       "  <tbody>\n",
       "    <tr>\n",
       "      <th>count</th>\n",
       "      <td>149396.000000</td>\n",
       "      <td>149396.000000</td>\n",
       "      <td>149396.000000</td>\n",
       "    </tr>\n",
       "    <tr>\n",
       "      <th>mean</th>\n",
       "      <td>74697.500000</td>\n",
       "      <td>370.192426</td>\n",
       "      <td>1252.099842</td>\n",
       "    </tr>\n",
       "    <tr>\n",
       "      <th>std</th>\n",
       "      <td>43127.054745</td>\n",
       "      <td>278.300951</td>\n",
       "      <td>144.050823</td>\n",
       "    </tr>\n",
       "    <tr>\n",
       "      <th>min</th>\n",
       "      <td>0.000000</td>\n",
       "      <td>0.000000</td>\n",
       "      <td>1000.000000</td>\n",
       "    </tr>\n",
       "    <tr>\n",
       "      <th>25%</th>\n",
       "      <td>37348.750000</td>\n",
       "      <td>138.187500</td>\n",
       "      <td>1130.000000</td>\n",
       "    </tr>\n",
       "    <tr>\n",
       "      <th>50%</th>\n",
       "      <td>74697.500000</td>\n",
       "      <td>348.015000</td>\n",
       "      <td>1251.000000</td>\n",
       "    </tr>\n",
       "    <tr>\n",
       "      <th>75%</th>\n",
       "      <td>112046.250000</td>\n",
       "      <td>559.552500</td>\n",
       "      <td>1380.000000</td>\n",
       "    </tr>\n",
       "    <tr>\n",
       "      <th>max</th>\n",
       "      <td>149395.000000</td>\n",
       "      <td>1724.830000</td>\n",
       "      <td>1499.000000</td>\n",
       "    </tr>\n",
       "  </tbody>\n",
       "</table>\n",
       "</div>"
      ],
      "text/plain": [
       "          Unnamed: 0        mb_used        user_id\n",
       "count  149396.000000  149396.000000  149396.000000\n",
       "mean    74697.500000     370.192426    1252.099842\n",
       "std     43127.054745     278.300951     144.050823\n",
       "min         0.000000       0.000000    1000.000000\n",
       "25%     37348.750000     138.187500    1130.000000\n",
       "50%     74697.500000     348.015000    1251.000000\n",
       "75%    112046.250000     559.552500    1380.000000\n",
       "max    149395.000000    1724.830000    1499.000000"
      ]
     },
     "metadata": {},
     "output_type": "display_data"
    },
    {
     "data": {
      "text/html": [
       "<div>\n",
       "<style scoped>\n",
       "    .dataframe tbody tr th:only-of-type {\n",
       "        vertical-align: middle;\n",
       "    }\n",
       "\n",
       "    .dataframe tbody tr th {\n",
       "        vertical-align: top;\n",
       "    }\n",
       "\n",
       "    .dataframe thead th {\n",
       "        text-align: right;\n",
       "    }\n",
       "</style>\n",
       "<table border=\"1\" class=\"dataframe\">\n",
       "  <thead>\n",
       "    <tr style=\"text-align: right;\">\n",
       "      <th></th>\n",
       "      <th>id</th>\n",
       "      <th>message_date</th>\n",
       "      <th>user_id</th>\n",
       "    </tr>\n",
       "  </thead>\n",
       "  <tbody>\n",
       "    <tr>\n",
       "      <th>0</th>\n",
       "      <td>1000_0</td>\n",
       "      <td>2018-06-27</td>\n",
       "      <td>1000</td>\n",
       "    </tr>\n",
       "    <tr>\n",
       "      <th>1</th>\n",
       "      <td>1000_1</td>\n",
       "      <td>2018-10-08</td>\n",
       "      <td>1000</td>\n",
       "    </tr>\n",
       "    <tr>\n",
       "      <th>2</th>\n",
       "      <td>1000_2</td>\n",
       "      <td>2018-08-04</td>\n",
       "      <td>1000</td>\n",
       "    </tr>\n",
       "    <tr>\n",
       "      <th>3</th>\n",
       "      <td>1000_3</td>\n",
       "      <td>2018-06-16</td>\n",
       "      <td>1000</td>\n",
       "    </tr>\n",
       "    <tr>\n",
       "      <th>4</th>\n",
       "      <td>1000_4</td>\n",
       "      <td>2018-12-05</td>\n",
       "      <td>1000</td>\n",
       "    </tr>\n",
       "  </tbody>\n",
       "</table>\n",
       "</div>"
      ],
      "text/plain": [
       "       id message_date  user_id\n",
       "0  1000_0   2018-06-27     1000\n",
       "1  1000_1   2018-10-08     1000\n",
       "2  1000_2   2018-08-04     1000\n",
       "3  1000_3   2018-06-16     1000\n",
       "4  1000_4   2018-12-05     1000"
      ]
     },
     "metadata": {},
     "output_type": "display_data"
    },
    {
     "name": "stdout",
     "output_type": "stream",
     "text": [
      "<class 'pandas.core.frame.DataFrame'>\n",
      "RangeIndex: 123036 entries, 0 to 123035\n",
      "Data columns (total 3 columns):\n",
      " #   Column        Non-Null Count   Dtype \n",
      "---  ------        --------------   ----- \n",
      " 0   id            123036 non-null  object\n",
      " 1   message_date  123036 non-null  object\n",
      " 2   user_id       123036 non-null  int64 \n",
      "dtypes: int64(1), object(2)\n",
      "memory usage: 2.8+ MB\n"
     ]
    },
    {
     "data": {
      "text/html": [
       "<div>\n",
       "<style scoped>\n",
       "    .dataframe tbody tr th:only-of-type {\n",
       "        vertical-align: middle;\n",
       "    }\n",
       "\n",
       "    .dataframe tbody tr th {\n",
       "        vertical-align: top;\n",
       "    }\n",
       "\n",
       "    .dataframe thead th {\n",
       "        text-align: right;\n",
       "    }\n",
       "</style>\n",
       "<table border=\"1\" class=\"dataframe\">\n",
       "  <thead>\n",
       "    <tr style=\"text-align: right;\">\n",
       "      <th></th>\n",
       "      <th>user_id</th>\n",
       "    </tr>\n",
       "  </thead>\n",
       "  <tbody>\n",
       "    <tr>\n",
       "      <th>count</th>\n",
       "      <td>123036.000000</td>\n",
       "    </tr>\n",
       "    <tr>\n",
       "      <th>mean</th>\n",
       "      <td>1256.989410</td>\n",
       "    </tr>\n",
       "    <tr>\n",
       "      <th>std</th>\n",
       "      <td>143.523967</td>\n",
       "    </tr>\n",
       "    <tr>\n",
       "      <th>min</th>\n",
       "      <td>1000.000000</td>\n",
       "    </tr>\n",
       "    <tr>\n",
       "      <th>25%</th>\n",
       "      <td>1134.000000</td>\n",
       "    </tr>\n",
       "    <tr>\n",
       "      <th>50%</th>\n",
       "      <td>1271.000000</td>\n",
       "    </tr>\n",
       "    <tr>\n",
       "      <th>75%</th>\n",
       "      <td>1381.000000</td>\n",
       "    </tr>\n",
       "    <tr>\n",
       "      <th>max</th>\n",
       "      <td>1499.000000</td>\n",
       "    </tr>\n",
       "  </tbody>\n",
       "</table>\n",
       "</div>"
      ],
      "text/plain": [
       "             user_id\n",
       "count  123036.000000\n",
       "mean     1256.989410\n",
       "std       143.523967\n",
       "min      1000.000000\n",
       "25%      1134.000000\n",
       "50%      1271.000000\n",
       "75%      1381.000000\n",
       "max      1499.000000"
      ]
     },
     "metadata": {},
     "output_type": "display_data"
    },
    {
     "data": {
      "text/html": [
       "<div>\n",
       "<style scoped>\n",
       "    .dataframe tbody tr th:only-of-type {\n",
       "        vertical-align: middle;\n",
       "    }\n",
       "\n",
       "    .dataframe tbody tr th {\n",
       "        vertical-align: top;\n",
       "    }\n",
       "\n",
       "    .dataframe thead th {\n",
       "        text-align: right;\n",
       "    }\n",
       "</style>\n",
       "<table border=\"1\" class=\"dataframe\">\n",
       "  <thead>\n",
       "    <tr style=\"text-align: right;\">\n",
       "      <th></th>\n",
       "      <th>messages_included</th>\n",
       "      <th>mb_per_month_included</th>\n",
       "      <th>minutes_included</th>\n",
       "      <th>rub_monthly_fee</th>\n",
       "      <th>rub_per_gb</th>\n",
       "      <th>rub_per_message</th>\n",
       "      <th>rub_per_minute</th>\n",
       "      <th>tariff_name</th>\n",
       "    </tr>\n",
       "  </thead>\n",
       "  <tbody>\n",
       "    <tr>\n",
       "      <th>0</th>\n",
       "      <td>50</td>\n",
       "      <td>15360</td>\n",
       "      <td>500</td>\n",
       "      <td>550</td>\n",
       "      <td>200</td>\n",
       "      <td>3</td>\n",
       "      <td>3</td>\n",
       "      <td>smart</td>\n",
       "    </tr>\n",
       "    <tr>\n",
       "      <th>1</th>\n",
       "      <td>1000</td>\n",
       "      <td>30720</td>\n",
       "      <td>3000</td>\n",
       "      <td>1950</td>\n",
       "      <td>150</td>\n",
       "      <td>1</td>\n",
       "      <td>1</td>\n",
       "      <td>ultra</td>\n",
       "    </tr>\n",
       "  </tbody>\n",
       "</table>\n",
       "</div>"
      ],
      "text/plain": [
       "   messages_included  mb_per_month_included  minutes_included  \\\n",
       "0                 50                  15360               500   \n",
       "1               1000                  30720              3000   \n",
       "\n",
       "   rub_monthly_fee  rub_per_gb  rub_per_message  rub_per_minute tariff_name  \n",
       "0              550         200                3               3       smart  \n",
       "1             1950         150                1               1       ultra  "
      ]
     },
     "metadata": {},
     "output_type": "display_data"
    },
    {
     "name": "stdout",
     "output_type": "stream",
     "text": [
      "<class 'pandas.core.frame.DataFrame'>\n",
      "RangeIndex: 2 entries, 0 to 1\n",
      "Data columns (total 8 columns):\n",
      " #   Column                 Non-Null Count  Dtype \n",
      "---  ------                 --------------  ----- \n",
      " 0   messages_included      2 non-null      int64 \n",
      " 1   mb_per_month_included  2 non-null      int64 \n",
      " 2   minutes_included       2 non-null      int64 \n",
      " 3   rub_monthly_fee        2 non-null      int64 \n",
      " 4   rub_per_gb             2 non-null      int64 \n",
      " 5   rub_per_message        2 non-null      int64 \n",
      " 6   rub_per_minute         2 non-null      int64 \n",
      " 7   tariff_name            2 non-null      object\n",
      "dtypes: int64(7), object(1)\n",
      "memory usage: 256.0+ bytes\n"
     ]
    },
    {
     "data": {
      "text/html": [
       "<div>\n",
       "<style scoped>\n",
       "    .dataframe tbody tr th:only-of-type {\n",
       "        vertical-align: middle;\n",
       "    }\n",
       "\n",
       "    .dataframe tbody tr th {\n",
       "        vertical-align: top;\n",
       "    }\n",
       "\n",
       "    .dataframe thead th {\n",
       "        text-align: right;\n",
       "    }\n",
       "</style>\n",
       "<table border=\"1\" class=\"dataframe\">\n",
       "  <thead>\n",
       "    <tr style=\"text-align: right;\">\n",
       "      <th></th>\n",
       "      <th>messages_included</th>\n",
       "      <th>mb_per_month_included</th>\n",
       "      <th>minutes_included</th>\n",
       "      <th>rub_monthly_fee</th>\n",
       "      <th>rub_per_gb</th>\n",
       "      <th>rub_per_message</th>\n",
       "      <th>rub_per_minute</th>\n",
       "    </tr>\n",
       "  </thead>\n",
       "  <tbody>\n",
       "    <tr>\n",
       "      <th>count</th>\n",
       "      <td>2.000000</td>\n",
       "      <td>2.000000</td>\n",
       "      <td>2.000000</td>\n",
       "      <td>2.000000</td>\n",
       "      <td>2.000000</td>\n",
       "      <td>2.000000</td>\n",
       "      <td>2.000000</td>\n",
       "    </tr>\n",
       "    <tr>\n",
       "      <th>mean</th>\n",
       "      <td>525.000000</td>\n",
       "      <td>23040.000000</td>\n",
       "      <td>1750.000000</td>\n",
       "      <td>1250.000000</td>\n",
       "      <td>175.000000</td>\n",
       "      <td>2.000000</td>\n",
       "      <td>2.000000</td>\n",
       "    </tr>\n",
       "    <tr>\n",
       "      <th>std</th>\n",
       "      <td>671.751442</td>\n",
       "      <td>10861.160159</td>\n",
       "      <td>1767.766953</td>\n",
       "      <td>989.949494</td>\n",
       "      <td>35.355339</td>\n",
       "      <td>1.414214</td>\n",
       "      <td>1.414214</td>\n",
       "    </tr>\n",
       "    <tr>\n",
       "      <th>min</th>\n",
       "      <td>50.000000</td>\n",
       "      <td>15360.000000</td>\n",
       "      <td>500.000000</td>\n",
       "      <td>550.000000</td>\n",
       "      <td>150.000000</td>\n",
       "      <td>1.000000</td>\n",
       "      <td>1.000000</td>\n",
       "    </tr>\n",
       "    <tr>\n",
       "      <th>25%</th>\n",
       "      <td>287.500000</td>\n",
       "      <td>19200.000000</td>\n",
       "      <td>1125.000000</td>\n",
       "      <td>900.000000</td>\n",
       "      <td>162.500000</td>\n",
       "      <td>1.500000</td>\n",
       "      <td>1.500000</td>\n",
       "    </tr>\n",
       "    <tr>\n",
       "      <th>50%</th>\n",
       "      <td>525.000000</td>\n",
       "      <td>23040.000000</td>\n",
       "      <td>1750.000000</td>\n",
       "      <td>1250.000000</td>\n",
       "      <td>175.000000</td>\n",
       "      <td>2.000000</td>\n",
       "      <td>2.000000</td>\n",
       "    </tr>\n",
       "    <tr>\n",
       "      <th>75%</th>\n",
       "      <td>762.500000</td>\n",
       "      <td>26880.000000</td>\n",
       "      <td>2375.000000</td>\n",
       "      <td>1600.000000</td>\n",
       "      <td>187.500000</td>\n",
       "      <td>2.500000</td>\n",
       "      <td>2.500000</td>\n",
       "    </tr>\n",
       "    <tr>\n",
       "      <th>max</th>\n",
       "      <td>1000.000000</td>\n",
       "      <td>30720.000000</td>\n",
       "      <td>3000.000000</td>\n",
       "      <td>1950.000000</td>\n",
       "      <td>200.000000</td>\n",
       "      <td>3.000000</td>\n",
       "      <td>3.000000</td>\n",
       "    </tr>\n",
       "  </tbody>\n",
       "</table>\n",
       "</div>"
      ],
      "text/plain": [
       "       messages_included  mb_per_month_included  minutes_included  \\\n",
       "count           2.000000               2.000000          2.000000   \n",
       "mean          525.000000           23040.000000       1750.000000   \n",
       "std           671.751442           10861.160159       1767.766953   \n",
       "min            50.000000           15360.000000        500.000000   \n",
       "25%           287.500000           19200.000000       1125.000000   \n",
       "50%           525.000000           23040.000000       1750.000000   \n",
       "75%           762.500000           26880.000000       2375.000000   \n",
       "max          1000.000000           30720.000000       3000.000000   \n",
       "\n",
       "       rub_monthly_fee  rub_per_gb  rub_per_message  rub_per_minute  \n",
       "count         2.000000    2.000000         2.000000        2.000000  \n",
       "mean       1250.000000  175.000000         2.000000        2.000000  \n",
       "std         989.949494   35.355339         1.414214        1.414214  \n",
       "min         550.000000  150.000000         1.000000        1.000000  \n",
       "25%         900.000000  162.500000         1.500000        1.500000  \n",
       "50%        1250.000000  175.000000         2.000000        2.000000  \n",
       "75%        1600.000000  187.500000         2.500000        2.500000  \n",
       "max        1950.000000  200.000000         3.000000        3.000000  "
      ]
     },
     "metadata": {},
     "output_type": "display_data"
    }
   ],
   "source": [
    "import pandas as pd # импорт библиотеки pandas\n",
    "import numpy as np # импорт библиотеки NumPy\n",
    "from scipy import stats as st # импорт метода stats библиотеки SciPy\n",
    "from IPython.display import display # импортируем метод display из библиотеки IPython.display\n",
    "import matplotlib.pyplot as plt\n",
    "\n",
    "# чтение файлов с данными, сохранение в переменные df_'table name'\n",
    "df_users = pd.read_csv('/datasets/users.csv')\n",
    "df_tariffs = pd.read_csv('/datasets/tariffs.csv')\n",
    "df_calls = pd.read_csv('/datasets/calls.csv')\n",
    "df_internet = pd.read_csv('/datasets/internet.csv')\n",
    "df_messages = pd.read_csv('/datasets/messages.csv')\n",
    "    \n",
    "pd.set_option('display.max_columns', None) # отображаем все колонки таблицы\n",
    "\n",
    "# для удобства обзора объеденим файлы с данными в одну группу\n",
    "df_list = [df_users, df_calls, df_internet, df_messages, df_tariffs]\n",
    "for df in df_list:\n",
    "    display(df.head())\n",
    "    df.info()\n",
    "    display(df.describe())"
   ]
  },
  {
   "cell_type": "markdown",
   "metadata": {},
   "source": [
    "### Вывод"
   ]
  },
  {
   "cell_type": "markdown",
   "metadata": {},
   "source": [
    "При первом осмотре данных замечено следующее:\n",
    " - даты нужно привести к типу datetime;\n",
    " - после обработке числовых данных в соответствии с политикой оператора, необходимо привести их к типу integer;"
   ]
  },
  {
   "cell_type": "markdown",
   "metadata": {},
   "source": [
    "## <a id=\"preprocessing\">Предобработка данных</a>"
   ]
  },
  {
   "cell_type": "code",
   "execution_count": 39,
   "metadata": {},
   "outputs": [],
   "source": [
    "# просто для удобства в таблице df_users столбец tariff переименуем в tariff_name\n",
    "df_users = df_users.rename(columns={'tariff': 'tariff_name'})"
   ]
  },
  {
   "cell_type": "code",
   "execution_count": 40,
   "metadata": {},
   "outputs": [
    {
     "data": {
      "text/html": [
       "<div>\n",
       "<style scoped>\n",
       "    .dataframe tbody tr th:only-of-type {\n",
       "        vertical-align: middle;\n",
       "    }\n",
       "\n",
       "    .dataframe tbody tr th {\n",
       "        vertical-align: top;\n",
       "    }\n",
       "\n",
       "    .dataframe thead th {\n",
       "        text-align: right;\n",
       "    }\n",
       "</style>\n",
       "<table border=\"1\" class=\"dataframe\">\n",
       "  <thead>\n",
       "    <tr style=\"text-align: right;\">\n",
       "      <th></th>\n",
       "      <th>id</th>\n",
       "      <th>mb_used</th>\n",
       "      <th>session_date</th>\n",
       "      <th>user_id</th>\n",
       "    </tr>\n",
       "  </thead>\n",
       "  <tbody>\n",
       "    <tr>\n",
       "      <th>0</th>\n",
       "      <td>1000_0</td>\n",
       "      <td>112.95</td>\n",
       "      <td>2018-11-25</td>\n",
       "      <td>1000</td>\n",
       "    </tr>\n",
       "    <tr>\n",
       "      <th>1</th>\n",
       "      <td>1000_1</td>\n",
       "      <td>1052.81</td>\n",
       "      <td>2018-09-07</td>\n",
       "      <td>1000</td>\n",
       "    </tr>\n",
       "    <tr>\n",
       "      <th>2</th>\n",
       "      <td>1000_2</td>\n",
       "      <td>1197.26</td>\n",
       "      <td>2018-06-25</td>\n",
       "      <td>1000</td>\n",
       "    </tr>\n",
       "    <tr>\n",
       "      <th>3</th>\n",
       "      <td>1000_3</td>\n",
       "      <td>550.27</td>\n",
       "      <td>2018-08-22</td>\n",
       "      <td>1000</td>\n",
       "    </tr>\n",
       "    <tr>\n",
       "      <th>4</th>\n",
       "      <td>1000_4</td>\n",
       "      <td>302.56</td>\n",
       "      <td>2018-09-24</td>\n",
       "      <td>1000</td>\n",
       "    </tr>\n",
       "  </tbody>\n",
       "</table>\n",
       "</div>"
      ],
      "text/plain": [
       "       id  mb_used session_date  user_id\n",
       "0  1000_0   112.95   2018-11-25     1000\n",
       "1  1000_1  1052.81   2018-09-07     1000\n",
       "2  1000_2  1197.26   2018-06-25     1000\n",
       "3  1000_3   550.27   2018-08-22     1000\n",
       "4  1000_4   302.56   2018-09-24     1000"
      ]
     },
     "execution_count": 40,
     "metadata": {},
     "output_type": "execute_result"
    }
   ],
   "source": [
    "del df_internet['Unnamed: 0'] # удаляем столбец дублирующий индексы\n",
    "df_internet.head()"
   ]
  },
  {
   "cell_type": "markdown",
   "metadata": {},
   "source": [
    "### <a id=\"2.1\">Работа с дубликатами</a>"
   ]
  },
  {
   "cell_type": "code",
   "execution_count": 41,
   "metadata": {},
   "outputs": [
    {
     "data": {
      "text/plain": [
       "0"
      ]
     },
     "metadata": {},
     "output_type": "display_data"
    },
    {
     "data": {
      "text/plain": [
       "0"
      ]
     },
     "metadata": {},
     "output_type": "display_data"
    },
    {
     "data": {
      "text/plain": [
       "0"
      ]
     },
     "metadata": {},
     "output_type": "display_data"
    },
    {
     "data": {
      "text/plain": [
       "0"
      ]
     },
     "metadata": {},
     "output_type": "display_data"
    },
    {
     "data": {
      "text/plain": [
       "0"
      ]
     },
     "metadata": {},
     "output_type": "display_data"
    }
   ],
   "source": [
    "for df in df_list:\n",
    "    display(df.duplicated().sum())"
   ]
  },
  {
   "cell_type": "markdown",
   "metadata": {},
   "source": [
    "Дубликатов нет, это удивляет, но и радует, едем дальше."
   ]
  },
  {
   "cell_type": "markdown",
   "metadata": {},
   "source": [
    "### <a id=\"2.2\">Работа со строковыми значениями</a>"
   ]
  },
  {
   "cell_type": "markdown",
   "metadata": {},
   "source": [
    "Проверим названия столбцов в таблицах, на наличие незамеченых ошибок(вроде пробелов)"
   ]
  },
  {
   "cell_type": "code",
   "execution_count": 42,
   "metadata": {},
   "outputs": [
    {
     "data": {
      "text/plain": [
       "Index(['user_id', 'age', 'churn_date', 'city', 'first_name', 'last_name',\n",
       "       'reg_date', 'tariff'],\n",
       "      dtype='object')"
      ]
     },
     "metadata": {},
     "output_type": "display_data"
    },
    {
     "data": {
      "text/plain": [
       "Index(['id', 'call_date', 'duration', 'user_id'], dtype='object')"
      ]
     },
     "metadata": {},
     "output_type": "display_data"
    },
    {
     "data": {
      "text/plain": [
       "Index(['id', 'mb_used', 'session_date', 'user_id'], dtype='object')"
      ]
     },
     "metadata": {},
     "output_type": "display_data"
    },
    {
     "data": {
      "text/plain": [
       "Index(['id', 'message_date', 'user_id'], dtype='object')"
      ]
     },
     "metadata": {},
     "output_type": "display_data"
    },
    {
     "data": {
      "text/plain": [
       "Index(['messages_included', 'mb_per_month_included', 'minutes_included',\n",
       "       'rub_monthly_fee', 'rub_per_gb', 'rub_per_message', 'rub_per_minute',\n",
       "       'tariff_name'],\n",
       "      dtype='object')"
      ]
     },
     "metadata": {},
     "output_type": "display_data"
    }
   ],
   "source": [
    "for df in df_list:\n",
    "    display(df.columns)"
   ]
  },
  {
   "cell_type": "markdown",
   "metadata": {},
   "source": [
    "проверяем уникальные значения в необходимых для исследования столбцах"
   ]
  },
  {
   "cell_type": "code",
   "execution_count": 43,
   "metadata": {},
   "outputs": [
    {
     "data": {
      "text/plain": [
       "array(['Архангельск', 'Астрахань', 'Балашиха', 'Барнаул', 'Белгород',\n",
       "       'Брянск', 'Владивосток', 'Владикавказ', 'Владимир', 'Волгоград',\n",
       "       'Волжский', 'Вологда', 'Воронеж', 'Грозный', 'Екатеринбург',\n",
       "       'Иваново', 'Ижевск', 'Иркутск', 'Казань', 'Калининград', 'Калуга',\n",
       "       'Кемерово', 'Киров', 'Кострома', 'Краснодар', 'Красноярск',\n",
       "       'Курган', 'Курск', 'Липецк', 'Магнитогорск', 'Махачкала', 'Москва',\n",
       "       'Мурманск', 'Набережные Челны', 'Нижневартовск', 'Нижний Новгород',\n",
       "       'Нижний Тагил', 'Новокузнецк', 'Новороссийск', 'Новосибирск',\n",
       "       'Омск', 'Оренбург', 'Орёл', 'Пенза', 'Пермь', 'Петрозаводск',\n",
       "       'Подольск', 'Ростов-на-Дону', 'Рязань', 'Самара',\n",
       "       'Санкт-Петербург', 'Саранск', 'Саратов', 'Севастополь', 'Смоленск',\n",
       "       'Сочи', 'Ставрополь', 'Стерлитамак', 'Сургут', 'Тамбов', 'Тверь',\n",
       "       'Тольятти', 'Томск', 'Тула', 'Тюмень', 'Улан-Удэ', 'Ульяновск',\n",
       "       'Уфа', 'Хабаровск', 'Химки', 'Чебоксары', 'Челябинск', 'Череповец',\n",
       "       'Чита', 'Якутск', 'Ярославль'], dtype=object)"
      ]
     },
     "execution_count": 43,
     "metadata": {},
     "output_type": "execute_result"
    }
   ],
   "source": [
    "df_users['city'].sort_values().unique()"
   ]
  },
  {
   "cell_type": "code",
   "execution_count": 44,
   "metadata": {},
   "outputs": [
    {
     "data": {
      "text/plain": [
       "array(['smart', 'ultra'], dtype=object)"
      ]
     },
     "execution_count": 44,
     "metadata": {},
     "output_type": "execute_result"
    }
   ],
   "source": [
    "df_users['tariff_name'].sort_values().unique()"
   ]
  },
  {
   "cell_type": "markdown",
   "metadata": {},
   "source": [
    "### <a id=\"2.3\">Работа с пропусками</a>"
   ]
  },
  {
   "cell_type": "code",
   "execution_count": 45,
   "metadata": {},
   "outputs": [
    {
     "data": {
      "text/plain": [
       "user_id         0\n",
       "age             0\n",
       "churn_date    462\n",
       "city            0\n",
       "first_name      0\n",
       "last_name       0\n",
       "reg_date        0\n",
       "tariff          0\n",
       "dtype: int64"
      ]
     },
     "metadata": {},
     "output_type": "display_data"
    },
    {
     "data": {
      "text/plain": [
       "id           0\n",
       "call_date    0\n",
       "duration     0\n",
       "user_id      0\n",
       "dtype: int64"
      ]
     },
     "metadata": {},
     "output_type": "display_data"
    },
    {
     "data": {
      "text/plain": [
       "id              0\n",
       "mb_used         0\n",
       "session_date    0\n",
       "user_id         0\n",
       "dtype: int64"
      ]
     },
     "metadata": {},
     "output_type": "display_data"
    },
    {
     "data": {
      "text/plain": [
       "id              0\n",
       "message_date    0\n",
       "user_id         0\n",
       "dtype: int64"
      ]
     },
     "metadata": {},
     "output_type": "display_data"
    },
    {
     "data": {
      "text/plain": [
       "messages_included        0\n",
       "mb_per_month_included    0\n",
       "minutes_included         0\n",
       "rub_monthly_fee          0\n",
       "rub_per_gb               0\n",
       "rub_per_message          0\n",
       "rub_per_minute           0\n",
       "tariff_name              0\n",
       "dtype: int64"
      ]
     },
     "metadata": {},
     "output_type": "display_data"
    }
   ],
   "source": [
    "for df in df_list:\n",
    "    display(df.isna().sum())"
   ]
  },
  {
   "cell_type": "markdown",
   "metadata": {},
   "source": [
    "### <a id=\"2.4\">Вывод</a>"
   ]
  },
  {
   "cell_type": "markdown",
   "metadata": {},
   "source": [
    "В процессе предобработки не было обнаружено каких-либо значимых артефактов.\n",
    "<br>Единственная вещь, которую пришлось удалить, это столбец \"Unnamed: 0\", который дублировал индексы в таблице df_internet.\n",
    "<br>Значения NaN в столбце churn_date таблицы df_users обусловлены тем, что договоры обслуживания клиентов еще действуют. "
   ]
  },
  {
   "cell_type": "markdown",
   "metadata": {},
   "source": [
    "## <a id=\"preparation\">Подготовка данных к анализу</a>"
   ]
  },
  {
   "cell_type": "markdown",
   "metadata": {},
   "source": [
    "### <a id=\"3.1\">Приведение даты к удобному для работы виду</a>"
   ]
  },
  {
   "cell_type": "code",
   "execution_count": 46,
   "metadata": {},
   "outputs": [],
   "source": [
    "# приведем дыты к соответствующему типу\n",
    "for df in df_list:\n",
    "    df_cols = [cols for cols in df.columns if 'date' in cols]\n",
    "    for cols in df_cols:\n",
    "        df[cols] = pd.to_datetime(df[cols], format=\"%Y-%m-%d\")"
   ]
  },
  {
   "cell_type": "code",
   "execution_count": 47,
   "metadata": {},
   "outputs": [
    {
     "name": "stdout",
     "output_type": "stream",
     "text": [
      "<class 'pandas.core.frame.DataFrame'>\n",
      "RangeIndex: 500 entries, 0 to 499\n",
      "Data columns (total 8 columns):\n",
      " #   Column      Non-Null Count  Dtype         \n",
      "---  ------      --------------  -----         \n",
      " 0   user_id     500 non-null    int64         \n",
      " 1   age         500 non-null    int64         \n",
      " 2   churn_date  38 non-null     datetime64[ns]\n",
      " 3   city        500 non-null    object        \n",
      " 4   first_name  500 non-null    object        \n",
      " 5   last_name   500 non-null    object        \n",
      " 6   reg_date    500 non-null    datetime64[ns]\n",
      " 7   tariff      500 non-null    object        \n",
      "dtypes: datetime64[ns](2), int64(2), object(4)\n",
      "memory usage: 31.4+ KB\n"
     ]
    },
    {
     "data": {
      "text/plain": [
       "None"
      ]
     },
     "metadata": {},
     "output_type": "display_data"
    },
    {
     "name": "stdout",
     "output_type": "stream",
     "text": [
      "<class 'pandas.core.frame.DataFrame'>\n",
      "RangeIndex: 202607 entries, 0 to 202606\n",
      "Data columns (total 4 columns):\n",
      " #   Column     Non-Null Count   Dtype         \n",
      "---  ------     --------------   -----         \n",
      " 0   id         202607 non-null  object        \n",
      " 1   call_date  202607 non-null  datetime64[ns]\n",
      " 2   duration   202607 non-null  float64       \n",
      " 3   user_id    202607 non-null  int64         \n",
      "dtypes: datetime64[ns](1), float64(1), int64(1), object(1)\n",
      "memory usage: 6.2+ MB\n"
     ]
    },
    {
     "data": {
      "text/plain": [
       "None"
      ]
     },
     "metadata": {},
     "output_type": "display_data"
    },
    {
     "name": "stdout",
     "output_type": "stream",
     "text": [
      "<class 'pandas.core.frame.DataFrame'>\n",
      "RangeIndex: 149396 entries, 0 to 149395\n",
      "Data columns (total 4 columns):\n",
      " #   Column        Non-Null Count   Dtype         \n",
      "---  ------        --------------   -----         \n",
      " 0   id            149396 non-null  object        \n",
      " 1   mb_used       149396 non-null  float64       \n",
      " 2   session_date  149396 non-null  datetime64[ns]\n",
      " 3   user_id       149396 non-null  int64         \n",
      "dtypes: datetime64[ns](1), float64(1), int64(1), object(1)\n",
      "memory usage: 4.6+ MB\n"
     ]
    },
    {
     "data": {
      "text/plain": [
       "None"
      ]
     },
     "metadata": {},
     "output_type": "display_data"
    },
    {
     "name": "stdout",
     "output_type": "stream",
     "text": [
      "<class 'pandas.core.frame.DataFrame'>\n",
      "RangeIndex: 123036 entries, 0 to 123035\n",
      "Data columns (total 3 columns):\n",
      " #   Column        Non-Null Count   Dtype         \n",
      "---  ------        --------------   -----         \n",
      " 0   id            123036 non-null  object        \n",
      " 1   message_date  123036 non-null  datetime64[ns]\n",
      " 2   user_id       123036 non-null  int64         \n",
      "dtypes: datetime64[ns](1), int64(1), object(1)\n",
      "memory usage: 2.8+ MB\n"
     ]
    },
    {
     "data": {
      "text/plain": [
       "None"
      ]
     },
     "metadata": {},
     "output_type": "display_data"
    },
    {
     "name": "stdout",
     "output_type": "stream",
     "text": [
      "<class 'pandas.core.frame.DataFrame'>\n",
      "RangeIndex: 2 entries, 0 to 1\n",
      "Data columns (total 8 columns):\n",
      " #   Column                 Non-Null Count  Dtype \n",
      "---  ------                 --------------  ----- \n",
      " 0   messages_included      2 non-null      int64 \n",
      " 1   mb_per_month_included  2 non-null      int64 \n",
      " 2   minutes_included       2 non-null      int64 \n",
      " 3   rub_monthly_fee        2 non-null      int64 \n",
      " 4   rub_per_gb             2 non-null      int64 \n",
      " 5   rub_per_message        2 non-null      int64 \n",
      " 6   rub_per_minute         2 non-null      int64 \n",
      " 7   tariff_name            2 non-null      object\n",
      "dtypes: int64(7), object(1)\n",
      "memory usage: 256.0+ bytes\n"
     ]
    },
    {
     "data": {
      "text/plain": [
       "None"
      ]
     },
     "metadata": {},
     "output_type": "display_data"
    }
   ],
   "source": [
    "# проверим, все ли столбцы с датами получили правильный тип данных\n",
    "for df in df_list:\n",
    "    display(df.info())"
   ]
  },
  {
   "cell_type": "markdown",
   "metadata": {},
   "source": [
    "### <a id=\"3.2\">Приводим float к int, считаем средние показатели</a>"
   ]
  },
  {
   "cell_type": "code",
   "execution_count": 48,
   "metadata": {},
   "outputs": [
    {
     "data": {
      "text/html": [
       "<div>\n",
       "<style scoped>\n",
       "    .dataframe tbody tr th:only-of-type {\n",
       "        vertical-align: middle;\n",
       "    }\n",
       "\n",
       "    .dataframe tbody tr th {\n",
       "        vertical-align: top;\n",
       "    }\n",
       "\n",
       "    .dataframe thead th {\n",
       "        text-align: right;\n",
       "    }\n",
       "</style>\n",
       "<table border=\"1\" class=\"dataframe\">\n",
       "  <thead>\n",
       "    <tr style=\"text-align: right;\">\n",
       "      <th></th>\n",
       "      <th>messages_included</th>\n",
       "      <th>gb_per_month_included</th>\n",
       "      <th>minutes_included</th>\n",
       "      <th>rub_monthly_fee</th>\n",
       "      <th>rub_per_gb</th>\n",
       "      <th>rub_per_message</th>\n",
       "      <th>rub_per_minute</th>\n",
       "      <th>tariff_name</th>\n",
       "    </tr>\n",
       "  </thead>\n",
       "  <tbody>\n",
       "    <tr>\n",
       "      <th>0</th>\n",
       "      <td>50</td>\n",
       "      <td>15</td>\n",
       "      <td>500</td>\n",
       "      <td>550</td>\n",
       "      <td>200</td>\n",
       "      <td>3</td>\n",
       "      <td>3</td>\n",
       "      <td>smart</td>\n",
       "    </tr>\n",
       "    <tr>\n",
       "      <th>1</th>\n",
       "      <td>1000</td>\n",
       "      <td>30</td>\n",
       "      <td>3000</td>\n",
       "      <td>1950</td>\n",
       "      <td>150</td>\n",
       "      <td>1</td>\n",
       "      <td>1</td>\n",
       "      <td>ultra</td>\n",
       "    </tr>\n",
       "  </tbody>\n",
       "</table>\n",
       "</div>"
      ],
      "text/plain": [
       "   messages_included  gb_per_month_included  minutes_included  \\\n",
       "0                 50                     15               500   \n",
       "1               1000                     30              3000   \n",
       "\n",
       "   rub_monthly_fee  rub_per_gb  rub_per_message  rub_per_minute tariff_name  \n",
       "0              550         200                3               3       smart  \n",
       "1             1950         150                1               1       ultra  "
      ]
     },
     "execution_count": 48,
     "metadata": {},
     "output_type": "execute_result"
    }
   ],
   "source": [
    "# переводим Mb в Gb\n",
    "df_tariffs['mb_per_month_included'] = df_tariffs['mb_per_month_included'] / 1024\n",
    "df_tariffs = df_tariffs.rename(columns = {'mb_per_month_included': 'gb_per_month_included'})\\\n",
    "            .astype({'gb_per_month_included': np.int64})\n",
    "df_tariffs"
   ]
  },
  {
   "cell_type": "code",
   "execution_count": 49,
   "metadata": {},
   "outputs": [
    {
     "data": {
      "text/html": [
       "<div>\n",
       "<style scoped>\n",
       "    .dataframe tbody tr th:only-of-type {\n",
       "        vertical-align: middle;\n",
       "    }\n",
       "\n",
       "    .dataframe tbody tr th {\n",
       "        vertical-align: top;\n",
       "    }\n",
       "\n",
       "    .dataframe thead th {\n",
       "        text-align: right;\n",
       "    }\n",
       "</style>\n",
       "<table border=\"1\" class=\"dataframe\">\n",
       "  <thead>\n",
       "    <tr style=\"text-align: right;\">\n",
       "      <th></th>\n",
       "      <th>user_id</th>\n",
       "      <th>month</th>\n",
       "      <th>month_total_duration</th>\n",
       "      <th>month_total_calls</th>\n",
       "    </tr>\n",
       "  </thead>\n",
       "  <tbody>\n",
       "    <tr>\n",
       "      <th>count</th>\n",
       "      <td>3174.000000</td>\n",
       "      <td>3174.000000</td>\n",
       "      <td>3174.000000</td>\n",
       "      <td>3174.000000</td>\n",
       "    </tr>\n",
       "    <tr>\n",
       "      <th>mean</th>\n",
       "      <td>1251.555766</td>\n",
       "      <td>8.311594</td>\n",
       "      <td>456.931632</td>\n",
       "      <td>63.833333</td>\n",
       "    </tr>\n",
       "    <tr>\n",
       "      <th>std</th>\n",
       "      <td>144.470630</td>\n",
       "      <td>2.910625</td>\n",
       "      <td>238.031270</td>\n",
       "      <td>32.678036</td>\n",
       "    </tr>\n",
       "    <tr>\n",
       "      <th>min</th>\n",
       "      <td>1000.000000</td>\n",
       "      <td>1.000000</td>\n",
       "      <td>0.000000</td>\n",
       "      <td>1.000000</td>\n",
       "    </tr>\n",
       "    <tr>\n",
       "      <th>25%</th>\n",
       "      <td>1126.000000</td>\n",
       "      <td>6.000000</td>\n",
       "      <td>290.000000</td>\n",
       "      <td>41.000000</td>\n",
       "    </tr>\n",
       "    <tr>\n",
       "      <th>50%</th>\n",
       "      <td>1254.000000</td>\n",
       "      <td>9.000000</td>\n",
       "      <td>447.000000</td>\n",
       "      <td>63.000000</td>\n",
       "    </tr>\n",
       "    <tr>\n",
       "      <th>75%</th>\n",
       "      <td>1378.000000</td>\n",
       "      <td>11.000000</td>\n",
       "      <td>592.000000</td>\n",
       "      <td>83.000000</td>\n",
       "    </tr>\n",
       "    <tr>\n",
       "      <th>max</th>\n",
       "      <td>1499.000000</td>\n",
       "      <td>12.000000</td>\n",
       "      <td>1673.000000</td>\n",
       "      <td>244.000000</td>\n",
       "    </tr>\n",
       "  </tbody>\n",
       "</table>\n",
       "</div>"
      ],
      "text/plain": [
       "           user_id        month  month_total_duration  month_total_calls\n",
       "count  3174.000000  3174.000000           3174.000000        3174.000000\n",
       "mean   1251.555766     8.311594            456.931632          63.833333\n",
       "std     144.470630     2.910625            238.031270          32.678036\n",
       "min    1000.000000     1.000000              0.000000           1.000000\n",
       "25%    1126.000000     6.000000            290.000000          41.000000\n",
       "50%    1254.000000     9.000000            447.000000          63.000000\n",
       "75%    1378.000000    11.000000            592.000000          83.000000\n",
       "max    1499.000000    12.000000           1673.000000         244.000000"
      ]
     },
     "execution_count": 49,
     "metadata": {},
     "output_type": "execute_result"
    }
   ],
   "source": [
    "## узнаем время и количество звонков в месяц для каждого пользователя\n",
    "df_calls['duration'] = np.ceil(df_calls['duration'])\n",
    "df_calls['month'] = df_calls['call_date'].dt.month\n",
    "calls_filtered = df_calls.groupby(['user_id', 'month']).agg({'duration': 'sum', 'id': 'count'})\\\n",
    "      .reset_index().rename(columns={'duration': 'month_total_duration', 'id': 'month_total_calls'})\n",
    "calls_filtered.describe()"
   ]
  },
  {
   "cell_type": "code",
   "execution_count": 50,
   "metadata": {},
   "outputs": [
    {
     "data": {
      "text/html": [
       "<div>\n",
       "<style scoped>\n",
       "    .dataframe tbody tr th:only-of-type {\n",
       "        vertical-align: middle;\n",
       "    }\n",
       "\n",
       "    .dataframe tbody tr th {\n",
       "        vertical-align: top;\n",
       "    }\n",
       "\n",
       "    .dataframe thead th {\n",
       "        text-align: right;\n",
       "    }\n",
       "</style>\n",
       "<table border=\"1\" class=\"dataframe\">\n",
       "  <thead>\n",
       "    <tr style=\"text-align: right;\">\n",
       "      <th></th>\n",
       "      <th>user_id</th>\n",
       "      <th>month</th>\n",
       "      <th>month_total_traffic_gb</th>\n",
       "    </tr>\n",
       "  </thead>\n",
       "  <tbody>\n",
       "    <tr>\n",
       "      <th>count</th>\n",
       "      <td>3203.000000</td>\n",
       "      <td>3203.000000</td>\n",
       "      <td>3203.000000</td>\n",
       "    </tr>\n",
       "    <tr>\n",
       "      <th>mean</th>\n",
       "      <td>1251.393069</td>\n",
       "      <td>8.320949</td>\n",
       "      <td>17.358414</td>\n",
       "    </tr>\n",
       "    <tr>\n",
       "      <th>std</th>\n",
       "      <td>144.824407</td>\n",
       "      <td>2.903834</td>\n",
       "      <td>7.343379</td>\n",
       "    </tr>\n",
       "    <tr>\n",
       "      <th>min</th>\n",
       "      <td>1000.000000</td>\n",
       "      <td>1.000000</td>\n",
       "      <td>0.000000</td>\n",
       "    </tr>\n",
       "    <tr>\n",
       "      <th>25%</th>\n",
       "      <td>1124.000000</td>\n",
       "      <td>6.000000</td>\n",
       "      <td>13.000000</td>\n",
       "    </tr>\n",
       "    <tr>\n",
       "      <th>50%</th>\n",
       "      <td>1251.000000</td>\n",
       "      <td>9.000000</td>\n",
       "      <td>17.000000</td>\n",
       "    </tr>\n",
       "    <tr>\n",
       "      <th>75%</th>\n",
       "      <td>1379.000000</td>\n",
       "      <td>11.000000</td>\n",
       "      <td>21.000000</td>\n",
       "    </tr>\n",
       "    <tr>\n",
       "      <th>max</th>\n",
       "      <td>1499.000000</td>\n",
       "      <td>12.000000</td>\n",
       "      <td>49.000000</td>\n",
       "    </tr>\n",
       "  </tbody>\n",
       "</table>\n",
       "</div>"
      ],
      "text/plain": [
       "           user_id        month  month_total_traffic_gb\n",
       "count  3203.000000  3203.000000             3203.000000\n",
       "mean   1251.393069     8.320949               17.358414\n",
       "std     144.824407     2.903834                7.343379\n",
       "min    1000.000000     1.000000                0.000000\n",
       "25%    1124.000000     6.000000               13.000000\n",
       "50%    1251.000000     9.000000               17.000000\n",
       "75%    1379.000000    11.000000               21.000000\n",
       "max    1499.000000    12.000000               49.000000"
      ]
     },
     "execution_count": 50,
     "metadata": {},
     "output_type": "execute_result"
    }
   ],
   "source": [
    "# узнаем количество интернет трафика в месяц для каждого пользователя\n",
    "df_internet['month'] = df_internet['session_date'].dt.month\n",
    "internet_filtered = df_internet.groupby(['user_id', 'month']).agg({'mb_used': 'sum'})\\\n",
    "      .reset_index().rename(columns={'mb_used': 'month_total_traffic_gb'})\n",
    "internet_filtered['month_total_traffic_gb'] = np.ceil(internet_filtered['month_total_traffic_gb'] / 1024)\n",
    "internet_filtered.describe()"
   ]
  },
  {
   "cell_type": "code",
   "execution_count": 51,
   "metadata": {},
   "outputs": [
    {
     "data": {
      "text/html": [
       "<div>\n",
       "<style scoped>\n",
       "    .dataframe tbody tr th:only-of-type {\n",
       "        vertical-align: middle;\n",
       "    }\n",
       "\n",
       "    .dataframe tbody tr th {\n",
       "        vertical-align: top;\n",
       "    }\n",
       "\n",
       "    .dataframe thead th {\n",
       "        text-align: right;\n",
       "    }\n",
       "</style>\n",
       "<table border=\"1\" class=\"dataframe\">\n",
       "  <thead>\n",
       "    <tr style=\"text-align: right;\">\n",
       "      <th></th>\n",
       "      <th>user_id</th>\n",
       "      <th>month</th>\n",
       "      <th>month_total_message</th>\n",
       "    </tr>\n",
       "  </thead>\n",
       "  <tbody>\n",
       "    <tr>\n",
       "      <th>count</th>\n",
       "      <td>2717.000000</td>\n",
       "      <td>2717.000000</td>\n",
       "      <td>2717.000000</td>\n",
       "    </tr>\n",
       "    <tr>\n",
       "      <th>mean</th>\n",
       "      <td>1255.635259</td>\n",
       "      <td>8.345234</td>\n",
       "      <td>45.283769</td>\n",
       "    </tr>\n",
       "    <tr>\n",
       "      <th>std</th>\n",
       "      <td>146.227484</td>\n",
       "      <td>2.892920</td>\n",
       "      <td>35.051363</td>\n",
       "    </tr>\n",
       "    <tr>\n",
       "      <th>min</th>\n",
       "      <td>1000.000000</td>\n",
       "      <td>1.000000</td>\n",
       "      <td>1.000000</td>\n",
       "    </tr>\n",
       "    <tr>\n",
       "      <th>25%</th>\n",
       "      <td>1126.000000</td>\n",
       "      <td>6.000000</td>\n",
       "      <td>19.000000</td>\n",
       "    </tr>\n",
       "    <tr>\n",
       "      <th>50%</th>\n",
       "      <td>1266.000000</td>\n",
       "      <td>9.000000</td>\n",
       "      <td>38.000000</td>\n",
       "    </tr>\n",
       "    <tr>\n",
       "      <th>75%</th>\n",
       "      <td>1384.000000</td>\n",
       "      <td>11.000000</td>\n",
       "      <td>63.000000</td>\n",
       "    </tr>\n",
       "    <tr>\n",
       "      <th>max</th>\n",
       "      <td>1499.000000</td>\n",
       "      <td>12.000000</td>\n",
       "      <td>224.000000</td>\n",
       "    </tr>\n",
       "  </tbody>\n",
       "</table>\n",
       "</div>"
      ],
      "text/plain": [
       "           user_id        month  month_total_message\n",
       "count  2717.000000  2717.000000          2717.000000\n",
       "mean   1255.635259     8.345234            45.283769\n",
       "std     146.227484     2.892920            35.051363\n",
       "min    1000.000000     1.000000             1.000000\n",
       "25%    1126.000000     6.000000            19.000000\n",
       "50%    1266.000000     9.000000            38.000000\n",
       "75%    1384.000000    11.000000            63.000000\n",
       "max    1499.000000    12.000000           224.000000"
      ]
     },
     "execution_count": 51,
     "metadata": {},
     "output_type": "execute_result"
    }
   ],
   "source": [
    "# узнаем количество сообщений в месяц для каждого пользователя\n",
    "df_messages['month'] = df_messages['message_date'].dt.month\n",
    "message_filtered = df_messages.groupby(['user_id', 'month']).agg({'id': 'count'})\\\n",
    "      .reset_index().rename(columns={'id': 'month_total_message'})\n",
    "message_filtered.describe()"
   ]
  },
  {
   "cell_type": "markdown",
   "metadata": {},
   "source": [
    "### <a id=\"3.3\">Объеденим все необходимые данные в одну таблицу</a>"
   ]
  },
  {
   "cell_type": "code",
   "execution_count": 52,
   "metadata": {
    "scrolled": false
   },
   "outputs": [
    {
     "data": {
      "text/html": [
       "<div>\n",
       "<style scoped>\n",
       "    .dataframe tbody tr th:only-of-type {\n",
       "        vertical-align: middle;\n",
       "    }\n",
       "\n",
       "    .dataframe tbody tr th {\n",
       "        vertical-align: top;\n",
       "    }\n",
       "\n",
       "    .dataframe thead th {\n",
       "        text-align: right;\n",
       "    }\n",
       "</style>\n",
       "<table border=\"1\" class=\"dataframe\">\n",
       "  <thead>\n",
       "    <tr style=\"text-align: right;\">\n",
       "      <th></th>\n",
       "      <th>user_id</th>\n",
       "      <th>month</th>\n",
       "      <th>month_total_duration</th>\n",
       "      <th>month_total_calls</th>\n",
       "      <th>month_total_traffic_gb</th>\n",
       "      <th>month_total_message</th>\n",
       "    </tr>\n",
       "  </thead>\n",
       "  <tbody>\n",
       "    <tr>\n",
       "      <th>3025</th>\n",
       "      <td>1475</td>\n",
       "      <td>8</td>\n",
       "      <td>286.0</td>\n",
       "      <td>29.0</td>\n",
       "      <td>14.0</td>\n",
       "      <td>24.0</td>\n",
       "    </tr>\n",
       "    <tr>\n",
       "      <th>2558</th>\n",
       "      <td>1403</td>\n",
       "      <td>6</td>\n",
       "      <td>50.0</td>\n",
       "      <td>10.0</td>\n",
       "      <td>31.0</td>\n",
       "      <td>56.0</td>\n",
       "    </tr>\n",
       "    <tr>\n",
       "      <th>729</th>\n",
       "      <td>1117</td>\n",
       "      <td>12</td>\n",
       "      <td>282.0</td>\n",
       "      <td>36.0</td>\n",
       "      <td>12.0</td>\n",
       "      <td>NaN</td>\n",
       "    </tr>\n",
       "    <tr>\n",
       "      <th>1646</th>\n",
       "      <td>1264</td>\n",
       "      <td>8</td>\n",
       "      <td>451.0</td>\n",
       "      <td>67.0</td>\n",
       "      <td>24.0</td>\n",
       "      <td>20.0</td>\n",
       "    </tr>\n",
       "    <tr>\n",
       "      <th>1336</th>\n",
       "      <td>1211</td>\n",
       "      <td>9</td>\n",
       "      <td>281.0</td>\n",
       "      <td>35.0</td>\n",
       "      <td>16.0</td>\n",
       "      <td>15.0</td>\n",
       "    </tr>\n",
       "    <tr>\n",
       "      <th>2817</th>\n",
       "      <td>1440</td>\n",
       "      <td>12</td>\n",
       "      <td>200.0</td>\n",
       "      <td>27.0</td>\n",
       "      <td>24.0</td>\n",
       "      <td>105.0</td>\n",
       "    </tr>\n",
       "    <tr>\n",
       "      <th>2765</th>\n",
       "      <td>1433</td>\n",
       "      <td>4</td>\n",
       "      <td>406.0</td>\n",
       "      <td>66.0</td>\n",
       "      <td>19.0</td>\n",
       "      <td>96.0</td>\n",
       "    </tr>\n",
       "    <tr>\n",
       "      <th>2249</th>\n",
       "      <td>1360</td>\n",
       "      <td>8</td>\n",
       "      <td>771.0</td>\n",
       "      <td>98.0</td>\n",
       "      <td>9.0</td>\n",
       "      <td>NaN</td>\n",
       "    </tr>\n",
       "    <tr>\n",
       "      <th>2578</th>\n",
       "      <td>1407</td>\n",
       "      <td>8</td>\n",
       "      <td>149.0</td>\n",
       "      <td>24.0</td>\n",
       "      <td>11.0</td>\n",
       "      <td>11.0</td>\n",
       "    </tr>\n",
       "    <tr>\n",
       "      <th>2334</th>\n",
       "      <td>1374</td>\n",
       "      <td>9</td>\n",
       "      <td>391.0</td>\n",
       "      <td>62.0</td>\n",
       "      <td>14.0</td>\n",
       "      <td>73.0</td>\n",
       "    </tr>\n",
       "  </tbody>\n",
       "</table>\n",
       "</div>"
      ],
      "text/plain": [
       "      user_id  month  month_total_duration  month_total_calls  \\\n",
       "3025     1475      8                 286.0               29.0   \n",
       "2558     1403      6                  50.0               10.0   \n",
       "729      1117     12                 282.0               36.0   \n",
       "1646     1264      8                 451.0               67.0   \n",
       "1336     1211      9                 281.0               35.0   \n",
       "2817     1440     12                 200.0               27.0   \n",
       "2765     1433      4                 406.0               66.0   \n",
       "2249     1360      8                 771.0               98.0   \n",
       "2578     1407      8                 149.0               24.0   \n",
       "2334     1374      9                 391.0               62.0   \n",
       "\n",
       "      month_total_traffic_gb  month_total_message  \n",
       "3025                    14.0                 24.0  \n",
       "2558                    31.0                 56.0  \n",
       "729                     12.0                  NaN  \n",
       "1646                    24.0                 20.0  \n",
       "1336                    16.0                 15.0  \n",
       "2817                    24.0                105.0  \n",
       "2765                    19.0                 96.0  \n",
       "2249                     9.0                  NaN  \n",
       "2578                    11.0                 11.0  \n",
       "2334                    14.0                 73.0  "
      ]
     },
     "execution_count": 52,
     "metadata": {},
     "output_type": "execute_result"
    }
   ],
   "source": [
    "general_table = calls_filtered.merge(internet_filtered, on=['user_id', 'month'], how='outer')\n",
    "general_table = general_table.merge(message_filtered, on=['user_id', 'month'], how='outer')\n",
    "general_table.sample(10)"
   ]
  },
  {
   "cell_type": "code",
   "execution_count": 54,
   "metadata": {},
   "outputs": [
    {
     "data": {
      "text/plain": [
       "user_id                     0\n",
       "month                       0\n",
       "month_total_duration       40\n",
       "month_total_calls          40\n",
       "month_total_traffic_gb     11\n",
       "month_total_message       497\n",
       "dtype: int64"
      ]
     },
     "execution_count": 54,
     "metadata": {},
     "output_type": "execute_result"
    }
   ],
   "source": [
    "general_table.isna().sum()"
   ]
  },
  {
   "cell_type": "markdown",
   "metadata": {},
   "source": [
    "Похоже есть люди, которые не пользовались некоторыми услугами в пределах своего тарифа. \n",
    "<br>Заменим пропущенные значения на 0."
   ]
  },
  {
   "cell_type": "code",
   "execution_count": 55,
   "metadata": {},
   "outputs": [
    {
     "data": {
      "text/plain": [
       "user_id                   0\n",
       "month                     0\n",
       "month_total_duration      0\n",
       "month_total_calls         0\n",
       "month_total_traffic_gb    0\n",
       "month_total_message       0\n",
       "dtype: int64"
      ]
     },
     "execution_count": 55,
     "metadata": {},
     "output_type": "execute_result"
    }
   ],
   "source": [
    "general_table['month_total_duration'] = general_table['month_total_duration'].fillna(0)\n",
    "general_table['month_total_calls'] = general_table['month_total_calls'].fillna(0)\n",
    "general_table['month_total_traffic_gb'] = general_table['month_total_traffic_gb'].fillna(0)\n",
    "general_table['month_total_message'] = general_table['month_total_message'].fillna(0)\n",
    "general_table.isna().sum()"
   ]
  },
  {
   "cell_type": "code",
   "execution_count": 56,
   "metadata": {},
   "outputs": [
    {
     "data": {
      "text/plain": [
       "4022611"
      ]
     },
     "execution_count": 56,
     "metadata": {},
     "output_type": "execute_result"
    }
   ],
   "source": [
    "general_table['user_id'].sum()"
   ]
  },
  {
   "cell_type": "code",
   "execution_count": 57,
   "metadata": {},
   "outputs": [
    {
     "data": {
      "text/html": [
       "<div>\n",
       "<style scoped>\n",
       "    .dataframe tbody tr th:only-of-type {\n",
       "        vertical-align: middle;\n",
       "    }\n",
       "\n",
       "    .dataframe tbody tr th {\n",
       "        vertical-align: top;\n",
       "    }\n",
       "\n",
       "    .dataframe thead th {\n",
       "        text-align: right;\n",
       "    }\n",
       "</style>\n",
       "<table border=\"1\" class=\"dataframe\">\n",
       "  <thead>\n",
       "    <tr style=\"text-align: right;\">\n",
       "      <th></th>\n",
       "      <th>user_id</th>\n",
       "      <th>month</th>\n",
       "      <th>month_total_duration</th>\n",
       "      <th>month_total_calls</th>\n",
       "      <th>month_total_traffic_gb</th>\n",
       "      <th>month_total_message</th>\n",
       "      <th>age</th>\n",
       "      <th>churn_date</th>\n",
       "      <th>city</th>\n",
       "      <th>first_name</th>\n",
       "      <th>last_name</th>\n",
       "      <th>reg_date</th>\n",
       "      <th>tariff_name</th>\n",
       "    </tr>\n",
       "  </thead>\n",
       "  <tbody>\n",
       "    <tr>\n",
       "      <th>806</th>\n",
       "      <td>1127</td>\n",
       "      <td>9</td>\n",
       "      <td>272.0</td>\n",
       "      <td>34.0</td>\n",
       "      <td>16.0</td>\n",
       "      <td>73.0</td>\n",
       "      <td>26</td>\n",
       "      <td>NaN</td>\n",
       "      <td>Казань</td>\n",
       "      <td>Альберта</td>\n",
       "      <td>Ильина</td>\n",
       "      <td>2018-04-11</td>\n",
       "      <td>smart</td>\n",
       "    </tr>\n",
       "    <tr>\n",
       "      <th>1899</th>\n",
       "      <td>1302</td>\n",
       "      <td>10</td>\n",
       "      <td>197.0</td>\n",
       "      <td>29.0</td>\n",
       "      <td>15.0</td>\n",
       "      <td>73.0</td>\n",
       "      <td>43</td>\n",
       "      <td>NaN</td>\n",
       "      <td>Уфа</td>\n",
       "      <td>Владислав</td>\n",
       "      <td>Абаимов</td>\n",
       "      <td>2018-01-23</td>\n",
       "      <td>smart</td>\n",
       "    </tr>\n",
       "    <tr>\n",
       "      <th>1279</th>\n",
       "      <td>1203</td>\n",
       "      <td>4</td>\n",
       "      <td>553.0</td>\n",
       "      <td>71.0</td>\n",
       "      <td>8.0</td>\n",
       "      <td>21.0</td>\n",
       "      <td>39</td>\n",
       "      <td>NaN</td>\n",
       "      <td>Москва</td>\n",
       "      <td>Владимир</td>\n",
       "      <td>Григорьев</td>\n",
       "      <td>2018-03-13</td>\n",
       "      <td>ultra</td>\n",
       "    </tr>\n",
       "    <tr>\n",
       "      <th>2021</th>\n",
       "      <td>1323</td>\n",
       "      <td>9</td>\n",
       "      <td>499.0</td>\n",
       "      <td>67.0</td>\n",
       "      <td>23.0</td>\n",
       "      <td>60.0</td>\n",
       "      <td>67</td>\n",
       "      <td>NaN</td>\n",
       "      <td>Челябинск</td>\n",
       "      <td>Эсмеральда</td>\n",
       "      <td>Носкова</td>\n",
       "      <td>2018-08-02</td>\n",
       "      <td>smart</td>\n",
       "    </tr>\n",
       "    <tr>\n",
       "      <th>879</th>\n",
       "      <td>1143</td>\n",
       "      <td>8</td>\n",
       "      <td>615.0</td>\n",
       "      <td>76.0</td>\n",
       "      <td>12.0</td>\n",
       "      <td>0.0</td>\n",
       "      <td>64</td>\n",
       "      <td>NaN</td>\n",
       "      <td>Пермь</td>\n",
       "      <td>Арсен</td>\n",
       "      <td>Покровский</td>\n",
       "      <td>2018-04-27</td>\n",
       "      <td>ultra</td>\n",
       "    </tr>\n",
       "    <tr>\n",
       "      <th>2249</th>\n",
       "      <td>1360</td>\n",
       "      <td>8</td>\n",
       "      <td>771.0</td>\n",
       "      <td>98.0</td>\n",
       "      <td>9.0</td>\n",
       "      <td>0.0</td>\n",
       "      <td>46</td>\n",
       "      <td>NaN</td>\n",
       "      <td>Санкт-Петербург</td>\n",
       "      <td>Лаура</td>\n",
       "      <td>Макарова</td>\n",
       "      <td>2018-03-18</td>\n",
       "      <td>ultra</td>\n",
       "    </tr>\n",
       "    <tr>\n",
       "      <th>577</th>\n",
       "      <td>1093</td>\n",
       "      <td>6</td>\n",
       "      <td>59.0</td>\n",
       "      <td>9.0</td>\n",
       "      <td>1.0</td>\n",
       "      <td>6.0</td>\n",
       "      <td>73</td>\n",
       "      <td>NaN</td>\n",
       "      <td>Санкт-Петербург</td>\n",
       "      <td>Вероника</td>\n",
       "      <td>Лапина</td>\n",
       "      <td>2018-06-29</td>\n",
       "      <td>smart</td>\n",
       "    </tr>\n",
       "    <tr>\n",
       "      <th>98</th>\n",
       "      <td>1013</td>\n",
       "      <td>11</td>\n",
       "      <td>369.0</td>\n",
       "      <td>52.0</td>\n",
       "      <td>10.0</td>\n",
       "      <td>17.0</td>\n",
       "      <td>36</td>\n",
       "      <td>NaN</td>\n",
       "      <td>Иваново</td>\n",
       "      <td>Борис</td>\n",
       "      <td>Андреенко</td>\n",
       "      <td>2018-11-14</td>\n",
       "      <td>ultra</td>\n",
       "    </tr>\n",
       "    <tr>\n",
       "      <th>1862</th>\n",
       "      <td>1298</td>\n",
       "      <td>7</td>\n",
       "      <td>108.0</td>\n",
       "      <td>11.0</td>\n",
       "      <td>6.0</td>\n",
       "      <td>4.0</td>\n",
       "      <td>29</td>\n",
       "      <td>NaN</td>\n",
       "      <td>Новосибирск</td>\n",
       "      <td>Надежда</td>\n",
       "      <td>Чеснокова</td>\n",
       "      <td>2018-07-26</td>\n",
       "      <td>smart</td>\n",
       "    </tr>\n",
       "    <tr>\n",
       "      <th>1142</th>\n",
       "      <td>1180</td>\n",
       "      <td>5</td>\n",
       "      <td>86.0</td>\n",
       "      <td>12.0</td>\n",
       "      <td>36.0</td>\n",
       "      <td>22.0</td>\n",
       "      <td>27</td>\n",
       "      <td>NaN</td>\n",
       "      <td>Москва</td>\n",
       "      <td>Лев</td>\n",
       "      <td>Мишин</td>\n",
       "      <td>2018-02-02</td>\n",
       "      <td>ultra</td>\n",
       "    </tr>\n",
       "  </tbody>\n",
       "</table>\n",
       "</div>"
      ],
      "text/plain": [
       "      user_id  month  month_total_duration  month_total_calls  \\\n",
       "806      1127      9                 272.0               34.0   \n",
       "1899     1302     10                 197.0               29.0   \n",
       "1279     1203      4                 553.0               71.0   \n",
       "2021     1323      9                 499.0               67.0   \n",
       "879      1143      8                 615.0               76.0   \n",
       "2249     1360      8                 771.0               98.0   \n",
       "577      1093      6                  59.0                9.0   \n",
       "98       1013     11                 369.0               52.0   \n",
       "1862     1298      7                 108.0               11.0   \n",
       "1142     1180      5                  86.0               12.0   \n",
       "\n",
       "      month_total_traffic_gb  month_total_message  age churn_date  \\\n",
       "806                     16.0                 73.0   26        NaN   \n",
       "1899                    15.0                 73.0   43        NaN   \n",
       "1279                     8.0                 21.0   39        NaN   \n",
       "2021                    23.0                 60.0   67        NaN   \n",
       "879                     12.0                  0.0   64        NaN   \n",
       "2249                     9.0                  0.0   46        NaN   \n",
       "577                      1.0                  6.0   73        NaN   \n",
       "98                      10.0                 17.0   36        NaN   \n",
       "1862                     6.0                  4.0   29        NaN   \n",
       "1142                    36.0                 22.0   27        NaN   \n",
       "\n",
       "                 city  first_name   last_name    reg_date tariff_name  \n",
       "806            Казань    Альберта      Ильина  2018-04-11       smart  \n",
       "1899              Уфа   Владислав     Абаимов  2018-01-23       smart  \n",
       "1279           Москва    Владимир   Григорьев  2018-03-13       ultra  \n",
       "2021        Челябинск  Эсмеральда     Носкова  2018-08-02       smart  \n",
       "879             Пермь       Арсен  Покровский  2018-04-27       ultra  \n",
       "2249  Санкт-Петербург       Лаура    Макарова  2018-03-18       ultra  \n",
       "577   Санкт-Петербург    Вероника      Лапина  2018-06-29       smart  \n",
       "98            Иваново       Борис   Андреенко  2018-11-14       ultra  \n",
       "1862      Новосибирск     Надежда   Чеснокова  2018-07-26       smart  \n",
       "1142           Москва         Лев       Мишин  2018-02-02       ultra  "
      ]
     },
     "execution_count": 57,
     "metadata": {},
     "output_type": "execute_result"
    }
   ],
   "source": [
    "general_table = general_table.merge(df_users, on='user_id', how='left')\n",
    "general_table.sample(10)"
   ]
  },
  {
   "cell_type": "code",
   "execution_count": 58,
   "metadata": {},
   "outputs": [
    {
     "data": {
      "text/plain": [
       "4022611"
      ]
     },
     "execution_count": 58,
     "metadata": {},
     "output_type": "execute_result"
    }
   ],
   "source": [
    "general_table['user_id'].sum()"
   ]
  },
  {
   "cell_type": "code",
   "execution_count": 59,
   "metadata": {},
   "outputs": [
    {
     "data": {
      "text/html": [
       "<div>\n",
       "<style scoped>\n",
       "    .dataframe tbody tr th:only-of-type {\n",
       "        vertical-align: middle;\n",
       "    }\n",
       "\n",
       "    .dataframe tbody tr th {\n",
       "        vertical-align: top;\n",
       "    }\n",
       "\n",
       "    .dataframe thead th {\n",
       "        text-align: right;\n",
       "    }\n",
       "</style>\n",
       "<table border=\"1\" class=\"dataframe\">\n",
       "  <thead>\n",
       "    <tr style=\"text-align: right;\">\n",
       "      <th></th>\n",
       "      <th>user_id</th>\n",
       "      <th>month</th>\n",
       "      <th>month_total_duration</th>\n",
       "      <th>month_total_calls</th>\n",
       "      <th>month_total_traffic_gb</th>\n",
       "      <th>month_total_message</th>\n",
       "      <th>age</th>\n",
       "      <th>churn_date</th>\n",
       "      <th>city</th>\n",
       "      <th>first_name</th>\n",
       "      <th>last_name</th>\n",
       "      <th>reg_date</th>\n",
       "      <th>tariff_name</th>\n",
       "      <th>messages_included</th>\n",
       "      <th>gb_per_month_included</th>\n",
       "      <th>minutes_included</th>\n",
       "      <th>rub_monthly_fee</th>\n",
       "      <th>rub_per_gb</th>\n",
       "      <th>rub_per_message</th>\n",
       "      <th>rub_per_minute</th>\n",
       "    </tr>\n",
       "  </thead>\n",
       "  <tbody>\n",
       "    <tr>\n",
       "      <th>2123</th>\n",
       "      <td>1339</td>\n",
       "      <td>9</td>\n",
       "      <td>417.0</td>\n",
       "      <td>66.0</td>\n",
       "      <td>20.0</td>\n",
       "      <td>0.0</td>\n",
       "      <td>52</td>\n",
       "      <td>NaN</td>\n",
       "      <td>Москва</td>\n",
       "      <td>Григорий</td>\n",
       "      <td>Вишневский</td>\n",
       "      <td>2018-08-14</td>\n",
       "      <td>smart</td>\n",
       "      <td>50</td>\n",
       "      <td>15</td>\n",
       "      <td>500</td>\n",
       "      <td>550</td>\n",
       "      <td>200</td>\n",
       "      <td>3</td>\n",
       "      <td>3</td>\n",
       "    </tr>\n",
       "    <tr>\n",
       "      <th>1170</th>\n",
       "      <td>1185</td>\n",
       "      <td>9</td>\n",
       "      <td>832.0</td>\n",
       "      <td>106.0</td>\n",
       "      <td>42.0</td>\n",
       "      <td>0.0</td>\n",
       "      <td>26</td>\n",
       "      <td>NaN</td>\n",
       "      <td>Санкт-Петербург</td>\n",
       "      <td>Мануэла</td>\n",
       "      <td>Родина</td>\n",
       "      <td>2018-04-13</td>\n",
       "      <td>ultra</td>\n",
       "      <td>1000</td>\n",
       "      <td>30</td>\n",
       "      <td>3000</td>\n",
       "      <td>1950</td>\n",
       "      <td>150</td>\n",
       "      <td>1</td>\n",
       "      <td>1</td>\n",
       "    </tr>\n",
       "    <tr>\n",
       "      <th>109</th>\n",
       "      <td>1015</td>\n",
       "      <td>5</td>\n",
       "      <td>401.0</td>\n",
       "      <td>68.0</td>\n",
       "      <td>17.0</td>\n",
       "      <td>73.0</td>\n",
       "      <td>26</td>\n",
       "      <td>NaN</td>\n",
       "      <td>Челябинск</td>\n",
       "      <td>Рузана</td>\n",
       "      <td>Алюшина</td>\n",
       "      <td>2018-04-30</td>\n",
       "      <td>smart</td>\n",
       "      <td>50</td>\n",
       "      <td>15</td>\n",
       "      <td>500</td>\n",
       "      <td>550</td>\n",
       "      <td>200</td>\n",
       "      <td>3</td>\n",
       "      <td>3</td>\n",
       "    </tr>\n",
       "    <tr>\n",
       "      <th>320</th>\n",
       "      <td>1051</td>\n",
       "      <td>10</td>\n",
       "      <td>123.0</td>\n",
       "      <td>16.0</td>\n",
       "      <td>10.0</td>\n",
       "      <td>0.0</td>\n",
       "      <td>37</td>\n",
       "      <td>2018-10-14</td>\n",
       "      <td>Москва</td>\n",
       "      <td>Кристина</td>\n",
       "      <td>Сомова</td>\n",
       "      <td>2018-05-28</td>\n",
       "      <td>smart</td>\n",
       "      <td>50</td>\n",
       "      <td>15</td>\n",
       "      <td>500</td>\n",
       "      <td>550</td>\n",
       "      <td>200</td>\n",
       "      <td>3</td>\n",
       "      <td>3</td>\n",
       "    </tr>\n",
       "    <tr>\n",
       "      <th>91</th>\n",
       "      <td>1012</td>\n",
       "      <td>6</td>\n",
       "      <td>219.0</td>\n",
       "      <td>29.0</td>\n",
       "      <td>25.0</td>\n",
       "      <td>15.0</td>\n",
       "      <td>38</td>\n",
       "      <td>NaN</td>\n",
       "      <td>Санкт-Петербург</td>\n",
       "      <td>Варлам</td>\n",
       "      <td>Соловьев</td>\n",
       "      <td>2018-03-28</td>\n",
       "      <td>smart</td>\n",
       "      <td>50</td>\n",
       "      <td>15</td>\n",
       "      <td>500</td>\n",
       "      <td>550</td>\n",
       "      <td>200</td>\n",
       "      <td>3</td>\n",
       "      <td>3</td>\n",
       "    </tr>\n",
       "    <tr>\n",
       "      <th>3049</th>\n",
       "      <td>1478</td>\n",
       "      <td>9</td>\n",
       "      <td>187.0</td>\n",
       "      <td>27.0</td>\n",
       "      <td>16.0</td>\n",
       "      <td>86.0</td>\n",
       "      <td>75</td>\n",
       "      <td>NaN</td>\n",
       "      <td>Грозный</td>\n",
       "      <td>Таира</td>\n",
       "      <td>Константинова</td>\n",
       "      <td>2018-07-16</td>\n",
       "      <td>smart</td>\n",
       "      <td>50</td>\n",
       "      <td>15</td>\n",
       "      <td>500</td>\n",
       "      <td>550</td>\n",
       "      <td>200</td>\n",
       "      <td>3</td>\n",
       "      <td>3</td>\n",
       "    </tr>\n",
       "    <tr>\n",
       "      <th>2375</th>\n",
       "      <td>1378</td>\n",
       "      <td>7</td>\n",
       "      <td>517.0</td>\n",
       "      <td>75.0</td>\n",
       "      <td>12.0</td>\n",
       "      <td>12.0</td>\n",
       "      <td>21</td>\n",
       "      <td>NaN</td>\n",
       "      <td>Иркутск</td>\n",
       "      <td>Евгения</td>\n",
       "      <td>Бычкова</td>\n",
       "      <td>2018-01-19</td>\n",
       "      <td>smart</td>\n",
       "      <td>50</td>\n",
       "      <td>15</td>\n",
       "      <td>500</td>\n",
       "      <td>550</td>\n",
       "      <td>200</td>\n",
       "      <td>3</td>\n",
       "      <td>3</td>\n",
       "    </tr>\n",
       "    <tr>\n",
       "      <th>2949</th>\n",
       "      <td>1464</td>\n",
       "      <td>11</td>\n",
       "      <td>597.0</td>\n",
       "      <td>79.0</td>\n",
       "      <td>21.0</td>\n",
       "      <td>27.0</td>\n",
       "      <td>44</td>\n",
       "      <td>NaN</td>\n",
       "      <td>Саранск</td>\n",
       "      <td>Антонина</td>\n",
       "      <td>Авросинова</td>\n",
       "      <td>2018-02-17</td>\n",
       "      <td>smart</td>\n",
       "      <td>50</td>\n",
       "      <td>15</td>\n",
       "      <td>500</td>\n",
       "      <td>550</td>\n",
       "      <td>200</td>\n",
       "      <td>3</td>\n",
       "      <td>3</td>\n",
       "    </tr>\n",
       "    <tr>\n",
       "      <th>292</th>\n",
       "      <td>1047</td>\n",
       "      <td>10</td>\n",
       "      <td>109.0</td>\n",
       "      <td>12.0</td>\n",
       "      <td>2.0</td>\n",
       "      <td>5.0</td>\n",
       "      <td>67</td>\n",
       "      <td>NaN</td>\n",
       "      <td>Саратов</td>\n",
       "      <td>Милица</td>\n",
       "      <td>Меркулова</td>\n",
       "      <td>2018-10-29</td>\n",
       "      <td>smart</td>\n",
       "      <td>50</td>\n",
       "      <td>15</td>\n",
       "      <td>500</td>\n",
       "      <td>550</td>\n",
       "      <td>200</td>\n",
       "      <td>3</td>\n",
       "      <td>3</td>\n",
       "    </tr>\n",
       "    <tr>\n",
       "      <th>2819</th>\n",
       "      <td>1441</td>\n",
       "      <td>12</td>\n",
       "      <td>182.0</td>\n",
       "      <td>23.0</td>\n",
       "      <td>26.0</td>\n",
       "      <td>38.0</td>\n",
       "      <td>62</td>\n",
       "      <td>NaN</td>\n",
       "      <td>Самара</td>\n",
       "      <td>Леонтий</td>\n",
       "      <td>Белозёров</td>\n",
       "      <td>2018-11-07</td>\n",
       "      <td>smart</td>\n",
       "      <td>50</td>\n",
       "      <td>15</td>\n",
       "      <td>500</td>\n",
       "      <td>550</td>\n",
       "      <td>200</td>\n",
       "      <td>3</td>\n",
       "      <td>3</td>\n",
       "    </tr>\n",
       "  </tbody>\n",
       "</table>\n",
       "</div>"
      ],
      "text/plain": [
       "      user_id  month  month_total_duration  month_total_calls  \\\n",
       "2123     1339      9                 417.0               66.0   \n",
       "1170     1185      9                 832.0              106.0   \n",
       "109      1015      5                 401.0               68.0   \n",
       "320      1051     10                 123.0               16.0   \n",
       "91       1012      6                 219.0               29.0   \n",
       "3049     1478      9                 187.0               27.0   \n",
       "2375     1378      7                 517.0               75.0   \n",
       "2949     1464     11                 597.0               79.0   \n",
       "292      1047     10                 109.0               12.0   \n",
       "2819     1441     12                 182.0               23.0   \n",
       "\n",
       "      month_total_traffic_gb  month_total_message  age  churn_date  \\\n",
       "2123                    20.0                  0.0   52         NaN   \n",
       "1170                    42.0                  0.0   26         NaN   \n",
       "109                     17.0                 73.0   26         NaN   \n",
       "320                     10.0                  0.0   37  2018-10-14   \n",
       "91                      25.0                 15.0   38         NaN   \n",
       "3049                    16.0                 86.0   75         NaN   \n",
       "2375                    12.0                 12.0   21         NaN   \n",
       "2949                    21.0                 27.0   44         NaN   \n",
       "292                      2.0                  5.0   67         NaN   \n",
       "2819                    26.0                 38.0   62         NaN   \n",
       "\n",
       "                 city first_name      last_name    reg_date tariff_name  \\\n",
       "2123           Москва   Григорий     Вишневский  2018-08-14       smart   \n",
       "1170  Санкт-Петербург    Мануэла         Родина  2018-04-13       ultra   \n",
       "109         Челябинск     Рузана        Алюшина  2018-04-30       smart   \n",
       "320            Москва   Кристина         Сомова  2018-05-28       smart   \n",
       "91    Санкт-Петербург     Варлам       Соловьев  2018-03-28       smart   \n",
       "3049          Грозный      Таира  Константинова  2018-07-16       smart   \n",
       "2375          Иркутск    Евгения        Бычкова  2018-01-19       smart   \n",
       "2949          Саранск   Антонина     Авросинова  2018-02-17       smart   \n",
       "292           Саратов     Милица      Меркулова  2018-10-29       smart   \n",
       "2819           Самара    Леонтий      Белозёров  2018-11-07       smart   \n",
       "\n",
       "      messages_included  gb_per_month_included  minutes_included  \\\n",
       "2123                 50                     15               500   \n",
       "1170               1000                     30              3000   \n",
       "109                  50                     15               500   \n",
       "320                  50                     15               500   \n",
       "91                   50                     15               500   \n",
       "3049                 50                     15               500   \n",
       "2375                 50                     15               500   \n",
       "2949                 50                     15               500   \n",
       "292                  50                     15               500   \n",
       "2819                 50                     15               500   \n",
       "\n",
       "      rub_monthly_fee  rub_per_gb  rub_per_message  rub_per_minute  \n",
       "2123              550         200                3               3  \n",
       "1170             1950         150                1               1  \n",
       "109               550         200                3               3  \n",
       "320               550         200                3               3  \n",
       "91                550         200                3               3  \n",
       "3049              550         200                3               3  \n",
       "2375              550         200                3               3  \n",
       "2949              550         200                3               3  \n",
       "292               550         200                3               3  \n",
       "2819              550         200                3               3  "
      ]
     },
     "execution_count": 59,
     "metadata": {},
     "output_type": "execute_result"
    }
   ],
   "source": [
    "general_table = general_table.merge(df_tariffs, on='tariff_name', how='left')\n",
    "general_table.sample(10)"
   ]
  },
  {
   "cell_type": "code",
   "execution_count": 60,
   "metadata": {},
   "outputs": [
    {
     "data": {
      "text/plain": [
       "4022611"
      ]
     },
     "execution_count": 60,
     "metadata": {},
     "output_type": "execute_result"
    }
   ],
   "source": [
    "general_table['user_id'].sum()"
   ]
  },
  {
   "cell_type": "code",
   "execution_count": 61,
   "metadata": {},
   "outputs": [
    {
     "name": "stdout",
     "output_type": "stream",
     "text": [
      "<class 'pandas.core.frame.DataFrame'>\n",
      "Int64Index: 3214 entries, 0 to 3213\n",
      "Data columns (total 20 columns):\n",
      " #   Column                  Non-Null Count  Dtype \n",
      "---  ------                  --------------  ----- \n",
      " 0   user_id                 3214 non-null   int64 \n",
      " 1   month                   3214 non-null   int64 \n",
      " 2   month_total_duration    3214 non-null   int64 \n",
      " 3   month_total_calls       3214 non-null   int64 \n",
      " 4   month_total_traffic_gb  3214 non-null   int64 \n",
      " 5   month_total_message     3214 non-null   int64 \n",
      " 6   age                     3214 non-null   int64 \n",
      " 7   churn_date              187 non-null    object\n",
      " 8   city                    3214 non-null   object\n",
      " 9   first_name              3214 non-null   object\n",
      " 10  last_name               3214 non-null   object\n",
      " 11  reg_date                3214 non-null   object\n",
      " 12  tariff_name             3214 non-null   object\n",
      " 13  messages_included       3214 non-null   int64 \n",
      " 14  gb_per_month_included   3214 non-null   int64 \n",
      " 15  minutes_included        3214 non-null   int64 \n",
      " 16  rub_monthly_fee         3214 non-null   int64 \n",
      " 17  rub_per_gb              3214 non-null   int64 \n",
      " 18  rub_per_message         3214 non-null   int64 \n",
      " 19  rub_per_minute          3214 non-null   int64 \n",
      "dtypes: int64(14), object(6)\n",
      "memory usage: 527.3+ KB\n"
     ]
    }
   ],
   "source": [
    "# приведем float к int\n",
    "general_table = general_table.astype({'month_total_duration': np.int64,\n",
    "                'month_total_calls': np.int64,\n",
    "                'month_total_traffic_gb': np.int64,\n",
    "                'month_total_message': np.int64,\n",
    "})\n",
    "general_table.info()"
   ]
  },
  {
   "cell_type": "markdown",
   "metadata": {},
   "source": [
    "### <a id=\"3.4\">Посчитаем суммы дохода от каждого пользователя (c превышения тарифа и общий по месяцам)</a>"
   ]
  },
  {
   "cell_type": "code",
   "execution_count": 62,
   "metadata": {},
   "outputs": [],
   "source": [
    "def tariff_profit(row):\n",
    "    mins = (row['month_total_duration'] - row['minutes_included']) * row['rub_per_minute']\n",
    "    traf = (row['month_total_traffic_gb'] - row['gb_per_month_included']) * row['rub_per_gb']\n",
    "    mes = (row['month_total_message'] - row['messages_included']) * row['rub_per_message']\n",
    "    result = 0\n",
    "    for i in [mins, traf, mes]:\n",
    "        if i > 0:\n",
    "            result += i\n",
    "    return result"
   ]
  },
  {
   "cell_type": "code",
   "execution_count": 63,
   "metadata": {},
   "outputs": [
    {
     "data": {
      "text/html": [
       "<div>\n",
       "<style scoped>\n",
       "    .dataframe tbody tr th:only-of-type {\n",
       "        vertical-align: middle;\n",
       "    }\n",
       "\n",
       "    .dataframe tbody tr th {\n",
       "        vertical-align: top;\n",
       "    }\n",
       "\n",
       "    .dataframe thead th {\n",
       "        text-align: right;\n",
       "    }\n",
       "</style>\n",
       "<table border=\"1\" class=\"dataframe\">\n",
       "  <thead>\n",
       "    <tr style=\"text-align: right;\">\n",
       "      <th></th>\n",
       "      <th>user_id</th>\n",
       "      <th>month</th>\n",
       "      <th>month_total_duration</th>\n",
       "      <th>month_total_calls</th>\n",
       "      <th>month_total_traffic_gb</th>\n",
       "      <th>month_total_message</th>\n",
       "      <th>age</th>\n",
       "      <th>churn_date</th>\n",
       "      <th>city</th>\n",
       "      <th>first_name</th>\n",
       "      <th>last_name</th>\n",
       "      <th>reg_date</th>\n",
       "      <th>tariff_name</th>\n",
       "      <th>messages_included</th>\n",
       "      <th>gb_per_month_included</th>\n",
       "      <th>minutes_included</th>\n",
       "      <th>rub_monthly_fee</th>\n",
       "      <th>rub_per_gb</th>\n",
       "      <th>rub_per_message</th>\n",
       "      <th>rub_per_minute</th>\n",
       "      <th>excess_profit</th>\n",
       "      <th>total_month_profit</th>\n",
       "    </tr>\n",
       "  </thead>\n",
       "  <tbody>\n",
       "    <tr>\n",
       "      <th>75</th>\n",
       "      <td>1010</td>\n",
       "      <td>10</td>\n",
       "      <td>245</td>\n",
       "      <td>36</td>\n",
       "      <td>15</td>\n",
       "      <td>0</td>\n",
       "      <td>26</td>\n",
       "      <td>NaN</td>\n",
       "      <td>Тюмень</td>\n",
       "      <td>Эдуард</td>\n",
       "      <td>Кононов</td>\n",
       "      <td>2018-08-05</td>\n",
       "      <td>smart</td>\n",
       "      <td>50</td>\n",
       "      <td>15</td>\n",
       "      <td>500</td>\n",
       "      <td>550</td>\n",
       "      <td>200</td>\n",
       "      <td>3</td>\n",
       "      <td>3</td>\n",
       "      <td>0</td>\n",
       "      <td>550</td>\n",
       "    </tr>\n",
       "    <tr>\n",
       "      <th>916</th>\n",
       "      <td>1148</td>\n",
       "      <td>4</td>\n",
       "      <td>329</td>\n",
       "      <td>50</td>\n",
       "      <td>21</td>\n",
       "      <td>10</td>\n",
       "      <td>23</td>\n",
       "      <td>NaN</td>\n",
       "      <td>Тольятти</td>\n",
       "      <td>Евдокия</td>\n",
       "      <td>Киреева</td>\n",
       "      <td>2018-04-17</td>\n",
       "      <td>ultra</td>\n",
       "      <td>1000</td>\n",
       "      <td>30</td>\n",
       "      <td>3000</td>\n",
       "      <td>1950</td>\n",
       "      <td>150</td>\n",
       "      <td>1</td>\n",
       "      <td>1</td>\n",
       "      <td>0</td>\n",
       "      <td>1950</td>\n",
       "    </tr>\n",
       "    <tr>\n",
       "      <th>381</th>\n",
       "      <td>1059</td>\n",
       "      <td>12</td>\n",
       "      <td>726</td>\n",
       "      <td>92</td>\n",
       "      <td>19</td>\n",
       "      <td>21</td>\n",
       "      <td>47</td>\n",
       "      <td>NaN</td>\n",
       "      <td>Курск</td>\n",
       "      <td>Глеб</td>\n",
       "      <td>Свиридов</td>\n",
       "      <td>2018-04-14</td>\n",
       "      <td>smart</td>\n",
       "      <td>50</td>\n",
       "      <td>15</td>\n",
       "      <td>500</td>\n",
       "      <td>550</td>\n",
       "      <td>200</td>\n",
       "      <td>3</td>\n",
       "      <td>3</td>\n",
       "      <td>1478</td>\n",
       "      <td>2028</td>\n",
       "    </tr>\n",
       "    <tr>\n",
       "      <th>3097</th>\n",
       "      <td>1483</td>\n",
       "      <td>12</td>\n",
       "      <td>691</td>\n",
       "      <td>96</td>\n",
       "      <td>21</td>\n",
       "      <td>43</td>\n",
       "      <td>28</td>\n",
       "      <td>NaN</td>\n",
       "      <td>Ульяновск</td>\n",
       "      <td>Серафима</td>\n",
       "      <td>Борисова</td>\n",
       "      <td>2018-04-11</td>\n",
       "      <td>smart</td>\n",
       "      <td>50</td>\n",
       "      <td>15</td>\n",
       "      <td>500</td>\n",
       "      <td>550</td>\n",
       "      <td>200</td>\n",
       "      <td>3</td>\n",
       "      <td>3</td>\n",
       "      <td>1773</td>\n",
       "      <td>2323</td>\n",
       "    </tr>\n",
       "    <tr>\n",
       "      <th>322</th>\n",
       "      <td>1052</td>\n",
       "      <td>8</td>\n",
       "      <td>706</td>\n",
       "      <td>96</td>\n",
       "      <td>18</td>\n",
       "      <td>111</td>\n",
       "      <td>52</td>\n",
       "      <td>NaN</td>\n",
       "      <td>Санкт-Петербург</td>\n",
       "      <td>Павел</td>\n",
       "      <td>Панов</td>\n",
       "      <td>2018-07-27</td>\n",
       "      <td>smart</td>\n",
       "      <td>50</td>\n",
       "      <td>15</td>\n",
       "      <td>500</td>\n",
       "      <td>550</td>\n",
       "      <td>200</td>\n",
       "      <td>3</td>\n",
       "      <td>3</td>\n",
       "      <td>1401</td>\n",
       "      <td>1951</td>\n",
       "    </tr>\n",
       "    <tr>\n",
       "      <th>661</th>\n",
       "      <td>1105</td>\n",
       "      <td>11</td>\n",
       "      <td>461</td>\n",
       "      <td>55</td>\n",
       "      <td>26</td>\n",
       "      <td>79</td>\n",
       "      <td>51</td>\n",
       "      <td>NaN</td>\n",
       "      <td>Улан-Удэ</td>\n",
       "      <td>Рузана</td>\n",
       "      <td>Рыбакова</td>\n",
       "      <td>2018-09-29</td>\n",
       "      <td>smart</td>\n",
       "      <td>50</td>\n",
       "      <td>15</td>\n",
       "      <td>500</td>\n",
       "      <td>550</td>\n",
       "      <td>200</td>\n",
       "      <td>3</td>\n",
       "      <td>3</td>\n",
       "      <td>2287</td>\n",
       "      <td>2837</td>\n",
       "    </tr>\n",
       "    <tr>\n",
       "      <th>658</th>\n",
       "      <td>1104</td>\n",
       "      <td>12</td>\n",
       "      <td>262</td>\n",
       "      <td>42</td>\n",
       "      <td>18</td>\n",
       "      <td>79</td>\n",
       "      <td>60</td>\n",
       "      <td>NaN</td>\n",
       "      <td>Нижний Тагил</td>\n",
       "      <td>Габриэль</td>\n",
       "      <td>Поляков</td>\n",
       "      <td>2018-02-21</td>\n",
       "      <td>ultra</td>\n",
       "      <td>1000</td>\n",
       "      <td>30</td>\n",
       "      <td>3000</td>\n",
       "      <td>1950</td>\n",
       "      <td>150</td>\n",
       "      <td>1</td>\n",
       "      <td>1</td>\n",
       "      <td>0</td>\n",
       "      <td>1950</td>\n",
       "    </tr>\n",
       "    <tr>\n",
       "      <th>1058</th>\n",
       "      <td>1171</td>\n",
       "      <td>3</td>\n",
       "      <td>158</td>\n",
       "      <td>24</td>\n",
       "      <td>6</td>\n",
       "      <td>23</td>\n",
       "      <td>47</td>\n",
       "      <td>NaN</td>\n",
       "      <td>Москва</td>\n",
       "      <td>Каролина</td>\n",
       "      <td>Иванова</td>\n",
       "      <td>2018-03-20</td>\n",
       "      <td>smart</td>\n",
       "      <td>50</td>\n",
       "      <td>15</td>\n",
       "      <td>500</td>\n",
       "      <td>550</td>\n",
       "      <td>200</td>\n",
       "      <td>3</td>\n",
       "      <td>3</td>\n",
       "      <td>0</td>\n",
       "      <td>550</td>\n",
       "    </tr>\n",
       "    <tr>\n",
       "      <th>1232</th>\n",
       "      <td>1194</td>\n",
       "      <td>12</td>\n",
       "      <td>403</td>\n",
       "      <td>55</td>\n",
       "      <td>14</td>\n",
       "      <td>54</td>\n",
       "      <td>70</td>\n",
       "      <td>NaN</td>\n",
       "      <td>Москва</td>\n",
       "      <td>Егор</td>\n",
       "      <td>Наумов</td>\n",
       "      <td>2018-12-03</td>\n",
       "      <td>smart</td>\n",
       "      <td>50</td>\n",
       "      <td>15</td>\n",
       "      <td>500</td>\n",
       "      <td>550</td>\n",
       "      <td>200</td>\n",
       "      <td>3</td>\n",
       "      <td>3</td>\n",
       "      <td>12</td>\n",
       "      <td>562</td>\n",
       "    </tr>\n",
       "    <tr>\n",
       "      <th>2611</th>\n",
       "      <td>1411</td>\n",
       "      <td>12</td>\n",
       "      <td>793</td>\n",
       "      <td>108</td>\n",
       "      <td>15</td>\n",
       "      <td>91</td>\n",
       "      <td>36</td>\n",
       "      <td>NaN</td>\n",
       "      <td>Грозный</td>\n",
       "      <td>Берта</td>\n",
       "      <td>Прокофьева</td>\n",
       "      <td>2018-07-13</td>\n",
       "      <td>smart</td>\n",
       "      <td>50</td>\n",
       "      <td>15</td>\n",
       "      <td>500</td>\n",
       "      <td>550</td>\n",
       "      <td>200</td>\n",
       "      <td>3</td>\n",
       "      <td>3</td>\n",
       "      <td>1002</td>\n",
       "      <td>1552</td>\n",
       "    </tr>\n",
       "  </tbody>\n",
       "</table>\n",
       "</div>"
      ],
      "text/plain": [
       "      user_id  month  month_total_duration  month_total_calls  \\\n",
       "75       1010     10                   245                 36   \n",
       "916      1148      4                   329                 50   \n",
       "381      1059     12                   726                 92   \n",
       "3097     1483     12                   691                 96   \n",
       "322      1052      8                   706                 96   \n",
       "661      1105     11                   461                 55   \n",
       "658      1104     12                   262                 42   \n",
       "1058     1171      3                   158                 24   \n",
       "1232     1194     12                   403                 55   \n",
       "2611     1411     12                   793                108   \n",
       "\n",
       "      month_total_traffic_gb  month_total_message  age churn_date  \\\n",
       "75                        15                    0   26        NaN   \n",
       "916                       21                   10   23        NaN   \n",
       "381                       19                   21   47        NaN   \n",
       "3097                      21                   43   28        NaN   \n",
       "322                       18                  111   52        NaN   \n",
       "661                       26                   79   51        NaN   \n",
       "658                       18                   79   60        NaN   \n",
       "1058                       6                   23   47        NaN   \n",
       "1232                      14                   54   70        NaN   \n",
       "2611                      15                   91   36        NaN   \n",
       "\n",
       "                 city first_name   last_name    reg_date tariff_name  \\\n",
       "75             Тюмень     Эдуард     Кононов  2018-08-05       smart   \n",
       "916          Тольятти    Евдокия     Киреева  2018-04-17       ultra   \n",
       "381             Курск       Глеб    Свиридов  2018-04-14       smart   \n",
       "3097        Ульяновск   Серафима    Борисова  2018-04-11       smart   \n",
       "322   Санкт-Петербург      Павел       Панов  2018-07-27       smart   \n",
       "661          Улан-Удэ     Рузана    Рыбакова  2018-09-29       smart   \n",
       "658      Нижний Тагил   Габриэль     Поляков  2018-02-21       ultra   \n",
       "1058           Москва   Каролина     Иванова  2018-03-20       smart   \n",
       "1232           Москва       Егор      Наумов  2018-12-03       smart   \n",
       "2611          Грозный      Берта  Прокофьева  2018-07-13       smart   \n",
       "\n",
       "      messages_included  gb_per_month_included  minutes_included  \\\n",
       "75                   50                     15               500   \n",
       "916                1000                     30              3000   \n",
       "381                  50                     15               500   \n",
       "3097                 50                     15               500   \n",
       "322                  50                     15               500   \n",
       "661                  50                     15               500   \n",
       "658                1000                     30              3000   \n",
       "1058                 50                     15               500   \n",
       "1232                 50                     15               500   \n",
       "2611                 50                     15               500   \n",
       "\n",
       "      rub_monthly_fee  rub_per_gb  rub_per_message  rub_per_minute  \\\n",
       "75                550         200                3               3   \n",
       "916              1950         150                1               1   \n",
       "381               550         200                3               3   \n",
       "3097              550         200                3               3   \n",
       "322               550         200                3               3   \n",
       "661               550         200                3               3   \n",
       "658              1950         150                1               1   \n",
       "1058              550         200                3               3   \n",
       "1232              550         200                3               3   \n",
       "2611              550         200                3               3   \n",
       "\n",
       "      excess_profit  total_month_profit  \n",
       "75                0                 550  \n",
       "916               0                1950  \n",
       "381            1478                2028  \n",
       "3097           1773                2323  \n",
       "322            1401                1951  \n",
       "661            2287                2837  \n",
       "658               0                1950  \n",
       "1058              0                 550  \n",
       "1232             12                 562  \n",
       "2611           1002                1552  "
      ]
     },
     "execution_count": 63,
     "metadata": {},
     "output_type": "execute_result"
    }
   ],
   "source": [
    "general_table['excess_profit'] = general_table.apply(lambda x: tariff_profit(x), axis=1)\n",
    "general_table['total_month_profit'] = general_table['excess_profit'] + general_table['rub_monthly_fee']\n",
    "general_table.sample(10)"
   ]
  },
  {
   "cell_type": "code",
   "execution_count": 64,
   "metadata": {},
   "outputs": [
    {
     "data": {
      "text/html": [
       "<div>\n",
       "<style scoped>\n",
       "    .dataframe tbody tr th:only-of-type {\n",
       "        vertical-align: middle;\n",
       "    }\n",
       "\n",
       "    .dataframe tbody tr th {\n",
       "        vertical-align: top;\n",
       "    }\n",
       "\n",
       "    .dataframe thead th {\n",
       "        text-align: right;\n",
       "    }\n",
       "</style>\n",
       "<table border=\"1\" class=\"dataframe\">\n",
       "  <thead>\n",
       "    <tr style=\"text-align: right;\">\n",
       "      <th></th>\n",
       "      <th>user_id</th>\n",
       "      <th>month</th>\n",
       "      <th>month_total_duration</th>\n",
       "      <th>month_total_calls</th>\n",
       "      <th>month_total_traffic_gb</th>\n",
       "      <th>month_total_message</th>\n",
       "      <th>age</th>\n",
       "      <th>messages_included</th>\n",
       "      <th>gb_per_month_included</th>\n",
       "      <th>minutes_included</th>\n",
       "      <th>rub_monthly_fee</th>\n",
       "      <th>rub_per_gb</th>\n",
       "      <th>rub_per_message</th>\n",
       "      <th>rub_per_minute</th>\n",
       "      <th>excess_profit</th>\n",
       "      <th>total_month_profit</th>\n",
       "    </tr>\n",
       "  </thead>\n",
       "  <tbody>\n",
       "    <tr>\n",
       "      <th>count</th>\n",
       "      <td>3214.000000</td>\n",
       "      <td>3214.000000</td>\n",
       "      <td>3214.000000</td>\n",
       "      <td>3214.000000</td>\n",
       "      <td>3214.000000</td>\n",
       "      <td>3214.000000</td>\n",
       "      <td>3214.000000</td>\n",
       "      <td>3214.000000</td>\n",
       "      <td>3214.000000</td>\n",
       "      <td>3214.000000</td>\n",
       "      <td>3214.000000</td>\n",
       "      <td>3214.000000</td>\n",
       "      <td>3214.000000</td>\n",
       "      <td>3214.000000</td>\n",
       "      <td>3214.000000</td>\n",
       "      <td>3214.000000</td>\n",
       "    </tr>\n",
       "    <tr>\n",
       "      <th>mean</th>\n",
       "      <td>1251.590230</td>\n",
       "      <td>8.317362</td>\n",
       "      <td>451.244866</td>\n",
       "      <td>63.038892</td>\n",
       "      <td>17.299004</td>\n",
       "      <td>38.281269</td>\n",
       "      <td>46.641568</td>\n",
       "      <td>341.148102</td>\n",
       "      <td>19.597075</td>\n",
       "      <td>1266.179216</td>\n",
       "      <td>979.060361</td>\n",
       "      <td>184.676416</td>\n",
       "      <td>2.387057</td>\n",
       "      <td>2.387057</td>\n",
       "      <td>550.015868</td>\n",
       "      <td>1529.076229</td>\n",
       "    </tr>\n",
       "    <tr>\n",
       "      <th>std</th>\n",
       "      <td>144.659172</td>\n",
       "      <td>2.905413</td>\n",
       "      <td>241.909978</td>\n",
       "      <td>33.236368</td>\n",
       "      <td>7.400584</td>\n",
       "      <td>36.148326</td>\n",
       "      <td>16.586109</td>\n",
       "      <td>438.044726</td>\n",
       "      <td>6.916496</td>\n",
       "      <td>1152.749279</td>\n",
       "      <td>645.539596</td>\n",
       "      <td>23.054986</td>\n",
       "      <td>0.922199</td>\n",
       "      <td>0.922199</td>\n",
       "      <td>767.771509</td>\n",
       "      <td>798.251091</td>\n",
       "    </tr>\n",
       "    <tr>\n",
       "      <th>min</th>\n",
       "      <td>1000.000000</td>\n",
       "      <td>1.000000</td>\n",
       "      <td>0.000000</td>\n",
       "      <td>0.000000</td>\n",
       "      <td>0.000000</td>\n",
       "      <td>0.000000</td>\n",
       "      <td>18.000000</td>\n",
       "      <td>50.000000</td>\n",
       "      <td>15.000000</td>\n",
       "      <td>500.000000</td>\n",
       "      <td>550.000000</td>\n",
       "      <td>150.000000</td>\n",
       "      <td>1.000000</td>\n",
       "      <td>1.000000</td>\n",
       "      <td>0.000000</td>\n",
       "      <td>550.000000</td>\n",
       "    </tr>\n",
       "    <tr>\n",
       "      <th>25%</th>\n",
       "      <td>1125.000000</td>\n",
       "      <td>6.000000</td>\n",
       "      <td>282.000000</td>\n",
       "      <td>40.000000</td>\n",
       "      <td>13.000000</td>\n",
       "      <td>9.000000</td>\n",
       "      <td>32.000000</td>\n",
       "      <td>50.000000</td>\n",
       "      <td>15.000000</td>\n",
       "      <td>500.000000</td>\n",
       "      <td>550.000000</td>\n",
       "      <td>150.000000</td>\n",
       "      <td>1.000000</td>\n",
       "      <td>1.000000</td>\n",
       "      <td>0.000000</td>\n",
       "      <td>750.000000</td>\n",
       "    </tr>\n",
       "    <tr>\n",
       "      <th>50%</th>\n",
       "      <td>1253.000000</td>\n",
       "      <td>9.000000</td>\n",
       "      <td>443.000000</td>\n",
       "      <td>62.000000</td>\n",
       "      <td>17.000000</td>\n",
       "      <td>30.000000</td>\n",
       "      <td>46.000000</td>\n",
       "      <td>50.000000</td>\n",
       "      <td>15.000000</td>\n",
       "      <td>500.000000</td>\n",
       "      <td>550.000000</td>\n",
       "      <td>200.000000</td>\n",
       "      <td>3.000000</td>\n",
       "      <td>3.000000</td>\n",
       "      <td>163.500000</td>\n",
       "      <td>1653.500000</td>\n",
       "    </tr>\n",
       "    <tr>\n",
       "      <th>75%</th>\n",
       "      <td>1378.750000</td>\n",
       "      <td>11.000000</td>\n",
       "      <td>589.000000</td>\n",
       "      <td>82.000000</td>\n",
       "      <td>21.000000</td>\n",
       "      <td>57.000000</td>\n",
       "      <td>62.000000</td>\n",
       "      <td>1000.000000</td>\n",
       "      <td>30.000000</td>\n",
       "      <td>3000.000000</td>\n",
       "      <td>1950.000000</td>\n",
       "      <td>200.000000</td>\n",
       "      <td>3.000000</td>\n",
       "      <td>3.000000</td>\n",
       "      <td>938.000000</td>\n",
       "      <td>1950.000000</td>\n",
       "    </tr>\n",
       "    <tr>\n",
       "      <th>max</th>\n",
       "      <td>1499.000000</td>\n",
       "      <td>12.000000</td>\n",
       "      <td>1673.000000</td>\n",
       "      <td>244.000000</td>\n",
       "      <td>49.000000</td>\n",
       "      <td>224.000000</td>\n",
       "      <td>75.000000</td>\n",
       "      <td>1000.000000</td>\n",
       "      <td>30.000000</td>\n",
       "      <td>3000.000000</td>\n",
       "      <td>1950.000000</td>\n",
       "      <td>200.000000</td>\n",
       "      <td>3.000000</td>\n",
       "      <td>3.000000</td>\n",
       "      <td>6220.000000</td>\n",
       "      <td>6770.000000</td>\n",
       "    </tr>\n",
       "  </tbody>\n",
       "</table>\n",
       "</div>"
      ],
      "text/plain": [
       "           user_id        month  month_total_duration  month_total_calls  \\\n",
       "count  3214.000000  3214.000000           3214.000000        3214.000000   \n",
       "mean   1251.590230     8.317362            451.244866          63.038892   \n",
       "std     144.659172     2.905413            241.909978          33.236368   \n",
       "min    1000.000000     1.000000              0.000000           0.000000   \n",
       "25%    1125.000000     6.000000            282.000000          40.000000   \n",
       "50%    1253.000000     9.000000            443.000000          62.000000   \n",
       "75%    1378.750000    11.000000            589.000000          82.000000   \n",
       "max    1499.000000    12.000000           1673.000000         244.000000   \n",
       "\n",
       "       month_total_traffic_gb  month_total_message          age  \\\n",
       "count             3214.000000          3214.000000  3214.000000   \n",
       "mean                17.299004            38.281269    46.641568   \n",
       "std                  7.400584            36.148326    16.586109   \n",
       "min                  0.000000             0.000000    18.000000   \n",
       "25%                 13.000000             9.000000    32.000000   \n",
       "50%                 17.000000            30.000000    46.000000   \n",
       "75%                 21.000000            57.000000    62.000000   \n",
       "max                 49.000000           224.000000    75.000000   \n",
       "\n",
       "       messages_included  gb_per_month_included  minutes_included  \\\n",
       "count        3214.000000            3214.000000       3214.000000   \n",
       "mean          341.148102              19.597075       1266.179216   \n",
       "std           438.044726               6.916496       1152.749279   \n",
       "min            50.000000              15.000000        500.000000   \n",
       "25%            50.000000              15.000000        500.000000   \n",
       "50%            50.000000              15.000000        500.000000   \n",
       "75%          1000.000000              30.000000       3000.000000   \n",
       "max          1000.000000              30.000000       3000.000000   \n",
       "\n",
       "       rub_monthly_fee   rub_per_gb  rub_per_message  rub_per_minute  \\\n",
       "count      3214.000000  3214.000000      3214.000000     3214.000000   \n",
       "mean        979.060361   184.676416         2.387057        2.387057   \n",
       "std         645.539596    23.054986         0.922199        0.922199   \n",
       "min         550.000000   150.000000         1.000000        1.000000   \n",
       "25%         550.000000   150.000000         1.000000        1.000000   \n",
       "50%         550.000000   200.000000         3.000000        3.000000   \n",
       "75%        1950.000000   200.000000         3.000000        3.000000   \n",
       "max        1950.000000   200.000000         3.000000        3.000000   \n",
       "\n",
       "       excess_profit  total_month_profit  \n",
       "count    3214.000000         3214.000000  \n",
       "mean      550.015868         1529.076229  \n",
       "std       767.771509          798.251091  \n",
       "min         0.000000          550.000000  \n",
       "25%         0.000000          750.000000  \n",
       "50%       163.500000         1653.500000  \n",
       "75%       938.000000         1950.000000  \n",
       "max      6220.000000         6770.000000  "
      ]
     },
     "execution_count": 64,
     "metadata": {},
     "output_type": "execute_result"
    }
   ],
   "source": [
    "general_table.describe()"
   ]
  },
  {
   "cell_type": "code",
   "execution_count": 65,
   "metadata": {},
   "outputs": [
    {
     "data": {
      "text/plain": [
       "4914451"
      ]
     },
     "execution_count": 65,
     "metadata": {},
     "output_type": "execute_result"
    }
   ],
   "source": [
    "# check\n",
    "\n",
    "general_table['total_month_profit'].sum()"
   ]
  },
  {
   "cell_type": "markdown",
   "metadata": {},
   "source": [
    "### <a id=\"3.5\">Вывод</a>"
   ]
  },
  {
   "cell_type": "markdown",
   "metadata": {},
   "source": [
    "На данном шаге мы привели цифровые данные к типу int, произвели необходимые расчеты и объеденили необходимую информацию в одну таблицу. Тперь можем приступать непосредственно к анализу информации и проверке гипотез."
   ]
  },
  {
   "cell_type": "markdown",
   "metadata": {},
   "source": [
    "## <a id=\"analysis\">Aнализ данных</a>"
   ]
  },
  {
   "cell_type": "markdown",
   "metadata": {},
   "source": [
    "### <a id=\"4.2\">Расчитываем дисперсию и стандартное отклонение</a>"
   ]
  },
  {
   "cell_type": "code",
   "execution_count": 67,
   "metadata": {},
   "outputs": [
    {
     "data": {
      "text/html": [
       "<div>\n",
       "<style scoped>\n",
       "    .dataframe tbody tr th:only-of-type {\n",
       "        vertical-align: middle;\n",
       "    }\n",
       "\n",
       "    .dataframe tbody tr th {\n",
       "        vertical-align: top;\n",
       "    }\n",
       "\n",
       "    .dataframe thead th {\n",
       "        text-align: right;\n",
       "    }\n",
       "</style>\n",
       "<table border=\"1\" class=\"dataframe\">\n",
       "  <thead>\n",
       "    <tr style=\"text-align: right;\">\n",
       "      <th></th>\n",
       "      <th>tariff_name</th>\n",
       "      <th>mean_profit</th>\n",
       "      <th>var</th>\n",
       "      <th>std</th>\n",
       "    </tr>\n",
       "  </thead>\n",
       "  <tbody>\n",
       "    <tr>\n",
       "      <th>0</th>\n",
       "      <td>smart</td>\n",
       "      <td>1289.97</td>\n",
       "      <td>669785.71</td>\n",
       "      <td>818.40</td>\n",
       "    </tr>\n",
       "    <tr>\n",
       "      <th>1</th>\n",
       "      <td>ultra</td>\n",
       "      <td>2070.15</td>\n",
       "      <td>141516.75</td>\n",
       "      <td>376.19</td>\n",
       "    </tr>\n",
       "  </tbody>\n",
       "</table>\n",
       "</div>"
      ],
      "text/plain": [
       "  tariff_name  mean_profit        var     std\n",
       "0       smart      1289.97  669785.71  818.40\n",
       "1       ultra      2070.15  141516.75  376.19"
      ]
     },
     "execution_count": 67,
     "metadata": {},
     "output_type": "execute_result"
    }
   ],
   "source": [
    "metric_table_profit = general_table.groupby(['tariff_name']).agg({'total_month_profit': ['mean', lambda x: np.var(x, ddof=1), \n",
    "                                                                                 lambda x: np.std(x, ddof=1)]})\\\n",
    "                                                     .round(2).reset_index()\n",
    "metric_table_profit.set_axis(['tariff_name', 'mean_profit', 'var', 'std'], axis='columns', inplace=True)\n",
    "metric_table_profit"
   ]
  },
  {
   "cell_type": "code",
   "execution_count": 68,
   "metadata": {},
   "outputs": [
    {
     "data": {
      "text/html": [
       "<div>\n",
       "<style scoped>\n",
       "    .dataframe tbody tr th:only-of-type {\n",
       "        vertical-align: middle;\n",
       "    }\n",
       "\n",
       "    .dataframe tbody tr th {\n",
       "        vertical-align: top;\n",
       "    }\n",
       "\n",
       "    .dataframe thead th {\n",
       "        text-align: right;\n",
       "    }\n",
       "</style>\n",
       "<table border=\"1\" class=\"dataframe\">\n",
       "  <thead>\n",
       "    <tr style=\"text-align: right;\">\n",
       "      <th></th>\n",
       "      <th>tariff_name</th>\n",
       "      <th>mean_minutes</th>\n",
       "      <th>var</th>\n",
       "      <th>std</th>\n",
       "    </tr>\n",
       "  </thead>\n",
       "  <tbody>\n",
       "    <tr>\n",
       "      <th>0</th>\n",
       "      <td>smart</td>\n",
       "      <td>417.93</td>\n",
       "      <td>36219.32</td>\n",
       "      <td>190.31</td>\n",
       "    </tr>\n",
       "    <tr>\n",
       "      <th>1</th>\n",
       "      <td>ultra</td>\n",
       "      <td>526.62</td>\n",
       "      <td>100873.63</td>\n",
       "      <td>317.61</td>\n",
       "    </tr>\n",
       "  </tbody>\n",
       "</table>\n",
       "</div>"
      ],
      "text/plain": [
       "  tariff_name  mean_minutes        var     std\n",
       "0       smart        417.93   36219.32  190.31\n",
       "1       ultra        526.62  100873.63  317.61"
      ]
     },
     "execution_count": 68,
     "metadata": {},
     "output_type": "execute_result"
    }
   ],
   "source": [
    "metric_table_mins = general_table.groupby(['tariff_name']).agg({'month_total_duration': ['mean', lambda x: np.var(x, ddof=1), \n",
    "                                                                                 lambda x: np.std(x, ddof=1)]})\\\n",
    "                                                     .round(2).reset_index()\n",
    "metric_table_mins.set_axis(['tariff_name', 'mean_minutes', 'var', 'std'], axis='columns', inplace=True)\n",
    "metric_table_mins"
   ]
  },
  {
   "cell_type": "code",
   "execution_count": 69,
   "metadata": {},
   "outputs": [
    {
     "data": {
      "text/html": [
       "<div>\n",
       "<style scoped>\n",
       "    .dataframe tbody tr th:only-of-type {\n",
       "        vertical-align: middle;\n",
       "    }\n",
       "\n",
       "    .dataframe tbody tr th {\n",
       "        vertical-align: top;\n",
       "    }\n",
       "\n",
       "    .dataframe thead th {\n",
       "        text-align: right;\n",
       "    }\n",
       "</style>\n",
       "<table border=\"1\" class=\"dataframe\">\n",
       "  <thead>\n",
       "    <tr style=\"text-align: right;\">\n",
       "      <th></th>\n",
       "      <th>tariff_name</th>\n",
       "      <th>mean_traffic</th>\n",
       "      <th>var</th>\n",
       "      <th>std</th>\n",
       "    </tr>\n",
       "  </thead>\n",
       "  <tbody>\n",
       "    <tr>\n",
       "      <th>0</th>\n",
       "      <td>smart</td>\n",
       "      <td>16.33</td>\n",
       "      <td>33.03</td>\n",
       "      <td>5.75</td>\n",
       "    </tr>\n",
       "    <tr>\n",
       "      <th>1</th>\n",
       "      <td>ultra</td>\n",
       "      <td>19.49</td>\n",
       "      <td>97.09</td>\n",
       "      <td>9.85</td>\n",
       "    </tr>\n",
       "  </tbody>\n",
       "</table>\n",
       "</div>"
      ],
      "text/plain": [
       "  tariff_name  mean_traffic    var   std\n",
       "0       smart         16.33  33.03  5.75\n",
       "1       ultra         19.49  97.09  9.85"
      ]
     },
     "execution_count": 69,
     "metadata": {},
     "output_type": "execute_result"
    }
   ],
   "source": [
    "metric_table_traf = general_table.groupby(['tariff_name']).agg({'month_total_traffic_gb': ['mean', lambda x: np.var(x, ddof=1), \n",
    "                                                                                 lambda x: np.std(x, ddof=1)]})\\\n",
    "                                                     .round(2).reset_index()\n",
    "metric_table_traf.set_axis(['tariff_name', 'mean_traffic', 'var', 'std'], axis='columns', inplace=True)\n",
    "metric_table_traf"
   ]
  },
  {
   "cell_type": "code",
   "execution_count": 70,
   "metadata": {},
   "outputs": [
    {
     "data": {
      "text/html": [
       "<div>\n",
       "<style scoped>\n",
       "    .dataframe tbody tr th:only-of-type {\n",
       "        vertical-align: middle;\n",
       "    }\n",
       "\n",
       "    .dataframe tbody tr th {\n",
       "        vertical-align: top;\n",
       "    }\n",
       "\n",
       "    .dataframe thead th {\n",
       "        text-align: right;\n",
       "    }\n",
       "</style>\n",
       "<table border=\"1\" class=\"dataframe\">\n",
       "  <thead>\n",
       "    <tr style=\"text-align: right;\">\n",
       "      <th></th>\n",
       "      <th>tariff_name</th>\n",
       "      <th>mean_message</th>\n",
       "      <th>var</th>\n",
       "      <th>std</th>\n",
       "    </tr>\n",
       "  </thead>\n",
       "  <tbody>\n",
       "    <tr>\n",
       "      <th>0</th>\n",
       "      <td>smart</td>\n",
       "      <td>33.38</td>\n",
       "      <td>796.81</td>\n",
       "      <td>28.23</td>\n",
       "    </tr>\n",
       "    <tr>\n",
       "      <th>1</th>\n",
       "      <td>ultra</td>\n",
       "      <td>49.36</td>\n",
       "      <td>2285.27</td>\n",
       "      <td>47.80</td>\n",
       "    </tr>\n",
       "  </tbody>\n",
       "</table>\n",
       "</div>"
      ],
      "text/plain": [
       "  tariff_name  mean_message      var    std\n",
       "0       smart         33.38   796.81  28.23\n",
       "1       ultra         49.36  2285.27  47.80"
      ]
     },
     "execution_count": 70,
     "metadata": {},
     "output_type": "execute_result"
    }
   ],
   "source": [
    "metric_table_mes = general_table.groupby(['tariff_name']).agg({'month_total_message': ['mean', lambda x: np.var(x, ddof=1), \n",
    "                                                                                 lambda x: np.std(x, ddof=1)]})\\\n",
    "                                                     .round(2).reset_index()\n",
    "metric_table_mes.set_axis(['tariff_name', 'mean_message', 'var', 'std'], axis='columns', inplace=True)\n",
    "metric_table_mes"
   ]
  },
  {
   "cell_type": "markdown",
   "metadata": {},
   "source": [
    "### <a id=\"4.3\">Обработаем выбросы</a>"
   ]
  },
  {
   "cell_type": "markdown",
   "metadata": {},
   "source": [
    "Oпределим максимальное значение интервала, это значение примем за границу, выше которой будут находиться выбросы"
   ]
  },
  {
   "cell_type": "code",
   "execution_count": 71,
   "metadata": {},
   "outputs": [],
   "source": [
    "smart = general_table.query('tariff_name == \"smart\"')\n",
    "ultra = general_table.query('tariff_name == \"ultra\"')"
   ]
  },
  {
   "cell_type": "code",
   "execution_count": 72,
   "metadata": {},
   "outputs": [
    {
     "data": {
      "text/plain": [
       "5350.0"
      ]
     },
     "execution_count": 72,
     "metadata": {},
     "output_type": "execute_result"
    }
   ],
   "source": [
    "q1_smart = np.quantile(smart[['total_month_profit']], 0.25, interpolation='midpoint')\n",
    "q3_smart = np.quantile(smart[['total_month_profit']], 0.75, interpolation='midpoint')\n",
    "iqr_smart = q3_smart - q1_smart\n",
    "top_value_smart = q3_smart + 3 * iqr_smart\n",
    "top_value_smart"
   ]
  },
  {
   "cell_type": "code",
   "execution_count": 73,
   "metadata": {},
   "outputs": [
    {
     "data": {
      "text/html": [
       "<div>\n",
       "<style scoped>\n",
       "    .dataframe tbody tr th:only-of-type {\n",
       "        vertical-align: middle;\n",
       "    }\n",
       "\n",
       "    .dataframe tbody tr th {\n",
       "        vertical-align: top;\n",
       "    }\n",
       "\n",
       "    .dataframe thead th {\n",
       "        text-align: right;\n",
       "    }\n",
       "</style>\n",
       "<table border=\"1\" class=\"dataframe\">\n",
       "  <thead>\n",
       "    <tr style=\"text-align: right;\">\n",
       "      <th></th>\n",
       "      <th>count</th>\n",
       "      <th>mean</th>\n",
       "      <th>std</th>\n",
       "      <th>min</th>\n",
       "      <th>25%</th>\n",
       "      <th>50%</th>\n",
       "      <th>75%</th>\n",
       "      <th>max</th>\n",
       "    </tr>\n",
       "  </thead>\n",
       "  <tbody>\n",
       "    <tr>\n",
       "      <th>total_month_profit</th>\n",
       "      <td>2229.0</td>\n",
       "      <td>1289.973531</td>\n",
       "      <td>818.404367</td>\n",
       "      <td>550.0</td>\n",
       "      <td>550.0</td>\n",
       "      <td>1023.0</td>\n",
       "      <td>1750.0</td>\n",
       "      <td>6770.0</td>\n",
       "    </tr>\n",
       "  </tbody>\n",
       "</table>\n",
       "</div>"
      ],
      "text/plain": [
       "                     count         mean         std    min    25%     50%  \\\n",
       "total_month_profit  2229.0  1289.973531  818.404367  550.0  550.0  1023.0   \n",
       "\n",
       "                       75%     max  \n",
       "total_month_profit  1750.0  6770.0  "
      ]
     },
     "execution_count": 73,
     "metadata": {},
     "output_type": "execute_result"
    }
   ],
   "source": [
    "smart[['total_month_profit']].describe().T"
   ]
  },
  {
   "cell_type": "code",
   "execution_count": 74,
   "metadata": {},
   "outputs": [
    {
     "data": {
      "text/plain": [
       "1950.0"
      ]
     },
     "execution_count": 74,
     "metadata": {},
     "output_type": "execute_result"
    }
   ],
   "source": [
    "q1_ultra = np.quantile(ultra[['total_month_profit']], 0.25, interpolation='midpoint')\n",
    "q3_ultra = np.quantile(ultra[['total_month_profit']], 0.75, interpolation='midpoint')\n",
    "iqr_ultra = q3_ultra - q1_ultra\n",
    "top_value_ultra = q3_ultra + 3 * iqr_ultra\n",
    "top_value_ultra"
   ]
  },
  {
   "cell_type": "code",
   "execution_count": 75,
   "metadata": {},
   "outputs": [
    {
     "data": {
      "text/html": [
       "<div>\n",
       "<style scoped>\n",
       "    .dataframe tbody tr th:only-of-type {\n",
       "        vertical-align: middle;\n",
       "    }\n",
       "\n",
       "    .dataframe tbody tr th {\n",
       "        vertical-align: top;\n",
       "    }\n",
       "\n",
       "    .dataframe thead th {\n",
       "        text-align: right;\n",
       "    }\n",
       "</style>\n",
       "<table border=\"1\" class=\"dataframe\">\n",
       "  <thead>\n",
       "    <tr style=\"text-align: right;\">\n",
       "      <th></th>\n",
       "      <th>count</th>\n",
       "      <th>mean</th>\n",
       "      <th>std</th>\n",
       "      <th>min</th>\n",
       "      <th>25%</th>\n",
       "      <th>50%</th>\n",
       "      <th>75%</th>\n",
       "      <th>max</th>\n",
       "    </tr>\n",
       "  </thead>\n",
       "  <tbody>\n",
       "    <tr>\n",
       "      <th>total_month_profit</th>\n",
       "      <td>985.0</td>\n",
       "      <td>2070.152284</td>\n",
       "      <td>376.187114</td>\n",
       "      <td>1950.0</td>\n",
       "      <td>1950.0</td>\n",
       "      <td>1950.0</td>\n",
       "      <td>1950.0</td>\n",
       "      <td>4800.0</td>\n",
       "    </tr>\n",
       "  </tbody>\n",
       "</table>\n",
       "</div>"
      ],
      "text/plain": [
       "                    count         mean         std     min     25%     50%  \\\n",
       "total_month_profit  985.0  2070.152284  376.187114  1950.0  1950.0  1950.0   \n",
       "\n",
       "                       75%     max  \n",
       "total_month_profit  1950.0  4800.0  "
      ]
     },
     "execution_count": 75,
     "metadata": {},
     "output_type": "execute_result"
    }
   ],
   "source": [
    "ultra[['total_month_profit']].describe().T"
   ]
  },
  {
   "cell_type": "markdown",
   "metadata": {},
   "source": [
    "На этом шаге нами определены максимальные границы нормального распределения общего месячного дохода от пользователей тарифов \"Смарт\" и \"Ультра\"."
   ]
  },
  {
   "cell_type": "markdown",
   "metadata": {},
   "source": [
    "### <a id=\"4.4\">Гистограмма продолжительности разговора</a>"
   ]
  },
  {
   "cell_type": "code",
   "execution_count": 76,
   "metadata": {},
   "outputs": [
    {
     "data": {
      "image/png": "[encoded data removed]",
      "text/plain": [
       "<Figure size 720x432 with 1 Axes>"
      ]
     },
     "metadata": {
      "needs_background": "light"
     },
     "output_type": "display_data"
    }
   ],
   "source": [
    "plt.figure(figsize=(10, 6))\n",
    "plt.hist(general_table.query('tariff_name == \"smart\"')['month_total_duration'], bins=100, alpha = 0.5, label='Тариф \"Смарт\"', range=(0, 1600))\n",
    "plt.hist(general_table.query('tariff_name == \"ultra\"')['month_total_duration'], bins=100, alpha = 0.5, label='Тариф \"Ультра\"', range=(0, 1600))\n",
    "plt.title('Тарифные планы', size=14)\n",
    "plt.legend(loc='best')\n",
    "plt.xlabel('Время разговора, мин.')\n",
    "plt.ylabel('Количество звонков, шт.')\n",
    "plt.show()"
   ]
  },
  {
   "cell_type": "markdown",
   "metadata": {},
   "source": [
    "**Тариф \"Смарт\":**\n",
    " - большое количество клиентов любят поговорить по телефону, пиковый интервал приходится на значения от 200 до 650 минут;\n",
    " - присутствует небольшое количество пользователей, которые не ползуются телефонными рвзговорами;\n",
    " - присутствуют единычные случаи бесед продолжительностью более 800 минут.\n",
    " \n",
    " **Тариф \"Ультра:**\n",
    " - весьма большое количество клиентов не использую услугу звонков;\n",
    " - телефонными разговорами пользется достаточно малое количество клиентов;\n",
    " - все клиенты пользующиеся звонками достаточно ровно распределились в интервале от 100 до 800 минут, далее начинается спад;\n",
    " - максимальные, не единичные значения продолжительности разговора находятся в значениях от 950 до 1050 минут."
   ]
  },
  {
   "cell_type": "markdown",
   "metadata": {},
   "source": [
    "### <a id=\"4.5\">Гистограмма интернет траффика</a>"
   ]
  },
  {
   "cell_type": "code",
   "execution_count": 77,
   "metadata": {},
   "outputs": [
    {
     "data": {
      "image/png": "[encoded data removed]",
      "text/plain": [
       "<Figure size 720x432 with 1 Axes>"
      ]
     },
     "metadata": {
      "needs_background": "light"
     },
     "output_type": "display_data"
    }
   ],
   "source": [
    "plt.figure(figsize=(10, 6))\n",
    "plt.hist(general_table.query('tariff_name == \"smart\"')['month_total_traffic_gb'], bins=100, alpha = 0.5, label='Тариф \"Смарт\"')\n",
    "plt.hist(general_table.query('tariff_name == \"ultra\"')['month_total_traffic_gb'], bins=100, alpha = 0.5, label='Тариф \"Ультра\"')\n",
    "plt.title('Тарифные планы', size=14)\n",
    "plt.legend(loc='best')\n",
    "plt.xlabel('Интернет траффик, Gb.')\n",
    "plt.ylabel('Количество сессий, шт.')\n",
    "plt.show()"
   ]
  },
  {
   "cell_type": "markdown",
   "metadata": {},
   "source": [
    "Фактически мы наблюдаем картину аналогичную предыдущей гистограмме.\n",
    "<br>Пользователи тарифа \"Смарт\" отличаются большой активностью, и свойством уверенно выходить за пределы лимита представленноо в тарифе(пик на отметке >15 Gb).\n",
    "<br>Пользователи тарифа \"Ультра\" отличаются сдержанностью в использовании услуг, лишь небольшая их часть вышла за пределы 30 Gb лимита."
   ]
  },
  {
   "cell_type": "markdown",
   "metadata": {},
   "source": [
    "### <a id=\"4.6\">Гистограмма сообщений</a>"
   ]
  },
  {
   "cell_type": "code",
   "execution_count": 78,
   "metadata": {
    "scrolled": false
   },
   "outputs": [
    {
     "data": {
      "image/png": "[encoded data removed]",
      "text/plain": [
       "<Figure size 720x432 with 1 Axes>"
      ]
     },
     "metadata": {
      "needs_background": "light"
     },
     "output_type": "display_data"
    }
   ],
   "source": [
    "plt.figure(figsize=(10, 6))\n",
    "plt.hist(general_table.query('tariff_name == \"smart\"')['month_total_message'], bins=100, alpha = 0.5, label='Тариф \"Смарт\"', range=(0, 200))\n",
    "plt.hist(general_table.query('tariff_name == \"ultra\"')['month_total_message'], bins=100, alpha = 0.5, label='Тариф \"Ультра\"', range=(0, 200))\n",
    "plt.title('Тарифные планы', size=14)\n",
    "plt.legend(loc='best')\n",
    "plt.xlabel('Количество сообщений, шт.')\n",
    "plt.ylabel('Количество пользователей, чел.')\n",
    "plt.show()"
   ]
  },
  {
   "cell_type": "markdown",
   "metadata": {},
   "source": [
    "История снова повторяется: \"Смарты\" - активны и забывают о границах, \"Ультры\" - сдержанны и не выходят за рамки.\n",
    "<br>Мы видим огромное количество пльзователей, которые совсем не используют смс."
   ]
  },
  {
   "cell_type": "markdown",
   "metadata": {},
   "source": [
    "## <a id=\"verification\">Проверка гипотез</a>"
   ]
  },
  {
   "cell_type": "markdown",
   "metadata": {},
   "source": [
    "### <a id=\"5.1\">Средняя выручка пользователей тарифов «Ультра» и «Смарт»</a>"
   ]
  },
  {
   "cell_type": "markdown",
   "metadata": {},
   "source": [
    "H0 - средняя выручка пользователей тарифов «Смарт» и «Ультра» не различается\n",
    "<br>H1 - средняя выручка пользователей тарифов «Смарт» и «Ультра» различается"
   ]
  },
  {
   "cell_type": "markdown",
   "metadata": {},
   "source": [
    "Критический уровень статистической значимости примем равным 5%."
   ]
  },
  {
   "cell_type": "markdown",
   "metadata": {},
   "source": [
    "Дисперсия была расчитана раннее:\n",
    "<br>для тарифа \"Смарт\" = 669785.71\n",
    "<br>для тарифа \"Ультра\" = 141516.75"
   ]
  },
  {
   "cell_type": "code",
   "execution_count": 80,
   "metadata": {},
   "outputs": [
    {
     "name": "stdout",
     "output_type": "stream",
     "text": [
      "P-value: 4.2606313931076085e-250\n",
      "Отвергаем нулевую гипотезу\n"
     ]
    }
   ],
   "source": [
    "pval_profit = st.ttest_ind(general_table.query('tariff_name == \"smart\"')['total_month_profit']\\\n",
    "\t, general_table.query('tariff_name == \"ultra\"')['total_month_profit'], equal_var=False)\n",
    "print('P-value:', pval_profit.pvalue)\n",
    "\n",
    "alpha = 0.05\n",
    "if pval_profit.pvalue < alpha:\n",
    "    print('Отвергаем нулевую гипотезу')\n",
    "else:\n",
    "    print('Не отвергаем нулевую гипотезу')"
   ]
  },
  {
   "cell_type": "markdown",
   "metadata": {},
   "source": [
    "По итогам проверки данной гипотезы, мы можем сказать, что разница между прибылями получаемыми от тарифов есть, и она весьма значительна."
   ]
  },
  {
   "cell_type": "markdown",
   "metadata": {},
   "source": [
    "### <a id=\"5.2\">Средняя выручка пользователей из Москвы и других регионов</a>"
   ]
  },
  {
   "cell_type": "markdown",
   "metadata": {},
   "source": [
    "H0 - средняя выручка пользователей из Москвы не отличается от выручки пользователей из других регионов\n",
    "<br>H1 - средняя выручка пользователей из Москвы отличается от выручки пользователей из других регионов"
   ]
  },
  {
   "cell_type": "markdown",
   "metadata": {},
   "source": [
    "Критический уровень статистической значимости примем равным 5%."
   ]
  },
  {
   "cell_type": "code",
   "execution_count": 82,
   "metadata": {},
   "outputs": [
    {
     "data": {
      "text/plain": [
       "565636.467011886"
      ]
     },
     "metadata": {},
     "output_type": "display_data"
    },
    {
     "data": {
      "text/plain": [
       "654137.6285218114"
      ]
     },
     "metadata": {},
     "output_type": "display_data"
    }
   ],
   "source": [
    "# расчитаем дисперсию для городов\n",
    "\n",
    "variance_moskow = np.var(general_table[general_table['city'] == 'Москва']['total_month_profit'], ddof=1)\n",
    "display(variance_moskow)\n",
    "variance_other_city = np.var(general_table[general_table['city'] != 'Москва']['total_month_profit'], ddof=1)\n",
    "display(variance_other_city)"
   ]
  },
  {
   "cell_type": "code",
   "execution_count": 83,
   "metadata": {},
   "outputs": [
    {
     "name": "stdout",
     "output_type": "stream",
     "text": [
      "P-value: 0.5257376663729298\n",
      "Не отвергаем нулевую гипотезу\n"
     ]
    }
   ],
   "source": [
    "pval_city = st.ttest_ind(general_table.query('city == \"Москва\"')['total_month_profit']\\\n",
    "\t, general_table.query('city != \"Москва\"')['total_month_profit'], equal_var=False)\n",
    "print('P-value:', pval_city.pvalue)\n",
    "\n",
    "alpha = 0.05\n",
    "if pval_city.pvalue < alpha:\n",
    "    print('Отвергаем нулевую гипотезу')\n",
    "else:\n",
    "    print('Не отвергаем нулевую гипотезу')"
   ]
  },
  {
   "cell_type": "markdown",
   "metadata": {},
   "source": [
    "Как это не удивительно, но прибыль от клиентов проживающих в Москве, не имеет весомого отличия от прибыли получаемой от клиентов проживающих в других регионах присутствующих в данной выборке."
   ]
  },
  {
   "cell_type": "markdown",
   "metadata": {},
   "source": [
    "## <a id=\"conclusion\">Общий вывод</a>"
   ]
  },
  {
   "cell_type": "markdown",
   "metadata": {},
   "source": [
    "**1. Рассмотрим поведение пользователей:**\n",
    " - пользователи тарифа \"Смарт\" отличаются большой активностью в разговорах и интернет-серфинге, постоянно выходя за границы условий предоставленных тарифом и переплачивая. Я думаю, что тут преобладает средний класс, который не готов платить более высокую цену за услуги, но в то же время не расчитывают уровень своей переплаты.\n",
    " - пользователи тарифа \"Ультра\" более сдержанны в использовании мобильного телефона, создается ощущение, что этим тарифом пользуются люди, для которых это просто рабочий инструмент. Они, в большинстве, не выходят за рамки условий и редко переплачивают.\n",
    "\n",
    "**2. Доход от пользователей разных тарифов:**\n",
    "<br>Как и ожидалось, доход от пользователей тарифа \"Ультра\" значительно выше, чем от \"Смартов\", похоже более высой абоненской платы вполне хватает что бы перекрыть доход от переплат с более дешевого тарифа.\n",
    "\n",
    "**3. Доход от пользователей по регионам:**\n",
    "<br>В с толице жизнь кипит и постоянно куда то мчится. Доход получаемый от жителей Москвы и доход от жителей других регионов очень близок друг к другу. Пользователи тарифов, и переплачивающих и нет, распределяются примерно поровну.\n",
    "\n",
    "**4. Рекомендации оператору:**\n",
    " - я настоятельно рекомендую оператору перед передачей данных на анализ(даже внутри компании) шифровать информацию об абонентах, присутствие фамилии и имени в открытом виде, наводит на мысль, что оператор не заботится о сохранности данных своих клиентов, что вызывает вопросы и порождает недоверие;\n",
    " - тариф \"Ультра\", считаю возможным оставить без изменений, он перспективен и прослужит еще долго;\n",
    " - тариф \"Смарт\", на мой взгляд этот тарифный план себя изжил и готов с почестями уйти в архив. На его замену следует разработать тарифный план, в котором будет возможность самому клиенту настраивать лимиты траффика, минут и сообщений в соответствии с собственными потребностями. Абоненская плата такого тарифа не должна быть фиксированная, а должна изменяться пропорционально выбранным опциям. Такой шаг избавит клиента от вероятности остаться без связи и срочно вносить плату(что может вызвать недовольство оператором), и расширит возможности оператора по покрытию рынка мобильной связи."
   ]
  }
 ],
 "metadata": {
  "ExecuteTimeLog": [
   {
    "duration": 601,
    "start_time": "2022-03-24T08:10:35.395Z"
   },
   {
    "duration": 66,
    "start_time": "2022-03-24T08:10:35.998Z"
   },
   {
    "duration": 14,
    "start_time": "2022-03-24T08:10:36.066Z"
   },
   {
    "duration": 19,
    "start_time": "2022-03-24T08:10:36.082Z"
   },
   {
    "duration": 67,
    "start_time": "2022-03-24T08:11:18.148Z"
   },
   {
    "duration": 182,
    "start_time": "2022-03-24T09:03:05.108Z"
   },
   {
    "duration": 10,
    "start_time": "2022-03-24T09:04:37.163Z"
   },
   {
    "duration": 24,
    "start_time": "2022-03-24T09:05:03.547Z"
   },
   {
    "duration": 45,
    "start_time": "2022-03-24T09:05:28.299Z"
   },
   {
    "duration": 11,
    "start_time": "2022-03-24T09:07:07.114Z"
   },
   {
    "duration": 28,
    "start_time": "2022-03-24T09:10:01.575Z"
   },
   {
    "duration": 580,
    "start_time": "2022-03-24T09:10:19.828Z"
   },
   {
    "duration": 16,
    "start_time": "2022-03-24T09:10:20.410Z"
   },
   {
    "duration": 78,
    "start_time": "2022-03-24T09:10:20.428Z"
   },
   {
    "duration": 5,
    "start_time": "2022-03-24T09:10:20.508Z"
   },
   {
    "duration": 28,
    "start_time": "2022-03-24T09:10:20.514Z"
   },
   {
    "duration": 6,
    "start_time": "2022-03-24T09:10:20.544Z"
   },
   {
    "duration": 51,
    "start_time": "2022-03-24T09:10:20.552Z"
   },
   {
    "duration": 48,
    "start_time": "2022-03-24T09:10:20.605Z"
   },
   {
    "duration": 11,
    "start_time": "2022-03-24T09:10:20.655Z"
   },
   {
    "duration": 44,
    "start_time": "2022-03-24T09:10:20.668Z"
   },
   {
    "duration": 11,
    "start_time": "2022-03-24T09:10:20.714Z"
   },
   {
    "duration": 11,
    "start_time": "2022-03-24T09:10:20.727Z"
   },
   {
    "duration": 9,
    "start_time": "2022-03-24T09:10:20.740Z"
   },
   {
    "duration": 101,
    "start_time": "2022-03-24T09:10:20.751Z"
   },
   {
    "duration": 0,
    "start_time": "2022-03-24T09:10:20.854Z"
   },
   {
    "duration": 13,
    "start_time": "2022-03-24T09:11:55.377Z"
   },
   {
    "duration": 8,
    "start_time": "2022-03-24T09:12:06.438Z"
   },
   {
    "duration": 31,
    "start_time": "2022-03-24T09:12:40.823Z"
   },
   {
    "duration": 6,
    "start_time": "2022-03-24T09:13:45.791Z"
   },
   {
    "duration": 13,
    "start_time": "2022-03-24T09:14:04.056Z"
   },
   {
    "duration": 8,
    "start_time": "2022-03-24T09:14:05.903Z"
   },
   {
    "duration": 595,
    "start_time": "2022-03-24T09:14:13.221Z"
   },
   {
    "duration": 14,
    "start_time": "2022-03-24T09:14:13.818Z"
   },
   {
    "duration": 71,
    "start_time": "2022-03-24T09:14:13.834Z"
   },
   {
    "duration": 3,
    "start_time": "2022-03-24T09:14:13.907Z"
   },
   {
    "duration": 22,
    "start_time": "2022-03-24T09:14:13.913Z"
   },
   {
    "duration": 6,
    "start_time": "2022-03-24T09:14:13.937Z"
   },
   {
    "duration": 24,
    "start_time": "2022-03-24T09:14:13.944Z"
   },
   {
    "duration": 71,
    "start_time": "2022-03-24T09:14:13.970Z"
   },
   {
    "duration": 8,
    "start_time": "2022-03-24T09:14:14.043Z"
   },
   {
    "duration": 16,
    "start_time": "2022-03-24T09:14:14.052Z"
   },
   {
    "duration": 33,
    "start_time": "2022-03-24T09:14:14.069Z"
   },
   {
    "duration": 5,
    "start_time": "2022-03-24T09:14:14.104Z"
   },
   {
    "duration": 8,
    "start_time": "2022-03-24T09:14:14.111Z"
   },
   {
    "duration": 7,
    "start_time": "2022-03-24T09:14:14.122Z"
   },
   {
    "duration": 14,
    "start_time": "2022-03-24T09:14:14.130Z"
   },
   {
    "duration": 8,
    "start_time": "2022-03-24T09:14:14.145Z"
   },
   {
    "duration": 72,
    "start_time": "2022-03-24T09:14:14.155Z"
   },
   {
    "duration": 22,
    "start_time": "2022-03-24T09:14:37.078Z"
   },
   {
    "duration": 7,
    "start_time": "2022-03-24T09:15:55.579Z"
   },
   {
    "duration": 5,
    "start_time": "2022-03-24T09:17:17.083Z"
   },
   {
    "duration": 12,
    "start_time": "2022-03-24T09:17:22.168Z"
   },
   {
    "duration": 7,
    "start_time": "2022-03-24T09:17:25.131Z"
   },
   {
    "duration": 21,
    "start_time": "2022-03-24T09:17:26.404Z"
   },
   {
    "duration": 65,
    "start_time": "2022-03-24T09:49:19.686Z"
   },
   {
    "duration": 550,
    "start_time": "2022-03-24T09:49:41.331Z"
   },
   {
    "duration": 19,
    "start_time": "2022-03-24T09:49:41.883Z"
   },
   {
    "duration": 63,
    "start_time": "2022-03-24T09:49:41.904Z"
   },
   {
    "duration": 4,
    "start_time": "2022-03-24T09:49:41.969Z"
   },
   {
    "duration": 40,
    "start_time": "2022-03-24T09:49:41.974Z"
   },
   {
    "duration": 7,
    "start_time": "2022-03-24T09:49:42.016Z"
   },
   {
    "duration": 26,
    "start_time": "2022-03-24T09:49:42.025Z"
   },
   {
    "duration": 65,
    "start_time": "2022-03-24T09:49:42.053Z"
   },
   {
    "duration": 7,
    "start_time": "2022-03-24T09:49:42.120Z"
   },
   {
    "duration": 14,
    "start_time": "2022-03-24T09:49:42.130Z"
   },
   {
    "duration": 8,
    "start_time": "2022-03-24T09:49:42.145Z"
   },
   {
    "duration": 5,
    "start_time": "2022-03-24T09:49:42.154Z"
   },
   {
    "duration": 42,
    "start_time": "2022-03-24T09:49:42.161Z"
   },
   {
    "duration": 6,
    "start_time": "2022-03-24T09:49:42.205Z"
   },
   {
    "duration": 6,
    "start_time": "2022-03-24T09:49:42.213Z"
   },
   {
    "duration": 13,
    "start_time": "2022-03-24T09:49:42.220Z"
   },
   {
    "duration": 6,
    "start_time": "2022-03-24T09:49:42.235Z"
   },
   {
    "duration": 9,
    "start_time": "2022-03-24T09:49:42.242Z"
   },
   {
    "duration": 92,
    "start_time": "2022-03-24T09:49:42.252Z"
   },
   {
    "duration": 1064,
    "start_time": "2022-03-24T10:31:05.302Z"
   },
   {
    "duration": 11,
    "start_time": "2022-03-24T10:31:51.604Z"
   },
   {
    "duration": 1004,
    "start_time": "2022-03-24T10:35:03.178Z"
   },
   {
    "duration": 23,
    "start_time": "2022-03-24T10:35:04.184Z"
   },
   {
    "duration": 67,
    "start_time": "2022-03-24T10:35:04.208Z"
   },
   {
    "duration": 4,
    "start_time": "2022-03-24T10:35:04.276Z"
   },
   {
    "duration": 34,
    "start_time": "2022-03-24T10:35:04.282Z"
   },
   {
    "duration": 6,
    "start_time": "2022-03-24T10:35:04.317Z"
   },
   {
    "duration": 26,
    "start_time": "2022-03-24T10:35:04.324Z"
   },
   {
    "duration": 69,
    "start_time": "2022-03-24T10:35:04.352Z"
   },
   {
    "duration": 8,
    "start_time": "2022-03-24T10:35:04.422Z"
   },
   {
    "duration": 15,
    "start_time": "2022-03-24T10:35:04.432Z"
   },
   {
    "duration": 8,
    "start_time": "2022-03-24T10:35:04.449Z"
   },
   {
    "duration": 5,
    "start_time": "2022-03-24T10:35:04.458Z"
   },
   {
    "duration": 40,
    "start_time": "2022-03-24T10:35:04.465Z"
   },
   {
    "duration": 6,
    "start_time": "2022-03-24T10:35:04.508Z"
   },
   {
    "duration": 14,
    "start_time": "2022-03-24T10:35:04.516Z"
   },
   {
    "duration": 344,
    "start_time": "2022-03-24T10:35:04.531Z"
   },
   {
    "duration": 0,
    "start_time": "2022-03-24T10:35:04.877Z"
   },
   {
    "duration": 0,
    "start_time": "2022-03-24T10:35:04.878Z"
   },
   {
    "duration": 0,
    "start_time": "2022-03-24T10:35:04.879Z"
   },
   {
    "duration": 0,
    "start_time": "2022-03-24T10:35:04.879Z"
   },
   {
    "duration": 4,
    "start_time": "2022-03-24T10:35:23.910Z"
   },
   {
    "duration": 244,
    "start_time": "2022-03-24T10:35:39.422Z"
   },
   {
    "duration": 1074,
    "start_time": "2022-03-24T10:36:35.727Z"
   },
   {
    "duration": 50,
    "start_time": "2022-03-25T04:41:55.326Z"
   },
   {
    "duration": 612,
    "start_time": "2022-03-25T04:42:05.949Z"
   },
   {
    "duration": 17,
    "start_time": "2022-03-25T04:42:06.563Z"
   },
   {
    "duration": 86,
    "start_time": "2022-03-25T04:42:06.582Z"
   },
   {
    "duration": 6,
    "start_time": "2022-03-25T04:42:06.670Z"
   },
   {
    "duration": 21,
    "start_time": "2022-03-25T04:42:06.678Z"
   },
   {
    "duration": 45,
    "start_time": "2022-03-25T04:42:06.701Z"
   },
   {
    "duration": 6,
    "start_time": "2022-03-25T04:42:06.748Z"
   },
   {
    "duration": 29,
    "start_time": "2022-03-25T04:42:06.756Z"
   },
   {
    "duration": 72,
    "start_time": "2022-03-25T04:42:06.787Z"
   },
   {
    "duration": 10,
    "start_time": "2022-03-25T04:42:06.860Z"
   },
   {
    "duration": 19,
    "start_time": "2022-03-25T04:42:06.871Z"
   },
   {
    "duration": 9,
    "start_time": "2022-03-25T04:42:06.892Z"
   },
   {
    "duration": 33,
    "start_time": "2022-03-25T04:42:06.902Z"
   },
   {
    "duration": 9,
    "start_time": "2022-03-25T04:42:06.937Z"
   },
   {
    "duration": 11,
    "start_time": "2022-03-25T04:42:06.948Z"
   },
   {
    "duration": 16,
    "start_time": "2022-03-25T04:42:06.960Z"
   },
   {
    "duration": 1164,
    "start_time": "2022-03-25T04:42:06.978Z"
   },
   {
    "duration": 13,
    "start_time": "2022-03-25T04:42:08.143Z"
   },
   {
    "duration": 13,
    "start_time": "2022-03-25T04:42:08.158Z"
   },
   {
    "duration": 15,
    "start_time": "2022-03-25T04:42:08.172Z"
   },
   {
    "duration": 92,
    "start_time": "2022-03-25T04:42:08.188Z"
   },
   {
    "duration": 8,
    "start_time": "2022-03-25T04:44:18.367Z"
   },
   {
    "duration": 68,
    "start_time": "2022-03-25T04:45:09.212Z"
   },
   {
    "duration": 24,
    "start_time": "2022-03-25T05:00:56.847Z"
   },
   {
    "duration": 20,
    "start_time": "2022-03-25T05:01:15.452Z"
   },
   {
    "duration": 597,
    "start_time": "2022-03-25T05:03:51.047Z"
   },
   {
    "duration": 16,
    "start_time": "2022-03-25T05:03:51.646Z"
   },
   {
    "duration": 91,
    "start_time": "2022-03-25T05:03:51.663Z"
   },
   {
    "duration": 4,
    "start_time": "2022-03-25T05:03:51.756Z"
   },
   {
    "duration": 20,
    "start_time": "2022-03-25T05:03:51.763Z"
   },
   {
    "duration": 52,
    "start_time": "2022-03-25T05:03:51.785Z"
   },
   {
    "duration": 8,
    "start_time": "2022-03-25T05:03:51.839Z"
   },
   {
    "duration": 34,
    "start_time": "2022-03-25T05:03:51.849Z"
   },
   {
    "duration": 77,
    "start_time": "2022-03-25T05:03:51.885Z"
   },
   {
    "duration": 9,
    "start_time": "2022-03-25T05:03:51.966Z"
   },
   {
    "duration": 20,
    "start_time": "2022-03-25T05:03:51.977Z"
   },
   {
    "duration": 34,
    "start_time": "2022-03-25T05:03:51.999Z"
   },
   {
    "duration": 8,
    "start_time": "2022-03-25T05:03:52.034Z"
   },
   {
    "duration": 22,
    "start_time": "2022-03-25T05:03:52.044Z"
   },
   {
    "duration": 10,
    "start_time": "2022-03-25T05:03:52.068Z"
   },
   {
    "duration": 11926,
    "start_time": "2022-03-25T05:03:52.079Z"
   },
   {
    "duration": 2,
    "start_time": "2022-03-25T05:04:04.007Z"
   },
   {
    "duration": 78,
    "start_time": "2022-03-25T05:04:04.011Z"
   },
   {
    "duration": 49,
    "start_time": "2022-03-25T05:04:04.091Z"
   },
   {
    "duration": 80,
    "start_time": "2022-03-25T05:04:04.141Z"
   },
   {
    "duration": 12,
    "start_time": "2022-03-25T05:10:37.584Z"
   },
   {
    "duration": 61,
    "start_time": "2022-03-25T05:10:40.149Z"
   },
   {
    "duration": 35,
    "start_time": "2022-03-25T05:10:45.819Z"
   },
   {
    "duration": 76,
    "start_time": "2022-03-25T05:10:51.602Z"
   },
   {
    "duration": 33,
    "start_time": "2022-03-25T05:13:05.248Z"
   },
   {
    "duration": 3,
    "start_time": "2022-03-25T05:20:23.400Z"
   },
   {
    "duration": 61,
    "start_time": "2022-03-25T05:24:07.426Z"
   },
   {
    "duration": 40,
    "start_time": "2022-03-25T05:24:36.878Z"
   },
   {
    "duration": 30,
    "start_time": "2022-03-25T05:24:52.494Z"
   },
   {
    "duration": 2875,
    "start_time": "2022-03-25T05:41:56.674Z"
   },
   {
    "duration": 650,
    "start_time": "2022-03-25T05:42:07.310Z"
   },
   {
    "duration": 16,
    "start_time": "2022-03-25T05:42:07.962Z"
   },
   {
    "duration": 83,
    "start_time": "2022-03-25T05:42:07.980Z"
   },
   {
    "duration": 4,
    "start_time": "2022-03-25T05:42:08.065Z"
   },
   {
    "duration": 20,
    "start_time": "2022-03-25T05:42:08.072Z"
   },
   {
    "duration": 45,
    "start_time": "2022-03-25T05:42:08.095Z"
   },
   {
    "duration": 6,
    "start_time": "2022-03-25T05:42:08.142Z"
   },
   {
    "duration": 27,
    "start_time": "2022-03-25T05:42:08.149Z"
   },
   {
    "duration": 71,
    "start_time": "2022-03-25T05:42:08.178Z"
   },
   {
    "duration": 8,
    "start_time": "2022-03-25T05:42:08.251Z"
   },
   {
    "duration": 9,
    "start_time": "2022-03-25T05:42:08.261Z"
   },
   {
    "duration": 21,
    "start_time": "2022-03-25T05:42:08.271Z"
   },
   {
    "duration": 38,
    "start_time": "2022-03-25T05:42:08.294Z"
   },
   {
    "duration": 15,
    "start_time": "2022-03-25T05:42:08.335Z"
   },
   {
    "duration": 10,
    "start_time": "2022-03-25T05:42:08.352Z"
   },
   {
    "duration": 12361,
    "start_time": "2022-03-25T05:42:08.364Z"
   },
   {
    "duration": 11,
    "start_time": "2022-03-25T05:42:20.731Z"
   },
   {
    "duration": 69,
    "start_time": "2022-03-25T05:42:20.744Z"
   },
   {
    "duration": 40,
    "start_time": "2022-03-25T05:42:20.815Z"
   },
   {
    "duration": 86,
    "start_time": "2022-03-25T05:42:20.857Z"
   },
   {
    "duration": 3095,
    "start_time": "2022-03-25T05:42:20.945Z"
   },
   {
    "duration": 24,
    "start_time": "2022-03-25T05:52:51.461Z"
   },
   {
    "duration": 13,
    "start_time": "2022-03-25T05:53:39.952Z"
   },
   {
    "duration": 22,
    "start_time": "2022-03-25T05:54:28.341Z"
   },
   {
    "duration": 25,
    "start_time": "2022-03-25T05:56:06.234Z"
   },
   {
    "duration": 19,
    "start_time": "2022-03-25T06:12:09.624Z"
   },
   {
    "duration": 38,
    "start_time": "2022-03-25T06:12:20.163Z"
   },
   {
    "duration": 172,
    "start_time": "2022-03-25T06:15:12.333Z"
   },
   {
    "duration": 44,
    "start_time": "2022-03-25T06:15:47.141Z"
   },
   {
    "duration": 43,
    "start_time": "2022-03-25T06:16:22.171Z"
   },
   {
    "duration": 631,
    "start_time": "2022-03-25T06:16:35.044Z"
   },
   {
    "duration": 16,
    "start_time": "2022-03-25T06:16:35.677Z"
   },
   {
    "duration": 87,
    "start_time": "2022-03-25T06:16:35.694Z"
   },
   {
    "duration": 4,
    "start_time": "2022-03-25T06:16:35.783Z"
   },
   {
    "duration": 22,
    "start_time": "2022-03-25T06:16:35.790Z"
   },
   {
    "duration": 37,
    "start_time": "2022-03-25T06:16:35.814Z"
   },
   {
    "duration": 7,
    "start_time": "2022-03-25T06:16:35.853Z"
   },
   {
    "duration": 38,
    "start_time": "2022-03-25T06:16:35.862Z"
   },
   {
    "duration": 71,
    "start_time": "2022-03-25T06:16:35.902Z"
   },
   {
    "duration": 10,
    "start_time": "2022-03-25T06:16:35.975Z"
   },
   {
    "duration": 9,
    "start_time": "2022-03-25T06:16:35.986Z"
   },
   {
    "duration": 47,
    "start_time": "2022-03-25T06:16:35.997Z"
   },
   {
    "duration": 9,
    "start_time": "2022-03-25T06:16:36.045Z"
   },
   {
    "duration": 21,
    "start_time": "2022-03-25T06:16:36.056Z"
   },
   {
    "duration": 11,
    "start_time": "2022-03-25T06:16:36.079Z"
   },
   {
    "duration": 12280,
    "start_time": "2022-03-25T06:16:36.092Z"
   },
   {
    "duration": 10,
    "start_time": "2022-03-25T06:16:48.374Z"
   },
   {
    "duration": 80,
    "start_time": "2022-03-25T06:16:48.386Z"
   },
   {
    "duration": 27,
    "start_time": "2022-03-25T06:16:48.468Z"
   },
   {
    "duration": 88,
    "start_time": "2022-03-25T06:16:48.497Z"
   },
   {
    "duration": 12,
    "start_time": "2022-03-25T06:16:48.587Z"
   },
   {
    "duration": 41,
    "start_time": "2022-03-25T06:16:48.601Z"
   },
   {
    "duration": 42,
    "start_time": "2022-03-25T06:16:48.644Z"
   },
   {
    "duration": 194,
    "start_time": "2022-03-25T06:17:16.171Z"
   },
   {
    "duration": 598,
    "start_time": "2022-03-25T06:17:23.452Z"
   },
   {
    "duration": 16,
    "start_time": "2022-03-25T06:17:24.052Z"
   },
   {
    "duration": 95,
    "start_time": "2022-03-25T06:17:24.070Z"
   },
   {
    "duration": 5,
    "start_time": "2022-03-25T06:17:24.166Z"
   },
   {
    "duration": 22,
    "start_time": "2022-03-25T06:17:24.173Z"
   },
   {
    "duration": 46,
    "start_time": "2022-03-25T06:17:24.197Z"
   },
   {
    "duration": 6,
    "start_time": "2022-03-25T06:17:24.245Z"
   },
   {
    "duration": 31,
    "start_time": "2022-03-25T06:17:24.253Z"
   },
   {
    "duration": 72,
    "start_time": "2022-03-25T06:17:24.286Z"
   },
   {
    "duration": 9,
    "start_time": "2022-03-25T06:17:24.360Z"
   },
   {
    "duration": 7,
    "start_time": "2022-03-25T06:17:24.371Z"
   },
   {
    "duration": 21,
    "start_time": "2022-03-25T06:17:24.380Z"
   },
   {
    "duration": 9,
    "start_time": "2022-03-25T06:17:24.432Z"
   },
   {
    "duration": 15,
    "start_time": "2022-03-25T06:17:24.444Z"
   },
   {
    "duration": 11,
    "start_time": "2022-03-25T06:17:24.462Z"
   },
   {
    "duration": 12386,
    "start_time": "2022-03-25T06:17:24.475Z"
   },
   {
    "duration": 11,
    "start_time": "2022-03-25T06:17:36.863Z"
   },
   {
    "duration": 79,
    "start_time": "2022-03-25T06:17:36.876Z"
   },
   {
    "duration": 27,
    "start_time": "2022-03-25T06:17:36.957Z"
   },
   {
    "duration": 97,
    "start_time": "2022-03-25T06:17:36.986Z"
   },
   {
    "duration": 14,
    "start_time": "2022-03-25T06:17:37.085Z"
   },
   {
    "duration": 43,
    "start_time": "2022-03-25T06:17:37.101Z"
   },
   {
    "duration": 44,
    "start_time": "2022-03-25T06:17:37.146Z"
   },
   {
    "duration": 27,
    "start_time": "2022-03-25T06:26:07.815Z"
   },
   {
    "duration": 30,
    "start_time": "2022-03-25T06:27:05.343Z"
   },
   {
    "duration": 32,
    "start_time": "2022-03-25T06:28:22.134Z"
   },
   {
    "duration": 34,
    "start_time": "2022-03-25T06:31:36.332Z"
   },
   {
    "duration": 36,
    "start_time": "2022-03-25T06:32:03.141Z"
   },
   {
    "duration": 2,
    "start_time": "2022-03-25T06:33:28.420Z"
   },
   {
    "duration": 167,
    "start_time": "2022-03-25T06:54:04.967Z"
   },
   {
    "duration": 166,
    "start_time": "2022-03-25T06:54:17.413Z"
   },
   {
    "duration": 225,
    "start_time": "2022-03-25T06:54:47.935Z"
   },
   {
    "duration": 178,
    "start_time": "2022-03-25T07:01:38.837Z"
   },
   {
    "duration": 165,
    "start_time": "2022-03-25T07:02:36.071Z"
   },
   {
    "duration": 3094,
    "start_time": "2022-03-25T07:03:01.796Z"
   },
   {
    "duration": 179,
    "start_time": "2022-03-25T07:03:46.191Z"
   },
   {
    "duration": 158,
    "start_time": "2022-03-25T07:04:46.701Z"
   },
   {
    "duration": 168,
    "start_time": "2022-03-25T07:06:54.187Z"
   },
   {
    "duration": 621,
    "start_time": "2022-03-25T07:08:26.971Z"
   },
   {
    "duration": 18,
    "start_time": "2022-03-25T07:08:27.594Z"
   },
   {
    "duration": 94,
    "start_time": "2022-03-25T07:08:27.614Z"
   },
   {
    "duration": 5,
    "start_time": "2022-03-25T07:08:27.710Z"
   },
   {
    "duration": 23,
    "start_time": "2022-03-25T07:08:27.733Z"
   },
   {
    "duration": 30,
    "start_time": "2022-03-25T07:08:27.758Z"
   },
   {
    "duration": 7,
    "start_time": "2022-03-25T07:08:27.790Z"
   },
   {
    "duration": 56,
    "start_time": "2022-03-25T07:08:27.798Z"
   },
   {
    "duration": 58,
    "start_time": "2022-03-25T07:08:27.856Z"
   },
   {
    "duration": 10,
    "start_time": "2022-03-25T07:08:27.931Z"
   },
   {
    "duration": 16,
    "start_time": "2022-03-25T07:08:27.943Z"
   },
   {
    "duration": 24,
    "start_time": "2022-03-25T07:08:27.961Z"
   },
   {
    "duration": 9,
    "start_time": "2022-03-25T07:08:27.987Z"
   },
   {
    "duration": 19,
    "start_time": "2022-03-25T07:08:28.033Z"
   },
   {
    "duration": 14,
    "start_time": "2022-03-25T07:08:28.055Z"
   },
   {
    "duration": 13222,
    "start_time": "2022-03-25T07:08:28.071Z"
   },
   {
    "duration": 11,
    "start_time": "2022-03-25T07:08:41.295Z"
   },
   {
    "duration": 76,
    "start_time": "2022-03-25T07:08:41.308Z"
   },
   {
    "duration": 28,
    "start_time": "2022-03-25T07:08:41.386Z"
   },
   {
    "duration": 77,
    "start_time": "2022-03-25T07:08:41.432Z"
   },
   {
    "duration": 27,
    "start_time": "2022-03-25T07:08:41.510Z"
   },
   {
    "duration": 25,
    "start_time": "2022-03-25T07:08:41.538Z"
   },
   {
    "duration": 34,
    "start_time": "2022-03-25T07:08:41.565Z"
   },
   {
    "duration": 163,
    "start_time": "2022-03-25T07:08:41.601Z"
   },
   {
    "duration": 277,
    "start_time": "2022-03-25T07:10:19.106Z"
   },
   {
    "duration": 196,
    "start_time": "2022-03-25T07:10:26.198Z"
   },
   {
    "duration": 174,
    "start_time": "2022-03-25T07:10:39.263Z"
   },
   {
    "duration": 180,
    "start_time": "2022-03-25T07:10:47.063Z"
   },
   {
    "duration": 173,
    "start_time": "2022-03-25T07:11:45.246Z"
   },
   {
    "duration": 2864,
    "start_time": "2022-03-25T07:12:03.670Z"
   },
   {
    "duration": 38,
    "start_time": "2022-03-25T07:23:02.548Z"
   },
   {
    "duration": 170,
    "start_time": "2022-03-25T07:23:59.538Z"
   },
   {
    "duration": 37,
    "start_time": "2022-03-25T07:24:06.219Z"
   },
   {
    "duration": 2850,
    "start_time": "2022-03-25T07:25:38.828Z"
   },
   {
    "duration": 35,
    "start_time": "2022-03-25T07:25:53.532Z"
   },
   {
    "duration": 38,
    "start_time": "2022-03-25T07:26:25.588Z"
   },
   {
    "duration": 38,
    "start_time": "2022-03-25T07:28:37.339Z"
   },
   {
    "duration": 37,
    "start_time": "2022-03-25T07:28:57.369Z"
   },
   {
    "duration": 653,
    "start_time": "2022-03-25T07:29:14.297Z"
   },
   {
    "duration": 17,
    "start_time": "2022-03-25T07:29:14.952Z"
   },
   {
    "duration": 99,
    "start_time": "2022-03-25T07:29:14.971Z"
   },
   {
    "duration": 5,
    "start_time": "2022-03-25T07:29:15.072Z"
   },
   {
    "duration": 48,
    "start_time": "2022-03-25T07:29:15.080Z"
   },
   {
    "duration": 35,
    "start_time": "2022-03-25T07:29:15.130Z"
   },
   {
    "duration": 8,
    "start_time": "2022-03-25T07:29:15.167Z"
   },
   {
    "duration": 48,
    "start_time": "2022-03-25T07:29:15.177Z"
   },
   {
    "duration": 52,
    "start_time": "2022-03-25T07:29:15.227Z"
   },
   {
    "duration": 8,
    "start_time": "2022-03-25T07:29:15.281Z"
   },
   {
    "duration": 30,
    "start_time": "2022-03-25T07:29:15.291Z"
   },
   {
    "duration": 28,
    "start_time": "2022-03-25T07:29:15.323Z"
   },
   {
    "duration": 13,
    "start_time": "2022-03-25T07:29:15.352Z"
   },
   {
    "duration": 32,
    "start_time": "2022-03-25T07:29:15.368Z"
   },
   {
    "duration": 13,
    "start_time": "2022-03-25T07:29:15.402Z"
   },
   {
    "duration": 12337,
    "start_time": "2022-03-25T07:29:15.416Z"
   },
   {
    "duration": 10,
    "start_time": "2022-03-25T07:29:27.755Z"
   },
   {
    "duration": 77,
    "start_time": "2022-03-25T07:29:27.767Z"
   },
   {
    "duration": 27,
    "start_time": "2022-03-25T07:29:27.845Z"
   },
   {
    "duration": 92,
    "start_time": "2022-03-25T07:29:27.874Z"
   },
   {
    "duration": 11,
    "start_time": "2022-03-25T07:29:27.968Z"
   },
   {
    "duration": 34,
    "start_time": "2022-03-25T07:29:27.981Z"
   },
   {
    "duration": 53,
    "start_time": "2022-03-25T07:29:28.016Z"
   },
   {
    "duration": 53,
    "start_time": "2022-03-25T07:29:28.071Z"
   },
   {
    "duration": 1458,
    "start_time": "2022-03-25T07:31:44.538Z"
   },
   {
    "duration": 1327,
    "start_time": "2022-03-25T07:31:49.922Z"
   },
   {
    "duration": 29,
    "start_time": "2022-03-25T07:32:00.050Z"
   },
   {
    "duration": 14,
    "start_time": "2022-03-25T07:32:24.385Z"
   },
   {
    "duration": 13,
    "start_time": "2022-03-25T07:33:05.850Z"
   },
   {
    "duration": 8,
    "start_time": "2022-03-25T07:33:13.538Z"
   },
   {
    "duration": 14,
    "start_time": "2022-03-25T07:34:00.881Z"
   },
   {
    "duration": 21,
    "start_time": "2022-03-25T08:12:06.972Z"
   },
   {
    "duration": 20,
    "start_time": "2022-03-25T08:12:27.219Z"
   },
   {
    "duration": 41,
    "start_time": "2022-03-25T08:12:39.899Z"
   },
   {
    "duration": 55,
    "start_time": "2022-03-25T08:15:23.115Z"
   },
   {
    "duration": 57,
    "start_time": "2022-03-25T08:15:40.904Z"
   },
   {
    "duration": 10,
    "start_time": "2022-03-25T08:19:46.364Z"
   },
   {
    "duration": 98,
    "start_time": "2022-03-25T08:20:17.633Z"
   },
   {
    "duration": 16,
    "start_time": "2022-03-25T08:40:56.606Z"
   },
   {
    "duration": 20,
    "start_time": "2022-03-25T08:42:15.925Z"
   },
   {
    "duration": 10,
    "start_time": "2022-03-25T08:44:44.029Z"
   },
   {
    "duration": 634,
    "start_time": "2022-03-25T08:44:52.247Z"
   },
   {
    "duration": 16,
    "start_time": "2022-03-25T08:44:52.883Z"
   },
   {
    "duration": 94,
    "start_time": "2022-03-25T08:44:52.901Z"
   },
   {
    "duration": 5,
    "start_time": "2022-03-25T08:44:52.997Z"
   },
   {
    "duration": 37,
    "start_time": "2022-03-25T08:44:53.004Z"
   },
   {
    "duration": 25,
    "start_time": "2022-03-25T08:44:53.043Z"
   },
   {
    "duration": 7,
    "start_time": "2022-03-25T08:44:53.070Z"
   },
   {
    "duration": 55,
    "start_time": "2022-03-25T08:44:53.078Z"
   },
   {
    "duration": 53,
    "start_time": "2022-03-25T08:44:53.134Z"
   },
   {
    "duration": 8,
    "start_time": "2022-03-25T08:44:53.189Z"
   },
   {
    "duration": 34,
    "start_time": "2022-03-25T08:44:53.199Z"
   },
   {
    "duration": 21,
    "start_time": "2022-03-25T08:44:53.234Z"
   },
   {
    "duration": 9,
    "start_time": "2022-03-25T08:44:53.256Z"
   },
   {
    "duration": 18,
    "start_time": "2022-03-25T08:44:53.268Z"
   },
   {
    "duration": 10,
    "start_time": "2022-03-25T08:44:53.288Z"
   },
   {
    "duration": 13214,
    "start_time": "2022-03-25T08:44:53.300Z"
   },
   {
    "duration": 16,
    "start_time": "2022-03-25T08:45:06.516Z"
   },
   {
    "duration": 70,
    "start_time": "2022-03-25T08:45:06.534Z"
   },
   {
    "duration": 46,
    "start_time": "2022-03-25T08:45:06.606Z"
   },
   {
    "duration": 90,
    "start_time": "2022-03-25T08:45:06.654Z"
   },
   {
    "duration": 13,
    "start_time": "2022-03-25T08:45:06.746Z"
   },
   {
    "duration": 30,
    "start_time": "2022-03-25T08:45:06.761Z"
   },
   {
    "duration": 57,
    "start_time": "2022-03-25T08:45:06.793Z"
   },
   {
    "duration": 39,
    "start_time": "2022-03-25T08:45:06.852Z"
   },
   {
    "duration": 19,
    "start_time": "2022-03-25T08:45:06.892Z"
   },
   {
    "duration": 59,
    "start_time": "2022-03-25T08:45:06.932Z"
   },
   {
    "duration": 111,
    "start_time": "2022-03-25T08:45:06.992Z"
   },
   {
    "duration": 27,
    "start_time": "2022-03-25T08:45:07.105Z"
   },
   {
    "duration": 39,
    "start_time": "2022-03-25T09:08:58.831Z"
   },
   {
    "duration": 630,
    "start_time": "2022-03-25T09:09:18.534Z"
   },
   {
    "duration": 17,
    "start_time": "2022-03-25T09:09:19.166Z"
   },
   {
    "duration": 95,
    "start_time": "2022-03-25T09:09:19.185Z"
   },
   {
    "duration": 4,
    "start_time": "2022-03-25T09:09:19.281Z"
   },
   {
    "duration": 27,
    "start_time": "2022-03-25T09:09:19.287Z"
   },
   {
    "duration": 38,
    "start_time": "2022-03-25T09:09:19.316Z"
   },
   {
    "duration": 7,
    "start_time": "2022-03-25T09:09:19.356Z"
   },
   {
    "duration": 30,
    "start_time": "2022-03-25T09:09:19.364Z"
   },
   {
    "duration": 77,
    "start_time": "2022-03-25T09:09:19.396Z"
   },
   {
    "duration": 9,
    "start_time": "2022-03-25T09:09:19.474Z"
   },
   {
    "duration": 20,
    "start_time": "2022-03-25T09:09:19.485Z"
   },
   {
    "duration": 38,
    "start_time": "2022-03-25T09:09:19.507Z"
   },
   {
    "duration": 9,
    "start_time": "2022-03-25T09:09:19.547Z"
   },
   {
    "duration": 17,
    "start_time": "2022-03-25T09:09:19.560Z"
   },
   {
    "duration": 11,
    "start_time": "2022-03-25T09:09:19.579Z"
   },
   {
    "duration": 12893,
    "start_time": "2022-03-25T09:09:19.591Z"
   },
   {
    "duration": 11,
    "start_time": "2022-03-25T09:09:32.485Z"
   },
   {
    "duration": 81,
    "start_time": "2022-03-25T09:09:32.498Z"
   },
   {
    "duration": 31,
    "start_time": "2022-03-25T09:09:32.580Z"
   },
   {
    "duration": 93,
    "start_time": "2022-03-25T09:09:32.613Z"
   },
   {
    "duration": 26,
    "start_time": "2022-03-25T09:09:32.707Z"
   },
   {
    "duration": 25,
    "start_time": "2022-03-25T09:09:32.735Z"
   },
   {
    "duration": 49,
    "start_time": "2022-03-25T09:09:32.761Z"
   },
   {
    "duration": 50,
    "start_time": "2022-03-25T09:09:32.812Z"
   },
   {
    "duration": 19,
    "start_time": "2022-03-25T09:09:32.864Z"
   },
   {
    "duration": 76,
    "start_time": "2022-03-25T09:09:32.884Z"
   },
   {
    "duration": 98,
    "start_time": "2022-03-25T09:09:32.962Z"
   },
   {
    "duration": 17,
    "start_time": "2022-03-25T09:09:33.062Z"
   },
   {
    "duration": 36,
    "start_time": "2022-03-25T09:10:20.590Z"
   },
   {
    "duration": 23,
    "start_time": "2022-03-25T09:14:08.773Z"
   },
   {
    "duration": 33,
    "start_time": "2022-03-25T09:14:43.414Z"
   },
   {
    "duration": 1113,
    "start_time": "2022-03-25T09:16:33.996Z"
   },
   {
    "duration": 2054,
    "start_time": "2022-03-25T09:33:03.321Z"
   },
   {
    "duration": 66056,
    "start_time": "2022-03-25T09:34:02.643Z"
   },
   {
    "duration": 111935,
    "start_time": "2022-03-25T09:36:36.927Z"
   },
   {
    "duration": 63,
    "start_time": "2022-03-25T09:40:02.287Z"
   },
   {
    "duration": 25,
    "start_time": "2022-03-25T09:40:43.180Z"
   },
   {
    "duration": 643,
    "start_time": "2022-03-25T09:41:54.022Z"
   },
   {
    "duration": 693,
    "start_time": "2022-03-25T09:42:19.951Z"
   },
   {
    "duration": 575,
    "start_time": "2022-03-25T09:42:38.326Z"
   },
   {
    "duration": 806,
    "start_time": "2022-03-25T09:42:45.518Z"
   },
   {
    "duration": 17,
    "start_time": "2022-03-25T09:43:41.342Z"
   },
   {
    "duration": 30,
    "start_time": "2022-03-25T09:44:24.478Z"
   },
   {
    "duration": 1634,
    "start_time": "2022-03-25T09:44:29.559Z"
   },
   {
    "duration": 2004,
    "start_time": "2022-03-25T09:49:08.466Z"
   },
   {
    "duration": 1624,
    "start_time": "2022-03-25T09:49:23.711Z"
   },
   {
    "duration": 384,
    "start_time": "2022-03-25T09:50:15.486Z"
   },
   {
    "duration": 320,
    "start_time": "2022-03-25T09:50:34.270Z"
   },
   {
    "duration": 305,
    "start_time": "2022-03-25T09:50:41.832Z"
   },
   {
    "duration": 294,
    "start_time": "2022-03-25T09:50:51.158Z"
   },
   {
    "duration": 292,
    "start_time": "2022-03-25T09:51:01.518Z"
   },
   {
    "duration": 258,
    "start_time": "2022-03-25T09:51:10.262Z"
   },
   {
    "duration": 278,
    "start_time": "2022-03-25T09:51:17.366Z"
   },
   {
    "duration": 421,
    "start_time": "2022-03-25T09:51:24.693Z"
   },
   {
    "duration": 276,
    "start_time": "2022-03-25T09:51:31.239Z"
   },
   {
    "duration": 223,
    "start_time": "2022-03-25T09:51:46.702Z"
   },
   {
    "duration": 284,
    "start_time": "2022-03-25T09:51:54.397Z"
   },
   {
    "duration": 271,
    "start_time": "2022-03-25T09:52:38.174Z"
   },
   {
    "duration": 957,
    "start_time": "2022-03-25T09:52:54.800Z"
   },
   {
    "duration": 17,
    "start_time": "2022-03-25T09:52:55.759Z"
   },
   {
    "duration": 89,
    "start_time": "2022-03-25T09:52:55.778Z"
   },
   {
    "duration": 5,
    "start_time": "2022-03-25T09:52:55.869Z"
   },
   {
    "duration": 27,
    "start_time": "2022-03-25T09:52:55.875Z"
   },
   {
    "duration": 43,
    "start_time": "2022-03-25T09:52:55.903Z"
   },
   {
    "duration": 7,
    "start_time": "2022-03-25T09:52:55.948Z"
   },
   {
    "duration": 30,
    "start_time": "2022-03-25T09:52:55.957Z"
   },
   {
    "duration": 76,
    "start_time": "2022-03-25T09:52:55.988Z"
   },
   {
    "duration": 10,
    "start_time": "2022-03-25T09:52:56.067Z"
   },
   {
    "duration": 12,
    "start_time": "2022-03-25T09:52:56.079Z"
   },
   {
    "duration": 48,
    "start_time": "2022-03-25T09:52:56.093Z"
   },
   {
    "duration": 11,
    "start_time": "2022-03-25T09:52:56.143Z"
   },
   {
    "duration": 31,
    "start_time": "2022-03-25T09:52:56.156Z"
   },
   {
    "duration": 11,
    "start_time": "2022-03-25T09:52:56.189Z"
   },
   {
    "duration": 12986,
    "start_time": "2022-03-25T09:52:56.202Z"
   },
   {
    "duration": 11,
    "start_time": "2022-03-25T09:53:09.189Z"
   },
   {
    "duration": 79,
    "start_time": "2022-03-25T09:53:09.202Z"
   },
   {
    "duration": 32,
    "start_time": "2022-03-25T09:53:09.283Z"
   },
   {
    "duration": 77,
    "start_time": "2022-03-25T09:53:09.332Z"
   },
   {
    "duration": 25,
    "start_time": "2022-03-25T09:53:09.411Z"
   },
   {
    "duration": 41,
    "start_time": "2022-03-25T09:53:09.439Z"
   },
   {
    "duration": 38,
    "start_time": "2022-03-25T09:53:09.481Z"
   },
   {
    "duration": 45,
    "start_time": "2022-03-25T09:53:09.521Z"
   },
   {
    "duration": 19,
    "start_time": "2022-03-25T09:53:09.568Z"
   },
   {
    "duration": 82,
    "start_time": "2022-03-25T09:53:09.589Z"
   },
   {
    "duration": 108,
    "start_time": "2022-03-25T09:53:09.673Z"
   },
   {
    "duration": 313,
    "start_time": "2022-03-25T09:53:09.786Z"
   },
   {
    "duration": 349,
    "start_time": "2022-03-25T09:53:31.077Z"
   },
   {
    "duration": 290,
    "start_time": "2022-03-25T09:53:49.364Z"
   },
   {
    "duration": 117,
    "start_time": "2022-03-25T10:11:57.701Z"
   },
   {
    "duration": 111,
    "start_time": "2022-03-25T10:12:28.965Z"
   },
   {
    "duration": 130,
    "start_time": "2022-03-25T10:12:40.109Z"
   },
   {
    "duration": 111,
    "start_time": "2022-03-25T10:12:45.773Z"
   },
   {
    "duration": 127,
    "start_time": "2022-03-25T10:13:05.516Z"
   },
   {
    "duration": 116,
    "start_time": "2022-03-25T10:13:14.333Z"
   },
   {
    "duration": 107,
    "start_time": "2022-03-25T10:13:22.957Z"
   },
   {
    "duration": 117,
    "start_time": "2022-03-25T10:13:29.501Z"
   },
   {
    "duration": 171,
    "start_time": "2022-03-25T10:13:33.614Z"
   },
   {
    "duration": 108,
    "start_time": "2022-03-25T10:13:39.100Z"
   },
   {
    "duration": 119,
    "start_time": "2022-03-25T10:13:44.405Z"
   },
   {
    "duration": 121,
    "start_time": "2022-03-25T10:19:11.364Z"
   },
   {
    "duration": 113,
    "start_time": "2022-03-25T10:19:18.949Z"
   },
   {
    "duration": 129,
    "start_time": "2022-03-25T10:19:25.332Z"
   },
   {
    "duration": 153,
    "start_time": "2022-03-25T10:19:31.733Z"
   },
   {
    "duration": 198,
    "start_time": "2022-03-25T10:31:34.268Z"
   },
   {
    "duration": 767,
    "start_time": "2022-03-25T10:32:02.181Z"
   },
   {
    "duration": 147,
    "start_time": "2022-03-25T10:32:37.116Z"
   },
   {
    "duration": 120,
    "start_time": "2022-03-25T10:32:52.741Z"
   },
   {
    "duration": 233,
    "start_time": "2022-03-25T10:33:00.085Z"
   },
   {
    "duration": 272,
    "start_time": "2022-03-25T10:48:25.804Z"
   },
   {
    "duration": 10,
    "start_time": "2022-03-25T10:53:59.340Z"
   },
   {
    "duration": 342,
    "start_time": "2022-03-25T10:54:01.608Z"
   },
   {
    "duration": 125,
    "start_time": "2022-03-25T10:54:21.013Z"
   },
   {
    "duration": 127,
    "start_time": "2022-03-25T10:54:53.725Z"
   },
   {
    "duration": 385,
    "start_time": "2022-03-25T10:59:59.428Z"
   },
   {
    "duration": 140,
    "start_time": "2022-03-25T11:00:05.837Z"
   },
   {
    "duration": 173,
    "start_time": "2022-03-25T11:00:22.524Z"
   },
   {
    "duration": 528,
    "start_time": "2022-03-25T11:01:33.887Z"
   },
   {
    "duration": 411,
    "start_time": "2022-03-25T11:01:43.483Z"
   },
   {
    "duration": 649,
    "start_time": "2022-03-25T11:01:52.140Z"
   },
   {
    "duration": 524,
    "start_time": "2022-03-25T11:03:23.116Z"
   },
   {
    "duration": 165,
    "start_time": "2022-03-25T11:11:51.888Z"
   },
   {
    "duration": 166,
    "start_time": "2022-03-25T11:12:19.340Z"
   },
   {
    "duration": 14,
    "start_time": "2022-03-25T11:13:05.528Z"
   },
   {
    "duration": 14,
    "start_time": "2022-03-25T11:13:18.344Z"
   },
   {
    "duration": 145,
    "start_time": "2022-03-25T11:13:22.295Z"
   },
   {
    "duration": 10,
    "start_time": "2022-03-25T11:13:57.547Z"
   },
   {
    "duration": 142,
    "start_time": "2022-03-25T11:13:59.512Z"
   },
   {
    "duration": 9,
    "start_time": "2022-03-25T11:14:22.632Z"
   },
   {
    "duration": 145,
    "start_time": "2022-03-25T11:14:24.464Z"
   },
   {
    "duration": 11,
    "start_time": "2022-03-25T11:14:53.290Z"
   },
   {
    "duration": 150,
    "start_time": "2022-03-25T11:14:54.608Z"
   },
   {
    "duration": 10,
    "start_time": "2022-03-25T11:15:07.568Z"
   },
   {
    "duration": 271,
    "start_time": "2022-03-25T11:15:09.032Z"
   },
   {
    "duration": 10,
    "start_time": "2022-03-25T11:15:18.848Z"
   },
   {
    "duration": 137,
    "start_time": "2022-03-25T11:15:20.151Z"
   },
   {
    "duration": 10,
    "start_time": "2022-03-25T11:15:32.840Z"
   },
   {
    "duration": 133,
    "start_time": "2022-03-25T11:15:34.056Z"
   },
   {
    "duration": 322,
    "start_time": "2022-03-25T11:16:03.025Z"
   },
   {
    "duration": 553,
    "start_time": "2022-03-25T11:16:12.800Z"
   },
   {
    "duration": 945,
    "start_time": "2022-03-25T11:16:20.395Z"
   },
   {
    "duration": 694,
    "start_time": "2022-03-25T11:16:29.577Z"
   },
   {
    "duration": 856,
    "start_time": "2022-03-25T11:16:36.648Z"
   },
   {
    "duration": 986,
    "start_time": "2022-03-25T11:16:48.832Z"
   },
   {
    "duration": 17,
    "start_time": "2022-03-25T11:16:49.820Z"
   },
   {
    "duration": 81,
    "start_time": "2022-03-25T11:16:49.839Z"
   },
   {
    "duration": 5,
    "start_time": "2022-03-25T11:16:49.931Z"
   },
   {
    "duration": 29,
    "start_time": "2022-03-25T11:16:49.938Z"
   },
   {
    "duration": 27,
    "start_time": "2022-03-25T11:16:49.969Z"
   },
   {
    "duration": 7,
    "start_time": "2022-03-25T11:16:49.998Z"
   },
   {
    "duration": 54,
    "start_time": "2022-03-25T11:16:50.006Z"
   },
   {
    "duration": 54,
    "start_time": "2022-03-25T11:16:50.062Z"
   },
   {
    "duration": 11,
    "start_time": "2022-03-25T11:16:50.131Z"
   },
   {
    "duration": 8,
    "start_time": "2022-03-25T11:16:50.144Z"
   },
   {
    "duration": 26,
    "start_time": "2022-03-25T11:16:50.153Z"
   },
   {
    "duration": 10,
    "start_time": "2022-03-25T11:16:50.180Z"
   },
   {
    "duration": 55,
    "start_time": "2022-03-25T11:16:50.192Z"
   },
   {
    "duration": 16,
    "start_time": "2022-03-25T11:16:50.249Z"
   },
   {
    "duration": 13717,
    "start_time": "2022-03-25T11:16:50.267Z"
   },
   {
    "duration": 11,
    "start_time": "2022-03-25T11:17:03.986Z"
   },
   {
    "duration": 84,
    "start_time": "2022-03-25T11:17:04.000Z"
   },
   {
    "duration": 46,
    "start_time": "2022-03-25T11:17:04.086Z"
   },
   {
    "duration": 83,
    "start_time": "2022-03-25T11:17:04.134Z"
   },
   {
    "duration": 24,
    "start_time": "2022-03-25T11:17:04.219Z"
   },
   {
    "duration": 34,
    "start_time": "2022-03-25T11:17:04.245Z"
   },
   {
    "duration": 59,
    "start_time": "2022-03-25T11:17:04.281Z"
   },
   {
    "duration": 38,
    "start_time": "2022-03-25T11:17:04.342Z"
   },
   {
    "duration": 19,
    "start_time": "2022-03-25T11:17:04.383Z"
   },
   {
    "duration": 83,
    "start_time": "2022-03-25T11:17:04.405Z"
   },
   {
    "duration": 122,
    "start_time": "2022-03-25T11:17:04.491Z"
   },
   {
    "duration": 314,
    "start_time": "2022-03-25T11:17:04.614Z"
   },
   {
    "duration": 140,
    "start_time": "2022-03-25T11:17:04.931Z"
   },
   {
    "duration": 17,
    "start_time": "2022-03-25T11:17:05.073Z"
   },
   {
    "duration": 206,
    "start_time": "2022-03-25T11:17:05.093Z"
   },
   {
    "duration": 306,
    "start_time": "2022-03-25T11:17:05.301Z"
   },
   {
    "duration": 697,
    "start_time": "2022-03-25T11:17:05.608Z"
   },
   {
    "duration": 147,
    "start_time": "2022-03-25T11:17:06.307Z"
   },
   {
    "duration": 22,
    "start_time": "2022-03-25T11:17:06.456Z"
   },
   {
    "duration": 138,
    "start_time": "2022-03-25T11:17:06.480Z"
   },
   {
    "duration": 779,
    "start_time": "2022-03-25T11:17:06.621Z"
   },
   {
    "duration": 828,
    "start_time": "2022-03-25T11:17:31.335Z"
   },
   {
    "duration": 680,
    "start_time": "2022-03-25T11:17:40.615Z"
   },
   {
    "duration": 663,
    "start_time": "2022-03-25T11:17:47.775Z"
   },
   {
    "duration": 14,
    "start_time": "2022-03-25T11:18:00.103Z"
   },
   {
    "duration": 147,
    "start_time": "2022-03-25T11:18:01.143Z"
   },
   {
    "duration": 878,
    "start_time": "2022-03-25T11:18:21.569Z"
   },
   {
    "duration": 17,
    "start_time": "2022-03-25T11:18:22.449Z"
   },
   {
    "duration": 100,
    "start_time": "2022-03-25T11:18:22.468Z"
   },
   {
    "duration": 5,
    "start_time": "2022-03-25T11:18:22.570Z"
   },
   {
    "duration": 38,
    "start_time": "2022-03-25T11:18:22.577Z"
   },
   {
    "duration": 36,
    "start_time": "2022-03-25T11:18:22.616Z"
   },
   {
    "duration": 7,
    "start_time": "2022-03-25T11:18:22.654Z"
   },
   {
    "duration": 41,
    "start_time": "2022-03-25T11:18:22.663Z"
   },
   {
    "duration": 72,
    "start_time": "2022-03-25T11:18:22.706Z"
   },
   {
    "duration": 19,
    "start_time": "2022-03-25T11:18:22.780Z"
   },
   {
    "duration": 13,
    "start_time": "2022-03-25T11:18:22.801Z"
   },
   {
    "duration": 38,
    "start_time": "2022-03-25T11:18:22.816Z"
   },
   {
    "duration": 9,
    "start_time": "2022-03-25T11:18:22.856Z"
   },
   {
    "duration": 25,
    "start_time": "2022-03-25T11:18:22.868Z"
   },
   {
    "duration": 29,
    "start_time": "2022-03-25T11:18:22.895Z"
   },
   {
    "duration": 13524,
    "start_time": "2022-03-25T11:18:22.927Z"
   },
   {
    "duration": 11,
    "start_time": "2022-03-25T11:18:36.453Z"
   },
   {
    "duration": 81,
    "start_time": "2022-03-25T11:18:36.466Z"
   },
   {
    "duration": 32,
    "start_time": "2022-03-25T11:18:36.549Z"
   },
   {
    "duration": 97,
    "start_time": "2022-03-25T11:18:36.583Z"
   },
   {
    "duration": 13,
    "start_time": "2022-03-25T11:18:36.682Z"
   },
   {
    "duration": 44,
    "start_time": "2022-03-25T11:18:36.696Z"
   },
   {
    "duration": 43,
    "start_time": "2022-03-25T11:18:36.742Z"
   },
   {
    "duration": 50,
    "start_time": "2022-03-25T11:18:36.787Z"
   },
   {
    "duration": 19,
    "start_time": "2022-03-25T11:18:36.839Z"
   },
   {
    "duration": 76,
    "start_time": "2022-03-25T11:18:36.860Z"
   },
   {
    "duration": 108,
    "start_time": "2022-03-25T11:18:36.938Z"
   },
   {
    "duration": 316,
    "start_time": "2022-03-25T11:18:37.048Z"
   },
   {
    "duration": 142,
    "start_time": "2022-03-25T11:18:37.366Z"
   },
   {
    "duration": 28,
    "start_time": "2022-03-25T11:18:37.509Z"
   },
   {
    "duration": 196,
    "start_time": "2022-03-25T11:18:37.539Z"
   },
   {
    "duration": 297,
    "start_time": "2022-03-25T11:18:37.737Z"
   },
   {
    "duration": 697,
    "start_time": "2022-03-25T11:18:38.036Z"
   },
   {
    "duration": 151,
    "start_time": "2022-03-25T11:18:38.734Z"
   },
   {
    "duration": 20,
    "start_time": "2022-03-25T11:18:38.887Z"
   },
   {
    "duration": 139,
    "start_time": "2022-03-25T11:18:38.909Z"
   },
   {
    "duration": 767,
    "start_time": "2022-03-25T11:18:39.050Z"
   },
   {
    "duration": 549,
    "start_time": "2022-03-25T11:19:27.744Z"
   },
   {
    "duration": 650,
    "start_time": "2022-03-25T11:19:33.370Z"
   },
   {
    "duration": 956,
    "start_time": "2022-03-25T11:19:42.674Z"
   },
   {
    "duration": 17,
    "start_time": "2022-03-25T11:19:43.633Z"
   },
   {
    "duration": 99,
    "start_time": "2022-03-25T11:19:43.652Z"
   },
   {
    "duration": 5,
    "start_time": "2022-03-25T11:19:43.753Z"
   },
   {
    "duration": 30,
    "start_time": "2022-03-25T11:19:43.760Z"
   },
   {
    "duration": 45,
    "start_time": "2022-03-25T11:19:43.792Z"
   },
   {
    "duration": 8,
    "start_time": "2022-03-25T11:19:43.839Z"
   },
   {
    "duration": 34,
    "start_time": "2022-03-25T11:19:43.849Z"
   },
   {
    "duration": 73,
    "start_time": "2022-03-25T11:19:43.885Z"
   },
   {
    "duration": 10,
    "start_time": "2022-03-25T11:19:43.960Z"
   },
   {
    "duration": 13,
    "start_time": "2022-03-25T11:19:43.972Z"
   },
   {
    "duration": 47,
    "start_time": "2022-03-25T11:19:43.987Z"
   },
   {
    "duration": 10,
    "start_time": "2022-03-25T11:19:44.036Z"
   },
   {
    "duration": 17,
    "start_time": "2022-03-25T11:19:44.049Z"
   },
   {
    "duration": 14,
    "start_time": "2022-03-25T11:19:44.068Z"
   },
   {
    "duration": 14159,
    "start_time": "2022-03-25T11:19:44.084Z"
   },
   {
    "duration": 11,
    "start_time": "2022-03-25T11:19:58.245Z"
   },
   {
    "duration": 88,
    "start_time": "2022-03-25T11:19:58.258Z"
   },
   {
    "duration": 31,
    "start_time": "2022-03-25T11:19:58.348Z"
   },
   {
    "duration": 97,
    "start_time": "2022-03-25T11:19:58.381Z"
   },
   {
    "duration": 14,
    "start_time": "2022-03-25T11:19:58.479Z"
   },
   {
    "duration": 43,
    "start_time": "2022-03-25T11:19:58.494Z"
   },
   {
    "duration": 39,
    "start_time": "2022-03-25T11:19:58.538Z"
   },
   {
    "duration": 66,
    "start_time": "2022-03-25T11:19:58.579Z"
   },
   {
    "duration": 19,
    "start_time": "2022-03-25T11:19:58.647Z"
   },
   {
    "duration": 77,
    "start_time": "2022-03-25T11:19:58.669Z"
   },
   {
    "duration": 120,
    "start_time": "2022-03-25T11:19:58.748Z"
   },
   {
    "duration": 320,
    "start_time": "2022-03-25T11:19:58.870Z"
   },
   {
    "duration": 158,
    "start_time": "2022-03-25T11:19:59.192Z"
   },
   {
    "duration": 18,
    "start_time": "2022-03-25T11:19:59.352Z"
   },
   {
    "duration": 219,
    "start_time": "2022-03-25T11:19:59.372Z"
   },
   {
    "duration": 307,
    "start_time": "2022-03-25T11:19:59.593Z"
   },
   {
    "duration": 579,
    "start_time": "2022-03-25T11:19:59.902Z"
   },
   {
    "duration": 159,
    "start_time": "2022-03-25T11:20:00.483Z"
   },
   {
    "duration": 20,
    "start_time": "2022-03-25T11:20:00.644Z"
   },
   {
    "duration": 146,
    "start_time": "2022-03-25T11:20:00.666Z"
   },
   {
    "duration": 688,
    "start_time": "2022-03-25T11:20:00.814Z"
   },
   {
    "duration": 1360,
    "start_time": "2022-03-25T11:33:26.473Z"
   },
   {
    "duration": 17,
    "start_time": "2022-03-25T11:33:27.836Z"
   },
   {
    "duration": 105,
    "start_time": "2022-03-25T11:33:27.855Z"
   },
   {
    "duration": 16,
    "start_time": "2022-03-25T11:33:27.962Z"
   },
   {
    "duration": 28,
    "start_time": "2022-03-25T11:33:27.982Z"
   },
   {
    "duration": 58,
    "start_time": "2022-03-25T11:33:28.012Z"
   },
   {
    "duration": 8,
    "start_time": "2022-03-25T11:33:28.072Z"
   },
   {
    "duration": 92,
    "start_time": "2022-03-25T11:33:28.081Z"
   },
   {
    "duration": 58,
    "start_time": "2022-03-25T11:33:28.175Z"
   },
   {
    "duration": 13,
    "start_time": "2022-03-25T11:33:28.236Z"
   },
   {
    "duration": 9,
    "start_time": "2022-03-25T11:33:28.251Z"
   },
   {
    "duration": 21,
    "start_time": "2022-03-25T11:33:28.262Z"
   },
   {
    "duration": 48,
    "start_time": "2022-03-25T11:33:28.285Z"
   },
   {
    "duration": 16,
    "start_time": "2022-03-25T11:33:28.337Z"
   },
   {
    "duration": 11,
    "start_time": "2022-03-25T11:33:28.355Z"
   },
   {
    "duration": 13342,
    "start_time": "2022-03-25T11:33:28.368Z"
   },
   {
    "duration": 19,
    "start_time": "2022-03-25T11:33:41.712Z"
   },
   {
    "duration": 71,
    "start_time": "2022-03-25T11:33:41.733Z"
   },
   {
    "duration": 49,
    "start_time": "2022-03-25T11:33:41.805Z"
   },
   {
    "duration": 89,
    "start_time": "2022-03-25T11:33:41.856Z"
   },
   {
    "duration": 12,
    "start_time": "2022-03-25T11:33:41.947Z"
   },
   {
    "duration": 28,
    "start_time": "2022-03-25T11:33:41.960Z"
   },
   {
    "duration": 59,
    "start_time": "2022-03-25T11:33:41.990Z"
   },
   {
    "duration": 37,
    "start_time": "2022-03-25T11:33:42.051Z"
   },
   {
    "duration": 18,
    "start_time": "2022-03-25T11:33:42.090Z"
   },
   {
    "duration": 78,
    "start_time": "2022-03-25T11:33:42.109Z"
   },
   {
    "duration": 110,
    "start_time": "2022-03-25T11:33:42.189Z"
   },
   {
    "duration": 312,
    "start_time": "2022-03-25T11:33:42.301Z"
   },
   {
    "duration": 143,
    "start_time": "2022-03-25T11:33:42.615Z"
   },
   {
    "duration": 14,
    "start_time": "2022-03-25T11:33:42.760Z"
   },
   {
    "duration": 197,
    "start_time": "2022-03-25T11:33:42.775Z"
   },
   {
    "duration": 295,
    "start_time": "2022-03-25T11:33:42.974Z"
   },
   {
    "duration": 196,
    "start_time": "2022-03-25T11:33:43.271Z"
   },
   {
    "duration": 149,
    "start_time": "2022-03-25T11:33:43.469Z"
   },
   {
    "duration": 29,
    "start_time": "2022-03-25T11:33:43.620Z"
   },
   {
    "duration": 137,
    "start_time": "2022-03-25T11:33:43.651Z"
   },
   {
    "duration": 177,
    "start_time": "2022-03-25T11:33:43.790Z"
   },
   {
    "duration": 547,
    "start_time": "2022-03-25T11:34:28.483Z"
   },
   {
    "duration": 646,
    "start_time": "2022-03-25T11:34:33.306Z"
   },
   {
    "duration": 1292,
    "start_time": "2022-03-25T11:35:11.514Z"
   },
   {
    "duration": 27,
    "start_time": "2022-03-25T11:35:12.809Z"
   },
   {
    "duration": 94,
    "start_time": "2022-03-25T11:35:12.839Z"
   },
   {
    "duration": 5,
    "start_time": "2022-03-25T11:35:12.935Z"
   },
   {
    "duration": 26,
    "start_time": "2022-03-25T11:35:12.943Z"
   },
   {
    "duration": 29,
    "start_time": "2022-03-25T11:35:12.971Z"
   },
   {
    "duration": 33,
    "start_time": "2022-03-25T11:35:13.003Z"
   },
   {
    "duration": 42,
    "start_time": "2022-03-25T11:35:13.038Z"
   },
   {
    "duration": 72,
    "start_time": "2022-03-25T11:35:13.082Z"
   },
   {
    "duration": 13,
    "start_time": "2022-03-25T11:35:13.156Z"
   },
   {
    "duration": 9,
    "start_time": "2022-03-25T11:35:13.171Z"
   },
   {
    "duration": 55,
    "start_time": "2022-03-25T11:35:13.183Z"
   },
   {
    "duration": 12,
    "start_time": "2022-03-25T11:35:13.240Z"
   },
   {
    "duration": 18,
    "start_time": "2022-03-25T11:35:13.257Z"
   },
   {
    "duration": 14,
    "start_time": "2022-03-25T11:35:13.277Z"
   },
   {
    "duration": 14364,
    "start_time": "2022-03-25T11:35:13.332Z"
   },
   {
    "duration": 11,
    "start_time": "2022-03-25T11:35:27.698Z"
   },
   {
    "duration": 72,
    "start_time": "2022-03-25T11:35:27.711Z"
   },
   {
    "duration": 57,
    "start_time": "2022-03-25T11:35:27.784Z"
   },
   {
    "duration": 96,
    "start_time": "2022-03-25T11:35:27.842Z"
   },
   {
    "duration": 12,
    "start_time": "2022-03-25T11:35:27.940Z"
   },
   {
    "duration": 25,
    "start_time": "2022-03-25T11:35:27.954Z"
   },
   {
    "duration": 79,
    "start_time": "2022-03-25T11:35:27.981Z"
   },
   {
    "duration": 71,
    "start_time": "2022-03-25T11:35:28.062Z"
   },
   {
    "duration": 22,
    "start_time": "2022-03-25T11:35:28.135Z"
   },
   {
    "duration": 82,
    "start_time": "2022-03-25T11:35:28.159Z"
   },
   {
    "duration": 105,
    "start_time": "2022-03-25T11:35:28.243Z"
   },
   {
    "duration": 315,
    "start_time": "2022-03-25T11:35:28.350Z"
   },
   {
    "duration": 143,
    "start_time": "2022-03-25T11:35:28.666Z"
   },
   {
    "duration": 27,
    "start_time": "2022-03-25T11:35:28.811Z"
   },
   {
    "duration": 196,
    "start_time": "2022-03-25T11:35:28.840Z"
   },
   {
    "duration": 312,
    "start_time": "2022-03-25T11:35:29.038Z"
   },
   {
    "duration": 556,
    "start_time": "2022-03-25T11:35:29.352Z"
   },
   {
    "duration": 156,
    "start_time": "2022-03-25T11:35:29.910Z"
   },
   {
    "duration": 20,
    "start_time": "2022-03-25T11:35:30.068Z"
   },
   {
    "duration": 148,
    "start_time": "2022-03-25T11:35:30.090Z"
   },
   {
    "duration": 640,
    "start_time": "2022-03-25T11:35:30.240Z"
   },
   {
    "duration": 166,
    "start_time": "2022-03-25T11:36:14.216Z"
   },
   {
    "duration": 4488,
    "start_time": "2022-03-25T11:36:33.216Z"
   },
   {
    "duration": 1875,
    "start_time": "2022-03-25T11:36:47.623Z"
   },
   {
    "duration": 849,
    "start_time": "2022-03-25T11:36:58.959Z"
   },
   {
    "duration": 1028,
    "start_time": "2022-03-25T11:37:10.255Z"
   },
   {
    "duration": 953,
    "start_time": "2022-03-25T11:37:18.159Z"
   },
   {
    "duration": 18,
    "start_time": "2022-03-25T11:37:19.114Z"
   },
   {
    "duration": 93,
    "start_time": "2022-03-25T11:37:19.135Z"
   },
   {
    "duration": 5,
    "start_time": "2022-03-25T11:37:19.230Z"
   },
   {
    "duration": 43,
    "start_time": "2022-03-25T11:37:19.237Z"
   },
   {
    "duration": 33,
    "start_time": "2022-03-25T11:37:19.282Z"
   },
   {
    "duration": 14,
    "start_time": "2022-03-25T11:37:19.316Z"
   },
   {
    "duration": 42,
    "start_time": "2022-03-25T11:37:19.332Z"
   },
   {
    "duration": 65,
    "start_time": "2022-03-25T11:37:19.376Z"
   },
   {
    "duration": 9,
    "start_time": "2022-03-25T11:37:19.443Z"
   },
   {
    "duration": 15,
    "start_time": "2022-03-25T11:37:19.454Z"
   },
   {
    "duration": 37,
    "start_time": "2022-03-25T11:37:19.470Z"
   },
   {
    "duration": 24,
    "start_time": "2022-03-25T11:37:19.509Z"
   },
   {
    "duration": 18,
    "start_time": "2022-03-25T11:37:19.537Z"
   },
   {
    "duration": 11,
    "start_time": "2022-03-25T11:37:19.557Z"
   },
   {
    "duration": 13653,
    "start_time": "2022-03-25T11:37:19.570Z"
   },
   {
    "duration": 15,
    "start_time": "2022-03-25T11:37:33.225Z"
   },
   {
    "duration": 67,
    "start_time": "2022-03-25T11:37:33.242Z"
   },
   {
    "duration": 49,
    "start_time": "2022-03-25T11:37:33.310Z"
   },
   {
    "duration": 99,
    "start_time": "2022-03-25T11:37:33.361Z"
   },
   {
    "duration": 12,
    "start_time": "2022-03-25T11:37:33.462Z"
   },
   {
    "duration": 31,
    "start_time": "2022-03-25T11:37:33.476Z"
   },
   {
    "duration": 63,
    "start_time": "2022-03-25T11:37:33.509Z"
   },
   {
    "duration": 38,
    "start_time": "2022-03-25T11:37:33.573Z"
   },
   {
    "duration": 30,
    "start_time": "2022-03-25T11:37:33.613Z"
   },
   {
    "duration": 62,
    "start_time": "2022-03-25T11:37:33.645Z"
   },
   {
    "duration": 109,
    "start_time": "2022-03-25T11:37:33.709Z"
   },
   {
    "duration": 323,
    "start_time": "2022-03-25T11:37:33.819Z"
   },
   {
    "duration": 140,
    "start_time": "2022-03-25T11:37:34.145Z"
   },
   {
    "duration": 15,
    "start_time": "2022-03-25T11:37:34.286Z"
   },
   {
    "duration": 195,
    "start_time": "2022-03-25T11:37:34.303Z"
   },
   {
    "duration": 303,
    "start_time": "2022-03-25T11:37:34.501Z"
   },
   {
    "duration": 834,
    "start_time": "2022-03-25T11:37:34.806Z"
   },
   {
    "duration": 147,
    "start_time": "2022-03-25T11:37:35.642Z"
   },
   {
    "duration": 20,
    "start_time": "2022-03-25T11:37:35.790Z"
   },
   {
    "duration": 142,
    "start_time": "2022-03-25T11:37:35.812Z"
   },
   {
    "duration": 889,
    "start_time": "2022-03-25T11:37:35.956Z"
   },
   {
    "duration": 1115,
    "start_time": "2022-03-25T11:39:45.482Z"
   },
   {
    "duration": 17,
    "start_time": "2022-03-25T11:39:46.599Z"
   },
   {
    "duration": 88,
    "start_time": "2022-03-25T11:39:46.617Z"
   },
   {
    "duration": 5,
    "start_time": "2022-03-25T11:39:46.707Z"
   },
   {
    "duration": 36,
    "start_time": "2022-03-25T11:39:46.714Z"
   },
   {
    "duration": 29,
    "start_time": "2022-03-25T11:39:46.752Z"
   },
   {
    "duration": 8,
    "start_time": "2022-03-25T11:39:46.784Z"
   },
   {
    "duration": 67,
    "start_time": "2022-03-25T11:39:46.794Z"
   },
   {
    "duration": 99,
    "start_time": "2022-03-25T11:39:46.863Z"
   },
   {
    "duration": 12,
    "start_time": "2022-03-25T11:39:46.966Z"
   },
   {
    "duration": 15,
    "start_time": "2022-03-25T11:39:46.980Z"
   },
   {
    "duration": 41,
    "start_time": "2022-03-25T11:39:46.997Z"
   },
   {
    "duration": 10,
    "start_time": "2022-03-25T11:39:47.040Z"
   },
   {
    "duration": 18,
    "start_time": "2022-03-25T11:39:47.053Z"
   },
   {
    "duration": 12,
    "start_time": "2022-03-25T11:39:47.073Z"
   },
   {
    "duration": 13961,
    "start_time": "2022-03-25T11:39:47.087Z"
   },
   {
    "duration": 14,
    "start_time": "2022-03-25T11:40:01.050Z"
   },
   {
    "duration": 91,
    "start_time": "2022-03-25T11:40:01.067Z"
   },
   {
    "duration": 34,
    "start_time": "2022-03-25T11:40:01.160Z"
   },
   {
    "duration": 138,
    "start_time": "2022-03-25T11:40:01.196Z"
   },
   {
    "duration": 14,
    "start_time": "2022-03-25T11:40:01.336Z"
   },
   {
    "duration": 34,
    "start_time": "2022-03-25T11:40:01.352Z"
   },
   {
    "duration": 61,
    "start_time": "2022-03-25T11:40:01.388Z"
   },
   {
    "duration": 40,
    "start_time": "2022-03-25T11:40:01.451Z"
   },
   {
    "duration": 42,
    "start_time": "2022-03-25T11:40:01.492Z"
   },
   {
    "duration": 61,
    "start_time": "2022-03-25T11:40:01.536Z"
   },
   {
    "duration": 138,
    "start_time": "2022-03-25T11:40:01.599Z"
   },
   {
    "duration": 375,
    "start_time": "2022-03-25T11:40:01.742Z"
   },
   {
    "duration": 147,
    "start_time": "2022-03-25T11:40:02.120Z"
   },
   {
    "duration": 15,
    "start_time": "2022-03-25T11:40:02.269Z"
   },
   {
    "duration": 212,
    "start_time": "2022-03-25T11:40:02.286Z"
   },
   {
    "duration": 311,
    "start_time": "2022-03-25T11:40:02.500Z"
   },
   {
    "duration": 848,
    "start_time": "2022-03-25T11:40:02.813Z"
   },
   {
    "duration": 149,
    "start_time": "2022-03-25T11:40:03.663Z"
   },
   {
    "duration": 29,
    "start_time": "2022-03-25T11:40:03.814Z"
   },
   {
    "duration": 137,
    "start_time": "2022-03-25T11:40:03.846Z"
   },
   {
    "duration": 938,
    "start_time": "2022-03-25T11:40:03.985Z"
   },
   {
    "duration": 966,
    "start_time": "2022-03-25T11:40:46.904Z"
   },
   {
    "duration": 835,
    "start_time": "2022-03-25T11:40:54.394Z"
   },
   {
    "duration": 979,
    "start_time": "2022-03-25T11:42:21.603Z"
   },
   {
    "duration": 224,
    "start_time": "2022-03-25T11:42:38.809Z"
   },
   {
    "duration": 173,
    "start_time": "2022-03-25T11:42:48.329Z"
   },
   {
    "duration": 185,
    "start_time": "2022-03-25T11:42:56.328Z"
   },
   {
    "duration": 198,
    "start_time": "2022-03-25T11:43:01.480Z"
   },
   {
    "duration": 195,
    "start_time": "2022-03-25T11:43:09.928Z"
   },
   {
    "duration": 138,
    "start_time": "2022-03-25T11:43:42.017Z"
   },
   {
    "duration": 16,
    "start_time": "2022-03-25T11:45:12.961Z"
   },
   {
    "duration": 7,
    "start_time": "2022-03-25T11:45:19.880Z"
   },
   {
    "duration": 115,
    "start_time": "2022-03-25T11:45:27.890Z"
   },
   {
    "duration": 192,
    "start_time": "2022-03-25T11:45:45.096Z"
   },
   {
    "duration": 930,
    "start_time": "2022-03-25T11:46:35.950Z"
   },
   {
    "duration": 20,
    "start_time": "2022-03-25T11:46:36.882Z"
   },
   {
    "duration": 102,
    "start_time": "2022-03-25T11:46:36.904Z"
   },
   {
    "duration": 6,
    "start_time": "2022-03-25T11:46:37.008Z"
   },
   {
    "duration": 46,
    "start_time": "2022-03-25T11:46:37.016Z"
   },
   {
    "duration": 28,
    "start_time": "2022-03-25T11:46:37.064Z"
   },
   {
    "duration": 7,
    "start_time": "2022-03-25T11:46:37.094Z"
   },
   {
    "duration": 47,
    "start_time": "2022-03-25T11:46:37.103Z"
   },
   {
    "duration": 54,
    "start_time": "2022-03-25T11:46:37.153Z"
   },
   {
    "duration": 29,
    "start_time": "2022-03-25T11:46:37.209Z"
   },
   {
    "duration": 8,
    "start_time": "2022-03-25T11:46:37.240Z"
   },
   {
    "duration": 25,
    "start_time": "2022-03-25T11:46:37.250Z"
   },
   {
    "duration": 9,
    "start_time": "2022-03-25T11:46:37.277Z"
   },
   {
    "duration": 55,
    "start_time": "2022-03-25T11:46:37.290Z"
   },
   {
    "duration": 11,
    "start_time": "2022-03-25T11:46:37.347Z"
   },
   {
    "duration": 13768,
    "start_time": "2022-03-25T11:46:37.359Z"
   },
   {
    "duration": 11,
    "start_time": "2022-03-25T11:46:51.129Z"
   },
   {
    "duration": 68,
    "start_time": "2022-03-25T11:46:51.142Z"
   },
   {
    "duration": 49,
    "start_time": "2022-03-25T11:46:51.212Z"
   },
   {
    "duration": 92,
    "start_time": "2022-03-25T11:46:51.263Z"
   },
   {
    "duration": 14,
    "start_time": "2022-03-25T11:46:51.357Z"
   },
   {
    "duration": 25,
    "start_time": "2022-03-25T11:46:51.373Z"
   },
   {
    "duration": 62,
    "start_time": "2022-03-25T11:46:51.400Z"
   },
   {
    "duration": 38,
    "start_time": "2022-03-25T11:46:51.464Z"
   },
   {
    "duration": 41,
    "start_time": "2022-03-25T11:46:51.504Z"
   },
   {
    "duration": 57,
    "start_time": "2022-03-25T11:46:51.547Z"
   },
   {
    "duration": 117,
    "start_time": "2022-03-25T11:46:51.606Z"
   },
   {
    "duration": 309,
    "start_time": "2022-03-25T11:46:51.731Z"
   },
   {
    "duration": 145,
    "start_time": "2022-03-25T11:46:52.042Z"
   },
   {
    "duration": 14,
    "start_time": "2022-03-25T11:46:52.189Z"
   },
   {
    "duration": 194,
    "start_time": "2022-03-25T11:46:52.205Z"
   },
   {
    "duration": 305,
    "start_time": "2022-03-25T11:46:52.401Z"
   },
   {
    "duration": 819,
    "start_time": "2022-03-25T11:46:52.708Z"
   },
   {
    "duration": 147,
    "start_time": "2022-03-25T11:46:53.529Z"
   },
   {
    "duration": 20,
    "start_time": "2022-03-25T11:46:53.678Z"
   },
   {
    "duration": 155,
    "start_time": "2022-03-25T11:46:53.700Z"
   },
   {
    "duration": 908,
    "start_time": "2022-03-25T11:46:53.857Z"
   },
   {
    "duration": 209,
    "start_time": "2022-03-25T11:46:54.768Z"
   },
   {
    "duration": 9,
    "start_time": "2022-03-25T11:46:54.980Z"
   },
   {
    "duration": 212,
    "start_time": "2022-03-25T11:46:54.992Z"
   },
   {
    "duration": 195,
    "start_time": "2022-03-25T11:56:08.465Z"
   },
   {
    "duration": 245,
    "start_time": "2022-03-25T11:56:16.961Z"
   },
   {
    "duration": 463,
    "start_time": "2022-03-25T11:56:48.872Z"
   },
   {
    "duration": 252,
    "start_time": "2022-03-25T11:56:57.644Z"
   },
   {
    "duration": 272,
    "start_time": "2022-03-25T11:57:07.200Z"
   },
   {
    "duration": 205,
    "start_time": "2022-03-25T11:57:13.049Z"
   },
   {
    "duration": 238,
    "start_time": "2022-03-25T11:57:18.235Z"
   },
   {
    "duration": 1461,
    "start_time": "2022-03-25T11:57:29.456Z"
   },
   {
    "duration": 17,
    "start_time": "2022-03-25T11:57:30.919Z"
   },
   {
    "duration": 88,
    "start_time": "2022-03-25T11:57:30.938Z"
   },
   {
    "duration": 6,
    "start_time": "2022-03-25T11:57:31.033Z"
   },
   {
    "duration": 51,
    "start_time": "2022-03-25T11:57:31.042Z"
   },
   {
    "duration": 51,
    "start_time": "2022-03-25T11:57:31.096Z"
   },
   {
    "duration": 10,
    "start_time": "2022-03-25T11:57:31.150Z"
   },
   {
    "duration": 49,
    "start_time": "2022-03-25T11:57:31.162Z"
   },
   {
    "duration": 76,
    "start_time": "2022-03-25T11:57:31.213Z"
   },
   {
    "duration": 11,
    "start_time": "2022-03-25T11:57:31.291Z"
   },
   {
    "duration": 12,
    "start_time": "2022-03-25T11:57:31.331Z"
   },
   {
    "duration": 35,
    "start_time": "2022-03-25T11:57:31.345Z"
   },
   {
    "duration": 10,
    "start_time": "2022-03-25T11:57:31.382Z"
   },
   {
    "duration": 48,
    "start_time": "2022-03-25T11:57:31.396Z"
   },
   {
    "duration": 12,
    "start_time": "2022-03-25T11:57:31.446Z"
   },
   {
    "duration": 13589,
    "start_time": "2022-03-25T11:57:31.460Z"
   },
   {
    "duration": 13,
    "start_time": "2022-03-25T11:57:45.052Z"
   },
   {
    "duration": 92,
    "start_time": "2022-03-25T11:57:45.067Z"
   },
   {
    "duration": 33,
    "start_time": "2022-03-25T11:57:45.162Z"
   },
   {
    "duration": 99,
    "start_time": "2022-03-25T11:57:45.197Z"
   },
   {
    "duration": 14,
    "start_time": "2022-03-25T11:57:45.299Z"
   },
   {
    "duration": 25,
    "start_time": "2022-03-25T11:57:45.331Z"
   },
   {
    "duration": 38,
    "start_time": "2022-03-25T11:57:45.358Z"
   },
   {
    "duration": 57,
    "start_time": "2022-03-25T11:57:45.398Z"
   },
   {
    "duration": 20,
    "start_time": "2022-03-25T11:57:45.457Z"
   },
   {
    "duration": 84,
    "start_time": "2022-03-25T11:57:45.479Z"
   },
   {
    "duration": 109,
    "start_time": "2022-03-25T11:57:45.565Z"
   },
   {
    "duration": 318,
    "start_time": "2022-03-25T11:57:45.675Z"
   },
   {
    "duration": 144,
    "start_time": "2022-03-25T11:57:45.995Z"
   },
   {
    "duration": 15,
    "start_time": "2022-03-25T11:57:46.141Z"
   },
   {
    "duration": 376,
    "start_time": "2022-03-25T11:57:46.158Z"
   },
   {
    "duration": 852,
    "start_time": "2022-03-25T11:57:46.536Z"
   },
   {
    "duration": 143,
    "start_time": "2022-03-25T11:57:47.390Z"
   },
   {
    "duration": 21,
    "start_time": "2022-03-25T11:57:47.535Z"
   },
   {
    "duration": 910,
    "start_time": "2022-03-25T11:57:47.558Z"
   },
   {
    "duration": 264,
    "start_time": "2022-03-25T11:57:48.470Z"
   },
   {
    "duration": 10,
    "start_time": "2022-03-25T11:57:48.736Z"
   },
   {
    "duration": 209,
    "start_time": "2022-03-25T11:57:48.747Z"
   },
   {
    "duration": 245,
    "start_time": "2022-03-25T11:57:48.958Z"
   },
   {
    "duration": 211,
    "start_time": "2022-03-25T11:58:01.085Z"
   },
   {
    "duration": 136,
    "start_time": "2022-03-25T11:58:56.310Z"
   },
   {
    "duration": 143,
    "start_time": "2022-03-25T11:59:26.493Z"
   },
   {
    "duration": 149,
    "start_time": "2022-03-25T11:59:33.132Z"
   },
   {
    "duration": 1519,
    "start_time": "2022-03-25T12:00:35.084Z"
   },
   {
    "duration": 18,
    "start_time": "2022-03-25T12:00:41.276Z"
   },
   {
    "duration": 236,
    "start_time": "2022-03-25T12:00:51.724Z"
   },
   {
    "duration": 220,
    "start_time": "2022-03-25T12:01:22.880Z"
   },
   {
    "duration": 989,
    "start_time": "2022-03-25T12:01:46.713Z"
   },
   {
    "duration": 18,
    "start_time": "2022-03-25T12:01:47.704Z"
   },
   {
    "duration": 88,
    "start_time": "2022-03-25T12:01:47.724Z"
   },
   {
    "duration": 20,
    "start_time": "2022-03-25T12:01:47.813Z"
   },
   {
    "duration": 21,
    "start_time": "2022-03-25T12:01:47.835Z"
   },
   {
    "duration": 28,
    "start_time": "2022-03-25T12:01:47.858Z"
   },
   {
    "duration": 45,
    "start_time": "2022-03-25T12:01:47.888Z"
   },
   {
    "duration": 32,
    "start_time": "2022-03-25T12:01:47.935Z"
   },
   {
    "duration": 86,
    "start_time": "2022-03-25T12:01:47.969Z"
   },
   {
    "duration": 10,
    "start_time": "2022-03-25T12:01:48.057Z"
   },
   {
    "duration": 38,
    "start_time": "2022-03-25T12:01:48.069Z"
   },
   {
    "duration": 26,
    "start_time": "2022-03-25T12:01:48.109Z"
   },
   {
    "duration": 8,
    "start_time": "2022-03-25T12:01:48.137Z"
   },
   {
    "duration": 17,
    "start_time": "2022-03-25T12:01:48.149Z"
   },
   {
    "duration": 16,
    "start_time": "2022-03-25T12:01:48.168Z"
   },
   {
    "duration": 13992,
    "start_time": "2022-03-25T12:01:48.186Z"
   },
   {
    "duration": 12,
    "start_time": "2022-03-25T12:02:02.180Z"
   },
   {
    "duration": 97,
    "start_time": "2022-03-25T12:02:02.194Z"
   },
   {
    "duration": 45,
    "start_time": "2022-03-25T12:02:02.293Z"
   },
   {
    "duration": 111,
    "start_time": "2022-03-25T12:02:02.341Z"
   },
   {
    "duration": 16,
    "start_time": "2022-03-25T12:02:02.454Z"
   },
   {
    "duration": 30,
    "start_time": "2022-03-25T12:02:02.471Z"
   },
   {
    "duration": 72,
    "start_time": "2022-03-25T12:02:02.503Z"
   },
   {
    "duration": 44,
    "start_time": "2022-03-25T12:02:02.577Z"
   },
   {
    "duration": 30,
    "start_time": "2022-03-25T12:02:02.633Z"
   },
   {
    "duration": 97,
    "start_time": "2022-03-25T12:02:02.665Z"
   },
   {
    "duration": 116,
    "start_time": "2022-03-25T12:02:02.764Z"
   },
   {
    "duration": 367,
    "start_time": "2022-03-25T12:02:02.883Z"
   },
   {
    "duration": 159,
    "start_time": "2022-03-25T12:02:03.252Z"
   },
   {
    "duration": 31,
    "start_time": "2022-03-25T12:02:03.413Z"
   },
   {
    "duration": 388,
    "start_time": "2022-03-25T12:02:03.449Z"
   },
   {
    "duration": 912,
    "start_time": "2022-03-25T12:02:03.839Z"
   },
   {
    "duration": 168,
    "start_time": "2022-03-25T12:02:04.753Z"
   },
   {
    "duration": 31,
    "start_time": "2022-03-25T12:02:04.922Z"
   },
   {
    "duration": 1019,
    "start_time": "2022-03-25T12:02:04.956Z"
   },
   {
    "duration": 227,
    "start_time": "2022-03-25T12:02:05.977Z"
   },
   {
    "duration": 10,
    "start_time": "2022-03-25T12:02:06.206Z"
   },
   {
    "duration": 245,
    "start_time": "2022-03-25T12:02:06.218Z"
   },
   {
    "duration": 286,
    "start_time": "2022-03-25T12:02:06.465Z"
   },
   {
    "duration": 164,
    "start_time": "2022-03-25T12:02:06.753Z"
   },
   {
    "duration": 31,
    "start_time": "2022-03-25T12:02:06.921Z"
   },
   {
    "duration": 263,
    "start_time": "2022-03-25T12:02:06.954Z"
   },
   {
    "duration": 6,
    "start_time": "2022-03-25T12:14:04.449Z"
   },
   {
    "duration": 8,
    "start_time": "2022-03-25T12:14:25.170Z"
   },
   {
    "duration": 247,
    "start_time": "2022-03-25T12:15:26.312Z"
   },
   {
    "duration": 151,
    "start_time": "2022-03-25T12:16:20.310Z"
   },
   {
    "duration": 15,
    "start_time": "2022-03-25T12:18:09.193Z"
   },
   {
    "duration": 339,
    "start_time": "2022-03-25T12:18:23.521Z"
   },
   {
    "duration": 12,
    "start_time": "2022-03-25T12:18:34.470Z"
   },
   {
    "duration": 216,
    "start_time": "2022-03-25T12:18:36.906Z"
   },
   {
    "duration": 1010,
    "start_time": "2022-03-25T12:19:02.437Z"
   },
   {
    "duration": 18,
    "start_time": "2022-03-25T12:19:03.449Z"
   },
   {
    "duration": 98,
    "start_time": "2022-03-25T12:19:03.469Z"
   },
   {
    "duration": 5,
    "start_time": "2022-03-25T12:19:03.568Z"
   },
   {
    "duration": 36,
    "start_time": "2022-03-25T12:19:03.576Z"
   },
   {
    "duration": 37,
    "start_time": "2022-03-25T12:19:03.614Z"
   },
   {
    "duration": 8,
    "start_time": "2022-03-25T12:19:03.653Z"
   },
   {
    "duration": 43,
    "start_time": "2022-03-25T12:19:03.662Z"
   },
   {
    "duration": 80,
    "start_time": "2022-03-25T12:19:03.707Z"
   },
   {
    "duration": 10,
    "start_time": "2022-03-25T12:19:03.789Z"
   },
   {
    "duration": 30,
    "start_time": "2022-03-25T12:19:03.801Z"
   },
   {
    "duration": 48,
    "start_time": "2022-03-25T12:19:03.833Z"
   },
   {
    "duration": 28,
    "start_time": "2022-03-25T12:19:03.883Z"
   },
   {
    "duration": 22,
    "start_time": "2022-03-25T12:19:03.915Z"
   },
   {
    "duration": 21,
    "start_time": "2022-03-25T12:19:03.939Z"
   },
   {
    "duration": 13654,
    "start_time": "2022-03-25T12:19:03.962Z"
   },
   {
    "duration": 16,
    "start_time": "2022-03-25T12:19:17.618Z"
   },
   {
    "duration": 69,
    "start_time": "2022-03-25T12:19:17.636Z"
   },
   {
    "duration": 52,
    "start_time": "2022-03-25T12:19:17.706Z"
   },
   {
    "duration": 91,
    "start_time": "2022-03-25T12:19:17.760Z"
   },
   {
    "duration": 14,
    "start_time": "2022-03-25T12:19:17.852Z"
   },
   {
    "duration": 25,
    "start_time": "2022-03-25T12:19:17.868Z"
   },
   {
    "duration": 64,
    "start_time": "2022-03-25T12:19:17.894Z"
   },
   {
    "duration": 39,
    "start_time": "2022-03-25T12:19:17.960Z"
   },
   {
    "duration": 37,
    "start_time": "2022-03-25T12:19:18.001Z"
   },
   {
    "duration": 57,
    "start_time": "2022-03-25T12:19:18.040Z"
   },
   {
    "duration": 118,
    "start_time": "2022-03-25T12:19:18.099Z"
   },
   {
    "duration": 323,
    "start_time": "2022-03-25T12:19:18.219Z"
   },
   {
    "duration": 147,
    "start_time": "2022-03-25T12:19:18.544Z"
   },
   {
    "duration": 14,
    "start_time": "2022-03-25T12:19:18.693Z"
   },
   {
    "duration": 363,
    "start_time": "2022-03-25T12:19:18.709Z"
   },
   {
    "duration": 812,
    "start_time": "2022-03-25T12:19:19.074Z"
   },
   {
    "duration": 155,
    "start_time": "2022-03-25T12:19:19.888Z"
   },
   {
    "duration": 20,
    "start_time": "2022-03-25T12:19:20.045Z"
   },
   {
    "duration": 916,
    "start_time": "2022-03-25T12:19:20.067Z"
   },
   {
    "duration": 219,
    "start_time": "2022-03-25T12:19:20.985Z"
   },
   {
    "duration": 9,
    "start_time": "2022-03-25T12:19:21.206Z"
   },
   {
    "duration": 216,
    "start_time": "2022-03-25T12:19:21.217Z"
   },
   {
    "duration": 280,
    "start_time": "2022-03-25T12:19:21.435Z"
   },
   {
    "duration": 155,
    "start_time": "2022-03-25T12:19:21.718Z"
   },
   {
    "duration": 18,
    "start_time": "2022-03-25T12:19:21.879Z"
   },
   {
    "duration": 251,
    "start_time": "2022-03-25T12:19:21.899Z"
   },
   {
    "duration": 9,
    "start_time": "2022-03-25T12:19:22.152Z"
   },
   {
    "duration": 294,
    "start_time": "2022-03-25T12:19:22.163Z"
   },
   {
    "duration": 155,
    "start_time": "2022-03-25T12:19:22.459Z"
   },
   {
    "duration": 24,
    "start_time": "2022-03-25T12:19:22.616Z"
   },
   {
    "duration": 344,
    "start_time": "2022-03-25T12:19:22.643Z"
   },
   {
    "duration": 12,
    "start_time": "2022-03-25T12:21:24.626Z"
   },
   {
    "duration": 126,
    "start_time": "2022-03-25T12:21:34.896Z"
   },
   {
    "duration": 11,
    "start_time": "2022-03-25T12:21:43.663Z"
   },
   {
    "duration": 136,
    "start_time": "2022-03-25T12:21:44.721Z"
   },
   {
    "duration": 224,
    "start_time": "2022-03-25T12:21:50.235Z"
   },
   {
    "duration": 962,
    "start_time": "2022-03-25T12:36:46.754Z"
   },
   {
    "duration": 228,
    "start_time": "2022-03-25T12:37:28.217Z"
   },
   {
    "duration": 364,
    "start_time": "2022-03-25T12:40:22.738Z"
   },
   {
    "duration": 342,
    "start_time": "2022-03-25T12:40:44.802Z"
   },
   {
    "duration": 175,
    "start_time": "2022-03-25T12:41:28.274Z"
   },
   {
    "duration": 385,
    "start_time": "2022-03-25T12:41:33.681Z"
   },
   {
    "duration": 411,
    "start_time": "2022-03-25T12:41:41.025Z"
   },
   {
    "duration": 366,
    "start_time": "2022-03-25T12:41:46.057Z"
   },
   {
    "duration": 422,
    "start_time": "2022-03-25T12:41:52.897Z"
   },
   {
    "duration": 339,
    "start_time": "2022-03-25T12:42:12.825Z"
   },
   {
    "duration": 259,
    "start_time": "2022-03-25T12:42:33.674Z"
   },
   {
    "duration": 1001,
    "start_time": "2022-03-25T12:42:53.063Z"
   },
   {
    "duration": 17,
    "start_time": "2022-03-25T12:42:54.067Z"
   },
   {
    "duration": 83,
    "start_time": "2022-03-25T12:42:54.086Z"
   },
   {
    "duration": 4,
    "start_time": "2022-03-25T12:42:54.172Z"
   },
   {
    "duration": 33,
    "start_time": "2022-03-25T12:42:54.179Z"
   },
   {
    "duration": 36,
    "start_time": "2022-03-25T12:42:54.214Z"
   },
   {
    "duration": 6,
    "start_time": "2022-03-25T12:42:54.252Z"
   },
   {
    "duration": 42,
    "start_time": "2022-03-25T12:42:54.260Z"
   },
   {
    "duration": 64,
    "start_time": "2022-03-25T12:42:54.303Z"
   },
   {
    "duration": 9,
    "start_time": "2022-03-25T12:42:54.369Z"
   },
   {
    "duration": 36,
    "start_time": "2022-03-25T12:42:54.380Z"
   },
   {
    "duration": 32,
    "start_time": "2022-03-25T12:42:54.417Z"
   },
   {
    "duration": 13,
    "start_time": "2022-03-25T12:42:54.451Z"
   },
   {
    "duration": 15,
    "start_time": "2022-03-25T12:42:54.466Z"
   },
   {
    "duration": 29,
    "start_time": "2022-03-25T12:42:54.483Z"
   },
   {
    "duration": 12499,
    "start_time": "2022-03-25T12:42:54.513Z"
   },
   {
    "duration": 18,
    "start_time": "2022-03-25T12:43:07.014Z"
   },
   {
    "duration": 74,
    "start_time": "2022-03-25T12:43:07.035Z"
   },
   {
    "duration": 50,
    "start_time": "2022-03-25T12:43:07.111Z"
   },
   {
    "duration": 94,
    "start_time": "2022-03-25T12:43:07.163Z"
   },
   {
    "duration": 12,
    "start_time": "2022-03-25T12:43:07.259Z"
   },
   {
    "duration": 40,
    "start_time": "2022-03-25T12:43:07.272Z"
   },
   {
    "duration": 43,
    "start_time": "2022-03-25T12:43:07.314Z"
   },
   {
    "duration": 50,
    "start_time": "2022-03-25T12:43:07.358Z"
   },
   {
    "duration": 21,
    "start_time": "2022-03-25T12:43:07.410Z"
   },
   {
    "duration": 56,
    "start_time": "2022-03-25T12:43:07.433Z"
   },
   {
    "duration": 109,
    "start_time": "2022-03-25T12:43:07.491Z"
   },
   {
    "duration": 319,
    "start_time": "2022-03-25T12:43:07.604Z"
   },
   {
    "duration": 137,
    "start_time": "2022-03-25T12:43:07.925Z"
   },
   {
    "duration": 14,
    "start_time": "2022-03-25T12:43:08.063Z"
   },
   {
    "duration": 344,
    "start_time": "2022-03-25T12:43:08.079Z"
   },
   {
    "duration": 804,
    "start_time": "2022-03-25T12:43:08.431Z"
   },
   {
    "duration": 143,
    "start_time": "2022-03-25T12:43:09.237Z"
   },
   {
    "duration": 20,
    "start_time": "2022-03-25T12:43:09.381Z"
   },
   {
    "duration": 890,
    "start_time": "2022-03-25T12:43:09.402Z"
   },
   {
    "duration": 192,
    "start_time": "2022-03-25T12:43:10.294Z"
   },
   {
    "duration": 8,
    "start_time": "2022-03-25T12:43:10.488Z"
   },
   {
    "duration": 191,
    "start_time": "2022-03-25T12:43:10.498Z"
   },
   {
    "duration": 237,
    "start_time": "2022-03-25T12:43:10.691Z"
   },
   {
    "duration": 142,
    "start_time": "2022-03-25T12:43:10.931Z"
   },
   {
    "duration": 16,
    "start_time": "2022-03-25T12:43:11.074Z"
   },
   {
    "duration": 231,
    "start_time": "2022-03-25T12:43:11.092Z"
   },
   {
    "duration": 11,
    "start_time": "2022-03-25T12:43:11.325Z"
   },
   {
    "duration": 240,
    "start_time": "2022-03-25T12:43:11.337Z"
   },
   {
    "duration": 168,
    "start_time": "2022-03-25T12:43:11.579Z"
   },
   {
    "duration": 15,
    "start_time": "2022-03-25T12:43:11.748Z"
   },
   {
    "duration": 250,
    "start_time": "2022-03-25T12:43:11.765Z"
   },
   {
    "duration": 232,
    "start_time": "2022-03-25T12:43:12.017Z"
   },
   {
    "duration": 263,
    "start_time": "2022-03-25T12:43:12.250Z"
   },
   {
    "duration": 307,
    "start_time": "2022-03-25T12:43:59.801Z"
   },
   {
    "duration": 304,
    "start_time": "2022-03-25T12:44:09.464Z"
   },
   {
    "duration": 325,
    "start_time": "2022-03-25T12:44:44.681Z"
   },
   {
    "duration": 306,
    "start_time": "2022-03-25T12:44:54.384Z"
   },
   {
    "duration": 286,
    "start_time": "2022-03-25T12:45:01.280Z"
   },
   {
    "duration": 276,
    "start_time": "2022-03-25T12:45:11.768Z"
   },
   {
    "duration": 290,
    "start_time": "2022-03-25T12:47:23.317Z"
   },
   {
    "duration": 287,
    "start_time": "2022-03-25T12:47:30.061Z"
   },
   {
    "duration": 382,
    "start_time": "2022-03-25T12:48:43.475Z"
   },
   {
    "duration": 299,
    "start_time": "2022-03-25T12:48:52.676Z"
   },
   {
    "duration": 303,
    "start_time": "2022-03-25T12:49:06.787Z"
   },
   {
    "duration": 276,
    "start_time": "2022-03-25T12:49:22.439Z"
   },
   {
    "duration": 220,
    "start_time": "2022-03-25T12:52:21.650Z"
   },
   {
    "duration": 218,
    "start_time": "2022-03-25T12:52:38.796Z"
   },
   {
    "duration": 194,
    "start_time": "2022-03-25T12:53:28.703Z"
   },
   {
    "duration": 204,
    "start_time": "2022-03-25T12:55:54.230Z"
   },
   {
    "duration": 184,
    "start_time": "2022-03-25T12:56:09.231Z"
   },
   {
    "duration": 176,
    "start_time": "2022-03-25T12:56:17.629Z"
   },
   {
    "duration": 177,
    "start_time": "2022-03-25T12:56:24.669Z"
   },
   {
    "duration": 178,
    "start_time": "2022-03-25T12:56:33.077Z"
   },
   {
    "duration": 185,
    "start_time": "2022-03-25T12:56:39.869Z"
   },
   {
    "duration": 3,
    "start_time": "2022-03-25T12:57:26.652Z"
   },
   {
    "duration": 185,
    "start_time": "2022-03-25T12:58:23.365Z"
   },
   {
    "duration": 271,
    "start_time": "2022-03-25T12:59:30.315Z"
   },
   {
    "duration": 356,
    "start_time": "2022-03-25T12:59:42.289Z"
   },
   {
    "duration": 258,
    "start_time": "2022-03-25T13:00:00.348Z"
   },
   {
    "duration": 241,
    "start_time": "2022-03-25T13:00:29.031Z"
   },
   {
    "duration": 219,
    "start_time": "2022-03-25T13:00:41.035Z"
   },
   {
    "duration": 199,
    "start_time": "2022-03-25T13:05:40.569Z"
   },
   {
    "duration": 214,
    "start_time": "2022-03-25T13:06:08.361Z"
   },
   {
    "duration": 215,
    "start_time": "2022-03-25T13:06:15.010Z"
   },
   {
    "duration": 221,
    "start_time": "2022-03-25T13:06:28.010Z"
   },
   {
    "duration": 4,
    "start_time": "2022-03-25T13:10:00.192Z"
   },
   {
    "duration": 287,
    "start_time": "2022-03-25T13:10:43.817Z"
   },
   {
    "duration": 242,
    "start_time": "2022-03-25T13:11:15.010Z"
   },
   {
    "duration": 223,
    "start_time": "2022-03-25T13:12:23.731Z"
   },
   {
    "duration": 3,
    "start_time": "2022-03-25T13:15:17.807Z"
   },
   {
    "duration": 979,
    "start_time": "2022-03-25T13:15:34.417Z"
   },
   {
    "duration": 17,
    "start_time": "2022-03-25T13:15:35.398Z"
   },
   {
    "duration": 84,
    "start_time": "2022-03-25T13:15:35.417Z"
   },
   {
    "duration": 4,
    "start_time": "2022-03-25T13:15:35.504Z"
   },
   {
    "duration": 39,
    "start_time": "2022-03-25T13:15:35.510Z"
   },
   {
    "duration": 24,
    "start_time": "2022-03-25T13:15:35.551Z"
   },
   {
    "duration": 8,
    "start_time": "2022-03-25T13:15:35.577Z"
   },
   {
    "duration": 54,
    "start_time": "2022-03-25T13:15:35.587Z"
   },
   {
    "duration": 51,
    "start_time": "2022-03-25T13:15:35.644Z"
   },
   {
    "duration": 34,
    "start_time": "2022-03-25T13:15:35.698Z"
   },
   {
    "duration": 9,
    "start_time": "2022-03-25T13:15:35.734Z"
   },
   {
    "duration": 24,
    "start_time": "2022-03-25T13:15:35.744Z"
   },
   {
    "duration": 10,
    "start_time": "2022-03-25T13:15:35.770Z"
   },
   {
    "duration": 52,
    "start_time": "2022-03-25T13:15:35.781Z"
   },
   {
    "duration": 10,
    "start_time": "2022-03-25T13:15:35.835Z"
   },
   {
    "duration": 12870,
    "start_time": "2022-03-25T13:15:35.846Z"
   },
   {
    "duration": 15,
    "start_time": "2022-03-25T13:15:48.718Z"
   },
   {
    "duration": 65,
    "start_time": "2022-03-25T13:15:48.735Z"
   },
   {
    "duration": 49,
    "start_time": "2022-03-25T13:15:48.802Z"
   },
   {
    "duration": 86,
    "start_time": "2022-03-25T13:15:48.853Z"
   },
   {
    "duration": 12,
    "start_time": "2022-03-25T13:15:48.941Z"
   },
   {
    "duration": 25,
    "start_time": "2022-03-25T13:15:48.954Z"
   },
   {
    "duration": 65,
    "start_time": "2022-03-25T13:15:48.981Z"
   },
   {
    "duration": 36,
    "start_time": "2022-03-25T13:15:49.048Z"
   },
   {
    "duration": 18,
    "start_time": "2022-03-25T13:15:49.086Z"
   },
   {
    "duration": 78,
    "start_time": "2022-03-25T13:15:49.106Z"
   },
   {
    "duration": 102,
    "start_time": "2022-03-25T13:15:49.186Z"
   },
   {
    "duration": 296,
    "start_time": "2022-03-25T13:15:49.292Z"
   },
   {
    "duration": 131,
    "start_time": "2022-03-25T13:15:49.590Z"
   },
   {
    "duration": 27,
    "start_time": "2022-03-25T13:15:49.723Z"
   },
   {
    "duration": 348,
    "start_time": "2022-03-25T13:15:49.752Z"
   },
   {
    "duration": 803,
    "start_time": "2022-03-25T13:15:50.102Z"
   },
   {
    "duration": 149,
    "start_time": "2022-03-25T13:15:50.907Z"
   },
   {
    "duration": 20,
    "start_time": "2022-03-25T13:15:51.057Z"
   },
   {
    "duration": 913,
    "start_time": "2022-03-25T13:15:51.079Z"
   },
   {
    "duration": 192,
    "start_time": "2022-03-25T13:15:51.994Z"
   },
   {
    "duration": 10,
    "start_time": "2022-03-25T13:15:52.188Z"
   },
   {
    "duration": 197,
    "start_time": "2022-03-25T13:15:52.199Z"
   },
   {
    "duration": 246,
    "start_time": "2022-03-25T13:15:52.397Z"
   },
   {
    "duration": 138,
    "start_time": "2022-03-25T13:15:52.645Z"
   },
   {
    "duration": 16,
    "start_time": "2022-03-25T13:15:52.785Z"
   },
   {
    "duration": 232,
    "start_time": "2022-03-25T13:15:52.803Z"
   },
   {
    "duration": 7,
    "start_time": "2022-03-25T13:15:53.037Z"
   },
   {
    "duration": 244,
    "start_time": "2022-03-25T13:15:53.046Z"
   },
   {
    "duration": 156,
    "start_time": "2022-03-25T13:15:53.292Z"
   },
   {
    "duration": 13,
    "start_time": "2022-03-25T13:15:53.450Z"
   },
   {
    "duration": 250,
    "start_time": "2022-03-25T13:15:53.465Z"
   },
   {
    "duration": 223,
    "start_time": "2022-03-25T13:15:53.717Z"
   },
   {
    "duration": 290,
    "start_time": "2022-03-25T13:15:53.942Z"
   },
   {
    "duration": 213,
    "start_time": "2022-03-25T13:15:54.234Z"
   },
   {
    "duration": 202,
    "start_time": "2022-03-25T13:15:54.449Z"
   },
   {
    "duration": 291,
    "start_time": "2022-03-25T13:15:54.652Z"
   },
   {
    "duration": 252,
    "start_time": "2022-03-25T13:15:54.945Z"
   },
   {
    "duration": 238,
    "start_time": "2022-03-25T13:15:55.199Z"
   },
   {
    "duration": 254,
    "start_time": "2022-03-25T13:15:55.439Z"
   },
   {
    "duration": 216,
    "start_time": "2022-03-25T13:15:55.695Z"
   },
   {
    "duration": 80,
    "start_time": "2022-03-25T13:19:54.635Z"
   },
   {
    "duration": 34,
    "start_time": "2022-03-25T13:21:02.980Z"
   },
   {
    "duration": 9,
    "start_time": "2022-03-25T13:21:22.776Z"
   },
   {
    "duration": 9,
    "start_time": "2022-03-25T13:21:38.717Z"
   },
   {
    "duration": 4,
    "start_time": "2022-03-25T13:26:27.645Z"
   },
   {
    "duration": 9,
    "start_time": "2022-03-25T13:26:43.268Z"
   },
   {
    "duration": 182,
    "start_time": "2022-03-25T13:27:33.820Z"
   },
   {
    "duration": 9,
    "start_time": "2022-03-25T13:27:45.741Z"
   },
   {
    "duration": 13,
    "start_time": "2022-03-25T13:28:05.612Z"
   },
   {
    "duration": 14,
    "start_time": "2022-03-25T13:28:55.797Z"
   },
   {
    "duration": 161,
    "start_time": "2022-03-25T13:31:40.860Z"
   },
   {
    "duration": 14,
    "start_time": "2022-03-25T13:31:55.060Z"
   },
   {
    "duration": 9,
    "start_time": "2022-03-25T13:32:10.869Z"
   },
   {
    "duration": 13,
    "start_time": "2022-03-25T13:32:20.653Z"
   },
   {
    "duration": 13,
    "start_time": "2022-03-25T13:32:30.053Z"
   },
   {
    "duration": 13,
    "start_time": "2022-03-25T13:32:36.925Z"
   },
   {
    "duration": 7,
    "start_time": "2022-03-25T13:34:04.429Z"
   },
   {
    "duration": 12,
    "start_time": "2022-03-25T13:34:09.764Z"
   },
   {
    "duration": 8,
    "start_time": "2022-03-25T13:56:02.265Z"
   },
   {
    "duration": 48,
    "start_time": "2022-03-25T13:56:08.553Z"
   },
   {
    "duration": 4,
    "start_time": "2022-03-25T13:59:41.362Z"
   },
   {
    "duration": 4,
    "start_time": "2022-03-25T13:59:51.885Z"
   },
   {
    "duration": 10,
    "start_time": "2022-03-25T14:00:01.161Z"
   },
   {
    "duration": 10,
    "start_time": "2022-03-25T14:00:50.297Z"
   },
   {
    "duration": 49,
    "start_time": "2022-03-25T14:00:57.921Z"
   },
   {
    "duration": 165,
    "start_time": "2022-03-25T14:14:22.282Z"
   },
   {
    "duration": 9,
    "start_time": "2022-03-25T14:15:35.830Z"
   },
   {
    "duration": 51,
    "start_time": "2022-03-25T14:15:45.750Z"
   },
   {
    "duration": 9,
    "start_time": "2022-03-25T14:24:57.105Z"
   },
   {
    "duration": 18,
    "start_time": "2022-03-25T14:25:52.677Z"
   },
   {
    "duration": 33,
    "start_time": "2022-03-25T14:26:27.013Z"
   },
   {
    "duration": 32,
    "start_time": "2022-03-25T14:27:16.141Z"
   },
   {
    "duration": 22,
    "start_time": "2022-03-25T14:27:43.068Z"
   },
   {
    "duration": 24,
    "start_time": "2022-03-25T14:27:59.349Z"
   },
   {
    "duration": 201,
    "start_time": "2022-03-25T14:28:08.157Z"
   },
   {
    "duration": 286,
    "start_time": "2022-03-25T14:28:54.788Z"
   },
   {
    "duration": 3,
    "start_time": "2022-03-25T14:31:41.059Z"
   },
   {
    "duration": 210,
    "start_time": "2022-03-25T14:38:17.650Z"
   },
   {
    "duration": 205,
    "start_time": "2022-03-25T14:38:46.322Z"
   },
   {
    "duration": 975,
    "start_time": "2022-03-25T14:42:49.978Z"
   },
   {
    "duration": 17,
    "start_time": "2022-03-25T14:42:50.955Z"
   },
   {
    "duration": 99,
    "start_time": "2022-03-25T14:42:50.973Z"
   },
   {
    "duration": 5,
    "start_time": "2022-03-25T14:42:51.073Z"
   },
   {
    "duration": 28,
    "start_time": "2022-03-25T14:42:51.081Z"
   },
   {
    "duration": 49,
    "start_time": "2022-03-25T14:42:51.111Z"
   },
   {
    "duration": 7,
    "start_time": "2022-03-25T14:42:51.163Z"
   },
   {
    "duration": 33,
    "start_time": "2022-03-25T14:42:51.172Z"
   },
   {
    "duration": 78,
    "start_time": "2022-03-25T14:42:51.207Z"
   },
   {
    "duration": 12,
    "start_time": "2022-03-25T14:42:51.286Z"
   },
   {
    "duration": 37,
    "start_time": "2022-03-25T14:42:51.300Z"
   },
   {
    "duration": 23,
    "start_time": "2022-03-25T14:42:51.340Z"
   },
   {
    "duration": 8,
    "start_time": "2022-03-25T14:42:51.365Z"
   },
   {
    "duration": 17,
    "start_time": "2022-03-25T14:42:51.377Z"
   },
   {
    "duration": 50,
    "start_time": "2022-03-25T14:42:51.395Z"
   },
   {
    "duration": 14019,
    "start_time": "2022-03-25T14:42:51.448Z"
   },
   {
    "duration": 12,
    "start_time": "2022-03-25T14:43:05.469Z"
   },
   {
    "duration": 85,
    "start_time": "2022-03-25T14:43:05.483Z"
   },
   {
    "duration": 33,
    "start_time": "2022-03-25T14:43:05.571Z"
   },
   {
    "duration": 97,
    "start_time": "2022-03-25T14:43:05.606Z"
   },
   {
    "duration": 31,
    "start_time": "2022-03-25T14:43:05.705Z"
   },
   {
    "duration": 27,
    "start_time": "2022-03-25T14:43:05.738Z"
   },
   {
    "duration": 39,
    "start_time": "2022-03-25T14:43:05.768Z"
   },
   {
    "duration": 41,
    "start_time": "2022-03-25T14:43:05.831Z"
   },
   {
    "duration": 19,
    "start_time": "2022-03-25T14:43:05.875Z"
   },
   {
    "duration": 86,
    "start_time": "2022-03-25T14:43:05.896Z"
   },
   {
    "duration": 110,
    "start_time": "2022-03-25T14:43:05.984Z"
   },
   {
    "duration": 320,
    "start_time": "2022-03-25T14:43:06.096Z"
   },
   {
    "duration": 144,
    "start_time": "2022-03-25T14:43:06.418Z"
   },
   {
    "duration": 15,
    "start_time": "2022-03-25T14:43:06.564Z"
   },
   {
    "duration": 356,
    "start_time": "2022-03-25T14:43:06.581Z"
   },
   {
    "duration": 828,
    "start_time": "2022-03-25T14:43:06.940Z"
   },
   {
    "duration": 151,
    "start_time": "2022-03-25T14:43:07.770Z"
   },
   {
    "duration": 26,
    "start_time": "2022-03-25T14:43:07.923Z"
   },
   {
    "duration": 914,
    "start_time": "2022-03-25T14:43:07.951Z"
   },
   {
    "duration": 202,
    "start_time": "2022-03-25T14:43:08.867Z"
   },
   {
    "duration": 9,
    "start_time": "2022-03-25T14:43:09.071Z"
   },
   {
    "duration": 203,
    "start_time": "2022-03-25T14:43:09.082Z"
   },
   {
    "duration": 247,
    "start_time": "2022-03-25T14:43:09.287Z"
   },
   {
    "duration": 142,
    "start_time": "2022-03-25T14:43:09.536Z"
   },
   {
    "duration": 17,
    "start_time": "2022-03-25T14:43:09.683Z"
   },
   {
    "duration": 251,
    "start_time": "2022-03-25T14:43:09.702Z"
   },
   {
    "duration": 7,
    "start_time": "2022-03-25T14:43:09.956Z"
   },
   {
    "duration": 252,
    "start_time": "2022-03-25T14:43:09.965Z"
   },
   {
    "duration": 158,
    "start_time": "2022-03-25T14:43:10.219Z"
   },
   {
    "duration": 13,
    "start_time": "2022-03-25T14:43:10.378Z"
   },
   {
    "duration": 273,
    "start_time": "2022-03-25T14:43:10.393Z"
   },
   {
    "duration": 243,
    "start_time": "2022-03-25T14:43:10.668Z"
   },
   {
    "duration": 296,
    "start_time": "2022-03-25T14:43:10.912Z"
   },
   {
    "duration": 206,
    "start_time": "2022-03-25T14:43:11.210Z"
   },
   {
    "duration": 207,
    "start_time": "2022-03-25T14:43:11.418Z"
   },
   {
    "duration": 287,
    "start_time": "2022-03-25T14:43:11.631Z"
   },
   {
    "duration": 257,
    "start_time": "2022-03-25T14:43:11.920Z"
   },
   {
    "duration": 235,
    "start_time": "2022-03-25T14:43:12.179Z"
   },
   {
    "duration": 267,
    "start_time": "2022-03-25T14:43:12.416Z"
   },
   {
    "duration": 223,
    "start_time": "2022-03-25T14:43:12.685Z"
   },
   {
    "duration": 24,
    "start_time": "2022-03-25T14:43:12.910Z"
   },
   {
    "duration": 10,
    "start_time": "2022-03-25T14:43:12.935Z"
   },
   {
    "duration": 236,
    "start_time": "2022-03-25T14:43:12.946Z"
   },
   {
    "duration": 100,
    "start_time": "2022-04-17T19:33:59.252Z"
   },
   {
    "duration": 103,
    "start_time": "2022-04-17T19:35:11.234Z"
   },
   {
    "duration": 63,
    "start_time": "2022-04-17T19:35:18.661Z"
   },
   {
    "duration": 2194,
    "start_time": "2022-04-17T19:35:41.450Z"
   },
   {
    "duration": 4,
    "start_time": "2022-04-17T19:35:43.647Z"
   },
   {
    "duration": 15,
    "start_time": "2022-04-17T19:35:43.654Z"
   },
   {
    "duration": 331,
    "start_time": "2022-04-17T19:35:43.672Z"
   },
   {
    "duration": 25,
    "start_time": "2022-04-17T19:35:44.007Z"
   },
   {
    "duration": 10,
    "start_time": "2022-04-17T19:35:44.034Z"
   },
   {
    "duration": 8,
    "start_time": "2022-04-17T19:35:44.046Z"
   },
   {
    "duration": 105,
    "start_time": "2022-04-17T19:35:44.056Z"
   },
   {
    "duration": 124,
    "start_time": "2022-04-17T19:35:44.163Z"
   },
   {
    "duration": 100,
    "start_time": "2022-04-17T19:35:44.289Z"
   },
   {
    "duration": 46,
    "start_time": "2022-04-17T19:35:44.392Z"
   },
   {
    "duration": 104,
    "start_time": "2022-04-17T19:35:44.440Z"
   },
   {
    "duration": 65,
    "start_time": "2022-04-17T19:35:44.546Z"
   },
   {
    "duration": 60,
    "start_time": "2022-04-17T19:35:44.628Z"
   },
   {
    "duration": 58,
    "start_time": "2022-04-17T19:35:44.690Z"
   },
   {
    "duration": 19,
    "start_time": "2022-04-17T19:35:44.750Z"
   },
   {
    "duration": 12,
    "start_time": "2022-04-17T19:35:44.771Z"
   },
   {
    "duration": 46,
    "start_time": "2022-04-17T19:35:44.785Z"
   },
   {
    "duration": 33,
    "start_time": "2022-04-17T19:35:44.833Z"
   },
   {
    "duration": 33,
    "start_time": "2022-04-17T19:35:44.868Z"
   },
   {
    "duration": 22,
    "start_time": "2022-04-17T19:35:44.925Z"
   },
   {
    "duration": 6,
    "start_time": "2022-04-17T19:35:44.949Z"
   },
   {
    "duration": 211,
    "start_time": "2022-04-17T19:35:44.957Z"
   },
   {
    "duration": 83,
    "start_time": "2022-04-17T19:35:45.170Z"
   },
   {
    "duration": 26,
    "start_time": "2022-04-17T19:35:45.256Z"
   },
   {
    "duration": 61,
    "start_time": "2022-04-17T19:35:45.284Z"
   },
   {
    "duration": 10,
    "start_time": "2022-04-17T19:35:45.348Z"
   },
   {
    "duration": 25,
    "start_time": "2022-04-17T19:35:45.360Z"
   },
   {
    "duration": 42,
    "start_time": "2022-04-17T19:35:45.387Z"
   },
   {
    "duration": 26,
    "start_time": "2022-04-17T19:35:45.431Z"
   },
   {
    "duration": 977,
    "start_time": "2022-04-17T19:35:45.459Z"
   },
   {
    "duration": 1224,
    "start_time": "2022-04-17T19:35:46.439Z"
   },
   {
    "duration": 1498,
    "start_time": "2022-04-17T19:35:47.665Z"
   },
   {
    "duration": 705,
    "start_time": "2022-04-17T19:35:49.165Z"
   },
   {
    "duration": 12,
    "start_time": "2022-04-17T19:35:49.925Z"
   },
   {
    "duration": 802,
    "start_time": "2022-04-17T19:35:49.939Z"
   },
   {
    "duration": 14,
    "start_time": "2022-04-17T19:35:50.744Z"
   },
   {
    "duration": 114,
    "start_time": "2022-04-17T19:36:16.117Z"
   },
   {
    "duration": 103,
    "start_time": "2022-04-17T19:37:08.968Z"
   },
   {
    "duration": 88,
    "start_time": "2022-04-17T19:39:04.269Z"
   },
   {
    "duration": 25,
    "start_time": "2022-04-17T19:39:05.820Z"
   },
   {
    "duration": 171,
    "start_time": "2022-04-17T19:41:55.536Z"
   },
   {
    "duration": 16,
    "start_time": "2022-04-17T19:42:05.154Z"
   },
   {
    "duration": 110,
    "start_time": "2022-04-17T19:42:33.082Z"
   },
   {
    "duration": 30,
    "start_time": "2022-04-17T19:42:54.789Z"
   },
   {
    "duration": 133,
    "start_time": "2022-04-17T19:44:02.222Z"
   },
   {
    "duration": 132,
    "start_time": "2022-04-17T19:46:09.995Z"
   },
   {
    "duration": 144,
    "start_time": "2022-04-17T19:47:00.053Z"
   },
   {
    "duration": 6,
    "start_time": "2022-04-17T19:47:03.331Z"
   },
   {
    "duration": 135,
    "start_time": "2022-04-17T19:51:28.726Z"
   },
   {
    "duration": 142,
    "start_time": "2022-04-17T19:54:02.878Z"
   },
   {
    "duration": 103,
    "start_time": "2022-04-17T19:55:45.770Z"
   },
   {
    "duration": 165,
    "start_time": "2022-04-17T19:56:44.898Z"
   },
   {
    "duration": 111,
    "start_time": "2022-04-17T20:00:38.331Z"
   },
   {
    "duration": 114,
    "start_time": "2022-04-17T20:03:44.906Z"
   },
   {
    "duration": 108,
    "start_time": "2022-04-17T20:04:51.879Z"
   },
   {
    "duration": 7,
    "start_time": "2022-04-17T20:05:25.589Z"
   },
   {
    "duration": 6,
    "start_time": "2022-04-17T20:05:48.206Z"
   },
   {
    "duration": 6,
    "start_time": "2022-04-17T20:05:56.094Z"
   },
   {
    "duration": 86,
    "start_time": "2022-04-17T20:06:10.231Z"
   },
   {
    "duration": 32,
    "start_time": "2022-04-17T20:06:48.112Z"
   },
   {
    "duration": 2379,
    "start_time": "2022-04-17T20:07:00.570Z"
   },
   {
    "duration": 41,
    "start_time": "2022-04-17T20:07:21.541Z"
   },
   {
    "duration": 264,
    "start_time": "2022-04-17T20:08:48.981Z"
   },
   {
    "duration": 380,
    "start_time": "2022-04-17T20:08:51.321Z"
   },
   {
    "duration": 387,
    "start_time": "2022-04-17T20:08:53.317Z"
   },
   {
    "duration": 274,
    "start_time": "2022-04-17T20:09:01.581Z"
   },
   {
    "duration": 117,
    "start_time": "2022-04-17T20:15:32.284Z"
   },
   {
    "duration": 120,
    "start_time": "2022-04-17T20:16:06.156Z"
   },
   {
    "duration": 2290,
    "start_time": "2022-04-17T20:17:04.768Z"
   },
   {
    "duration": 5,
    "start_time": "2022-04-17T20:17:07.061Z"
   },
   {
    "duration": 24,
    "start_time": "2022-04-17T20:17:07.069Z"
   },
   {
    "duration": 347,
    "start_time": "2022-04-17T20:17:07.097Z"
   },
   {
    "duration": 12,
    "start_time": "2022-04-17T20:17:07.446Z"
   },
   {
    "duration": 7,
    "start_time": "2022-04-17T20:17:07.460Z"
   },
   {
    "duration": 12,
    "start_time": "2022-04-17T20:17:07.469Z"
   },
   {
    "duration": 103,
    "start_time": "2022-04-17T20:17:07.483Z"
   },
   {
    "duration": 121,
    "start_time": "2022-04-17T20:17:07.588Z"
   },
   {
    "duration": 119,
    "start_time": "2022-04-17T20:17:07.712Z"
   },
   {
    "duration": 21,
    "start_time": "2022-04-17T20:17:07.834Z"
   },
   {
    "duration": 113,
    "start_time": "2022-04-17T20:17:07.858Z"
   },
   {
    "duration": 76,
    "start_time": "2022-04-17T20:17:07.973Z"
   },
   {
    "duration": 59,
    "start_time": "2022-04-17T20:17:08.051Z"
   },
   {
    "duration": 36,
    "start_time": "2022-04-17T20:17:08.125Z"
   },
   {
    "duration": 19,
    "start_time": "2022-04-17T20:17:08.163Z"
   },
   {
    "duration": 39,
    "start_time": "2022-04-17T20:17:08.184Z"
   },
   {
    "duration": 12,
    "start_time": "2022-04-17T20:17:08.226Z"
   },
   {
    "duration": 29,
    "start_time": "2022-04-17T20:17:08.241Z"
   },
   {
    "duration": 62,
    "start_time": "2022-04-17T20:17:08.272Z"
   },
   {
    "duration": 22,
    "start_time": "2022-04-17T20:17:08.337Z"
   },
   {
    "duration": 5,
    "start_time": "2022-04-17T20:17:08.361Z"
   },
   {
    "duration": 209,
    "start_time": "2022-04-17T20:17:08.368Z"
   },
   {
    "duration": 86,
    "start_time": "2022-04-17T20:17:08.579Z"
   },
   {
    "duration": 6,
    "start_time": "2022-04-17T20:17:08.667Z"
   },
   {
    "duration": 51,
    "start_time": "2022-04-17T20:17:08.675Z"
   },
   {
    "duration": 26,
    "start_time": "2022-04-17T20:17:08.728Z"
   },
   {
    "duration": 10,
    "start_time": "2022-04-17T20:17:08.759Z"
   },
   {
    "duration": 55,
    "start_time": "2022-04-17T20:17:08.771Z"
   },
   {
    "duration": 9,
    "start_time": "2022-04-17T20:17:08.829Z"
   },
   {
    "duration": 24,
    "start_time": "2022-04-17T20:17:08.840Z"
   },
   {
    "duration": 764,
    "start_time": "2022-04-17T20:17:08.867Z"
   },
   {
    "duration": 752,
    "start_time": "2022-04-17T20:17:09.633Z"
   },
   {
    "duration": 760,
    "start_time": "2022-04-17T20:17:10.387Z"
   },
   {
    "duration": 438,
    "start_time": "2022-04-17T20:17:11.150Z"
   },
   {
    "duration": 11,
    "start_time": "2022-04-17T20:17:11.590Z"
   },
   {
    "duration": 537,
    "start_time": "2022-04-17T20:17:11.603Z"
   },
   {
    "duration": 11,
    "start_time": "2022-04-17T20:17:12.143Z"
   },
   {
    "duration": 101,
    "start_time": "2022-04-17T20:17:12.156Z"
   },
   {
    "duration": 1818,
    "start_time": "2022-04-17T20:17:12.260Z"
   },
   {
    "duration": 386,
    "start_time": "2022-04-17T20:17:14.081Z"
   },
   {
    "duration": 391,
    "start_time": "2022-04-17T20:17:14.469Z"
   },
   {
    "duration": 379,
    "start_time": "2022-04-17T20:17:14.862Z"
   },
   {
    "duration": 4,
    "start_time": "2022-04-17T20:17:15.244Z"
   },
   {
    "duration": 44,
    "start_time": "2022-04-17T20:17:15.250Z"
   },
   {
    "duration": 193,
    "start_time": "2022-04-20T13:01:07.191Z"
   },
   {
    "duration": 1626,
    "start_time": "2022-04-20T13:01:48.574Z"
   },
   {
    "duration": 3,
    "start_time": "2022-04-20T13:01:50.202Z"
   },
   {
    "duration": 16,
    "start_time": "2022-04-20T13:01:50.224Z"
   },
   {
    "duration": 222,
    "start_time": "2022-04-20T13:01:50.243Z"
   },
   {
    "duration": 9,
    "start_time": "2022-04-20T13:01:50.466Z"
   },
   {
    "duration": 13,
    "start_time": "2022-04-20T13:01:50.476Z"
   },
   {
    "duration": 19,
    "start_time": "2022-04-20T13:01:50.491Z"
   },
   {
    "duration": 65,
    "start_time": "2022-04-20T13:01:50.512Z"
   },
   {
    "duration": 82,
    "start_time": "2022-04-20T13:01:50.578Z"
   },
   {
    "duration": 77,
    "start_time": "2022-04-20T13:01:50.663Z"
   },
   {
    "duration": 19,
    "start_time": "2022-04-20T13:01:50.743Z"
   },
   {
    "duration": 114,
    "start_time": "2022-04-20T13:01:50.764Z"
   },
   {
    "duration": 68,
    "start_time": "2022-04-20T13:01:50.880Z"
   },
   {
    "duration": 75,
    "start_time": "2022-04-20T13:01:50.950Z"
   },
   {
    "duration": 29,
    "start_time": "2022-04-20T13:01:51.027Z"
   },
   {
    "duration": 2,
    "start_time": "2022-04-20T13:01:51.058Z"
   },
   {
    "duration": 10,
    "start_time": "2022-04-20T13:01:51.063Z"
   },
   {
    "duration": 11,
    "start_time": "2022-04-20T13:01:51.075Z"
   },
   {
    "duration": 5,
    "start_time": "2022-04-20T13:01:51.088Z"
   },
   {
    "duration": 27,
    "start_time": "2022-04-20T13:01:51.123Z"
   },
   {
    "duration": 4,
    "start_time": "2022-04-20T13:01:51.151Z"
   },
   {
    "duration": 23,
    "start_time": "2022-04-20T13:01:51.157Z"
   },
   {
    "duration": 4,
    "start_time": "2022-04-20T13:01:51.182Z"
   },
   {
    "duration": 42,
    "start_time": "2022-04-20T13:01:51.188Z"
   },
   {
    "duration": 4,
    "start_time": "2022-04-20T13:01:51.232Z"
   },
   {
    "duration": 121,
    "start_time": "2022-04-20T13:01:51.237Z"
   },
   {
    "duration": 46,
    "start_time": "2022-04-20T13:01:51.359Z"
   },
   {
    "duration": 16,
    "start_time": "2022-04-20T13:01:51.409Z"
   },
   {
    "duration": 5,
    "start_time": "2022-04-20T13:01:51.427Z"
   },
   {
    "duration": 28,
    "start_time": "2022-04-20T13:01:51.434Z"
   },
   {
    "duration": 16,
    "start_time": "2022-04-20T13:01:51.464Z"
   },
   {
    "duration": 16,
    "start_time": "2022-04-20T13:01:51.482Z"
   },
   {
    "duration": 39,
    "start_time": "2022-04-20T13:01:51.499Z"
   },
   {
    "duration": 104,
    "start_time": "2022-04-20T13:01:51.539Z"
   },
   {
    "duration": 0,
    "start_time": "2022-04-20T13:01:51.644Z"
   },
   {
    "duration": 0,
    "start_time": "2022-04-20T13:01:51.646Z"
   },
   {
    "duration": 0,
    "start_time": "2022-04-20T13:01:51.647Z"
   },
   {
    "duration": 0,
    "start_time": "2022-04-20T13:01:51.648Z"
   },
   {
    "duration": 0,
    "start_time": "2022-04-20T13:01:51.649Z"
   },
   {
    "duration": 0,
    "start_time": "2022-04-20T13:01:51.650Z"
   },
   {
    "duration": 0,
    "start_time": "2022-04-20T13:01:51.651Z"
   },
   {
    "duration": 0,
    "start_time": "2022-04-20T13:01:51.652Z"
   },
   {
    "duration": 0,
    "start_time": "2022-04-20T13:01:51.654Z"
   },
   {
    "duration": 0,
    "start_time": "2022-04-20T13:01:51.655Z"
   },
   {
    "duration": 0,
    "start_time": "2022-04-20T13:01:51.656Z"
   },
   {
    "duration": 0,
    "start_time": "2022-04-20T13:01:51.657Z"
   },
   {
    "duration": 0,
    "start_time": "2022-04-20T13:01:51.658Z"
   },
   {
    "duration": 0,
    "start_time": "2022-04-20T13:01:51.660Z"
   },
   {
    "duration": 0,
    "start_time": "2022-04-20T13:01:51.661Z"
   },
   {
    "duration": 0,
    "start_time": "2022-04-20T13:01:51.661Z"
   },
   {
    "duration": 0,
    "start_time": "2022-04-20T13:01:51.662Z"
   },
   {
    "duration": 0,
    "start_time": "2022-04-20T13:01:51.664Z"
   },
   {
    "duration": 136,
    "start_time": "2022-04-20T13:08:31.531Z"
   },
   {
    "duration": 123,
    "start_time": "2022-04-20T13:10:41.431Z"
   },
   {
    "duration": 642,
    "start_time": "2022-04-20T13:13:00.115Z"
   },
   {
    "duration": 3,
    "start_time": "2022-04-20T13:13:00.759Z"
   },
   {
    "duration": 16,
    "start_time": "2022-04-20T13:13:00.763Z"
   },
   {
    "duration": 193,
    "start_time": "2022-04-20T13:13:00.781Z"
   },
   {
    "duration": 9,
    "start_time": "2022-04-20T13:13:00.975Z"
   },
   {
    "duration": 8,
    "start_time": "2022-04-20T13:13:00.985Z"
   },
   {
    "duration": 18,
    "start_time": "2022-04-20T13:13:00.995Z"
   },
   {
    "duration": 48,
    "start_time": "2022-04-20T13:13:01.024Z"
   },
   {
    "duration": 79,
    "start_time": "2022-04-20T13:13:01.073Z"
   },
   {
    "duration": 70,
    "start_time": "2022-04-20T13:13:01.155Z"
   },
   {
    "duration": 12,
    "start_time": "2022-04-20T13:13:01.227Z"
   },
   {
    "duration": 60,
    "start_time": "2022-04-20T13:13:01.240Z"
   },
   {
    "duration": 57,
    "start_time": "2022-04-20T13:13:01.301Z"
   },
   {
    "duration": 37,
    "start_time": "2022-04-20T13:13:01.360Z"
   },
   {
    "duration": 37,
    "start_time": "2022-04-20T13:13:01.399Z"
   },
   {
    "duration": 2,
    "start_time": "2022-04-20T13:13:01.437Z"
   },
   {
    "duration": 23,
    "start_time": "2022-04-20T13:13:01.441Z"
   },
   {
    "duration": 12,
    "start_time": "2022-04-20T13:13:01.465Z"
   },
   {
    "duration": 4,
    "start_time": "2022-04-20T13:13:01.479Z"
   },
   {
    "duration": 23,
    "start_time": "2022-04-20T13:13:01.485Z"
   },
   {
    "duration": 15,
    "start_time": "2022-04-20T13:13:01.510Z"
   },
   {
    "duration": 24,
    "start_time": "2022-04-20T13:13:01.527Z"
   },
   {
    "duration": 5,
    "start_time": "2022-04-20T13:13:01.553Z"
   },
   {
    "duration": 30,
    "start_time": "2022-04-20T13:13:01.560Z"
   },
   {
    "duration": 19,
    "start_time": "2022-04-20T13:13:01.592Z"
   },
   {
    "duration": 118,
    "start_time": "2022-04-20T13:13:01.613Z"
   },
   {
    "duration": 45,
    "start_time": "2022-04-20T13:13:01.733Z"
   },
   {
    "duration": 4,
    "start_time": "2022-04-20T13:13:01.781Z"
   },
   {
    "duration": 20,
    "start_time": "2022-04-20T13:13:01.786Z"
   },
   {
    "duration": 54,
    "start_time": "2022-04-20T13:13:01.808Z"
   },
   {
    "duration": 24,
    "start_time": "2022-04-20T13:13:01.864Z"
   },
   {
    "duration": 25,
    "start_time": "2022-04-20T13:13:01.890Z"
   },
   {
    "duration": 17,
    "start_time": "2022-04-20T13:13:01.916Z"
   },
   {
    "duration": 23,
    "start_time": "2022-04-20T13:13:01.934Z"
   },
   {
    "duration": 24,
    "start_time": "2022-04-20T13:13:01.959Z"
   },
   {
    "duration": 38,
    "start_time": "2022-04-20T13:13:01.985Z"
   },
   {
    "duration": 35,
    "start_time": "2022-04-20T13:13:02.025Z"
   },
   {
    "duration": 24,
    "start_time": "2022-04-20T13:13:02.062Z"
   },
   {
    "duration": 392,
    "start_time": "2022-04-20T13:13:02.088Z"
   },
   {
    "duration": 398,
    "start_time": "2022-04-20T13:13:02.482Z"
   },
   {
    "duration": 408,
    "start_time": "2022-04-20T13:13:02.881Z"
   },
   {
    "duration": 3,
    "start_time": "2022-04-20T13:13:03.291Z"
   },
   {
    "duration": 20,
    "start_time": "2022-04-20T13:13:03.295Z"
   },
   {
    "duration": 3,
    "start_time": "2022-04-20T13:13:03.323Z"
   },
   {
    "duration": 25,
    "start_time": "2022-04-20T13:13:03.328Z"
   },
   {
    "duration": 27,
    "start_time": "2022-04-20T13:13:03.355Z"
   },
   {
    "duration": 143,
    "start_time": "2022-04-20T13:13:03.384Z"
   },
   {
    "duration": 1312,
    "start_time": "2022-04-20T13:13:03.529Z"
   },
   {
    "duration": 161,
    "start_time": "2022-04-20T13:13:04.843Z"
   },
   {
    "duration": 149,
    "start_time": "2022-04-20T13:13:05.006Z"
   },
   {
    "duration": 150,
    "start_time": "2022-04-20T13:13:05.156Z"
   },
   {
    "duration": 2,
    "start_time": "2022-04-20T13:13:05.308Z"
   },
   {
    "duration": 36,
    "start_time": "2022-04-20T13:13:05.311Z"
   },
   {
    "duration": 127,
    "start_time": "2022-04-20T13:20:10.436Z"
   }
  ],
  "kernelspec": {
   "display_name": "Python 3 (ipykernel)",
   "language": "python",
   "name": "python3"
  },
  "language_info": {
   "codemirror_mode": {
    "name": "ipython",
    "version": 3
   },
   "file_extension": ".py",
   "mimetype": "text/x-python",
   "name": "python",
   "nbconvert_exporter": "python",
   "pygments_lexer": "ipython3",
   "version": "3.10.4"
  },
  "toc": {
   "base_numbering": 1,
   "nav_menu": {},
   "number_sections": true,
   "sideBar": true,
   "skip_h1_title": true,
   "title_cell": "Содержание",
   "title_sidebar": "Contents",
   "toc_cell": true,
   "toc_position": {
    "height": "calc(100% - 180px)",
    "left": "10px",
    "top": "150px",
    "width": "234.637px"
   },
   "toc_section_display": true,
   "toc_window_display": true
  }
 },
 "nbformat": 4,
 "nbformat_minor": 4
}
