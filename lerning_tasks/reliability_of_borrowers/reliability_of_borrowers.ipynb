{
 "cells": [
  {
   "cell_type": "markdown",
   "id": "7dc219bd",
   "metadata": {},
   "source": [
    "# Исследование надежности заемщиков.\n",
    "\n",
    "Целью данной работы является анализ заемщиков на предмет их надежности для заемодателя.\n",
    "\n",
    "**Необходимо проверить несколько гипотез касательно этого вопроса:**\n",
    " 1. Есть ли зависимость между количеством детей и возвратом кредита в срок?\n",
    " 2. Есть ли зависимость между семейным положением и возвратом кредита в срок?\n",
    " 3. Есть ли зависимость между уровнем дохода и возвратом кредита в срок?\n",
    " 4. Как разные цели кредита влияют на его возврат в срок?\n",
    " \n",
    "Все данные находятся в фале data.csv, о качестве данных сведений нет.\n",
    "\n",
    "**В ходе выполнения работы будет необходимо провести:**\n",
    " 1. обзор данных предоставленных заказчиком;\n",
    " 2. предобработку данных;\n",
    " 3. проверить необходимые гипотезы.\n",
    " \n",
    "**Описание данных:**\n",
    " - children — количество детей в семье\n",
    " - days_employed — общий трудовой стаж в днях\n",
    " - dob_years — возраст клиента в годах\n",
    " - education — уровень образования клиента\n",
    " - education_id — идентификатор уровня образования\n",
    " - family_status — семейное положение\n",
    " - family_status_id — идентификатор семейного положения\n",
    " - gender — пол клиента\n",
    " - income_type — тип занятости\n",
    " - debt — имел ли задолженность по возврату кредитов\n",
    " - total_income — ежемесячный доход\n",
    " - purpose — цель получения кредита"
   ]
  },
  {
   "cell_type": "markdown",
   "id": "8abd0371",
   "metadata": {},
   "source": [
    "**Оглавление**\n",
    "\n",
    "1. [Шаг 1. Обзор данных](#start)\n",
    "2. [Шаг 2. Предобработка данных](#preprocessing)\n",
    "    * [Шаг 2.1 Заполнение пропусков, замена типов данных](#2.1)\n",
    "    * [Шаг 2.2 Удаление дубликатов.](#2.2)\n",
    "    * [Шаг 2.3. Формирование дополнительных датафреймов словарей, декомпозиция исходного датафрейма.](#2.3)\n",
    "    * [Шаг 2.4. Категоризация дохода.](#2.4)\n",
    "    * [Шаг 2.5. Категоризация целей кредита.](#2.5)\n",
    "3. [Шаг 3. Проверка гипотез](#test)\n",
    "    * [Гипотеза 1: Есть ли зависимость между количеством детей и возвратом кредита в срок?](#3.1)\n",
    "    * [Гипотеза 2: Есть ли зависимость между семейным положением и возвратом кредита в срок?](#3.2)\n",
    "    * [Гипотеза 3: Есть ли зависимость между уровнем дохода и возвратом кредита в срок?](#3.3)\n",
    "    * [Гипотеза 4: Как разные цели кредита влияют на его возврат в срок?](#3.4)\n",
    "4. [Общий вывод](#finish)"
   ]
  },
  {
   "cell_type": "markdown",
   "id": "f9954599",
   "metadata": {},
   "source": [
    "## <a id=\"start\">Шаг 1. Обзор данных</a>"
   ]
  },
  {
   "cell_type": "markdown",
   "id": "bcf1a2b8",
   "metadata": {},
   "source": [
    "Первым шагом рассмотрим общую информацию о данных предоставленных для анализа"
   ]
  },
  {
   "cell_type": "code",
   "execution_count": 1,
   "id": "92e158ef",
   "metadata": {
    "scrolled": false
   },
   "outputs": [
    {
     "data": {
      "text/html": [
       "<div>\n",
       "<style scoped>\n",
       "    .dataframe tbody tr th:only-of-type {\n",
       "        vertical-align: middle;\n",
       "    }\n",
       "\n",
       "    .dataframe tbody tr th {\n",
       "        vertical-align: top;\n",
       "    }\n",
       "\n",
       "    .dataframe thead th {\n",
       "        text-align: right;\n",
       "    }\n",
       "</style>\n",
       "<table border=\"1\" class=\"dataframe\">\n",
       "  <thead>\n",
       "    <tr style=\"text-align: right;\">\n",
       "      <th></th>\n",
       "      <th>children</th>\n",
       "      <th>days_employed</th>\n",
       "      <th>dob_years</th>\n",
       "      <th>education_id</th>\n",
       "      <th>family_status_id</th>\n",
       "      <th>debt</th>\n",
       "      <th>total_income</th>\n",
       "    </tr>\n",
       "  </thead>\n",
       "  <tbody>\n",
       "    <tr>\n",
       "      <th>count</th>\n",
       "      <td>21525.000000</td>\n",
       "      <td>19351.000000</td>\n",
       "      <td>21525.000000</td>\n",
       "      <td>21525.000000</td>\n",
       "      <td>21525.000000</td>\n",
       "      <td>21525.000000</td>\n",
       "      <td>1.935100e+04</td>\n",
       "    </tr>\n",
       "    <tr>\n",
       "      <th>mean</th>\n",
       "      <td>0.538908</td>\n",
       "      <td>63046.497661</td>\n",
       "      <td>43.293380</td>\n",
       "      <td>0.817236</td>\n",
       "      <td>0.972544</td>\n",
       "      <td>0.080883</td>\n",
       "      <td>1.674223e+05</td>\n",
       "    </tr>\n",
       "    <tr>\n",
       "      <th>std</th>\n",
       "      <td>1.381587</td>\n",
       "      <td>140827.311974</td>\n",
       "      <td>12.574584</td>\n",
       "      <td>0.548138</td>\n",
       "      <td>1.420324</td>\n",
       "      <td>0.272661</td>\n",
       "      <td>1.029716e+05</td>\n",
       "    </tr>\n",
       "    <tr>\n",
       "      <th>min</th>\n",
       "      <td>-1.000000</td>\n",
       "      <td>-18388.949901</td>\n",
       "      <td>0.000000</td>\n",
       "      <td>0.000000</td>\n",
       "      <td>0.000000</td>\n",
       "      <td>0.000000</td>\n",
       "      <td>2.066726e+04</td>\n",
       "    </tr>\n",
       "    <tr>\n",
       "      <th>25%</th>\n",
       "      <td>0.000000</td>\n",
       "      <td>-2747.423625</td>\n",
       "      <td>33.000000</td>\n",
       "      <td>1.000000</td>\n",
       "      <td>0.000000</td>\n",
       "      <td>0.000000</td>\n",
       "      <td>1.030532e+05</td>\n",
       "    </tr>\n",
       "    <tr>\n",
       "      <th>50%</th>\n",
       "      <td>0.000000</td>\n",
       "      <td>-1203.369529</td>\n",
       "      <td>42.000000</td>\n",
       "      <td>1.000000</td>\n",
       "      <td>0.000000</td>\n",
       "      <td>0.000000</td>\n",
       "      <td>1.450179e+05</td>\n",
       "    </tr>\n",
       "    <tr>\n",
       "      <th>75%</th>\n",
       "      <td>1.000000</td>\n",
       "      <td>-291.095954</td>\n",
       "      <td>53.000000</td>\n",
       "      <td>1.000000</td>\n",
       "      <td>1.000000</td>\n",
       "      <td>0.000000</td>\n",
       "      <td>2.034351e+05</td>\n",
       "    </tr>\n",
       "    <tr>\n",
       "      <th>max</th>\n",
       "      <td>20.000000</td>\n",
       "      <td>401755.400475</td>\n",
       "      <td>75.000000</td>\n",
       "      <td>4.000000</td>\n",
       "      <td>4.000000</td>\n",
       "      <td>1.000000</td>\n",
       "      <td>2.265604e+06</td>\n",
       "    </tr>\n",
       "  </tbody>\n",
       "</table>\n",
       "</div>"
      ],
      "text/plain": [
       "           children  days_employed     dob_years  education_id  \\\n",
       "count  21525.000000   19351.000000  21525.000000  21525.000000   \n",
       "mean       0.538908   63046.497661     43.293380      0.817236   \n",
       "std        1.381587  140827.311974     12.574584      0.548138   \n",
       "min       -1.000000  -18388.949901      0.000000      0.000000   \n",
       "25%        0.000000   -2747.423625     33.000000      1.000000   \n",
       "50%        0.000000   -1203.369529     42.000000      1.000000   \n",
       "75%        1.000000    -291.095954     53.000000      1.000000   \n",
       "max       20.000000  401755.400475     75.000000      4.000000   \n",
       "\n",
       "       family_status_id          debt  total_income  \n",
       "count      21525.000000  21525.000000  1.935100e+04  \n",
       "mean           0.972544      0.080883  1.674223e+05  \n",
       "std            1.420324      0.272661  1.029716e+05  \n",
       "min            0.000000      0.000000  2.066726e+04  \n",
       "25%            0.000000      0.000000  1.030532e+05  \n",
       "50%            0.000000      0.000000  1.450179e+05  \n",
       "75%            1.000000      0.000000  2.034351e+05  \n",
       "max            4.000000      1.000000  2.265604e+06  "
      ]
     },
     "execution_count": 1,
     "metadata": {},
     "output_type": "execute_result"
    }
   ],
   "source": [
    "import pandas as pd # импорт библиотеки pandas\n",
    "from IPython.display import display # импортируем метод display из библиотеки IPython.display\n",
    "df = pd.read_csv('/datasets/data.csv')\n",
    "df.describe() # просмотр статистических характеристик таблицы"
   ]
  },
  {
   "cell_type": "markdown",
   "id": "6134bf15",
   "metadata": {},
   "source": [
    "При просмотре статистических данных таблицы в двух столбцах(children и days_employed) обнаружены отрицательные значения, их появление может быть связано с особенностями ПО из которого были получены данные.\n",
    "\n",
    "В столбце children(количество детей) имеется максимальное значение = 20, объяснить можно двумя причинами:\n",
    " 1. Данные подавались семейными детскими домами, в этом случае можно принять такое количество детей в семье;\n",
    " 2. При вводе данных была допущена ошибка в следствии человеческого фактора.\n",
    " \n",
    "В том и в другом случае необходимо запросить уточнение данной информации."
   ]
  },
  {
   "cell_type": "code",
   "execution_count": 3,
   "id": "5ee562dd",
   "metadata": {},
   "outputs": [
    {
     "name": "stdout",
     "output_type": "stream",
     "text": [
      "<class 'pandas.core.frame.DataFrame'>\n",
      "RangeIndex: 21525 entries, 0 to 21524\n",
      "Data columns (total 12 columns):\n",
      " #   Column            Non-Null Count  Dtype  \n",
      "---  ------            --------------  -----  \n",
      " 0   children          21525 non-null  int64  \n",
      " 1   days_employed     19351 non-null  float64\n",
      " 2   dob_years         21525 non-null  int64  \n",
      " 3   education         21525 non-null  object \n",
      " 4   education_id      21525 non-null  int64  \n",
      " 5   family_status     21525 non-null  object \n",
      " 6   family_status_id  21525 non-null  int64  \n",
      " 7   gender            21525 non-null  object \n",
      " 8   income_type       21525 non-null  object \n",
      " 9   debt              21525 non-null  int64  \n",
      " 10  total_income      19351 non-null  float64\n",
      " 11  purpose           21525 non-null  object \n",
      "dtypes: float64(2), int64(5), object(5)\n",
      "memory usage: 2.0+ MB\n"
     ]
    }
   ],
   "source": [
    "df.info() # просмотр общей информации о типах данных"
   ]
  },
  {
   "cell_type": "code",
   "execution_count": 4,
   "id": "fa1343a6",
   "metadata": {},
   "outputs": [
    {
     "data": {
      "text/plain": [
       "array(['высшее', 'среднее', 'Среднее', 'СРЕДНЕЕ', 'ВЫСШЕЕ',\n",
       "       'неоконченное высшее', 'начальное', 'Высшее',\n",
       "       'НЕОКОНЧЕННОЕ ВЫСШЕЕ', 'Неоконченное высшее', 'НАЧАЛЬНОЕ',\n",
       "       'Начальное', 'Ученая степень', 'УЧЕНАЯ СТЕПЕНЬ', 'ученая степень'],\n",
       "      dtype=object)"
      ]
     },
     "metadata": {},
     "output_type": "display_data"
    },
    {
     "data": {
      "text/plain": [
       "array(['женат / замужем', 'гражданский брак', 'вдовец / вдова',\n",
       "       'в разводе', 'Не женат / не замужем'], dtype=object)"
      ]
     },
     "metadata": {},
     "output_type": "display_data"
    },
    {
     "data": {
      "text/plain": [
       "array(['F', 'M', 'XNA'], dtype=object)"
      ]
     },
     "metadata": {},
     "output_type": "display_data"
    },
    {
     "data": {
      "text/plain": [
       "array(['сотрудник', 'пенсионер', 'компаньон', 'госслужащий',\n",
       "       'безработный', 'предприниматель', 'студент', 'в декрете'],\n",
       "      dtype=object)"
      ]
     },
     "metadata": {},
     "output_type": "display_data"
    },
    {
     "data": {
      "text/plain": [
       "array(['покупка жилья', 'приобретение автомобиля',\n",
       "       'дополнительное образование', 'сыграть свадьбу',\n",
       "       'операции с жильем', 'образование', 'на проведение свадьбы',\n",
       "       'покупка жилья для семьи', 'покупка недвижимости',\n",
       "       'покупка коммерческой недвижимости', 'покупка жилой недвижимости',\n",
       "       'строительство собственной недвижимости', 'недвижимость',\n",
       "       'строительство недвижимости', 'на покупку подержанного автомобиля',\n",
       "       'на покупку своего автомобиля',\n",
       "       'операции с коммерческой недвижимостью',\n",
       "       'строительство жилой недвижимости', 'жилье',\n",
       "       'операции со своей недвижимостью', 'автомобили',\n",
       "       'заняться образованием', 'сделка с подержанным автомобилем',\n",
       "       'получение образования', 'автомобиль', 'свадьба',\n",
       "       'получение дополнительного образования', 'покупка своего жилья',\n",
       "       'операции с недвижимостью', 'получение высшего образования',\n",
       "       'свой автомобиль', 'сделка с автомобилем',\n",
       "       'профильное образование', 'высшее образование',\n",
       "       'покупка жилья для сдачи', 'на покупку автомобиля', 'ремонт жилью',\n",
       "       'заняться высшим образованием'], dtype=object)"
      ]
     },
     "metadata": {},
     "output_type": "display_data"
    }
   ],
   "source": [
    "# просматриваем уникальные значения в текстовых столбцах документа\n",
    "display(df['education'].unique())\n",
    "display(df['family_status'].unique())\n",
    "display(df['gender'].unique())\n",
    "display(df['income_type'].unique())\n",
    "display(df['purpose'].unique())"
   ]
  },
  {
   "cell_type": "markdown",
   "id": "333568e8",
   "metadata": {},
   "source": [
    "<ul>\n",
    "    <li>в столбце children имеются отрицательныйе значения, которые необходимо заменить на положительные</li>\n",
    "    <li>в столбце days_employed есть пропуски и отрицательные значения, тип float нужно заменить на int</li>\n",
    "    <li>в столбце total_income заполнить пропуски и заменить float на int</li>\n",
    "    <li>привести строковые столбцы к одному регистру</li>\n",
    "    <li>значения столбца purpose объеденить в единые смысловые категории</li>\n",
    "    <li>обработать дубликаты</li>\n",
    "</ul>"
   ]
  },
  {
   "cell_type": "code",
   "execution_count": 5,
   "id": "0a63ecae",
   "metadata": {},
   "outputs": [],
   "source": [
    "# приводим текстовые значения столбцов таблицы в нижний регстр.\n",
    "df['education'] = df['education'].str.lower() \n",
    "df['family_status'] = df['family_status'].str.lower()\n",
    "df['gender'] = df['gender'].str.lower()\n",
    "df['income_type'] = df['income_type'].str.lower()\n",
    "df['purpose'] = df['purpose'].str.lower()"
   ]
  },
  {
   "cell_type": "code",
   "execution_count": 6,
   "id": "88c5f656",
   "metadata": {},
   "outputs": [],
   "source": [
    "# преобразуем отрицательные значения в положительные\n",
    "df['days_employed'] = df['days_employed'].abs()\n",
    "df['children'] = df['children'].abs()"
   ]
  },
  {
   "cell_type": "markdown",
   "id": "d533441a",
   "metadata": {},
   "source": [
    "## <a id=\"preprocessing\">Шаг 2. Предобработка данных</a>"
   ]
  },
  {
   "cell_type": "markdown",
   "id": "abe5e2b6",
   "metadata": {},
   "source": [
    "### <a id=\"2.1\">Шаг 2.1 Заполнение пропусков, замена типов данных</a>"
   ]
  },
  {
   "cell_type": "code",
   "execution_count": 7,
   "id": "f009de5a",
   "metadata": {},
   "outputs": [
    {
     "data": {
      "text/plain": [
       "children               0\n",
       "days_employed       2174\n",
       "dob_years              0\n",
       "education              0\n",
       "education_id           0\n",
       "family_status          0\n",
       "family_status_id       0\n",
       "gender                 0\n",
       "income_type            0\n",
       "debt                   0\n",
       "total_income        2174\n",
       "purpose                0\n",
       "dtype: int64"
      ]
     },
     "execution_count": 7,
     "metadata": {},
     "output_type": "execute_result"
    }
   ],
   "source": [
    "df.isna().sum() # поиск и подсчет пропусков в таблице"
   ]
  },
  {
   "cell_type": "code",
   "execution_count": 8,
   "id": "88b16d17",
   "metadata": {},
   "outputs": [
    {
     "data": {
      "text/html": [
       "<div>\n",
       "<style scoped>\n",
       "    .dataframe tbody tr th:only-of-type {\n",
       "        vertical-align: middle;\n",
       "    }\n",
       "\n",
       "    .dataframe tbody tr th {\n",
       "        vertical-align: top;\n",
       "    }\n",
       "\n",
       "    .dataframe thead th {\n",
       "        text-align: right;\n",
       "    }\n",
       "</style>\n",
       "<table border=\"1\" class=\"dataframe\">\n",
       "  <thead>\n",
       "    <tr style=\"text-align: right;\">\n",
       "      <th></th>\n",
       "      <th>children</th>\n",
       "      <th>days_employed</th>\n",
       "      <th>dob_years</th>\n",
       "      <th>education</th>\n",
       "      <th>education_id</th>\n",
       "      <th>family_status</th>\n",
       "      <th>family_status_id</th>\n",
       "      <th>gender</th>\n",
       "      <th>income_type</th>\n",
       "      <th>debt</th>\n",
       "      <th>total_income</th>\n",
       "      <th>purpose</th>\n",
       "    </tr>\n",
       "  </thead>\n",
       "  <tbody>\n",
       "    <tr>\n",
       "      <th>12</th>\n",
       "      <td>0</td>\n",
       "      <td>NaN</td>\n",
       "      <td>65</td>\n",
       "      <td>среднее</td>\n",
       "      <td>1</td>\n",
       "      <td>гражданский брак</td>\n",
       "      <td>1</td>\n",
       "      <td>m</td>\n",
       "      <td>пенсионер</td>\n",
       "      <td>0</td>\n",
       "      <td>NaN</td>\n",
       "      <td>сыграть свадьбу</td>\n",
       "    </tr>\n",
       "    <tr>\n",
       "      <th>26</th>\n",
       "      <td>0</td>\n",
       "      <td>NaN</td>\n",
       "      <td>41</td>\n",
       "      <td>среднее</td>\n",
       "      <td>1</td>\n",
       "      <td>женат / замужем</td>\n",
       "      <td>0</td>\n",
       "      <td>m</td>\n",
       "      <td>госслужащий</td>\n",
       "      <td>0</td>\n",
       "      <td>NaN</td>\n",
       "      <td>образование</td>\n",
       "    </tr>\n",
       "    <tr>\n",
       "      <th>29</th>\n",
       "      <td>0</td>\n",
       "      <td>NaN</td>\n",
       "      <td>63</td>\n",
       "      <td>среднее</td>\n",
       "      <td>1</td>\n",
       "      <td>не женат / не замужем</td>\n",
       "      <td>4</td>\n",
       "      <td>f</td>\n",
       "      <td>пенсионер</td>\n",
       "      <td>0</td>\n",
       "      <td>NaN</td>\n",
       "      <td>строительство жилой недвижимости</td>\n",
       "    </tr>\n",
       "    <tr>\n",
       "      <th>41</th>\n",
       "      <td>0</td>\n",
       "      <td>NaN</td>\n",
       "      <td>50</td>\n",
       "      <td>среднее</td>\n",
       "      <td>1</td>\n",
       "      <td>женат / замужем</td>\n",
       "      <td>0</td>\n",
       "      <td>f</td>\n",
       "      <td>госслужащий</td>\n",
       "      <td>0</td>\n",
       "      <td>NaN</td>\n",
       "      <td>сделка с подержанным автомобилем</td>\n",
       "    </tr>\n",
       "    <tr>\n",
       "      <th>55</th>\n",
       "      <td>0</td>\n",
       "      <td>NaN</td>\n",
       "      <td>54</td>\n",
       "      <td>среднее</td>\n",
       "      <td>1</td>\n",
       "      <td>гражданский брак</td>\n",
       "      <td>1</td>\n",
       "      <td>f</td>\n",
       "      <td>пенсионер</td>\n",
       "      <td>1</td>\n",
       "      <td>NaN</td>\n",
       "      <td>сыграть свадьбу</td>\n",
       "    </tr>\n",
       "    <tr>\n",
       "      <th>...</th>\n",
       "      <td>...</td>\n",
       "      <td>...</td>\n",
       "      <td>...</td>\n",
       "      <td>...</td>\n",
       "      <td>...</td>\n",
       "      <td>...</td>\n",
       "      <td>...</td>\n",
       "      <td>...</td>\n",
       "      <td>...</td>\n",
       "      <td>...</td>\n",
       "      <td>...</td>\n",
       "      <td>...</td>\n",
       "    </tr>\n",
       "    <tr>\n",
       "      <th>21489</th>\n",
       "      <td>2</td>\n",
       "      <td>NaN</td>\n",
       "      <td>47</td>\n",
       "      <td>среднее</td>\n",
       "      <td>1</td>\n",
       "      <td>женат / замужем</td>\n",
       "      <td>0</td>\n",
       "      <td>m</td>\n",
       "      <td>компаньон</td>\n",
       "      <td>0</td>\n",
       "      <td>NaN</td>\n",
       "      <td>сделка с автомобилем</td>\n",
       "    </tr>\n",
       "    <tr>\n",
       "      <th>21495</th>\n",
       "      <td>1</td>\n",
       "      <td>NaN</td>\n",
       "      <td>50</td>\n",
       "      <td>среднее</td>\n",
       "      <td>1</td>\n",
       "      <td>гражданский брак</td>\n",
       "      <td>1</td>\n",
       "      <td>f</td>\n",
       "      <td>сотрудник</td>\n",
       "      <td>0</td>\n",
       "      <td>NaN</td>\n",
       "      <td>свадьба</td>\n",
       "    </tr>\n",
       "    <tr>\n",
       "      <th>21497</th>\n",
       "      <td>0</td>\n",
       "      <td>NaN</td>\n",
       "      <td>48</td>\n",
       "      <td>высшее</td>\n",
       "      <td>0</td>\n",
       "      <td>женат / замужем</td>\n",
       "      <td>0</td>\n",
       "      <td>f</td>\n",
       "      <td>компаньон</td>\n",
       "      <td>0</td>\n",
       "      <td>NaN</td>\n",
       "      <td>строительство недвижимости</td>\n",
       "    </tr>\n",
       "    <tr>\n",
       "      <th>21502</th>\n",
       "      <td>1</td>\n",
       "      <td>NaN</td>\n",
       "      <td>42</td>\n",
       "      <td>среднее</td>\n",
       "      <td>1</td>\n",
       "      <td>женат / замужем</td>\n",
       "      <td>0</td>\n",
       "      <td>f</td>\n",
       "      <td>сотрудник</td>\n",
       "      <td>0</td>\n",
       "      <td>NaN</td>\n",
       "      <td>строительство жилой недвижимости</td>\n",
       "    </tr>\n",
       "    <tr>\n",
       "      <th>21510</th>\n",
       "      <td>2</td>\n",
       "      <td>NaN</td>\n",
       "      <td>28</td>\n",
       "      <td>среднее</td>\n",
       "      <td>1</td>\n",
       "      <td>женат / замужем</td>\n",
       "      <td>0</td>\n",
       "      <td>f</td>\n",
       "      <td>сотрудник</td>\n",
       "      <td>0</td>\n",
       "      <td>NaN</td>\n",
       "      <td>приобретение автомобиля</td>\n",
       "    </tr>\n",
       "  </tbody>\n",
       "</table>\n",
       "<p>2174 rows × 12 columns</p>\n",
       "</div>"
      ],
      "text/plain": [
       "       children  days_employed  dob_years education  education_id  \\\n",
       "12            0            NaN         65   среднее             1   \n",
       "26            0            NaN         41   среднее             1   \n",
       "29            0            NaN         63   среднее             1   \n",
       "41            0            NaN         50   среднее             1   \n",
       "55            0            NaN         54   среднее             1   \n",
       "...         ...            ...        ...       ...           ...   \n",
       "21489         2            NaN         47   среднее             1   \n",
       "21495         1            NaN         50   среднее             1   \n",
       "21497         0            NaN         48    высшее             0   \n",
       "21502         1            NaN         42   среднее             1   \n",
       "21510         2            NaN         28   среднее             1   \n",
       "\n",
       "               family_status  family_status_id gender  income_type  debt  \\\n",
       "12          гражданский брак                 1      m    пенсионер     0   \n",
       "26           женат / замужем                 0      m  госслужащий     0   \n",
       "29     не женат / не замужем                 4      f    пенсионер     0   \n",
       "41           женат / замужем                 0      f  госслужащий     0   \n",
       "55          гражданский брак                 1      f    пенсионер     1   \n",
       "...                      ...               ...    ...          ...   ...   \n",
       "21489        женат / замужем                 0      m    компаньон     0   \n",
       "21495       гражданский брак                 1      f    сотрудник     0   \n",
       "21497        женат / замужем                 0      f    компаньон     0   \n",
       "21502        женат / замужем                 0      f    сотрудник     0   \n",
       "21510        женат / замужем                 0      f    сотрудник     0   \n",
       "\n",
       "       total_income                           purpose  \n",
       "12              NaN                   сыграть свадьбу  \n",
       "26              NaN                       образование  \n",
       "29              NaN  строительство жилой недвижимости  \n",
       "41              NaN  сделка с подержанным автомобилем  \n",
       "55              NaN                   сыграть свадьбу  \n",
       "...             ...                               ...  \n",
       "21489           NaN              сделка с автомобилем  \n",
       "21495           NaN                           свадьба  \n",
       "21497           NaN        строительство недвижимости  \n",
       "21502           NaN  строительство жилой недвижимости  \n",
       "21510           NaN           приобретение автомобиля  \n",
       "\n",
       "[2174 rows x 12 columns]"
      ]
     },
     "execution_count": 8,
     "metadata": {},
     "output_type": "execute_result"
    }
   ],
   "source": [
    "# проверим, находятся ли пропуски в одинаковых строках, т.к. их количество совпадает\n",
    "df[(df.days_employed.isna()) & (df.total_income.isna())] "
   ]
  },
  {
   "cell_type": "markdown",
   "id": "cf766531",
   "metadata": {},
   "source": [
    "После просмотра пропущенных значений можно сделать следующие выводы:\n",
    " 1. Нахождение пропусков в одних и тех же строках может говорить о неофициальной трудовой деятельности клиента\n",
    "    из-за чего установить реальные показатель стажа и зароботка не представляется возможным;\n",
    " 2. Пропуски могли возникнуть из-за ошибки при выгрузке данных, в этом случае необходимо обратиться к человеку ответственному за     эту операцию и запросить повторную выгрузку и уточнение данных.\n",
    " \n",
    "Исходя из вышеописанного и целей анализа можно утверждать, что заполнение этих данных медианным значением не имеет смысла, т.к. в случае с доходом это может привести к искажению конечных результатов анализа, а в случае со столбцом days_employed просто не имеет смысла, т.к. эти данные не будут учавствоваться в проверке необходимых гипотез.\n",
    "\n",
    "По этому пропущенные значения будут заменены на нулевые."
   ]
  },
  {
   "cell_type": "code",
   "execution_count": 9,
   "id": "e5dbdb90",
   "metadata": {},
   "outputs": [
    {
     "data": {
      "text/plain": [
       "children            0\n",
       "days_employed       0\n",
       "dob_years           0\n",
       "education           0\n",
       "education_id        0\n",
       "family_status       0\n",
       "family_status_id    0\n",
       "gender              0\n",
       "income_type         0\n",
       "debt                0\n",
       "total_income        0\n",
       "purpose             0\n",
       "dtype: int64"
      ]
     },
     "execution_count": 9,
     "metadata": {},
     "output_type": "execute_result"
    }
   ],
   "source": [
    "# проводим замену значений NAN на медианное и проверяем все ли получилось\n",
    "df['days_employed'] = df['days_employed'].fillna(df['days_employed'].median())\n",
    "df['total_income'] = df['total_income'].fillna(df['total_income'].median())\n",
    "df.isna().sum()"
   ]
  },
  {
   "cell_type": "code",
   "execution_count": 11,
   "id": "5546e048",
   "metadata": {},
   "outputs": [],
   "source": [
    "# преобразуем значения float к значениям типа int\n",
    "df['days_employed'] = df['days_employed'].astype(int)\n",
    "df['total_income'] = df['total_income'].astype(int)"
   ]
  },
  {
   "cell_type": "code",
   "execution_count": 12,
   "id": "564f0724",
   "metadata": {},
   "outputs": [],
   "source": [
    "# перенес это изменение из конца сюда, закоментил эту часть в выводах\n",
    "df.loc[df['children'] == 20, 'children'] = 2"
   ]
  },
  {
   "cell_type": "markdown",
   "id": "de90e9c2",
   "metadata": {},
   "source": [
    "### <a id=\"2.2\">Шаг 2.2 Удаление дубликатов.</a>"
   ]
  },
  {
   "cell_type": "markdown",
   "id": "b132585e",
   "metadata": {},
   "source": [
    "Без дубликатов в данных не обойтись, найдем их."
   ]
  },
  {
   "cell_type": "code",
   "execution_count": 13,
   "id": "fb5a7d2d",
   "metadata": {},
   "outputs": [
    {
     "data": {
      "text/plain": [
       "71"
      ]
     },
     "execution_count": 13,
     "metadata": {},
     "output_type": "execute_result"
    }
   ],
   "source": [
    "df.duplicated().sum()"
   ]
  },
  {
   "cell_type": "markdown",
   "id": "d6848b97",
   "metadata": {},
   "source": [
    "При общем количестве строк (более 20 тыс.) 71 дубликат не сыграет роли в итогах анализа, дубликаты можно просто удалить."
   ]
  },
  {
   "cell_type": "code",
   "execution_count": 14,
   "id": "54a32563",
   "metadata": {},
   "outputs": [
    {
     "data": {
      "text/plain": [
       "0"
      ]
     },
     "execution_count": 14,
     "metadata": {},
     "output_type": "execute_result"
    }
   ],
   "source": [
    "# Удаляем дубликаты, исправляем индексы и проверяем все ли получилось\n",
    "df = df.drop_duplicates().reset_index(drop=True)\n",
    "df.duplicated().sum()"
   ]
  },
  {
   "cell_type": "code",
   "execution_count": 15,
   "id": "e068c027",
   "metadata": {
    "scrolled": true
   },
   "outputs": [
    {
     "data": {
      "text/html": [
       "<div>\n",
       "<style scoped>\n",
       "    .dataframe tbody tr th:only-of-type {\n",
       "        vertical-align: middle;\n",
       "    }\n",
       "\n",
       "    .dataframe tbody tr th {\n",
       "        vertical-align: top;\n",
       "    }\n",
       "\n",
       "    .dataframe thead th {\n",
       "        text-align: right;\n",
       "    }\n",
       "</style>\n",
       "<table border=\"1\" class=\"dataframe\">\n",
       "  <thead>\n",
       "    <tr style=\"text-align: right;\">\n",
       "      <th></th>\n",
       "      <th>children</th>\n",
       "      <th>days_employed</th>\n",
       "      <th>dob_years</th>\n",
       "      <th>education_id</th>\n",
       "      <th>family_status_id</th>\n",
       "      <th>debt</th>\n",
       "      <th>total_income</th>\n",
       "    </tr>\n",
       "  </thead>\n",
       "  <tbody>\n",
       "    <tr>\n",
       "      <th>count</th>\n",
       "      <td>21454.000000</td>\n",
       "      <td>21454.000000</td>\n",
       "      <td>21454.000000</td>\n",
       "      <td>21454.000000</td>\n",
       "      <td>21454.000000</td>\n",
       "      <td>21454.000000</td>\n",
       "      <td>2.145400e+04</td>\n",
       "    </tr>\n",
       "    <tr>\n",
       "      <th>mean</th>\n",
       "      <td>0.480563</td>\n",
       "      <td>60570.114617</td>\n",
       "      <td>43.271231</td>\n",
       "      <td>0.817097</td>\n",
       "      <td>0.973898</td>\n",
       "      <td>0.081150</td>\n",
       "      <td>1.652256e+05</td>\n",
       "    </tr>\n",
       "    <tr>\n",
       "      <th>std</th>\n",
       "      <td>0.756069</td>\n",
       "      <td>133435.760575</td>\n",
       "      <td>12.570822</td>\n",
       "      <td>0.548674</td>\n",
       "      <td>1.421567</td>\n",
       "      <td>0.273072</td>\n",
       "      <td>9.802102e+04</td>\n",
       "    </tr>\n",
       "    <tr>\n",
       "      <th>min</th>\n",
       "      <td>0.000000</td>\n",
       "      <td>24.000000</td>\n",
       "      <td>0.000000</td>\n",
       "      <td>0.000000</td>\n",
       "      <td>0.000000</td>\n",
       "      <td>0.000000</td>\n",
       "      <td>2.066700e+04</td>\n",
       "    </tr>\n",
       "    <tr>\n",
       "      <th>25%</th>\n",
       "      <td>0.000000</td>\n",
       "      <td>1023.000000</td>\n",
       "      <td>33.000000</td>\n",
       "      <td>1.000000</td>\n",
       "      <td>0.000000</td>\n",
       "      <td>0.000000</td>\n",
       "      <td>1.076230e+05</td>\n",
       "    </tr>\n",
       "    <tr>\n",
       "      <th>50%</th>\n",
       "      <td>0.000000</td>\n",
       "      <td>2194.000000</td>\n",
       "      <td>42.000000</td>\n",
       "      <td>1.000000</td>\n",
       "      <td>0.000000</td>\n",
       "      <td>0.000000</td>\n",
       "      <td>1.450170e+05</td>\n",
       "    </tr>\n",
       "    <tr>\n",
       "      <th>75%</th>\n",
       "      <td>1.000000</td>\n",
       "      <td>4797.000000</td>\n",
       "      <td>53.000000</td>\n",
       "      <td>1.000000</td>\n",
       "      <td>1.000000</td>\n",
       "      <td>0.000000</td>\n",
       "      <td>1.958132e+05</td>\n",
       "    </tr>\n",
       "    <tr>\n",
       "      <th>max</th>\n",
       "      <td>5.000000</td>\n",
       "      <td>401755.000000</td>\n",
       "      <td>75.000000</td>\n",
       "      <td>4.000000</td>\n",
       "      <td>4.000000</td>\n",
       "      <td>1.000000</td>\n",
       "      <td>2.265604e+06</td>\n",
       "    </tr>\n",
       "  </tbody>\n",
       "</table>\n",
       "</div>"
      ],
      "text/plain": [
       "           children  days_employed     dob_years  education_id  \\\n",
       "count  21454.000000   21454.000000  21454.000000  21454.000000   \n",
       "mean       0.480563   60570.114617     43.271231      0.817097   \n",
       "std        0.756069  133435.760575     12.570822      0.548674   \n",
       "min        0.000000      24.000000      0.000000      0.000000   \n",
       "25%        0.000000    1023.000000     33.000000      1.000000   \n",
       "50%        0.000000    2194.000000     42.000000      1.000000   \n",
       "75%        1.000000    4797.000000     53.000000      1.000000   \n",
       "max        5.000000  401755.000000     75.000000      4.000000   \n",
       "\n",
       "       family_status_id          debt  total_income  \n",
       "count      21454.000000  21454.000000  2.145400e+04  \n",
       "mean           0.973898      0.081150  1.652256e+05  \n",
       "std            1.421567      0.273072  9.802102e+04  \n",
       "min            0.000000      0.000000  2.066700e+04  \n",
       "25%            0.000000      0.000000  1.076230e+05  \n",
       "50%            0.000000      0.000000  1.450170e+05  \n",
       "75%            1.000000      0.000000  1.958132e+05  \n",
       "max            4.000000      1.000000  2.265604e+06  "
      ]
     },
     "execution_count": 15,
     "metadata": {},
     "output_type": "execute_result"
    }
   ],
   "source": [
    "df.describe()"
   ]
  },
  {
   "cell_type": "code",
   "execution_count": 16,
   "id": "5fe6cd7b",
   "metadata": {},
   "outputs": [
    {
     "data": {
      "text/plain": [
       "array(['высшее', 'среднее', 'неоконченное высшее', 'начальное',\n",
       "       'ученая степень'], dtype=object)"
      ]
     },
     "metadata": {},
     "output_type": "display_data"
    },
    {
     "data": {
      "text/plain": [
       "array(['женат / замужем', 'гражданский брак', 'вдовец / вдова',\n",
       "       'в разводе', 'не женат / не замужем'], dtype=object)"
      ]
     },
     "metadata": {},
     "output_type": "display_data"
    },
    {
     "data": {
      "text/plain": [
       "array(['f', 'm', 'xna'], dtype=object)"
      ]
     },
     "metadata": {},
     "output_type": "display_data"
    },
    {
     "data": {
      "text/plain": [
       "array(['сотрудник', 'пенсионер', 'компаньон', 'госслужащий',\n",
       "       'безработный', 'предприниматель', 'студент', 'в декрете'],\n",
       "      dtype=object)"
      ]
     },
     "metadata": {},
     "output_type": "display_data"
    },
    {
     "data": {
      "text/plain": [
       "array(['покупка жилья', 'приобретение автомобиля',\n",
       "       'дополнительное образование', 'сыграть свадьбу',\n",
       "       'операции с жильем', 'образование', 'на проведение свадьбы',\n",
       "       'покупка жилья для семьи', 'покупка недвижимости',\n",
       "       'покупка коммерческой недвижимости', 'покупка жилой недвижимости',\n",
       "       'строительство собственной недвижимости', 'недвижимость',\n",
       "       'строительство недвижимости', 'на покупку подержанного автомобиля',\n",
       "       'на покупку своего автомобиля',\n",
       "       'операции с коммерческой недвижимостью',\n",
       "       'строительство жилой недвижимости', 'жилье',\n",
       "       'операции со своей недвижимостью', 'автомобили',\n",
       "       'заняться образованием', 'сделка с подержанным автомобилем',\n",
       "       'получение образования', 'автомобиль', 'свадьба',\n",
       "       'получение дополнительного образования', 'покупка своего жилья',\n",
       "       'операции с недвижимостью', 'получение высшего образования',\n",
       "       'свой автомобиль', 'сделка с автомобилем',\n",
       "       'профильное образование', 'высшее образование',\n",
       "       'покупка жилья для сдачи', 'на покупку автомобиля', 'ремонт жилью',\n",
       "       'заняться высшим образованием'], dtype=object)"
      ]
     },
     "metadata": {},
     "output_type": "display_data"
    }
   ],
   "source": [
    "display(df['education'].unique())\n",
    "display(df['family_status'].unique())\n",
    "display(df['gender'].unique())\n",
    "display(df['income_type'].unique())\n",
    "display(df['purpose'].unique())"
   ]
  },
  {
   "cell_type": "markdown",
   "id": "a19d6b90",
   "metadata": {},
   "source": [
    "Из аномалий остались только те, которые не повлияют на результат исследования:\n",
    " - в столбце gender присутствует значение \"xna\", исправить это значение на достоверное не представляется возможным;\n",
    " - в столбце days_employed присутствуют слишком большие значения, но это информация не используется в исследовании."
   ]
  },
  {
   "cell_type": "markdown",
   "id": "a3eac4cc",
   "metadata": {},
   "source": [
    "### <a id=\"2.3\">Шаг 2.3. Формирование дополнительных датафреймов словарей, декомпозиция исходного датафрейма.</a>"
   ]
  },
  {
   "cell_type": "markdown",
   "id": "624d5395",
   "metadata": {},
   "source": [
    "Для упрощения дальнейшей работы с данными создадим два дата фрейма на основании слобцов таблицы, где показателям присвоены сооветствующие ID. Это пригодтся для составления итоговых сводных таблиц. Обращение по ID предпочтительней, чем группировка всех данных по значениям."
   ]
  },
  {
   "cell_type": "code",
   "execution_count": 17,
   "id": "a45dbd52",
   "metadata": {},
   "outputs": [
    {
     "data": {
      "text/html": [
       "<div>\n",
       "<style scoped>\n",
       "    .dataframe tbody tr th:only-of-type {\n",
       "        vertical-align: middle;\n",
       "    }\n",
       "\n",
       "    .dataframe tbody tr th {\n",
       "        vertical-align: top;\n",
       "    }\n",
       "\n",
       "    .dataframe thead th {\n",
       "        text-align: right;\n",
       "    }\n",
       "</style>\n",
       "<table border=\"1\" class=\"dataframe\">\n",
       "  <thead>\n",
       "    <tr style=\"text-align: right;\">\n",
       "      <th></th>\n",
       "      <th>education</th>\n",
       "      <th>education_id</th>\n",
       "    </tr>\n",
       "  </thead>\n",
       "  <tbody>\n",
       "    <tr>\n",
       "      <th>0</th>\n",
       "      <td>высшее</td>\n",
       "      <td>0</td>\n",
       "    </tr>\n",
       "    <tr>\n",
       "      <th>1</th>\n",
       "      <td>среднее</td>\n",
       "      <td>1</td>\n",
       "    </tr>\n",
       "    <tr>\n",
       "      <th>2</th>\n",
       "      <td>неоконченное высшее</td>\n",
       "      <td>2</td>\n",
       "    </tr>\n",
       "    <tr>\n",
       "      <th>3</th>\n",
       "      <td>начальное</td>\n",
       "      <td>3</td>\n",
       "    </tr>\n",
       "    <tr>\n",
       "      <th>4</th>\n",
       "      <td>ученая степень</td>\n",
       "      <td>4</td>\n",
       "    </tr>\n",
       "  </tbody>\n",
       "</table>\n",
       "</div>"
      ],
      "text/plain": [
       "             education  education_id\n",
       "0               высшее             0\n",
       "1              среднее             1\n",
       "2  неоконченное высшее             2\n",
       "3            начальное             3\n",
       "4       ученая степень             4"
      ]
     },
     "execution_count": 17,
     "metadata": {},
     "output_type": "execute_result"
    }
   ],
   "source": [
    "# Создаем дата фрейм из двух столбцов основной таблицы\n",
    "df_education = df[['education', 'education_id']]\n",
    "# Удаляем дубликаты, оставив краткую таблицу со значениями и ID\n",
    "df_education = df_education.drop_duplicates().reset_index(drop=True)\n",
    "df_education # Выводим на экран новый дата фрейм"
   ]
  },
  {
   "cell_type": "markdown",
   "id": "6b862146",
   "metadata": {},
   "source": [
    "По аналогии с первым дата фреймом создадим второй"
   ]
  },
  {
   "cell_type": "code",
   "execution_count": 18,
   "id": "a4e2f2b2",
   "metadata": {},
   "outputs": [
    {
     "data": {
      "text/html": [
       "<div>\n",
       "<style scoped>\n",
       "    .dataframe tbody tr th:only-of-type {\n",
       "        vertical-align: middle;\n",
       "    }\n",
       "\n",
       "    .dataframe tbody tr th {\n",
       "        vertical-align: top;\n",
       "    }\n",
       "\n",
       "    .dataframe thead th {\n",
       "        text-align: right;\n",
       "    }\n",
       "</style>\n",
       "<table border=\"1\" class=\"dataframe\">\n",
       "  <thead>\n",
       "    <tr style=\"text-align: right;\">\n",
       "      <th></th>\n",
       "      <th>family_status</th>\n",
       "      <th>family_status_id</th>\n",
       "    </tr>\n",
       "  </thead>\n",
       "  <tbody>\n",
       "    <tr>\n",
       "      <th>0</th>\n",
       "      <td>женат / замужем</td>\n",
       "      <td>0</td>\n",
       "    </tr>\n",
       "    <tr>\n",
       "      <th>1</th>\n",
       "      <td>гражданский брак</td>\n",
       "      <td>1</td>\n",
       "    </tr>\n",
       "    <tr>\n",
       "      <th>2</th>\n",
       "      <td>вдовец / вдова</td>\n",
       "      <td>2</td>\n",
       "    </tr>\n",
       "    <tr>\n",
       "      <th>3</th>\n",
       "      <td>в разводе</td>\n",
       "      <td>3</td>\n",
       "    </tr>\n",
       "    <tr>\n",
       "      <th>4</th>\n",
       "      <td>не женат / не замужем</td>\n",
       "      <td>4</td>\n",
       "    </tr>\n",
       "  </tbody>\n",
       "</table>\n",
       "</div>"
      ],
      "text/plain": [
       "           family_status  family_status_id\n",
       "0        женат / замужем                 0\n",
       "1       гражданский брак                 1\n",
       "2         вдовец / вдова                 2\n",
       "3              в разводе                 3\n",
       "4  не женат / не замужем                 4"
      ]
     },
     "execution_count": 18,
     "metadata": {},
     "output_type": "execute_result"
    }
   ],
   "source": [
    "df_family = df[['family_status', 'family_status_id']]\n",
    "df_family = df_family.drop_duplicates().reset_index(drop=True)\n",
    "df_family"
   ]
  },
  {
   "cell_type": "code",
   "execution_count": 19,
   "id": "fb9a1f4c",
   "metadata": {},
   "outputs": [],
   "source": [
    "# Удалим из основной таблицы ненужные столбцы\n",
    "del df['education']\n",
    "del df['family_status']"
   ]
  },
  {
   "cell_type": "code",
   "execution_count": 20,
   "id": "df8aef81",
   "metadata": {},
   "outputs": [
    {
     "data": {
      "text/html": [
       "<div>\n",
       "<style scoped>\n",
       "    .dataframe tbody tr th:only-of-type {\n",
       "        vertical-align: middle;\n",
       "    }\n",
       "\n",
       "    .dataframe tbody tr th {\n",
       "        vertical-align: top;\n",
       "    }\n",
       "\n",
       "    .dataframe thead th {\n",
       "        text-align: right;\n",
       "    }\n",
       "</style>\n",
       "<table border=\"1\" class=\"dataframe\">\n",
       "  <thead>\n",
       "    <tr style=\"text-align: right;\">\n",
       "      <th></th>\n",
       "      <th>children</th>\n",
       "      <th>days_employed</th>\n",
       "      <th>dob_years</th>\n",
       "      <th>education_id</th>\n",
       "      <th>family_status_id</th>\n",
       "      <th>gender</th>\n",
       "      <th>income_type</th>\n",
       "      <th>debt</th>\n",
       "      <th>total_income</th>\n",
       "      <th>purpose</th>\n",
       "    </tr>\n",
       "  </thead>\n",
       "  <tbody>\n",
       "    <tr>\n",
       "      <th>0</th>\n",
       "      <td>1</td>\n",
       "      <td>8437</td>\n",
       "      <td>42</td>\n",
       "      <td>0</td>\n",
       "      <td>0</td>\n",
       "      <td>f</td>\n",
       "      <td>сотрудник</td>\n",
       "      <td>0</td>\n",
       "      <td>253875</td>\n",
       "      <td>покупка жилья</td>\n",
       "    </tr>\n",
       "    <tr>\n",
       "      <th>1</th>\n",
       "      <td>1</td>\n",
       "      <td>4024</td>\n",
       "      <td>36</td>\n",
       "      <td>1</td>\n",
       "      <td>0</td>\n",
       "      <td>f</td>\n",
       "      <td>сотрудник</td>\n",
       "      <td>0</td>\n",
       "      <td>112080</td>\n",
       "      <td>приобретение автомобиля</td>\n",
       "    </tr>\n",
       "    <tr>\n",
       "      <th>2</th>\n",
       "      <td>0</td>\n",
       "      <td>5623</td>\n",
       "      <td>33</td>\n",
       "      <td>1</td>\n",
       "      <td>0</td>\n",
       "      <td>m</td>\n",
       "      <td>сотрудник</td>\n",
       "      <td>0</td>\n",
       "      <td>145885</td>\n",
       "      <td>покупка жилья</td>\n",
       "    </tr>\n",
       "    <tr>\n",
       "      <th>3</th>\n",
       "      <td>3</td>\n",
       "      <td>4124</td>\n",
       "      <td>32</td>\n",
       "      <td>1</td>\n",
       "      <td>0</td>\n",
       "      <td>m</td>\n",
       "      <td>сотрудник</td>\n",
       "      <td>0</td>\n",
       "      <td>267628</td>\n",
       "      <td>дополнительное образование</td>\n",
       "    </tr>\n",
       "    <tr>\n",
       "      <th>4</th>\n",
       "      <td>0</td>\n",
       "      <td>340266</td>\n",
       "      <td>53</td>\n",
       "      <td>1</td>\n",
       "      <td>1</td>\n",
       "      <td>f</td>\n",
       "      <td>пенсионер</td>\n",
       "      <td>0</td>\n",
       "      <td>158616</td>\n",
       "      <td>сыграть свадьбу</td>\n",
       "    </tr>\n",
       "  </tbody>\n",
       "</table>\n",
       "</div>"
      ],
      "text/plain": [
       "   children  days_employed  dob_years  education_id  family_status_id gender  \\\n",
       "0         1           8437         42             0                 0      f   \n",
       "1         1           4024         36             1                 0      f   \n",
       "2         0           5623         33             1                 0      m   \n",
       "3         3           4124         32             1                 0      m   \n",
       "4         0         340266         53             1                 1      f   \n",
       "\n",
       "  income_type  debt  total_income                     purpose  \n",
       "0   сотрудник     0        253875               покупка жилья  \n",
       "1   сотрудник     0        112080     приобретение автомобиля  \n",
       "2   сотрудник     0        145885               покупка жилья  \n",
       "3   сотрудник     0        267628  дополнительное образование  \n",
       "4   пенсионер     0        158616             сыграть свадьбу  "
      ]
     },
     "execution_count": 20,
     "metadata": {},
     "output_type": "execute_result"
    }
   ],
   "source": [
    "df.head() # Для проверки выведем на экран основную таблицу"
   ]
  },
  {
   "cell_type": "markdown",
   "id": "bbd0f3e6",
   "metadata": {},
   "source": [
    "### <a id=\"2.4\">Шаг 2.4. Категоризация дохода.</a>"
   ]
  },
  {
   "cell_type": "markdown",
   "id": "3d37e8b4",
   "metadata": {},
   "source": [
    "В столбце \"общий доход\" (total_income) содержится много информации с которой не удобно работать. Для удобства нужно разделить ее на диапазоны и создать категорию для каждого из них.\n",
    "\n",
    "Для этой задачи создадим функцию, которая просматривает столбкц total_income и сравнивает каждое значение с условиями диапазонов. На основании полученных данных создадим столбец total_income_category и добавим его к общей таблице методом .apply()"
   ]
  },
  {
   "cell_type": "code",
   "execution_count": 21,
   "id": "8f71025f",
   "metadata": {},
   "outputs": [
    {
     "data": {
      "text/html": [
       "<div>\n",
       "<style scoped>\n",
       "    .dataframe tbody tr th:only-of-type {\n",
       "        vertical-align: middle;\n",
       "    }\n",
       "\n",
       "    .dataframe tbody tr th {\n",
       "        vertical-align: top;\n",
       "    }\n",
       "\n",
       "    .dataframe thead th {\n",
       "        text-align: right;\n",
       "    }\n",
       "</style>\n",
       "<table border=\"1\" class=\"dataframe\">\n",
       "  <thead>\n",
       "    <tr style=\"text-align: right;\">\n",
       "      <th></th>\n",
       "      <th>children</th>\n",
       "      <th>days_employed</th>\n",
       "      <th>dob_years</th>\n",
       "      <th>education_id</th>\n",
       "      <th>family_status_id</th>\n",
       "      <th>gender</th>\n",
       "      <th>income_type</th>\n",
       "      <th>debt</th>\n",
       "      <th>total_income</th>\n",
       "      <th>purpose</th>\n",
       "      <th>total_income_category</th>\n",
       "    </tr>\n",
       "  </thead>\n",
       "  <tbody>\n",
       "    <tr>\n",
       "      <th>0</th>\n",
       "      <td>1</td>\n",
       "      <td>8437</td>\n",
       "      <td>42</td>\n",
       "      <td>0</td>\n",
       "      <td>0</td>\n",
       "      <td>f</td>\n",
       "      <td>сотрудник</td>\n",
       "      <td>0</td>\n",
       "      <td>253875</td>\n",
       "      <td>покупка жилья</td>\n",
       "      <td>B</td>\n",
       "    </tr>\n",
       "    <tr>\n",
       "      <th>1</th>\n",
       "      <td>1</td>\n",
       "      <td>4024</td>\n",
       "      <td>36</td>\n",
       "      <td>1</td>\n",
       "      <td>0</td>\n",
       "      <td>f</td>\n",
       "      <td>сотрудник</td>\n",
       "      <td>0</td>\n",
       "      <td>112080</td>\n",
       "      <td>приобретение автомобиля</td>\n",
       "      <td>C</td>\n",
       "    </tr>\n",
       "    <tr>\n",
       "      <th>2</th>\n",
       "      <td>0</td>\n",
       "      <td>5623</td>\n",
       "      <td>33</td>\n",
       "      <td>1</td>\n",
       "      <td>0</td>\n",
       "      <td>m</td>\n",
       "      <td>сотрудник</td>\n",
       "      <td>0</td>\n",
       "      <td>145885</td>\n",
       "      <td>покупка жилья</td>\n",
       "      <td>C</td>\n",
       "    </tr>\n",
       "    <tr>\n",
       "      <th>3</th>\n",
       "      <td>3</td>\n",
       "      <td>4124</td>\n",
       "      <td>32</td>\n",
       "      <td>1</td>\n",
       "      <td>0</td>\n",
       "      <td>m</td>\n",
       "      <td>сотрудник</td>\n",
       "      <td>0</td>\n",
       "      <td>267628</td>\n",
       "      <td>дополнительное образование</td>\n",
       "      <td>B</td>\n",
       "    </tr>\n",
       "    <tr>\n",
       "      <th>4</th>\n",
       "      <td>0</td>\n",
       "      <td>340266</td>\n",
       "      <td>53</td>\n",
       "      <td>1</td>\n",
       "      <td>1</td>\n",
       "      <td>f</td>\n",
       "      <td>пенсионер</td>\n",
       "      <td>0</td>\n",
       "      <td>158616</td>\n",
       "      <td>сыграть свадьбу</td>\n",
       "      <td>C</td>\n",
       "    </tr>\n",
       "    <tr>\n",
       "      <th>5</th>\n",
       "      <td>0</td>\n",
       "      <td>926</td>\n",
       "      <td>27</td>\n",
       "      <td>0</td>\n",
       "      <td>1</td>\n",
       "      <td>m</td>\n",
       "      <td>компаньон</td>\n",
       "      <td>0</td>\n",
       "      <td>255763</td>\n",
       "      <td>покупка жилья</td>\n",
       "      <td>B</td>\n",
       "    </tr>\n",
       "    <tr>\n",
       "      <th>6</th>\n",
       "      <td>0</td>\n",
       "      <td>2879</td>\n",
       "      <td>43</td>\n",
       "      <td>0</td>\n",
       "      <td>0</td>\n",
       "      <td>f</td>\n",
       "      <td>компаньон</td>\n",
       "      <td>0</td>\n",
       "      <td>240525</td>\n",
       "      <td>операции с жильем</td>\n",
       "      <td>B</td>\n",
       "    </tr>\n",
       "    <tr>\n",
       "      <th>7</th>\n",
       "      <td>0</td>\n",
       "      <td>152</td>\n",
       "      <td>50</td>\n",
       "      <td>1</td>\n",
       "      <td>0</td>\n",
       "      <td>m</td>\n",
       "      <td>сотрудник</td>\n",
       "      <td>0</td>\n",
       "      <td>135823</td>\n",
       "      <td>образование</td>\n",
       "      <td>C</td>\n",
       "    </tr>\n",
       "    <tr>\n",
       "      <th>8</th>\n",
       "      <td>2</td>\n",
       "      <td>6929</td>\n",
       "      <td>35</td>\n",
       "      <td>0</td>\n",
       "      <td>1</td>\n",
       "      <td>f</td>\n",
       "      <td>сотрудник</td>\n",
       "      <td>0</td>\n",
       "      <td>95856</td>\n",
       "      <td>на проведение свадьбы</td>\n",
       "      <td>C</td>\n",
       "    </tr>\n",
       "    <tr>\n",
       "      <th>9</th>\n",
       "      <td>0</td>\n",
       "      <td>2188</td>\n",
       "      <td>41</td>\n",
       "      <td>1</td>\n",
       "      <td>0</td>\n",
       "      <td>m</td>\n",
       "      <td>сотрудник</td>\n",
       "      <td>0</td>\n",
       "      <td>144425</td>\n",
       "      <td>покупка жилья для семьи</td>\n",
       "      <td>C</td>\n",
       "    </tr>\n",
       "  </tbody>\n",
       "</table>\n",
       "</div>"
      ],
      "text/plain": [
       "   children  days_employed  dob_years  education_id  family_status_id gender  \\\n",
       "0         1           8437         42             0                 0      f   \n",
       "1         1           4024         36             1                 0      f   \n",
       "2         0           5623         33             1                 0      m   \n",
       "3         3           4124         32             1                 0      m   \n",
       "4         0         340266         53             1                 1      f   \n",
       "5         0            926         27             0                 1      m   \n",
       "6         0           2879         43             0                 0      f   \n",
       "7         0            152         50             1                 0      m   \n",
       "8         2           6929         35             0                 1      f   \n",
       "9         0           2188         41             1                 0      m   \n",
       "\n",
       "  income_type  debt  total_income                     purpose  \\\n",
       "0   сотрудник     0        253875               покупка жилья   \n",
       "1   сотрудник     0        112080     приобретение автомобиля   \n",
       "2   сотрудник     0        145885               покупка жилья   \n",
       "3   сотрудник     0        267628  дополнительное образование   \n",
       "4   пенсионер     0        158616             сыграть свадьбу   \n",
       "5   компаньон     0        255763               покупка жилья   \n",
       "6   компаньон     0        240525           операции с жильем   \n",
       "7   сотрудник     0        135823                 образование   \n",
       "8   сотрудник     0         95856       на проведение свадьбы   \n",
       "9   сотрудник     0        144425     покупка жилья для семьи   \n",
       "\n",
       "  total_income_category  \n",
       "0                     B  \n",
       "1                     C  \n",
       "2                     C  \n",
       "3                     B  \n",
       "4                     C  \n",
       "5                     B  \n",
       "6                     B  \n",
       "7                     C  \n",
       "8                     C  \n",
       "9                     C  "
      ]
     },
     "execution_count": 21,
     "metadata": {},
     "output_type": "execute_result"
    }
   ],
   "source": [
    "# Создаем функцию для просмотра исходных значений и определения их категорий\n",
    "def income_category(total_income):\n",
    "    if total_income >= 0 and total_income < 30001:\n",
    "        return 'E'\n",
    "    if total_income > 30000 and total_income < 50001:\n",
    "        return 'D'\n",
    "    if total_income > 50000 and total_income < 200001:\n",
    "        return 'C'\n",
    "    if total_income > 200000 and total_income < 1000001:\n",
    "        return 'B'\n",
    "    if total_income > 1000000:\n",
    "        return 'A'\n",
    "\n",
    "# Создаем новый столбец содержащий информацию о категориях уровня дохода и присоеденяем его к таблице\n",
    "df['total_income_category'] = df['total_income'].apply(income_category)\n",
    "df.head(10) # Для проверки выводим таблицу на экран"
   ]
  },
  {
   "cell_type": "code",
   "execution_count": 22,
   "id": "e1d949c4",
   "metadata": {},
   "outputs": [
    {
     "data": {
      "text/plain": [
       "children                 0\n",
       "days_employed            0\n",
       "dob_years                0\n",
       "education_id             0\n",
       "family_status_id         0\n",
       "gender                   0\n",
       "income_type              0\n",
       "debt                     0\n",
       "total_income             0\n",
       "purpose                  0\n",
       "total_income_category    0\n",
       "dtype: int64"
      ]
     },
     "execution_count": 22,
     "metadata": {},
     "output_type": "execute_result"
    }
   ],
   "source": [
    "df.isna().sum() # Проверим дополненную таблицу на предмет появления значений NaN"
   ]
  },
  {
   "cell_type": "code",
   "execution_count": 23,
   "id": "65e2985f",
   "metadata": {},
   "outputs": [
    {
     "data": {
      "text/plain": [
       "C    16016\n",
       "B     5041\n",
       "D      350\n",
       "A       25\n",
       "E       22\n",
       "Name: total_income_category, dtype: int64"
      ]
     },
     "execution_count": 23,
     "metadata": {},
     "output_type": "execute_result"
    }
   ],
   "source": [
    "# проверим все ли получилось\n",
    "df['total_income_category'].value_counts()"
   ]
  },
  {
   "cell_type": "markdown",
   "id": "4a2974ea",
   "metadata": {},
   "source": [
    "### <a id=\"2.5\">Шаг 2.5. Категоризация целей кредита.</a>"
   ]
  },
  {
   "cell_type": "markdown",
   "id": "63788f0a",
   "metadata": {},
   "source": [
    "Аналогично информации о доходах клиентов небходимо категоризировать информацию о целях кредита.\n",
    "\n",
    "Создаем функцию, которая будет искать в строках совпадения по ключевым частям слов, найденные значения разделим на заранее определенные категории. Сформируем новый столбец с категориями на основании данных полученных из функции и присоеденим его к основной таблице."
   ]
  },
  {
   "cell_type": "code",
   "execution_count": 24,
   "id": "04f3149e",
   "metadata": {},
   "outputs": [
    {
     "data": {
      "text/html": [
       "<div>\n",
       "<style scoped>\n",
       "    .dataframe tbody tr th:only-of-type {\n",
       "        vertical-align: middle;\n",
       "    }\n",
       "\n",
       "    .dataframe tbody tr th {\n",
       "        vertical-align: top;\n",
       "    }\n",
       "\n",
       "    .dataframe thead th {\n",
       "        text-align: right;\n",
       "    }\n",
       "</style>\n",
       "<table border=\"1\" class=\"dataframe\">\n",
       "  <thead>\n",
       "    <tr style=\"text-align: right;\">\n",
       "      <th></th>\n",
       "      <th>children</th>\n",
       "      <th>days_employed</th>\n",
       "      <th>dob_years</th>\n",
       "      <th>education_id</th>\n",
       "      <th>family_status_id</th>\n",
       "      <th>gender</th>\n",
       "      <th>income_type</th>\n",
       "      <th>debt</th>\n",
       "      <th>total_income</th>\n",
       "      <th>purpose</th>\n",
       "      <th>total_income_category</th>\n",
       "      <th>purpose_category</th>\n",
       "    </tr>\n",
       "  </thead>\n",
       "  <tbody>\n",
       "    <tr>\n",
       "      <th>0</th>\n",
       "      <td>1</td>\n",
       "      <td>8437</td>\n",
       "      <td>42</td>\n",
       "      <td>0</td>\n",
       "      <td>0</td>\n",
       "      <td>f</td>\n",
       "      <td>сотрудник</td>\n",
       "      <td>0</td>\n",
       "      <td>253875</td>\n",
       "      <td>покупка жилья</td>\n",
       "      <td>B</td>\n",
       "      <td>операции с недвижимостью</td>\n",
       "    </tr>\n",
       "    <tr>\n",
       "      <th>1</th>\n",
       "      <td>1</td>\n",
       "      <td>4024</td>\n",
       "      <td>36</td>\n",
       "      <td>1</td>\n",
       "      <td>0</td>\n",
       "      <td>f</td>\n",
       "      <td>сотрудник</td>\n",
       "      <td>0</td>\n",
       "      <td>112080</td>\n",
       "      <td>приобретение автомобиля</td>\n",
       "      <td>C</td>\n",
       "      <td>операции с автомобилем</td>\n",
       "    </tr>\n",
       "    <tr>\n",
       "      <th>2</th>\n",
       "      <td>0</td>\n",
       "      <td>5623</td>\n",
       "      <td>33</td>\n",
       "      <td>1</td>\n",
       "      <td>0</td>\n",
       "      <td>m</td>\n",
       "      <td>сотрудник</td>\n",
       "      <td>0</td>\n",
       "      <td>145885</td>\n",
       "      <td>покупка жилья</td>\n",
       "      <td>C</td>\n",
       "      <td>операции с недвижимостью</td>\n",
       "    </tr>\n",
       "    <tr>\n",
       "      <th>3</th>\n",
       "      <td>3</td>\n",
       "      <td>4124</td>\n",
       "      <td>32</td>\n",
       "      <td>1</td>\n",
       "      <td>0</td>\n",
       "      <td>m</td>\n",
       "      <td>сотрудник</td>\n",
       "      <td>0</td>\n",
       "      <td>267628</td>\n",
       "      <td>дополнительное образование</td>\n",
       "      <td>B</td>\n",
       "      <td>получение образования</td>\n",
       "    </tr>\n",
       "    <tr>\n",
       "      <th>4</th>\n",
       "      <td>0</td>\n",
       "      <td>340266</td>\n",
       "      <td>53</td>\n",
       "      <td>1</td>\n",
       "      <td>1</td>\n",
       "      <td>f</td>\n",
       "      <td>пенсионер</td>\n",
       "      <td>0</td>\n",
       "      <td>158616</td>\n",
       "      <td>сыграть свадьбу</td>\n",
       "      <td>C</td>\n",
       "      <td>проведение свадьбы</td>\n",
       "    </tr>\n",
       "    <tr>\n",
       "      <th>5</th>\n",
       "      <td>0</td>\n",
       "      <td>926</td>\n",
       "      <td>27</td>\n",
       "      <td>0</td>\n",
       "      <td>1</td>\n",
       "      <td>m</td>\n",
       "      <td>компаньон</td>\n",
       "      <td>0</td>\n",
       "      <td>255763</td>\n",
       "      <td>покупка жилья</td>\n",
       "      <td>B</td>\n",
       "      <td>операции с недвижимостью</td>\n",
       "    </tr>\n",
       "    <tr>\n",
       "      <th>6</th>\n",
       "      <td>0</td>\n",
       "      <td>2879</td>\n",
       "      <td>43</td>\n",
       "      <td>0</td>\n",
       "      <td>0</td>\n",
       "      <td>f</td>\n",
       "      <td>компаньон</td>\n",
       "      <td>0</td>\n",
       "      <td>240525</td>\n",
       "      <td>операции с жильем</td>\n",
       "      <td>B</td>\n",
       "      <td>операции с недвижимостью</td>\n",
       "    </tr>\n",
       "    <tr>\n",
       "      <th>7</th>\n",
       "      <td>0</td>\n",
       "      <td>152</td>\n",
       "      <td>50</td>\n",
       "      <td>1</td>\n",
       "      <td>0</td>\n",
       "      <td>m</td>\n",
       "      <td>сотрудник</td>\n",
       "      <td>0</td>\n",
       "      <td>135823</td>\n",
       "      <td>образование</td>\n",
       "      <td>C</td>\n",
       "      <td>получение образования</td>\n",
       "    </tr>\n",
       "    <tr>\n",
       "      <th>8</th>\n",
       "      <td>2</td>\n",
       "      <td>6929</td>\n",
       "      <td>35</td>\n",
       "      <td>0</td>\n",
       "      <td>1</td>\n",
       "      <td>f</td>\n",
       "      <td>сотрудник</td>\n",
       "      <td>0</td>\n",
       "      <td>95856</td>\n",
       "      <td>на проведение свадьбы</td>\n",
       "      <td>C</td>\n",
       "      <td>проведение свадьбы</td>\n",
       "    </tr>\n",
       "    <tr>\n",
       "      <th>9</th>\n",
       "      <td>0</td>\n",
       "      <td>2188</td>\n",
       "      <td>41</td>\n",
       "      <td>1</td>\n",
       "      <td>0</td>\n",
       "      <td>m</td>\n",
       "      <td>сотрудник</td>\n",
       "      <td>0</td>\n",
       "      <td>144425</td>\n",
       "      <td>покупка жилья для семьи</td>\n",
       "      <td>C</td>\n",
       "      <td>операции с недвижимостью</td>\n",
       "    </tr>\n",
       "  </tbody>\n",
       "</table>\n",
       "</div>"
      ],
      "text/plain": [
       "   children  days_employed  dob_years  education_id  family_status_id gender  \\\n",
       "0         1           8437         42             0                 0      f   \n",
       "1         1           4024         36             1                 0      f   \n",
       "2         0           5623         33             1                 0      m   \n",
       "3         3           4124         32             1                 0      m   \n",
       "4         0         340266         53             1                 1      f   \n",
       "5         0            926         27             0                 1      m   \n",
       "6         0           2879         43             0                 0      f   \n",
       "7         0            152         50             1                 0      m   \n",
       "8         2           6929         35             0                 1      f   \n",
       "9         0           2188         41             1                 0      m   \n",
       "\n",
       "  income_type  debt  total_income                     purpose  \\\n",
       "0   сотрудник     0        253875               покупка жилья   \n",
       "1   сотрудник     0        112080     приобретение автомобиля   \n",
       "2   сотрудник     0        145885               покупка жилья   \n",
       "3   сотрудник     0        267628  дополнительное образование   \n",
       "4   пенсионер     0        158616             сыграть свадьбу   \n",
       "5   компаньон     0        255763               покупка жилья   \n",
       "6   компаньон     0        240525           операции с жильем   \n",
       "7   сотрудник     0        135823                 образование   \n",
       "8   сотрудник     0         95856       на проведение свадьбы   \n",
       "9   сотрудник     0        144425     покупка жилья для семьи   \n",
       "\n",
       "  total_income_category          purpose_category  \n",
       "0                     B  операции с недвижимостью  \n",
       "1                     C    операции с автомобилем  \n",
       "2                     C  операции с недвижимостью  \n",
       "3                     B     получение образования  \n",
       "4                     C        проведение свадьбы  \n",
       "5                     B  операции с недвижимостью  \n",
       "6                     B  операции с недвижимостью  \n",
       "7                     C     получение образования  \n",
       "8                     C        проведение свадьбы  \n",
       "9                     C  операции с недвижимостью  "
      ]
     },
     "execution_count": 24,
     "metadata": {},
     "output_type": "execute_result"
    }
   ],
   "source": [
    "def category_for_purpose(purpose):\n",
    "    if 'авто' in purpose:\n",
    "        return 'операции с автомобилем'\n",
    "    if 'свад' in purpose:\n",
    "        return 'проведение свадьбы'\n",
    "    if 'образ' in purpose:\n",
    "        return 'получение образования'\n",
    "    if 'жил' in purpose or 'недвиж' in purpose:\n",
    "        return 'операции с недвижимостью'\n",
    "\n",
    "\n",
    "df['purpose_category'] = df['purpose'].apply(category_for_purpose)\n",
    "df.head(10)"
   ]
  },
  {
   "cell_type": "code",
   "execution_count": 25,
   "id": "9141f0fb",
   "metadata": {},
   "outputs": [
    {
     "data": {
      "text/plain": [
       "children                 0\n",
       "days_employed            0\n",
       "dob_years                0\n",
       "education_id             0\n",
       "family_status_id         0\n",
       "gender                   0\n",
       "income_type              0\n",
       "debt                     0\n",
       "total_income             0\n",
       "purpose                  0\n",
       "total_income_category    0\n",
       "purpose_category         0\n",
       "dtype: int64"
      ]
     },
     "execution_count": 25,
     "metadata": {},
     "output_type": "execute_result"
    }
   ],
   "source": [
    "df.isna().sum() # Проверим дополненную таблицу на предмет появления значений NaN"
   ]
  },
  {
   "cell_type": "code",
   "execution_count": 26,
   "id": "e88a7172",
   "metadata": {},
   "outputs": [
    {
     "data": {
      "text/plain": [
       "array(['операции с недвижимостью', 'операции с автомобилем',\n",
       "       'получение образования', 'проведение свадьбы'], dtype=object)"
      ]
     },
     "execution_count": 26,
     "metadata": {},
     "output_type": "execute_result"
    }
   ],
   "source": [
    "df['purpose_category'].unique() # просмотр уникальных значений"
   ]
  },
  {
   "cell_type": "markdown",
   "id": "a6c0ae0e",
   "metadata": {},
   "source": [
    "## <a id=\"test\">Шаг 3. Проверка гипотез</a>"
   ]
  },
  {
   "cell_type": "markdown",
   "id": "c714c1d1",
   "metadata": {},
   "source": [
    "К данному этапу мы полностью обработали необходимую информацию. Теперь пришло время отвечать на главные вопросы, которые поставил заказчик.\n",
    "\n",
    "Для подсчета процента возможности просрочки по кредиту во всех таблицах этого раздела будет использоваться столбец 'debt' содержащий индекс наличия задолженности по кредиту (0 - задолженности нет, 1 - задолженность есть).\n",
    "\n",
    "Приступим!"
   ]
  },
  {
   "cell_type": "markdown",
   "id": "07e6b874",
   "metadata": {},
   "source": [
    "### <a id=\"3.1\">Гипотеза 1: Есть ли зависимость между количеством детей и возвратом кредита в срок?</a>"
   ]
  },
  {
   "cell_type": "markdown",
   "id": "ba27ce68",
   "metadata": {},
   "source": [
    "С помощью метода .pivot_table() создадим сводную таблицу, основным будет столбец содержащий информацию о количестве детей у заемщика(children), по какому столбцу будет вестись подсчет в данном случае не принципиально.\n",
    "\n",
    "Далее будет создан столбец pay_index в котором будет находиться значение вероятности возникновения задолженности по кредиту в процентах."
   ]
  },
  {
   "cell_type": "code",
   "execution_count": 27,
   "id": "7d8a394b",
   "metadata": {},
   "outputs": [
    {
     "data": {
      "text/html": [
       "<div>\n",
       "<style scoped>\n",
       "    .dataframe tbody tr th:only-of-type {\n",
       "        vertical-align: middle;\n",
       "    }\n",
       "\n",
       "    .dataframe tbody tr th {\n",
       "        vertical-align: top;\n",
       "    }\n",
       "\n",
       "    .dataframe thead th {\n",
       "        text-align: right;\n",
       "    }\n",
       "</style>\n",
       "<table border=\"1\" class=\"dataframe\">\n",
       "  <thead>\n",
       "    <tr style=\"text-align: right;\">\n",
       "      <th>debt</th>\n",
       "      <th>0</th>\n",
       "      <th>1</th>\n",
       "      <th>pay_index</th>\n",
       "    </tr>\n",
       "    <tr>\n",
       "      <th>children</th>\n",
       "      <th></th>\n",
       "      <th></th>\n",
       "      <th></th>\n",
       "    </tr>\n",
       "  </thead>\n",
       "  <tbody>\n",
       "    <tr>\n",
       "      <th>5</th>\n",
       "      <td>9</td>\n",
       "      <td>0</td>\n",
       "      <td>0.0%</td>\n",
       "    </tr>\n",
       "    <tr>\n",
       "      <th>1</th>\n",
       "      <td>4410</td>\n",
       "      <td>445</td>\n",
       "      <td>10.09%</td>\n",
       "    </tr>\n",
       "    <tr>\n",
       "      <th>2</th>\n",
       "      <td>1926</td>\n",
       "      <td>202</td>\n",
       "      <td>10.49%</td>\n",
       "    </tr>\n",
       "    <tr>\n",
       "      <th>4</th>\n",
       "      <td>37</td>\n",
       "      <td>4</td>\n",
       "      <td>10.81%</td>\n",
       "    </tr>\n",
       "    <tr>\n",
       "      <th>0</th>\n",
       "      <td>13028</td>\n",
       "      <td>1063</td>\n",
       "      <td>8.16%</td>\n",
       "    </tr>\n",
       "    <tr>\n",
       "      <th>3</th>\n",
       "      <td>303</td>\n",
       "      <td>27</td>\n",
       "      <td>8.91%</td>\n",
       "    </tr>\n",
       "  </tbody>\n",
       "</table>\n",
       "</div>"
      ],
      "text/plain": [
       "debt          0     1 pay_index\n",
       "children                       \n",
       "5             9     0      0.0%\n",
       "1          4410   445    10.09%\n",
       "2          1926   202    10.49%\n",
       "4            37     4    10.81%\n",
       "0         13028  1063     8.16%\n",
       "3           303    27     8.91%"
      ]
     },
     "execution_count": 27,
     "metadata": {},
     "output_type": "execute_result"
    }
   ],
   "source": [
    "# Создаем сводную таблицу методом .pivot_table\n",
    "pay_with_children = df.pivot_table(index = 'children', columns = 'debt', values = 'education_id', \n",
    "                                    aggfunc='count', fill_value=0)\n",
    "\n",
    "# Проводим расчет вероятности возникновения задолженности\n",
    "# прикрепляем столбец с этими сведениями к сводной таблице\n",
    "pay_with_children['pay_index'] = ((pay_with_children[1] / pay_with_children[0]) * 100).round(2).astype(str) + '%'\n",
    "pay_with_children.sort_values(by = 'pay_index') # Выводим на экран сводную таблицу, сортируем по убыванию"
   ]
  },
  {
   "cell_type": "markdown",
   "id": "a1e45814",
   "metadata": {},
   "source": [
    "##### Вывод:"
   ]
  },
  {
   "cell_type": "markdown",
   "id": "61197a9d",
   "metadata": {},
   "source": [
    "Проверка гипотезы показала, что количество детей у заемщика может отклонить вероятность просрочки максимум на 3% в большую сторону.\n",
    "\n",
    "В данном случае выделяются заемщики с 5 детьми, у них просрочка отсутствует полностью, но т.к. их всего 9 человек, то этот параметр не стоит принимать в серьез, для его проверки нужна более обширная выборка.\n",
    "\n",
    " - Самыми надежными клиентами можно назвать тех, у кого детей нет или у кого 3 ребенка;\n",
    " - Клиенты с 1, 2 и 4 детьми допускаю просрочку по кредиту с вероятностью, в среднем, 10.4%, думаю с ними нужно быть внимательнее и     проводить более тщательную проверку."
   ]
  },
  {
   "cell_type": "markdown",
   "id": "fcd373d4",
   "metadata": {},
   "source": [
    "### <a id=\"3.2\">Гипотеза 2: Есть ли зависимость между семейным положением и возвратом кредита в срок?</a>"
   ]
  },
  {
   "cell_type": "markdown",
   "id": "2b5f4154",
   "metadata": {},
   "source": [
    "Создаем сводную таблицу по аналогии с первой, основной столбец заменяем на family_status_id, т.к. необходимо узнать возможность возникновения долга в зависимости от семейного статуса."
   ]
  },
  {
   "cell_type": "code",
   "execution_count": 29,
   "id": "ef6aa75f",
   "metadata": {},
   "outputs": [
    {
     "data": {
      "text/html": [
       "<div>\n",
       "<style scoped>\n",
       "    .dataframe tbody tr th:only-of-type {\n",
       "        vertical-align: middle;\n",
       "    }\n",
       "\n",
       "    .dataframe tbody tr th {\n",
       "        vertical-align: top;\n",
       "    }\n",
       "\n",
       "    .dataframe thead th {\n",
       "        text-align: right;\n",
       "    }\n",
       "</style>\n",
       "<table border=\"1\" class=\"dataframe\">\n",
       "  <thead>\n",
       "    <tr style=\"text-align: right;\">\n",
       "      <th></th>\n",
       "      <th>family_status</th>\n",
       "      <th>0</th>\n",
       "      <th>1</th>\n",
       "      <th>pay_index</th>\n",
       "    </tr>\n",
       "  </thead>\n",
       "  <tbody>\n",
       "    <tr>\n",
       "      <th>1</th>\n",
       "      <td>гражданский брак</td>\n",
       "      <td>3763</td>\n",
       "      <td>388</td>\n",
       "      <td>10.31%</td>\n",
       "    </tr>\n",
       "    <tr>\n",
       "      <th>4</th>\n",
       "      <td>не женат / не замужем</td>\n",
       "      <td>2536</td>\n",
       "      <td>274</td>\n",
       "      <td>10.8%</td>\n",
       "    </tr>\n",
       "    <tr>\n",
       "      <th>2</th>\n",
       "      <td>вдовец / вдова</td>\n",
       "      <td>896</td>\n",
       "      <td>63</td>\n",
       "      <td>7.03%</td>\n",
       "    </tr>\n",
       "    <tr>\n",
       "      <th>3</th>\n",
       "      <td>в разводе</td>\n",
       "      <td>1110</td>\n",
       "      <td>85</td>\n",
       "      <td>7.66%</td>\n",
       "    </tr>\n",
       "    <tr>\n",
       "      <th>0</th>\n",
       "      <td>женат / замужем</td>\n",
       "      <td>11408</td>\n",
       "      <td>931</td>\n",
       "      <td>8.16%</td>\n",
       "    </tr>\n",
       "  </tbody>\n",
       "</table>\n",
       "</div>"
      ],
      "text/plain": [
       "           family_status      0    1 pay_index\n",
       "1       гражданский брак   3763  388    10.31%\n",
       "4  не женат / не замужем   2536  274     10.8%\n",
       "2         вдовец / вдова    896   63     7.03%\n",
       "3              в разводе   1110   85     7.66%\n",
       "0        женат / замужем  11408  931     8.16%"
      ]
     },
     "execution_count": 29,
     "metadata": {},
     "output_type": "execute_result"
    }
   ],
   "source": [
    "pay_family_status = df.pivot_table(index = 'family_status_id', columns = 'debt', values = 'education_id', \n",
    "                                    aggfunc='count', fill_value=0)\n",
    "\n",
    "# С помощью метода .merge() присоеденяем таблицу содержащую семейный статус\n",
    "# \"склеивать\" таблицы будем по столбцу содержащему ID семейного статуса\n",
    "pay_family_status = df_family.merge(pay_family_status, on='family_status_id', how='left')\n",
    "# Для того что бы избежать путанницу из дополненной таблицы удаляем столбец содержащий ID семейного положения\n",
    "del pay_family_status['family_status_id']\n",
    "\n",
    "pay_family_status['pay_index'] = ((pay_family_status[1] / pay_family_status[0]) * 100).round(2).astype(str) + '%'\n",
    "pay_family_status.sort_values(by = 'pay_index')"
   ]
  },
  {
   "cell_type": "markdown",
   "id": "29a24a5d",
   "metadata": {},
   "source": [
    "##### Вывод:"
   ]
  },
  {
   "cell_type": "markdown",
   "id": "31726117",
   "metadata": {},
   "source": [
    "Проверка данной гипотезы показала интересные закономерности:\n",
    " - Самыми безответственными в отношении погашения кредитов оказались люди либо холостые, либо состоящие в незарегестрированных отношениях;\n",
    " - Лучшие показатели показывают люди, чьи отношения по тем или иным причинам прекратились, думаю ответ на вопрос \"почему\" лежит уже скорее в области психологии;\n",
    " - Средним результатом могут похвастаться пары состоящие в официально зарегистрированных отношениях.\n",
    " \n",
    "Думаю, что категорию \"холостяков\" следует подвергать более внимательному анализу на предмет надежности источников дохода и положительной кредитной истории."
   ]
  },
  {
   "cell_type": "markdown",
   "id": "c923e1bd",
   "metadata": {},
   "source": [
    "### <a id=\"3.3\">Гипотеза 3: Есть ли зависимость между уровнем дохода и возвратом кредита в срок?</a>"
   ]
  },
  {
   "cell_type": "markdown",
   "id": "63943a72",
   "metadata": {},
   "source": [
    "Создаем сводную таблицу по аналогии с первой, основной столбец заменяем на total_income_category, т.к. необходимо узнать возможность возникновения долга в зависимости от дохода."
   ]
  },
  {
   "cell_type": "code",
   "execution_count": 30,
   "id": "aed01113",
   "metadata": {},
   "outputs": [
    {
     "data": {
      "text/html": [
       "<div>\n",
       "<style scoped>\n",
       "    .dataframe tbody tr th:only-of-type {\n",
       "        vertical-align: middle;\n",
       "    }\n",
       "\n",
       "    .dataframe tbody tr th {\n",
       "        vertical-align: top;\n",
       "    }\n",
       "\n",
       "    .dataframe thead th {\n",
       "        text-align: right;\n",
       "    }\n",
       "</style>\n",
       "<table border=\"1\" class=\"dataframe\">\n",
       "  <thead>\n",
       "    <tr style=\"text-align: right;\">\n",
       "      <th>debt</th>\n",
       "      <th>0</th>\n",
       "      <th>1</th>\n",
       "      <th>pay_index</th>\n",
       "    </tr>\n",
       "    <tr>\n",
       "      <th>total_income_category</th>\n",
       "      <th></th>\n",
       "      <th></th>\n",
       "      <th></th>\n",
       "    </tr>\n",
       "  </thead>\n",
       "  <tbody>\n",
       "    <tr>\n",
       "      <th>E</th>\n",
       "      <td>20</td>\n",
       "      <td>2</td>\n",
       "      <td>10.0%</td>\n",
       "    </tr>\n",
       "    <tr>\n",
       "      <th>D</th>\n",
       "      <td>329</td>\n",
       "      <td>21</td>\n",
       "      <td>6.38%</td>\n",
       "    </tr>\n",
       "    <tr>\n",
       "      <th>B</th>\n",
       "      <td>4685</td>\n",
       "      <td>356</td>\n",
       "      <td>7.6%</td>\n",
       "    </tr>\n",
       "    <tr>\n",
       "      <th>A</th>\n",
       "      <td>23</td>\n",
       "      <td>2</td>\n",
       "      <td>8.7%</td>\n",
       "    </tr>\n",
       "    <tr>\n",
       "      <th>C</th>\n",
       "      <td>14656</td>\n",
       "      <td>1360</td>\n",
       "      <td>9.28%</td>\n",
       "    </tr>\n",
       "  </tbody>\n",
       "</table>\n",
       "</div>"
      ],
      "text/plain": [
       "debt                       0     1 pay_index\n",
       "total_income_category                       \n",
       "E                         20     2     10.0%\n",
       "D                        329    21     6.38%\n",
       "B                       4685   356      7.6%\n",
       "A                         23     2      8.7%\n",
       "C                      14656  1360     9.28%"
      ]
     },
     "execution_count": 30,
     "metadata": {},
     "output_type": "execute_result"
    }
   ],
   "source": [
    "pay_income_status = df.pivot_table(index = 'total_income_category', columns = 'debt', values = 'education_id', \n",
    "                                    aggfunc='count', fill_value=0)\n",
    "\n",
    "pay_income_status['pay_index'] = ((pay_income_status[1] / pay_income_status[0]) * 100).round(2).astype(str) + '%'\n",
    "pay_income_status.sort_values(by = 'pay_index')"
   ]
  },
  {
   "cell_type": "markdown",
   "id": "d5b74620",
   "metadata": {},
   "source": [
    "##### Вывод:"
   ]
  },
  {
   "cell_type": "markdown",
   "id": "a4592756",
   "metadata": {},
   "source": [
    "Рассмотрим результаты гипотезы зависимости между уровнем дохода и возвратом займа в срок:\n",
    " - Явно выделяется только группа с уровнем доходв 'D' (до 30 тыс.руб.), с показателем 6.38% они показываю себя самыми ответственными плательщиками;\n",
    " - Группы категорий 'C' (от 50 до 200 тыс.руб.) и 'Е' (от 30 до 50 тыс.руб.) имеют самые большие показатели вероятности просрочки кредита составляющие 9.28% и 10% соответственно, думаю стоит тщательнее их проверять;\n",
    " - Остальные группы заемщиков показывают средний результат."
   ]
  },
  {
   "cell_type": "markdown",
   "id": "1dc00ac9",
   "metadata": {},
   "source": [
    "### <a id=\"3.4\">Гипотеза 4: Как разные цели кредита влияют на его возврат в срок?</a>"
   ]
  },
  {
   "cell_type": "markdown",
   "id": "12f5badd",
   "metadata": {},
   "source": [
    "Создаем сводную таблицу по аналогии с первой, основной столбец заменяем на purpose_category, т.к. необходимо узнать возможность возникновения долга в зависимости от цели кредита."
   ]
  },
  {
   "cell_type": "code",
   "execution_count": 31,
   "id": "877a0522",
   "metadata": {},
   "outputs": [
    {
     "data": {
      "text/html": [
       "<div>\n",
       "<style scoped>\n",
       "    .dataframe tbody tr th:only-of-type {\n",
       "        vertical-align: middle;\n",
       "    }\n",
       "\n",
       "    .dataframe tbody tr th {\n",
       "        vertical-align: top;\n",
       "    }\n",
       "\n",
       "    .dataframe thead th {\n",
       "        text-align: right;\n",
       "    }\n",
       "</style>\n",
       "<table border=\"1\" class=\"dataframe\">\n",
       "  <thead>\n",
       "    <tr style=\"text-align: right;\">\n",
       "      <th>debt</th>\n",
       "      <th>0</th>\n",
       "      <th>1</th>\n",
       "      <th>pay_index</th>\n",
       "    </tr>\n",
       "    <tr>\n",
       "      <th>purpose_category</th>\n",
       "      <th></th>\n",
       "      <th></th>\n",
       "      <th></th>\n",
       "    </tr>\n",
       "  </thead>\n",
       "  <tbody>\n",
       "    <tr>\n",
       "      <th>получение образования</th>\n",
       "      <td>3643</td>\n",
       "      <td>370</td>\n",
       "      <td>10.16%</td>\n",
       "    </tr>\n",
       "    <tr>\n",
       "      <th>операции с автомобилем</th>\n",
       "      <td>3903</td>\n",
       "      <td>403</td>\n",
       "      <td>10.33%</td>\n",
       "    </tr>\n",
       "    <tr>\n",
       "      <th>операции с недвижимостью</th>\n",
       "      <td>10029</td>\n",
       "      <td>782</td>\n",
       "      <td>7.8%</td>\n",
       "    </tr>\n",
       "    <tr>\n",
       "      <th>проведение свадьбы</th>\n",
       "      <td>2138</td>\n",
       "      <td>186</td>\n",
       "      <td>8.7%</td>\n",
       "    </tr>\n",
       "  </tbody>\n",
       "</table>\n",
       "</div>"
      ],
      "text/plain": [
       "debt                          0    1 pay_index\n",
       "purpose_category                              \n",
       "получение образования      3643  370    10.16%\n",
       "операции с автомобилем     3903  403    10.33%\n",
       "операции с недвижимостью  10029  782      7.8%\n",
       "проведение свадьбы         2138  186      8.7%"
      ]
     },
     "execution_count": 31,
     "metadata": {},
     "output_type": "execute_result"
    }
   ],
   "source": [
    "pay_purpose_status = df.pivot_table(index = 'purpose_category', columns = 'debt', values = 'education_id', \n",
    "                                    aggfunc='count', fill_value=0)\n",
    "\n",
    "pay_purpose_status['pay_index'] = ((pay_purpose_status[1] / pay_purpose_status[0]) * 100).round(2).astype(str) + '%'\n",
    "pay_purpose_status.sort_values(by = 'pay_index')"
   ]
  },
  {
   "cell_type": "markdown",
   "id": "d8dabac6",
   "metadata": {},
   "source": [
    "##### Вывод:"
   ]
  },
  {
   "cell_type": "markdown",
   "id": "0e134ee4",
   "metadata": {},
   "source": [
    "Рассмотрим результаты гипотезы влияния целей кредита на его возврат в срок:\n",
    " - Самые лучшие показатели показывают самые счастливые люди, покупка недвижимости или свадьба похоже прибаляет ответственности, показатели 7.8% и 8.7% соответственно являются минимальными из всех частовстречаемых в данном исследовании;\n",
    " - Кредиты взятые на получение образования и операции с автомобилями имеют больший процент вероятности просрочки займа, считаю что это связано:\n",
    "   - у первых с проблемами в трудоустройстве;\n",
    "   - у вторых из-за не просчитанных затрат на содержание нового автомобиля."
   ]
  },
  {
   "cell_type": "markdown",
   "id": "509e620c",
   "metadata": {},
   "source": [
    "## <a id=\"finish\">Общий вывод</a>"
   ]
  },
  {
   "cell_type": "markdown",
   "id": "12702236",
   "metadata": {},
   "source": [
    "По итогам исследования можно сказать, что за редким исключением вероятность просрочки возврата займа находится в диапазоне от 7.5% до 10.5%.\n",
    "\n",
    "Следует уделять особое внимание клиентам со средним уровнем дохода, имеющим детей, находящимся в незарегистрированных отнашениях или берущим займ на цели связанные с образованием или на операции с автотранспортом. Для этих клиентов необходимо ввести более жесткую систему контроля проверки информации.\n",
    "\n",
    "Можно дать некоторые рекомендации банку:\n",
    " 1. Провести работу по улучшению качества информации о клиентах;\n",
    " 2. Исключить ручнойй ввод информации о клиентах сотрудниками банка, ввести систему для шаблонизации информации;\n",
    " 3. Более тщательно контролировать выгрузку данных;\n",
    " 4. При обнаружении недочетов в информации о клиентах организовать службу, которая будет связываться с клиентом и уточнять данные;\n",
    " 5. Провести работы по оптимизации ПО предназначенного для хранения информации;\n",
    " 6. Предлагаю отсеивать клиентов у котрых не возможно проверить достоверность информации о доходах."
   ]
  }
 ],
 "metadata": {
  "ExecuteTimeLog": [
   {
    "duration": 595,
    "start_time": "2022-03-09T04:21:22.399Z"
   },
   {
    "duration": 66,
    "start_time": "2022-03-09T04:22:26.672Z"
   },
   {
    "duration": 56,
    "start_time": "2022-03-09T04:22:36.686Z"
   },
   {
    "duration": 11,
    "start_time": "2022-03-09T04:36:48.927Z"
   },
   {
    "duration": 5,
    "start_time": "2022-03-09T05:09:42.851Z"
   },
   {
    "duration": 4,
    "start_time": "2022-03-09T05:10:45.516Z"
   },
   {
    "duration": 10,
    "start_time": "2022-03-09T05:32:11.369Z"
   },
   {
    "duration": 17,
    "start_time": "2022-03-09T06:24:50.116Z"
   },
   {
    "duration": 261,
    "start_time": "2022-03-09T06:25:22.718Z"
   },
   {
    "duration": 17,
    "start_time": "2022-03-09T06:25:35.410Z"
   },
   {
    "duration": 193,
    "start_time": "2022-03-09T06:26:26.425Z"
   },
   {
    "duration": 6,
    "start_time": "2022-03-09T06:28:45.961Z"
   },
   {
    "duration": 198,
    "start_time": "2022-03-09T06:29:24.848Z"
   },
   {
    "duration": 175,
    "start_time": "2022-03-09T06:29:30.705Z"
   },
   {
    "duration": 6,
    "start_time": "2022-03-09T06:29:42.217Z"
   },
   {
    "duration": 178,
    "start_time": "2022-03-09T06:31:54.499Z"
   },
   {
    "duration": 7,
    "start_time": "2022-03-09T06:32:08.136Z"
   },
   {
    "duration": 4401,
    "start_time": "2022-03-09T06:37:10.022Z"
   },
   {
    "duration": 11,
    "start_time": "2022-03-09T06:41:08.240Z"
   },
   {
    "duration": 7,
    "start_time": "2022-03-09T06:43:16.239Z"
   },
   {
    "duration": 8,
    "start_time": "2022-03-09T06:43:32.704Z"
   },
   {
    "duration": 8,
    "start_time": "2022-03-09T06:43:39.551Z"
   },
   {
    "duration": 15,
    "start_time": "2022-03-09T06:45:25.580Z"
   },
   {
    "duration": 6,
    "start_time": "2022-03-09T06:48:07.304Z"
   },
   {
    "duration": 7,
    "start_time": "2022-03-09T06:48:19.823Z"
   },
   {
    "duration": 8,
    "start_time": "2022-03-09T06:49:25.296Z"
   },
   {
    "duration": 7,
    "start_time": "2022-03-09T06:54:36.567Z"
   },
   {
    "duration": 7,
    "start_time": "2022-03-09T06:54:58.416Z"
   },
   {
    "duration": 7,
    "start_time": "2022-03-09T06:55:28.475Z"
   },
   {
    "duration": 7,
    "start_time": "2022-03-09T06:56:14.686Z"
   },
   {
    "duration": 10,
    "start_time": "2022-03-09T06:57:02.295Z"
   },
   {
    "duration": 4,
    "start_time": "2022-03-09T06:58:52.590Z"
   },
   {
    "duration": 7,
    "start_time": "2022-03-09T06:58:55.198Z"
   },
   {
    "duration": 205,
    "start_time": "2022-03-09T07:20:14.883Z"
   },
   {
    "duration": 63,
    "start_time": "2022-03-09T07:20:26.141Z"
   },
   {
    "duration": 175,
    "start_time": "2022-03-09T07:20:28.112Z"
   },
   {
    "duration": 5,
    "start_time": "2022-03-09T08:37:37.454Z"
   },
   {
    "duration": 5,
    "start_time": "2022-03-09T08:38:53.425Z"
   },
   {
    "duration": 5,
    "start_time": "2022-03-09T08:39:08.616Z"
   },
   {
    "duration": 8,
    "start_time": "2022-03-09T08:39:17.720Z"
   },
   {
    "duration": 8,
    "start_time": "2022-03-09T08:40:25.754Z"
   },
   {
    "duration": 4353,
    "start_time": "2022-03-09T08:49:29.008Z"
   },
   {
    "duration": 2540,
    "start_time": "2022-03-09T08:49:50.055Z"
   },
   {
    "duration": 941,
    "start_time": "2022-03-09T09:12:14.881Z"
   },
   {
    "duration": 734,
    "start_time": "2022-03-09T09:12:28.236Z"
   },
   {
    "duration": 753,
    "start_time": "2022-03-09T09:12:49.316Z"
   },
   {
    "duration": 16,
    "start_time": "2022-03-09T09:13:20.484Z"
   },
   {
    "duration": 11,
    "start_time": "2022-03-09T09:41:40.497Z"
   },
   {
    "duration": 4,
    "start_time": "2022-03-09T09:44:46.392Z"
   },
   {
    "duration": 15,
    "start_time": "2022-03-09T09:44:51.214Z"
   },
   {
    "duration": 11,
    "start_time": "2022-03-09T09:45:53.832Z"
   },
   {
    "duration": 54,
    "start_time": "2022-03-09T10:21:23.635Z"
   },
   {
    "duration": 12,
    "start_time": "2022-03-09T10:21:30.571Z"
   },
   {
    "duration": 4380,
    "start_time": "2022-03-09T10:21:37.292Z"
   },
   {
    "duration": 240,
    "start_time": "2022-03-09T10:21:41.434Z"
   },
   {
    "duration": 4408,
    "start_time": "2022-03-09T10:22:19.948Z"
   },
   {
    "duration": 13,
    "start_time": "2022-03-09T10:22:27.748Z"
   },
   {
    "duration": 12,
    "start_time": "2022-03-09T10:22:31.070Z"
   },
   {
    "duration": 57,
    "start_time": "2022-03-09T10:22:38.867Z"
   },
   {
    "duration": 3,
    "start_time": "2022-03-09T10:22:44.332Z"
   },
   {
    "duration": 13,
    "start_time": "2022-03-09T10:22:48.102Z"
   },
   {
    "duration": 11,
    "start_time": "2022-03-09T10:22:50.458Z"
   },
   {
    "duration": 4,
    "start_time": "2022-03-09T10:22:53.907Z"
   },
   {
    "duration": 10,
    "start_time": "2022-03-09T10:22:57.379Z"
   },
   {
    "duration": 5,
    "start_time": "2022-03-09T10:42:21.201Z"
   },
   {
    "duration": 4380,
    "start_time": "2022-03-09T10:58:00.068Z"
   },
   {
    "duration": 4330,
    "start_time": "2022-03-09T10:58:33.238Z"
   },
   {
    "duration": 4573,
    "start_time": "2022-03-09T10:58:41.550Z"
   },
   {
    "duration": 4669,
    "start_time": "2022-03-09T11:00:16.730Z"
   },
   {
    "duration": 311,
    "start_time": "2022-03-09T11:00:45.301Z"
   },
   {
    "duration": 188,
    "start_time": "2022-03-09T11:01:34.214Z"
   },
   {
    "duration": 12,
    "start_time": "2022-03-09T11:02:36.830Z"
   },
   {
    "duration": 12,
    "start_time": "2022-03-09T11:02:40.189Z"
   },
   {
    "duration": 20,
    "start_time": "2022-03-09T11:02:49.325Z"
   },
   {
    "duration": 19,
    "start_time": "2022-03-09T11:03:10.117Z"
   },
   {
    "duration": 21,
    "start_time": "2022-03-09T11:08:38.609Z"
   },
   {
    "duration": 18,
    "start_time": "2022-03-09T11:09:07.849Z"
   },
   {
    "duration": 4,
    "start_time": "2022-03-09T11:11:34.965Z"
   },
   {
    "duration": 108,
    "start_time": "2022-03-10T04:41:30.826Z"
   },
   {
    "duration": 343,
    "start_time": "2022-03-10T04:41:38.257Z"
   },
   {
    "duration": 361,
    "start_time": "2022-03-10T04:43:21.860Z"
   },
   {
    "duration": 292,
    "start_time": "2022-03-10T04:53:08.148Z"
   },
   {
    "duration": 279,
    "start_time": "2022-03-10T04:53:15.491Z"
   },
   {
    "duration": 891,
    "start_time": "2022-03-10T04:54:02.577Z"
   },
   {
    "duration": 5,
    "start_time": "2022-03-10T04:54:06.567Z"
   },
   {
    "duration": 18,
    "start_time": "2022-03-10T04:54:07.854Z"
   },
   {
    "duration": 15,
    "start_time": "2022-03-10T04:54:09.003Z"
   },
   {
    "duration": 6,
    "start_time": "2022-03-10T04:54:14.286Z"
   },
   {
    "duration": 19,
    "start_time": "2022-03-10T04:54:16.875Z"
   },
   {
    "duration": 28,
    "start_time": "2022-03-10T04:54:21.405Z"
   },
   {
    "duration": 6,
    "start_time": "2022-03-10T04:54:23.684Z"
   },
   {
    "duration": 739,
    "start_time": "2022-03-22T14:45:12.050Z"
   },
   {
    "duration": 3,
    "start_time": "2022-03-22T14:45:58.277Z"
   },
   {
    "duration": 352,
    "start_time": "2022-03-22T14:46:01.228Z"
   },
   {
    "duration": 87,
    "start_time": "2022-03-22T14:46:04.997Z"
   },
   {
    "duration": 47,
    "start_time": "2022-03-22T14:51:09.117Z"
   },
   {
    "duration": 75,
    "start_time": "2022-03-22T15:04:26.766Z"
   },
   {
    "duration": 22,
    "start_time": "2022-03-22T15:04:27.667Z"
   },
   {
    "duration": 24,
    "start_time": "2022-03-22T15:04:29.163Z"
   },
   {
    "duration": 66,
    "start_time": "2022-03-22T15:04:30.699Z"
   },
   {
    "duration": 6,
    "start_time": "2022-03-22T15:04:31.211Z"
   },
   {
    "duration": 15,
    "start_time": "2022-03-22T15:04:32.798Z"
   },
   {
    "duration": 34,
    "start_time": "2022-03-22T15:04:33.028Z"
   },
   {
    "duration": 18,
    "start_time": "2022-03-22T15:04:33.691Z"
   },
   {
    "duration": 6,
    "start_time": "2022-03-22T15:04:34.515Z"
   },
   {
    "duration": 36,
    "start_time": "2022-03-22T15:04:38.099Z"
   },
   {
    "duration": 58,
    "start_time": "2022-03-22T15:04:40.755Z"
   },
   {
    "duration": 17,
    "start_time": "2022-03-22T15:06:21.214Z"
   },
   {
    "duration": 18,
    "start_time": "2022-03-22T15:06:22.693Z"
   },
   {
    "duration": 8,
    "start_time": "2022-03-22T15:06:23.870Z"
   },
   {
    "duration": 15,
    "start_time": "2022-03-22T15:06:24.222Z"
   },
   {
    "duration": 31,
    "start_time": "2022-03-22T15:06:28.679Z"
   },
   {
    "duration": 15,
    "start_time": "2022-03-22T15:06:32.573Z"
   },
   {
    "duration": 30,
    "start_time": "2022-03-22T15:07:42.960Z"
   },
   {
    "duration": 14,
    "start_time": "2022-03-22T15:07:44.714Z"
   },
   {
    "duration": 9,
    "start_time": "2022-03-22T15:07:59.889Z"
   },
   {
    "duration": 763,
    "start_time": "2022-03-22T15:17:23.302Z"
   },
   {
    "duration": 0,
    "start_time": "2022-03-22T15:17:24.069Z"
   },
   {
    "duration": 0,
    "start_time": "2022-03-22T15:17:24.071Z"
   },
   {
    "duration": 0,
    "start_time": "2022-03-22T15:17:24.073Z"
   },
   {
    "duration": 0,
    "start_time": "2022-03-22T15:17:24.075Z"
   },
   {
    "duration": 0,
    "start_time": "2022-03-22T15:17:24.077Z"
   },
   {
    "duration": 0,
    "start_time": "2022-03-22T15:17:24.079Z"
   },
   {
    "duration": 0,
    "start_time": "2022-03-22T15:17:24.081Z"
   },
   {
    "duration": 0,
    "start_time": "2022-03-22T15:17:24.082Z"
   },
   {
    "duration": 0,
    "start_time": "2022-03-22T15:17:24.084Z"
   },
   {
    "duration": 0,
    "start_time": "2022-03-22T15:17:24.085Z"
   },
   {
    "duration": 0,
    "start_time": "2022-03-22T15:17:24.086Z"
   },
   {
    "duration": 0,
    "start_time": "2022-03-22T15:17:24.087Z"
   },
   {
    "duration": 0,
    "start_time": "2022-03-22T15:17:24.089Z"
   },
   {
    "duration": 0,
    "start_time": "2022-03-22T15:17:24.090Z"
   },
   {
    "duration": 0,
    "start_time": "2022-03-22T15:17:24.092Z"
   },
   {
    "duration": 0,
    "start_time": "2022-03-22T15:17:24.093Z"
   },
   {
    "duration": 0,
    "start_time": "2022-03-22T15:17:24.095Z"
   },
   {
    "duration": 0,
    "start_time": "2022-03-22T15:17:24.096Z"
   },
   {
    "duration": 0,
    "start_time": "2022-03-22T15:17:24.144Z"
   },
   {
    "duration": 0,
    "start_time": "2022-03-22T15:17:24.146Z"
   },
   {
    "duration": 0,
    "start_time": "2022-03-22T15:17:24.147Z"
   },
   {
    "duration": 0,
    "start_time": "2022-03-22T15:17:24.149Z"
   },
   {
    "duration": 0,
    "start_time": "2022-03-22T15:17:24.151Z"
   },
   {
    "duration": 81,
    "start_time": "2022-03-22T15:17:34.415Z"
   },
   {
    "duration": 22,
    "start_time": "2022-03-22T15:17:34.499Z"
   },
   {
    "duration": 48,
    "start_time": "2022-03-22T15:17:34.523Z"
   },
   {
    "duration": 97,
    "start_time": "2022-03-22T15:17:34.574Z"
   },
   {
    "duration": 5,
    "start_time": "2022-03-22T15:17:34.674Z"
   },
   {
    "duration": 15,
    "start_time": "2022-03-22T15:17:34.681Z"
   },
   {
    "duration": 68,
    "start_time": "2022-03-22T15:17:34.698Z"
   },
   {
    "duration": 18,
    "start_time": "2022-03-22T15:17:34.768Z"
   },
   {
    "duration": 7,
    "start_time": "2022-03-22T15:17:34.788Z"
   },
   {
    "duration": 72,
    "start_time": "2022-03-22T15:17:34.798Z"
   },
   {
    "duration": 74,
    "start_time": "2022-03-22T15:17:34.873Z"
   },
   {
    "duration": 16,
    "start_time": "2022-03-22T15:17:34.949Z"
   },
   {
    "duration": 16,
    "start_time": "2022-03-22T15:17:34.967Z"
   },
   {
    "duration": 7,
    "start_time": "2022-03-22T15:17:34.985Z"
   },
   {
    "duration": 63,
    "start_time": "2022-03-22T15:17:34.994Z"
   },
   {
    "duration": 31,
    "start_time": "2022-03-22T15:17:35.059Z"
   },
   {
    "duration": 51,
    "start_time": "2022-03-22T15:17:35.093Z"
   },
   {
    "duration": 31,
    "start_time": "2022-03-22T15:17:35.146Z"
   },
   {
    "duration": 13,
    "start_time": "2022-03-22T15:17:35.179Z"
   },
   {
    "duration": 75,
    "start_time": "2022-03-22T15:17:35.194Z"
   },
   {
    "duration": 32,
    "start_time": "2022-03-22T15:17:35.271Z"
   },
   {
    "duration": 60,
    "start_time": "2022-03-22T15:17:35.305Z"
   },
   {
    "duration": 31,
    "start_time": "2022-03-22T15:17:35.367Z"
   },
   {
    "duration": 598,
    "start_time": "2022-03-23T03:48:00.000Z"
   },
   {
    "duration": 18,
    "start_time": "2022-03-23T03:50:26.103Z"
   },
   {
    "duration": 14,
    "start_time": "2022-03-23T03:56:19.056Z"
   },
   {
    "duration": 4,
    "start_time": "2022-03-23T03:56:25.961Z"
   },
   {
    "duration": 3,
    "start_time": "2022-03-23T04:13:31.426Z"
   },
   {
    "duration": 17,
    "start_time": "2022-03-23T04:13:34.639Z"
   },
   {
    "duration": 31,
    "start_time": "2022-03-23T04:13:38.727Z"
   },
   {
    "duration": 11,
    "start_time": "2022-03-23T04:13:41.796Z"
   },
   {
    "duration": 11,
    "start_time": "2022-03-23T04:14:03.503Z"
   },
   {
    "duration": 5,
    "start_time": "2022-03-23T04:14:08.231Z"
   },
   {
    "duration": 67,
    "start_time": "2022-03-23T04:14:25.255Z"
   },
   {
    "duration": 2664,
    "start_time": "2022-03-23T04:14:34.495Z"
   },
   {
    "duration": 2,
    "start_time": "2022-03-23T04:14:39.834Z"
   },
   {
    "duration": 21,
    "start_time": "2022-03-23T04:14:41.630Z"
   },
   {
    "duration": 15,
    "start_time": "2022-03-23T04:14:43.463Z"
   },
   {
    "duration": 43,
    "start_time": "2022-03-23T04:14:45.638Z"
   },
   {
    "duration": 4,
    "start_time": "2022-03-23T04:14:46.814Z"
   },
   {
    "duration": 10,
    "start_time": "2022-03-23T04:14:49.760Z"
   },
   {
    "duration": 20,
    "start_time": "2022-03-23T04:14:51.254Z"
   },
   {
    "duration": 14,
    "start_time": "2022-03-23T04:14:54.974Z"
   },
   {
    "duration": 4,
    "start_time": "2022-03-23T04:14:57.615Z"
   },
   {
    "duration": 24,
    "start_time": "2022-03-23T04:15:01.726Z"
   },
   {
    "duration": 36,
    "start_time": "2022-03-23T04:15:04.494Z"
   },
   {
    "duration": 12,
    "start_time": "2022-03-23T04:15:08.031Z"
   },
   {
    "duration": 15,
    "start_time": "2022-03-23T04:15:09.894Z"
   },
   {
    "duration": 7,
    "start_time": "2022-03-23T04:15:11.526Z"
   },
   {
    "duration": 191,
    "start_time": "2022-03-23T04:15:12.926Z"
   },
   {
    "duration": 24,
    "start_time": "2022-03-23T04:15:15.855Z"
   },
   {
    "duration": 12,
    "start_time": "2022-03-23T04:15:17.614Z"
   },
   {
    "duration": 22,
    "start_time": "2022-03-23T04:15:20.430Z"
   },
   {
    "duration": 11,
    "start_time": "2022-03-23T04:15:22.167Z"
   },
   {
    "duration": 29,
    "start_time": "2022-03-23T04:15:26.502Z"
   },
   {
    "duration": 22,
    "start_time": "2022-03-23T04:15:38.591Z"
   },
   {
    "duration": 19,
    "start_time": "2022-03-23T04:15:43.342Z"
   },
   {
    "duration": 24,
    "start_time": "2022-03-23T04:15:48.270Z"
   },
   {
    "duration": 9,
    "start_time": "2022-03-23T04:26:20.528Z"
   },
   {
    "duration": 7,
    "start_time": "2022-03-23T04:26:51.997Z"
   },
   {
    "duration": 608,
    "start_time": "2022-03-23T04:27:35.081Z"
   },
   {
    "duration": 3,
    "start_time": "2022-03-23T04:27:35.691Z"
   },
   {
    "duration": 18,
    "start_time": "2022-03-23T04:27:35.696Z"
   },
   {
    "duration": 15,
    "start_time": "2022-03-23T04:27:35.716Z"
   },
   {
    "duration": 45,
    "start_time": "2022-03-23T04:27:35.733Z"
   },
   {
    "duration": 4,
    "start_time": "2022-03-23T04:27:35.800Z"
   },
   {
    "duration": 13,
    "start_time": "2022-03-23T04:27:35.806Z"
   },
   {
    "duration": 21,
    "start_time": "2022-03-23T04:27:35.820Z"
   },
   {
    "duration": 13,
    "start_time": "2022-03-23T04:27:35.842Z"
   },
   {
    "duration": 4,
    "start_time": "2022-03-23T04:27:35.857Z"
   },
   {
    "duration": 57,
    "start_time": "2022-03-23T04:27:35.862Z"
   },
   {
    "duration": 60,
    "start_time": "2022-03-23T04:27:35.921Z"
   },
   {
    "duration": 0,
    "start_time": "2022-03-23T04:27:36.001Z"
   },
   {
    "duration": 0,
    "start_time": "2022-03-23T04:27:36.003Z"
   },
   {
    "duration": 0,
    "start_time": "2022-03-23T04:27:36.004Z"
   },
   {
    "duration": 0,
    "start_time": "2022-03-23T04:27:36.005Z"
   },
   {
    "duration": 0,
    "start_time": "2022-03-23T04:27:36.006Z"
   },
   {
    "duration": 0,
    "start_time": "2022-03-23T04:27:36.007Z"
   },
   {
    "duration": 0,
    "start_time": "2022-03-23T04:27:36.008Z"
   },
   {
    "duration": 0,
    "start_time": "2022-03-23T04:27:36.009Z"
   },
   {
    "duration": 0,
    "start_time": "2022-03-23T04:27:36.010Z"
   },
   {
    "duration": 0,
    "start_time": "2022-03-23T04:27:36.011Z"
   },
   {
    "duration": 0,
    "start_time": "2022-03-23T04:27:36.012Z"
   },
   {
    "duration": 0,
    "start_time": "2022-03-23T04:27:36.014Z"
   },
   {
    "duration": 0,
    "start_time": "2022-03-23T04:27:36.014Z"
   },
   {
    "duration": 7,
    "start_time": "2022-03-23T04:28:07.289Z"
   },
   {
    "duration": 22,
    "start_time": "2022-03-23T04:30:04.295Z"
   },
   {
    "duration": 25,
    "start_time": "2022-03-23T04:31:26.447Z"
   },
   {
    "duration": 8,
    "start_time": "2022-03-23T04:35:17.448Z"
   },
   {
    "duration": 20,
    "start_time": "2022-03-23T04:35:28.070Z"
   },
   {
    "duration": 35,
    "start_time": "2022-03-23T04:38:05.983Z"
   },
   {
    "duration": 16,
    "start_time": "2022-03-23T04:38:51.431Z"
   },
   {
    "duration": 3577,
    "start_time": "2022-03-23T04:54:39.918Z"
   },
   {
    "duration": 602,
    "start_time": "2022-03-23T04:54:51.076Z"
   },
   {
    "duration": 3,
    "start_time": "2022-03-23T04:54:51.679Z"
   },
   {
    "duration": 32,
    "start_time": "2022-03-23T04:54:51.683Z"
   },
   {
    "duration": 20,
    "start_time": "2022-03-23T04:54:51.717Z"
   },
   {
    "duration": 52,
    "start_time": "2022-03-23T04:54:51.739Z"
   },
   {
    "duration": 9,
    "start_time": "2022-03-23T04:54:51.793Z"
   },
   {
    "duration": 19,
    "start_time": "2022-03-23T04:54:51.803Z"
   },
   {
    "duration": 40,
    "start_time": "2022-03-23T04:54:51.823Z"
   },
   {
    "duration": 14,
    "start_time": "2022-03-23T04:54:51.864Z"
   },
   {
    "duration": 10,
    "start_time": "2022-03-23T04:54:51.879Z"
   },
   {
    "duration": 48,
    "start_time": "2022-03-23T04:54:51.890Z"
   },
   {
    "duration": 35,
    "start_time": "2022-03-23T04:54:51.939Z"
   },
   {
    "duration": 10,
    "start_time": "2022-03-23T04:54:51.976Z"
   },
   {
    "duration": 18,
    "start_time": "2022-03-23T04:54:51.988Z"
   },
   {
    "duration": 19,
    "start_time": "2022-03-23T04:54:52.007Z"
   },
   {
    "duration": 25,
    "start_time": "2022-03-23T04:54:52.028Z"
   },
   {
    "duration": 28,
    "start_time": "2022-03-23T04:54:52.055Z"
   },
   {
    "duration": 23,
    "start_time": "2022-03-23T04:54:52.085Z"
   },
   {
    "duration": 34,
    "start_time": "2022-03-23T04:54:52.110Z"
   },
   {
    "duration": 9,
    "start_time": "2022-03-23T04:54:52.146Z"
   },
   {
    "duration": 38,
    "start_time": "2022-03-23T04:54:52.157Z"
   },
   {
    "duration": 3485,
    "start_time": "2022-03-23T04:54:52.196Z"
   },
   {
    "duration": 0,
    "start_time": "2022-03-23T04:54:55.683Z"
   },
   {
    "duration": 0,
    "start_time": "2022-03-23T04:54:55.685Z"
   },
   {
    "duration": 0,
    "start_time": "2022-03-23T04:54:55.686Z"
   },
   {
    "duration": 3311,
    "start_time": "2022-03-23T04:55:04.031Z"
   },
   {
    "duration": 18,
    "start_time": "2022-03-23T04:55:38.928Z"
   },
   {
    "duration": 186,
    "start_time": "2022-03-23T05:12:31.681Z"
   },
   {
    "duration": 13,
    "start_time": "2022-03-23T05:17:25.972Z"
   },
   {
    "duration": 594,
    "start_time": "2022-03-23T05:17:39.588Z"
   },
   {
    "duration": 2,
    "start_time": "2022-03-23T05:17:40.184Z"
   },
   {
    "duration": 17,
    "start_time": "2022-03-23T05:17:40.188Z"
   },
   {
    "duration": 16,
    "start_time": "2022-03-23T05:17:40.207Z"
   },
   {
    "duration": 49,
    "start_time": "2022-03-23T05:17:40.224Z"
   },
   {
    "duration": 28,
    "start_time": "2022-03-23T05:17:40.274Z"
   },
   {
    "duration": 12,
    "start_time": "2022-03-23T05:17:40.303Z"
   },
   {
    "duration": 20,
    "start_time": "2022-03-23T05:17:40.316Z"
   },
   {
    "duration": 12,
    "start_time": "2022-03-23T05:17:40.338Z"
   },
   {
    "duration": 4,
    "start_time": "2022-03-23T05:17:40.352Z"
   },
   {
    "duration": 54,
    "start_time": "2022-03-23T05:17:40.357Z"
   },
   {
    "duration": 36,
    "start_time": "2022-03-23T05:17:40.412Z"
   },
   {
    "duration": 11,
    "start_time": "2022-03-23T05:17:40.449Z"
   },
   {
    "duration": 11,
    "start_time": "2022-03-23T05:17:40.462Z"
   },
   {
    "duration": 30,
    "start_time": "2022-03-23T05:17:40.474Z"
   },
   {
    "duration": 12,
    "start_time": "2022-03-23T05:17:40.505Z"
   },
   {
    "duration": 21,
    "start_time": "2022-03-23T05:17:40.518Z"
   },
   {
    "duration": 9,
    "start_time": "2022-03-23T05:17:40.541Z"
   },
   {
    "duration": 18,
    "start_time": "2022-03-23T05:17:40.552Z"
   },
   {
    "duration": 35,
    "start_time": "2022-03-23T05:17:40.572Z"
   },
   {
    "duration": 25,
    "start_time": "2022-03-23T05:17:40.609Z"
   },
   {
    "duration": 19,
    "start_time": "2022-03-23T05:17:40.636Z"
   },
   {
    "duration": 58,
    "start_time": "2022-03-23T05:17:40.657Z"
   },
   {
    "duration": 19,
    "start_time": "2022-03-23T05:17:40.717Z"
   },
   {
    "duration": 21,
    "start_time": "2022-03-23T05:17:40.738Z"
   },
   {
    "duration": 64,
    "start_time": "2022-03-23T06:04:11.818Z"
   },
   {
    "duration": 5,
    "start_time": "2022-03-23T06:04:39.570Z"
   },
   {
    "duration": 8,
    "start_time": "2022-03-23T06:09:29.590Z"
   },
   {
    "duration": 12,
    "start_time": "2022-03-23T06:15:21.980Z"
   },
   {
    "duration": 22,
    "start_time": "2022-03-23T06:18:54.215Z"
   },
   {
    "duration": 20,
    "start_time": "2022-03-23T06:18:56.231Z"
   },
   {
    "duration": 41,
    "start_time": "2022-03-23T06:19:03.143Z"
   },
   {
    "duration": 21,
    "start_time": "2022-03-23T06:20:02.624Z"
   },
   {
    "duration": 20,
    "start_time": "2022-03-23T06:20:28.006Z"
   },
   {
    "duration": 251,
    "start_time": "2022-03-23T06:21:17.511Z"
   },
   {
    "duration": 19,
    "start_time": "2022-03-23T06:21:32.431Z"
   },
   {
    "duration": 226,
    "start_time": "2022-03-23T06:22:23.744Z"
   },
   {
    "duration": 522,
    "start_time": "2022-03-23T06:22:33.142Z"
   },
   {
    "duration": 3,
    "start_time": "2022-03-23T06:22:33.665Z"
   },
   {
    "duration": 16,
    "start_time": "2022-03-23T06:22:33.669Z"
   },
   {
    "duration": 24,
    "start_time": "2022-03-23T06:22:33.688Z"
   },
   {
    "duration": 47,
    "start_time": "2022-03-23T06:22:33.714Z"
   },
   {
    "duration": 4,
    "start_time": "2022-03-23T06:22:33.763Z"
   },
   {
    "duration": 34,
    "start_time": "2022-03-23T06:22:33.768Z"
   },
   {
    "duration": 21,
    "start_time": "2022-03-23T06:22:33.804Z"
   },
   {
    "duration": 13,
    "start_time": "2022-03-23T06:22:33.826Z"
   },
   {
    "duration": 3,
    "start_time": "2022-03-23T06:22:33.842Z"
   },
   {
    "duration": 27,
    "start_time": "2022-03-23T06:22:33.847Z"
   },
   {
    "duration": 59,
    "start_time": "2022-03-23T06:22:33.876Z"
   },
   {
    "duration": 11,
    "start_time": "2022-03-23T06:22:33.937Z"
   },
   {
    "duration": 11,
    "start_time": "2022-03-23T06:22:33.949Z"
   },
   {
    "duration": 5,
    "start_time": "2022-03-23T06:22:33.961Z"
   },
   {
    "duration": 38,
    "start_time": "2022-03-23T06:22:33.968Z"
   },
   {
    "duration": 18,
    "start_time": "2022-03-23T06:22:34.008Z"
   },
   {
    "duration": 9,
    "start_time": "2022-03-23T06:22:34.028Z"
   },
   {
    "duration": 18,
    "start_time": "2022-03-23T06:22:34.038Z"
   },
   {
    "duration": 9,
    "start_time": "2022-03-23T06:22:34.058Z"
   },
   {
    "duration": 184,
    "start_time": "2022-03-23T06:22:34.069Z"
   },
   {
    "duration": 0,
    "start_time": "2022-03-23T06:22:34.255Z"
   },
   {
    "duration": 0,
    "start_time": "2022-03-23T06:22:34.256Z"
   },
   {
    "duration": 0,
    "start_time": "2022-03-23T06:22:34.257Z"
   },
   {
    "duration": 0,
    "start_time": "2022-03-23T06:22:34.258Z"
   },
   {
    "duration": 0,
    "start_time": "2022-03-23T06:22:34.259Z"
   },
   {
    "duration": 16,
    "start_time": "2022-03-23T06:22:49.534Z"
   },
   {
    "duration": 2,
    "start_time": "2022-03-23T06:22:57.302Z"
   },
   {
    "duration": 7,
    "start_time": "2022-03-23T06:23:01.550Z"
   },
   {
    "duration": 5,
    "start_time": "2022-03-23T06:23:14.662Z"
   },
   {
    "duration": 63,
    "start_time": "2022-03-23T06:25:10.478Z"
   },
   {
    "duration": 5,
    "start_time": "2022-03-23T06:25:17.238Z"
   },
   {
    "duration": 8,
    "start_time": "2022-03-23T06:28:15.114Z"
   },
   {
    "duration": 33,
    "start_time": "2022-03-23T06:31:25.679Z"
   },
   {
    "duration": 34,
    "start_time": "2022-03-23T06:31:33.405Z"
   },
   {
    "duration": 2219,
    "start_time": "2022-03-23T06:31:47.149Z"
   },
   {
    "duration": 2138,
    "start_time": "2022-03-23T06:32:02.797Z"
   },
   {
    "duration": 6,
    "start_time": "2022-03-23T06:36:24.037Z"
   },
   {
    "duration": 6,
    "start_time": "2022-03-23T06:36:34.749Z"
   },
   {
    "duration": 7,
    "start_time": "2022-03-23T06:37:25.836Z"
   },
   {
    "duration": 7,
    "start_time": "2022-03-23T06:39:39.260Z"
   },
   {
    "duration": 10,
    "start_time": "2022-03-23T06:40:07.836Z"
   },
   {
    "duration": 6,
    "start_time": "2022-03-23T06:40:15.460Z"
   },
   {
    "duration": 6,
    "start_time": "2022-03-23T06:40:39.588Z"
   },
   {
    "duration": 5,
    "start_time": "2022-03-23T06:40:54.092Z"
   },
   {
    "duration": 6,
    "start_time": "2022-03-23T06:41:05.341Z"
   },
   {
    "duration": 1103,
    "start_time": "2022-03-23T06:41:49.115Z"
   },
   {
    "duration": 13,
    "start_time": "2022-03-23T06:42:20.373Z"
   },
   {
    "duration": 11,
    "start_time": "2022-03-23T06:58:56.194Z"
   },
   {
    "duration": 634,
    "start_time": "2022-03-23T08:50:46.299Z"
   },
   {
    "duration": 2,
    "start_time": "2022-03-23T08:50:46.935Z"
   },
   {
    "duration": 17,
    "start_time": "2022-03-23T08:50:46.938Z"
   },
   {
    "duration": 14,
    "start_time": "2022-03-23T08:50:46.957Z"
   },
   {
    "duration": 60,
    "start_time": "2022-03-23T08:50:46.973Z"
   },
   {
    "duration": 4,
    "start_time": "2022-03-23T08:50:47.035Z"
   },
   {
    "duration": 13,
    "start_time": "2022-03-23T08:50:47.041Z"
   },
   {
    "duration": 22,
    "start_time": "2022-03-23T08:50:47.056Z"
   },
   {
    "duration": 31,
    "start_time": "2022-03-23T08:50:47.080Z"
   },
   {
    "duration": 5,
    "start_time": "2022-03-23T08:50:47.113Z"
   },
   {
    "duration": 26,
    "start_time": "2022-03-23T08:50:47.119Z"
   },
   {
    "duration": 56,
    "start_time": "2022-03-23T08:50:47.147Z"
   },
   {
    "duration": 11,
    "start_time": "2022-03-23T08:50:47.205Z"
   },
   {
    "duration": 10,
    "start_time": "2022-03-23T08:50:47.219Z"
   },
   {
    "duration": 5,
    "start_time": "2022-03-23T08:50:47.231Z"
   },
   {
    "duration": 9,
    "start_time": "2022-03-23T08:50:47.238Z"
   },
   {
    "duration": 18,
    "start_time": "2022-03-23T08:50:47.248Z"
   },
   {
    "duration": 43,
    "start_time": "2022-03-23T08:50:47.267Z"
   },
   {
    "duration": 7,
    "start_time": "2022-03-23T08:50:47.312Z"
   },
   {
    "duration": 20,
    "start_time": "2022-03-23T08:50:47.321Z"
   },
   {
    "duration": 12,
    "start_time": "2022-03-23T08:50:47.343Z"
   },
   {
    "duration": 6,
    "start_time": "2022-03-23T08:50:47.357Z"
   },
   {
    "duration": 71,
    "start_time": "2022-03-23T08:50:47.365Z"
   },
   {
    "duration": 22,
    "start_time": "2022-03-23T08:50:47.438Z"
   },
   {
    "duration": 40,
    "start_time": "2022-03-23T08:50:47.462Z"
   },
   {
    "duration": 19,
    "start_time": "2022-03-23T08:50:47.504Z"
   },
   {
    "duration": 20,
    "start_time": "2022-03-23T08:50:47.525Z"
   },
   {
    "duration": 46,
    "start_time": "2022-03-23T14:29:17.679Z"
   },
   {
    "duration": 421,
    "start_time": "2022-03-23T14:29:27.125Z"
   },
   {
    "duration": 13,
    "start_time": "2022-03-23T14:29:31.350Z"
   },
   {
    "duration": 31,
    "start_time": "2022-03-23T14:29:53.916Z"
   },
   {
    "duration": 7,
    "start_time": "2022-03-23T14:29:57.963Z"
   },
   {
    "duration": 5,
    "start_time": "2022-03-23T14:30:02.093Z"
   },
   {
    "duration": 10,
    "start_time": "2022-03-23T14:30:14.115Z"
   },
   {
    "duration": 8,
    "start_time": "2022-03-23T14:30:23.627Z"
   },
   {
    "duration": 4,
    "start_time": "2022-03-23T14:30:29.275Z"
   },
   {
    "duration": 19,
    "start_time": "2022-03-23T14:30:36.354Z"
   },
   {
    "duration": 5,
    "start_time": "2022-03-23T14:30:46.227Z"
   },
   {
    "duration": 10,
    "start_time": "2022-03-23T14:30:51.674Z"
   },
   {
    "duration": 6,
    "start_time": "2022-03-23T14:31:27.944Z"
   },
   {
    "duration": 5,
    "start_time": "2022-03-23T14:31:35.415Z"
   },
   {
    "duration": 7,
    "start_time": "2022-03-23T14:31:36.191Z"
   },
   {
    "duration": 13,
    "start_time": "2022-03-23T14:31:53.567Z"
   },
   {
    "duration": 4,
    "start_time": "2022-03-23T14:31:57.975Z"
   },
   {
    "duration": 6,
    "start_time": "2022-03-23T14:32:05.158Z"
   },
   {
    "duration": 4,
    "start_time": "2022-03-23T14:33:19.779Z"
   },
   {
    "duration": 8,
    "start_time": "2022-03-23T14:33:22.211Z"
   },
   {
    "duration": 156,
    "start_time": "2022-03-23T14:34:24.207Z"
   },
   {
    "duration": 5,
    "start_time": "2022-03-23T14:34:30.510Z"
   },
   {
    "duration": 8,
    "start_time": "2022-03-23T14:34:32.166Z"
   },
   {
    "duration": 7,
    "start_time": "2022-03-23T14:34:59.597Z"
   },
   {
    "duration": 8,
    "start_time": "2022-03-23T14:35:04.613Z"
   },
   {
    "duration": 7,
    "start_time": "2022-03-23T14:35:08.501Z"
   },
   {
    "duration": 4,
    "start_time": "2022-03-23T14:35:27.013Z"
   },
   {
    "duration": 136,
    "start_time": "2022-03-23T14:35:27.772Z"
   },
   {
    "duration": 7,
    "start_time": "2022-03-23T14:35:29.780Z"
   },
   {
    "duration": 7,
    "start_time": "2022-03-23T14:35:51.595Z"
   },
   {
    "duration": 5,
    "start_time": "2022-03-23T14:36:01.698Z"
   },
   {
    "duration": 8,
    "start_time": "2022-03-23T14:36:03.594Z"
   },
   {
    "duration": 7,
    "start_time": "2022-03-23T14:36:05.633Z"
   },
   {
    "duration": 6,
    "start_time": "2022-03-23T14:36:44.224Z"
   },
   {
    "duration": 5,
    "start_time": "2022-03-23T14:37:24.551Z"
   },
   {
    "duration": 6,
    "start_time": "2022-03-23T14:37:30.486Z"
   },
   {
    "duration": 10,
    "start_time": "2022-03-23T14:38:02.228Z"
   },
   {
    "duration": 17,
    "start_time": "2022-03-23T14:38:14.406Z"
   },
   {
    "duration": 9,
    "start_time": "2022-03-23T14:38:22.091Z"
   },
   {
    "duration": 14,
    "start_time": "2022-03-23T14:38:40.114Z"
   },
   {
    "duration": 8,
    "start_time": "2022-03-23T14:38:46.121Z"
   },
   {
    "duration": 5,
    "start_time": "2022-03-23T14:38:56.042Z"
   },
   {
    "duration": 8,
    "start_time": "2022-03-23T14:38:56.953Z"
   },
   {
    "duration": 5,
    "start_time": "2022-03-23T14:39:11.521Z"
   },
   {
    "duration": 13,
    "start_time": "2022-03-23T14:39:27.059Z"
   },
   {
    "duration": 8,
    "start_time": "2022-03-23T14:39:27.631Z"
   },
   {
    "duration": 4,
    "start_time": "2022-03-23T14:39:40.727Z"
   },
   {
    "duration": 7,
    "start_time": "2022-03-23T14:39:41.711Z"
   },
   {
    "duration": 9,
    "start_time": "2022-03-23T14:39:53.095Z"
   },
   {
    "duration": 4,
    "start_time": "2022-03-23T14:40:19.652Z"
   },
   {
    "duration": 12,
    "start_time": "2022-03-23T14:40:20.381Z"
   },
   {
    "duration": 8,
    "start_time": "2022-03-23T14:40:21.700Z"
   },
   {
    "duration": 6,
    "start_time": "2022-03-23T14:41:48.913Z"
   },
   {
    "duration": 16,
    "start_time": "2022-03-23T14:43:24.252Z"
   },
   {
    "duration": 17,
    "start_time": "2022-03-23T14:44:53.153Z"
   },
   {
    "duration": 12,
    "start_time": "2022-03-23T14:45:03.920Z"
   },
   {
    "duration": 7,
    "start_time": "2022-03-23T14:45:07.863Z"
   },
   {
    "duration": 15,
    "start_time": "2022-03-23T14:45:24.360Z"
   },
   {
    "duration": 8,
    "start_time": "2022-03-23T14:45:24.990Z"
   },
   {
    "duration": 7,
    "start_time": "2022-03-23T14:45:47.678Z"
   },
   {
    "duration": 45,
    "start_time": "2022-03-24T03:51:32.359Z"
   },
   {
    "duration": 593,
    "start_time": "2022-03-24T03:51:41.475Z"
   },
   {
    "duration": 2,
    "start_time": "2022-03-24T03:51:42.070Z"
   },
   {
    "duration": 15,
    "start_time": "2022-03-24T03:51:42.073Z"
   },
   {
    "duration": 25,
    "start_time": "2022-03-24T03:51:42.089Z"
   },
   {
    "duration": 45,
    "start_time": "2022-03-24T03:51:42.116Z"
   },
   {
    "duration": 4,
    "start_time": "2022-03-24T03:51:42.162Z"
   },
   {
    "duration": 27,
    "start_time": "2022-03-24T03:51:42.168Z"
   },
   {
    "duration": 19,
    "start_time": "2022-03-24T03:51:42.201Z"
   },
   {
    "duration": 13,
    "start_time": "2022-03-24T03:51:42.222Z"
   },
   {
    "duration": 15,
    "start_time": "2022-03-24T03:51:42.236Z"
   },
   {
    "duration": 4,
    "start_time": "2022-03-24T03:51:42.253Z"
   },
   {
    "duration": 53,
    "start_time": "2022-03-24T03:51:42.258Z"
   },
   {
    "duration": 36,
    "start_time": "2022-03-24T03:51:42.312Z"
   },
   {
    "duration": 27,
    "start_time": "2022-03-24T03:51:42.351Z"
   },
   {
    "duration": 28,
    "start_time": "2022-03-24T03:51:42.379Z"
   },
   {
    "duration": 14,
    "start_time": "2022-03-24T03:51:42.409Z"
   },
   {
    "duration": 17,
    "start_time": "2022-03-24T03:51:42.425Z"
   },
   {
    "duration": 18,
    "start_time": "2022-03-24T03:51:42.444Z"
   },
   {
    "duration": 37,
    "start_time": "2022-03-24T03:51:42.464Z"
   },
   {
    "duration": 25,
    "start_time": "2022-03-24T03:51:42.502Z"
   },
   {
    "duration": 8,
    "start_time": "2022-03-24T03:51:42.528Z"
   },
   {
    "duration": 35,
    "start_time": "2022-03-24T03:51:42.538Z"
   },
   {
    "duration": 21,
    "start_time": "2022-03-24T03:51:42.574Z"
   },
   {
    "duration": 15,
    "start_time": "2022-03-24T03:51:42.597Z"
   },
   {
    "duration": 36,
    "start_time": "2022-03-24T03:51:42.614Z"
   },
   {
    "duration": 27,
    "start_time": "2022-03-24T03:51:42.652Z"
   },
   {
    "duration": 24,
    "start_time": "2022-03-24T03:51:42.681Z"
   },
   {
    "duration": 31,
    "start_time": "2022-03-24T03:51:42.706Z"
   },
   {
    "duration": 17,
    "start_time": "2022-03-24T03:51:42.739Z"
   },
   {
    "duration": 3042,
    "start_time": "2022-03-24T04:00:58.738Z"
   },
   {
    "duration": 4,
    "start_time": "2022-03-24T04:01:04.909Z"
   },
   {
    "duration": 2982,
    "start_time": "2022-03-24T04:01:07.857Z"
   },
   {
    "duration": 608,
    "start_time": "2022-03-24T04:01:21.790Z"
   },
   {
    "duration": 2,
    "start_time": "2022-03-24T04:01:22.400Z"
   },
   {
    "duration": 16,
    "start_time": "2022-03-24T04:01:22.404Z"
   },
   {
    "duration": 19,
    "start_time": "2022-03-24T04:01:22.421Z"
   },
   {
    "duration": 72,
    "start_time": "2022-03-24T04:01:22.441Z"
   },
   {
    "duration": 5,
    "start_time": "2022-03-24T04:01:22.515Z"
   },
   {
    "duration": 14,
    "start_time": "2022-03-24T04:01:22.522Z"
   },
   {
    "duration": 21,
    "start_time": "2022-03-24T04:01:22.537Z"
   },
   {
    "duration": 42,
    "start_time": "2022-03-24T04:01:22.560Z"
   },
   {
    "duration": 14,
    "start_time": "2022-03-24T04:01:22.606Z"
   },
   {
    "duration": 4,
    "start_time": "2022-03-24T04:01:22.622Z"
   },
   {
    "duration": 25,
    "start_time": "2022-03-24T04:01:22.627Z"
   },
   {
    "duration": 60,
    "start_time": "2022-03-24T04:01:22.654Z"
   },
   {
    "duration": 26,
    "start_time": "2022-03-24T04:01:22.715Z"
   },
   {
    "duration": 4,
    "start_time": "2022-03-24T04:01:22.742Z"
   },
   {
    "duration": 17,
    "start_time": "2022-03-24T04:01:22.747Z"
   },
   {
    "duration": 39,
    "start_time": "2022-03-24T04:01:22.765Z"
   },
   {
    "duration": 10,
    "start_time": "2022-03-24T04:01:22.806Z"
   },
   {
    "duration": 5,
    "start_time": "2022-03-24T04:01:22.818Z"
   },
   {
    "duration": 11,
    "start_time": "2022-03-24T04:01:22.825Z"
   },
   {
    "duration": 19,
    "start_time": "2022-03-24T04:01:22.838Z"
   },
   {
    "duration": 10,
    "start_time": "2022-03-24T04:01:22.858Z"
   },
   {
    "duration": 7,
    "start_time": "2022-03-24T04:01:22.901Z"
   },
   {
    "duration": 18,
    "start_time": "2022-03-24T04:01:22.910Z"
   },
   {
    "duration": 10,
    "start_time": "2022-03-24T04:01:22.930Z"
   },
   {
    "duration": 6,
    "start_time": "2022-03-24T04:01:22.942Z"
   },
   {
    "duration": 52,
    "start_time": "2022-03-24T04:01:22.950Z"
   },
   {
    "duration": 2,
    "start_time": "2022-03-24T04:01:23.006Z"
   },
   {
    "duration": 20,
    "start_time": "2022-03-24T04:01:23.010Z"
   },
   {
    "duration": 18,
    "start_time": "2022-03-24T04:01:23.031Z"
   },
   {
    "duration": 18,
    "start_time": "2022-03-24T04:01:23.050Z"
   },
   {
    "duration": 4,
    "start_time": "2022-03-24T04:07:28.652Z"
   },
   {
    "duration": 591,
    "start_time": "2022-03-24T04:07:59.261Z"
   },
   {
    "duration": 2,
    "start_time": "2022-03-24T04:07:59.854Z"
   },
   {
    "duration": 16,
    "start_time": "2022-03-24T04:07:59.858Z"
   },
   {
    "duration": 32,
    "start_time": "2022-03-24T04:07:59.875Z"
   },
   {
    "duration": 44,
    "start_time": "2022-03-24T04:07:59.909Z"
   },
   {
    "duration": 3,
    "start_time": "2022-03-24T04:07:59.955Z"
   },
   {
    "duration": 12,
    "start_time": "2022-03-24T04:07:59.960Z"
   },
   {
    "duration": 42,
    "start_time": "2022-03-24T04:07:59.973Z"
   },
   {
    "duration": 12,
    "start_time": "2022-03-24T04:08:00.017Z"
   },
   {
    "duration": 2,
    "start_time": "2022-03-24T04:08:00.031Z"
   },
   {
    "duration": 6,
    "start_time": "2022-03-24T04:08:00.034Z"
   },
   {
    "duration": 8,
    "start_time": "2022-03-24T04:08:00.041Z"
   },
   {
    "duration": 25,
    "start_time": "2022-03-24T04:08:00.050Z"
   },
   {
    "duration": 54,
    "start_time": "2022-03-24T04:08:00.078Z"
   },
   {
    "duration": 27,
    "start_time": "2022-03-24T04:08:00.134Z"
   },
   {
    "duration": 40,
    "start_time": "2022-03-24T04:08:00.162Z"
   },
   {
    "duration": 11,
    "start_time": "2022-03-24T04:08:00.204Z"
   },
   {
    "duration": 10,
    "start_time": "2022-03-24T04:08:00.217Z"
   },
   {
    "duration": 5,
    "start_time": "2022-03-24T04:08:00.228Z"
   },
   {
    "duration": 14,
    "start_time": "2022-03-24T04:08:00.235Z"
   },
   {
    "duration": 22,
    "start_time": "2022-03-24T04:08:00.251Z"
   },
   {
    "duration": 35,
    "start_time": "2022-03-24T04:08:00.274Z"
   },
   {
    "duration": 10,
    "start_time": "2022-03-24T04:08:00.310Z"
   },
   {
    "duration": 27,
    "start_time": "2022-03-24T04:08:00.322Z"
   },
   {
    "duration": 17,
    "start_time": "2022-03-24T04:08:00.350Z"
   },
   {
    "duration": 7,
    "start_time": "2022-03-24T04:08:00.368Z"
   },
   {
    "duration": 37,
    "start_time": "2022-03-24T04:08:00.377Z"
   },
   {
    "duration": 3,
    "start_time": "2022-03-24T04:08:00.415Z"
   },
   {
    "duration": 25,
    "start_time": "2022-03-24T04:08:00.419Z"
   },
   {
    "duration": 18,
    "start_time": "2022-03-24T04:08:00.445Z"
   },
   {
    "duration": 42,
    "start_time": "2022-03-24T04:08:00.465Z"
   },
   {
    "duration": 20,
    "start_time": "2022-03-24T04:15:30.471Z"
   },
   {
    "duration": 2,
    "start_time": "2022-03-24T04:18:54.598Z"
   }
  ],
  "kernelspec": {
   "display_name": "Python 3 (ipykernel)",
   "language": "python",
   "name": "python3"
  },
  "language_info": {
   "codemirror_mode": {
    "name": "ipython",
    "version": 3
   },
   "file_extension": ".py",
   "mimetype": "text/x-python",
   "name": "python",
   "nbconvert_exporter": "python",
   "pygments_lexer": "ipython3",
   "version": "3.9.7"
  },
  "toc": {
   "base_numbering": 1,
   "nav_menu": {},
   "number_sections": true,
   "sideBar": true,
   "skip_h1_title": true,
   "title_cell": "Table of Contents",
   "title_sidebar": "Contents",
   "toc_cell": false,
   "toc_position": {},
   "toc_section_display": true,
   "toc_window_display": false
  }
 },
 "nbformat": 4,
 "nbformat_minor": 5
}
